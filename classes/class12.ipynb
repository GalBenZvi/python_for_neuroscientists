{
 "cells": [
  {
   "cell_type": "markdown",
   "metadata": {},
   "source": [
    "# Class 12 - 8.6.20"
   ]
  },
  {
   "cell_type": "markdown",
   "metadata": {},
   "source": [
    "# Git and More Python Libraries"
   ]
  },
  {
   "cell_type": "markdown",
   "metadata": {},
   "source": [
    "## Git"
   ]
  },
  {
   "cell_type": "markdown",
   "metadata": {},
   "source": [
    "When we started using git, the basic intro I gave came down essentially to this:"
   ]
  },
  {
   "cell_type": "markdown",
   "metadata": {},
   "source": [
    "![Git, from xkcd 1597](extra_material/git.png)"
   ]
  },
  {
   "cell_type": "markdown",
   "metadata": {},
   "source": [
    "I did try to explain a little why we use it and how, but I essentially forced it upon you and made you memorize a few commands for it to work, and for your HW to be correctly submitted. Today we'll try to dive a bit deeper and understand the \"how\" of git. This is because git is an immensely useful tool for our type of work, and it will be even more useful when we start hacking together in a few weeks time. "
   ]
  },
  {
   "cell_type": "markdown",
   "metadata": {},
   "source": [
    "### Why git?"
   ]
  },
  {
   "cell_type": "markdown",
   "metadata": {},
   "source": [
    "Version controlling software lets us:\n",
    "1. Write and manage the history of our codebase.\n",
    "2. Work on changes for our code without modifying the currently working copy.\n",
    "3. Collaborate with others easily.\n",
    "\n",
    "Reason #1 is important enough as is, but the other two really makes git shine above the rest of the options out there, and it's also what made it so popular in the open source community."
   ]
  },
  {
   "cell_type": "markdown",
   "metadata": {},
   "source": [
    "There are a [variety](https://www.daolf.com/posts/git-series-part-1/) [of](https://missing.csail.mit.edu/2020/version-control/) [tutorials](https://rachelcarmena.github.io/2018/12/12/how-to-teach-git.html) [on](https://smusamashah.github.io/explain-git-in-simple-words) [git](https://git-scm.com/doc). Some are also [interactive](https://learngitbranching.js.org/). The one below is aimed at working with VSCode's integrated tools, and should also help you collaborate during the hackathon."
   ]
  },
  {
   "cell_type": "markdown",
   "metadata": {},
   "source": [
    "### The model"
   ]
  },
  {
   "cell_type": "markdown",
   "metadata": {},
   "source": [
    "![Git composition](extra_material/git_lifecycle.png)"
   ]
  },
  {
   "cell_type": "markdown",
   "metadata": {},
   "source": [
    "In a version-controlled project we have these three basic components:\n",
    "1. Repository - the name for the entire collection of version-controlled files. We can have a local repository, i.e. one in our computer, a remote one, i.e. one on the cloud (like GitHub provides) or both. A repository contains both the standard files we're working on, and a compressed copy of them inside the `.git` folder.\n",
    "2. Working tree - the name given for the current state of the version-controlled folder, which might defer from the version that was previously captured and recorded. When the working tree is \"clean\" it means that there's no such difference between the latest \"snapshot\" of the codebase, as resides inside the `.git` folder, and the copy currently visible to the user.\n",
    "3. Index - "
   ]
  }
 ],
 "metadata": {
  "kernelspec": {
   "display_name": "Python 3",
   "language": "python",
   "name": "python3"
  },
  "language_info": {
   "codemirror_mode": {
    "name": "ipython",
    "version": 3
   },
   "file_extension": ".py",
   "mimetype": "text/x-python",
   "name": "python",
   "nbconvert_exporter": "python",
   "pygments_lexer": "ipython3",
   "version": "3.7.3"
  }
 },
 "nbformat": 4,
 "nbformat_minor": 2
}
