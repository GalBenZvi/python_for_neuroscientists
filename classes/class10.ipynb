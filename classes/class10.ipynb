{
 "cells": [
  {
   "cell_type": "markdown",
   "metadata": {},
   "source": [
    "# Class 10 - 25.5.20"
   ]
  },
  {
   "cell_type": "markdown",
   "metadata": {},
   "source": [
    "# Advanced and Performant Python"
   ]
  },
  {
   "cell_type": "markdown",
   "metadata": {},
   "source": [
    "One of the best things about Python is how easy it is to get started with. The syntax is clear, it has all the basic features, things work as you expect them to, and life is generally pleasant. But Python also supports very advanced features, which make coding with Python an enjoyable experience even after you think you've learned everything there is to know of the language.\n",
    "\n",
    "While technically you can write good Python code without using these features - it's sometimes a real shame not to use them."
   ]
  },
  {
   "cell_type": "markdown",
   "metadata": {},
   "source": [
    "## Generators"
   ]
  },
  {
   "cell_type": "markdown",
   "metadata": {},
   "source": [
    "In a simple sense, perhaps simplistic, generators are iterators. Meaning, a generator is always an object you can iterate over. In Python you can iterate over most data structures, including dictionaries, lists, tuples and more - and so in this sense generators are similar. However, when we iterate over a list, for example, we're iterating over an existing data structures with existing items. Likewise for dictionaries - when we iterate over them, Python \"hands over\" the dictionary's keys and values."
   ]
  },
  {
   "cell_type": "code",
   "execution_count": 1,
   "metadata": {},
   "outputs": [
    {
     "name": "stdout",
     "output_type": "stream",
     "text": [
      "0\n",
      "10\n",
      "20\n"
     ]
    }
   ],
   "source": [
    "a_list = [0, 10, 20]\n",
    "for item in a_list:\n",
    "    print(item)"
   ]
  },
  {
   "cell_type": "code",
   "execution_count": 2,
   "metadata": {},
   "outputs": [
    {
     "name": "stdout",
     "output_type": "stream",
     "text": [
      "a 0\n",
      "b 10\n",
      "c 20\n"
     ]
    }
   ],
   "source": [
    "a_dict = dict(a=0, b=10, c=20)\n",
    "for key in a_dict:\n",
    "    print(key, a_dict[key])"
   ]
  },
  {
   "cell_type": "markdown",
   "metadata": {},
   "source": [
    "This is the first major difference between a generator and the other iterators. A generator is a _recipe_ to create the next item in the chain. A generator is a piece of code telling the Python interpreter how to create the next item, but it doesn't hold this item in memory yet. A simple example might be a list containing values from 0 to 1000. A generator of this list will not have 1000 cells with their values - it would have instructions on the number of cells, and how to calculate the next value."
   ]
  },
  {
   "cell_type": "markdown",
   "metadata": {},
   "source": [
    "We've already met a generator (well, kind of) - the `range()` function. When we tell Python to give us a range of number between 0 and 1000 by writing `range(1000)` - we're not actually generating the 1000 \"cells\" of values, but only the recipe. Let's see it in \"action\":"
   ]
  },
  {
   "cell_type": "code",
   "execution_count": 3,
   "metadata": {},
   "outputs": [
    {
     "data": {
      "text/plain": [
       "range(0, 1000)"
      ]
     },
     "execution_count": 3,
     "metadata": {},
     "output_type": "execute_result"
    }
   ],
   "source": [
    "range(1000)  # a \"range\" object"
   ]
  },
  {
   "cell_type": "code",
   "execution_count": 4,
   "metadata": {},
   "outputs": [
    {
     "data": {
      "text/plain": [
       "range(0, 1000)"
      ]
     },
     "execution_count": 4,
     "metadata": {},
     "output_type": "execute_result"
    }
   ],
   "source": [
    "items = range(1000)\n",
    "items"
   ]
  },
  {
   "cell_type": "code",
   "execution_count": 5,
   "metadata": {},
   "outputs": [
    {
     "data": {
      "text/plain": [
       "48"
      ]
     },
     "execution_count": 5,
     "metadata": {},
     "output_type": "execute_result"
    }
   ],
   "source": [
    "import sys\n",
    "sys.getsizeof(items)  # 48 bytes - not nearly enough to hold 1000 items"
   ]
  },
  {
   "cell_type": "markdown",
   "metadata": {},
   "source": [
    "A simple 1000-element list isn't that heavy for a computer (but what about Arduinos?), but when lists get longer, with bigger arrays and massive data structures inside them, it's very inefficient to hold this amount of unused data in memory. \n",
    "\n",
    "Let's define our own generator:"
   ]
  },
  {
   "cell_type": "code",
   "execution_count": 6,
   "metadata": {},
   "outputs": [],
   "source": [
    "def my_range(n):\n",
    "    \"\"\" Returns a list of items from 0 to n \"\"\"\n",
    "    num = 0\n",
    "    while num < n:\n",
    "        yield num\n",
    "        num += 1"
   ]
  },
  {
   "cell_type": "markdown",
   "metadata": {},
   "source": [
    "When we create a generator, the code is executed until the first `yield` statement. This reserved keyword is what makes a function into a generator.\n",
    "\n",
    "When the code reaches the `yield` it holds, or \"saves\" its current state, until called by Python's `next()` function:"
   ]
  },
  {
   "cell_type": "code",
   "execution_count": 7,
   "metadata": {},
   "outputs": [
    {
     "name": "stdout",
     "output_type": "stream",
     "text": [
      "0\n",
      "1\n",
      "2\n"
     ]
    },
    {
     "ename": "StopIteration",
     "evalue": "",
     "output_type": "error",
     "traceback": [
      "\u001b[0;31m---------------------------------------------------------------------------\u001b[0m",
      "\u001b[0;31mStopIteration\u001b[0m                             Traceback (most recent call last)",
      "\u001b[0;32m<ipython-input-7-dd54763376f1>\u001b[0m in \u001b[0;36m<module>\u001b[0;34m\u001b[0m\n\u001b[1;32m      7\u001b[0m \u001b[0mprint\u001b[0m\u001b[0;34m(\u001b[0m\u001b[0mnext\u001b[0m\u001b[0;34m(\u001b[0m\u001b[0mnew_range\u001b[0m\u001b[0;34m)\u001b[0m\u001b[0;34m)\u001b[0m\u001b[0;34m\u001b[0m\u001b[0;34m\u001b[0m\u001b[0m\n\u001b[1;32m      8\u001b[0m \u001b[0;34m\u001b[0m\u001b[0m\n\u001b[0;32m----> 9\u001b[0;31m \u001b[0mprint\u001b[0m\u001b[0;34m(\u001b[0m\u001b[0mnext\u001b[0m\u001b[0;34m(\u001b[0m\u001b[0mnew_range\u001b[0m\u001b[0;34m)\u001b[0m\u001b[0;34m)\u001b[0m\u001b[0;34m\u001b[0m\u001b[0;34m\u001b[0m\u001b[0m\n\u001b[0m",
      "\u001b[0;31mStopIteration\u001b[0m: "
     ]
    }
   ],
   "source": [
    "new_range = my_range(3)\n",
    "\n",
    "print(next(new_range))\n",
    "\n",
    "print(next(new_range))\n",
    "\n",
    "print(next(new_range))\n",
    "\n",
    "print(next(new_range))"
   ]
  },
  {
   "cell_type": "markdown",
   "metadata": {},
   "source": [
    "Each time `next()` is used, the line with the `yield` is executed, and the function keeps going until it reaches  another `yield` statement. In the `my_range` function, while the index is smaller than `n` the code will reach a `yield`. When we don't satisfy this condition anymore, the code skips the loop and reaches the end of the function. This results in a special `StopIteration` exception, used only in these special cases. This means you can catch this exception and know that your generator went through all of its items."
   ]
  },
  {
   "cell_type": "markdown",
   "metadata": {},
   "source": [
    "But calling `next()` multiple times isn't practical. Luckily, `for` loops implement this exact interface automatically, allowing us to use them instead of the tedious, repetitive `next()` calls:"
   ]
  },
  {
   "cell_type": "code",
   "execution_count": 16,
   "metadata": {},
   "outputs": [
    {
     "name": "stdout",
     "output_type": "stream",
     "text": [
      "0\n",
      "1\n",
      "2\n",
      "3\n",
      "4\n",
      "5\n",
      "6\n",
      "7\n",
      "8\n",
      "9\n"
     ]
    }
   ],
   "source": [
    "looprange = my_range(10)\n",
    "\n",
    "for item in looprange:\n",
    "    print(item)"
   ]
  },
  {
   "cell_type": "markdown",
   "metadata": {},
   "source": [
    "The `for` loop is also smart enough to catch the `StopIteration` exception and terminate the loop, without raising any \"visible\" exceptions. A `for` loop is the common way to iterate over generators.\n",
    "\n",
    "Generators don't allow much besides it. You can't print them exactly, or index into them:"
   ]
  },
  {
   "cell_type": "code",
   "execution_count": 17,
   "metadata": {},
   "outputs": [
    {
     "name": "stdout",
     "output_type": "stream",
     "text": [
      "<generator object my_range at 0x7fea60061cf0>\n"
     ]
    }
   ],
   "source": [
    "range2 = my_range(10)\n",
    "print(range2)"
   ]
  },
  {
   "cell_type": "code",
   "execution_count": 18,
   "metadata": {},
   "outputs": [
    {
     "ename": "TypeError",
     "evalue": "'generator' object is not subscriptable",
     "output_type": "error",
     "traceback": [
      "\u001b[0;31m---------------------------------------------------------------------------\u001b[0m",
      "\u001b[0;31mTypeError\u001b[0m                                 Traceback (most recent call last)",
      "\u001b[0;32m<ipython-input-18-8792b66651eb>\u001b[0m in \u001b[0;36m<module>\u001b[0;34m\u001b[0m\n\u001b[0;32m----> 1\u001b[0;31m \u001b[0mrange2\u001b[0m\u001b[0;34m[\u001b[0m\u001b[0;36m3\u001b[0m\u001b[0;34m]\u001b[0m\u001b[0;34m\u001b[0m\u001b[0;34m\u001b[0m\u001b[0m\n\u001b[0m",
      "\u001b[0;31mTypeError\u001b[0m: 'generator' object is not subscriptable"
     ]
    }
   ],
   "source": [
    "range2[3]"
   ]
  },
  {
   "cell_type": "markdown",
   "metadata": {},
   "source": [
    "Once used, generators are \"depleted\", you can't reuse them. This is a major difference between a generator and a list, for example - you're not limited by the number of times you can iterate over a list."
   ]
  },
  {
   "cell_type": "code",
   "execution_count": 98,
   "metadata": {},
   "outputs": [],
   "source": [
    "for item in looprange:\n",
    "    print(item)\n",
    "# Doesn't return anything, because we already depleted looprange"
   ]
  },
  {
   "cell_type": "code",
   "execution_count": 33,
   "metadata": {},
   "outputs": [
    {
     "ename": "StopIteration",
     "evalue": "",
     "output_type": "error",
     "traceback": [
      "\u001b[0;31m---------------------------------------------------------------------------\u001b[0m",
      "\u001b[0;31mStopIteration\u001b[0m                             Traceback (most recent call last)",
      "\u001b[0;32m<ipython-input-33-4ffc473673f5>\u001b[0m in \u001b[0;36m<module>\u001b[0;34m\u001b[0m\n\u001b[0;32m----> 1\u001b[0;31m \u001b[0mnext\u001b[0m\u001b[0;34m(\u001b[0m\u001b[0mlooprange\u001b[0m\u001b[0;34m)\u001b[0m  \u001b[0;31m# immediately raises StopIteration\u001b[0m\u001b[0;34m\u001b[0m\u001b[0;34m\u001b[0m\u001b[0m\n\u001b[0m",
      "\u001b[0;31mStopIteration\u001b[0m: "
     ]
    }
   ],
   "source": [
    "next(looprange)  # immediately raises StopIteration"
   ]
  },
  {
   "cell_type": "markdown",
   "metadata": {},
   "source": [
    "It's important to stress that all functions can become generators if they contain the `yield` statement:"
   ]
  },
  {
   "cell_type": "code",
   "execution_count": 55,
   "metadata": {},
   "outputs": [],
   "source": [
    "def println():\n",
    "    print(\"Hello, \")\n",
    "    yield True\n",
    "    print(\"World\")\n",
    "    yield False"
   ]
  },
  {
   "cell_type": "code",
   "execution_count": 56,
   "metadata": {},
   "outputs": [
    {
     "name": "stdout",
     "output_type": "stream",
     "text": [
      "Hello, \n",
      "True\n"
     ]
    }
   ],
   "source": [
    "gen2 = println()\n",
    "a = next(gen2)\n",
    "\n",
    "print(a)"
   ]
  },
  {
   "cell_type": "code",
   "execution_count": 57,
   "metadata": {},
   "outputs": [
    {
     "name": "stdout",
     "output_type": "stream",
     "text": [
      "World\n",
      "False\n"
     ]
    }
   ],
   "source": [
    "b = next(gen2)\n",
    "print(b)"
   ]
  },
  {
   "cell_type": "markdown",
   "metadata": {},
   "source": [
    "Another way to create generators is \"genexps\", or generator expressions, which are very similar to list comprehensions:"
   ]
  },
  {
   "cell_type": "code",
   "execution_count": 34,
   "metadata": {},
   "outputs": [
    {
     "data": {
      "text/plain": [
       "<generator object <genexpr> at 0x7fea20735de0>"
      ]
     },
     "execution_count": 34,
     "metadata": {},
     "output_type": "execute_result"
    }
   ],
   "source": [
    "nums = (\n",
    "    2 * n \n",
    "    for n in range(10)\n",
    "    )\n",
    "nums"
   ]
  },
  {
   "cell_type": "code",
   "execution_count": 35,
   "metadata": {},
   "outputs": [
    {
     "name": "stdout",
     "output_type": "stream",
     "text": [
      "0\n",
      "2\n",
      "4\n",
      "6\n",
      "8\n",
      "10\n",
      "12\n",
      "14\n",
      "16\n",
      "18\n"
     ]
    }
   ],
   "source": [
    "for num in nums:\n",
    "    print(num)"
   ]
  },
  {
   "cell_type": "markdown",
   "metadata": {},
   "source": [
    "The round brackets tell the interpreter that we're creating a generator here."
   ]
  },
  {
   "cell_type": "markdown",
   "metadata": {},
   "source": [
    "### Use cases"
   ]
  },
  {
   "cell_type": "markdown",
   "metadata": {},
   "source": [
    "When should we use generators? Many libraries use them almost uniquotously. For example `pathlib` uses them to iterate over the content of directories, since it's not \"cheap\" to get the full directory's content and then iterate over it, so `pathlib` uses a generator to yield the next item every time.\n",
    "\n",
    "Other libraries use them quite often, but in our line of business it's a bit less common.  However, in one of my projects I have a large 5D array which I need to create. This array can easily weigh more than 1 GB RAM when I'm dealing with longer experiments. That's why I decided to write a generator function that creates and populates this array, `yield`ing 4D substacks of it over time. It reduces memory usage by at least two orders of magnitude, and allows my code to run faster on home machines."
   ]
  },
  {
   "cell_type": "markdown",
   "metadata": {},
   "source": [
    "### Exercise\n",
    "Write a generator function, or a piece of code including a generator, returning the `n` first Fibonacci numbers. The Fibonacci sequence starts with `0, 1` and the following item is always the addition of the last two items."
   ]
  },
  {
   "cell_type": "markdown",
   "metadata": {},
   "source": [
    "### Exercise solution below..."
   ]
  },
  {
   "cell_type": "code",
   "execution_count": 36,
   "metadata": {},
   "outputs": [
    {
     "data": {
      "text/plain": [
       "[0, 1, 1, 2, 3, 5, 8, 13, 21, 34]"
      ]
     },
     "execution_count": 36,
     "metadata": {},
     "output_type": "execute_result"
    }
   ],
   "source": [
    "# Solution with a single function\n",
    "def fib(n):\n",
    "    \"\"\" Returns the first n Fibonacci numbers \"\"\"\n",
    "    a, b = 0, 1\n",
    "    idx = 0\n",
    "    while idx < n:\n",
    "        yield a\n",
    "        a, b = b, a + b\n",
    "        idx += 1\n",
    "\n",
    "ten = fib(10)\n",
    "list(ten)"
   ]
  },
  {
   "cell_type": "code",
   "execution_count": 37,
   "metadata": {},
   "outputs": [
    {
     "name": "stdout",
     "output_type": "stream",
     "text": [
      "0\n",
      "1\n",
      "1\n",
      "2\n",
      "3\n",
      "5\n",
      "8\n",
      "13\n",
      "21\n",
      "34\n"
     ]
    }
   ],
   "source": [
    "# Solution as a script\n",
    "def fibn():\n",
    "    \"\"\" Runs over all Fibonacci numbers \"\"\"\n",
    "    a, b = 0, 1\n",
    "    while True:\n",
    "        yield a\n",
    "        a, b = b, a + b\n",
    "        \n",
    "        \n",
    "gen = fibn()\n",
    "for i in range(10):\n",
    "    print(next(gen))"
   ]
  },
  {
   "cell_type": "markdown",
   "metadata": {},
   "source": [
    "The nice thing about this implementation is that it's infinite - it contains, and can generate all Fibonacci numbers. We could never do that with lists and regular functions."
   ]
  },
  {
   "cell_type": "markdown",
   "metadata": {},
   "source": [
    "## `*args`, `**kwargs`"
   ]
  },
  {
   "cell_type": "markdown",
   "metadata": {},
   "source": [
    "You use `*args` and `*kwargs` when you're not sure how many arguments are used for a function. Actually, the syntax is only `*` and `**` - the words `args` and `kwargs` are used by convention. `args` is obviously arguments, or unnamed arguments given to a function. `kwargs` is keyword arguments, or arguments given as `key=value`. Let's see a simple example:"
   ]
  },
  {
   "cell_type": "code",
   "execution_count": 59,
   "metadata": {},
   "outputs": [],
   "source": [
    "def f(required_argument, *args, **kwargs):\n",
    "    print(required_argument)\n",
    "    if args:\n",
    "        print(\"I found something in args!\")\n",
    "        print(args)\n",
    "    \n",
    "    if kwargs:\n",
    "        print(\"I found something in kwargs!\")\n",
    "        for key, value in kwargs.items():\n",
    "            print(key, value)"
   ]
  },
  {
   "cell_type": "code",
   "execution_count": 60,
   "metadata": {
    "scrolled": true
   },
   "outputs": [
    {
     "ename": "TypeError",
     "evalue": "f() missing 1 required positional argument: 'required_argument'",
     "output_type": "error",
     "traceback": [
      "\u001b[0;31m---------------------------------------------------------------------------\u001b[0m",
      "\u001b[0;31mTypeError\u001b[0m                                 Traceback (most recent call last)",
      "\u001b[0;32m<ipython-input-60-06d6587ee42e>\u001b[0m in \u001b[0;36m<module>\u001b[0;34m\u001b[0m\n\u001b[0;32m----> 1\u001b[0;31m \u001b[0mf\u001b[0m\u001b[0;34m(\u001b[0m\u001b[0;34m)\u001b[0m  \u001b[0;31m# doesn't work - we have one required argument to the function\u001b[0m\u001b[0;34m\u001b[0m\u001b[0;34m\u001b[0m\u001b[0m\n\u001b[0m",
      "\u001b[0;31mTypeError\u001b[0m: f() missing 1 required positional argument: 'required_argument'"
     ]
    }
   ],
   "source": [
    "f()  # doesn't work - we have one required argument to the function"
   ]
  },
  {
   "cell_type": "code",
   "execution_count": 61,
   "metadata": {},
   "outputs": [
    {
     "name": "stdout",
     "output_type": "stream",
     "text": [
      "required\n"
     ]
    }
   ],
   "source": [
    "f('required')"
   ]
  },
  {
   "cell_type": "code",
   "execution_count": 62,
   "metadata": {},
   "outputs": [
    {
     "name": "stdout",
     "output_type": "stream",
     "text": [
      "required\n",
      "I found something in args!\n",
      "(1, 2, 3)\n"
     ]
    }
   ],
   "source": [
    "f('required', 1, 2, 3)  # the second printed row is the args"
   ]
  },
  {
   "cell_type": "code",
   "execution_count": 63,
   "metadata": {},
   "outputs": [
    {
     "name": "stdout",
     "output_type": "stream",
     "text": [
      "required\n",
      "I found something in args!\n",
      "(1, 2, 3)\n",
      "I found something in kwargs!\n",
      "kw1 a\n",
      "kw2 b\n"
     ]
    }
   ],
   "source": [
    "f('required', 1, 2, 3, kw1='a', kw2='b')"
   ]
  },
  {
   "cell_type": "markdown",
   "metadata": {},
   "source": [
    "We see that `args` is a tuple containing all unnamed parameters that were given to the function, in the order they were given.\n",
    "\n",
    "`kwargs` is a dictionary, its keys being the keywords, and values - the given values. Here's another short example:"
   ]
  },
  {
   "cell_type": "code",
   "execution_count": 99,
   "metadata": {},
   "outputs": [
    {
     "name": "stdout",
     "output_type": "stream",
     "text": [
      "10 20\n",
      "1 2\n"
     ]
    }
   ],
   "source": [
    "def f(a=1, b=2):\n",
    "    print(a, b)\n",
    "\n",
    "inputs = {'a': 10, 'b': 20}\n",
    "f(**inputs)\n",
    "\n",
    "def f2(a, b):\n",
    "    print(a, b)\n",
    "\n",
    "my_inputs = (1, 2)\n",
    "f2(*my_inputs)"
   ]
  },
  {
   "cell_type": "markdown",
   "metadata": {},
   "source": [
    "What we see here is that the function's signature doesn't have to contain `*args` or `**kwargs`. The `**` operator \"opens up\" the input dictionary, allowing the `f()` function to use the parameters without any issues. "
   ]
  },
  {
   "cell_type": "markdown",
   "metadata": {},
   "source": [
    "## Decorators"
   ]
  },
  {
   "cell_type": "markdown",
   "metadata": {},
   "source": [
    "Decorators are functions that receive functions in their arguments. When you wrap an existing function with another function - you created a decorator. This feature is extensively used in web frameworks, pytest and in other important Python use cases, which means it has a special syntax: `@decorator`. Let's look at an example:"
   ]
  },
  {
   "cell_type": "markdown",
   "metadata": {},
   "source": [
    "Assume I have a large data-processing pipeline script, built out of many smaller functions, which unfortunately takes a long time to run. I wish to understand _why_ it's taking so long, so I decide to add a printed statement at the start and end of each function, so that I could see with my eyes where the code \"hangs\". This is how I implemented it:"
   ]
  },
  {
   "cell_type": "code",
   "execution_count": 65,
   "metadata": {},
   "outputs": [],
   "source": [
    "def main_pipeline(fname):\n",
    "    data = load_data(fname)\n",
    "    processed = process_data(data)\n",
    "    appended = append_data(processed)\n",
    "    logged = log_data(appended)\n",
    "\n",
    "def load_data(fname):\n",
    "    print(\"Starting 'load_data'...\")\n",
    "    # ... Code ...\n",
    "    print(\"Ending 'load_data'...\")\n",
    "\n",
    "def process_data(data):\n",
    "    print(\"Starting 'process_data'...\")\n",
    "    # ... Code ...\n",
    "    print(\"Ending 'process_data'...\")\n",
    "    \n",
    "# And so on..."
   ]
  },
  {
   "cell_type": "markdown",
   "metadata": {},
   "source": [
    "This is obviously very tedious. Even when I only have four functions, it's very repetitive and feels wrong. Moreover, it might have not solved my issue. My examination showed that all four functions take a considerable time to run, so I decide the profile the execution time of each function, to better understand which function is the most costly and optimize it first.\n",
    "\n",
    "Here's how I redefined all functions to measure their execution time:"
   ]
  },
  {
   "cell_type": "code",
   "execution_count": 66,
   "metadata": {},
   "outputs": [],
   "source": [
    "import time\n",
    "\n",
    "\n",
    "def load_data(fname):\n",
    "    print(\"Starting 'load_data'...\")\n",
    "    start_time = time.time()\n",
    "    # ... Code ...\n",
    "    print(f\"It took the code {time.time() - start_time} milliseconds to run.\")\n",
    "    print(\"Ending 'load_data'...\")\n",
    "\n",
    "    \n",
    "def process_data(data):\n",
    "    print(\"Starting 'process_data'...\")\n",
    "    start_time = time.time()\n",
    "    # ... Code ...\n",
    "    print(f\"It took the code {time.time() - start_time} milliseconds to run.\")\n",
    "    print(\"Ending 'process_data'...\")\n",
    "    \n",
    "# And so on..."
   ]
  },
  {
   "cell_type": "markdown",
   "metadata": {},
   "source": [
    "This works, but again - it's very repetitive. Also, if I decide that I want to see the execution time in seconds, and not milliseconds, I have to go through each function and re-implement it. Very tedious. \n",
    "\n",
    "The solutions is to _decorate_ the function with a `printer` and `timer` functions, that do this job exactly:"
   ]
  },
  {
   "cell_type": "code",
   "execution_count": 67,
   "metadata": {},
   "outputs": [],
   "source": [
    "def printer(func):\n",
    "    def inner_func(a, b):\n",
    "        print(f\"Starting {func.__name__}...\")\n",
    "        result = func(a, b)\n",
    "        print(f\"Ending {func.__name__}...\")\n",
    "        return result\n",
    "    return inner_func      \n",
    "\n",
    "\n",
    "def timer(func):\n",
    "    def inner_func(argument):\n",
    "        start_time = time.time()\n",
    "        result = func(argument)\n",
    "        print(f\"It tooks the code {time.time() - start_time} milliseconds to run.\")\n",
    "        return result\n",
    "    return inner_func"
   ]
  },
  {
   "cell_type": "markdown",
   "metadata": {},
   "source": [
    "This looks complex at first, but it's really pretty simple. It uses the fact that functions in Python are objects, like any other element in the language. And because they're objects, they can be passed around as arguments:"
   ]
  },
  {
   "cell_type": "code",
   "execution_count": 68,
   "metadata": {},
   "outputs": [
    {
     "name": "stdout",
     "output_type": "stream",
     "text": [
      "hello\n",
      "hi\n"
     ]
    }
   ],
   "source": [
    "def f(func):\n",
    "    \"\"\" Runs the func functions and prints 'hi' at the end \"\"\"\n",
    "    func()\n",
    "    print(\"hi\")\n",
    "    \n",
    "def print_hello():\n",
    "    print(\"hello\")\n",
    "    \n",
    "\n",
    "f(print_hello)"
   ]
  },
  {
   "cell_type": "markdown",
   "metadata": {},
   "source": [
    "Like all objects, functions have attributes. Namely, they have the `__name__` attribute which contains... their name."
   ]
  },
  {
   "cell_type": "code",
   "execution_count": 69,
   "metadata": {},
   "outputs": [
    {
     "name": "stdout",
     "output_type": "stream",
     "text": [
      "f\n",
      "print_hello\n"
     ]
    }
   ],
   "source": [
    "print(f.__name__)\n",
    "print(print_hello.__name__)"
   ]
  },
  {
   "cell_type": "markdown",
   "metadata": {},
   "source": [
    "Now we know we can pass functions as arguments to other functions. Let's try to examine the `printer` and `timer` functions again.\n",
    "\n",
    "They're both a function that receives a different, \"unknown\" function, as its argument. So far - so good. Then it defines another function which \"wraps\" the original function with some actions, like printing or timing. This inner function runs the original function and returns the result. In essence, it created a \"new implementation\" of that original function that does the exact same thing, but with the wrapping functionality (printing, timing, etc.). This new function (`inner_func`) can replace any instance of the original function without any troubles, since in essence it just calls it. It's adds a couple of statements before and after that call, but the essential functionality remained unchanged.\n",
    "\n",
    "Lastly, the outer function, which we call the decorator, returns the inner function as its return value. So this function receives a function as its argument and return a new, improved function as its output. To use it, we just \"rename\" the existing functions:"
   ]
  },
  {
   "cell_type": "code",
   "execution_count": 70,
   "metadata": {},
   "outputs": [],
   "source": [
    "load_data_printer = printer(load_data)\n",
    "load_data_timed = timer(load_data)\n",
    "\n",
    "process_data_printer = printer(process_data)\n",
    "process_data_timed = timer(process_data)"
   ]
  },
  {
   "cell_type": "markdown",
   "metadata": {},
   "source": [
    "We can obviously use this `timer` function on any function we wish to time. When we wish to time functions in seconds, rather than milliseconds, we'll just change this one instance of `timer` and be done with it, and likewise for `printer`."
   ]
  },
  {
   "cell_type": "markdown",
   "metadata": {},
   "source": [
    "The only small caveat here is the fact that we currently require the function we're replacing to have a single `argument` as its argument. This implementation detail is small but very impactful - it means that our decorator will only decorate successfully functions that have a single argument. To remedy this we'll have to use `*args` and `**kwargs`:"
   ]
  },
  {
   "cell_type": "code",
   "execution_count": 71,
   "metadata": {},
   "outputs": [],
   "source": [
    "def printer(func):\n",
    "    def inner_func(*args, **kwargs):\n",
    "        print(f\"Starting {func.__name__}...\")\n",
    "        result = func(*args, **kwargs)\n",
    "        print(f\"Ending {func.__name__}...\")\n",
    "        return result\n",
    "    return inner_func      \n",
    "\n",
    "\n",
    "def timer(func):\n",
    "    def inner_func(*args, **kwargs):\n",
    "        start_time = time.time()\n",
    "        result = func(*args, **kwargs)\n",
    "        print(f\"It tooks the code {time.time() - start_time} milliseconds to run.\")\n",
    "        return result\n",
    "    return inner_func"
   ]
  },
  {
   "cell_type": "markdown",
   "metadata": {},
   "source": [
    "We can now be sure that our functions will always run regardless the number of inputs given to them. This makes us happy - but not completely happy. We still have to redefine all functions as we've seen before:"
   ]
  },
  {
   "cell_type": "code",
   "execution_count": 72,
   "metadata": {},
   "outputs": [],
   "source": [
    "load_data_printer = printer(load_data)\n",
    "load_data_timed = timer(load_data)\n",
    "\n",
    "process_data_printer = printer(process_data)\n",
    "process_data_timed = timer(process_data)"
   ]
  },
  {
   "cell_type": "markdown",
   "metadata": {},
   "source": [
    "It still requires us to rename all instances of these functions in all places of the code, and when we're done with the printing and timing - we have to rename them back.\n",
    "\n",
    "Why not \"rename\" the function back to its original name?"
   ]
  },
  {
   "cell_type": "code",
   "execution_count": 73,
   "metadata": {},
   "outputs": [],
   "source": [
    "load_data = printer(load_data)\n",
    "process_data = timer(process_data)"
   ]
  },
  {
   "cell_type": "markdown",
   "metadata": {},
   "source": [
    "This idiom is common enough to have a built-in language syntax:"
   ]
  },
  {
   "cell_type": "code",
   "execution_count": 74,
   "metadata": {},
   "outputs": [],
   "source": [
    "@timer\n",
    "def load_data(fname):\n",
    "    # ... Code ...\n",
    "    pass\n",
    "\n",
    "load_data('fname.txt')\n",
    "load_data(fname='fname.txt')"
   ]
  },
  {
   "cell_type": "markdown",
   "metadata": {},
   "source": [
    "We can use multiple decorators for functions as well:"
   ]
  },
  {
   "cell_type": "code",
   "execution_count": 75,
   "metadata": {},
   "outputs": [],
   "source": [
    "@printer\n",
    "@timer\n",
    "def process_data(data, shape):\n",
    "    # ... Code ...\n",
    "    pass"
   ]
  },
  {
   "cell_type": "markdown",
   "metadata": {},
   "source": [
    "When we wish to stop printing and timing our function, we simply delete this decorator in the relevant places.\n",
    "\n",
    "Decorators allow more complex calls, like calling them with arguments, but we'll leave that topic for another day."
   ]
  },
  {
   "cell_type": "markdown",
   "metadata": {},
   "source": [
    "## `collections`, `itertools`"
   ]
  },
  {
   "cell_type": "markdown",
   "metadata": {},
   "source": [
    "The Python standard library comes with many second-order tools that can make your life much easier. Many of the more useful ones are located in these two libraries - `collections` and `itertools`. Below I'll provide a brief tour of some of the more interesting features of these libraries."
   ]
  },
  {
   "cell_type": "markdown",
   "metadata": {},
   "source": [
    "### namedtuple"
   ]
  },
  {
   "cell_type": "markdown",
   "metadata": {},
   "source": [
    "When you want a tiny object with named fields, but without the hassle of creating a fully-fledged class, you actually wish to generate a namedtuple:"
   ]
  },
  {
   "cell_type": "code",
   "execution_count": 76,
   "metadata": {},
   "outputs": [
    {
     "name": "stdout",
     "output_type": "stream",
     "text": [
      "Point(x=0, y=1)\n",
      "2\n",
      "0\n"
     ]
    }
   ],
   "source": [
    "from collections import namedtuple\n",
    "\n",
    "Point = namedtuple('Point', ['x', 'y'])\n",
    "p1 = Point(0, 0)\n",
    "p2 = Point(x=0, y=1)\n",
    "p3 = Point(1, y=2)\n",
    "\n",
    "print(p2)\n",
    "print(p3.y)\n",
    "print(p1[0])"
   ]
  },
  {
   "cell_type": "markdown",
   "metadata": {},
   "source": [
    "You can access the data inside a `namedtuple` using either the positional index (`[0]`) or the name of that field (`x`). If all you wish to do is to a keep a small record of something, `namedtuple` is your best option."
   ]
  },
  {
   "cell_type": "markdown",
   "metadata": {},
   "source": [
    "### defaultdict"
   ]
  },
  {
   "cell_type": "markdown",
   "metadata": {},
   "source": [
    "A `defaultdict` is a dictionary that resorts to execute a predefined function if it doesn't find the key. For example:"
   ]
  },
  {
   "cell_type": "code",
   "execution_count": 77,
   "metadata": {},
   "outputs": [
    {
     "name": "stdout",
     "output_type": "stream",
     "text": [
      "1\n"
     ]
    },
    {
     "ename": "KeyError",
     "evalue": "'three'",
     "output_type": "error",
     "traceback": [
      "\u001b[0;31m---------------------------------------------------------------------------\u001b[0m",
      "\u001b[0;31mKeyError\u001b[0m                                  Traceback (most recent call last)",
      "\u001b[0;32m<ipython-input-77-d27b12743133>\u001b[0m in \u001b[0;36m<module>\u001b[0;34m\u001b[0m\n\u001b[1;32m      1\u001b[0m \u001b[0md\u001b[0m \u001b[0;34m=\u001b[0m \u001b[0mdict\u001b[0m\u001b[0;34m(\u001b[0m\u001b[0mone\u001b[0m\u001b[0;34m=\u001b[0m\u001b[0;36m1\u001b[0m\u001b[0;34m,\u001b[0m \u001b[0mtwo\u001b[0m\u001b[0;34m=\u001b[0m\u001b[0;36m2\u001b[0m\u001b[0;34m)\u001b[0m\u001b[0;34m\u001b[0m\u001b[0;34m\u001b[0m\u001b[0m\n\u001b[1;32m      2\u001b[0m \u001b[0mprint\u001b[0m\u001b[0;34m(\u001b[0m\u001b[0md\u001b[0m\u001b[0;34m[\u001b[0m\u001b[0;34m'one'\u001b[0m\u001b[0;34m]\u001b[0m\u001b[0;34m)\u001b[0m\u001b[0;34m\u001b[0m\u001b[0;34m\u001b[0m\u001b[0m\n\u001b[0;32m----> 3\u001b[0;31m \u001b[0mprint\u001b[0m\u001b[0;34m(\u001b[0m\u001b[0md\u001b[0m\u001b[0;34m[\u001b[0m\u001b[0;34m'three'\u001b[0m\u001b[0;34m]\u001b[0m\u001b[0;34m)\u001b[0m\u001b[0;34m\u001b[0m\u001b[0;34m\u001b[0m\u001b[0m\n\u001b[0m",
      "\u001b[0;31mKeyError\u001b[0m: 'three'"
     ]
    }
   ],
   "source": [
    "d = dict(one=1, two=2)\n",
    "print(d['one'])\n",
    "print(d['three'])"
   ]
  },
  {
   "cell_type": "markdown",
   "metadata": {},
   "source": [
    "Rather than a `KeyError`, a `defaultdict` would run a predefined function instead of raising this exception:"
   ]
  },
  {
   "cell_type": "code",
   "execution_count": 78,
   "metadata": {},
   "outputs": [
    {
     "name": "stdout",
     "output_type": "stream",
     "text": [
      "1\n"
     ]
    }
   ],
   "source": [
    "from collections import defaultdict\n",
    "d2 = defaultdict(list, one=1, two=2)\n",
    "print(d2['one'])"
   ]
  },
  {
   "cell_type": "markdown",
   "metadata": {},
   "source": [
    "However, when we call it with an unknown key:"
   ]
  },
  {
   "cell_type": "code",
   "execution_count": 79,
   "metadata": {},
   "outputs": [
    {
     "data": {
      "text/plain": [
       "defaultdict(list, {'one': 1, 'two': 2, 'three': []})"
      ]
     },
     "execution_count": 79,
     "metadata": {},
     "output_type": "execute_result"
    }
   ],
   "source": [
    "d2['three']\n",
    "d2"
   ]
  },
  {
   "cell_type": "markdown",
   "metadata": {},
   "source": [
    "It used the `list` \"factory\" to create a new list in that key. This is useful when sorting some key-value pairs."
   ]
  },
  {
   "cell_type": "code",
   "execution_count": 80,
   "metadata": {},
   "outputs": [
    {
     "data": {
      "text/plain": [
       "defaultdict(list, {'yellow': [1, 3], 'blue': [2, 4], 'red': [1]})"
      ]
     },
     "execution_count": 80,
     "metadata": {},
     "output_type": "execute_result"
    }
   ],
   "source": [
    "s = [('yellow', 1), ('blue', 2), ('yellow', 3), ('blue', 4), ('red', 1)]\n",
    "d2 = defaultdict(list)\n",
    "for k, v in s:\n",
    "    d2[k].append(v)\n",
    "\n",
    "d2"
   ]
  },
  {
   "cell_type": "markdown",
   "metadata": {},
   "source": [
    "## Itertools"
   ]
  },
  {
   "cell_type": "markdown",
   "metadata": {},
   "source": [
    "### Chained iterables"
   ]
  },
  {
   "cell_type": "markdown",
   "metadata": {},
   "source": [
    "If we wish to iterate over several iterables together, we can use the following method from the `itertools` module:"
   ]
  },
  {
   "cell_type": "code",
   "execution_count": 81,
   "metadata": {},
   "outputs": [
    {
     "name": "stdout",
     "output_type": "stream",
     "text": [
      "a\n",
      "b\n",
      "c\n",
      "d\n",
      "e\n",
      "f\n",
      "g\n",
      "-----\n",
      "[1, 2, 3, 4]\n",
      "[5, 6, 7, 8]\n"
     ]
    }
   ],
   "source": [
    "import itertools\n",
    "\n",
    "chained = itertools.chain('abcd', 'efg')\n",
    "for letter in chained:\n",
    "    print(letter)\n",
    "\n",
    "print('-----')\n",
    "# Naive iteration over [[1, 2, 3, 4], [5, 6, 7, 8]] would result in two items - \n",
    "# two lists with four elements each:\n",
    "for item in [[1, 2, 3, 4], [5, 6, 7, 8]]:\n",
    "    print(item)"
   ]
  },
  {
   "cell_type": "code",
   "execution_count": 82,
   "metadata": {
    "scrolled": false
   },
   "outputs": [
    {
     "name": "stdout",
     "output_type": "stream",
     "text": [
      "1\n",
      "2\n",
      "3\n",
      "4\n",
      "5\n",
      "6\n",
      "7\n",
      "8\n"
     ]
    }
   ],
   "source": [
    "# We wish to iterate over the number themselves\n",
    "chained2 = itertools.chain.from_iterable([[1, 2, 3, 4], [5, 6, 7, 8]])\n",
    "for letter in chained2:\n",
    "    print(letter)"
   ]
  },
  {
   "cell_type": "markdown",
   "metadata": {},
   "source": [
    "Note that `itertools` always creates generators from the items it receives as input."
   ]
  },
  {
   "cell_type": "markdown",
   "metadata": {},
   "source": [
    "### Permutations"
   ]
  },
  {
   "cell_type": "code",
   "execution_count": 83,
   "metadata": {},
   "outputs": [
    {
     "data": {
      "text/plain": [
       "[('A', 'B'),\n",
       " ('A', 'C'),\n",
       " ('A', 'D'),\n",
       " ('B', 'A'),\n",
       " ('B', 'C'),\n",
       " ('B', 'D'),\n",
       " ('C', 'A'),\n",
       " ('C', 'B'),\n",
       " ('C', 'D'),\n",
       " ('D', 'A'),\n",
       " ('D', 'B'),\n",
       " ('D', 'C')]"
      ]
     },
     "execution_count": 83,
     "metadata": {},
     "output_type": "execute_result"
    }
   ],
   "source": [
    "list(itertools.permutations('ABCD', 2))"
   ]
  },
  {
   "cell_type": "markdown",
   "metadata": {},
   "source": [
    "### Combinations"
   ]
  },
  {
   "cell_type": "code",
   "execution_count": 84,
   "metadata": {
    "scrolled": true
   },
   "outputs": [
    {
     "data": {
      "text/plain": [
       "[('A', 'B'), ('A', 'C'), ('A', 'D'), ('B', 'C'), ('B', 'D'), ('C', 'D')]"
      ]
     },
     "execution_count": 84,
     "metadata": {},
     "output_type": "execute_result"
    }
   ],
   "source": [
    "list(itertools.combinations('ABCD', 2))"
   ]
  },
  {
   "cell_type": "markdown",
   "metadata": {},
   "source": [
    "If you're looking for more advanced iteration recipes, like chunking, running windows and more, take a look at [more-itertools](https://pypi.org/project/more-itertools/) package."
   ]
  },
  {
   "cell_type": "markdown",
   "metadata": {},
   "source": [
    "## Multiprocessing"
   ]
  },
  {
   "cell_type": "markdown",
   "metadata": {},
   "source": [
    "There are several ways to utilize parallel processing in Python. The easiest of all is multi-processing, i.e. the use of several CPU cores to run jobs in parallel. This is best used when each process is independent from the others, not having to share data between them. \n",
    "\n",
    "A typical use case is when we have a list holding data, or filenames to where the data is, and we wish to perform the same computation on each element of that list. If this computation is truly independent, the `multiprocessing` module has some very easy-to-use solutions."
   ]
  },
  {
   "cell_type": "markdown",
   "metadata": {},
   "source": [
    "```python\n",
    "import multiprocessing\n",
    "\n",
    "def add_tuple(tup):\n",
    "    return tup[0] + tup[1]\n",
    "\n",
    "tups = [(0, 1), (2, 3), (4, 5), (6, 7)]\n",
    "with multiprocessing.Pool() as pool:  # can also enter the number of processes you wish to use\n",
    "    result = pool.map(add_tuple, tups)\n",
    "result  # [1, 5, 9, 13]\n",
    "```"
   ]
  },
  {
   "cell_type": "markdown",
   "metadata": {},
   "source": [
    "The code above doesn't work in IPython and Jupyter due to some weird conflicts. Luckily, `ipyparallel` is an even better library which does the exact same thing and works everywhere.\n",
    "\n",
    "The Python script `multiprocess.py` located in the `extra_material` folder contains a working copy of this script."
   ]
  },
  {
   "cell_type": "markdown",
   "metadata": {},
   "source": [
    "Threading is Python's weak point because of the GIL, and we'll not discuss it in this class. Another form of parallel processing is asynchronous programming, which we'll also not cover, but is actually one of Python's strongest points."
   ]
  },
  {
   "cell_type": "markdown",
   "metadata": {},
   "source": [
    "## Numba"
   ]
  },
  {
   "cell_type": "markdown",
   "metadata": {},
   "source": [
    "`numba` is a special library designed to speed-up Python's computation. In many cases it's comparable to `numpy` in terms of use cases, but it might be simpler for people without previous experience with arrays. We'll jump right into an example and then discuss some of the magic:"
   ]
  },
  {
   "cell_type": "code",
   "execution_count": 85,
   "metadata": {},
   "outputs": [],
   "source": [
    "from numba import jit\n",
    "import numpy as np\n",
    "\n",
    "\n",
    "@jit\n",
    "def sum2d(arr):\n",
    "    M, N = arr.shape\n",
    "    result = 0.0\n",
    "    for i in range(M):\n",
    "        for j in range(N):\n",
    "            result += arr[i,j]\n",
    "    return result"
   ]
  },
  {
   "cell_type": "code",
   "execution_count": 86,
   "metadata": {},
   "outputs": [
    {
     "name": "stdout",
     "output_type": "stream",
     "text": [
      "Numba:\n",
      "144 ms ± 2.28 ms per loop (mean ± std. dev. of 7 runs, 1 loop each)\n",
      "Numpy:\n",
      "90.5 ms ± 15.3 ms per loop (mean ± std. dev. of 7 runs, 10 loops each)\n"
     ]
    }
   ],
   "source": [
    "arr = np.ones((10000, 10000))\n",
    "\n",
    "print(\"Numba:\")\n",
    "%timeit sum2d(arr)\n",
    "print(\"Numpy:\")\n",
    "%timeit arr.sum()"
   ]
  },
  {
   "cell_type": "markdown",
   "metadata": {},
   "source": [
    "The results up there are, for lack of a better word, amazing. Numpy has been optimized for ages, works in bare C, and still only offers a mild improvement over `numba`, which seemingly just decorates a simple, perhaps _simplistic_, Python loop, making it amazingly fast.\n",
    "\n",
    "This magic happens with LLVM, an open-source project that aims at building a very fast, cross-language compiler. `numba` translates the code to LLVM-suitable code and lets LLVM optimize this code for it. The output is machine code which is fed into the processor directly, and somehow it's faster than all other solutions."
   ]
  },
  {
   "cell_type": "markdown",
   "metadata": {},
   "source": [
    "Numba has more tricks in its sleeve. You can define the input types to squeeze it a bit more:"
   ]
  },
  {
   "cell_type": "code",
   "execution_count": 87,
   "metadata": {},
   "outputs": [],
   "source": [
    "from numba import jit, float64\n",
    "import numpy as np\n",
    "\n",
    "\n",
    "@jit(float64(float64[:, :]), nopython=True)\n",
    "def sum2d_inps(arr):\n",
    "    M, N = arr.shape\n",
    "    result = np.float64(0.0)\n",
    "    for i in range(M):\n",
    "        for j in range(N):\n",
    "            result += arr[i,j]\n",
    "    return result"
   ]
  },
  {
   "cell_type": "code",
   "execution_count": 107,
   "metadata": {},
   "outputs": [
    {
     "name": "stdout",
     "output_type": "stream",
     "text": [
      "Numpy:\n",
      "99.4 ms ± 3.79 ms per loop (mean ± std. dev. of 7 runs, 10 loops each)\n",
      "Numba\n",
      "157 ms ± 3.49 ms per loop (mean ± std. dev. of 7 runs, 10 loops each)\n"
     ]
    }
   ],
   "source": [
    "print(\"Numpy:\")\n",
    "%timeit arr.sum()\n",
    "print(\"Numba\")\n",
    "%timeit sum2d_inps(arr)\n"
   ]
  },
  {
   "cell_type": "markdown",
   "metadata": {},
   "source": [
    "We can also use parallel looping:"
   ]
  },
  {
   "cell_type": "code",
   "execution_count": 105,
   "metadata": {},
   "outputs": [],
   "source": [
    "from numba import jit, prange\n",
    "import numpy as np\n",
    "\n",
    "\n",
    "@jit([float64(float64[:, :])], parallel=True)\n",
    "def sum2d_p(arr):\n",
    "    M, N = arr.shape\n",
    "    result = np.float64(0.0)\n",
    "    for i in prange(M):\n",
    "        for j in prange(N):\n",
    "            result += arr[i,j]\n",
    "    return result"
   ]
  },
  {
   "cell_type": "code",
   "execution_count": 106,
   "metadata": {},
   "outputs": [
    {
     "name": "stdout",
     "output_type": "stream",
     "text": [
      "96.3 ms ± 5.21 ms per loop (mean ± std. dev. of 7 runs, 10 loops each)\n"
     ]
    }
   ],
   "source": [
    "%timeit sum2d_p(arr)  # pretty cool"
   ]
  },
  {
   "cell_type": "markdown",
   "metadata": {},
   "source": [
    "When every bit of performance matters - `numba` might be the way to go. For very complicated functions that use fancy linear algebra algorithms, it might be the case that `numba` doesn't support these methods yet. In these occasions resort to basic `numpy` functions and wait till the `numba` developers implement that method - or do so yourself! `numba` is completely open-sourced."
   ]
  },
  {
   "cell_type": "markdown",
   "metadata": {},
   "source": [
    "## Cython"
   ]
  },
  {
   "cell_type": "markdown",
   "metadata": {},
   "source": [
    "When you wish to write performant code that utilizes significant parts of the standard library, as well as `numpy` and the scientific stack - niether `numpy` nor `numba` will help you. They require that you work with arrays, which are not as easy to work with as lists, for example. Dictionaries are also very helpful, but using them only with the standard Python interpreter will hinder you performance considerably.\n",
    "\n",
    "These are the cases where Cython shines. It allows you to write code with Python-like syntax and compile it ahead-of-time to a `myfile.c` source file, written in `C` automatically. When your code calls a function that was written in Cython, it will actually turn to the optimized `C` function and use that function instead."
   ]
  },
  {
   "cell_type": "markdown",
   "metadata": {},
   "source": [
    "As stated, Cython requires you to compile your code before running the parent Python script. To do that, you have to create a `setup.py` file that tells the Cython compiler where to find the files in question.\n",
    "\n",
    "A Cython file ends with `X.pyx`, so `setup.py` should point there. Here's a basic example of `setup.py`:"
   ]
  },
  {
   "cell_type": "markdown",
   "metadata": {},
   "source": [
    "```python\n",
    "from distutils.core import setup\n",
    "from Cython.Build import cythonize\n",
    "\n",
    "setup(\n",
    "    ext_modules = cythonize('my_file.pyx'),\n",
    "    # other setup.py options come here\n",
    ")\n",
    "```\n",
    "\n",
    "Then you navigate with your command line to the folder containing `setup.py` and write `python setup.py build_ext --inplace`, which tells Cython to \"build\", i.e. compile, the code in the `.pyx` file and add it `inplace`, i.e. to this directory.\n",
    "\n",
    "An example can be found in the `cython_demo` folder. Let's see it here in action:"
   ]
  },
  {
   "cell_type": "code",
   "execution_count": 1,
   "metadata": {
    "scrolled": true
   },
   "outputs": [],
   "source": [
    "from cython_demo import plain_python\n",
    "from cython_demo import primes_cython"
   ]
  },
  {
   "cell_type": "code",
   "execution_count": 2,
   "metadata": {},
   "outputs": [
    {
     "data": {
      "text/plain": [
       "[2, 3, 5, 7, 11, 13, 17, 19, 23, 29, 31, 37, 41, 43, 47, 53, 59, 61, 67, 71]"
      ]
     },
     "execution_count": 2,
     "metadata": {},
     "output_type": "execute_result"
    }
   ],
   "source": [
    "plain_python.primes_python(20)"
   ]
  },
  {
   "cell_type": "code",
   "execution_count": 3,
   "metadata": {},
   "outputs": [
    {
     "data": {
      "text/plain": [
       "[2, 3, 5, 7, 11, 13, 17, 19, 23, 29, 31, 37, 41, 43, 47, 53, 59, 61, 67, 71]"
      ]
     },
     "execution_count": 3,
     "metadata": {},
     "output_type": "execute_result"
    }
   ],
   "source": [
    "primes_cython.primes(20)"
   ]
  },
  {
   "cell_type": "code",
   "execution_count": 4,
   "metadata": {},
   "outputs": [
    {
     "name": "stdout",
     "output_type": "stream",
     "text": [
      "37.7 ms ± 5.55 ms per loop (mean ± std. dev. of 7 runs, 10 loops each)\n",
      "2.86 ms ± 145 µs per loop (mean ± std. dev. of 7 runs, 100 loops each)\n"
     ]
    }
   ],
   "source": [
    "%timeit plain_python.primes_python(1000)\n",
    "%timeit primes_cython.primes(1000)"
   ]
  },
  {
   "cell_type": "code",
   "execution_count": 5,
   "metadata": {},
   "outputs": [
    {
     "ename": "NameError",
     "evalue": "name 'np' is not defined",
     "output_type": "error",
     "traceback": [
      "\u001b[0;31m---------------------------------------------------------------------------\u001b[0m",
      "\u001b[0;31mNameError\u001b[0m                                 Traceback (most recent call last)",
      "\u001b[0;32m<ipython-input-5-6104924e1120>\u001b[0m in \u001b[0;36m<module>\u001b[0;34m\u001b[0m\n\u001b[0;32m----> 1\u001b[0;31m \u001b[0mrands\u001b[0m \u001b[0;34m=\u001b[0m \u001b[0mnp\u001b[0m\u001b[0;34m.\u001b[0m\u001b[0mrandom\u001b[0m\u001b[0;34m.\u001b[0m\u001b[0mrandom\u001b[0m\u001b[0;34m(\u001b[0m\u001b[0;34m(\u001b[0m\u001b[0;36m1000000\u001b[0m\u001b[0;34m)\u001b[0m\u001b[0;34m)\u001b[0m\u001b[0;34m\u001b[0m\u001b[0;34m\u001b[0m\u001b[0m\n\u001b[0m",
      "\u001b[0;31mNameError\u001b[0m: name 'np' is not defined"
     ]
    }
   ],
   "source": [
    "rands = np.random.random((1000000))"
   ]
  },
  {
   "cell_type": "code",
   "execution_count": null,
   "metadata": {},
   "outputs": [],
   "source": [
    "%timeit rands[rands < 0.5]"
   ]
  },
  {
   "cell_type": "code",
   "execution_count": null,
   "metadata": {},
   "outputs": [],
   "source": [
    "@jit(nopython=True, parallel=True)\n",
    "def filter_larger(rands):\n",
    "    arr = np.zeros_like(rands)\n",
    "    thresh = 0.5\n",
    "    last_idx = 0\n",
    "    for idx in prange(len(rands)):\n",
    "        if rands[idx] < 0.5:\n",
    "            arr[last_idx] = rands[idx]\n",
    "            last_idx += 1\n",
    "            \n",
    "    return arr[:last_idx]\n",
    "\n",
    "# The last_idx variable is probably hindering performance of the parallel loop"
   ]
  },
  {
   "cell_type": "code",
   "execution_count": null,
   "metadata": {},
   "outputs": [],
   "source": [
    "%timeit filter_larger(rands)"
   ]
  },
  {
   "cell_type": "code",
   "execution_count": null,
   "metadata": {},
   "outputs": [],
   "source": [
    "from cython_filter_demo.cython_filter_demo import filter_array"
   ]
  },
  {
   "cell_type": "code",
   "execution_count": null,
   "metadata": {},
   "outputs": [],
   "source": [
    "%timeit filter_array.filter_larger_cython(rands)"
   ]
  },
  {
   "cell_type": "code",
   "execution_count": null,
   "metadata": {},
   "outputs": [],
   "source": [
    "%prun filter_array.filter_larger_cython(rands)"
   ]
  },
  {
   "cell_type": "markdown",
   "metadata": {},
   "source": [
    "## Memoization (Caching)"
   ]
  },
  {
   "cell_type": "markdown",
   "metadata": {},
   "source": [
    "Yet another way to improve performance of your scripts, perhaps a more straight-forward one, is memoization. This essentially means caching (saving) the results of computations done for a given set of parameters. Every time the function is called it first checks whether the result of the operation was already computed earlier, and if so it immediately returns it rather than re-computing it all over again."
   ]
  },
  {
   "cell_type": "markdown",
   "metadata": {},
   "source": [
    "Caching is extremely easy to do in Python. The standard library has a module called `functools` which contains several important functions that work on other functions, and one of them is `lru_cache`, which stands for \"least recently used\". While it's not the only way to do memoization in Python - there are multiple 3rd partly libraries that implement fancy memoization techniques - `lru_cache` is usually good enough.\n",
    "\n",
    "Using it is extremely simple:"
   ]
  },
  {
   "cell_type": "code",
   "execution_count": null,
   "metadata": {},
   "outputs": [],
   "source": [
    "def fib(n):\n",
    "    \"\"\" Calculate the nth Fibonacci sequence element \"\"\"\n",
    "    if n < 2:\n",
    "        return n\n",
    "    return fib(n-1) + fib(n-2)"
   ]
  },
  {
   "cell_type": "markdown",
   "metadata": {},
   "source": [
    "The Fibonacci series is a classic example, since every computation of a new element in the sequence is built on previous calculations. The function above is a simple implementation using recursion, but it currently doesn't cache its result. Meaning that it has to re-compute all values whenever its called.\n",
    "\n",
    "To cache the result we simply have to add a decorator to it:"
   ]
  },
  {
   "cell_type": "code",
   "execution_count": null,
   "metadata": {},
   "outputs": [],
   "source": [
    "import functools\n",
    "\n",
    "\n",
    "@functools.lru_cache()\n",
    "def fib(n):\n",
    "    \"\"\" Calculate the nth Fibonacci sequence element \"\"\"\n",
    "    if n < 2:\n",
    "        return n\n",
    "    return fib(n-1) + fib(n-2)"
   ]
  },
  {
   "cell_type": "markdown",
   "metadata": {},
   "source": [
    "Let's look at the timings:"
   ]
  },
  {
   "cell_type": "code",
   "execution_count": null,
   "metadata": {},
   "outputs": [],
   "source": [
    "%timeit fib(60)"
   ]
  },
  {
   "cell_type": "code",
   "execution_count": null,
   "metadata": {},
   "outputs": [],
   "source": [
    "%timeit fib(61)"
   ]
  },
  {
   "cell_type": "markdown",
   "metadata": {},
   "source": [
    "Running `fib(61)` takes almost no time, since the result of `fib(60)` is already cached."
   ]
  },
  {
   "cell_type": "markdown",
   "metadata": {},
   "source": [
    "# \"Code Smells\""
   ]
  },
  {
   "cell_type": "markdown",
   "metadata": {},
   "source": [
    "We'll now turn our attention to higher-minded concepts that you should pay attention to when creating software. The term above refers to elements in your code base that represent something which is not _wrong_, but can probably be better. That's what the \"smell\" means - it's like a bad feeling about the code, but it's not something which will tear down your application if it remains as is."
   ]
  },
  {
   "cell_type": "markdown",
   "metadata": {},
   "source": [
    "### Repetitive code"
   ]
  },
  {
   "cell_type": "markdown",
   "metadata": {},
   "source": [
    "The rule of thumb here is once you understand that some piece of code will be re-used somewhere else, immediately extract it out into a function and call that function instead. This will help you test it for correctness, document it more thoroughly and improve the readability of the piece of code using this new function."
   ]
  },
  {
   "cell_type": "markdown",
   "metadata": {},
   "source": [
    "Here's an example, with the repetitive code on top and the refactored piece of code on the bottom:"
   ]
  },
  {
   "cell_type": "code",
   "execution_count": null,
   "metadata": {},
   "outputs": [],
   "source": [
    "import tifffile\n",
    "\n",
    "\n",
    "# ...\n",
    "# In the middle of some data analysis script\n",
    "file_list_type_1 = ['a.tif', 'b.tif', 'c.tif']\n",
    "for file in file_list_type_1:\n",
    "    img = tifffile.imread(file)\n",
    "    img -= img.min()\n",
    "    img /= img.max()\n",
    "\n",
    "# ...\n",
    "file_list_type_2 = ['x.tif', 'y.tif', 'z.tif']\n",
    "for file in file_list_type_2:\n",
    "    img = tifffile.imread(file)\n",
    "    img -= img.min()\n",
    "    img /= img.max()"
   ]
  },
  {
   "cell_type": "code",
   "execution_count": null,
   "metadata": {},
   "outputs": [],
   "source": [
    "import numpy as np\n",
    "\n",
    "\n",
    "def normalize_img(img: np.ndarray) -> np.ndarray:\n",
    "    \"\"\" \n",
    "    Receives an image in the form of a numpy array, makes \n",
    "    it positive and normalizes it between 0 and 1 \n",
    "    \"\"\"\n",
    "    img -= img.min()\n",
    "    img /= img.max()\n",
    "    return img\n",
    "\n",
    "# ...\n",
    "file_list_type_1 = ['a.tif', 'b.tif', 'c.tif']\n",
    "for file in file_list_type_1:\n",
    "    img = tifffile.imread(file)\n",
    "    img = normalize_img(img)\n",
    "\n",
    "# ...\n",
    "file_list_type_2 = ['x.tif', 'y.tif', 'z.tif']\n",
    "for file in file_list_type_2:\n",
    "    img = tifffile.imread(file)\n",
    "    img = normalize_img(img)"
   ]
  },
  {
   "cell_type": "markdown",
   "metadata": {},
   "source": [
    "Even though the code in question is only two lines long - I decided to extract it into its own function. Besides the increased readability, I may have noticed in a later stage of my coding that this function isn't as harmless as it seems due to a possible **integer overflow.** So now the function is longer than two lines, and more tests have to be added. Coding these upgrades in the first case, where we didn't extract the code snippet, would've been double the work with a higher chance for bugs."
   ]
  },
  {
   "cell_type": "markdown",
   "metadata": {},
   "source": [
    "### Long functions (with \"block comments\")"
   ]
  },
  {
   "cell_type": "markdown",
   "metadata": {},
   "source": [
    "Ideally, functions should be about 10-20 lines long in total, including documentation. I.e. a single function or method shouldn't be longer than your screen. There's no lower-bound limit, meaning that very short functions where the code is 2-3 lines long, as seen above - are absolutely fine.\n",
    "\n",
    "Long functions are hard to understand, hard to test and will usually contain several blocks with distinct purposes. There's absolutely no reason to group up blocks that have different \"responsibilities\" in a single function. On occasions in which we _do_ write these long functions, we sometimes like to add block comments to the function, like:\n",
    "\n",
    "```python\n",
    "###################################################\n",
    "# This part deals with reading the data into memory\n",
    "###################################################\n",
    "data = tiffile.imread(...)\n",
    "# ...\n",
    "\n",
    "#############################################\n",
    "# Find the active areas in the processed data\n",
    "#############################################\n",
    "# ...\n",
    "\n",
    "```\n",
    "\n",
    "\n",
    "Here's a contrived example:"
   ]
  },
  {
   "cell_type": "code",
   "execution_count": null,
   "metadata": {},
   "outputs": [],
   "source": [
    "def process_data(filename):\n",
    "    # Checks for validity of data and reads it\n",
    "    assert pathlib.Path(filename).exists()\n",
    "    raw = tifffile.imread(filename)\n",
    "    assert raw.ndim == 3\n",
    "    assert raw.shape[0] > 1\n",
    "    \n",
    "    # Now we process the data\n",
    "    summed = raw.sum(0)\n",
    "    summed = (summed - summed.mean())\n",
    "    summed /= summed.max()\n",
    "    \n",
    "    # ..."
   ]
  },
  {
   "cell_type": "markdown",
   "metadata": {},
   "source": [
    "It should be clear to you that each of the code blocks, annotated by a comment, should be a different function."
   ]
  },
  {
   "cell_type": "markdown",
   "metadata": {},
   "source": [
    "### Objects that should be functions, functions that should be objects"
   ]
  },
  {
   "cell_type": "markdown",
   "metadata": {},
   "source": [
    "A \"healthy\" code base will contain a mix of objects (with their methods) and functions. Using only one of these programming paradigms in a medium-to-large scale project is probably not the way to go. But how do you decide whether some code has to go into a function, or \"deserves\" it's own object? Here are a couple of thumb rules:"
   ]
  },
  {
   "cell_type": "markdown",
   "metadata": {},
   "source": [
    "#### Helper functions aren't general\n",
    "Assume you had a large function which you divided into many smaller functions as I suggested above. But you notice that these small functions aren't general, i.e. they don't deal with general tasks like reading a file from disk, or normalizing some image. Rather, they're goal is to run some calculation which is very specific for the current application you're working on. Perhaps they're automatically inserting experiment dates into a database you generated, or they're filtering files in a directory per some heuristic.\n",
    "\n",
    "These tasks are well-defined and well-contained, so it's definitely a good idea to keep them as a function, but the thing they do will be used once, and once only - inside this application only. If you indeed have a couple of such functions, then you're probably dealing with something that should be an object, and these couple of functions should be its methods. Now your code base reflects your undestanding of the code - the internal methods are indeed specific to this object alone, and are unusable outside of the current task at hand."
   ]
  },
  {
   "cell_type": "markdown",
   "metadata": {},
   "source": [
    "#### Long list of arguments"
   ]
  },
  {
   "cell_type": "markdown",
   "metadata": {},
   "source": [
    "Whenever your algorithm has several functions who perform a task back to back, and they all take approximately the same argumets (number of pixels in the image, filename, the data array, etc.) then you should probably turn these functions into methods in an object, and just ditch the arguments by using `self`.\n",
    "\n",
    "This refactoring into an object will also let you organize the code and improve its readability. As separate functions you might not remember who do you call first - do I first `divide_by_largest()` and then `find_most_popular()` or the other way around? As methods in an object you can sort them in a `main()`, publically-available method which exposes the only true way to use these functions."
   ]
  },
  {
   "cell_type": "markdown",
   "metadata": {},
   "source": [
    "#### Objects with either one or two methods"
   ]
  },
  {
   "cell_type": "markdown",
   "metadata": {},
   "source": [
    "Usually if you have an object which has no more than a couple of methods, it's best to just turn these methods into functions and use them instead. Objects create more boilerplate and clutter, and testing will be generally harder."
   ]
  },
  {
   "cell_type": "markdown",
   "metadata": {},
   "source": [
    "#### Your API doesn't revolve around a new data structure"
   ]
  },
  {
   "cell_type": "markdown",
   "metadata": {},
   "source": [
    "If you \"expose\" an API to a different file that doesn't deal with new data structures, then you're probably better off with exposing functions. This means that if you have a small project that deals with calcium recording analysis, and what it basically does (from the user's point of view) is to take an array and return it with new numbers, then having a class there doesn't make much sense since your API doesn't revolve around a new data structure, since you're relying on simple arrays to do the trick.\n",
    "\n",
    "Howevre, if you're writing a new `pandas` implementation then you're inventing new data structures, like a `DataFrame`, and then your API probably should be a class."
   ]
  },
  {
   "cell_type": "markdown",
   "metadata": {},
   "source": [
    "### Too many nested levels"
   ]
  },
  {
   "cell_type": "markdown",
   "metadata": {},
   "source": [
    "Having too many nested levels in your code gives the readers of it a harder time - they have to remember the last condition that was met (or wasn't), and to understand its relation to the current condition. But how do we do that? We have two main methods: early returns and \"switch-like\" statements."
   ]
  },
  {
   "cell_type": "markdown",
   "metadata": {},
   "source": [
    "#### Early returns"
   ]
  },
  {
   "cell_type": "code",
   "execution_count": null,
   "metadata": {},
   "outputs": [],
   "source": [
    "# BAD CODE BELOW:\n",
    "def f(a, b, c, d):\n",
    "    if a > b:\n",
    "        c = func1(a)\n",
    "        if c:\n",
    "            print(f\"C is {c}\")\n",
    "            for item in c:\n",
    "                d = [m for m in item if item is not None]\n",
    "        else:\n",
    "            return None\n",
    "        return d\n",
    "    else:\n",
    "        c = func1(b)\n",
    "        if c:\n",
    "            print(f\"C is {c}\")\n",
    "            d = []\n",
    "            for item in c:\n",
    "                d.append([m for m in item if item is not None])\n",
    "        else:\n",
    "            return None\n",
    "        return d"
   ]
  },
  {
   "cell_type": "code",
   "execution_count": null,
   "metadata": {},
   "outputs": [],
   "source": [
    "# BETTER\n",
    "def f(a, b, c, d):\n",
    "    c = func1(max(a, b))\n",
    "    if not c:\n",
    "        return None\n",
    "\n",
    "    print(f\"C is {c}\")\n",
    "    d = []\n",
    "    for item in c:\n",
    "        d.append([m for m in item if item is not None])\n",
    "    return d"
   ]
  },
  {
   "cell_type": "markdown",
   "metadata": {},
   "source": [
    "There are two things hiding here - the first is the use of the built-in `max()` function to drop the first `if` statements, since the two code paths are identical. But the other important thing here are the early returns. Instead of asking `if c:` and then having a fully-indented code block below, we reverse the condition, asking `if not c: return None`, and then we can safely unindent the following code path, since we're sure that `c` has the right value for us. It's also easier to read, since you can remember that for all lines of code below the `if not c` condition, `c` is not `False` or `None` - there are no `else` clauses that would make it less obvious was condition are we really checking at this line of code."
   ]
  },
  {
   "cell_type": "markdown",
   "metadata": {},
   "source": [
    "#### Switch-like statement in Python\n",
    "\n",
    "Progammers in other languages, including MATLAB, are usually aware of the `switch - case` operator which allows you to choose what to do based on a specific value of some variable during runtime. For example:"
   ]
  },
  {
   "cell_type": "code",
   "execution_count": null,
   "metadata": {},
   "outputs": [],
   "source": [
    "def my_func1():\n",
    "    return 4\n",
    "\n",
    "def my_func2(data):\n",
    "    print(f\"Data is {data}\")\n",
    "\n",
    "def my_func3(data):\n",
    "    pass"
   ]
  },
  {
   "cell_type": "code",
   "execution_count": null,
   "metadata": {},
   "outputs": [],
   "source": [
    "### Doesn't work\n",
    "data = my_func1()\n",
    "switch data:\n",
    "    case 4:\n",
    "        my_func2(data)\n",
    "    case 15:\n",
    "        my_func3(data)\n",
    "    # etc..."
   ]
  },
  {
   "cell_type": "markdown",
   "metadata": {},
   "source": [
    "Python doesn't have a proper switch statement, but you can mimick this behavior using dictionaries! Here's an equivalent piece of code:"
   ]
  },
  {
   "cell_type": "code",
   "execution_count": null,
   "metadata": {},
   "outputs": [],
   "source": [
    "switch = {4: my_func2, 15: my_func3}\n",
    "data = my_func1()\n",
    "switch[data](data)"
   ]
  },
  {
   "cell_type": "markdown",
   "metadata": {},
   "source": [
    "When we access the `switch` dictionary at the index `data`, we get back the name of the function which was mapped there. This is like running the following statement:"
   ]
  },
  {
   "cell_type": "code",
   "execution_count": null,
   "metadata": {},
   "outputs": [],
   "source": [
    "a = my_func3\n",
    "a"
   ]
  },
  {
   "cell_type": "markdown",
   "metadata": {},
   "source": [
    "The variable `a` is just a reference to the function. Printing it doesn't call the function, we have to add parenthesis in order for the function to be executed. And this is why we have the `(data)` part after `switch[data]` - the parenthesis, with the argument inside them, make the actual function call happen.\n",
    "\n",
    "Switch statements aren't too common out in the wild, but sometimes they fit best your mental model of your code. When that is the case, a dictionary is a suitable replacement for the missing `switch`. By the way, there are libraries which try to mimick a `switch` in a clearer manner."
   ]
  },
  {
   "cell_type": "markdown",
   "metadata": {},
   "source": [
    "# Software Design Principles"
   ]
  },
  {
   "cell_type": "markdown",
   "metadata": {},
   "source": [
    "The previous part dealt with low-level concepts with very clear \"do's and don'ts\". We'll now turn our heads to some higher-level concepts when you think of the design of your software. Most of the ideas presented below are from Robert Martin's, AKA Uncle Bob, lectures and textbooks. He's one of the founding fathers of object-oriented design."
   ]
  },
  {
   "cell_type": "markdown",
   "metadata": {},
   "source": [
    "## Object Orthogonality, Encapsulation"
   ]
  },
  {
   "cell_type": "markdown",
   "metadata": {},
   "source": [
    "In many cases objects interact with one another. In the case of some `ProcessData` class, which might process some instances of a `Data` class, that can contain a couple of `Series` and metadata, for example, we can see how `ProcessData` communicates with the data inside the `Data` class, modifying it further. \n",
    "\n",
    "A preliminary design might look like the following:"
   ]
  },
  {
   "cell_type": "code",
   "execution_count": null,
   "metadata": {},
   "outputs": [],
   "source": [
    "import numpy as np\n",
    "import pandas as pd\n",
    "\n",
    "\n",
    "class Data:\n",
    "    \"\"\" Simple container for DataFrames and their metadata \"\"\"\n",
    "    def __init__(self, arr1: np.ndarray, arr2: np.ndarray, date: float):\n",
    "            self.ser1 = pd.Series(arr1, dtype=np.uint8)\n",
    "            self.ser2 = pd.Series(arr2, dtype=np.int16)\n",
    "            self.metadata = dict(shape1=self.ser1.shape,\n",
    "                                 shape2=self.ser2.shape,\n",
    "                                 total=self.ser1.shape[0] + self.ser2.shape[0],\n",
    "                                 date=date)\n",
    "\n",
    "            \n",
    "class ProcessData:\n",
    "    \"\"\" Pipeline to process twin Data instances \"\"\"\n",
    "    def __init__(self, data1: Data, data2: Data):\n",
    "        self.data1 = data1\n",
    "        self.data2 = data2\n",
    "        self.result = []\n",
    "        self.metadata = dict(columns1=data1.columns,\n",
    "                             columns2=data2.columns,\n",
    "                             metadata=data1.metadata)\n",
    "        \n",
    "    def process(self):\n",
    "        self.result.extend([data1.ser1.sum(), data2.ser1.sum()])\n",
    "        self.result.append([data1.ser1.mean() + data2.ser2.mean()])\n",
    "        return result"
   ]
  },
  {
   "cell_type": "markdown",
   "metadata": {},
   "source": [
    "We have here a `Data` class which serves as a container for two DataFrames that are logically connected. It also simplifies the access to some of the metadata contained with theses DataFrames.\n",
    "\n",
    "We also have a `ProcessData` class that uses the `Data` instances to calculate some statistical properties and keep them for later use.\n",
    "\n",
    "While this design works (which is important), it's flawed in the sense that the `ProcessData` object is very reliant on the implementation details of the `Data` class. How would you write tests for `ProcessData`? Many of the possible tests you may write are reliant on proper `Data` implementation. When higher-level objects are dependent on specific attributes of some lower-level module, we need to perform Dependency Inversion. This decoupling process can also be called \"object orthogonality\"."
   ]
  },
  {
   "cell_type": "markdown",
   "metadata": {},
   "source": [
    "We'll do a couple of major changes to our design which will solve, step by step, the design issues we encoutered.\n",
    "\n",
    "First we'll create a new `DataContainer` class that holds `Data` instances, and redefine the `Data` class more appropriately:"
   ]
  },
  {
   "cell_type": "code",
   "execution_count": null,
   "metadata": {},
   "outputs": [],
   "source": [
    "class Data:\n",
    "    \"\"\" Simple container for DataFrames and their metadata \"\"\"\n",
    "    def __init__(self, arr1: np.ndarray, arr2: np.ndarray, date: float):\n",
    "            self._ser1 = pd.Series(arr1, dtype=np.uint8)\n",
    "            self._ser2 = pd.Series(arr2, dtype=np.int16)\n",
    "            self._metadata = dict(shape1=self.df1.shape,\n",
    "                                 shape2=self.df2.shape,\n",
    "                                 total=self.df1.shape[0] + self.df2.shape[0],\n",
    "                                 date=date)\n",
    "        \n",
    "    @property\n",
    "    def data(self):\n",
    "        \"\"\" Returns the actual data variables as an iterable\"\"\"\n",
    "        result = [self._ser1, self._ser2]\n",
    "        return result\n",
    "    \n",
    "    @property\n",
    "    def metadata(self):\n",
    "        return self._metadata\n",
    "    \n",
    "    def sum(self):\n",
    "        return [x.sum() for x in self.data]\n",
    "\n",
    "\n",
    "class DataContainer:\n",
    "    \"\"\" Holds, in order, instances of Data \"\"\"\n",
    "    def __init__(self, datas):\n",
    "        self._data = []\n",
    "        self._metadata = {}\n",
    "        try:\n",
    "            for idx, data in enumerate(datas):\n",
    "                if isinstance(data, Data):\n",
    "                    self._data.append(data)\n",
    "                    self._metadata[idx] = data.metadata\n",
    "                else:\n",
    "                    raise TypeError(f\"TypeError: Data {data} isn't a 'Data' type.\")\n",
    "        except TypeError as e:\n",
    "            print(e)\n",
    "    \n",
    "    @property\n",
    "    def data(self):\n",
    "        return self._data\n",
    "    \n",
    "    @property\n",
    "    def metadata(self):\n",
    "        return self._metadata\n",
    "    \n",
    "    def sum(self):\n",
    "        result = []\n",
    "        for data in self._data:\n",
    "            result.append(data.sum())\n",
    "        return result"
   ]
  },
  {
   "cell_type": "markdown",
   "metadata": {},
   "source": [
    "First note the \"new technical term\": We introduce here the `@property` decorators. If we define some method as a property, that keyword can be used like a regular attribute, except for the fact that it's immutable:"
   ]
  },
  {
   "cell_type": "code",
   "execution_count": null,
   "metadata": {},
   "outputs": [],
   "source": [
    "class Trial:\n",
    "    def __init__(self):\n",
    "        self.two_as_attr = 2\n",
    "    \n",
    "    def two_as_method(self):\n",
    "        return 2\n",
    "    \n",
    "    @property\n",
    "    def two_as_prop(self):\n",
    "        return 2\n",
    "\n",
    "tr = Trial()\n",
    "\n",
    "# Changing attributes is possible:\n",
    "print(f\"The original attribute: {tr.two_as_attr}\")\n",
    "tr.two_as_attr = 3\n",
    "print(f\"Attributes can be changed: {tr.two_as_attr}\")\n",
    "print(\"------\")\n",
    "\n",
    "# Using the regular method requires brackets\n",
    "print(f\"Using the method: {tr.two_as_method()}\")\n",
    "print(\"And of course, it can't be changed (immutable).\")\n",
    "print(\"------\")\n",
    "\n",
    "# Using a property \"feels\" like using an attributes:\n",
    "print(f\"As a property: {tr.two_as_prop}\")  # no brackets\n",
    "try:\n",
    "    tr.two_as_prop = 3  # AttributeError\n",
    "except AttributeError as e:\n",
    "    print(f\"AttributeError: {e} - properties can't be changed.\")"
   ]
  },
  {
   "cell_type": "markdown",
   "metadata": {},
   "source": [
    "But besides this new, exciting feature of Python, what else has changed with the implementation?"
   ]
  },
  {
   "cell_type": "markdown",
   "metadata": {},
   "source": [
    "#### `Data`:\n",
    "1. We redefined `Data`. The new object doesn't allow anyone from the outside to change the data it holds, it only allows for a \"view\" of the data. The use of properties ensure that once the object was created, the internal structure of the instance remains intact. The single underscore before the variable names also prevents direct access to the attribute. This idea is called _encapsulation_.\n",
    "\n",
    "2. Furthermore, if we examine the `sum()` method, we see that it's now bound to the `Data` object itself. If we write it explicitly it makes senes: _The sum of the data is a bound method to our data - an intrinsic property of it._ If we ever decide to change how our data is stored, the `sum()` method should change accordingly, but no other object will be affected.\n",
    "\n",
    "\n",
    "#### `DataContainer`:\n",
    "1. The new `DataContainer` class _doesn't really know_ what it's holding. All it cares is that they're `Data` instances. It doesn't peek inside the methods of the different `Data` instances.\n",
    "\n",
    "2. It doesn't allow access to the list of `Data` instances itself. It exposes a `data` property which returns the list. If we decide to change the internal implementation of `DataContainer`, users of this class wouldn't care as long as we keep the output of the `data` property similar. Even if the list is empty - it will always return something.\n",
    "\n",
    "Let's see the redefined implementation of the `ProcessData` class:"
   ]
  },
  {
   "cell_type": "code",
   "execution_count": null,
   "metadata": {},
   "outputs": [],
   "source": [
    "class ProcessData:\n",
    "    \"\"\" Pipeline to process twin Data instances \"\"\"\n",
    "    def __init__(self, datacont: DataContainer):\n",
    "        self.datacont = datacont\n",
    "        self.result = {}\n",
    "        self.metadata = datacont.metadata\n",
    "        \n",
    "    def process(self):\n",
    "        \"\"\" Mock processing pipeline \"\"\"\n",
    "        self.result['sum'] = self.datacont.sum()\n",
    "        means = [x.mean() for x in self.datacont.data]\n",
    "        self.result['mean'] = means\n",
    "        return self.result"
   ]
  },
  {
   "cell_type": "markdown",
   "metadata": {},
   "source": [
    "The code snippet above is now much cleaner than the one we had beforehand. It uses the \"API\" of the `DataContainer` in two ways - either using a fully-featured `sum()` function, or by (securely) accessing the data using the `data` property and running non-standard processing on it - mean calculation in our case.}"
   ]
  },
  {
   "cell_type": "markdown",
   "metadata": {},
   "source": [
    "The downside is the added class - more code to write, more tests, more imports at the top. But the added value is tremendous. Think how easy it is to add new functionality into the pipeline. Everything is flexible, allowing to create a new `median()` function in the `DataContainer` class, for example. We can even change the internal structure of the `Data` class and still use the downstream class effectively."
   ]
  },
  {
   "cell_type": "markdown",
   "metadata": {},
   "source": [
    "## Classes as Data Types and Class Methods"
   ]
  },
  {
   "cell_type": "markdown",
   "metadata": {},
   "source": [
    "Yet another fairly important usecase for classes in Python is their as user-defined types for particular data. Programming languages define for us the basic types of data - floating-point numbers, integres, string and so on. But what if (some of) our data is not composed of these primitive types? Can we construct data types of our own?\n",
    "\n",
    "For instane, assume I'm collecting data from participants in a study I'm running, and one of the data points I'm gatheting is their age. How should I encode it?"
   ]
  },
  {
   "cell_type": "markdown",
   "metadata": {},
   "source": [
    "The age of a person is not an integer number. It _can_ be thought of as a floating point number, but then being 41.9 means that your age is 41 years and almost eleven months, which isn't too obvious from just looking at 41.9, since the 9 could be interpreter as the month of September. We can try to write stuff like '41.9' or '41 years and 9 months' or '41.9.14' but it doesn't look so good.\n",
    "\n",
    "**Instead,** what we should do is to write a class that defines an age:"
   ]
  },
  {
   "cell_type": "code",
   "execution_count": null,
   "metadata": {},
   "outputs": [],
   "source": [
    "class Grade:\n",
    "    \"\"\"Grade of a test\"\"\"\n",
    "    def __init__(self, grade: Union[int, float]):\n",
    "        self._grade = self._verify_grade(grade)\n",
    "    \n",
    "    def _verify_grade(self, grade: Union[int, float]):\n",
    "        \"\"\"Verifies that the given grade holds up to our standards\"\"\"\n",
    "        if grade < 0:\n",
    "            raise ValueError('too low')\n",
    "        if grade > 100:\n",
    "            raise ValueError('too high')\n",
    "        return grade\n",
    "    \n",
    "    @property\n",
    "    def grade(self):\n",
    "        return self._grade\n",
    "    \n",
    "    @grade.setter\n",
    "    def grade(self, grade):\n",
    "        self._grade = self._verify_grade(grade)\n",
    "        "
   ]
  },
  {
   "cell_type": "code",
   "execution_count": null,
   "metadata": {},
   "outputs": [],
   "source": [
    "class Age:\n",
    "    \"\"\" The age of a person \"\"\"\n",
    "    \n",
    "    def __init__(self, years, months=1, days=1):\n",
    "        if (years < 0) or (years > 120):\n",
    "            raise TypeError(f\"Years should be a valid integer, received {years}\")\n",
    "        if (months < 1) or (months > 12) or (not isinstance(months, int)):\n",
    "            raise TypeError(f\"Months should be an integer between 1 and 12, received {months}\")\n",
    "        if (days < 1) or (days > 31):\n",
    "            raise TypeError(f\"Days should be an integer between 1 and 31, received {days}\")\n",
    "            \n",
    "        self.years = int(years)\n",
    "        self.months = months\n",
    "        self.days = int(days)"
   ]
  },
  {
   "cell_type": "markdown",
   "metadata": {},
   "source": [
    "Now the DataFrame or array containing our data can have a column of type Age which will contain meaningful data about the persons age. Notice how compact this class is. It doesn't contain the ID number of the person, nor it's name. All it does is encode the age. It's important that each of the class we write will have one specific purpose, and not more."
   ]
  },
  {
   "cell_type": "markdown",
   "metadata": {},
   "source": [
    "However, we're not quite done here. There is another possible \"representation\" of age and that is the date of birth. It's quite a natural requirement that given a date of birth - a string or a datetime object - our Age class will know how to generate a proper Age() instance. Similarly, given an Age() instance, we should be able to generate the person's date of birth. \n",
    "\n",
    "The second requirement is pretty easy - make a `get_dob()` method that returns the date of birth. But how should we approach the first requirement, of instantiating an Age() from a given date? Let's try to _refactor_ our class:"
   ]
  },
  {
   "cell_type": "code",
   "execution_count": null,
   "metadata": {},
   "outputs": [],
   "source": [
    "import datetime\n",
    "\n",
    "\n",
    "class Age:\n",
    "    \"\"\" The age of a person \"\"\"\n",
    "    \n",
    "    cur_year = datetime.date.today().year\n",
    "    \n",
    "    @classmethod\n",
    "    def from_str(cls, date_str):\n",
    "        \"\"\" Instantiate from a string containing a date in the standard ISO format. \"\"\"\n",
    "        try:\n",
    "            date = datetime.date.fromisoformat(date_str)\n",
    "        except ValueError:\n",
    "            raise\n",
    "        else:    \n",
    "            return cls(cls.cur_year - date.year, date.month, date.day)\n",
    "        \n",
    "    @classmethod\n",
    "    def from_dob(cls, dob):\n",
    "        \"\"\" Instatiates from a datetime.date or a datetime.datetime object \"\"\"\n",
    "        try:\n",
    "            years = dob.year\n",
    "            months = dob.month\n",
    "            days = dob.day\n",
    "        except AttributeError:\n",
    "            print(f\"Input should be a datetime.datetime or a datetime.date instance. Received {dob} which is a {type(dob)}.\")\n",
    "            raise\n",
    "        else:\n",
    "            return cls(years, months, days)\n",
    "    \n",
    "    \n",
    "    def __init__(self, years, months, days):\n",
    "        \"\"\" Instantiate an instance of the class by directly inputting the age of the person \"\"\"\n",
    "        if (years < 0) or (years > 120):\n",
    "            raise TypeError(f\"Years should be a valid integer, received {years}\")\n",
    "        if (months < 1) or (months > 12) or (not isinstance(months, int)):\n",
    "            raise TypeError(f\"Months should be an integer between 1 and 12, received {months}\")\n",
    "        if (days < 1) or (days > 31):\n",
    "            raise TypeError(f\"Days should be an integer between 1 and 31, received {days}\")\n",
    "        self.years = years\n",
    "        self.months = months\n",
    "        self.days = days\n",
    "        \n",
    "    def __str__(self):\n",
    "        return f\"Age(years={self.years}, months={self.months}, days={self.days})\"\n",
    "        \n",
    "    def get_dob(self):\n",
    "        \"\"\" Returns the date of birth \"\"\"\n",
    "        return datetime.date(self.cur_year - self.years, self.months, self.days)"
   ]
  },
  {
   "cell_type": "code",
   "execution_count": null,
   "metadata": {},
   "outputs": [],
   "source": [
    "age = Age(42, 11, 1)\n",
    "age.get_dob()\n",
    "age2 = Age.from_str('2001-04-05')\n",
    "print(age2)"
   ]
  },
  {
   "cell_type": "markdown",
   "metadata": {},
   "source": [
    "## Typestates"
   ]
  },
  {
   "cell_type": "markdown",
   "metadata": {},
   "source": [
    "Typestates are a way to enforce the state of our data\\application with strict types.\n",
    "\n",
    "\n",
    "Let's assume I have 24 human volunteers in a combined fMRI + questionnaire study. I keep them all in a single DataFrame for brevity and ease-of-use, but in effect they're in different stages of my experiment. A few were just recruited last week, and I haven't even set a date for our first meeting. A few others were already scanned in the magnet once, but still have to go through my second questionnaire session. \n",
    "\n",
    "My application monitors these students, alerts me of incoming meeting dates, and (of course) analyzes the results of the questionnaires and scans.\n",
    "\n",
    "The __correctness__ of this application can be enforced in many ways - tests, mock data, daily use - but here I choose to show another mechanism - typestates. The fact that the current status of each volunteer isn't specified with a simple string in a table, but is actually a different class altogether, is another way to make sure that I always receive the expected output from each method call."
   ]
  },
  {
   "cell_type": "code",
   "execution_count": null,
   "metadata": {},
   "outputs": [],
   "source": [
    "import datetime\n",
    "import pandas as pd\n",
    "\n",
    "\n",
    "# Helper types\n",
    "class Name:\n",
    "    \"\"\" First and last name \"\"\"\n",
    "    # Implementation omitted\n",
    "\n",
    "\n",
    "class Age:\n",
    "    \"\"\" Special age type \"\"\"\n",
    "    # Implementation omitted\n",
    "\n",
    "\n",
    "class FmriResult:\n",
    "    \"\"\" Results from an fMRI scan \"\"\"\n",
    "    # Implementation omitted\n",
    "\n",
    "\n",
    "# Volunteer types    \n",
    "class Volunteer:\n",
    "    \"\"\" Base class for all volunteers in my project \"\"\"\n",
    "    def __init__(self, name: Name, age: Age, call_date: datetime.time, vol_id: int):\n",
    "        self.name = name\n",
    "        self.age = age\n",
    "        self.call_date = call_date\n",
    "        self.id = vol_id\n",
    "        \n",
    "    def __str__(self):\n",
    "        return f\"{self.name}, age {self.age}, first called at {self.call_date}.\"\n",
    "        \n",
    "    def update_df(self, records: pd.DataFrame):\n",
    "        \"\"\" Add the instance to the dataframe containing the rest of the data \"\"\"\n",
    "        record = pd.DataFrame([self.name, self.age, self.call_date, \n",
    "                               self.id, self.metadata, type(self), copy.copy(self)])\n",
    "        records.append(record)\n",
    "        return records\n",
    "    \n",
    "    def remove_from_df(self, records: pd.DataFrame):\n",
    "        \"\"\" Remove the instance from the student records \"\"\"\n",
    "        idx = records.id == self.id\n",
    "        records.drop(idx, inplace=True)\n",
    "        return records\n",
    "\n",
    "    \n",
    "class PreScanOne(Volunteer):\n",
    "    \"\"\" Volunteer before the first session \"\"\"\n",
    "    loc = 0  # ordinal place in hierarchy\n",
    "    \n",
    "    def __init__(self, name: Name, age: Age, call_date: datetime.time, vol_id: int, \n",
    "                 scan_one_date: datetime.time):\n",
    "        super().__init__(name, age, call_date, vol_id)\n",
    "        self.metadata = dict(scan_one_date=scan_one_date)\n",
    "        \n",
    "    def advance(self, result: FmriResult, next_date: datetime.time):\n",
    "        \"\"\" Advance a PreScanOne to a PostScanOne \"\"\"\n",
    "        new = PostScanOne(self, result, next_date)\n",
    "        return new\n",
    "    \n",
    "\n",
    "class PostScanOne(Volunteer):\n",
    "    \"\"\" Volunteer after the first session \"\"\"\n",
    "    loc = 1\n",
    "    \n",
    "    def __init__(self, pre_volunteer: PreScanOne, scan_one_data: FmriResult, \n",
    "                 scan_two_date: datetime.time):\n",
    "        super().__init__(pre_volunteer.name, pre_volunteer.age, pre_volunteer.call_date, pre_volunteer.id)\n",
    "        self.metadata = pre_volunteer.metadata\n",
    "        self.metadata['scan_one_data'] = scan_one_data\n",
    "        self.metadata['scan_two_date'] = scan_two_date\n",
    "    \n",
    "    def advance(self, result: FmriResult, next_date: datetime.time):\n",
    "        \"\"\" Advance a PostScanOne to a PreScanTwo \"\"\"\n",
    "        new = PreScanTwo(self, result, next_date)\n",
    "        return new\n",
    "\n",
    "\n",
    "# Examples of generic methods that use this interface\n",
    "def advance_volunteer(old_vol, results: FmriResult, records: pd.DataFrame):\n",
    "    \"\"\" \n",
    "    Move volunteer to next step in the experiment, returning the new \n",
    "    instance and records.\n",
    "    \"\"\"\n",
    "    old_vol.remove_from_df(records)\n",
    "    new_vol = old_vol.advance(results, records)\n",
    "    new_vol.update_df(records)\n",
    "    return new_vol, records\n",
    "\n",
    "\n",
    "def process_data(records):\n",
    "    \"\"\" Run the same processing function over all fMRI data \"\"\"\n",
    "    results = []\n",
    "    for vol in records:\n",
    "        try:\n",
    "            results.append(vol.process_data())\n",
    "        except AttributeError:  # instance doesn't have data\n",
    "            pass\n",
    "    return results"
   ]
  },
  {
   "cell_type": "markdown",
   "metadata": {},
   "source": [
    "This is long, but interesting, so let's try to break it down.\n",
    "\n",
    "At the beginning we have a few help classes which I merely defined, but not implemented. These shouldn't look strange to you. We talked during class of how an `Age` type is an important example of defining our own types in a program, since it's neither an integer nor a floating point number.\n",
    "\n",
    "The second part is the most interesting. We have a base class called `Volunteer` which contains basic information which is common to all experiment volunteers. But it's actually more than that - it also defines the _interfaces_ between the classes, it forces the classes to have specific attributes that will comply to this protocol, linking their behavior together.\n",
    "\n",
    "The other two classes inherit from `Volunteer` and represent the first two steps in the \"Volunteer path\". The `loc` class variable signifies that. From phase one (`PreScanOne`( a volunteer can only advance forward (or drop out from the experiment) to step 2. And likewise from step 2 to 3 - you'll always find the same `.advance()` method that takes you to the next step, even though the implementation is slightly different. To handle the variability in the held data, we have the `metadata` attribute which can hold different parameters and datapoints.\n",
    "\n",
    "The last part shows how to use such an interface. We have a function that advances an instance of a class \"one step\" to the next phase. We have a function that runs some processing on the data held inside the instances, and we can have as many functions (and classes as we wish). It's completely extensible since the API is well-defined."
   ]
  },
  {
   "cell_type": "markdown",
   "metadata": {},
   "source": [
    "## Helper Concepts and Libraries"
   ]
  },
  {
   "cell_type": "markdown",
   "metadata": {},
   "source": [
    "In practice, good and clear software design can be aided from using unique Python features and packages. We'll review a few of the more prominent ones:"
   ]
  },
  {
   "cell_type": "markdown",
   "metadata": {},
   "source": [
    "## Code formatting, styling and linting"
   ]
  },
  {
   "cell_type": "markdown",
   "metadata": {},
   "source": [
    "As you remember, from day one I insisted that your code should have a very specific look, as defined in PEP8, the official document describing how to style your Python. Happily enough there are a few tools that can automate this work for us, and the most famous one is `black`, which can be operated from either the command line or directly from VSCode. I'll show how to do it in after we review a few other libraries of the same type right below."
   ]
  },
  {
   "cell_type": "markdown",
   "metadata": {},
   "source": [
    "### Type Annotations and MyPy"
   ]
  },
  {
   "cell_type": "markdown",
   "metadata": {},
   "source": [
    "Since version 3.6, Python allows this syntax:"
   ]
  },
  {
   "cell_type": "code",
   "execution_count": null,
   "metadata": {},
   "outputs": [],
   "source": [
    "from typing import Tuple, Dict\n",
    "\n",
    "def doer_of_stuffs(a: float, b: int, c: str = 'ccc') -> Tuple[str, Dict[int, float]]:\n",
    "    \"\"\"\n",
    "    Does stuff to a, b, and c.\n",
    "    Returns: A tuple of a string and a dictionary mapping ints to floats\n",
    "    \"\"\"\n",
    "    a_helper: float = a + 2\n",
    "    b_helper: float = b / 3\n",
    "    int_a = int(a_helper)\n",
    "    c2: str = c + c\n",
    "    return c2, {b: a_helper, int_a: b_helper}"
   ]
  },
  {
   "cell_type": "markdown",
   "metadata": {},
   "source": [
    "While a bit more verbose, these _type annotations_ make things clearer when dealing with large codebases. Knowing the defined type of your variables as they bounce around between modules and functions can help with the debugging process of your code tremendously.\n",
    "\n",
    "Moreover, modern IDEs like PyCharm and VSCode will alert you before you run the code of any possible type errors. For example:"
   ]
  },
  {
   "cell_type": "code",
   "execution_count": null,
   "metadata": {},
   "outputs": [],
   "source": [
    "def main():\n",
    "    a = 3  # integer\n",
    "    a /= 2  # now it's a float\n",
    "    arr = np.array([1, 2, 3])\n",
    "    \n",
    "    # ... lots of code here\n",
    "    \n",
    "    b = arr[a]  # TypeError - cannot index with a float variable"
   ]
  },
  {
   "cell_type": "markdown",
   "metadata": {},
   "source": [
    "VSCode will mark this `arr[a]` expression and try to prevent you from running this code. \n",
    "\n",
    "A more wholesome approach is `mypy`, which was developed in Dropbox, a company very reliant on its Python-based product. When the Dropbox codebase increased in size, its engineers wanted to keep using Python due to its amazing features, but avoid the problems that come with a dynamically-typed language. Thus, `mypy` was born. In essence, it's a command-line tool that runs type checks on the entirety of your code base, verifying the type-correctness of your application. In many places a clean `mypy` error log is required before committing changes to the code base.\n",
    "\n",
    "`mypy` supports both comment-based type annotations for older versions of Python (Dropbox used Python 2.7 until 2019) and the new style of type annotations shown above. It can also generate type annotations on the fly, using `PyAnnotate`, while you run your application.\n",
    "\n",
    "An example can be found in the `mypy_demo` folder."
   ]
  },
  {
   "cell_type": "markdown",
   "metadata": {},
   "source": [
    "### Linters - `pylint`, `flake8`"
   ]
  },
  {
   "cell_type": "markdown",
   "metadata": {},
   "source": [
    "The last tools we'll dicuss are linters, which check the correctness of your code in several key aspects. First, they point out violations of simple PEP8 rules, like wrong variable naming and such. But more importantly they'll make sure that your code is in a runnable state, which means that you're not using variables you haven't declared, or libraries which you haven't imported, and such. Just like `black` and `mypy`, these two tools can also be configured to work with VSCode."
   ]
  },
  {
   "cell_type": "markdown",
   "metadata": {},
   "source": [
    "### [[VSCode example]]"
   ]
  },
  {
   "cell_type": "markdown",
   "metadata": {},
   "source": [
    "### Enumerations"
   ]
  },
  {
   "cell_type": "markdown",
   "metadata": {},
   "source": [
    "Python added enumeration support in Python 3.4, and it's starting to pop-up more and more in new code bases. An enumeration is a list of discrete possible values. Assuming I have a simple addition function:"
   ]
  },
  {
   "cell_type": "code",
   "execution_count": null,
   "metadata": {},
   "outputs": [],
   "source": [
    "def add_or_sub(a, b, add=True):\n",
    "    \"\"\" Simple addition\\subtraction \"\"\"\n",
    "    return a + b if add else a - b"
   ]
  },
  {
   "cell_type": "markdown",
   "metadata": {},
   "source": [
    "The list of possible values for `a` and `b` is endless, so these cannot be enumerated. The `add` keyword is called a \"flag\", since it has two possible values - `True` and `False`. It's an enumeration of two possible values.\n",
    "\n",
    "When we have more than two options, or when our two options aren't simply booleans, we can use an enumeration. Here's a simple example:"
   ]
  },
  {
   "cell_type": "code",
   "execution_count": null,
   "metadata": {},
   "outputs": [],
   "source": [
    "from enum import Enum\n",
    "\n",
    "\n",
    "class Color(Enum):\n",
    "    RED = 2\n",
    "    GREEN = 1\n",
    "    BLUE = 0\n",
    "    BLACK = 'BLACK'\n",
    "\n",
    "    \n",
    "def return_color(c: Color, num: int) -> Color:\n",
    "    ones = num % 10\n",
    "    if ones == c.value:\n",
    "        return c\n",
    "    else:\n",
    "        return Color.BLACK\n",
    "    \n",
    "ans = return_color(Color.RED, 12)\n",
    "print(ans)"
   ]
  },
  {
   "cell_type": "markdown",
   "metadata": {},
   "source": [
    "In the \"real world\" enumerations aren't too popular due to the fact that they were introduced very late. But a use-case could look like the following:"
   ]
  },
  {
   "cell_type": "code",
   "execution_count": null,
   "metadata": {},
   "outputs": [],
   "source": [
    "import pandas as pd\n",
    "\n",
    "\n",
    "rng = pd.date_range('1/1/2018',periods=100, freq='D')  # 'D' is days\n",
    "rng"
   ]
  },
  {
   "cell_type": "code",
   "execution_count": null,
   "metadata": {},
   "outputs": [],
   "source": [
    "rng = pd.date_range('1/1/2018',periods=100, freq='M')  # it can also be 'M'\n",
    "rng"
   ]
  },
  {
   "cell_type": "markdown",
   "metadata": {},
   "source": [
    "What are the possible values for the `freq` keyword? Day is `D`, month is `M`, Year will probably be `Y`. Are there any more keywords? Will `d` also work, or do I have to use capital `D`? Actually, checking the [official](https://pandas.pydata.org/pandas-docs/stable/generated/pandas.date_range.html) documentation doesn't result in anything too useful.\n",
    "\n",
    "This is where enumerations come into play. This could've been simpler if we could only choose a value from a list of possible values:"
   ]
  },
  {
   "cell_type": "code",
   "execution_count": null,
   "metadata": {},
   "outputs": [],
   "source": [
    "class DateRangeFreq(Enum):\n",
    "    D = 'days'\n",
    "    M = 'months'\n",
    "    Y = 'years'\n",
    "\n",
    "rng = pd.date_range('1/1/2018',periods=100, freq=pd.DateRangeFreq.D)  # doesn't actually work..."
   ]
  },
  {
   "cell_type": "markdown",
   "metadata": {},
   "source": [
    "If we were unsure of the available parameters, we could import the `DateRangeFreq` object and inspect its possible values. As you can see, each key has a value associated with it. This value can be an integer, string or event a Python object.\n",
    "\n",
    "Enumerations are still hard to find in the Python ecosystem. They're a recent addition, and Pythonistas are used to typing strings in their function parameters, and not enumerations. But in many other languages with native enum support these data structures are very frequent for this use case, as well as others. If you're writing a piece of code that is intended to a Python 3.4+ audience, I suggest you use enumerations liberally in your code."
   ]
  },
  {
   "cell_type": "markdown",
   "metadata": {},
   "source": [
    "### `attrs` - Classes without boilerplate"
   ]
  },
  {
   "cell_type": "markdown",
   "metadata": {},
   "source": [
    "Python classes are extremely useful, but they're also pretty verbose. They require you to write a lot of code for very basic operations.\n",
    "\n",
    "For example, in the the `__init__()` method you have to go through each variable in the function signature and assign it to your own value:"
   ]
  },
  {
   "cell_type": "code",
   "execution_count": null,
   "metadata": {},
   "outputs": [],
   "source": [
    "class Example:\n",
    "    def __init__(self, param1, param2, param3='no', param4):\n",
    "        self.param1 = param1\n",
    "        self.param2 = param2\n",
    "        self.param3 = param3\n",
    "        self.param4 = param4\n",
    "    \n",
    "    def my_method(self):\n",
    "        \"\"\" Do stuff \"\"\"\n",
    "        pass"
   ]
  },
  {
   "cell_type": "markdown",
   "metadata": {},
   "source": [
    "So many lines of repetitive code doing basically nothing. I didn't assert the types of the variables, I didn't do some basic pre-processing - this is called \"boilerplate\" code. Python requires me to write these tedious lines every time I create a class, and when classes get bigger and bigger, these assignments can be a hassle to write."
   ]
  },
  {
   "cell_type": "markdown",
   "metadata": {},
   "source": [
    "`attrs` to the rescue:"
   ]
  },
  {
   "cell_type": "code",
   "execution_count": null,
   "metadata": {},
   "outputs": [],
   "source": [
    "import attr\n",
    "from attr.validators import instance_of\n",
    "\n",
    "\n",
    "@attr.s\n",
    "class ExampleTwo:\n",
    "    param1 = attr.ib(validator=instance_of(int))\n",
    "    param2 = attr.ib(validator=instance_of(float))\n",
    "    param3 = attr.ib(default='no')\n",
    "    param4 = attr.ib(default=attr.Factory(list))\n",
    "    \n",
    "    def my_method(self):\n",
    "        \"\"\" Do stuff \"\"\"\n",
    "        pass\n",
    "\n",
    "\n",
    "@attr.s(auto_attrib=True)\n",
    "class ExampleThree:\n",
    "    param1: int\n",
    "    param2: float\n",
    "    param3 = 'no'\n",
    "    param4 = []"
   ]
  },
  {
   "cell_type": "code",
   "execution_count": null,
   "metadata": {},
   "outputs": [],
   "source": [
    "a = ExampleTwo(1, 2., 'a', [4, 5, 6])\n",
    "a"
   ]
  },
  {
   "cell_type": "markdown",
   "metadata": {},
   "source": [
    "That's it. No `__init__` is required, each `paramX` variable is already assigned to `self.paramX`. It also allows the addition of validators, default values, converter functions (not shown), and it even implements the comparison methods (`__eq__`, `__gt__`, etc.) for you. It has a ton of other useful features which I won't go into right now, but you can be sure that it's a package worth using.\n",
    "\n",
    "I can testify that 95% of classes I write today are `attrs` classes, and so do many other fellow Pythonistas. I encourage you to read the [official documentation](http://www.attrs.org/en/stable/?badge=stable) and start using it ASAP."
   ]
  },
  {
   "cell_type": "markdown",
   "metadata": {},
   "source": [
    "### Dimensionality analysis and units"
   ]
  },
  {
   "cell_type": "markdown",
   "metadata": {},
   "source": [
    "When working with numbers that have units, it's usually a good idea to keep the physical quantity assigned to that value as close as possible.\n",
    "\n",
    "When you're measuring the local field potential using some electrode array, it's good practice to verify that throughout the entirety of your processing pipeline, the voltage values aren't divided by a number with units of time, because units of _[Volts] / [seconds]_ usually have no physical meaning. It can also help you assert that your dF/F calculation indeed has natural units, and not some other arbitrary units.\n",
    "\n",
    "There are many options in the Python world for dimensionality analysis. If you're using Python to write symbolic math and solve equations, I suggest you use SymPy's `physics.units` module. Else - use `pint`."
   ]
  },
  {
   "cell_type": "code",
   "execution_count": 109,
   "metadata": {},
   "outputs": [
    {
     "data": {
      "text/html": [
       "\\[3.04\\ meter\\]"
      ],
      "text/latex": [
       "$3.04\\ \\mathrm{meter}$"
      ],
      "text/plain": [
       "3.04 <Unit('meter')>"
      ]
     },
     "execution_count": 109,
     "metadata": {},
     "output_type": "execute_result"
    }
   ],
   "source": [
    "import pint\n",
    "\n",
    "\n",
    "ureg = pint.UnitRegistry()\n",
    "3 * ureg.meter + 4 * ureg.cm"
   ]
  },
  {
   "cell_type": "code",
   "execution_count": 110,
   "metadata": {},
   "outputs": [
    {
     "name": "stdout",
     "output_type": "stream",
     "text": [
      "[0.840936876149999 0.8991187101786023 0.700473767582076 0.48193857417924946 0.25369377889955536 0.23883166014833312 0.6965109151925983 0.4321661430996142 0.634707242190078 0.0539574333544941 0.19659500977762945 0.9730238206621253 0.13720708989612296 0.3003788634991943 0.882439817935011 0.25526654338713295 0.6750917693650936 0.21443481868170555 0.5035853315819424 0.5807141983590652 0.22181068319182073 0.8286342789934565 0.3054301350361268 0.5261906776677894 0.07923873135354054 0.516938441700268 0.5762548816964506 0.48027420610402694 0.2870987472528216 0.8238122519295441 0.4104739144234527 0.26291134533227656 0.9432962001612812 0.25464012149380866 0.9540242975072651 0.9998758100107318 0.20013450812058997 0.8513883863169377 0.8593533731806038 0.02990944533150297 0.3969761585062812 0.022739692867620565 0.7207929031171517 0.053372110449588006 0.9397565499038666 0.3806621566838274 0.7163653684279591 0.07327750915185338 0.5816956659252598 0.8048877054644933 0.3699532749113502 0.9337039793829219 0.2684300582856962 0.682049357206134 0.27117410120862917 0.055325315504300865 0.5513688264902133 0.9990590181411817 0.23007158275940132 0.7564996859903557 0.1096134294558021 0.8408436278914159 0.09902698291795664 0.7162872289514537 0.31799389480940743 0.7039672617085754 0.0597986133597983 0.18518621640566835 0.30208786430464474 0.21752719665667797 0.1622531978448466 0.6048397597855575 0.9433758709627227 0.9588064050665561 0.13696233303574434 0.733855542674189 0.5782896354028492 0.8548240910159547 0.4199027677137055 0.5291499094234007 0.0439608188263122 0.3337541076789704 0.585531268186171 0.44401059636101226 0.3208120623404096 0.9772358331142341 0.98466836434208 0.8614886803865172 0.055608249206515525 0.8445903904252282 0.09263671918184213 0.5211838956133941 0.6543193689089383 0.23049681788838838 0.6934661216755991 0.5166277475243227 0.5816849098211578 0.058730620612352014 0.5178806118222273 0.9833325516969724] volt\n"
     ]
    }
   ],
   "source": [
    "measures = ureg.Quantity(np.random.random(100), 'volts')\n",
    "print(measures)"
   ]
  },
  {
   "cell_type": "code",
   "execution_count": 111,
   "metadata": {},
   "outputs": [
    {
     "name": "stdout",
     "output_type": "stream",
     "text": [
      "[1.681873752299998 1.7982374203572047 1.400947535164152 0.9638771483584989 0.5073875577991107 0.47766332029666625 1.3930218303851967 0.8643322861992284 1.269414484380156 0.1079148667089882 0.3931900195552589 1.9460476413242507 0.2744141797922459 0.6007577269983886 1.764879635870022 0.5105330867742659 1.3501835387301873 0.4288696373634111 1.0071706631638848 1.1614283967181305 0.44362136638364147 1.657268557986913 0.6108602700722536 1.0523813553355787 0.15847746270708107 1.033876883400536 1.1525097633929011 0.9605484122080539 0.5741974945056432 1.6476245038590882 0.8209478288469054 0.5258226906645531 1.8865924003225625 0.5092802429876173 1.9080485950145303 1.9997516200214636 0.40026901624117994 1.7027767726338754 1.7187067463612076 0.05981889066300594 0.7939523170125624 0.04547938573524113 1.4415858062343034 0.10674422089917601 1.8795130998077332 0.7613243133676548 1.4327307368559181 0.14655501830370676 1.1633913318505196 1.6097754109289866 0.7399065498227004 1.8674079587658439 0.5368601165713924 1.364098714412268 0.5423482024172583 0.11065063100860173 1.1027376529804267 1.9981180362823634 0.46014316551880263 1.5129993719807113 0.2192268589116042 1.6816872557828317 0.19805396583591328 1.4325744579029074 0.6359877896188149 1.4079345234171508 0.1195972267195966 0.3703724328113367 0.6041757286092895 0.43505439331335594 0.3245063956896932 1.209679519571115 1.8867517419254454 1.9176128101331122 0.2739246660714887 1.467711085348378 1.1565792708056983 1.7096481820319094 0.839805535427411 1.0582998188468014 0.0879216376526244 0.6675082153579408 1.171062536372342 0.8880211927220245 0.6416241246808192 1.9544716662284682 1.96933672868416 1.7229773607730343 0.11121649841303105 1.6891807808504564 0.18527343836368426 1.0423677912267881 1.3086387378178765 0.46099363577677677 1.3869322433511981 1.0332554950486454 1.1633698196423157 0.11746124122470403 1.0357612236444547 1.9666651033939448] volt\n"
     ]
    }
   ],
   "source": [
    "print(measures * 2)"
   ]
  },
  {
   "cell_type": "code",
   "execution_count": 112,
   "metadata": {},
   "outputs": [
    {
     "data": {
      "text/plain": [
       "<UnitsContainer({'[current]': 1})>"
      ]
     },
     "execution_count": 112,
     "metadata": {},
     "output_type": "execute_result"
    }
   ],
   "source": [
    "amps = measures / (2 * ureg.ohm)  # I = V/R\n",
    "amps.dimensionality"
   ]
  },
  {
   "cell_type": "code",
   "execution_count": 113,
   "metadata": {
    "scrolled": true
   },
   "outputs": [
    {
     "ename": "DimensionalityError",
     "evalue": "Cannot convert from 'volt / ohm' ([current]) to 'second' ([time])",
     "output_type": "error",
     "traceback": [
      "\u001b[0;31m---------------------------------------------------------------------------\u001b[0m",
      "\u001b[0;31mDimensionalityError\u001b[0m                       Traceback (most recent call last)",
      "\u001b[0;32m<ipython-input-113-8189ff88b4a0>\u001b[0m in \u001b[0;36m<module>\u001b[0;34m\u001b[0m\n\u001b[0;32m----> 1\u001b[0;31m \u001b[0mamps\u001b[0m\u001b[0;34m.\u001b[0m\u001b[0mto\u001b[0m\u001b[0;34m(\u001b[0m\u001b[0;34m'seconds'\u001b[0m\u001b[0;34m)\u001b[0m  \u001b[0;31m# DimensionalityError\u001b[0m\u001b[0;34m\u001b[0m\u001b[0;34m\u001b[0m\u001b[0m\n\u001b[0m",
      "\u001b[0;32m~/miniconda3/envs/course/lib/python3.7/site-packages/pint/quantity.py\u001b[0m in \u001b[0;36mto\u001b[0;34m(self, other, *contexts, **ctx_kwargs)\u001b[0m\n\u001b[1;32m    593\u001b[0m         \u001b[0mother\u001b[0m \u001b[0;34m=\u001b[0m \u001b[0mto_units_container\u001b[0m\u001b[0;34m(\u001b[0m\u001b[0mother\u001b[0m\u001b[0;34m,\u001b[0m \u001b[0mself\u001b[0m\u001b[0;34m.\u001b[0m\u001b[0m_REGISTRY\u001b[0m\u001b[0;34m)\u001b[0m\u001b[0;34m\u001b[0m\u001b[0;34m\u001b[0m\u001b[0m\n\u001b[1;32m    594\u001b[0m \u001b[0;34m\u001b[0m\u001b[0m\n\u001b[0;32m--> 595\u001b[0;31m         \u001b[0mmagnitude\u001b[0m \u001b[0;34m=\u001b[0m \u001b[0mself\u001b[0m\u001b[0;34m.\u001b[0m\u001b[0m_convert_magnitude_not_inplace\u001b[0m\u001b[0;34m(\u001b[0m\u001b[0mother\u001b[0m\u001b[0;34m,\u001b[0m \u001b[0;34m*\u001b[0m\u001b[0mcontexts\u001b[0m\u001b[0;34m,\u001b[0m \u001b[0;34m**\u001b[0m\u001b[0mctx_kwargs\u001b[0m\u001b[0;34m)\u001b[0m\u001b[0;34m\u001b[0m\u001b[0;34m\u001b[0m\u001b[0m\n\u001b[0m\u001b[1;32m    596\u001b[0m \u001b[0;34m\u001b[0m\u001b[0m\n\u001b[1;32m    597\u001b[0m         \u001b[0;32mreturn\u001b[0m \u001b[0mself\u001b[0m\u001b[0;34m.\u001b[0m\u001b[0m__class__\u001b[0m\u001b[0;34m(\u001b[0m\u001b[0mmagnitude\u001b[0m\u001b[0;34m,\u001b[0m \u001b[0mother\u001b[0m\u001b[0;34m)\u001b[0m\u001b[0;34m\u001b[0m\u001b[0;34m\u001b[0m\u001b[0m\n",
      "\u001b[0;32m~/miniconda3/envs/course/lib/python3.7/site-packages/pint/quantity.py\u001b[0m in \u001b[0;36m_convert_magnitude_not_inplace\u001b[0;34m(self, other, *contexts, **ctx_kwargs)\u001b[0m\n\u001b[1;32m    542\u001b[0m                 \u001b[0;32mreturn\u001b[0m \u001b[0mself\u001b[0m\u001b[0;34m.\u001b[0m\u001b[0m_REGISTRY\u001b[0m\u001b[0;34m.\u001b[0m\u001b[0mconvert\u001b[0m\u001b[0;34m(\u001b[0m\u001b[0mself\u001b[0m\u001b[0;34m.\u001b[0m\u001b[0m_magnitude\u001b[0m\u001b[0;34m,\u001b[0m \u001b[0mself\u001b[0m\u001b[0;34m.\u001b[0m\u001b[0m_units\u001b[0m\u001b[0;34m,\u001b[0m \u001b[0mother\u001b[0m\u001b[0;34m)\u001b[0m\u001b[0;34m\u001b[0m\u001b[0;34m\u001b[0m\u001b[0m\n\u001b[1;32m    543\u001b[0m \u001b[0;34m\u001b[0m\u001b[0m\n\u001b[0;32m--> 544\u001b[0;31m         \u001b[0;32mreturn\u001b[0m \u001b[0mself\u001b[0m\u001b[0;34m.\u001b[0m\u001b[0m_REGISTRY\u001b[0m\u001b[0;34m.\u001b[0m\u001b[0mconvert\u001b[0m\u001b[0;34m(\u001b[0m\u001b[0mself\u001b[0m\u001b[0;34m.\u001b[0m\u001b[0m_magnitude\u001b[0m\u001b[0;34m,\u001b[0m \u001b[0mself\u001b[0m\u001b[0;34m.\u001b[0m\u001b[0m_units\u001b[0m\u001b[0;34m,\u001b[0m \u001b[0mother\u001b[0m\u001b[0;34m)\u001b[0m\u001b[0;34m\u001b[0m\u001b[0;34m\u001b[0m\u001b[0m\n\u001b[0m\u001b[1;32m    545\u001b[0m \u001b[0;34m\u001b[0m\u001b[0m\n\u001b[1;32m    546\u001b[0m     \u001b[0;32mdef\u001b[0m \u001b[0m_convert_magnitude\u001b[0m\u001b[0;34m(\u001b[0m\u001b[0mself\u001b[0m\u001b[0;34m,\u001b[0m \u001b[0mother\u001b[0m\u001b[0;34m,\u001b[0m \u001b[0;34m*\u001b[0m\u001b[0mcontexts\u001b[0m\u001b[0;34m,\u001b[0m \u001b[0;34m**\u001b[0m\u001b[0mctx_kwargs\u001b[0m\u001b[0;34m)\u001b[0m\u001b[0;34m:\u001b[0m\u001b[0;34m\u001b[0m\u001b[0;34m\u001b[0m\u001b[0m\n",
      "\u001b[0;32m~/miniconda3/envs/course/lib/python3.7/site-packages/pint/registry.py\u001b[0m in \u001b[0;36mconvert\u001b[0;34m(self, value, src, dst, inplace)\u001b[0m\n\u001b[1;32m    942\u001b[0m             \u001b[0;32mreturn\u001b[0m \u001b[0mvalue\u001b[0m\u001b[0;34m\u001b[0m\u001b[0;34m\u001b[0m\u001b[0m\n\u001b[1;32m    943\u001b[0m \u001b[0;34m\u001b[0m\u001b[0m\n\u001b[0;32m--> 944\u001b[0;31m         \u001b[0;32mreturn\u001b[0m \u001b[0mself\u001b[0m\u001b[0;34m.\u001b[0m\u001b[0m_convert\u001b[0m\u001b[0;34m(\u001b[0m\u001b[0mvalue\u001b[0m\u001b[0;34m,\u001b[0m \u001b[0msrc\u001b[0m\u001b[0;34m,\u001b[0m \u001b[0mdst\u001b[0m\u001b[0;34m,\u001b[0m \u001b[0minplace\u001b[0m\u001b[0;34m)\u001b[0m\u001b[0;34m\u001b[0m\u001b[0;34m\u001b[0m\u001b[0m\n\u001b[0m\u001b[1;32m    945\u001b[0m \u001b[0;34m\u001b[0m\u001b[0m\n\u001b[1;32m    946\u001b[0m     \u001b[0;32mdef\u001b[0m \u001b[0m_convert\u001b[0m\u001b[0;34m(\u001b[0m\u001b[0mself\u001b[0m\u001b[0;34m,\u001b[0m \u001b[0mvalue\u001b[0m\u001b[0;34m,\u001b[0m \u001b[0msrc\u001b[0m\u001b[0;34m,\u001b[0m \u001b[0mdst\u001b[0m\u001b[0;34m,\u001b[0m \u001b[0minplace\u001b[0m\u001b[0;34m=\u001b[0m\u001b[0;32mFalse\u001b[0m\u001b[0;34m,\u001b[0m \u001b[0mcheck_dimensionality\u001b[0m\u001b[0;34m=\u001b[0m\u001b[0;32mTrue\u001b[0m\u001b[0;34m)\u001b[0m\u001b[0;34m:\u001b[0m\u001b[0;34m\u001b[0m\u001b[0;34m\u001b[0m\u001b[0m\n",
      "\u001b[0;32m~/miniconda3/envs/course/lib/python3.7/site-packages/pint/registry.py\u001b[0m in \u001b[0;36m_convert\u001b[0;34m(self, value, src, dst, inplace)\u001b[0m\n\u001b[1;32m   1800\u001b[0m                 \u001b[0mvalue\u001b[0m\u001b[0;34m,\u001b[0m \u001b[0msrc\u001b[0m \u001b[0;34m=\u001b[0m \u001b[0msrc\u001b[0m\u001b[0;34m.\u001b[0m\u001b[0m_magnitude\u001b[0m\u001b[0;34m,\u001b[0m \u001b[0msrc\u001b[0m\u001b[0;34m.\u001b[0m\u001b[0m_units\u001b[0m\u001b[0;34m\u001b[0m\u001b[0;34m\u001b[0m\u001b[0m\n\u001b[1;32m   1801\u001b[0m \u001b[0;34m\u001b[0m\u001b[0m\n\u001b[0;32m-> 1802\u001b[0;31m         \u001b[0;32mreturn\u001b[0m \u001b[0msuper\u001b[0m\u001b[0;34m(\u001b[0m\u001b[0;34m)\u001b[0m\u001b[0;34m.\u001b[0m\u001b[0m_convert\u001b[0m\u001b[0;34m(\u001b[0m\u001b[0mvalue\u001b[0m\u001b[0;34m,\u001b[0m \u001b[0msrc\u001b[0m\u001b[0;34m,\u001b[0m \u001b[0mdst\u001b[0m\u001b[0;34m,\u001b[0m \u001b[0minplace\u001b[0m\u001b[0;34m)\u001b[0m\u001b[0;34m\u001b[0m\u001b[0;34m\u001b[0m\u001b[0m\n\u001b[0m\u001b[1;32m   1803\u001b[0m \u001b[0;34m\u001b[0m\u001b[0m\n\u001b[1;32m   1804\u001b[0m     \u001b[0;32mdef\u001b[0m \u001b[0m_get_compatible_units\u001b[0m\u001b[0;34m(\u001b[0m\u001b[0mself\u001b[0m\u001b[0;34m,\u001b[0m \u001b[0minput_units\u001b[0m\u001b[0;34m,\u001b[0m \u001b[0mgroup_or_system\u001b[0m\u001b[0;34m)\u001b[0m\u001b[0;34m:\u001b[0m\u001b[0;34m\u001b[0m\u001b[0;34m\u001b[0m\u001b[0m\n",
      "\u001b[0;32m~/miniconda3/envs/course/lib/python3.7/site-packages/pint/registry.py\u001b[0m in \u001b[0;36m_convert\u001b[0;34m(self, value, src, dst, inplace)\u001b[0m\n\u001b[1;32m   1410\u001b[0m \u001b[0;34m\u001b[0m\u001b[0m\n\u001b[1;32m   1411\u001b[0m         \u001b[0;32mif\u001b[0m \u001b[0;32mnot\u001b[0m \u001b[0;34m(\u001b[0m\u001b[0msrc_offset_unit\u001b[0m \u001b[0;32mor\u001b[0m \u001b[0mdst_offset_unit\u001b[0m\u001b[0;34m)\u001b[0m\u001b[0;34m:\u001b[0m\u001b[0;34m\u001b[0m\u001b[0;34m\u001b[0m\u001b[0m\n\u001b[0;32m-> 1412\u001b[0;31m             \u001b[0;32mreturn\u001b[0m \u001b[0msuper\u001b[0m\u001b[0;34m(\u001b[0m\u001b[0;34m)\u001b[0m\u001b[0;34m.\u001b[0m\u001b[0m_convert\u001b[0m\u001b[0;34m(\u001b[0m\u001b[0mvalue\u001b[0m\u001b[0;34m,\u001b[0m \u001b[0msrc\u001b[0m\u001b[0;34m,\u001b[0m \u001b[0mdst\u001b[0m\u001b[0;34m,\u001b[0m \u001b[0minplace\u001b[0m\u001b[0;34m)\u001b[0m\u001b[0;34m\u001b[0m\u001b[0;34m\u001b[0m\u001b[0m\n\u001b[0m\u001b[1;32m   1413\u001b[0m \u001b[0;34m\u001b[0m\u001b[0m\n\u001b[1;32m   1414\u001b[0m         \u001b[0msrc_dim\u001b[0m \u001b[0;34m=\u001b[0m \u001b[0mself\u001b[0m\u001b[0;34m.\u001b[0m\u001b[0m_get_dimensionality\u001b[0m\u001b[0;34m(\u001b[0m\u001b[0msrc\u001b[0m\u001b[0;34m)\u001b[0m\u001b[0;34m\u001b[0m\u001b[0;34m\u001b[0m\u001b[0m\n",
      "\u001b[0;32m~/miniconda3/envs/course/lib/python3.7/site-packages/pint/registry.py\u001b[0m in \u001b[0;36m_convert\u001b[0;34m(self, value, src, dst, inplace, check_dimensionality)\u001b[0m\n\u001b[1;32m    975\u001b[0m             \u001b[0;31m# then the conversion cannot be performed.\u001b[0m\u001b[0;34m\u001b[0m\u001b[0;34m\u001b[0m\u001b[0;34m\u001b[0m\u001b[0m\n\u001b[1;32m    976\u001b[0m             \u001b[0;32mif\u001b[0m \u001b[0msrc_dim\u001b[0m \u001b[0;34m!=\u001b[0m \u001b[0mdst_dim\u001b[0m\u001b[0;34m:\u001b[0m\u001b[0;34m\u001b[0m\u001b[0;34m\u001b[0m\u001b[0m\n\u001b[0;32m--> 977\u001b[0;31m                 \u001b[0;32mraise\u001b[0m \u001b[0mDimensionalityError\u001b[0m\u001b[0;34m(\u001b[0m\u001b[0msrc\u001b[0m\u001b[0;34m,\u001b[0m \u001b[0mdst\u001b[0m\u001b[0;34m,\u001b[0m \u001b[0msrc_dim\u001b[0m\u001b[0;34m,\u001b[0m \u001b[0mdst_dim\u001b[0m\u001b[0;34m)\u001b[0m\u001b[0;34m\u001b[0m\u001b[0;34m\u001b[0m\u001b[0m\n\u001b[0m\u001b[1;32m    978\u001b[0m \u001b[0;34m\u001b[0m\u001b[0m\n\u001b[1;32m    979\u001b[0m         \u001b[0;31m# Here src and dst have only multiplicative units left. Thus we can\u001b[0m\u001b[0;34m\u001b[0m\u001b[0;34m\u001b[0m\u001b[0;34m\u001b[0m\u001b[0m\n",
      "\u001b[0;31mDimensionalityError\u001b[0m: Cannot convert from 'volt / ohm' ([current]) to 'second' ([time])"
     ]
    }
   ],
   "source": [
    "amps.to('seconds')  # DimensionalityError"
   ]
  },
  {
   "cell_type": "markdown",
   "metadata": {},
   "source": [
    "For some projects this can be a pretty big overkill, but for others this can save many \"silent\" bugs."
   ]
  },
  {
   "cell_type": "markdown",
   "metadata": {},
   "source": [
    "## Design vs. Productivity"
   ]
  },
  {
   "cell_type": "markdown",
   "metadata": {},
   "source": [
    "Before we start exercising, one important note to remember: There's a thin line between under- and over-engineering. Very small scripting projects require almost no engineering at all. This might mean that after you gain a few extra months of experience in Python, the structure of code for a small scripting job in Python might be obvious for you right from the get-go. You'll know which data structures you'll have, whether or not you'll need a class or two, and how the user interface might go.\n",
    "\n",
    "On the other hand, large applications which span at least a few thousands lines of code will always need _some_ form of pre-planning. It would be senseless not to write out a diagram of the main modules in your code and their interfaces. One can consider this to be common knowledge, or a simple programmer's instinct. Just like architects sit down and plan for months in advance the construct what they're about to create, programmers should spell out the architecture of their own programs. In no way will this guarantee you'll get the architecture right in the first time, but the design might serve as good building blocks when you start the refactoring process."
   ]
  },
  {
   "cell_type": "markdown",
   "metadata": {},
   "source": [
    "Problems mostly occur when you write medium-sized scripts, up to a couple thousand lines. These scripts usually start out small - a few functions that deal with file I/O and display of data - but can grow quite quickly once you start adding functionality. When the script was short you probably didn't even write tests, since you were sure you're handling some insignificant piece of code, and now it starts biting back at you.\n",
    "\n",
    "It's hard to write rules for these occasions. When someone asks me for improved functionality on some short script I wrote, I sometimes tell them it will take more time than I think it should, since I want to devote time to refactor the code, add tests and make the new functionality feel more natural inside it.\n",
    "\n",
    "It's also good practice to use classes to bind data and methods, even when you think they might be an overkill. It's much easier to expand the functionality of classes than of an assortment of functions."
   ]
  }
 ],
 "metadata": {
  "anaconda-cloud": {},
  "kernelspec": {
   "display_name": "Python 3",
   "language": "python",
   "name": "python3"
  },
  "language_info": {
   "codemirror_mode": {
    "name": "ipython",
    "version": 3
   },
   "file_extension": ".py",
   "mimetype": "text/x-python",
   "name": "python",
   "nbconvert_exporter": "python",
   "pygments_lexer": "ipython3",
   "version": "3.7.3"
  }
 },
 "nbformat": 4,
 "nbformat_minor": 2
}
