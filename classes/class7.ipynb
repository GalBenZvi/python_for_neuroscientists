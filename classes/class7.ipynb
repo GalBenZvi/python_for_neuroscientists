{
 "cells": [
  {
   "cell_type": "markdown",
   "metadata": {},
   "source": [
    "# Class 7 - 22.4.18"
   ]
  },
  {
   "cell_type": "markdown",
   "metadata": {},
   "source": [
    "# Advanced Pandas"
   ]
  },
  {
   "cell_type": "markdown",
   "metadata": {},
   "source": [
    "Currently, pandas' `Series` and `DataFrame` might seem to us as no more than tables with too-complicated indexing methods. But this notion is far away from the truth, as we'll soon see."
   ]
  },
  {
   "cell_type": "markdown",
   "metadata": {},
   "source": [
    "## Missing Data"
   ]
  },
  {
   "cell_type": "markdown",
   "metadata": {},
   "source": [
    "The last question in the previous class pointed us to working with missing data. But how and why does missing data occur?\n",
    "\n",
    "One option is pandas' index alignment, the property that makes sure that each value will have the same index throughout the entire computation process."
   ]
  },
  {
   "cell_type": "code",
   "execution_count": 1,
   "metadata": {},
   "outputs": [
    {
     "data": {
      "text/plain": [
       "0    NaN\n",
       "1    5.0\n",
       "2    9.0\n",
       "3    NaN\n",
       "dtype: float64"
      ]
     },
     "execution_count": 1,
     "metadata": {},
     "output_type": "execute_result"
    }
   ],
   "source": [
    "import pandas as pd\n",
    "import numpy as np\n",
    "\n",
    "\n",
    "A = pd.Series([2, 4, 6], index=[0, 1, 2])\n",
    "B = pd.Series([1, 3, 5], index=[1, 2, 3])\n",
    "A + B"
   ]
  },
  {
   "cell_type": "markdown",
   "metadata": {},
   "source": [
    "The NaNs we have are what we call missing data - this is the way pandas represents it. We'll discuss about it in detail in a few moments.\n",
    "\n",
    "The same thing occurs with DataFrames:"
   ]
  },
  {
   "cell_type": "code",
   "execution_count": 2,
   "metadata": {},
   "outputs": [
    {
     "data": {
      "text/html": [
       "<div>\n",
       "<style scoped>\n",
       "    .dataframe tbody tr th:only-of-type {\n",
       "        vertical-align: middle;\n",
       "    }\n",
       "\n",
       "    .dataframe tbody tr th {\n",
       "        vertical-align: top;\n",
       "    }\n",
       "\n",
       "    .dataframe thead th {\n",
       "        text-align: right;\n",
       "    }\n",
       "</style>\n",
       "<table border=\"1\" class=\"dataframe\">\n",
       "  <thead>\n",
       "    <tr style=\"text-align: right;\">\n",
       "      <th></th>\n",
       "      <th>A</th>\n",
       "      <th>B</th>\n",
       "    </tr>\n",
       "  </thead>\n",
       "  <tbody>\n",
       "    <tr>\n",
       "      <th>0</th>\n",
       "      <td>1</td>\n",
       "      <td>13</td>\n",
       "    </tr>\n",
       "    <tr>\n",
       "      <th>1</th>\n",
       "      <td>6</td>\n",
       "      <td>6</td>\n",
       "    </tr>\n",
       "  </tbody>\n",
       "</table>\n",
       "</div>"
      ],
      "text/plain": [
       "   A   B\n",
       "0  1  13\n",
       "1  6   6"
      ]
     },
     "execution_count": 2,
     "metadata": {},
     "output_type": "execute_result"
    }
   ],
   "source": [
    "A = pd.DataFrame(np.random.randint(0, 20, (2, 2)),\n",
    "                 columns=list('AB'))\n",
    "A"
   ]
  },
  {
   "cell_type": "code",
   "execution_count": 3,
   "metadata": {},
   "outputs": [
    {
     "data": {
      "text/html": [
       "<div>\n",
       "<style scoped>\n",
       "    .dataframe tbody tr th:only-of-type {\n",
       "        vertical-align: middle;\n",
       "    }\n",
       "\n",
       "    .dataframe tbody tr th {\n",
       "        vertical-align: top;\n",
       "    }\n",
       "\n",
       "    .dataframe thead th {\n",
       "        text-align: right;\n",
       "    }\n",
       "</style>\n",
       "<table border=\"1\" class=\"dataframe\">\n",
       "  <thead>\n",
       "    <tr style=\"text-align: right;\">\n",
       "      <th></th>\n",
       "      <th>B</th>\n",
       "      <th>A</th>\n",
       "      <th>C</th>\n",
       "    </tr>\n",
       "  </thead>\n",
       "  <tbody>\n",
       "    <tr>\n",
       "      <th>0</th>\n",
       "      <td>8</td>\n",
       "      <td>7</td>\n",
       "      <td>9</td>\n",
       "    </tr>\n",
       "    <tr>\n",
       "      <th>1</th>\n",
       "      <td>0</td>\n",
       "      <td>0</td>\n",
       "      <td>6</td>\n",
       "    </tr>\n",
       "    <tr>\n",
       "      <th>2</th>\n",
       "      <td>2</td>\n",
       "      <td>4</td>\n",
       "      <td>2</td>\n",
       "    </tr>\n",
       "  </tbody>\n",
       "</table>\n",
       "</div>"
      ],
      "text/plain": [
       "   B  A  C\n",
       "0  8  7  9\n",
       "1  0  0  6\n",
       "2  2  4  2"
      ]
     },
     "execution_count": 3,
     "metadata": {},
     "output_type": "execute_result"
    }
   ],
   "source": [
    "B = pd.DataFrame(np.random.randint(0, 10, (3, 3)),\n",
    "                 columns=list('BAC'))\n",
    "B"
   ]
  },
  {
   "cell_type": "code",
   "execution_count": 4,
   "metadata": {},
   "outputs": [
    {
     "data": {
      "text/html": [
       "<div>\n",
       "<style scoped>\n",
       "    .dataframe tbody tr th:only-of-type {\n",
       "        vertical-align: middle;\n",
       "    }\n",
       "\n",
       "    .dataframe tbody tr th {\n",
       "        vertical-align: top;\n",
       "    }\n",
       "\n",
       "    .dataframe thead th {\n",
       "        text-align: right;\n",
       "    }\n",
       "</style>\n",
       "<table border=\"1\" class=\"dataframe\">\n",
       "  <thead>\n",
       "    <tr style=\"text-align: right;\">\n",
       "      <th></th>\n",
       "      <th>A</th>\n",
       "      <th>B</th>\n",
       "      <th>C</th>\n",
       "    </tr>\n",
       "  </thead>\n",
       "  <tbody>\n",
       "    <tr>\n",
       "      <th>0</th>\n",
       "      <td>8.0</td>\n",
       "      <td>21.0</td>\n",
       "      <td>NaN</td>\n",
       "    </tr>\n",
       "    <tr>\n",
       "      <th>1</th>\n",
       "      <td>6.0</td>\n",
       "      <td>6.0</td>\n",
       "      <td>NaN</td>\n",
       "    </tr>\n",
       "    <tr>\n",
       "      <th>2</th>\n",
       "      <td>NaN</td>\n",
       "      <td>NaN</td>\n",
       "      <td>NaN</td>\n",
       "    </tr>\n",
       "  </tbody>\n",
       "</table>\n",
       "</div>"
      ],
      "text/plain": [
       "     A     B   C\n",
       "0  8.0  21.0 NaN\n",
       "1  6.0   6.0 NaN\n",
       "2  NaN   NaN NaN"
      ]
     },
     "execution_count": 4,
     "metadata": {},
     "output_type": "execute_result"
    }
   ],
   "source": [
    "A + B"
   ]
  },
  {
   "cell_type": "markdown",
   "metadata": {},
   "source": [
    "The DF's shape is the shape of the larger DF, and the \"extra\" row (index 2) was filled with NaNs. Since we have NaNs, the data type of the column is implicitly converted to a floating point type. Python doesn't have integer NaNs."
   ]
  },
  {
   "cell_type": "markdown",
   "metadata": {},
   "source": [
    "Another way to introduce missing data is through reindexing. If we \"resample\" our data we can achieve the following:"
   ]
  },
  {
   "cell_type": "code",
   "execution_count": 5,
   "metadata": {},
   "outputs": [
    {
     "data": {
      "text/html": [
       "<div>\n",
       "<style scoped>\n",
       "    .dataframe tbody tr th:only-of-type {\n",
       "        vertical-align: middle;\n",
       "    }\n",
       "\n",
       "    .dataframe tbody tr th {\n",
       "        vertical-align: top;\n",
       "    }\n",
       "\n",
       "    .dataframe thead th {\n",
       "        text-align: right;\n",
       "    }\n",
       "</style>\n",
       "<table border=\"1\" class=\"dataframe\">\n",
       "  <thead>\n",
       "    <tr style=\"text-align: right;\">\n",
       "      <th></th>\n",
       "      <th>one</th>\n",
       "      <th>two</th>\n",
       "      <th>three</th>\n",
       "    </tr>\n",
       "  </thead>\n",
       "  <tbody>\n",
       "    <tr>\n",
       "      <th>a</th>\n",
       "      <td>0.780616</td>\n",
       "      <td>0.074964</td>\n",
       "      <td>-0.682631</td>\n",
       "    </tr>\n",
       "    <tr>\n",
       "      <th>c</th>\n",
       "      <td>-0.493405</td>\n",
       "      <td>-1.598501</td>\n",
       "      <td>0.135340</td>\n",
       "    </tr>\n",
       "    <tr>\n",
       "      <th>e</th>\n",
       "      <td>0.061618</td>\n",
       "      <td>1.735833</td>\n",
       "      <td>1.112015</td>\n",
       "    </tr>\n",
       "    <tr>\n",
       "      <th>f</th>\n",
       "      <td>0.019611</td>\n",
       "      <td>-0.983972</td>\n",
       "      <td>-1.697649</td>\n",
       "    </tr>\n",
       "    <tr>\n",
       "      <th>h</th>\n",
       "      <td>0.910130</td>\n",
       "      <td>-1.053841</td>\n",
       "      <td>-0.413128</td>\n",
       "    </tr>\n",
       "  </tbody>\n",
       "</table>\n",
       "</div>"
      ],
      "text/plain": [
       "        one       two     three\n",
       "a  0.780616  0.074964 -0.682631\n",
       "c -0.493405 -1.598501  0.135340\n",
       "e  0.061618  1.735833  1.112015\n",
       "f  0.019611 -0.983972 -1.697649\n",
       "h  0.910130 -1.053841 -0.413128"
      ]
     },
     "execution_count": 5,
     "metadata": {},
     "output_type": "execute_result"
    }
   ],
   "source": [
    "df = pd.DataFrame(np.random.randn(5, 3), index=['a', 'c', 'e', 'f', 'h'],\n",
    "                  columns=['one', 'two', 'three'])\n",
    "df"
   ]
  },
  {
   "cell_type": "code",
   "execution_count": 6,
   "metadata": {},
   "outputs": [
    {
     "data": {
      "text/html": [
       "<div>\n",
       "<style scoped>\n",
       "    .dataframe tbody tr th:only-of-type {\n",
       "        vertical-align: middle;\n",
       "    }\n",
       "\n",
       "    .dataframe tbody tr th {\n",
       "        vertical-align: top;\n",
       "    }\n",
       "\n",
       "    .dataframe thead th {\n",
       "        text-align: right;\n",
       "    }\n",
       "</style>\n",
       "<table border=\"1\" class=\"dataframe\">\n",
       "  <thead>\n",
       "    <tr style=\"text-align: right;\">\n",
       "      <th></th>\n",
       "      <th>one</th>\n",
       "      <th>two</th>\n",
       "      <th>three</th>\n",
       "    </tr>\n",
       "  </thead>\n",
       "  <tbody>\n",
       "    <tr>\n",
       "      <th>a</th>\n",
       "      <td>0.780616</td>\n",
       "      <td>0.074964</td>\n",
       "      <td>-0.682631</td>\n",
       "    </tr>\n",
       "    <tr>\n",
       "      <th>b</th>\n",
       "      <td>NaN</td>\n",
       "      <td>NaN</td>\n",
       "      <td>NaN</td>\n",
       "    </tr>\n",
       "    <tr>\n",
       "      <th>c</th>\n",
       "      <td>-0.493405</td>\n",
       "      <td>-1.598501</td>\n",
       "      <td>0.135340</td>\n",
       "    </tr>\n",
       "    <tr>\n",
       "      <th>d</th>\n",
       "      <td>NaN</td>\n",
       "      <td>NaN</td>\n",
       "      <td>NaN</td>\n",
       "    </tr>\n",
       "    <tr>\n",
       "      <th>e</th>\n",
       "      <td>0.061618</td>\n",
       "      <td>1.735833</td>\n",
       "      <td>1.112015</td>\n",
       "    </tr>\n",
       "    <tr>\n",
       "      <th>f</th>\n",
       "      <td>0.019611</td>\n",
       "      <td>-0.983972</td>\n",
       "      <td>-1.697649</td>\n",
       "    </tr>\n",
       "    <tr>\n",
       "      <th>g</th>\n",
       "      <td>NaN</td>\n",
       "      <td>NaN</td>\n",
       "      <td>NaN</td>\n",
       "    </tr>\n",
       "    <tr>\n",
       "      <th>h</th>\n",
       "      <td>0.910130</td>\n",
       "      <td>-1.053841</td>\n",
       "      <td>-0.413128</td>\n",
       "    </tr>\n",
       "  </tbody>\n",
       "</table>\n",
       "</div>"
      ],
      "text/plain": [
       "        one       two     three\n",
       "a  0.780616  0.074964 -0.682631\n",
       "b       NaN       NaN       NaN\n",
       "c -0.493405 -1.598501  0.135340\n",
       "d       NaN       NaN       NaN\n",
       "e  0.061618  1.735833  1.112015\n",
       "f  0.019611 -0.983972 -1.697649\n",
       "g       NaN       NaN       NaN\n",
       "h  0.910130 -1.053841 -0.413128"
      ]
     },
     "execution_count": 6,
     "metadata": {},
     "output_type": "execute_result"
    }
   ],
   "source": [
    "df2 = df.reindex(['a', 'b', 'c', 'd', 'e', 'f', 'g', 'h'])\n",
    "df2"
   ]
  },
  {
   "cell_type": "markdown",
   "metadata": {},
   "source": [
    "As we mentioned, pandas is oriented towards handling missing data. In general one finds two approaches that one can take - either create a masking array around the DF, in which `False` values represent invalid entries, or create a _sentinel_ value that represents missing data, like -99999 or NaN.\n",
    "\n",
    "These two approaches have their downsides - a boolean masks requires more memory, and perhaps longer computation times. The sentinel value might lead to use of inefficient data types and slow down computation as well.\n",
    "\n",
    "Due to its reliance on numpy, pandas chose the path of sentinel values, with either `None` or NaN as the value."
   ]
  },
  {
   "cell_type": "markdown",
   "metadata": {},
   "source": [
    "### The `None` object"
   ]
  },
  {
   "cell_type": "markdown",
   "metadata": {},
   "source": [
    "`None` is standard Python's null value. It can be found in many places in the language. For example, functions that don't have a `return` statement, implicitly return `None`. While `None` can be used as a missing data type, it's probably not the best choice."
   ]
  },
  {
   "cell_type": "code",
   "execution_count": 7,
   "metadata": {},
   "outputs": [
    {
     "data": {
      "text/plain": [
       "array([1, None, 3, 4], dtype=object)"
      ]
     },
     "execution_count": 7,
     "metadata": {},
     "output_type": "execute_result"
    }
   ],
   "source": [
    "vals1 = np.array([1, None, 3, 4])\n",
    "vals1"
   ]
  },
  {
   "cell_type": "markdown",
   "metadata": {},
   "source": [
    "The `dtype` is `object`, because the best common type of `int`s and a `None` is a Python `object`. This slows down computation time on these arrays:"
   ]
  },
  {
   "cell_type": "code",
   "execution_count": 8,
   "metadata": {},
   "outputs": [
    {
     "name": "stdout",
     "output_type": "stream",
     "text": [
      "dtype = object\n",
      "118 ms ± 7.21 ms per loop (mean ± std. dev. of 7 runs, 10 loops each)\n",
      "\n",
      "dtype = int\n",
      "5.65 ms ± 322 µs per loop (mean ± std. dev. of 7 runs, 100 loops each)\n",
      "\n"
     ]
    }
   ],
   "source": [
    "for dtype in ['object', 'int']:\n",
    "    print(\"dtype =\", dtype)\n",
    "    %timeit np.arange(1E6, dtype=dtype).sum()\n",
    "    print()"
   ]
  },
  {
   "cell_type": "markdown",
   "metadata": {},
   "source": [
    "Another thing we can't do is aggregation:"
   ]
  },
  {
   "cell_type": "code",
   "execution_count": 9,
   "metadata": {},
   "outputs": [
    {
     "ename": "TypeError",
     "evalue": "unsupported operand type(s) for +: 'int' and 'NoneType'",
     "output_type": "error",
     "traceback": [
      "\u001b[1;31m---------------------------------------------------------------------------\u001b[0m",
      "\u001b[1;31mTypeError\u001b[0m                                 Traceback (most recent call last)",
      "\u001b[1;32m<ipython-input-9-30a3fc8c6726>\u001b[0m in \u001b[0;36m<module>\u001b[1;34m()\u001b[0m\n\u001b[1;32m----> 1\u001b[1;33m \u001b[0mvals1\u001b[0m\u001b[1;33m.\u001b[0m\u001b[0msum\u001b[0m\u001b[1;33m(\u001b[0m\u001b[1;33m)\u001b[0m\u001b[1;33m\u001b[0m\u001b[0m\n\u001b[0m",
      "\u001b[1;32m~\\Miniconda3\\envs\\general\\lib\\site-packages\\numpy\\core\\_methods.py\u001b[0m in \u001b[0;36m_sum\u001b[1;34m(a, axis, dtype, out, keepdims)\u001b[0m\n\u001b[0;32m     30\u001b[0m \u001b[1;33m\u001b[0m\u001b[0m\n\u001b[0;32m     31\u001b[0m \u001b[1;32mdef\u001b[0m \u001b[0m_sum\u001b[0m\u001b[1;33m(\u001b[0m\u001b[0ma\u001b[0m\u001b[1;33m,\u001b[0m \u001b[0maxis\u001b[0m\u001b[1;33m=\u001b[0m\u001b[1;32mNone\u001b[0m\u001b[1;33m,\u001b[0m \u001b[0mdtype\u001b[0m\u001b[1;33m=\u001b[0m\u001b[1;32mNone\u001b[0m\u001b[1;33m,\u001b[0m \u001b[0mout\u001b[0m\u001b[1;33m=\u001b[0m\u001b[1;32mNone\u001b[0m\u001b[1;33m,\u001b[0m \u001b[0mkeepdims\u001b[0m\u001b[1;33m=\u001b[0m\u001b[1;32mFalse\u001b[0m\u001b[1;33m)\u001b[0m\u001b[1;33m:\u001b[0m\u001b[1;33m\u001b[0m\u001b[0m\n\u001b[1;32m---> 32\u001b[1;33m     \u001b[1;32mreturn\u001b[0m \u001b[0mumr_sum\u001b[0m\u001b[1;33m(\u001b[0m\u001b[0ma\u001b[0m\u001b[1;33m,\u001b[0m \u001b[0maxis\u001b[0m\u001b[1;33m,\u001b[0m \u001b[0mdtype\u001b[0m\u001b[1;33m,\u001b[0m \u001b[0mout\u001b[0m\u001b[1;33m,\u001b[0m \u001b[0mkeepdims\u001b[0m\u001b[1;33m)\u001b[0m\u001b[1;33m\u001b[0m\u001b[0m\n\u001b[0m\u001b[0;32m     33\u001b[0m \u001b[1;33m\u001b[0m\u001b[0m\n\u001b[0;32m     34\u001b[0m \u001b[1;32mdef\u001b[0m \u001b[0m_prod\u001b[0m\u001b[1;33m(\u001b[0m\u001b[0ma\u001b[0m\u001b[1;33m,\u001b[0m \u001b[0maxis\u001b[0m\u001b[1;33m=\u001b[0m\u001b[1;32mNone\u001b[0m\u001b[1;33m,\u001b[0m \u001b[0mdtype\u001b[0m\u001b[1;33m=\u001b[0m\u001b[1;32mNone\u001b[0m\u001b[1;33m,\u001b[0m \u001b[0mout\u001b[0m\u001b[1;33m=\u001b[0m\u001b[1;32mNone\u001b[0m\u001b[1;33m,\u001b[0m \u001b[0mkeepdims\u001b[0m\u001b[1;33m=\u001b[0m\u001b[1;32mFalse\u001b[0m\u001b[1;33m)\u001b[0m\u001b[1;33m:\u001b[0m\u001b[1;33m\u001b[0m\u001b[0m\n",
      "\u001b[1;31mTypeError\u001b[0m: unsupported operand type(s) for +: 'int' and 'NoneType'"
     ]
    }
   ],
   "source": [
    "vals1.sum()"
   ]
  },
  {
   "cell_type": "markdown",
   "metadata": {},
   "source": [
    "### The `NaN` value"
   ]
  },
  {
   "cell_type": "markdown",
   "metadata": {},
   "source": [
    "`NaN` is a special floating-point value recognized by all programming languages that conform to the IEEE standard (which means most of them). As we mentioned before, it forces the entire array to have a floating point type:"
   ]
  },
  {
   "cell_type": "code",
   "execution_count": 10,
   "metadata": {},
   "outputs": [
    {
     "data": {
      "text/plain": [
       "dtype('float64')"
      ]
     },
     "execution_count": 10,
     "metadata": {},
     "output_type": "execute_result"
    }
   ],
   "source": [
    "vals2 = np.array([1, np.nan, 3, 4])\n",
    "vals2.dtype"
   ]
  },
  {
   "cell_type": "markdown",
   "metadata": {},
   "source": [
    "Creating floating point arrays is very fast, so performance isn't hindered. NaN is sometimes described as a \"data virus\", since it infects objects it touches:"
   ]
  },
  {
   "cell_type": "code",
   "execution_count": 11,
   "metadata": {},
   "outputs": [
    {
     "data": {
      "text/plain": [
       "nan"
      ]
     },
     "execution_count": 11,
     "metadata": {},
     "output_type": "execute_result"
    }
   ],
   "source": [
    "1 + np.nan"
   ]
  },
  {
   "cell_type": "code",
   "execution_count": 12,
   "metadata": {},
   "outputs": [
    {
     "data": {
      "text/plain": [
       "nan"
      ]
     },
     "execution_count": 12,
     "metadata": {},
     "output_type": "execute_result"
    }
   ],
   "source": [
    "0 * np.nan"
   ]
  },
  {
   "cell_type": "code",
   "execution_count": 13,
   "metadata": {},
   "outputs": [
    {
     "name": "stderr",
     "output_type": "stream",
     "text": [
      "C:\\Users\\Hagai\\Miniconda3\\envs\\general\\lib\\site-packages\\numpy\\core\\_methods.py:29: RuntimeWarning: invalid value encountered in reduce\n",
      "  return umr_minimum(a, axis, None, out, keepdims)\n",
      "C:\\Users\\Hagai\\Miniconda3\\envs\\general\\lib\\site-packages\\numpy\\core\\_methods.py:26: RuntimeWarning: invalid value encountered in reduce\n",
      "  return umr_maximum(a, axis, None, out, keepdims)\n"
     ]
    },
    {
     "data": {
      "text/plain": [
       "(nan, nan, nan)"
      ]
     },
     "execution_count": 13,
     "metadata": {},
     "output_type": "execute_result"
    }
   ],
   "source": [
    "vals2.sum(), vals2.min(), vals2.max()  # runtime warnings, not exceptions"
   ]
  },
  {
   "cell_type": "markdown",
   "metadata": {},
   "source": [
    "However, pandas objects account for NaNs in their calculations, as we'll soon see.\n",
    "\n",
    "pandas can handle both `NaN` and `None` interchangeably:"
   ]
  },
  {
   "cell_type": "code",
   "execution_count": 14,
   "metadata": {},
   "outputs": [
    {
     "data": {
      "text/plain": [
       "0    1.0\n",
       "1    NaN\n",
       "2    2.0\n",
       "3    NaN\n",
       "dtype: float64"
      ]
     },
     "execution_count": 14,
     "metadata": {},
     "output_type": "execute_result"
    }
   ],
   "source": [
    "ser = pd.Series([1, np.nan, 2, None])\n",
    "ser"
   ]
  },
  {
   "cell_type": "markdown",
   "metadata": {},
   "source": [
    "### The `NaT` value"
   ]
  },
  {
   "cell_type": "markdown",
   "metadata": {},
   "source": [
    "When dealing with datetime values or indices, the missing value is represented as `NaT`, or not-a-time:"
   ]
  },
  {
   "cell_type": "code",
   "execution_count": 15,
   "metadata": {},
   "outputs": [
    {
     "data": {
      "text/html": [
       "<div>\n",
       "<style scoped>\n",
       "    .dataframe tbody tr th:only-of-type {\n",
       "        vertical-align: middle;\n",
       "    }\n",
       "\n",
       "    .dataframe tbody tr th {\n",
       "        vertical-align: top;\n",
       "    }\n",
       "\n",
       "    .dataframe thead th {\n",
       "        text-align: right;\n",
       "    }\n",
       "</style>\n",
       "<table border=\"1\" class=\"dataframe\">\n",
       "  <thead>\n",
       "    <tr style=\"text-align: right;\">\n",
       "      <th></th>\n",
       "      <th>one</th>\n",
       "      <th>two</th>\n",
       "      <th>three</th>\n",
       "      <th>timestamp</th>\n",
       "    </tr>\n",
       "  </thead>\n",
       "  <tbody>\n",
       "    <tr>\n",
       "      <th>a</th>\n",
       "      <td>0.780616</td>\n",
       "      <td>0.074964</td>\n",
       "      <td>-0.682631</td>\n",
       "      <td>2018-01-01</td>\n",
       "    </tr>\n",
       "    <tr>\n",
       "      <th>c</th>\n",
       "      <td>-0.493405</td>\n",
       "      <td>-1.598501</td>\n",
       "      <td>0.135340</td>\n",
       "      <td>2018-01-01</td>\n",
       "    </tr>\n",
       "    <tr>\n",
       "      <th>e</th>\n",
       "      <td>0.061618</td>\n",
       "      <td>1.735833</td>\n",
       "      <td>1.112015</td>\n",
       "      <td>2018-01-01</td>\n",
       "    </tr>\n",
       "    <tr>\n",
       "      <th>f</th>\n",
       "      <td>0.019611</td>\n",
       "      <td>-0.983972</td>\n",
       "      <td>-1.697649</td>\n",
       "      <td>2018-01-01</td>\n",
       "    </tr>\n",
       "    <tr>\n",
       "      <th>h</th>\n",
       "      <td>0.910130</td>\n",
       "      <td>-1.053841</td>\n",
       "      <td>-0.413128</td>\n",
       "      <td>2018-01-01</td>\n",
       "    </tr>\n",
       "  </tbody>\n",
       "</table>\n",
       "</div>"
      ],
      "text/plain": [
       "        one       two     three  timestamp\n",
       "a  0.780616  0.074964 -0.682631 2018-01-01\n",
       "c -0.493405 -1.598501  0.135340 2018-01-01\n",
       "e  0.061618  1.735833  1.112015 2018-01-01\n",
       "f  0.019611 -0.983972 -1.697649 2018-01-01\n",
       "h  0.910130 -1.053841 -0.413128 2018-01-01"
      ]
     },
     "execution_count": 15,
     "metadata": {},
     "output_type": "execute_result"
    }
   ],
   "source": [
    "df['timestamp'] = pd.Timestamp('20180101')\n",
    "df"
   ]
  },
  {
   "cell_type": "code",
   "execution_count": 16,
   "metadata": {},
   "outputs": [
    {
     "data": {
      "text/html": [
       "<div>\n",
       "<style scoped>\n",
       "    .dataframe tbody tr th:only-of-type {\n",
       "        vertical-align: middle;\n",
       "    }\n",
       "\n",
       "    .dataframe tbody tr th {\n",
       "        vertical-align: top;\n",
       "    }\n",
       "\n",
       "    .dataframe thead th {\n",
       "        text-align: right;\n",
       "    }\n",
       "</style>\n",
       "<table border=\"1\" class=\"dataframe\">\n",
       "  <thead>\n",
       "    <tr style=\"text-align: right;\">\n",
       "      <th></th>\n",
       "      <th>one</th>\n",
       "      <th>two</th>\n",
       "      <th>three</th>\n",
       "      <th>timestamp</th>\n",
       "    </tr>\n",
       "  </thead>\n",
       "  <tbody>\n",
       "    <tr>\n",
       "      <th>a</th>\n",
       "      <td>0.780616</td>\n",
       "      <td>0.074964</td>\n",
       "      <td>-0.682631</td>\n",
       "      <td>2018-01-01</td>\n",
       "    </tr>\n",
       "    <tr>\n",
       "      <th>b</th>\n",
       "      <td>NaN</td>\n",
       "      <td>NaN</td>\n",
       "      <td>NaN</td>\n",
       "      <td>NaT</td>\n",
       "    </tr>\n",
       "    <tr>\n",
       "      <th>c</th>\n",
       "      <td>-0.493405</td>\n",
       "      <td>-1.598501</td>\n",
       "      <td>0.135340</td>\n",
       "      <td>2018-01-01</td>\n",
       "    </tr>\n",
       "    <tr>\n",
       "      <th>d</th>\n",
       "      <td>NaN</td>\n",
       "      <td>NaN</td>\n",
       "      <td>NaN</td>\n",
       "      <td>NaT</td>\n",
       "    </tr>\n",
       "    <tr>\n",
       "      <th>e</th>\n",
       "      <td>0.061618</td>\n",
       "      <td>1.735833</td>\n",
       "      <td>1.112015</td>\n",
       "      <td>2018-01-01</td>\n",
       "    </tr>\n",
       "    <tr>\n",
       "      <th>f</th>\n",
       "      <td>0.019611</td>\n",
       "      <td>-0.983972</td>\n",
       "      <td>-1.697649</td>\n",
       "      <td>2018-01-01</td>\n",
       "    </tr>\n",
       "    <tr>\n",
       "      <th>g</th>\n",
       "      <td>NaN</td>\n",
       "      <td>NaN</td>\n",
       "      <td>NaN</td>\n",
       "      <td>NaT</td>\n",
       "    </tr>\n",
       "    <tr>\n",
       "      <th>h</th>\n",
       "      <td>0.910130</td>\n",
       "      <td>-1.053841</td>\n",
       "      <td>-0.413128</td>\n",
       "      <td>2018-01-01</td>\n",
       "    </tr>\n",
       "  </tbody>\n",
       "</table>\n",
       "</div>"
      ],
      "text/plain": [
       "        one       two     three  timestamp\n",
       "a  0.780616  0.074964 -0.682631 2018-01-01\n",
       "b       NaN       NaN       NaN        NaT\n",
       "c -0.493405 -1.598501  0.135340 2018-01-01\n",
       "d       NaN       NaN       NaN        NaT\n",
       "e  0.061618  1.735833  1.112015 2018-01-01\n",
       "f  0.019611 -0.983972 -1.697649 2018-01-01\n",
       "g       NaN       NaN       NaN        NaT\n",
       "h  0.910130 -1.053841 -0.413128 2018-01-01"
      ]
     },
     "execution_count": 16,
     "metadata": {},
     "output_type": "execute_result"
    }
   ],
   "source": [
    "df2 = df.reindex(['a', 'b', 'c', 'd', 'e', 'f', 'g', 'h'])\n",
    "df2"
   ]
  },
  {
   "cell_type": "markdown",
   "metadata": {},
   "source": [
    "### Operations and calculations with missing data"
   ]
  },
  {
   "cell_type": "code",
   "execution_count": 17,
   "metadata": {},
   "outputs": [
    {
     "data": {
      "text/html": [
       "<div>\n",
       "<style scoped>\n",
       "    .dataframe tbody tr th:only-of-type {\n",
       "        vertical-align: middle;\n",
       "    }\n",
       "\n",
       "    .dataframe tbody tr th {\n",
       "        vertical-align: top;\n",
       "    }\n",
       "\n",
       "    .dataframe thead th {\n",
       "        text-align: right;\n",
       "    }\n",
       "</style>\n",
       "<table border=\"1\" class=\"dataframe\">\n",
       "  <thead>\n",
       "    <tr style=\"text-align: right;\">\n",
       "      <th></th>\n",
       "      <th>one</th>\n",
       "      <th>two</th>\n",
       "    </tr>\n",
       "  </thead>\n",
       "  <tbody>\n",
       "    <tr>\n",
       "      <th>0</th>\n",
       "      <td>0.265717</td>\n",
       "      <td>0.237119</td>\n",
       "    </tr>\n",
       "    <tr>\n",
       "      <th>1</th>\n",
       "      <td>0.926451</td>\n",
       "      <td>NaN</td>\n",
       "    </tr>\n",
       "    <tr>\n",
       "      <th>2</th>\n",
       "      <td>0.271188</td>\n",
       "      <td>0.643268</td>\n",
       "    </tr>\n",
       "    <tr>\n",
       "      <th>3</th>\n",
       "      <td>0.567518</td>\n",
       "      <td>0.062367</td>\n",
       "    </tr>\n",
       "    <tr>\n",
       "      <th>4</th>\n",
       "      <td>0.307470</td>\n",
       "      <td>0.521823</td>\n",
       "    </tr>\n",
       "  </tbody>\n",
       "</table>\n",
       "</div>"
      ],
      "text/plain": [
       "        one       two\n",
       "0  0.265717  0.237119\n",
       "1  0.926451       NaN\n",
       "2  0.271188  0.643268\n",
       "3  0.567518  0.062367\n",
       "4  0.307470  0.521823"
      ]
     },
     "execution_count": 17,
     "metadata": {},
     "output_type": "execute_result"
    }
   ],
   "source": [
    "a = pd.DataFrame(np.random.random((5, 2)), columns=['one', 'two'])\n",
    "a.iloc[1, 1] = np.nan\n",
    "a"
   ]
  },
  {
   "cell_type": "code",
   "execution_count": 18,
   "metadata": {},
   "outputs": [
    {
     "data": {
      "text/html": [
       "<div>\n",
       "<style scoped>\n",
       "    .dataframe tbody tr th:only-of-type {\n",
       "        vertical-align: middle;\n",
       "    }\n",
       "\n",
       "    .dataframe tbody tr th {\n",
       "        vertical-align: top;\n",
       "    }\n",
       "\n",
       "    .dataframe thead th {\n",
       "        text-align: right;\n",
       "    }\n",
       "</style>\n",
       "<table border=\"1\" class=\"dataframe\">\n",
       "  <thead>\n",
       "    <tr style=\"text-align: right;\">\n",
       "      <th></th>\n",
       "      <th>one</th>\n",
       "      <th>two</th>\n",
       "      <th>three</th>\n",
       "    </tr>\n",
       "  </thead>\n",
       "  <tbody>\n",
       "    <tr>\n",
       "      <th>0</th>\n",
       "      <td>0.129861</td>\n",
       "      <td>0.376089</td>\n",
       "      <td>0.347677</td>\n",
       "    </tr>\n",
       "    <tr>\n",
       "      <th>1</th>\n",
       "      <td>0.939087</td>\n",
       "      <td>0.771899</td>\n",
       "      <td>0.207586</td>\n",
       "    </tr>\n",
       "    <tr>\n",
       "      <th>2</th>\n",
       "      <td>0.437710</td>\n",
       "      <td>0.368643</td>\n",
       "      <td>NaN</td>\n",
       "    </tr>\n",
       "    <tr>\n",
       "      <th>3</th>\n",
       "      <td>0.875113</td>\n",
       "      <td>0.886004</td>\n",
       "      <td>0.141958</td>\n",
       "    </tr>\n",
       "    <tr>\n",
       "      <th>4</th>\n",
       "      <td>0.897197</td>\n",
       "      <td>0.024251</td>\n",
       "      <td>0.472568</td>\n",
       "    </tr>\n",
       "    <tr>\n",
       "      <th>5</th>\n",
       "      <td>0.423431</td>\n",
       "      <td>0.065244</td>\n",
       "      <td>0.840427</td>\n",
       "    </tr>\n",
       "  </tbody>\n",
       "</table>\n",
       "</div>"
      ],
      "text/plain": [
       "        one       two     three\n",
       "0  0.129861  0.376089  0.347677\n",
       "1  0.939087  0.771899  0.207586\n",
       "2  0.437710  0.368643       NaN\n",
       "3  0.875113  0.886004  0.141958\n",
       "4  0.897197  0.024251  0.472568\n",
       "5  0.423431  0.065244  0.840427"
      ]
     },
     "execution_count": 18,
     "metadata": {},
     "output_type": "execute_result"
    }
   ],
   "source": [
    "b = pd.DataFrame(np.random.random((6, 3)), columns=['one', 'two', 'three'])\n",
    "b.iloc[2, 2] = np.nan\n",
    "b"
   ]
  },
  {
   "cell_type": "code",
   "execution_count": 19,
   "metadata": {},
   "outputs": [
    {
     "data": {
      "text/html": [
       "<div>\n",
       "<style scoped>\n",
       "    .dataframe tbody tr th:only-of-type {\n",
       "        vertical-align: middle;\n",
       "    }\n",
       "\n",
       "    .dataframe tbody tr th {\n",
       "        vertical-align: top;\n",
       "    }\n",
       "\n",
       "    .dataframe thead th {\n",
       "        text-align: right;\n",
       "    }\n",
       "</style>\n",
       "<table border=\"1\" class=\"dataframe\">\n",
       "  <thead>\n",
       "    <tr style=\"text-align: right;\">\n",
       "      <th></th>\n",
       "      <th>one</th>\n",
       "      <th>three</th>\n",
       "      <th>two</th>\n",
       "    </tr>\n",
       "  </thead>\n",
       "  <tbody>\n",
       "    <tr>\n",
       "      <th>0</th>\n",
       "      <td>0.395577</td>\n",
       "      <td>NaN</td>\n",
       "      <td>0.613208</td>\n",
       "    </tr>\n",
       "    <tr>\n",
       "      <th>1</th>\n",
       "      <td>1.865539</td>\n",
       "      <td>NaN</td>\n",
       "      <td>NaN</td>\n",
       "    </tr>\n",
       "    <tr>\n",
       "      <th>2</th>\n",
       "      <td>0.708898</td>\n",
       "      <td>NaN</td>\n",
       "      <td>1.011911</td>\n",
       "    </tr>\n",
       "    <tr>\n",
       "      <th>3</th>\n",
       "      <td>1.442631</td>\n",
       "      <td>NaN</td>\n",
       "      <td>0.948371</td>\n",
       "    </tr>\n",
       "    <tr>\n",
       "      <th>4</th>\n",
       "      <td>1.204667</td>\n",
       "      <td>NaN</td>\n",
       "      <td>0.546074</td>\n",
       "    </tr>\n",
       "    <tr>\n",
       "      <th>5</th>\n",
       "      <td>NaN</td>\n",
       "      <td>NaN</td>\n",
       "      <td>NaN</td>\n",
       "    </tr>\n",
       "  </tbody>\n",
       "</table>\n",
       "</div>"
      ],
      "text/plain": [
       "        one  three       two\n",
       "0  0.395577    NaN  0.613208\n",
       "1  1.865539    NaN       NaN\n",
       "2  0.708898    NaN  1.011911\n",
       "3  1.442631    NaN  0.948371\n",
       "4  1.204667    NaN  0.546074\n",
       "5       NaN    NaN       NaN"
      ]
     },
     "execution_count": 19,
     "metadata": {},
     "output_type": "execute_result"
    }
   ],
   "source": [
    "a + b"
   ]
  },
  {
   "cell_type": "markdown",
   "metadata": {},
   "source": [
    "As we see, missing values propagate naturally through these arithmetic operations. Statistics also works:"
   ]
  },
  {
   "cell_type": "code",
   "execution_count": 20,
   "metadata": {},
   "outputs": [
    {
     "data": {
      "text/html": [
       "<div>\n",
       "<style scoped>\n",
       "    .dataframe tbody tr th:only-of-type {\n",
       "        vertical-align: middle;\n",
       "    }\n",
       "\n",
       "    .dataframe tbody tr th {\n",
       "        vertical-align: top;\n",
       "    }\n",
       "\n",
       "    .dataframe thead th {\n",
       "        text-align: right;\n",
       "    }\n",
       "</style>\n",
       "<table border=\"1\" class=\"dataframe\">\n",
       "  <thead>\n",
       "    <tr style=\"text-align: right;\">\n",
       "      <th></th>\n",
       "      <th>one</th>\n",
       "      <th>three</th>\n",
       "      <th>two</th>\n",
       "    </tr>\n",
       "  </thead>\n",
       "  <tbody>\n",
       "    <tr>\n",
       "      <th>count</th>\n",
       "      <td>5.000000</td>\n",
       "      <td>0.0</td>\n",
       "      <td>4.000000</td>\n",
       "    </tr>\n",
       "    <tr>\n",
       "      <th>mean</th>\n",
       "      <td>1.123462</td>\n",
       "      <td>NaN</td>\n",
       "      <td>0.779891</td>\n",
       "    </tr>\n",
       "    <tr>\n",
       "      <th>std</th>\n",
       "      <td>0.583271</td>\n",
       "      <td>NaN</td>\n",
       "      <td>0.234288</td>\n",
       "    </tr>\n",
       "    <tr>\n",
       "      <th>min</th>\n",
       "      <td>0.395577</td>\n",
       "      <td>NaN</td>\n",
       "      <td>0.546074</td>\n",
       "    </tr>\n",
       "    <tr>\n",
       "      <th>25%</th>\n",
       "      <td>0.708898</td>\n",
       "      <td>NaN</td>\n",
       "      <td>0.596425</td>\n",
       "    </tr>\n",
       "    <tr>\n",
       "      <th>50%</th>\n",
       "      <td>1.204667</td>\n",
       "      <td>NaN</td>\n",
       "      <td>0.780790</td>\n",
       "    </tr>\n",
       "    <tr>\n",
       "      <th>75%</th>\n",
       "      <td>1.442631</td>\n",
       "      <td>NaN</td>\n",
       "      <td>0.964256</td>\n",
       "    </tr>\n",
       "    <tr>\n",
       "      <th>max</th>\n",
       "      <td>1.865539</td>\n",
       "      <td>NaN</td>\n",
       "      <td>1.011911</td>\n",
       "    </tr>\n",
       "  </tbody>\n",
       "</table>\n",
       "</div>"
      ],
      "text/plain": [
       "            one  three       two\n",
       "count  5.000000    0.0  4.000000\n",
       "mean   1.123462    NaN  0.779891\n",
       "std    0.583271    NaN  0.234288\n",
       "min    0.395577    NaN  0.546074\n",
       "25%    0.708898    NaN  0.596425\n",
       "50%    1.204667    NaN  0.780790\n",
       "75%    1.442631    NaN  0.964256\n",
       "max    1.865539    NaN  1.011911"
      ]
     },
     "execution_count": 20,
     "metadata": {},
     "output_type": "execute_result"
    }
   ],
   "source": [
    "(a + b).describe()\n",
    "# Summation - NaNs are zero.\n",
    "# If everything is NaN - the result is NaN as well.\n",
    "# pandas' cumsum and cumprod ignore NaNs but preserve them in the resulting arrays."
   ]
  },
  {
   "cell_type": "markdown",
   "metadata": {},
   "source": [
    "We can also receive a boolean mask of the NaNs in a dataframe:"
   ]
  },
  {
   "cell_type": "code",
   "execution_count": 71,
   "metadata": {},
   "outputs": [
    {
     "data": {
      "text/html": [
       "<div>\n",
       "<style scoped>\n",
       "    .dataframe tbody tr th:only-of-type {\n",
       "        vertical-align: middle;\n",
       "    }\n",
       "\n",
       "    .dataframe tbody tr th {\n",
       "        vertical-align: top;\n",
       "    }\n",
       "\n",
       "    .dataframe thead th {\n",
       "        text-align: right;\n",
       "    }\n",
       "</style>\n",
       "<table border=\"1\" class=\"dataframe\">\n",
       "  <thead>\n",
       "    <tr style=\"text-align: right;\">\n",
       "      <th></th>\n",
       "      <th>one</th>\n",
       "      <th>three</th>\n",
       "      <th>two</th>\n",
       "    </tr>\n",
       "  </thead>\n",
       "  <tbody>\n",
       "    <tr>\n",
       "      <th>0</th>\n",
       "      <td>False</td>\n",
       "      <td>True</td>\n",
       "      <td>False</td>\n",
       "    </tr>\n",
       "    <tr>\n",
       "      <th>1</th>\n",
       "      <td>False</td>\n",
       "      <td>True</td>\n",
       "      <td>True</td>\n",
       "    </tr>\n",
       "    <tr>\n",
       "      <th>2</th>\n",
       "      <td>False</td>\n",
       "      <td>True</td>\n",
       "      <td>False</td>\n",
       "    </tr>\n",
       "    <tr>\n",
       "      <th>3</th>\n",
       "      <td>False</td>\n",
       "      <td>True</td>\n",
       "      <td>False</td>\n",
       "    </tr>\n",
       "    <tr>\n",
       "      <th>4</th>\n",
       "      <td>False</td>\n",
       "      <td>True</td>\n",
       "      <td>False</td>\n",
       "    </tr>\n",
       "    <tr>\n",
       "      <th>5</th>\n",
       "      <td>True</td>\n",
       "      <td>True</td>\n",
       "      <td>True</td>\n",
       "    </tr>\n",
       "  </tbody>\n",
       "</table>\n",
       "</div>"
      ],
      "text/plain": [
       "     one  three    two\n",
       "0  False   True  False\n",
       "1  False   True   True\n",
       "2  False   True  False\n",
       "3  False   True  False\n",
       "4  False   True  False\n",
       "5   True   True   True"
      ]
     },
     "execution_count": 71,
     "metadata": {},
     "output_type": "execute_result"
    }
   ],
   "source": [
    "mask = (a + b).isnull()\n",
    "mask"
   ]
  },
  {
   "cell_type": "markdown",
   "metadata": {},
   "source": [
    "#### Filling missing values"
   ]
  },
  {
   "cell_type": "markdown",
   "metadata": {},
   "source": [
    "The simplest option is to use the `fillna` method:"
   ]
  },
  {
   "cell_type": "code",
   "execution_count": 22,
   "metadata": {},
   "outputs": [
    {
     "data": {
      "text/html": [
       "<div>\n",
       "<style scoped>\n",
       "    .dataframe tbody tr th:only-of-type {\n",
       "        vertical-align: middle;\n",
       "    }\n",
       "\n",
       "    .dataframe tbody tr th {\n",
       "        vertical-align: top;\n",
       "    }\n",
       "\n",
       "    .dataframe thead th {\n",
       "        text-align: right;\n",
       "    }\n",
       "</style>\n",
       "<table border=\"1\" class=\"dataframe\">\n",
       "  <thead>\n",
       "    <tr style=\"text-align: right;\">\n",
       "      <th></th>\n",
       "      <th>one</th>\n",
       "      <th>three</th>\n",
       "      <th>two</th>\n",
       "    </tr>\n",
       "  </thead>\n",
       "  <tbody>\n",
       "    <tr>\n",
       "      <th>0</th>\n",
       "      <td>0.395577</td>\n",
       "      <td>NaN</td>\n",
       "      <td>0.613208</td>\n",
       "    </tr>\n",
       "    <tr>\n",
       "      <th>1</th>\n",
       "      <td>1.865539</td>\n",
       "      <td>NaN</td>\n",
       "      <td>NaN</td>\n",
       "    </tr>\n",
       "    <tr>\n",
       "      <th>2</th>\n",
       "      <td>0.708898</td>\n",
       "      <td>NaN</td>\n",
       "      <td>1.011911</td>\n",
       "    </tr>\n",
       "    <tr>\n",
       "      <th>3</th>\n",
       "      <td>1.442631</td>\n",
       "      <td>NaN</td>\n",
       "      <td>0.948371</td>\n",
       "    </tr>\n",
       "    <tr>\n",
       "      <th>4</th>\n",
       "      <td>NaN</td>\n",
       "      <td>NaN</td>\n",
       "      <td>0.546074</td>\n",
       "    </tr>\n",
       "    <tr>\n",
       "      <th>5</th>\n",
       "      <td>NaN</td>\n",
       "      <td>NaN</td>\n",
       "      <td>NaN</td>\n",
       "    </tr>\n",
       "  </tbody>\n",
       "</table>\n",
       "</div>"
      ],
      "text/plain": [
       "        one  three       two\n",
       "0  0.395577    NaN  0.613208\n",
       "1  1.865539    NaN       NaN\n",
       "2  0.708898    NaN  1.011911\n",
       "3  1.442631    NaN  0.948371\n",
       "4       NaN    NaN  0.546074\n",
       "5       NaN    NaN       NaN"
      ]
     },
     "execution_count": 22,
     "metadata": {},
     "output_type": "execute_result"
    }
   ],
   "source": [
    "summed = a + b\n",
    "summed.iloc[4, 0] = np.nan\n",
    "summed"
   ]
  },
  {
   "cell_type": "code",
   "execution_count": 23,
   "metadata": {},
   "outputs": [
    {
     "data": {
      "text/html": [
       "<div>\n",
       "<style scoped>\n",
       "    .dataframe tbody tr th:only-of-type {\n",
       "        vertical-align: middle;\n",
       "    }\n",
       "\n",
       "    .dataframe tbody tr th {\n",
       "        vertical-align: top;\n",
       "    }\n",
       "\n",
       "    .dataframe thead th {\n",
       "        text-align: right;\n",
       "    }\n",
       "</style>\n",
       "<table border=\"1\" class=\"dataframe\">\n",
       "  <thead>\n",
       "    <tr style=\"text-align: right;\">\n",
       "      <th></th>\n",
       "      <th>one</th>\n",
       "      <th>three</th>\n",
       "      <th>two</th>\n",
       "    </tr>\n",
       "  </thead>\n",
       "  <tbody>\n",
       "    <tr>\n",
       "      <th>0</th>\n",
       "      <td>0.395577</td>\n",
       "      <td>0.0</td>\n",
       "      <td>0.613208</td>\n",
       "    </tr>\n",
       "    <tr>\n",
       "      <th>1</th>\n",
       "      <td>1.865539</td>\n",
       "      <td>0.0</td>\n",
       "      <td>0.000000</td>\n",
       "    </tr>\n",
       "    <tr>\n",
       "      <th>2</th>\n",
       "      <td>0.708898</td>\n",
       "      <td>0.0</td>\n",
       "      <td>1.011911</td>\n",
       "    </tr>\n",
       "    <tr>\n",
       "      <th>3</th>\n",
       "      <td>1.442631</td>\n",
       "      <td>0.0</td>\n",
       "      <td>0.948371</td>\n",
       "    </tr>\n",
       "    <tr>\n",
       "      <th>4</th>\n",
       "      <td>0.000000</td>\n",
       "      <td>0.0</td>\n",
       "      <td>0.546074</td>\n",
       "    </tr>\n",
       "    <tr>\n",
       "      <th>5</th>\n",
       "      <td>0.000000</td>\n",
       "      <td>0.0</td>\n",
       "      <td>0.000000</td>\n",
       "    </tr>\n",
       "  </tbody>\n",
       "</table>\n",
       "</div>"
      ],
      "text/plain": [
       "        one  three       two\n",
       "0  0.395577    0.0  0.613208\n",
       "1  1.865539    0.0  0.000000\n",
       "2  0.708898    0.0  1.011911\n",
       "3  1.442631    0.0  0.948371\n",
       "4  0.000000    0.0  0.546074\n",
       "5  0.000000    0.0  0.000000"
      ]
     },
     "execution_count": 23,
     "metadata": {},
     "output_type": "execute_result"
    }
   ],
   "source": [
    "summed.fillna(0)"
   ]
  },
  {
   "cell_type": "code",
   "execution_count": 24,
   "metadata": {},
   "outputs": [
    {
     "data": {
      "text/html": [
       "<div>\n",
       "<style scoped>\n",
       "    .dataframe tbody tr th:only-of-type {\n",
       "        vertical-align: middle;\n",
       "    }\n",
       "\n",
       "    .dataframe tbody tr th {\n",
       "        vertical-align: top;\n",
       "    }\n",
       "\n",
       "    .dataframe thead th {\n",
       "        text-align: right;\n",
       "    }\n",
       "</style>\n",
       "<table border=\"1\" class=\"dataframe\">\n",
       "  <thead>\n",
       "    <tr style=\"text-align: right;\">\n",
       "      <th></th>\n",
       "      <th>one</th>\n",
       "      <th>three</th>\n",
       "      <th>two</th>\n",
       "    </tr>\n",
       "  </thead>\n",
       "  <tbody>\n",
       "    <tr>\n",
       "      <th>0</th>\n",
       "      <td>0.395577</td>\n",
       "      <td>missing</td>\n",
       "      <td>0.613208</td>\n",
       "    </tr>\n",
       "    <tr>\n",
       "      <th>1</th>\n",
       "      <td>1.86554</td>\n",
       "      <td>missing</td>\n",
       "      <td>missing</td>\n",
       "    </tr>\n",
       "    <tr>\n",
       "      <th>2</th>\n",
       "      <td>0.708898</td>\n",
       "      <td>missing</td>\n",
       "      <td>1.01191</td>\n",
       "    </tr>\n",
       "    <tr>\n",
       "      <th>3</th>\n",
       "      <td>1.44263</td>\n",
       "      <td>missing</td>\n",
       "      <td>0.948371</td>\n",
       "    </tr>\n",
       "    <tr>\n",
       "      <th>4</th>\n",
       "      <td>missing</td>\n",
       "      <td>missing</td>\n",
       "      <td>0.546074</td>\n",
       "    </tr>\n",
       "    <tr>\n",
       "      <th>5</th>\n",
       "      <td>missing</td>\n",
       "      <td>missing</td>\n",
       "      <td>missing</td>\n",
       "    </tr>\n",
       "  </tbody>\n",
       "</table>\n",
       "</div>"
      ],
      "text/plain": [
       "        one    three       two\n",
       "0  0.395577  missing  0.613208\n",
       "1   1.86554  missing   missing\n",
       "2  0.708898  missing   1.01191\n",
       "3   1.44263  missing  0.948371\n",
       "4   missing  missing  0.546074\n",
       "5   missing  missing   missing"
      ]
     },
     "execution_count": 24,
     "metadata": {},
     "output_type": "execute_result"
    }
   ],
   "source": [
    "summed.fillna('missing')  # changed dtype to \"object\""
   ]
  },
  {
   "cell_type": "code",
   "execution_count": 25,
   "metadata": {},
   "outputs": [
    {
     "data": {
      "text/html": [
       "<div>\n",
       "<style scoped>\n",
       "    .dataframe tbody tr th:only-of-type {\n",
       "        vertical-align: middle;\n",
       "    }\n",
       "\n",
       "    .dataframe tbody tr th {\n",
       "        vertical-align: top;\n",
       "    }\n",
       "\n",
       "    .dataframe thead th {\n",
       "        text-align: right;\n",
       "    }\n",
       "</style>\n",
       "<table border=\"1\" class=\"dataframe\">\n",
       "  <thead>\n",
       "    <tr style=\"text-align: right;\">\n",
       "      <th></th>\n",
       "      <th>one</th>\n",
       "      <th>three</th>\n",
       "      <th>two</th>\n",
       "    </tr>\n",
       "  </thead>\n",
       "  <tbody>\n",
       "    <tr>\n",
       "      <th>0</th>\n",
       "      <td>0.395577</td>\n",
       "      <td>NaN</td>\n",
       "      <td>0.613208</td>\n",
       "    </tr>\n",
       "    <tr>\n",
       "      <th>1</th>\n",
       "      <td>1.865539</td>\n",
       "      <td>NaN</td>\n",
       "      <td>0.613208</td>\n",
       "    </tr>\n",
       "    <tr>\n",
       "      <th>2</th>\n",
       "      <td>0.708898</td>\n",
       "      <td>NaN</td>\n",
       "      <td>1.011911</td>\n",
       "    </tr>\n",
       "    <tr>\n",
       "      <th>3</th>\n",
       "      <td>1.442631</td>\n",
       "      <td>NaN</td>\n",
       "      <td>0.948371</td>\n",
       "    </tr>\n",
       "    <tr>\n",
       "      <th>4</th>\n",
       "      <td>1.442631</td>\n",
       "      <td>NaN</td>\n",
       "      <td>0.546074</td>\n",
       "    </tr>\n",
       "    <tr>\n",
       "      <th>5</th>\n",
       "      <td>1.442631</td>\n",
       "      <td>NaN</td>\n",
       "      <td>0.546074</td>\n",
       "    </tr>\n",
       "  </tbody>\n",
       "</table>\n",
       "</div>"
      ],
      "text/plain": [
       "        one  three       two\n",
       "0  0.395577    NaN  0.613208\n",
       "1  1.865539    NaN  0.613208\n",
       "2  0.708898    NaN  1.011911\n",
       "3  1.442631    NaN  0.948371\n",
       "4  1.442631    NaN  0.546074\n",
       "5  1.442631    NaN  0.546074"
      ]
     },
     "execution_count": 25,
     "metadata": {},
     "output_type": "execute_result"
    }
   ],
   "source": [
    "summed.fillna(method='pad')  # The NaN column remained the same, but values were propagated forward\n",
    "# We can also use the \"backfill\" method to fill in values to the back"
   ]
  },
  {
   "cell_type": "code",
   "execution_count": 26,
   "metadata": {},
   "outputs": [
    {
     "data": {
      "text/html": [
       "<div>\n",
       "<style scoped>\n",
       "    .dataframe tbody tr th:only-of-type {\n",
       "        vertical-align: middle;\n",
       "    }\n",
       "\n",
       "    .dataframe tbody tr th {\n",
       "        vertical-align: top;\n",
       "    }\n",
       "\n",
       "    .dataframe thead th {\n",
       "        text-align: right;\n",
       "    }\n",
       "</style>\n",
       "<table border=\"1\" class=\"dataframe\">\n",
       "  <thead>\n",
       "    <tr style=\"text-align: right;\">\n",
       "      <th></th>\n",
       "      <th>one</th>\n",
       "      <th>three</th>\n",
       "      <th>two</th>\n",
       "    </tr>\n",
       "  </thead>\n",
       "  <tbody>\n",
       "    <tr>\n",
       "      <th>0</th>\n",
       "      <td>0.395577</td>\n",
       "      <td>NaN</td>\n",
       "      <td>0.613208</td>\n",
       "    </tr>\n",
       "    <tr>\n",
       "      <th>1</th>\n",
       "      <td>1.865539</td>\n",
       "      <td>NaN</td>\n",
       "      <td>0.613208</td>\n",
       "    </tr>\n",
       "    <tr>\n",
       "      <th>2</th>\n",
       "      <td>0.708898</td>\n",
       "      <td>NaN</td>\n",
       "      <td>1.011911</td>\n",
       "    </tr>\n",
       "    <tr>\n",
       "      <th>3</th>\n",
       "      <td>1.442631</td>\n",
       "      <td>NaN</td>\n",
       "      <td>0.948371</td>\n",
       "    </tr>\n",
       "    <tr>\n",
       "      <th>4</th>\n",
       "      <td>1.442631</td>\n",
       "      <td>NaN</td>\n",
       "      <td>0.546074</td>\n",
       "    </tr>\n",
       "    <tr>\n",
       "      <th>5</th>\n",
       "      <td>NaN</td>\n",
       "      <td>NaN</td>\n",
       "      <td>0.546074</td>\n",
       "    </tr>\n",
       "  </tbody>\n",
       "</table>\n",
       "</div>"
      ],
      "text/plain": [
       "        one  three       two\n",
       "0  0.395577    NaN  0.613208\n",
       "1  1.865539    NaN  0.613208\n",
       "2  0.708898    NaN  1.011911\n",
       "3  1.442631    NaN  0.948371\n",
       "4  1.442631    NaN  0.546074\n",
       "5       NaN    NaN  0.546074"
      ]
     },
     "execution_count": 26,
     "metadata": {},
     "output_type": "execute_result"
    }
   ],
   "source": [
    "summed.fillna(method='pad', limit=1)  # No more than one padded NaN in a row"
   ]
  },
  {
   "cell_type": "code",
   "execution_count": 27,
   "metadata": {},
   "outputs": [
    {
     "data": {
      "text/html": [
       "<div>\n",
       "<style scoped>\n",
       "    .dataframe tbody tr th:only-of-type {\n",
       "        vertical-align: middle;\n",
       "    }\n",
       "\n",
       "    .dataframe tbody tr th {\n",
       "        vertical-align: top;\n",
       "    }\n",
       "\n",
       "    .dataframe thead th {\n",
       "        text-align: right;\n",
       "    }\n",
       "</style>\n",
       "<table border=\"1\" class=\"dataframe\">\n",
       "  <thead>\n",
       "    <tr style=\"text-align: right;\">\n",
       "      <th></th>\n",
       "      <th>one</th>\n",
       "      <th>three</th>\n",
       "      <th>two</th>\n",
       "    </tr>\n",
       "  </thead>\n",
       "  <tbody>\n",
       "    <tr>\n",
       "      <th>0</th>\n",
       "      <td>0.395577</td>\n",
       "      <td>NaN</td>\n",
       "      <td>0.613208</td>\n",
       "    </tr>\n",
       "    <tr>\n",
       "      <th>1</th>\n",
       "      <td>1.865539</td>\n",
       "      <td>NaN</td>\n",
       "      <td>0.779891</td>\n",
       "    </tr>\n",
       "    <tr>\n",
       "      <th>2</th>\n",
       "      <td>0.708898</td>\n",
       "      <td>NaN</td>\n",
       "      <td>1.011911</td>\n",
       "    </tr>\n",
       "    <tr>\n",
       "      <th>3</th>\n",
       "      <td>1.442631</td>\n",
       "      <td>NaN</td>\n",
       "      <td>0.948371</td>\n",
       "    </tr>\n",
       "    <tr>\n",
       "      <th>4</th>\n",
       "      <td>1.103161</td>\n",
       "      <td>NaN</td>\n",
       "      <td>0.546074</td>\n",
       "    </tr>\n",
       "    <tr>\n",
       "      <th>5</th>\n",
       "      <td>1.103161</td>\n",
       "      <td>NaN</td>\n",
       "      <td>0.779891</td>\n",
       "    </tr>\n",
       "  </tbody>\n",
       "</table>\n",
       "</div>"
      ],
      "text/plain": [
       "        one  three       two\n",
       "0  0.395577    NaN  0.613208\n",
       "1  1.865539    NaN  0.779891\n",
       "2  0.708898    NaN  1.011911\n",
       "3  1.442631    NaN  0.948371\n",
       "4  1.103161    NaN  0.546074\n",
       "5  1.103161    NaN  0.779891"
      ]
     },
     "execution_count": 27,
     "metadata": {},
     "output_type": "execute_result"
    }
   ],
   "source": [
    "summed.fillna(summed.mean())  # each column received its respective mean. The NaN column is untouched."
   ]
  },
  {
   "cell_type": "markdown",
   "metadata": {},
   "source": [
    "#### Dropping missing values"
   ]
  },
  {
   "cell_type": "markdown",
   "metadata": {},
   "source": [
    "We've already seen in the short exercise the `dropna` method, that allows us to drop missing values:"
   ]
  },
  {
   "cell_type": "code",
   "execution_count": 28,
   "metadata": {},
   "outputs": [
    {
     "data": {
      "text/html": [
       "<div>\n",
       "<style scoped>\n",
       "    .dataframe tbody tr th:only-of-type {\n",
       "        vertical-align: middle;\n",
       "    }\n",
       "\n",
       "    .dataframe tbody tr th {\n",
       "        vertical-align: top;\n",
       "    }\n",
       "\n",
       "    .dataframe thead th {\n",
       "        text-align: right;\n",
       "    }\n",
       "</style>\n",
       "<table border=\"1\" class=\"dataframe\">\n",
       "  <thead>\n",
       "    <tr style=\"text-align: right;\">\n",
       "      <th></th>\n",
       "      <th>one</th>\n",
       "      <th>three</th>\n",
       "      <th>two</th>\n",
       "    </tr>\n",
       "  </thead>\n",
       "  <tbody>\n",
       "    <tr>\n",
       "      <th>0</th>\n",
       "      <td>0.395577</td>\n",
       "      <td>NaN</td>\n",
       "      <td>0.613208</td>\n",
       "    </tr>\n",
       "    <tr>\n",
       "      <th>1</th>\n",
       "      <td>1.865539</td>\n",
       "      <td>NaN</td>\n",
       "      <td>NaN</td>\n",
       "    </tr>\n",
       "    <tr>\n",
       "      <th>2</th>\n",
       "      <td>0.708898</td>\n",
       "      <td>NaN</td>\n",
       "      <td>1.011911</td>\n",
       "    </tr>\n",
       "    <tr>\n",
       "      <th>3</th>\n",
       "      <td>1.442631</td>\n",
       "      <td>NaN</td>\n",
       "      <td>0.948371</td>\n",
       "    </tr>\n",
       "    <tr>\n",
       "      <th>4</th>\n",
       "      <td>NaN</td>\n",
       "      <td>NaN</td>\n",
       "      <td>0.546074</td>\n",
       "    </tr>\n",
       "    <tr>\n",
       "      <th>5</th>\n",
       "      <td>NaN</td>\n",
       "      <td>NaN</td>\n",
       "      <td>NaN</td>\n",
       "    </tr>\n",
       "  </tbody>\n",
       "</table>\n",
       "</div>"
      ],
      "text/plain": [
       "        one  three       two\n",
       "0  0.395577    NaN  0.613208\n",
       "1  1.865539    NaN       NaN\n",
       "2  0.708898    NaN  1.011911\n",
       "3  1.442631    NaN  0.948371\n",
       "4       NaN    NaN  0.546074\n",
       "5       NaN    NaN       NaN"
      ]
     },
     "execution_count": 28,
     "metadata": {},
     "output_type": "execute_result"
    }
   ],
   "source": [
    "summed"
   ]
  },
  {
   "cell_type": "code",
   "execution_count": 29,
   "metadata": {},
   "outputs": [
    {
     "data": {
      "text/html": [
       "<div>\n",
       "<style scoped>\n",
       "    .dataframe tbody tr th:only-of-type {\n",
       "        vertical-align: middle;\n",
       "    }\n",
       "\n",
       "    .dataframe tbody tr th {\n",
       "        vertical-align: top;\n",
       "    }\n",
       "\n",
       "    .dataframe thead th {\n",
       "        text-align: right;\n",
       "    }\n",
       "</style>\n",
       "<table border=\"1\" class=\"dataframe\">\n",
       "  <thead>\n",
       "    <tr style=\"text-align: right;\">\n",
       "      <th></th>\n",
       "      <th>one</th>\n",
       "      <th>three</th>\n",
       "      <th>two</th>\n",
       "    </tr>\n",
       "  </thead>\n",
       "  <tbody>\n",
       "    <tr>\n",
       "      <th>0</th>\n",
       "      <td>0.395577</td>\n",
       "      <td>NaN</td>\n",
       "      <td>0.613208</td>\n",
       "    </tr>\n",
       "    <tr>\n",
       "      <th>1</th>\n",
       "      <td>1.865539</td>\n",
       "      <td>NaN</td>\n",
       "      <td>0.779891</td>\n",
       "    </tr>\n",
       "    <tr>\n",
       "      <th>2</th>\n",
       "      <td>0.708898</td>\n",
       "      <td>NaN</td>\n",
       "      <td>1.011911</td>\n",
       "    </tr>\n",
       "    <tr>\n",
       "      <th>3</th>\n",
       "      <td>1.442631</td>\n",
       "      <td>NaN</td>\n",
       "      <td>0.948371</td>\n",
       "    </tr>\n",
       "    <tr>\n",
       "      <th>4</th>\n",
       "      <td>1.103161</td>\n",
       "      <td>NaN</td>\n",
       "      <td>0.546074</td>\n",
       "    </tr>\n",
       "    <tr>\n",
       "      <th>5</th>\n",
       "      <td>1.103161</td>\n",
       "      <td>NaN</td>\n",
       "      <td>0.779891</td>\n",
       "    </tr>\n",
       "  </tbody>\n",
       "</table>\n",
       "</div>"
      ],
      "text/plain": [
       "        one  three       two\n",
       "0  0.395577    NaN  0.613208\n",
       "1  1.865539    NaN  0.779891\n",
       "2  0.708898    NaN  1.011911\n",
       "3  1.442631    NaN  0.948371\n",
       "4  1.103161    NaN  0.546074\n",
       "5  1.103161    NaN  0.779891"
      ]
     },
     "execution_count": 29,
     "metadata": {},
     "output_type": "execute_result"
    }
   ],
   "source": [
    "filled = summed.fillna(summed.mean())\n",
    "filled"
   ]
  },
  {
   "cell_type": "code",
   "execution_count": 30,
   "metadata": {},
   "outputs": [
    {
     "data": {
      "text/html": [
       "<div>\n",
       "<style scoped>\n",
       "    .dataframe tbody tr th:only-of-type {\n",
       "        vertical-align: middle;\n",
       "    }\n",
       "\n",
       "    .dataframe tbody tr th {\n",
       "        vertical-align: top;\n",
       "    }\n",
       "\n",
       "    .dataframe thead th {\n",
       "        text-align: right;\n",
       "    }\n",
       "</style>\n",
       "<table border=\"1\" class=\"dataframe\">\n",
       "  <thead>\n",
       "    <tr style=\"text-align: right;\">\n",
       "      <th></th>\n",
       "      <th>one</th>\n",
       "      <th>two</th>\n",
       "    </tr>\n",
       "  </thead>\n",
       "  <tbody>\n",
       "    <tr>\n",
       "      <th>0</th>\n",
       "      <td>0.395577</td>\n",
       "      <td>0.613208</td>\n",
       "    </tr>\n",
       "    <tr>\n",
       "      <th>1</th>\n",
       "      <td>1.865539</td>\n",
       "      <td>0.779891</td>\n",
       "    </tr>\n",
       "    <tr>\n",
       "      <th>2</th>\n",
       "      <td>0.708898</td>\n",
       "      <td>1.011911</td>\n",
       "    </tr>\n",
       "    <tr>\n",
       "      <th>3</th>\n",
       "      <td>1.442631</td>\n",
       "      <td>0.948371</td>\n",
       "    </tr>\n",
       "    <tr>\n",
       "      <th>4</th>\n",
       "      <td>1.103161</td>\n",
       "      <td>0.546074</td>\n",
       "    </tr>\n",
       "    <tr>\n",
       "      <th>5</th>\n",
       "      <td>1.103161</td>\n",
       "      <td>0.779891</td>\n",
       "    </tr>\n",
       "  </tbody>\n",
       "</table>\n",
       "</div>"
      ],
      "text/plain": [
       "        one       two\n",
       "0  0.395577  0.613208\n",
       "1  1.865539  0.779891\n",
       "2  0.708898  1.011911\n",
       "3  1.442631  0.948371\n",
       "4  1.103161  0.546074\n",
       "5  1.103161  0.779891"
      ]
     },
     "execution_count": 30,
     "metadata": {},
     "output_type": "execute_result"
    }
   ],
   "source": [
    "filled.dropna(axis=1)  # each column containing NaN is dropped"
   ]
  },
  {
   "cell_type": "code",
   "execution_count": 31,
   "metadata": {},
   "outputs": [
    {
     "data": {
      "text/html": [
       "<div>\n",
       "<style scoped>\n",
       "    .dataframe tbody tr th:only-of-type {\n",
       "        vertical-align: middle;\n",
       "    }\n",
       "\n",
       "    .dataframe tbody tr th {\n",
       "        vertical-align: top;\n",
       "    }\n",
       "\n",
       "    .dataframe thead th {\n",
       "        text-align: right;\n",
       "    }\n",
       "</style>\n",
       "<table border=\"1\" class=\"dataframe\">\n",
       "  <thead>\n",
       "    <tr style=\"text-align: right;\">\n",
       "      <th></th>\n",
       "      <th>one</th>\n",
       "      <th>three</th>\n",
       "      <th>two</th>\n",
       "    </tr>\n",
       "  </thead>\n",
       "  <tbody>\n",
       "  </tbody>\n",
       "</table>\n",
       "</div>"
      ],
      "text/plain": [
       "Empty DataFrame\n",
       "Columns: [one, three, two]\n",
       "Index: []"
      ]
     },
     "execution_count": 31,
     "metadata": {},
     "output_type": "execute_result"
    }
   ],
   "source": [
    "filled.dropna(axis=0)  # each row containing a NaN is dropped"
   ]
  },
  {
   "cell_type": "markdown",
   "metadata": {},
   "source": [
    "#### Interpolation"
   ]
  },
  {
   "cell_type": "markdown",
   "metadata": {},
   "source": [
    "The last way to to fill in missing values is through interpolation.\n",
    "\n",
    "The default interpolation methods perform linear interpolation on the data, based on its ordinal index:"
   ]
  },
  {
   "cell_type": "code",
   "execution_count": 32,
   "metadata": {},
   "outputs": [
    {
     "data": {
      "text/html": [
       "<div>\n",
       "<style scoped>\n",
       "    .dataframe tbody tr th:only-of-type {\n",
       "        vertical-align: middle;\n",
       "    }\n",
       "\n",
       "    .dataframe tbody tr th {\n",
       "        vertical-align: top;\n",
       "    }\n",
       "\n",
       "    .dataframe thead th {\n",
       "        text-align: right;\n",
       "    }\n",
       "</style>\n",
       "<table border=\"1\" class=\"dataframe\">\n",
       "  <thead>\n",
       "    <tr style=\"text-align: right;\">\n",
       "      <th></th>\n",
       "      <th>one</th>\n",
       "      <th>three</th>\n",
       "      <th>two</th>\n",
       "    </tr>\n",
       "  </thead>\n",
       "  <tbody>\n",
       "    <tr>\n",
       "      <th>0</th>\n",
       "      <td>0.395577</td>\n",
       "      <td>NaN</td>\n",
       "      <td>0.613208</td>\n",
       "    </tr>\n",
       "    <tr>\n",
       "      <th>1</th>\n",
       "      <td>1.865539</td>\n",
       "      <td>NaN</td>\n",
       "      <td>NaN</td>\n",
       "    </tr>\n",
       "    <tr>\n",
       "      <th>2</th>\n",
       "      <td>0.708898</td>\n",
       "      <td>NaN</td>\n",
       "      <td>1.011911</td>\n",
       "    </tr>\n",
       "    <tr>\n",
       "      <th>3</th>\n",
       "      <td>1.442631</td>\n",
       "      <td>NaN</td>\n",
       "      <td>0.948371</td>\n",
       "    </tr>\n",
       "    <tr>\n",
       "      <th>4</th>\n",
       "      <td>NaN</td>\n",
       "      <td>NaN</td>\n",
       "      <td>0.546074</td>\n",
       "    </tr>\n",
       "    <tr>\n",
       "      <th>5</th>\n",
       "      <td>NaN</td>\n",
       "      <td>NaN</td>\n",
       "      <td>NaN</td>\n",
       "    </tr>\n",
       "  </tbody>\n",
       "</table>\n",
       "</div>"
      ],
      "text/plain": [
       "        one  three       two\n",
       "0  0.395577    NaN  0.613208\n",
       "1  1.865539    NaN       NaN\n",
       "2  0.708898    NaN  1.011911\n",
       "3  1.442631    NaN  0.948371\n",
       "4       NaN    NaN  0.546074\n",
       "5       NaN    NaN       NaN"
      ]
     },
     "execution_count": 32,
     "metadata": {},
     "output_type": "execute_result"
    }
   ],
   "source": [
    "summed"
   ]
  },
  {
   "cell_type": "code",
   "execution_count": 33,
   "metadata": {},
   "outputs": [
    {
     "data": {
      "text/html": [
       "<div>\n",
       "<style scoped>\n",
       "    .dataframe tbody tr th:only-of-type {\n",
       "        vertical-align: middle;\n",
       "    }\n",
       "\n",
       "    .dataframe tbody tr th {\n",
       "        vertical-align: top;\n",
       "    }\n",
       "\n",
       "    .dataframe thead th {\n",
       "        text-align: right;\n",
       "    }\n",
       "</style>\n",
       "<table border=\"1\" class=\"dataframe\">\n",
       "  <thead>\n",
       "    <tr style=\"text-align: right;\">\n",
       "      <th></th>\n",
       "      <th>one</th>\n",
       "      <th>three</th>\n",
       "      <th>two</th>\n",
       "    </tr>\n",
       "  </thead>\n",
       "  <tbody>\n",
       "    <tr>\n",
       "      <th>0</th>\n",
       "      <td>0.395577</td>\n",
       "      <td>NaN</td>\n",
       "      <td>0.613208</td>\n",
       "    </tr>\n",
       "    <tr>\n",
       "      <th>1</th>\n",
       "      <td>1.865539</td>\n",
       "      <td>NaN</td>\n",
       "      <td>0.812560</td>\n",
       "    </tr>\n",
       "    <tr>\n",
       "      <th>2</th>\n",
       "      <td>0.708898</td>\n",
       "      <td>NaN</td>\n",
       "      <td>1.011911</td>\n",
       "    </tr>\n",
       "    <tr>\n",
       "      <th>3</th>\n",
       "      <td>1.442631</td>\n",
       "      <td>NaN</td>\n",
       "      <td>0.948371</td>\n",
       "    </tr>\n",
       "    <tr>\n",
       "      <th>4</th>\n",
       "      <td>1.442631</td>\n",
       "      <td>NaN</td>\n",
       "      <td>0.546074</td>\n",
       "    </tr>\n",
       "    <tr>\n",
       "      <th>5</th>\n",
       "      <td>1.442631</td>\n",
       "      <td>NaN</td>\n",
       "      <td>0.546074</td>\n",
       "    </tr>\n",
       "  </tbody>\n",
       "</table>\n",
       "</div>"
      ],
      "text/plain": [
       "        one  three       two\n",
       "0  0.395577    NaN  0.613208\n",
       "1  1.865539    NaN  0.812560\n",
       "2  0.708898    NaN  1.011911\n",
       "3  1.442631    NaN  0.948371\n",
       "4  1.442631    NaN  0.546074\n",
       "5  1.442631    NaN  0.546074"
      ]
     },
     "execution_count": 33,
     "metadata": {},
     "output_type": "execute_result"
    }
   ],
   "source": [
    "summed.interpolate()  # notice all the details in the interpolation of the three columns"
   ]
  },
  {
   "cell_type": "markdown",
   "metadata": {},
   "source": [
    "We can also interpolate with the actual index values in mind:"
   ]
  },
  {
   "cell_type": "code",
   "execution_count": 34,
   "metadata": {},
   "outputs": [
    {
     "data": {
      "text/html": [
       "<div>\n",
       "<style scoped>\n",
       "    .dataframe tbody tr th:only-of-type {\n",
       "        vertical-align: middle;\n",
       "    }\n",
       "\n",
       "    .dataframe tbody tr th {\n",
       "        vertical-align: top;\n",
       "    }\n",
       "\n",
       "    .dataframe thead th {\n",
       "        text-align: right;\n",
       "    }\n",
       "</style>\n",
       "<table border=\"1\" class=\"dataframe\">\n",
       "  <thead>\n",
       "    <tr style=\"text-align: right;\">\n",
       "      <th></th>\n",
       "      <th>0</th>\n",
       "    </tr>\n",
       "  </thead>\n",
       "  <tbody>\n",
       "    <tr>\n",
       "      <th>2018-01-01</th>\n",
       "      <td>1.0</td>\n",
       "    </tr>\n",
       "    <tr>\n",
       "      <th>2018-01-04</th>\n",
       "      <td>NaN</td>\n",
       "    </tr>\n",
       "    <tr>\n",
       "      <th>2018-01-05</th>\n",
       "      <td>5.0</td>\n",
       "    </tr>\n",
       "    <tr>\n",
       "      <th>2018-01-07</th>\n",
       "      <td>NaN</td>\n",
       "    </tr>\n",
       "    <tr>\n",
       "      <th>2018-01-08</th>\n",
       "      <td>8.0</td>\n",
       "    </tr>\n",
       "  </tbody>\n",
       "</table>\n",
       "</div>"
      ],
      "text/plain": [
       "              0\n",
       "2018-01-01  1.0\n",
       "2018-01-04  NaN\n",
       "2018-01-05  5.0\n",
       "2018-01-07  NaN\n",
       "2018-01-08  8.0"
      ]
     },
     "execution_count": 34,
     "metadata": {},
     "output_type": "execute_result"
    }
   ],
   "source": [
    "# Create \"missing\" index\n",
    "timeindex = pd.Series(['1/1/2018', '1/4/2018', '1/5/2018', '1/7/2018', '1/8/2018'])\n",
    "timeindex = pd.to_datetime(timeindex)\n",
    "data_to_interp = [1, np.nan, 5, np.nan, 8]\n",
    "df_to_interp = pd.DataFrame(data_to_interp, index=timeindex)\n",
    "df_to_interp"
   ]
  },
  {
   "cell_type": "code",
   "execution_count": 35,
   "metadata": {},
   "outputs": [
    {
     "data": {
      "text/html": [
       "<div>\n",
       "<style scoped>\n",
       "    .dataframe tbody tr th:only-of-type {\n",
       "        vertical-align: middle;\n",
       "    }\n",
       "\n",
       "    .dataframe tbody tr th {\n",
       "        vertical-align: top;\n",
       "    }\n",
       "\n",
       "    .dataframe thead th {\n",
       "        text-align: right;\n",
       "    }\n",
       "</style>\n",
       "<table border=\"1\" class=\"dataframe\">\n",
       "  <thead>\n",
       "    <tr style=\"text-align: right;\">\n",
       "      <th></th>\n",
       "      <th>0</th>\n",
       "    </tr>\n",
       "  </thead>\n",
       "  <tbody>\n",
       "    <tr>\n",
       "      <th>2018-01-01</th>\n",
       "      <td>1.0</td>\n",
       "    </tr>\n",
       "    <tr>\n",
       "      <th>2018-01-04</th>\n",
       "      <td>3.0</td>\n",
       "    </tr>\n",
       "    <tr>\n",
       "      <th>2018-01-05</th>\n",
       "      <td>5.0</td>\n",
       "    </tr>\n",
       "    <tr>\n",
       "      <th>2018-01-07</th>\n",
       "      <td>6.5</td>\n",
       "    </tr>\n",
       "    <tr>\n",
       "      <th>2018-01-08</th>\n",
       "      <td>8.0</td>\n",
       "    </tr>\n",
       "  </tbody>\n",
       "</table>\n",
       "</div>"
      ],
      "text/plain": [
       "              0\n",
       "2018-01-01  1.0\n",
       "2018-01-04  3.0\n",
       "2018-01-05  5.0\n",
       "2018-01-07  6.5\n",
       "2018-01-08  8.0"
      ]
     },
     "execution_count": 35,
     "metadata": {},
     "output_type": "execute_result"
    }
   ],
   "source": [
    "df_to_interp.interpolate()  # the index values aren't taken into account"
   ]
  },
  {
   "cell_type": "code",
   "execution_count": 36,
   "metadata": {},
   "outputs": [
    {
     "data": {
      "text/html": [
       "<div>\n",
       "<style scoped>\n",
       "    .dataframe tbody tr th:only-of-type {\n",
       "        vertical-align: middle;\n",
       "    }\n",
       "\n",
       "    .dataframe tbody tr th {\n",
       "        vertical-align: top;\n",
       "    }\n",
       "\n",
       "    .dataframe thead th {\n",
       "        text-align: right;\n",
       "    }\n",
       "</style>\n",
       "<table border=\"1\" class=\"dataframe\">\n",
       "  <thead>\n",
       "    <tr style=\"text-align: right;\">\n",
       "      <th></th>\n",
       "      <th>0</th>\n",
       "    </tr>\n",
       "  </thead>\n",
       "  <tbody>\n",
       "    <tr>\n",
       "      <th>2018-01-01</th>\n",
       "      <td>1.0</td>\n",
       "    </tr>\n",
       "    <tr>\n",
       "      <th>2018-01-04</th>\n",
       "      <td>4.0</td>\n",
       "    </tr>\n",
       "    <tr>\n",
       "      <th>2018-01-05</th>\n",
       "      <td>5.0</td>\n",
       "    </tr>\n",
       "    <tr>\n",
       "      <th>2018-01-07</th>\n",
       "      <td>7.0</td>\n",
       "    </tr>\n",
       "    <tr>\n",
       "      <th>2018-01-08</th>\n",
       "      <td>8.0</td>\n",
       "    </tr>\n",
       "  </tbody>\n",
       "</table>\n",
       "</div>"
      ],
      "text/plain": [
       "              0\n",
       "2018-01-01  1.0\n",
       "2018-01-04  4.0\n",
       "2018-01-05  5.0\n",
       "2018-01-07  7.0\n",
       "2018-01-08  8.0"
      ]
     },
     "execution_count": 36,
     "metadata": {},
     "output_type": "execute_result"
    }
   ],
   "source": [
    "df_to_interp.interpolate(method='index')  # notice how the data obtains the \"right\" values"
   ]
  },
  {
   "cell_type": "markdown",
   "metadata": {},
   "source": [
    "Pandas has many other interpolation methods, based on SciPy's. "
   ]
  },
  {
   "cell_type": "code",
   "execution_count": 37,
   "metadata": {},
   "outputs": [
    {
     "data": {
      "text/html": [
       "<div>\n",
       "<style scoped>\n",
       "    .dataframe tbody tr th:only-of-type {\n",
       "        vertical-align: middle;\n",
       "    }\n",
       "\n",
       "    .dataframe tbody tr th {\n",
       "        vertical-align: top;\n",
       "    }\n",
       "\n",
       "    .dataframe thead th {\n",
       "        text-align: right;\n",
       "    }\n",
       "</style>\n",
       "<table border=\"1\" class=\"dataframe\">\n",
       "  <thead>\n",
       "    <tr style=\"text-align: right;\">\n",
       "      <th></th>\n",
       "      <th>A</th>\n",
       "      <th>B</th>\n",
       "    </tr>\n",
       "  </thead>\n",
       "  <tbody>\n",
       "    <tr>\n",
       "      <th>0</th>\n",
       "      <td>1.0</td>\n",
       "      <td>0.25</td>\n",
       "    </tr>\n",
       "    <tr>\n",
       "      <th>1</th>\n",
       "      <td>2.1</td>\n",
       "      <td>NaN</td>\n",
       "    </tr>\n",
       "    <tr>\n",
       "      <th>2</th>\n",
       "      <td>NaN</td>\n",
       "      <td>NaN</td>\n",
       "    </tr>\n",
       "    <tr>\n",
       "      <th>3</th>\n",
       "      <td>4.7</td>\n",
       "      <td>4.00</td>\n",
       "    </tr>\n",
       "    <tr>\n",
       "      <th>4</th>\n",
       "      <td>5.6</td>\n",
       "      <td>12.20</td>\n",
       "    </tr>\n",
       "    <tr>\n",
       "      <th>5</th>\n",
       "      <td>6.8</td>\n",
       "      <td>14.40</td>\n",
       "    </tr>\n",
       "  </tbody>\n",
       "</table>\n",
       "</div>"
      ],
      "text/plain": [
       "     A      B\n",
       "0  1.0   0.25\n",
       "1  2.1    NaN\n",
       "2  NaN    NaN\n",
       "3  4.7   4.00\n",
       "4  5.6  12.20\n",
       "5  6.8  14.40"
      ]
     },
     "execution_count": 37,
     "metadata": {},
     "output_type": "execute_result"
    }
   ],
   "source": [
    "df_inter_2 = pd.DataFrame({'A': [1, 2.1, np.nan, 4.7, 5.6, 6.8],\n",
    "                           'B': [.25, np.nan, np.nan, 4, 12.2, 14.4]})\n",
    "df_inter_2"
   ]
  },
  {
   "cell_type": "code",
   "execution_count": 38,
   "metadata": {},
   "outputs": [
    {
     "data": {
      "text/html": [
       "<div>\n",
       "<style scoped>\n",
       "    .dataframe tbody tr th:only-of-type {\n",
       "        vertical-align: middle;\n",
       "    }\n",
       "\n",
       "    .dataframe tbody tr th {\n",
       "        vertical-align: top;\n",
       "    }\n",
       "\n",
       "    .dataframe thead th {\n",
       "        text-align: right;\n",
       "    }\n",
       "</style>\n",
       "<table border=\"1\" class=\"dataframe\">\n",
       "  <thead>\n",
       "    <tr style=\"text-align: right;\">\n",
       "      <th></th>\n",
       "      <th>A</th>\n",
       "      <th>B</th>\n",
       "    </tr>\n",
       "  </thead>\n",
       "  <tbody>\n",
       "    <tr>\n",
       "      <th>0</th>\n",
       "      <td>1.000000</td>\n",
       "      <td>0.250000</td>\n",
       "    </tr>\n",
       "    <tr>\n",
       "      <th>1</th>\n",
       "      <td>2.100000</td>\n",
       "      <td>-2.703846</td>\n",
       "    </tr>\n",
       "    <tr>\n",
       "      <th>2</th>\n",
       "      <td>3.451351</td>\n",
       "      <td>-1.453846</td>\n",
       "    </tr>\n",
       "    <tr>\n",
       "      <th>3</th>\n",
       "      <td>4.700000</td>\n",
       "      <td>4.000000</td>\n",
       "    </tr>\n",
       "    <tr>\n",
       "      <th>4</th>\n",
       "      <td>5.600000</td>\n",
       "      <td>12.200000</td>\n",
       "    </tr>\n",
       "    <tr>\n",
       "      <th>5</th>\n",
       "      <td>6.800000</td>\n",
       "      <td>14.400000</td>\n",
       "    </tr>\n",
       "  </tbody>\n",
       "</table>\n",
       "</div>"
      ],
      "text/plain": [
       "          A          B\n",
       "0  1.000000   0.250000\n",
       "1  2.100000  -2.703846\n",
       "2  3.451351  -1.453846\n",
       "3  4.700000   4.000000\n",
       "4  5.600000  12.200000\n",
       "5  6.800000  14.400000"
      ]
     },
     "execution_count": 38,
     "metadata": {},
     "output_type": "execute_result"
    }
   ],
   "source": [
    "df_inter_2.interpolate(method='polynomial', order=2)"
   ]
  },
  {
   "cell_type": "markdown",
   "metadata": {},
   "source": [
    "## Hierarchical Indexing"
   ]
  },
  {
   "cell_type": "markdown",
   "metadata": {},
   "source": [
    "Last time we mentioned that while a DataFrame is inherently a 2D object, it can contain multi-dimensional data. The way a DataFrame (and a Series) does that is with Hierarchical Indexing, or sometimes Multi-Indexing.\n",
    "\n",
    "After the deprecation of `pd.Panel`, this is the only remaining way to represent data of higher dimensions in pandas, making it a very useful tool for data science."
   ]
  },
  {
   "cell_type": "markdown",
   "metadata": {},
   "source": [
    "### Simple Example - Temperature in a Grid"
   ]
  },
  {
   "cell_type": "markdown",
   "metadata": {},
   "source": [
    "Let's assume I wish to represent points on a 2D grid, perhaps inside a square, that represent the temperature in different locations around this grid. The obvious way to do this is to define a set of two coordinates, $(x, y)$, which point to a specific location inside my square. These two coordinates should also have a value attached to them - the temperature. A list of such coordinates can be a simple Series:"
   ]
  },
  {
   "cell_type": "code",
   "execution_count": 39,
   "metadata": {},
   "outputs": [
    {
     "data": {
      "text/plain": [
       "(r0, c0)    1.20\n",
       "(r0, c1)    0.80\n",
       "(r0, c2)    3.10\n",
       "(r1, c0)    0.10\n",
       "(r1, c1)    0.05\n",
       "(r1, c2)    1.00\n",
       "(r2, c0)    1.40\n",
       "(r2, c1)    2.10\n",
       "(r2, c2)    2.90\n",
       "Name: temperature, dtype: float64"
      ]
     },
     "execution_count": 39,
     "metadata": {},
     "output_type": "execute_result"
    }
   ],
   "source": [
    "values = np.array([1.2, 0.8, 3.1, 0.1, 0.05, 1, 1.4, 2.1, 2.9])\n",
    "coords = [('r0', 'c0'), ('r0', 'c1'), ('r0', 'c2'), \n",
    "          ('r1', 'c0'), ('r1', 'c1'), ('r1', 'c2'), \n",
    "          ('r2', 'c0'), ('r2', 'c1'), ('r2', 'c2')]  # r is row, c is column\n",
    "points = pd.Series(values, index=coords, name='temperature')\n",
    "points"
   ]
  },
  {
   "cell_type": "markdown",
   "metadata": {},
   "source": [
    "It is important we understand that this is a series because _the data is one-dimensional_. The actual data is contained in `values`, a one-dimensional array. We do have two coordinates for each point, but the data itself - the temperature - is one-dimensional.\n",
    "\n",
    "Currently the index is a simple tuple of coordinates. It's a single column, containing tuples. Pandas can help us to index this data in a more intuitive manner, using a MultiIndex object."
   ]
  },
  {
   "cell_type": "code",
   "execution_count": 40,
   "metadata": {},
   "outputs": [
    {
     "data": {
      "text/plain": [
       "MultiIndex(levels=[['r0', 'r1', 'r2'], ['c0', 'c1', 'c2']],\n",
       "           labels=[[0, 0, 0, 1, 1, 1, 2, 2, 2], [0, 1, 2, 0, 1, 2, 0, 1, 2]])"
      ]
     },
     "execution_count": 40,
     "metadata": {},
     "output_type": "execute_result"
    }
   ],
   "source": [
    "mindex = pd.MultiIndex.from_tuples(coords)\n",
    "mindex"
   ]
  },
  {
   "cell_type": "markdown",
   "metadata": {},
   "source": [
    "Let's examine this object carefully. \n",
    "\n",
    "`levels` is a nested list containing the different options for the index. Each level of the index is a single list, and the fact that we have two lists means that our index has a level of 2. A regular index has a level of 1.\n",
    "\n",
    "`labels` is the specific ordering of the data with respect to the `levels`. It's how our data is organized. Each list in `labels` has the length of the entire index, and its values represent the labels of that index, as written in `levels`. If you recall `np.where`, then you'll notice that the output of that function is identical to the `labels`.\n",
    "\n",
    "It's easier to understand if we just examine the data. Let's `reindex` our data:"
   ]
  },
  {
   "cell_type": "code",
   "execution_count": 41,
   "metadata": {},
   "outputs": [
    {
     "data": {
      "text/plain": [
       "r0  c0    1.20\n",
       "    c1    0.80\n",
       "    c2    3.10\n",
       "r1  c0    0.10\n",
       "    c1    0.05\n",
       "    c2    1.00\n",
       "r2  c0    1.40\n",
       "    c1    2.10\n",
       "    c2    2.90\n",
       "Name: temperature, dtype: float64"
      ]
     },
     "execution_count": 41,
     "metadata": {},
     "output_type": "execute_result"
    }
   ],
   "source": [
    "points = points.reindex(mindex)\n",
    "points"
   ]
  },
  {
   "cell_type": "markdown",
   "metadata": {},
   "source": [
    "This looks good. Each index level is represented by a column, with the data being the last one. The \"missing\" values indicate that the value in that cell is the same as the value above it.\n",
    "\n",
    "You might have assumed that accessing the data now is much more intuitive. Let's look at the values of all the points in the first row, `r0`:"
   ]
  },
  {
   "cell_type": "code",
   "execution_count": 42,
   "metadata": {},
   "outputs": [
    {
     "data": {
      "text/plain": [
       "r0  c0    1.2\n",
       "    c1    0.8\n",
       "    c2    3.1\n",
       "Name: temperature, dtype: float64"
      ]
     },
     "execution_count": 42,
     "metadata": {},
     "output_type": "execute_result"
    }
   ],
   "source": [
    "points.loc['r0', :]  # .loc() is label-based indexing"
   ]
  },
  {
   "cell_type": "markdown",
   "metadata": {},
   "source": [
    "Or the values of points in the second column:"
   ]
  },
  {
   "cell_type": "code",
   "execution_count": 43,
   "metadata": {},
   "outputs": [
    {
     "data": {
      "text/plain": [
       "r0    0.80\n",
       "r1    0.05\n",
       "r2    2.10\n",
       "Name: temperature, dtype: float64"
      ]
     },
     "execution_count": 43,
     "metadata": {},
     "output_type": "execute_result"
    }
   ],
   "source": [
    "points.loc[:, 'c1']"
   ]
  },
  {
   "cell_type": "markdown",
   "metadata": {},
   "source": [
    "Notice that `.iloc` disregards the MultiIndex, treating our data as a simple one-dimensional vector (as it actually is):"
   ]
  },
  {
   "cell_type": "code",
   "execution_count": 44,
   "metadata": {},
   "outputs": [
    {
     "data": {
      "text/plain": [
       "1.4"
      ]
     },
     "execution_count": 44,
     "metadata": {},
     "output_type": "execute_result"
    }
   ],
   "source": [
    "points.iloc[6]\n",
    "# points.iloc[0, 1]  # ERRORS"
   ]
  },
  {
   "cell_type": "markdown",
   "metadata": {},
   "source": [
    "Besides making the syntax cleaner, these slicing operations are as efficient as their single-dimension counterparts."
   ]
  },
  {
   "cell_type": "markdown",
   "metadata": {},
   "source": [
    "It should be clear that a MultiIndex can have more than two levels. Modelling a 3D cube (with the temperatures inside it) is as easy as:"
   ]
  },
  {
   "cell_type": "code",
   "execution_count": 45,
   "metadata": {},
   "outputs": [
    {
     "data": {
      "text/plain": [
       "r0  c0  z0    1.20\n",
       "        z1    0.80\n",
       "    c1  z0    3.10\n",
       "        z1    0.10\n",
       "r1  c0  z0    0.05\n",
       "        z1    1.00\n",
       "    c1  z0    1.40\n",
       "        z1    2.10\n",
       "r2  c0  z0    2.90\n",
       "        z1    0.30\n",
       "    c1  z0    2.40\n",
       "        z1    1.90\n",
       "Name: cube, dtype: float64"
      ]
     },
     "execution_count": 45,
     "metadata": {},
     "output_type": "execute_result"
    }
   ],
   "source": [
    "values3d = np.array([1.2, 0.8, \n",
    "                     3.1, 0.1, \n",
    "                     0.05, 1, \n",
    "                     1.4, 2.1, \n",
    "                     2.9, 0.3,\n",
    "                     2.4, 1.9])\n",
    "# 3D coordinates with a shape of (r, c, z) = (3, 2, 2)\n",
    "coords3d = [('r0', 'c0', 'z0'), ('r0', 'c0', 'z1'), \n",
    "            ('r0', 'c1', 'z0'), ('r0', 'c1', 'z1'),\n",
    "            ('r1', 'c0', 'z0'), ('r1', 'c0', 'z1'),\n",
    "            ('r1', 'c1', 'z0'), ('r1', 'c1', 'z1'), \n",
    "            ('r2', 'c0', 'z0'), ('r2', 'c0', 'z1'),\n",
    "            ('r2', 'c1', 'z0'), ('r2', 'c1', 'z1')]  # we'll soon see an easier way to create this index\n",
    "cube = pd.Series(values3d, index=pd.MultiIndex.from_tuples(coords3d), name='cube')\n",
    "cube"
   ]
  },
  {
   "cell_type": "markdown",
   "metadata": {},
   "source": [
    "We can even name the individual levels, which helps with some slicing operations we'll see below:"
   ]
  },
  {
   "cell_type": "code",
   "execution_count": 46,
   "metadata": {},
   "outputs": [
    {
     "data": {
      "text/plain": [
       "x   y   z \n",
       "r0  c0  z0    1.20\n",
       "        z1    0.80\n",
       "    c1  z0    3.10\n",
       "        z1    0.10\n",
       "r1  c0  z0    0.05\n",
       "        z1    1.00\n",
       "    c1  z0    1.40\n",
       "        z1    2.10\n",
       "r2  c0  z0    2.90\n",
       "        z1    0.30\n",
       "    c1  z0    2.40\n",
       "        z1    1.90\n",
       "Name: cube, dtype: float64"
      ]
     },
     "execution_count": 46,
     "metadata": {},
     "output_type": "execute_result"
    }
   ],
   "source": [
    "cube.index.names = ['x', 'y', 'z']\n",
    "cube"
   ]
  },
  {
   "cell_type": "markdown",
   "metadata": {},
   "source": [
    "Again, you have to remember that this is one-dimensional data, with a three-dimensional index. In statistical term, we might term the indices a fixed, independent categorical variable, while the values are the dependent variable. Pandas actually has a `CategoricalIndex` object which you'll meet in your next HW."
   ]
  },
  {
   "cell_type": "markdown",
   "metadata": {},
   "source": [
    "### More on extra dimensions"
   ]
  },
  {
   "cell_type": "markdown",
   "metadata": {},
   "source": [
    "In the previous square example, it's very appealing to ditch the MultiIndex altogether and just work with a DataFrame, or even a simple numpy array. This is because the two indices represented rows and columns. A quick way to turn one representation into the other is the `stack()`\\\\`unstack()` method:"
   ]
  },
  {
   "cell_type": "code",
   "execution_count": 47,
   "metadata": {},
   "outputs": [
    {
     "data": {
      "text/plain": [
       "r0  c0    1.20\n",
       "    c1    0.80\n",
       "    c2    3.10\n",
       "r1  c0    0.10\n",
       "    c1    0.05\n",
       "    c2    1.00\n",
       "r2  c0    1.40\n",
       "    c1    2.10\n",
       "    c2    2.90\n",
       "Name: temperature, dtype: float64"
      ]
     },
     "execution_count": 47,
     "metadata": {},
     "output_type": "execute_result"
    }
   ],
   "source": [
    "points"
   ]
  },
  {
   "cell_type": "code",
   "execution_count": 48,
   "metadata": {},
   "outputs": [
    {
     "data": {
      "text/html": [
       "<div>\n",
       "<style scoped>\n",
       "    .dataframe tbody tr th:only-of-type {\n",
       "        vertical-align: middle;\n",
       "    }\n",
       "\n",
       "    .dataframe tbody tr th {\n",
       "        vertical-align: top;\n",
       "    }\n",
       "\n",
       "    .dataframe thead th {\n",
       "        text-align: right;\n",
       "    }\n",
       "</style>\n",
       "<table border=\"1\" class=\"dataframe\">\n",
       "  <thead>\n",
       "    <tr style=\"text-align: right;\">\n",
       "      <th></th>\n",
       "      <th>c0</th>\n",
       "      <th>c1</th>\n",
       "      <th>c2</th>\n",
       "    </tr>\n",
       "  </thead>\n",
       "  <tbody>\n",
       "    <tr>\n",
       "      <th>r0</th>\n",
       "      <td>1.2</td>\n",
       "      <td>0.80</td>\n",
       "      <td>3.1</td>\n",
       "    </tr>\n",
       "    <tr>\n",
       "      <th>r1</th>\n",
       "      <td>0.1</td>\n",
       "      <td>0.05</td>\n",
       "      <td>1.0</td>\n",
       "    </tr>\n",
       "    <tr>\n",
       "      <th>r2</th>\n",
       "      <td>1.4</td>\n",
       "      <td>2.10</td>\n",
       "      <td>2.9</td>\n",
       "    </tr>\n",
       "  </tbody>\n",
       "</table>\n",
       "</div>"
      ],
      "text/plain": [
       "     c0    c1   c2\n",
       "r0  1.2  0.80  3.1\n",
       "r1  0.1  0.05  1.0\n",
       "r2  1.4  2.10  2.9"
      ]
     },
     "execution_count": 48,
     "metadata": {},
     "output_type": "execute_result"
    }
   ],
   "source": [
    "pts_df = points.unstack()\n",
    "pts_df"
   ]
  },
  {
   "cell_type": "code",
   "execution_count": 49,
   "metadata": {},
   "outputs": [
    {
     "data": {
      "text/plain": [
       "r0  c0    1.20\n",
       "    c1    0.80\n",
       "    c2    3.10\n",
       "r1  c0    0.10\n",
       "    c1    0.05\n",
       "    c2    1.00\n",
       "r2  c0    1.40\n",
       "    c1    2.10\n",
       "    c2    2.90\n",
       "dtype: float64"
      ]
     },
     "execution_count": 49,
     "metadata": {},
     "output_type": "execute_result"
    }
   ],
   "source": [
    "pts_df.stack()  # back to a series"
   ]
  },
  {
   "cell_type": "markdown",
   "metadata": {},
   "source": [
    "So why bother with these (you haven't seen nothing yet) complicated multi-indices?\n",
    "\n",
    "As you might have guessed, adding data points, i.e. increasing the dimensionality of the data, is very easy and intuitive. Data remains aligned through addition and deletion of data. Moreover, treating these categorical variables as an index can help the mental modeling of the problem, especially when you wish to perform statistical modeling with your analysis.\n",
    "\n",
    "If you're not convinced yet, I'm sure that in a couple of examples you'll see their true power unfold."
   ]
  },
  {
   "cell_type": "markdown",
   "metadata": {},
   "source": [
    "### Constructing a MultiIndex"
   ]
  },
  {
   "cell_type": "markdown",
   "metadata": {},
   "source": [
    "Creating a hierarchical index can be done in several ways:"
   ]
  },
  {
   "cell_type": "code",
   "execution_count": 50,
   "metadata": {},
   "outputs": [
    {
     "data": {
      "text/plain": [
       "MultiIndex(levels=[['a', 'b'], [1, 2]],\n",
       "           labels=[[0, 0, 1, 1], [0, 1, 0, 1]])"
      ]
     },
     "execution_count": 50,
     "metadata": {},
     "output_type": "execute_result"
    }
   ],
   "source": [
    "pd.MultiIndex.from_arrays([['a', 'a', 'b', 'b'], [1, 2, 1, 2]])"
   ]
  },
  {
   "cell_type": "code",
   "execution_count": 51,
   "metadata": {},
   "outputs": [
    {
     "data": {
      "text/plain": [
       "MultiIndex(levels=[['a', 'b'], [1, 2]],\n",
       "           labels=[[0, 0, 1, 1], [0, 1, 0, 1]])"
      ]
     },
     "execution_count": 51,
     "metadata": {},
     "output_type": "execute_result"
    }
   ],
   "source": [
    "pd.MultiIndex.from_tuples([('a', 1), ('a', 2), ('b', 1), ('b', 2)])"
   ]
  },
  {
   "cell_type": "code",
   "execution_count": 52,
   "metadata": {},
   "outputs": [
    {
     "data": {
      "text/plain": [
       "MultiIndex(levels=[['a', 'b'], [1, 2]],\n",
       "           labels=[[0, 0, 1, 1], [0, 1, 0, 1]])"
      ]
     },
     "execution_count": 52,
     "metadata": {},
     "output_type": "execute_result"
    }
   ],
   "source": [
    "pd.MultiIndex.from_product([['a', 'b'], [1, 2]])  # Cartesian product"
   ]
  },
  {
   "cell_type": "markdown",
   "metadata": {},
   "source": [
    "The most common way to construct a MultiIndex, though, is to add to the existing index one of the columns of the DataFrame. We'll see how it's done below."
   ]
  },
  {
   "cell_type": "markdown",
   "metadata": {},
   "source": [
    "Another important note is that with DataFrames, the column and row index is symmetric. In effect this means that  the columns could also contain a MultiIndex:"
   ]
  },
  {
   "cell_type": "code",
   "execution_count": 53,
   "metadata": {},
   "outputs": [
    {
     "data": {
      "text/html": [
       "<div>\n",
       "<style scoped>\n",
       "    .dataframe tbody tr th:only-of-type {\n",
       "        vertical-align: middle;\n",
       "    }\n",
       "\n",
       "    .dataframe tbody tr th {\n",
       "        vertical-align: top;\n",
       "    }\n",
       "\n",
       "    .dataframe thead tr th {\n",
       "        text-align: left;\n",
       "    }\n",
       "\n",
       "    .dataframe thead tr:last-of-type th {\n",
       "        text-align: right;\n",
       "    }\n",
       "</style>\n",
       "<table border=\"1\" class=\"dataframe\">\n",
       "  <thead>\n",
       "    <tr>\n",
       "      <th></th>\n",
       "      <th>subject</th>\n",
       "      <th colspan=\"2\" halign=\"left\">Bob</th>\n",
       "      <th colspan=\"2\" halign=\"left\">Guido</th>\n",
       "      <th colspan=\"2\" halign=\"left\">Sue</th>\n",
       "    </tr>\n",
       "    <tr>\n",
       "      <th></th>\n",
       "      <th>type</th>\n",
       "      <th>HR</th>\n",
       "      <th>Temp</th>\n",
       "      <th>HR</th>\n",
       "      <th>Temp</th>\n",
       "      <th>HR</th>\n",
       "      <th>Temp</th>\n",
       "    </tr>\n",
       "    <tr>\n",
       "      <th>year</th>\n",
       "      <th>visit</th>\n",
       "      <th></th>\n",
       "      <th></th>\n",
       "      <th></th>\n",
       "      <th></th>\n",
       "      <th></th>\n",
       "      <th></th>\n",
       "    </tr>\n",
       "  </thead>\n",
       "  <tbody>\n",
       "    <tr>\n",
       "      <th rowspan=\"2\" valign=\"top\">2013</th>\n",
       "      <th>1</th>\n",
       "      <td>44.0</td>\n",
       "      <td>36.8</td>\n",
       "      <td>37.0</td>\n",
       "      <td>36.2</td>\n",
       "      <td>36.0</td>\n",
       "      <td>37.6</td>\n",
       "    </tr>\n",
       "    <tr>\n",
       "      <th>2</th>\n",
       "      <td>32.0</td>\n",
       "      <td>35.9</td>\n",
       "      <td>48.0</td>\n",
       "      <td>37.7</td>\n",
       "      <td>41.0</td>\n",
       "      <td>39.1</td>\n",
       "    </tr>\n",
       "    <tr>\n",
       "      <th rowspan=\"2\" valign=\"top\">2014</th>\n",
       "      <th>1</th>\n",
       "      <td>36.0</td>\n",
       "      <td>37.0</td>\n",
       "      <td>43.0</td>\n",
       "      <td>37.1</td>\n",
       "      <td>48.0</td>\n",
       "      <td>39.2</td>\n",
       "    </tr>\n",
       "    <tr>\n",
       "      <th>2</th>\n",
       "      <td>40.0</td>\n",
       "      <td>37.1</td>\n",
       "      <td>40.0</td>\n",
       "      <td>36.8</td>\n",
       "      <td>41.0</td>\n",
       "      <td>37.6</td>\n",
       "    </tr>\n",
       "  </tbody>\n",
       "</table>\n",
       "</div>"
      ],
      "text/plain": [
       "subject      Bob       Guido         Sue      \n",
       "type          HR  Temp    HR  Temp    HR  Temp\n",
       "year visit                                    \n",
       "2013 1      44.0  36.8  37.0  36.2  36.0  37.6\n",
       "     2      32.0  35.9  48.0  37.7  41.0  39.1\n",
       "2014 1      36.0  37.0  43.0  37.1  48.0  39.2\n",
       "     2      40.0  37.1  40.0  36.8  41.0  37.6"
      ]
     },
     "execution_count": 53,
     "metadata": {},
     "output_type": "execute_result"
    }
   ],
   "source": [
    "index = pd.MultiIndex.from_product([[2013, 2014], [1, 2]],\n",
    "                                   names=['year', 'visit'])\n",
    "columns = pd.MultiIndex.from_product([['Bob', 'Guido', 'Sue'], ['HR', 'Temp']],\n",
    "                                     names=['subject', 'type'])\n",
    "\n",
    "# mock some data\n",
    "data = np.round(np.random.randn(4, 6), 1)\n",
    "data[:, ::2] *= 10\n",
    "data += 37\n",
    "\n",
    "# create the DataFrame\n",
    "health_data = pd.DataFrame(data, index=index, columns=columns)\n",
    "health_data"
   ]
  },
  {
   "cell_type": "markdown",
   "metadata": {},
   "source": [
    "This sometimes might seem too much, and so usually people prefer to keep the column index as a simple list of names, moving any nestedness to the row index. This is due to the fact that usually columns represent the measured dependent variable."
   ]
  },
  {
   "cell_type": "code",
   "execution_count": 54,
   "metadata": {},
   "outputs": [
    {
     "data": {
      "text/html": [
       "<div>\n",
       "<style scoped>\n",
       "    .dataframe tbody tr th:only-of-type {\n",
       "        vertical-align: middle;\n",
       "    }\n",
       "\n",
       "    .dataframe tbody tr th {\n",
       "        vertical-align: top;\n",
       "    }\n",
       "\n",
       "    .dataframe thead th {\n",
       "        text-align: right;\n",
       "    }\n",
       "</style>\n",
       "<table border=\"1\" class=\"dataframe\">\n",
       "  <thead>\n",
       "    <tr style=\"text-align: right;\">\n",
       "      <th></th>\n",
       "      <th></th>\n",
       "      <th></th>\n",
       "      <th>HR</th>\n",
       "      <th>Temp</th>\n",
       "    </tr>\n",
       "    <tr>\n",
       "      <th>year</th>\n",
       "      <th>visit</th>\n",
       "      <th>subject</th>\n",
       "      <th></th>\n",
       "      <th></th>\n",
       "    </tr>\n",
       "  </thead>\n",
       "  <tbody>\n",
       "    <tr>\n",
       "      <th rowspan=\"6\" valign=\"top\">2013</th>\n",
       "      <th rowspan=\"3\" valign=\"top\">1</th>\n",
       "      <th>Bob</th>\n",
       "      <td>41.0</td>\n",
       "      <td>36.5</td>\n",
       "    </tr>\n",
       "    <tr>\n",
       "      <th>Guido</th>\n",
       "      <td>31.0</td>\n",
       "      <td>36.0</td>\n",
       "    </tr>\n",
       "    <tr>\n",
       "      <th>Sue</th>\n",
       "      <td>32.0</td>\n",
       "      <td>39.8</td>\n",
       "    </tr>\n",
       "    <tr>\n",
       "      <th rowspan=\"3\" valign=\"top\">2</th>\n",
       "      <th>Bob</th>\n",
       "      <td>34.0</td>\n",
       "      <td>36.5</td>\n",
       "    </tr>\n",
       "    <tr>\n",
       "      <th>Guido</th>\n",
       "      <td>44.0</td>\n",
       "      <td>36.9</td>\n",
       "    </tr>\n",
       "    <tr>\n",
       "      <th>Sue</th>\n",
       "      <td>33.0</td>\n",
       "      <td>37.2</td>\n",
       "    </tr>\n",
       "    <tr>\n",
       "      <th rowspan=\"6\" valign=\"top\">2014</th>\n",
       "      <th rowspan=\"3\" valign=\"top\">1</th>\n",
       "      <th>Bob</th>\n",
       "      <td>38.0</td>\n",
       "      <td>36.0</td>\n",
       "    </tr>\n",
       "    <tr>\n",
       "      <th>Guido</th>\n",
       "      <td>41.0</td>\n",
       "      <td>36.6</td>\n",
       "    </tr>\n",
       "    <tr>\n",
       "      <th>Sue</th>\n",
       "      <td>24.0</td>\n",
       "      <td>36.0</td>\n",
       "    </tr>\n",
       "    <tr>\n",
       "      <th rowspan=\"3\" valign=\"top\">2</th>\n",
       "      <th>Bob</th>\n",
       "      <td>35.0</td>\n",
       "      <td>35.3</td>\n",
       "    </tr>\n",
       "    <tr>\n",
       "      <th>Guido</th>\n",
       "      <td>51.0</td>\n",
       "      <td>37.6</td>\n",
       "    </tr>\n",
       "    <tr>\n",
       "      <th>Sue</th>\n",
       "      <td>40.0</td>\n",
       "      <td>35.6</td>\n",
       "    </tr>\n",
       "  </tbody>\n",
       "</table>\n",
       "</div>"
      ],
      "text/plain": [
       "                      HR  Temp\n",
       "year visit subject            \n",
       "2013 1     Bob      41.0  36.5\n",
       "           Guido    31.0  36.0\n",
       "           Sue      32.0  39.8\n",
       "     2     Bob      34.0  36.5\n",
       "           Guido    44.0  36.9\n",
       "           Sue      33.0  37.2\n",
       "2014 1     Bob      38.0  36.0\n",
       "           Guido    41.0  36.6\n",
       "           Sue      24.0  36.0\n",
       "     2     Bob      35.0  35.3\n",
       "           Guido    51.0  37.6\n",
       "           Sue      40.0  35.6"
      ]
     },
     "execution_count": 54,
     "metadata": {},
     "output_type": "execute_result"
    }
   ],
   "source": [
    "index = pd.MultiIndex.from_product([[2013, 2014], [1, 2], ['Bob', 'Guido', 'Sue']],\n",
    "                                   names=['year', 'visit', 'subject'])\n",
    "columns = ['HR', 'Temp']\n",
    "\n",
    "# mock some data\n",
    "data = np.round(np.random.randn(12, 2), 1)\n",
    "data[:, ::2] *= 10\n",
    "data += 37\n",
    "\n",
    "# create the DataFrame\n",
    "health_data_row = pd.DataFrame(data, index=index, columns=columns)\n",
    "health_data_row"
   ]
  },
  {
   "cell_type": "markdown",
   "metadata": {},
   "source": [
    "#### Creating a MultiIndex from a data column"
   ]
  },
  {
   "cell_type": "markdown",
   "metadata": {},
   "source": [
    "While all of the above methods work, and could be useful sometimes, the most common method of creating an index is from an existing data column. "
   ]
  },
  {
   "cell_type": "code",
   "execution_count": 55,
   "metadata": {},
   "outputs": [
    {
     "data": {
      "text/html": [
       "<div>\n",
       "<style scoped>\n",
       "    .dataframe tbody tr th:only-of-type {\n",
       "        vertical-align: middle;\n",
       "    }\n",
       "\n",
       "    .dataframe tbody tr th {\n",
       "        vertical-align: top;\n",
       "    }\n",
       "\n",
       "    .dataframe thead th {\n",
       "        text-align: right;\n",
       "    }\n",
       "</style>\n",
       "<table border=\"1\" class=\"dataframe\">\n",
       "  <thead>\n",
       "    <tr style=\"text-align: right;\">\n",
       "      <th></th>\n",
       "      <th>day</th>\n",
       "      <th>humidity</th>\n",
       "      <th>location</th>\n",
       "      <th>temp</th>\n",
       "    </tr>\n",
       "  </thead>\n",
       "  <tbody>\n",
       "    <tr>\n",
       "      <th>0</th>\n",
       "      <td>SUN</td>\n",
       "      <td>31</td>\n",
       "      <td>AL</td>\n",
       "      <td>12.3</td>\n",
       "    </tr>\n",
       "    <tr>\n",
       "      <th>1</th>\n",
       "      <td>SUN</td>\n",
       "      <td>45</td>\n",
       "      <td>AL</td>\n",
       "      <td>14.1</td>\n",
       "    </tr>\n",
       "    <tr>\n",
       "      <th>2</th>\n",
       "      <td>TUE</td>\n",
       "      <td>41</td>\n",
       "      <td>NY</td>\n",
       "      <td>21.3</td>\n",
       "    </tr>\n",
       "    <tr>\n",
       "      <th>3</th>\n",
       "      <td>WED</td>\n",
       "      <td>41</td>\n",
       "      <td>NY</td>\n",
       "      <td>20.9</td>\n",
       "    </tr>\n",
       "    <tr>\n",
       "      <th>4</th>\n",
       "      <td>SAT</td>\n",
       "      <td>49</td>\n",
       "      <td>NY</td>\n",
       "      <td>18.8</td>\n",
       "    </tr>\n",
       "    <tr>\n",
       "      <th>5</th>\n",
       "      <td>SAT</td>\n",
       "      <td>52</td>\n",
       "      <td>VA</td>\n",
       "      <td>16.5</td>\n",
       "    </tr>\n",
       "  </tbody>\n",
       "</table>\n",
       "</div>"
      ],
      "text/plain": [
       "   day  humidity location  temp\n",
       "0  SUN        31       AL  12.3\n",
       "1  SUN        45       AL  14.1\n",
       "2  TUE        41       NY  21.3\n",
       "3  WED        41       NY  20.9\n",
       "4  SAT        49       NY  18.8\n",
       "5  SAT        52       VA  16.5"
      ]
     },
     "execution_count": 55,
     "metadata": {},
     "output_type": "execute_result"
    }
   ],
   "source": [
    "location = ['AL', 'AL', 'NY', 'NY', 'NY', 'VA']\n",
    "day = ['SUN', 'SUN', 'TUE', 'WED', 'SAT', 'SAT']\n",
    "temp = [12.3, 14.1, 21.3, 20.9, 18.8, 16.5]\n",
    "humidity = [31, 45, 41, 41, 49, 52]\n",
    "states = pd.DataFrame(dict(location=location, day=day, \n",
    "                           temp=temp, humidity=humidity))\n",
    "states"
   ]
  },
  {
   "cell_type": "code",
   "execution_count": 56,
   "metadata": {},
   "outputs": [
    {
     "data": {
      "text/html": [
       "<div>\n",
       "<style scoped>\n",
       "    .dataframe tbody tr th:only-of-type {\n",
       "        vertical-align: middle;\n",
       "    }\n",
       "\n",
       "    .dataframe tbody tr th {\n",
       "        vertical-align: top;\n",
       "    }\n",
       "\n",
       "    .dataframe thead th {\n",
       "        text-align: right;\n",
       "    }\n",
       "</style>\n",
       "<table border=\"1\" class=\"dataframe\">\n",
       "  <thead>\n",
       "    <tr style=\"text-align: right;\">\n",
       "      <th></th>\n",
       "      <th>humidity</th>\n",
       "      <th>location</th>\n",
       "      <th>temp</th>\n",
       "    </tr>\n",
       "    <tr>\n",
       "      <th>day</th>\n",
       "      <th></th>\n",
       "      <th></th>\n",
       "      <th></th>\n",
       "    </tr>\n",
       "  </thead>\n",
       "  <tbody>\n",
       "    <tr>\n",
       "      <th>SUN</th>\n",
       "      <td>31</td>\n",
       "      <td>AL</td>\n",
       "      <td>12.3</td>\n",
       "    </tr>\n",
       "    <tr>\n",
       "      <th>SUN</th>\n",
       "      <td>45</td>\n",
       "      <td>AL</td>\n",
       "      <td>14.1</td>\n",
       "    </tr>\n",
       "    <tr>\n",
       "      <th>TUE</th>\n",
       "      <td>41</td>\n",
       "      <td>NY</td>\n",
       "      <td>21.3</td>\n",
       "    </tr>\n",
       "    <tr>\n",
       "      <th>WED</th>\n",
       "      <td>41</td>\n",
       "      <td>NY</td>\n",
       "      <td>20.9</td>\n",
       "    </tr>\n",
       "    <tr>\n",
       "      <th>SAT</th>\n",
       "      <td>49</td>\n",
       "      <td>NY</td>\n",
       "      <td>18.8</td>\n",
       "    </tr>\n",
       "    <tr>\n",
       "      <th>SAT</th>\n",
       "      <td>52</td>\n",
       "      <td>VA</td>\n",
       "      <td>16.5</td>\n",
       "    </tr>\n",
       "  </tbody>\n",
       "</table>\n",
       "</div>"
      ],
      "text/plain": [
       "     humidity location  temp\n",
       "day                         \n",
       "SUN        31       AL  12.3\n",
       "SUN        45       AL  14.1\n",
       "TUE        41       NY  21.3\n",
       "WED        41       NY  20.9\n",
       "SAT        49       NY  18.8\n",
       "SAT        52       VA  16.5"
      ]
     },
     "execution_count": 56,
     "metadata": {},
     "output_type": "execute_result"
    }
   ],
   "source": [
    "states.set_index(['day'])"
   ]
  },
  {
   "cell_type": "code",
   "execution_count": 57,
   "metadata": {},
   "outputs": [
    {
     "data": {
      "text/html": [
       "<div>\n",
       "<style scoped>\n",
       "    .dataframe tbody tr th:only-of-type {\n",
       "        vertical-align: middle;\n",
       "    }\n",
       "\n",
       "    .dataframe tbody tr th {\n",
       "        vertical-align: top;\n",
       "    }\n",
       "\n",
       "    .dataframe thead th {\n",
       "        text-align: right;\n",
       "    }\n",
       "</style>\n",
       "<table border=\"1\" class=\"dataframe\">\n",
       "  <thead>\n",
       "    <tr style=\"text-align: right;\">\n",
       "      <th></th>\n",
       "      <th></th>\n",
       "      <th>humidity</th>\n",
       "      <th>temp</th>\n",
       "    </tr>\n",
       "    <tr>\n",
       "      <th>day</th>\n",
       "      <th>location</th>\n",
       "      <th></th>\n",
       "      <th></th>\n",
       "    </tr>\n",
       "  </thead>\n",
       "  <tbody>\n",
       "    <tr>\n",
       "      <th rowspan=\"2\" valign=\"top\">SUN</th>\n",
       "      <th>AL</th>\n",
       "      <td>31</td>\n",
       "      <td>12.3</td>\n",
       "    </tr>\n",
       "    <tr>\n",
       "      <th>AL</th>\n",
       "      <td>45</td>\n",
       "      <td>14.1</td>\n",
       "    </tr>\n",
       "    <tr>\n",
       "      <th>TUE</th>\n",
       "      <th>NY</th>\n",
       "      <td>41</td>\n",
       "      <td>21.3</td>\n",
       "    </tr>\n",
       "    <tr>\n",
       "      <th>WED</th>\n",
       "      <th>NY</th>\n",
       "      <td>41</td>\n",
       "      <td>20.9</td>\n",
       "    </tr>\n",
       "    <tr>\n",
       "      <th rowspan=\"2\" valign=\"top\">SAT</th>\n",
       "      <th>NY</th>\n",
       "      <td>49</td>\n",
       "      <td>18.8</td>\n",
       "    </tr>\n",
       "    <tr>\n",
       "      <th>VA</th>\n",
       "      <td>52</td>\n",
       "      <td>16.5</td>\n",
       "    </tr>\n",
       "  </tbody>\n",
       "</table>\n",
       "</div>"
      ],
      "text/plain": [
       "              humidity  temp\n",
       "day location                \n",
       "SUN AL              31  12.3\n",
       "    AL              45  14.1\n",
       "TUE NY              41  21.3\n",
       "WED NY              41  20.9\n",
       "SAT NY              49  18.8\n",
       "    VA              52  16.5"
      ]
     },
     "execution_count": 57,
     "metadata": {},
     "output_type": "execute_result"
    }
   ],
   "source": [
    "states.set_index(['day', 'location'])"
   ]
  },
  {
   "cell_type": "code",
   "execution_count": 58,
   "metadata": {},
   "outputs": [
    {
     "data": {
      "text/html": [
       "<div>\n",
       "<style scoped>\n",
       "    .dataframe tbody tr th:only-of-type {\n",
       "        vertical-align: middle;\n",
       "    }\n",
       "\n",
       "    .dataframe tbody tr th {\n",
       "        vertical-align: top;\n",
       "    }\n",
       "\n",
       "    .dataframe thead th {\n",
       "        text-align: right;\n",
       "    }\n",
       "</style>\n",
       "<table border=\"1\" class=\"dataframe\">\n",
       "  <thead>\n",
       "    <tr style=\"text-align: right;\">\n",
       "      <th></th>\n",
       "      <th></th>\n",
       "      <th></th>\n",
       "      <th>humidity</th>\n",
       "      <th>temp</th>\n",
       "    </tr>\n",
       "    <tr>\n",
       "      <th></th>\n",
       "      <th>day</th>\n",
       "      <th>location</th>\n",
       "      <th></th>\n",
       "      <th></th>\n",
       "    </tr>\n",
       "  </thead>\n",
       "  <tbody>\n",
       "    <tr>\n",
       "      <th>0</th>\n",
       "      <th>SUN</th>\n",
       "      <th>AL</th>\n",
       "      <td>31</td>\n",
       "      <td>12.3</td>\n",
       "    </tr>\n",
       "    <tr>\n",
       "      <th>1</th>\n",
       "      <th>SUN</th>\n",
       "      <th>AL</th>\n",
       "      <td>45</td>\n",
       "      <td>14.1</td>\n",
       "    </tr>\n",
       "    <tr>\n",
       "      <th>2</th>\n",
       "      <th>TUE</th>\n",
       "      <th>NY</th>\n",
       "      <td>41</td>\n",
       "      <td>21.3</td>\n",
       "    </tr>\n",
       "    <tr>\n",
       "      <th>3</th>\n",
       "      <th>WED</th>\n",
       "      <th>NY</th>\n",
       "      <td>41</td>\n",
       "      <td>20.9</td>\n",
       "    </tr>\n",
       "    <tr>\n",
       "      <th>4</th>\n",
       "      <th>SAT</th>\n",
       "      <th>NY</th>\n",
       "      <td>49</td>\n",
       "      <td>18.8</td>\n",
       "    </tr>\n",
       "    <tr>\n",
       "      <th>5</th>\n",
       "      <th>SAT</th>\n",
       "      <th>VA</th>\n",
       "      <td>52</td>\n",
       "      <td>16.5</td>\n",
       "    </tr>\n",
       "  </tbody>\n",
       "</table>\n",
       "</div>"
      ],
      "text/plain": [
       "                humidity  temp\n",
       "  day location                \n",
       "0 SUN AL              31  12.3\n",
       "1 SUN AL              45  14.1\n",
       "2 TUE NY              41  21.3\n",
       "3 WED NY              41  20.9\n",
       "4 SAT NY              49  18.8\n",
       "5 SAT VA              52  16.5"
      ]
     },
     "execution_count": 58,
     "metadata": {},
     "output_type": "execute_result"
    }
   ],
   "source": [
    "states.set_index(['day', 'location'], append=True)"
   ]
  },
  {
   "cell_type": "code",
   "execution_count": 59,
   "metadata": {},
   "outputs": [
    {
     "data": {
      "text/html": [
       "<div>\n",
       "<style scoped>\n",
       "    .dataframe tbody tr th:only-of-type {\n",
       "        vertical-align: middle;\n",
       "    }\n",
       "\n",
       "    .dataframe tbody tr th {\n",
       "        vertical-align: top;\n",
       "    }\n",
       "\n",
       "    .dataframe thead th {\n",
       "        text-align: right;\n",
       "    }\n",
       "</style>\n",
       "<table border=\"1\" class=\"dataframe\">\n",
       "  <thead>\n",
       "    <tr style=\"text-align: right;\">\n",
       "      <th></th>\n",
       "      <th></th>\n",
       "      <th>humidity</th>\n",
       "      <th>location</th>\n",
       "      <th>temp</th>\n",
       "    </tr>\n",
       "    <tr>\n",
       "      <th></th>\n",
       "      <th>day</th>\n",
       "      <th></th>\n",
       "      <th></th>\n",
       "      <th></th>\n",
       "    </tr>\n",
       "  </thead>\n",
       "  <tbody>\n",
       "    <tr>\n",
       "      <th>i</th>\n",
       "      <th>SUN</th>\n",
       "      <td>31</td>\n",
       "      <td>AL</td>\n",
       "      <td>12.3</td>\n",
       "    </tr>\n",
       "    <tr>\n",
       "      <th>ii</th>\n",
       "      <th>SUN</th>\n",
       "      <td>45</td>\n",
       "      <td>AL</td>\n",
       "      <td>14.1</td>\n",
       "    </tr>\n",
       "    <tr>\n",
       "      <th>iii</th>\n",
       "      <th>TUE</th>\n",
       "      <td>41</td>\n",
       "      <td>NY</td>\n",
       "      <td>21.3</td>\n",
       "    </tr>\n",
       "    <tr>\n",
       "      <th>iv</th>\n",
       "      <th>WED</th>\n",
       "      <td>41</td>\n",
       "      <td>NY</td>\n",
       "      <td>20.9</td>\n",
       "    </tr>\n",
       "    <tr>\n",
       "      <th>v</th>\n",
       "      <th>SAT</th>\n",
       "      <td>49</td>\n",
       "      <td>NY</td>\n",
       "      <td>18.8</td>\n",
       "    </tr>\n",
       "    <tr>\n",
       "      <th>vi</th>\n",
       "      <th>SAT</th>\n",
       "      <td>52</td>\n",
       "      <td>VA</td>\n",
       "      <td>16.5</td>\n",
       "    </tr>\n",
       "  </tbody>\n",
       "</table>\n",
       "</div>"
      ],
      "text/plain": [
       "         humidity location  temp\n",
       "    day                         \n",
       "i   SUN        31       AL  12.3\n",
       "ii  SUN        45       AL  14.1\n",
       "iii TUE        41       NY  21.3\n",
       "iv  WED        41       NY  20.9\n",
       "v   SAT        49       NY  18.8\n",
       "vi  SAT        52       VA  16.5"
      ]
     },
     "execution_count": 59,
     "metadata": {},
     "output_type": "execute_result"
    }
   ],
   "source": [
    "states.set_index([['i', 'ii', 'iii', 'iv', 'v', 'vi'], 'day'])"
   ]
  },
  {
   "cell_type": "markdown",
   "metadata": {},
   "source": [
    "### Indexing and Slicing a MultiIndex"
   ]
  },
  {
   "cell_type": "markdown",
   "metadata": {},
   "source": [
    "We'll use these DFs as an example:"
   ]
  },
  {
   "cell_type": "code",
   "execution_count": 73,
   "metadata": {},
   "outputs": [
    {
     "data": {
      "text/html": [
       "<div>\n",
       "<style scoped>\n",
       "    .dataframe tbody tr th:only-of-type {\n",
       "        vertical-align: middle;\n",
       "    }\n",
       "\n",
       "    .dataframe tbody tr th {\n",
       "        vertical-align: top;\n",
       "    }\n",
       "\n",
       "    .dataframe thead tr th {\n",
       "        text-align: left;\n",
       "    }\n",
       "\n",
       "    .dataframe thead tr:last-of-type th {\n",
       "        text-align: right;\n",
       "    }\n",
       "</style>\n",
       "<table border=\"1\" class=\"dataframe\">\n",
       "  <thead>\n",
       "    <tr>\n",
       "      <th></th>\n",
       "      <th>subject</th>\n",
       "      <th colspan=\"2\" halign=\"left\">Bob</th>\n",
       "      <th colspan=\"2\" halign=\"left\">Guido</th>\n",
       "      <th colspan=\"2\" halign=\"left\">Sue</th>\n",
       "    </tr>\n",
       "    <tr>\n",
       "      <th></th>\n",
       "      <th>type</th>\n",
       "      <th>HR</th>\n",
       "      <th>Temp</th>\n",
       "      <th>HR</th>\n",
       "      <th>Temp</th>\n",
       "      <th>HR</th>\n",
       "      <th>Temp</th>\n",
       "    </tr>\n",
       "    <tr>\n",
       "      <th>year</th>\n",
       "      <th>visit</th>\n",
       "      <th></th>\n",
       "      <th></th>\n",
       "      <th></th>\n",
       "      <th></th>\n",
       "      <th></th>\n",
       "      <th></th>\n",
       "    </tr>\n",
       "  </thead>\n",
       "  <tbody>\n",
       "    <tr>\n",
       "      <th rowspan=\"2\" valign=\"top\">2013</th>\n",
       "      <th>1</th>\n",
       "      <td>44.0</td>\n",
       "      <td>36.8</td>\n",
       "      <td>37.0</td>\n",
       "      <td>36.2</td>\n",
       "      <td>36.0</td>\n",
       "      <td>37.6</td>\n",
       "    </tr>\n",
       "    <tr>\n",
       "      <th>2</th>\n",
       "      <td>32.0</td>\n",
       "      <td>35.9</td>\n",
       "      <td>48.0</td>\n",
       "      <td>37.7</td>\n",
       "      <td>41.0</td>\n",
       "      <td>39.1</td>\n",
       "    </tr>\n",
       "    <tr>\n",
       "      <th rowspan=\"2\" valign=\"top\">2014</th>\n",
       "      <th>1</th>\n",
       "      <td>36.0</td>\n",
       "      <td>37.0</td>\n",
       "      <td>43.0</td>\n",
       "      <td>37.1</td>\n",
       "      <td>48.0</td>\n",
       "      <td>39.2</td>\n",
       "    </tr>\n",
       "    <tr>\n",
       "      <th>2</th>\n",
       "      <td>40.0</td>\n",
       "      <td>37.1</td>\n",
       "      <td>40.0</td>\n",
       "      <td>36.8</td>\n",
       "      <td>41.0</td>\n",
       "      <td>37.6</td>\n",
       "    </tr>\n",
       "  </tbody>\n",
       "</table>\n",
       "</div>"
      ],
      "text/plain": [
       "subject      Bob       Guido         Sue      \n",
       "type          HR  Temp    HR  Temp    HR  Temp\n",
       "year visit                                    \n",
       "2013 1      44.0  36.8  37.0  36.2  36.0  37.6\n",
       "     2      32.0  35.9  48.0  37.7  41.0  39.1\n",
       "2014 1      36.0  37.0  43.0  37.1  48.0  39.2\n",
       "     2      40.0  37.1  40.0  36.8  41.0  37.6"
      ]
     },
     "execution_count": 73,
     "metadata": {},
     "output_type": "execute_result"
    }
   ],
   "source": [
    "health_data"
   ]
  },
  {
   "cell_type": "code",
   "execution_count": 74,
   "metadata": {
    "scrolled": true
   },
   "outputs": [
    {
     "data": {
      "text/html": [
       "<div>\n",
       "<style scoped>\n",
       "    .dataframe tbody tr th:only-of-type {\n",
       "        vertical-align: middle;\n",
       "    }\n",
       "\n",
       "    .dataframe tbody tr th {\n",
       "        vertical-align: top;\n",
       "    }\n",
       "\n",
       "    .dataframe thead th {\n",
       "        text-align: right;\n",
       "    }\n",
       "</style>\n",
       "<table border=\"1\" class=\"dataframe\">\n",
       "  <thead>\n",
       "    <tr style=\"text-align: right;\">\n",
       "      <th></th>\n",
       "      <th></th>\n",
       "      <th></th>\n",
       "      <th>HR</th>\n",
       "      <th>Temp</th>\n",
       "    </tr>\n",
       "    <tr>\n",
       "      <th>year</th>\n",
       "      <th>visit</th>\n",
       "      <th>subject</th>\n",
       "      <th></th>\n",
       "      <th></th>\n",
       "    </tr>\n",
       "  </thead>\n",
       "  <tbody>\n",
       "    <tr>\n",
       "      <th rowspan=\"6\" valign=\"top\">2013</th>\n",
       "      <th rowspan=\"3\" valign=\"top\">1</th>\n",
       "      <th>Bob</th>\n",
       "      <td>41.0</td>\n",
       "      <td>36.5</td>\n",
       "    </tr>\n",
       "    <tr>\n",
       "      <th>Guido</th>\n",
       "      <td>31.0</td>\n",
       "      <td>36.0</td>\n",
       "    </tr>\n",
       "    <tr>\n",
       "      <th>Sue</th>\n",
       "      <td>32.0</td>\n",
       "      <td>39.8</td>\n",
       "    </tr>\n",
       "    <tr>\n",
       "      <th rowspan=\"3\" valign=\"top\">2</th>\n",
       "      <th>Bob</th>\n",
       "      <td>34.0</td>\n",
       "      <td>36.5</td>\n",
       "    </tr>\n",
       "    <tr>\n",
       "      <th>Guido</th>\n",
       "      <td>44.0</td>\n",
       "      <td>36.9</td>\n",
       "    </tr>\n",
       "    <tr>\n",
       "      <th>Sue</th>\n",
       "      <td>33.0</td>\n",
       "      <td>37.2</td>\n",
       "    </tr>\n",
       "    <tr>\n",
       "      <th rowspan=\"6\" valign=\"top\">2014</th>\n",
       "      <th rowspan=\"3\" valign=\"top\">1</th>\n",
       "      <th>Bob</th>\n",
       "      <td>38.0</td>\n",
       "      <td>36.0</td>\n",
       "    </tr>\n",
       "    <tr>\n",
       "      <th>Guido</th>\n",
       "      <td>41.0</td>\n",
       "      <td>36.6</td>\n",
       "    </tr>\n",
       "    <tr>\n",
       "      <th>Sue</th>\n",
       "      <td>24.0</td>\n",
       "      <td>36.0</td>\n",
       "    </tr>\n",
       "    <tr>\n",
       "      <th rowspan=\"3\" valign=\"top\">2</th>\n",
       "      <th>Bob</th>\n",
       "      <td>35.0</td>\n",
       "      <td>35.3</td>\n",
       "    </tr>\n",
       "    <tr>\n",
       "      <th>Guido</th>\n",
       "      <td>51.0</td>\n",
       "      <td>37.6</td>\n",
       "    </tr>\n",
       "    <tr>\n",
       "      <th>Sue</th>\n",
       "      <td>40.0</td>\n",
       "      <td>35.6</td>\n",
       "    </tr>\n",
       "  </tbody>\n",
       "</table>\n",
       "</div>"
      ],
      "text/plain": [
       "                      HR  Temp\n",
       "year visit subject            \n",
       "2013 1     Bob      41.0  36.5\n",
       "           Guido    31.0  36.0\n",
       "           Sue      32.0  39.8\n",
       "     2     Bob      34.0  36.5\n",
       "           Guido    44.0  36.9\n",
       "           Sue      33.0  37.2\n",
       "2014 1     Bob      38.0  36.0\n",
       "           Guido    41.0  36.6\n",
       "           Sue      24.0  36.0\n",
       "     2     Bob      35.0  35.3\n",
       "           Guido    51.0  37.6\n",
       "           Sue      40.0  35.6"
      ]
     },
     "execution_count": 74,
     "metadata": {},
     "output_type": "execute_result"
    }
   ],
   "source": [
    "health_data_row"
   ]
  },
  {
   "cell_type": "markdown",
   "metadata": {},
   "source": [
    "If all we wish to do is to examine a column, indexing is very easy. Don't forget the DataFrame as dictionary analogy:"
   ]
  },
  {
   "cell_type": "code",
   "execution_count": 60,
   "metadata": {},
   "outputs": [
    {
     "data": {
      "text/plain": [
       "year  visit  subject\n",
       "2013  1      Bob        41.0\n",
       "             Guido      31.0\n",
       "             Sue        32.0\n",
       "      2      Bob        34.0\n",
       "             Guido      44.0\n",
       "             Sue        33.0\n",
       "2014  1      Bob        38.0\n",
       "             Guido      41.0\n",
       "             Sue        24.0\n",
       "      2      Bob        35.0\n",
       "             Guido      51.0\n",
       "             Sue        40.0\n",
       "Name: HR, dtype: float64"
      ]
     },
     "execution_count": 60,
     "metadata": {},
     "output_type": "execute_result"
    }
   ],
   "source": [
    "health_data['Guido']  # works for the column MultiIndex as expected"
   ]
  },
  {
   "cell_type": "code",
   "execution_count": 61,
   "metadata": {},
   "outputs": [
    {
     "data": {
      "text/html": [
       "<div>\n",
       "<style scoped>\n",
       "    .dataframe tbody tr th:only-of-type {\n",
       "        vertical-align: middle;\n",
       "    }\n",
       "\n",
       "    .dataframe tbody tr th {\n",
       "        vertical-align: top;\n",
       "    }\n",
       "\n",
       "    .dataframe thead th {\n",
       "        text-align: right;\n",
       "    }\n",
       "</style>\n",
       "<table border=\"1\" class=\"dataframe\">\n",
       "  <thead>\n",
       "    <tr style=\"text-align: right;\">\n",
       "      <th></th>\n",
       "      <th>type</th>\n",
       "      <th>HR</th>\n",
       "      <th>Temp</th>\n",
       "    </tr>\n",
       "    <tr>\n",
       "      <th>year</th>\n",
       "      <th>visit</th>\n",
       "      <th></th>\n",
       "      <th></th>\n",
       "    </tr>\n",
       "  </thead>\n",
       "  <tbody>\n",
       "    <tr>\n",
       "      <th rowspan=\"2\" valign=\"top\">2013</th>\n",
       "      <th>1</th>\n",
       "      <td>37.0</td>\n",
       "      <td>36.2</td>\n",
       "    </tr>\n",
       "    <tr>\n",
       "      <th>2</th>\n",
       "      <td>48.0</td>\n",
       "      <td>37.7</td>\n",
       "    </tr>\n",
       "    <tr>\n",
       "      <th rowspan=\"2\" valign=\"top\">2014</th>\n",
       "      <th>1</th>\n",
       "      <td>43.0</td>\n",
       "      <td>37.1</td>\n",
       "    </tr>\n",
       "    <tr>\n",
       "      <th>2</th>\n",
       "      <td>40.0</td>\n",
       "      <td>36.8</td>\n",
       "    </tr>\n",
       "  </tbody>\n",
       "</table>\n",
       "</div>"
      ],
      "text/plain": [
       "type          HR  Temp\n",
       "year visit            \n",
       "2013 1      37.0  36.2\n",
       "     2      48.0  37.7\n",
       "2014 1      43.0  37.1\n",
       "     2      40.0  36.8"
      ]
     },
     "execution_count": 61,
     "metadata": {},
     "output_type": "execute_result"
    }
   ],
   "source": [
    "health_data_row['HR']  # that's a Series!"
   ]
  },
  {
   "cell_type": "code",
   "execution_count": 62,
   "metadata": {},
   "outputs": [
    {
     "data": {
      "text/plain": [
       "HR      31.0\n",
       "Temp    36.0\n",
       "Name: (2013, 1, Guido), dtype: float64"
      ]
     },
     "execution_count": 62,
     "metadata": {},
     "output_type": "execute_result"
    }
   ],
   "source": [
    "# Accessing single elements is also pretty straight-forward\n",
    "health_data_row.loc[2013, 1, 'Guido']  # index triplet"
   ]
  },
  {
   "cell_type": "code",
   "execution_count": 63,
   "metadata": {},
   "outputs": [
    {
     "data": {
      "text/html": [
       "<div>\n",
       "<style scoped>\n",
       "    .dataframe tbody tr th:only-of-type {\n",
       "        vertical-align: middle;\n",
       "    }\n",
       "\n",
       "    .dataframe tbody tr th {\n",
       "        vertical-align: top;\n",
       "    }\n",
       "\n",
       "    .dataframe thead th {\n",
       "        text-align: right;\n",
       "    }\n",
       "</style>\n",
       "<table border=\"1\" class=\"dataframe\">\n",
       "  <thead>\n",
       "    <tr style=\"text-align: right;\">\n",
       "      <th></th>\n",
       "      <th></th>\n",
       "      <th></th>\n",
       "      <th>HR</th>\n",
       "      <th>Temp</th>\n",
       "    </tr>\n",
       "    <tr>\n",
       "      <th>year</th>\n",
       "      <th>visit</th>\n",
       "      <th>subject</th>\n",
       "      <th></th>\n",
       "      <th></th>\n",
       "    </tr>\n",
       "  </thead>\n",
       "  <tbody>\n",
       "    <tr>\n",
       "      <th rowspan=\"6\" valign=\"top\">2013</th>\n",
       "      <th rowspan=\"3\" valign=\"top\">1</th>\n",
       "      <th>Bob</th>\n",
       "      <td>41.0</td>\n",
       "      <td>36.5</td>\n",
       "    </tr>\n",
       "    <tr>\n",
       "      <th>Guido</th>\n",
       "      <td>31.0</td>\n",
       "      <td>36.0</td>\n",
       "    </tr>\n",
       "    <tr>\n",
       "      <th>Sue</th>\n",
       "      <td>32.0</td>\n",
       "      <td>39.8</td>\n",
       "    </tr>\n",
       "    <tr>\n",
       "      <th rowspan=\"3\" valign=\"top\">2</th>\n",
       "      <th>Bob</th>\n",
       "      <td>34.0</td>\n",
       "      <td>36.5</td>\n",
       "    </tr>\n",
       "    <tr>\n",
       "      <th>Guido</th>\n",
       "      <td>44.0</td>\n",
       "      <td>36.9</td>\n",
       "    </tr>\n",
       "    <tr>\n",
       "      <th>Sue</th>\n",
       "      <td>33.0</td>\n",
       "      <td>37.2</td>\n",
       "    </tr>\n",
       "    <tr>\n",
       "      <th rowspan=\"6\" valign=\"top\">2014</th>\n",
       "      <th rowspan=\"3\" valign=\"top\">1</th>\n",
       "      <th>Bob</th>\n",
       "      <td>38.0</td>\n",
       "      <td>36.0</td>\n",
       "    </tr>\n",
       "    <tr>\n",
       "      <th>Guido</th>\n",
       "      <td>41.0</td>\n",
       "      <td>36.6</td>\n",
       "    </tr>\n",
       "    <tr>\n",
       "      <th>Sue</th>\n",
       "      <td>24.0</td>\n",
       "      <td>36.0</td>\n",
       "    </tr>\n",
       "    <tr>\n",
       "      <th rowspan=\"3\" valign=\"top\">2</th>\n",
       "      <th>Bob</th>\n",
       "      <td>35.0</td>\n",
       "      <td>35.3</td>\n",
       "    </tr>\n",
       "    <tr>\n",
       "      <th>Guido</th>\n",
       "      <td>51.0</td>\n",
       "      <td>37.6</td>\n",
       "    </tr>\n",
       "    <tr>\n",
       "      <th>Sue</th>\n",
       "      <td>40.0</td>\n",
       "      <td>35.6</td>\n",
       "    </tr>\n",
       "  </tbody>\n",
       "</table>\n",
       "</div>"
      ],
      "text/plain": [
       "                      HR  Temp\n",
       "year visit subject            \n",
       "2013 1     Bob      41.0  36.5\n",
       "           Guido    31.0  36.0\n",
       "           Sue      32.0  39.8\n",
       "     2     Bob      34.0  36.5\n",
       "           Guido    44.0  36.9\n",
       "           Sue      33.0  37.2\n",
       "2014 1     Bob      38.0  36.0\n",
       "           Guido    41.0  36.6\n",
       "           Sue      24.0  36.0\n",
       "     2     Bob      35.0  35.3\n",
       "           Guido    51.0  37.6\n",
       "           Sue      40.0  35.6"
      ]
     },
     "execution_count": 63,
     "metadata": {},
     "output_type": "execute_result"
    }
   ],
   "source": [
    "# We can even slice easily using the first MultiIndex (year in our case)\n",
    "health_data_row.loc[2013:2017]  # 2017 doesn't exist, but Python's slicing rules prevent an exception here\n",
    "# health_data_row.loc[1]  # doesn't work"
   ]
  },
  {
   "cell_type": "markdown",
   "metadata": {},
   "source": [
    "Slicing is a bit more difficult when we want to take into account all available indices. This is due to the possible conflicts between the different indices and the columns.\n",
    "\n",
    "Assuming we want to look at all the years, with all the visits, only by Bob - we would want to write something like this:"
   ]
  },
  {
   "cell_type": "code",
   "execution_count": 64,
   "metadata": {},
   "outputs": [],
   "source": [
    "# health_data_row.loc[(:, :, 'Bob'), :]  # doesn't work"
   ]
  },
  {
   "cell_type": "markdown",
   "metadata": {},
   "source": [
    "This pickle is solved in two possible ways:"
   ]
  },
  {
   "cell_type": "code",
   "execution_count": 65,
   "metadata": {},
   "outputs": [
    {
     "data": {
      "text/plain": [
       "year  visit  subject\n",
       "2013  1      Bob        41.0\n",
       "      2      Bob        34.0\n",
       "2014  1      Bob        38.0\n",
       "      2      Bob        35.0\n",
       "Name: HR, dtype: float64"
      ]
     },
     "execution_count": 65,
     "metadata": {},
     "output_type": "execute_result"
    }
   ],
   "source": [
    "# First option - the slice object\n",
    "row_slice = (slice(None), slice(None), 'Bob')  # all years, all visits, of Bob\n",
    "health_data_row.loc[row_slice, 'HR']\n",
    "# arr[slice(None), 1] is the same as arr[:, 1]"
   ]
  },
  {
   "cell_type": "code",
   "execution_count": 66,
   "metadata": {},
   "outputs": [
    {
     "data": {
      "text/plain": [
       "year  visit  subject\n",
       "2013  1      Bob        41.0\n",
       "             Guido      31.0\n",
       "      2      Bob        34.0\n",
       "             Guido      44.0\n",
       "2014  1      Bob        38.0\n",
       "             Guido      41.0\n",
       "      2      Bob        35.0\n",
       "             Guido      51.0\n",
       "Name: HR, dtype: float64"
      ]
     },
     "execution_count": 66,
     "metadata": {},
     "output_type": "execute_result"
    }
   ],
   "source": [
    "# First option - the slice object\n",
    "row_idx = (slice(None), slice(None), slice('Bob', 'Guido'))  # all years, all visits, Bob + Guido\n",
    "health_data_row.loc[row_idx, 'HR']"
   ]
  },
  {
   "cell_type": "code",
   "execution_count": 75,
   "metadata": {},
   "outputs": [
    {
     "data": {
      "text/html": [
       "<div>\n",
       "<style scoped>\n",
       "    .dataframe tbody tr th:only-of-type {\n",
       "        vertical-align: middle;\n",
       "    }\n",
       "\n",
       "    .dataframe tbody tr th {\n",
       "        vertical-align: top;\n",
       "    }\n",
       "\n",
       "    .dataframe thead th {\n",
       "        text-align: right;\n",
       "    }\n",
       "</style>\n",
       "<table border=\"1\" class=\"dataframe\">\n",
       "  <thead>\n",
       "    <tr style=\"text-align: right;\">\n",
       "      <th></th>\n",
       "      <th></th>\n",
       "      <th></th>\n",
       "      <th>HR</th>\n",
       "      <th>Temp</th>\n",
       "    </tr>\n",
       "    <tr>\n",
       "      <th>year</th>\n",
       "      <th>visit</th>\n",
       "      <th>subject</th>\n",
       "      <th></th>\n",
       "      <th></th>\n",
       "    </tr>\n",
       "  </thead>\n",
       "  <tbody>\n",
       "    <tr>\n",
       "      <th rowspan=\"2\" valign=\"top\">2013</th>\n",
       "      <th>1</th>\n",
       "      <th>Bob</th>\n",
       "      <td>41.0</td>\n",
       "      <td>36.5</td>\n",
       "    </tr>\n",
       "    <tr>\n",
       "      <th>2</th>\n",
       "      <th>Bob</th>\n",
       "      <td>34.0</td>\n",
       "      <td>36.5</td>\n",
       "    </tr>\n",
       "    <tr>\n",
       "      <th rowspan=\"2\" valign=\"top\">2014</th>\n",
       "      <th>1</th>\n",
       "      <th>Bob</th>\n",
       "      <td>38.0</td>\n",
       "      <td>36.0</td>\n",
       "    </tr>\n",
       "    <tr>\n",
       "      <th>2</th>\n",
       "      <th>Bob</th>\n",
       "      <td>35.0</td>\n",
       "      <td>35.3</td>\n",
       "    </tr>\n",
       "  </tbody>\n",
       "</table>\n",
       "</div>"
      ],
      "text/plain": [
       "                      HR  Temp\n",
       "year visit subject            \n",
       "2013 1     Bob      41.0  36.5\n",
       "     2     Bob      34.0  36.5\n",
       "2014 1     Bob      38.0  36.0\n",
       "     2     Bob      35.0  35.3"
      ]
     },
     "execution_count": 75,
     "metadata": {},
     "output_type": "execute_result"
    }
   ],
   "source": [
    "# Second option - the IndexSlice object\n",
    "idx = pd.IndexSlice\n",
    "health_data_row.loc[idx[:, :, 'Bob'], :]  # very close to the naive implementation"
   ]
  },
  {
   "cell_type": "code",
   "execution_count": 76,
   "metadata": {},
   "outputs": [
    {
     "data": {
      "text/plain": [
       "year  visit  subject\n",
       "2013  1      Bob        36.5\n",
       "             Guido      36.0\n",
       "2014  1      Bob        36.0\n",
       "             Guido      36.6\n",
       "Name: Temp, dtype: float64"
      ]
     },
     "execution_count": 76,
     "metadata": {},
     "output_type": "execute_result"
    }
   ],
   "source": [
    "idx2 = pd.IndexSlice\n",
    "health_data_row.loc[idx2[2013:2015, 1, 'Bob':'Guido'], 'Temp']"
   ]
  },
  {
   "cell_type": "markdown",
   "metadata": {},
   "source": [
    "There's one more way to index into a MultiIndex, which is very straight-forward and explicit when you're looking for specific values: The cross-section - "
   ]
  },
  {
   "cell_type": "code",
   "execution_count": 68,
   "metadata": {},
   "outputs": [
    {
     "data": {
      "text/html": [
       "<div>\n",
       "<style scoped>\n",
       "    .dataframe tbody tr th:only-of-type {\n",
       "        vertical-align: middle;\n",
       "    }\n",
       "\n",
       "    .dataframe tbody tr th {\n",
       "        vertical-align: top;\n",
       "    }\n",
       "\n",
       "    .dataframe thead th {\n",
       "        text-align: right;\n",
       "    }\n",
       "</style>\n",
       "<table border=\"1\" class=\"dataframe\">\n",
       "  <thead>\n",
       "    <tr style=\"text-align: right;\">\n",
       "      <th></th>\n",
       "      <th>HR</th>\n",
       "      <th>Temp</th>\n",
       "    </tr>\n",
       "    <tr>\n",
       "      <th>subject</th>\n",
       "      <th></th>\n",
       "      <th></th>\n",
       "    </tr>\n",
       "  </thead>\n",
       "  <tbody>\n",
       "    <tr>\n",
       "      <th>Bob</th>\n",
       "      <td>41.0</td>\n",
       "      <td>36.5</td>\n",
       "    </tr>\n",
       "    <tr>\n",
       "      <th>Guido</th>\n",
       "      <td>31.0</td>\n",
       "      <td>36.0</td>\n",
       "    </tr>\n",
       "    <tr>\n",
       "      <th>Sue</th>\n",
       "      <td>32.0</td>\n",
       "      <td>39.8</td>\n",
       "    </tr>\n",
       "  </tbody>\n",
       "</table>\n",
       "</div>"
      ],
      "text/plain": [
       "           HR  Temp\n",
       "subject            \n",
       "Bob      41.0  36.5\n",
       "Guido    31.0  36.0\n",
       "Sue      32.0  39.8"
      ]
     },
     "execution_count": 68,
     "metadata": {},
     "output_type": "execute_result"
    }
   ],
   "source": [
    "# Third option - the cross-section - returns specific values\n",
    "health_data_row.xs(key=(2013 , 1), level=('year', 'visit'))"
   ]
  },
  {
   "cell_type": "markdown",
   "metadata": {},
   "source": [
    "#### Small caveat - unsorted indices"
   ]
  },
  {
   "cell_type": "markdown",
   "metadata": {},
   "source": [
    "Having an unsorted index in your MultiIndex might make the interpreter pop a few exceptions at you:"
   ]
  },
  {
   "cell_type": "code",
   "execution_count": 69,
   "metadata": {},
   "outputs": [
    {
     "data": {
      "text/plain": [
       "char  int\n",
       "a     1      0.671506\n",
       "      2      0.001616\n",
       "c     1      0.968305\n",
       "      2      0.232026\n",
       "b     1      0.964525\n",
       "      2      0.767449\n",
       "dtype: float64"
      ]
     },
     "execution_count": 69,
     "metadata": {},
     "output_type": "execute_result"
    }
   ],
   "source": [
    "# char index in unsorted\n",
    "index = pd.MultiIndex.from_product([['a', 'c', 'b'], [1, 2]])\n",
    "data = pd.Series(np.random.rand(6), index=index)\n",
    "data.index.names = ['char', 'int']\n",
    "data"
   ]
  },
  {
   "cell_type": "code",
   "execution_count": 70,
   "metadata": {},
   "outputs": [
    {
     "ename": "UnsortedIndexError",
     "evalue": "'Key length (1) was greater than MultiIndex lexsort depth (0)'",
     "output_type": "error",
     "traceback": [
      "\u001b[1;31m---------------------------------------------------------------------------\u001b[0m",
      "\u001b[1;31mUnsortedIndexError\u001b[0m                        Traceback (most recent call last)",
      "\u001b[1;32m<ipython-input-70-0e6568674d17>\u001b[0m in \u001b[0;36m<module>\u001b[1;34m()\u001b[0m\n\u001b[1;32m----> 1\u001b[1;33m \u001b[0mdata\u001b[0m\u001b[1;33m[\u001b[0m\u001b[1;34m'a'\u001b[0m\u001b[1;33m:\u001b[0m\u001b[1;34m'b'\u001b[0m\u001b[1;33m]\u001b[0m\u001b[1;33m\u001b[0m\u001b[0m\n\u001b[0m",
      "\u001b[1;32m~\\Miniconda3\\envs\\general\\lib\\site-packages\\pandas\\core\\series.py\u001b[0m in \u001b[0;36m__getitem__\u001b[1;34m(self, key)\u001b[0m\n\u001b[0;32m    662\u001b[0m             \u001b[0mkey\u001b[0m \u001b[1;33m=\u001b[0m \u001b[0mcheck_bool_indexer\u001b[0m\u001b[1;33m(\u001b[0m\u001b[0mself\u001b[0m\u001b[1;33m.\u001b[0m\u001b[0mindex\u001b[0m\u001b[1;33m,\u001b[0m \u001b[0mkey\u001b[0m\u001b[1;33m)\u001b[0m\u001b[1;33m\u001b[0m\u001b[0m\n\u001b[0;32m    663\u001b[0m \u001b[1;33m\u001b[0m\u001b[0m\n\u001b[1;32m--> 664\u001b[1;33m         \u001b[1;32mreturn\u001b[0m \u001b[0mself\u001b[0m\u001b[1;33m.\u001b[0m\u001b[0m_get_with\u001b[0m\u001b[1;33m(\u001b[0m\u001b[0mkey\u001b[0m\u001b[1;33m)\u001b[0m\u001b[1;33m\u001b[0m\u001b[0m\n\u001b[0m\u001b[0;32m    665\u001b[0m \u001b[1;33m\u001b[0m\u001b[0m\n\u001b[0;32m    666\u001b[0m     \u001b[1;32mdef\u001b[0m \u001b[0m_get_with\u001b[0m\u001b[1;33m(\u001b[0m\u001b[0mself\u001b[0m\u001b[1;33m,\u001b[0m \u001b[0mkey\u001b[0m\u001b[1;33m)\u001b[0m\u001b[1;33m:\u001b[0m\u001b[1;33m\u001b[0m\u001b[0m\n",
      "\u001b[1;32m~\\Miniconda3\\envs\\general\\lib\\site-packages\\pandas\\core\\series.py\u001b[0m in \u001b[0;36m_get_with\u001b[1;34m(self, key)\u001b[0m\n\u001b[0;32m    667\u001b[0m         \u001b[1;31m# other: fancy integer or otherwise\u001b[0m\u001b[1;33m\u001b[0m\u001b[1;33m\u001b[0m\u001b[0m\n\u001b[0;32m    668\u001b[0m         \u001b[1;32mif\u001b[0m \u001b[0misinstance\u001b[0m\u001b[1;33m(\u001b[0m\u001b[0mkey\u001b[0m\u001b[1;33m,\u001b[0m \u001b[0mslice\u001b[0m\u001b[1;33m)\u001b[0m\u001b[1;33m:\u001b[0m\u001b[1;33m\u001b[0m\u001b[0m\n\u001b[1;32m--> 669\u001b[1;33m             \u001b[0mindexer\u001b[0m \u001b[1;33m=\u001b[0m \u001b[0mself\u001b[0m\u001b[1;33m.\u001b[0m\u001b[0mindex\u001b[0m\u001b[1;33m.\u001b[0m\u001b[0m_convert_slice_indexer\u001b[0m\u001b[1;33m(\u001b[0m\u001b[0mkey\u001b[0m\u001b[1;33m,\u001b[0m \u001b[0mkind\u001b[0m\u001b[1;33m=\u001b[0m\u001b[1;34m'getitem'\u001b[0m\u001b[1;33m)\u001b[0m\u001b[1;33m\u001b[0m\u001b[0m\n\u001b[0m\u001b[0;32m    670\u001b[0m             \u001b[1;32mreturn\u001b[0m \u001b[0mself\u001b[0m\u001b[1;33m.\u001b[0m\u001b[0m_get_values\u001b[0m\u001b[1;33m(\u001b[0m\u001b[0mindexer\u001b[0m\u001b[1;33m)\u001b[0m\u001b[1;33m\u001b[0m\u001b[0m\n\u001b[0;32m    671\u001b[0m         \u001b[1;32melif\u001b[0m \u001b[0misinstance\u001b[0m\u001b[1;33m(\u001b[0m\u001b[0mkey\u001b[0m\u001b[1;33m,\u001b[0m \u001b[0mABCDataFrame\u001b[0m\u001b[1;33m)\u001b[0m\u001b[1;33m:\u001b[0m\u001b[1;33m\u001b[0m\u001b[0m\n",
      "\u001b[1;32m~\\Miniconda3\\envs\\general\\lib\\site-packages\\pandas\\core\\indexes\\base.py\u001b[0m in \u001b[0;36m_convert_slice_indexer\u001b[1;34m(self, key, kind)\u001b[0m\n\u001b[0;32m   1462\u001b[0m         \u001b[1;32melse\u001b[0m\u001b[1;33m:\u001b[0m\u001b[1;33m\u001b[0m\u001b[0m\n\u001b[0;32m   1463\u001b[0m             \u001b[1;32mtry\u001b[0m\u001b[1;33m:\u001b[0m\u001b[1;33m\u001b[0m\u001b[0m\n\u001b[1;32m-> 1464\u001b[1;33m                 \u001b[0mindexer\u001b[0m \u001b[1;33m=\u001b[0m \u001b[0mself\u001b[0m\u001b[1;33m.\u001b[0m\u001b[0mslice_indexer\u001b[0m\u001b[1;33m(\u001b[0m\u001b[0mstart\u001b[0m\u001b[1;33m,\u001b[0m \u001b[0mstop\u001b[0m\u001b[1;33m,\u001b[0m \u001b[0mstep\u001b[0m\u001b[1;33m,\u001b[0m \u001b[0mkind\u001b[0m\u001b[1;33m=\u001b[0m\u001b[0mkind\u001b[0m\u001b[1;33m)\u001b[0m\u001b[1;33m\u001b[0m\u001b[0m\n\u001b[0m\u001b[0;32m   1465\u001b[0m             \u001b[1;32mexcept\u001b[0m \u001b[0mException\u001b[0m\u001b[1;33m:\u001b[0m\u001b[1;33m\u001b[0m\u001b[0m\n\u001b[0;32m   1466\u001b[0m                 \u001b[1;32mif\u001b[0m \u001b[0mis_index_slice\u001b[0m\u001b[1;33m:\u001b[0m\u001b[1;33m\u001b[0m\u001b[0m\n",
      "\u001b[1;32m~\\Miniconda3\\envs\\general\\lib\\site-packages\\pandas\\core\\indexes\\base.py\u001b[0m in \u001b[0;36mslice_indexer\u001b[1;34m(self, start, end, step, kind)\u001b[0m\n\u001b[0;32m   3455\u001b[0m         \"\"\"\n\u001b[0;32m   3456\u001b[0m         start_slice, end_slice = self.slice_locs(start, end, step=step,\n\u001b[1;32m-> 3457\u001b[1;33m                                                  kind=kind)\n\u001b[0m\u001b[0;32m   3458\u001b[0m \u001b[1;33m\u001b[0m\u001b[0m\n\u001b[0;32m   3459\u001b[0m         \u001b[1;31m# return a slice\u001b[0m\u001b[1;33m\u001b[0m\u001b[1;33m\u001b[0m\u001b[0m\n",
      "\u001b[1;32m~\\Miniconda3\\envs\\general\\lib\\site-packages\\pandas\\core\\indexes\\multi.py\u001b[0m in \u001b[0;36mslice_locs\u001b[1;34m(self, start, end, step, kind)\u001b[0m\n\u001b[0;32m   1979\u001b[0m         \u001b[1;31m# This function adds nothing to its parent implementation (the magic\u001b[0m\u001b[1;33m\u001b[0m\u001b[1;33m\u001b[0m\u001b[0m\n\u001b[0;32m   1980\u001b[0m         \u001b[1;31m# happens in get_slice_bound method), but it adds meaningful doc.\u001b[0m\u001b[1;33m\u001b[0m\u001b[1;33m\u001b[0m\u001b[0m\n\u001b[1;32m-> 1981\u001b[1;33m         \u001b[1;32mreturn\u001b[0m \u001b[0msuper\u001b[0m\u001b[1;33m(\u001b[0m\u001b[0mMultiIndex\u001b[0m\u001b[1;33m,\u001b[0m \u001b[0mself\u001b[0m\u001b[1;33m)\u001b[0m\u001b[1;33m.\u001b[0m\u001b[0mslice_locs\u001b[0m\u001b[1;33m(\u001b[0m\u001b[0mstart\u001b[0m\u001b[1;33m,\u001b[0m \u001b[0mend\u001b[0m\u001b[1;33m,\u001b[0m \u001b[0mstep\u001b[0m\u001b[1;33m,\u001b[0m \u001b[0mkind\u001b[0m\u001b[1;33m=\u001b[0m\u001b[0mkind\u001b[0m\u001b[1;33m)\u001b[0m\u001b[1;33m\u001b[0m\u001b[0m\n\u001b[0m\u001b[0;32m   1982\u001b[0m \u001b[1;33m\u001b[0m\u001b[0m\n\u001b[0;32m   1983\u001b[0m     \u001b[1;32mdef\u001b[0m \u001b[0m_partial_tup_index\u001b[0m\u001b[1;33m(\u001b[0m\u001b[0mself\u001b[0m\u001b[1;33m,\u001b[0m \u001b[0mtup\u001b[0m\u001b[1;33m,\u001b[0m \u001b[0mside\u001b[0m\u001b[1;33m=\u001b[0m\u001b[1;34m'left'\u001b[0m\u001b[1;33m)\u001b[0m\u001b[1;33m:\u001b[0m\u001b[1;33m\u001b[0m\u001b[0m\n",
      "\u001b[1;32m~\\Miniconda3\\envs\\general\\lib\\site-packages\\pandas\\core\\indexes\\base.py\u001b[0m in \u001b[0;36mslice_locs\u001b[1;34m(self, start, end, step, kind)\u001b[0m\n\u001b[0;32m   3656\u001b[0m         \u001b[0mstart_slice\u001b[0m \u001b[1;33m=\u001b[0m \u001b[1;32mNone\u001b[0m\u001b[1;33m\u001b[0m\u001b[0m\n\u001b[0;32m   3657\u001b[0m         \u001b[1;32mif\u001b[0m \u001b[0mstart\u001b[0m \u001b[1;32mis\u001b[0m \u001b[1;32mnot\u001b[0m \u001b[1;32mNone\u001b[0m\u001b[1;33m:\u001b[0m\u001b[1;33m\u001b[0m\u001b[0m\n\u001b[1;32m-> 3658\u001b[1;33m             \u001b[0mstart_slice\u001b[0m \u001b[1;33m=\u001b[0m \u001b[0mself\u001b[0m\u001b[1;33m.\u001b[0m\u001b[0mget_slice_bound\u001b[0m\u001b[1;33m(\u001b[0m\u001b[0mstart\u001b[0m\u001b[1;33m,\u001b[0m \u001b[1;34m'left'\u001b[0m\u001b[1;33m,\u001b[0m \u001b[0mkind\u001b[0m\u001b[1;33m)\u001b[0m\u001b[1;33m\u001b[0m\u001b[0m\n\u001b[0m\u001b[0;32m   3659\u001b[0m         \u001b[1;32mif\u001b[0m \u001b[0mstart_slice\u001b[0m \u001b[1;32mis\u001b[0m \u001b[1;32mNone\u001b[0m\u001b[1;33m:\u001b[0m\u001b[1;33m\u001b[0m\u001b[0m\n\u001b[0;32m   3660\u001b[0m             \u001b[0mstart_slice\u001b[0m \u001b[1;33m=\u001b[0m \u001b[1;36m0\u001b[0m\u001b[1;33m\u001b[0m\u001b[0m\n",
      "\u001b[1;32m~\\Miniconda3\\envs\\general\\lib\\site-packages\\pandas\\core\\indexes\\multi.py\u001b[0m in \u001b[0;36mget_slice_bound\u001b[1;34m(self, label, side, kind)\u001b[0m\n\u001b[0;32m   1923\u001b[0m         \u001b[1;32mif\u001b[0m \u001b[1;32mnot\u001b[0m \u001b[0misinstance\u001b[0m\u001b[1;33m(\u001b[0m\u001b[0mlabel\u001b[0m\u001b[1;33m,\u001b[0m \u001b[0mtuple\u001b[0m\u001b[1;33m)\u001b[0m\u001b[1;33m:\u001b[0m\u001b[1;33m\u001b[0m\u001b[0m\n\u001b[0;32m   1924\u001b[0m             \u001b[0mlabel\u001b[0m \u001b[1;33m=\u001b[0m \u001b[0mlabel\u001b[0m\u001b[1;33m,\u001b[0m\u001b[1;33m\u001b[0m\u001b[0m\n\u001b[1;32m-> 1925\u001b[1;33m         \u001b[1;32mreturn\u001b[0m \u001b[0mself\u001b[0m\u001b[1;33m.\u001b[0m\u001b[0m_partial_tup_index\u001b[0m\u001b[1;33m(\u001b[0m\u001b[0mlabel\u001b[0m\u001b[1;33m,\u001b[0m \u001b[0mside\u001b[0m\u001b[1;33m=\u001b[0m\u001b[0mside\u001b[0m\u001b[1;33m)\u001b[0m\u001b[1;33m\u001b[0m\u001b[0m\n\u001b[0m\u001b[0;32m   1926\u001b[0m \u001b[1;33m\u001b[0m\u001b[0m\n\u001b[0;32m   1927\u001b[0m     \u001b[1;32mdef\u001b[0m \u001b[0mslice_locs\u001b[0m\u001b[1;33m(\u001b[0m\u001b[0mself\u001b[0m\u001b[1;33m,\u001b[0m \u001b[0mstart\u001b[0m\u001b[1;33m=\u001b[0m\u001b[1;32mNone\u001b[0m\u001b[1;33m,\u001b[0m \u001b[0mend\u001b[0m\u001b[1;33m=\u001b[0m\u001b[1;32mNone\u001b[0m\u001b[1;33m,\u001b[0m \u001b[0mstep\u001b[0m\u001b[1;33m=\u001b[0m\u001b[1;32mNone\u001b[0m\u001b[1;33m,\u001b[0m \u001b[0mkind\u001b[0m\u001b[1;33m=\u001b[0m\u001b[1;32mNone\u001b[0m\u001b[1;33m)\u001b[0m\u001b[1;33m:\u001b[0m\u001b[1;33m\u001b[0m\u001b[0m\n",
      "\u001b[1;32m~\\Miniconda3\\envs\\general\\lib\\site-packages\\pandas\\core\\indexes\\multi.py\u001b[0m in \u001b[0;36m_partial_tup_index\u001b[1;34m(self, tup, side)\u001b[0m\n\u001b[0;32m   1986\u001b[0m                 \u001b[1;34m'Key length (%d) was greater than MultiIndex'\u001b[0m\u001b[1;33m\u001b[0m\u001b[0m\n\u001b[0;32m   1987\u001b[0m                 \u001b[1;34m' lexsort depth (%d)'\u001b[0m \u001b[1;33m%\u001b[0m\u001b[1;33m\u001b[0m\u001b[0m\n\u001b[1;32m-> 1988\u001b[1;33m                 (len(tup), self.lexsort_depth))\n\u001b[0m\u001b[0;32m   1989\u001b[0m \u001b[1;33m\u001b[0m\u001b[0m\n\u001b[0;32m   1990\u001b[0m         \u001b[0mn\u001b[0m \u001b[1;33m=\u001b[0m \u001b[0mlen\u001b[0m\u001b[1;33m(\u001b[0m\u001b[0mtup\u001b[0m\u001b[1;33m)\u001b[0m\u001b[1;33m\u001b[0m\u001b[0m\n",
      "\u001b[1;31mUnsortedIndexError\u001b[0m: 'Key length (1) was greater than MultiIndex lexsort depth (0)'"
     ]
    }
   ],
   "source": [
    "data['a':'b']"
   ]
  },
  {
   "cell_type": "markdown",
   "metadata": {},
   "source": [
    "`lexsort` means \"lexicography-sorted\", or sorted by either number or letter. Sorting an index is done with the `sort_index()` method:"
   ]
  },
  {
   "cell_type": "code",
   "execution_count": 77,
   "metadata": {},
   "outputs": [
    {
     "name": "stdout",
     "output_type": "stream",
     "text": [
      "char  int\n",
      "a     1      0.671506\n",
      "      2      0.001616\n",
      "b     1      0.964525\n",
      "      2      0.767449\n",
      "c     1      0.968305\n",
      "      2      0.232026\n",
      "dtype: float64\n",
      "char  int\n",
      "a     1      0.671506\n",
      "      2      0.001616\n",
      "b     1      0.964525\n",
      "      2      0.767449\n",
      "dtype: float64\n"
     ]
    }
   ],
   "source": [
    "data.sort_index(inplace=True)\n",
    "print(data)\n",
    "print(data['a':'b'])  # now it works"
   ]
  },
  {
   "cell_type": "markdown",
   "metadata": {},
   "source": [
    "### Data Aggregation"
   ]
  },
  {
   "cell_type": "markdown",
   "metadata": {},
   "source": [
    "Data aggregation using a MultiIndex is amazingly simple:"
   ]
  },
  {
   "cell_type": "code",
   "execution_count": 78,
   "metadata": {},
   "outputs": [
    {
     "data": {
      "text/html": [
       "<div>\n",
       "<style scoped>\n",
       "    .dataframe tbody tr th:only-of-type {\n",
       "        vertical-align: middle;\n",
       "    }\n",
       "\n",
       "    .dataframe tbody tr th {\n",
       "        vertical-align: top;\n",
       "    }\n",
       "\n",
       "    .dataframe thead th {\n",
       "        text-align: right;\n",
       "    }\n",
       "</style>\n",
       "<table border=\"1\" class=\"dataframe\">\n",
       "  <thead>\n",
       "    <tr style=\"text-align: right;\">\n",
       "      <th></th>\n",
       "      <th>day</th>\n",
       "      <th>humidity</th>\n",
       "      <th>location</th>\n",
       "      <th>temp</th>\n",
       "    </tr>\n",
       "  </thead>\n",
       "  <tbody>\n",
       "    <tr>\n",
       "      <th>0</th>\n",
       "      <td>SUN</td>\n",
       "      <td>31</td>\n",
       "      <td>AL</td>\n",
       "      <td>12.3</td>\n",
       "    </tr>\n",
       "    <tr>\n",
       "      <th>1</th>\n",
       "      <td>SUN</td>\n",
       "      <td>45</td>\n",
       "      <td>AL</td>\n",
       "      <td>14.1</td>\n",
       "    </tr>\n",
       "    <tr>\n",
       "      <th>2</th>\n",
       "      <td>TUE</td>\n",
       "      <td>41</td>\n",
       "      <td>NY</td>\n",
       "      <td>21.3</td>\n",
       "    </tr>\n",
       "    <tr>\n",
       "      <th>3</th>\n",
       "      <td>WED</td>\n",
       "      <td>41</td>\n",
       "      <td>NY</td>\n",
       "      <td>20.9</td>\n",
       "    </tr>\n",
       "    <tr>\n",
       "      <th>4</th>\n",
       "      <td>SAT</td>\n",
       "      <td>49</td>\n",
       "      <td>NY</td>\n",
       "      <td>18.8</td>\n",
       "    </tr>\n",
       "    <tr>\n",
       "      <th>5</th>\n",
       "      <td>SAT</td>\n",
       "      <td>52</td>\n",
       "      <td>VA</td>\n",
       "      <td>16.5</td>\n",
       "    </tr>\n",
       "  </tbody>\n",
       "</table>\n",
       "</div>"
      ],
      "text/plain": [
       "   day  humidity location  temp\n",
       "0  SUN        31       AL  12.3\n",
       "1  SUN        45       AL  14.1\n",
       "2  TUE        41       NY  21.3\n",
       "3  WED        41       NY  20.9\n",
       "4  SAT        49       NY  18.8\n",
       "5  SAT        52       VA  16.5"
      ]
     },
     "execution_count": 78,
     "metadata": {},
     "output_type": "execute_result"
    }
   ],
   "source": [
    "states"
   ]
  },
  {
   "cell_type": "code",
   "execution_count": 79,
   "metadata": {},
   "outputs": [
    {
     "data": {
      "text/html": [
       "<div>\n",
       "<style scoped>\n",
       "    .dataframe tbody tr th:only-of-type {\n",
       "        vertical-align: middle;\n",
       "    }\n",
       "\n",
       "    .dataframe tbody tr th {\n",
       "        vertical-align: top;\n",
       "    }\n",
       "\n",
       "    .dataframe thead th {\n",
       "        text-align: right;\n",
       "    }\n",
       "</style>\n",
       "<table border=\"1\" class=\"dataframe\">\n",
       "  <thead>\n",
       "    <tr style=\"text-align: right;\">\n",
       "      <th></th>\n",
       "      <th></th>\n",
       "      <th>humidity</th>\n",
       "      <th>temp</th>\n",
       "    </tr>\n",
       "    <tr>\n",
       "      <th>location</th>\n",
       "      <th>day</th>\n",
       "      <th></th>\n",
       "      <th></th>\n",
       "    </tr>\n",
       "  </thead>\n",
       "  <tbody>\n",
       "    <tr>\n",
       "      <th rowspan=\"2\" valign=\"top\">AL</th>\n",
       "      <th>SUN</th>\n",
       "      <td>31</td>\n",
       "      <td>12.3</td>\n",
       "    </tr>\n",
       "    <tr>\n",
       "      <th>SUN</th>\n",
       "      <td>45</td>\n",
       "      <td>14.1</td>\n",
       "    </tr>\n",
       "    <tr>\n",
       "      <th rowspan=\"3\" valign=\"top\">NY</th>\n",
       "      <th>TUE</th>\n",
       "      <td>41</td>\n",
       "      <td>21.3</td>\n",
       "    </tr>\n",
       "    <tr>\n",
       "      <th>WED</th>\n",
       "      <td>41</td>\n",
       "      <td>20.9</td>\n",
       "    </tr>\n",
       "    <tr>\n",
       "      <th>SAT</th>\n",
       "      <td>49</td>\n",
       "      <td>18.8</td>\n",
       "    </tr>\n",
       "    <tr>\n",
       "      <th>VA</th>\n",
       "      <th>SAT</th>\n",
       "      <td>52</td>\n",
       "      <td>16.5</td>\n",
       "    </tr>\n",
       "  </tbody>\n",
       "</table>\n",
       "</div>"
      ],
      "text/plain": [
       "              humidity  temp\n",
       "location day                \n",
       "AL       SUN        31  12.3\n",
       "         SUN        45  14.1\n",
       "NY       TUE        41  21.3\n",
       "         WED        41  20.9\n",
       "         SAT        49  18.8\n",
       "VA       SAT        52  16.5"
      ]
     },
     "execution_count": 79,
     "metadata": {},
     "output_type": "execute_result"
    }
   ],
   "source": [
    "states.set_index(['location', 'day'], inplace=True)\n",
    "states"
   ]
  },
  {
   "cell_type": "code",
   "execution_count": 80,
   "metadata": {},
   "outputs": [
    {
     "data": {
      "text/html": [
       "<div>\n",
       "<style scoped>\n",
       "    .dataframe tbody tr th:only-of-type {\n",
       "        vertical-align: middle;\n",
       "    }\n",
       "\n",
       "    .dataframe tbody tr th {\n",
       "        vertical-align: top;\n",
       "    }\n",
       "\n",
       "    .dataframe thead th {\n",
       "        text-align: right;\n",
       "    }\n",
       "</style>\n",
       "<table border=\"1\" class=\"dataframe\">\n",
       "  <thead>\n",
       "    <tr style=\"text-align: right;\">\n",
       "      <th></th>\n",
       "      <th>humidity</th>\n",
       "      <th>temp</th>\n",
       "    </tr>\n",
       "    <tr>\n",
       "      <th>location</th>\n",
       "      <th></th>\n",
       "      <th></th>\n",
       "    </tr>\n",
       "  </thead>\n",
       "  <tbody>\n",
       "    <tr>\n",
       "      <th>AL</th>\n",
       "      <td>38.000000</td>\n",
       "      <td>13.200000</td>\n",
       "    </tr>\n",
       "    <tr>\n",
       "      <th>NY</th>\n",
       "      <td>43.666667</td>\n",
       "      <td>20.333333</td>\n",
       "    </tr>\n",
       "    <tr>\n",
       "      <th>VA</th>\n",
       "      <td>52.000000</td>\n",
       "      <td>16.500000</td>\n",
       "    </tr>\n",
       "  </tbody>\n",
       "</table>\n",
       "</div>"
      ],
      "text/plain": [
       "           humidity       temp\n",
       "location                      \n",
       "AL        38.000000  13.200000\n",
       "NY        43.666667  20.333333\n",
       "VA        52.000000  16.500000"
      ]
     },
     "execution_count": 80,
     "metadata": {},
     "output_type": "execute_result"
    }
   ],
   "source": [
    "states.mean(level='location')"
   ]
  },
  {
   "cell_type": "code",
   "execution_count": 81,
   "metadata": {},
   "outputs": [
    {
     "data": {
      "text/html": [
       "<div>\n",
       "<style scoped>\n",
       "    .dataframe tbody tr th:only-of-type {\n",
       "        vertical-align: middle;\n",
       "    }\n",
       "\n",
       "    .dataframe tbody tr th {\n",
       "        vertical-align: top;\n",
       "    }\n",
       "\n",
       "    .dataframe thead th {\n",
       "        text-align: right;\n",
       "    }\n",
       "</style>\n",
       "<table border=\"1\" class=\"dataframe\">\n",
       "  <thead>\n",
       "    <tr style=\"text-align: right;\">\n",
       "      <th></th>\n",
       "      <th>humidity</th>\n",
       "      <th>temp</th>\n",
       "    </tr>\n",
       "    <tr>\n",
       "      <th>day</th>\n",
       "      <th></th>\n",
       "      <th></th>\n",
       "    </tr>\n",
       "  </thead>\n",
       "  <tbody>\n",
       "    <tr>\n",
       "      <th>SUN</th>\n",
       "      <td>38.0</td>\n",
       "      <td>13.20</td>\n",
       "    </tr>\n",
       "    <tr>\n",
       "      <th>TUE</th>\n",
       "      <td>41.0</td>\n",
       "      <td>21.30</td>\n",
       "    </tr>\n",
       "    <tr>\n",
       "      <th>WED</th>\n",
       "      <td>41.0</td>\n",
       "      <td>20.90</td>\n",
       "    </tr>\n",
       "    <tr>\n",
       "      <th>SAT</th>\n",
       "      <td>50.5</td>\n",
       "      <td>17.65</td>\n",
       "    </tr>\n",
       "  </tbody>\n",
       "</table>\n",
       "</div>"
      ],
      "text/plain": [
       "     humidity   temp\n",
       "day                 \n",
       "SUN      38.0  13.20\n",
       "TUE      41.0  21.30\n",
       "WED      41.0  20.90\n",
       "SAT      50.5  17.65"
      ]
     },
     "execution_count": 81,
     "metadata": {},
     "output_type": "execute_result"
    }
   ],
   "source": [
    "states.median(level='day')"
   ]
  },
  {
   "cell_type": "markdown",
   "metadata": {
    "solution2": "hidden",
    "solution2_first": true
   },
   "source": [
    "## Exercise\n",
    "\n",
    "1. _Missing Data:_ Sample data sparsely from a sine wave. To do so:\n",
    "    1. Create a `shape = (10000,)` 10-period sine wave with a predetermined phase and amplitude. Remember that a single period of sine starts at 0 and ends at 2$\\pi$.\n",
    "    2. Using `np.random.choice(replace=False)` sample 1000 points from the wave and place them in a Series.\n",
    "    3. Plot the chosen points.\n",
    "    4. Interpolate the points using linear interpolation and plot them on a different graph.\n",
    "    5. Interpolate the points using quadratic interpolation and plot them on a different graph. \n",
    "    \n",
    "1. _Replace Values:_ When we wish to replace values in a Series or DataFrame, we can do so in two main ways. The first, and most common, is a simple boolean masked, which we've already covered. The second method is the `.replace()` method of a Series\\DataFrame.\n",
    "    - Create a (10, 2) dataframe with increasing integer values 0-9 in both columns.\n",
    "    - Use the `.replace()` method to replace the value 3 in the first column with 99.\n",
    "    - Use it to replace 3 in column 0, and 1 in column 2, with 99.\n",
    "    - Use its `method` keyword to replace values in the range [3, 6) of the first column with 6.\n",
    "\n",
    "2. _MultiIndex #1:_ Construct a MultiIndex with 3 levels as the product of the following values: `(['a', b', 'c', 'd'], ['i', 'ii', 'iii'], ['x', 'y', 'z'])`. Populate the DataFrame with random values in two columns.\n",
    "    - Extract in two different methods only the values with an index of `('a', 'ii', 'z')`.\n",
    "    - Slice in two ways the values with an index of `'x'`.\n",
    "    \n",
    "3. _MultiIndex #2:_ Read the CSV from the previous class and parse at least two of its columns as indices. If you identify more columns that fit the role of an index - please make them such.\n",
    "    - How many entries do you have for each index?\n",
    "    - Aggregate the data based on its mean for each index level."
   ]
  },
  {
   "cell_type": "markdown",
   "metadata": {},
   "source": [
    "### Exercise solutions below..."
   ]
  },
  {
   "cell_type": "markdown",
   "metadata": {},
   "source": [
    "#### 1"
   ]
  },
  {
   "cell_type": "code",
   "execution_count": 82,
   "metadata": {},
   "outputs": [
    {
     "data": {
      "text/plain": [
       "<matplotlib.axes._subplots.AxesSubplot at 0x18e0f41d630>"
      ]
     },
     "execution_count": 82,
     "metadata": {},
     "output_type": "execute_result"
    }
   ],
   "source": [
    "import matplotlib.pyplot as plt\n",
    "\n",
    "num_periods = 10\n",
    "num_reps = 10000\n",
    "amp = 3\n",
    "phase = np.pi / 4\n",
    "x = np.linspace(0, 2*np.pi*num_periods, num=num_reps)\n",
    "y = amp * np.sin(x + phase)\n",
    "\n",
    "chosen_idx = np.random.choice(num_reps, size=100, replace=False)\n",
    "data = pd.DataFrame(np.nan, index=x, columns=['raw'])\n",
    "data.iloc[chosen_idx, 0] = y[chosen_idx]\n",
    "fig1, ax1 = plt.subplots()\n",
    "ax1.set_title('Raw data pre-interpolation')\n",
    "data.raw.plot(marker='o')\n",
    "data['lin_inter'] = data.raw.interpolate(method='index')\n",
    "fig2, ax2 = plt.subplots()\n",
    "ax2.set_title('Linear interpolation')\n",
    "data.lin_inter.plot(marker='o')\n",
    "data['quad_inter'] = data.raw.interpolate(method='quadratic')\n",
    "fig3, ax3 = plt.subplots()\n",
    "ax3.set_title('Quadratic interpolation')\n",
    "data.quad_inter.plot(marker='o')"
   ]
  },
  {
   "cell_type": "markdown",
   "metadata": {},
   "source": [
    "### 2"
   ]
  },
  {
   "cell_type": "code",
   "execution_count": 83,
   "metadata": {},
   "outputs": [
    {
     "data": {
      "text/html": [
       "<div>\n",
       "<style scoped>\n",
       "    .dataframe tbody tr th:only-of-type {\n",
       "        vertical-align: middle;\n",
       "    }\n",
       "\n",
       "    .dataframe tbody tr th {\n",
       "        vertical-align: top;\n",
       "    }\n",
       "\n",
       "    .dataframe thead th {\n",
       "        text-align: right;\n",
       "    }\n",
       "</style>\n",
       "<table border=\"1\" class=\"dataframe\">\n",
       "  <thead>\n",
       "    <tr style=\"text-align: right;\">\n",
       "      <th></th>\n",
       "      <th>0</th>\n",
       "      <th>1</th>\n",
       "    </tr>\n",
       "  </thead>\n",
       "  <tbody>\n",
       "    <tr>\n",
       "      <th>0</th>\n",
       "      <td>0</td>\n",
       "      <td>0</td>\n",
       "    </tr>\n",
       "    <tr>\n",
       "      <th>1</th>\n",
       "      <td>1</td>\n",
       "      <td>1</td>\n",
       "    </tr>\n",
       "    <tr>\n",
       "      <th>2</th>\n",
       "      <td>2</td>\n",
       "      <td>2</td>\n",
       "    </tr>\n",
       "    <tr>\n",
       "      <th>3</th>\n",
       "      <td>3</td>\n",
       "      <td>3</td>\n",
       "    </tr>\n",
       "    <tr>\n",
       "      <th>4</th>\n",
       "      <td>4</td>\n",
       "      <td>4</td>\n",
       "    </tr>\n",
       "    <tr>\n",
       "      <th>5</th>\n",
       "      <td>5</td>\n",
       "      <td>5</td>\n",
       "    </tr>\n",
       "    <tr>\n",
       "      <th>6</th>\n",
       "      <td>6</td>\n",
       "      <td>6</td>\n",
       "    </tr>\n",
       "    <tr>\n",
       "      <th>7</th>\n",
       "      <td>7</td>\n",
       "      <td>7</td>\n",
       "    </tr>\n",
       "    <tr>\n",
       "      <th>8</th>\n",
       "      <td>8</td>\n",
       "      <td>8</td>\n",
       "    </tr>\n",
       "    <tr>\n",
       "      <th>9</th>\n",
       "      <td>9</td>\n",
       "      <td>9</td>\n",
       "    </tr>\n",
       "  </tbody>\n",
       "</table>\n",
       "</div>"
      ],
      "text/plain": [
       "   0  1\n",
       "0  0  0\n",
       "1  1  1\n",
       "2  2  2\n",
       "3  3  3\n",
       "4  4  4\n",
       "5  5  5\n",
       "6  6  6\n",
       "7  7  7\n",
       "8  8  8\n",
       "9  9  9"
      ]
     },
     "execution_count": 83,
     "metadata": {},
     "output_type": "execute_result"
    }
   ],
   "source": [
    "data = np.tile(np.arange(10)[:, np.newaxis], (1, 2))\n",
    "df = pd.DataFrame(data)\n",
    "df"
   ]
  },
  {
   "cell_type": "code",
   "execution_count": 84,
   "metadata": {},
   "outputs": [
    {
     "data": {
      "text/html": [
       "<div>\n",
       "<style scoped>\n",
       "    .dataframe tbody tr th:only-of-type {\n",
       "        vertical-align: middle;\n",
       "    }\n",
       "\n",
       "    .dataframe tbody tr th {\n",
       "        vertical-align: top;\n",
       "    }\n",
       "\n",
       "    .dataframe thead th {\n",
       "        text-align: right;\n",
       "    }\n",
       "</style>\n",
       "<table border=\"1\" class=\"dataframe\">\n",
       "  <thead>\n",
       "    <tr style=\"text-align: right;\">\n",
       "      <th></th>\n",
       "      <th>0</th>\n",
       "      <th>1</th>\n",
       "    </tr>\n",
       "  </thead>\n",
       "  <tbody>\n",
       "    <tr>\n",
       "      <th>0</th>\n",
       "      <td>0</td>\n",
       "      <td>0</td>\n",
       "    </tr>\n",
       "    <tr>\n",
       "      <th>1</th>\n",
       "      <td>1</td>\n",
       "      <td>1</td>\n",
       "    </tr>\n",
       "    <tr>\n",
       "      <th>2</th>\n",
       "      <td>2</td>\n",
       "      <td>2</td>\n",
       "    </tr>\n",
       "    <tr>\n",
       "      <th>3</th>\n",
       "      <td>99</td>\n",
       "      <td>3</td>\n",
       "    </tr>\n",
       "    <tr>\n",
       "      <th>4</th>\n",
       "      <td>4</td>\n",
       "      <td>4</td>\n",
       "    </tr>\n",
       "    <tr>\n",
       "      <th>5</th>\n",
       "      <td>5</td>\n",
       "      <td>5</td>\n",
       "    </tr>\n",
       "    <tr>\n",
       "      <th>6</th>\n",
       "      <td>6</td>\n",
       "      <td>6</td>\n",
       "    </tr>\n",
       "    <tr>\n",
       "      <th>7</th>\n",
       "      <td>7</td>\n",
       "      <td>7</td>\n",
       "    </tr>\n",
       "    <tr>\n",
       "      <th>8</th>\n",
       "      <td>8</td>\n",
       "      <td>8</td>\n",
       "    </tr>\n",
       "    <tr>\n",
       "      <th>9</th>\n",
       "      <td>9</td>\n",
       "      <td>9</td>\n",
       "    </tr>\n",
       "  </tbody>\n",
       "</table>\n",
       "</div>"
      ],
      "text/plain": [
       "    0  1\n",
       "0   0  0\n",
       "1   1  1\n",
       "2   2  2\n",
       "3  99  3\n",
       "4   4  4\n",
       "5   5  5\n",
       "6   6  6\n",
       "7   7  7\n",
       "8   8  8\n",
       "9   9  9"
      ]
     },
     "execution_count": 84,
     "metadata": {},
     "output_type": "execute_result"
    }
   ],
   "source": [
    "df.replace({0: 3}, {0: 99})"
   ]
  },
  {
   "cell_type": "code",
   "execution_count": 85,
   "metadata": {
    "scrolled": true
   },
   "outputs": [
    {
     "data": {
      "text/html": [
       "<div>\n",
       "<style scoped>\n",
       "    .dataframe tbody tr th:only-of-type {\n",
       "        vertical-align: middle;\n",
       "    }\n",
       "\n",
       "    .dataframe tbody tr th {\n",
       "        vertical-align: top;\n",
       "    }\n",
       "\n",
       "    .dataframe thead th {\n",
       "        text-align: right;\n",
       "    }\n",
       "</style>\n",
       "<table border=\"1\" class=\"dataframe\">\n",
       "  <thead>\n",
       "    <tr style=\"text-align: right;\">\n",
       "      <th></th>\n",
       "      <th>0</th>\n",
       "      <th>1</th>\n",
       "    </tr>\n",
       "  </thead>\n",
       "  <tbody>\n",
       "    <tr>\n",
       "      <th>0</th>\n",
       "      <td>0</td>\n",
       "      <td>0</td>\n",
       "    </tr>\n",
       "    <tr>\n",
       "      <th>1</th>\n",
       "      <td>1</td>\n",
       "      <td>99</td>\n",
       "    </tr>\n",
       "    <tr>\n",
       "      <th>2</th>\n",
       "      <td>2</td>\n",
       "      <td>2</td>\n",
       "    </tr>\n",
       "    <tr>\n",
       "      <th>3</th>\n",
       "      <td>99</td>\n",
       "      <td>3</td>\n",
       "    </tr>\n",
       "    <tr>\n",
       "      <th>4</th>\n",
       "      <td>4</td>\n",
       "      <td>4</td>\n",
       "    </tr>\n",
       "    <tr>\n",
       "      <th>5</th>\n",
       "      <td>5</td>\n",
       "      <td>5</td>\n",
       "    </tr>\n",
       "    <tr>\n",
       "      <th>6</th>\n",
       "      <td>6</td>\n",
       "      <td>6</td>\n",
       "    </tr>\n",
       "    <tr>\n",
       "      <th>7</th>\n",
       "      <td>7</td>\n",
       "      <td>7</td>\n",
       "    </tr>\n",
       "    <tr>\n",
       "      <th>8</th>\n",
       "      <td>8</td>\n",
       "      <td>8</td>\n",
       "    </tr>\n",
       "    <tr>\n",
       "      <th>9</th>\n",
       "      <td>9</td>\n",
       "      <td>9</td>\n",
       "    </tr>\n",
       "  </tbody>\n",
       "</table>\n",
       "</div>"
      ],
      "text/plain": [
       "    0   1\n",
       "0   0   0\n",
       "1   1  99\n",
       "2   2   2\n",
       "3  99   3\n",
       "4   4   4\n",
       "5   5   5\n",
       "6   6   6\n",
       "7   7   7\n",
       "8   8   8\n",
       "9   9   9"
      ]
     },
     "execution_count": 85,
     "metadata": {},
     "output_type": "execute_result"
    }
   ],
   "source": [
    "df.replace({0: 3, 1: 1}, 99)"
   ]
  },
  {
   "cell_type": "code",
   "execution_count": 86,
   "metadata": {},
   "outputs": [
    {
     "data": {
      "text/plain": [
       "0    0\n",
       "1    1\n",
       "2    2\n",
       "3    6\n",
       "4    6\n",
       "5    6\n",
       "6    6\n",
       "7    7\n",
       "8    8\n",
       "9    9\n",
       "Name: 0, dtype: int32"
      ]
     },
     "execution_count": 86,
     "metadata": {},
     "output_type": "execute_result"
    }
   ],
   "source": [
    "df[0].replace(np.arange(3, 6), method='bfill')"
   ]
  },
  {
   "cell_type": "markdown",
   "metadata": {},
   "source": [
    "### 3"
   ]
  },
  {
   "cell_type": "code",
   "execution_count": 87,
   "metadata": {},
   "outputs": [
    {
     "data": {
      "text/html": [
       "<div>\n",
       "<style scoped>\n",
       "    .dataframe tbody tr th:only-of-type {\n",
       "        vertical-align: middle;\n",
       "    }\n",
       "\n",
       "    .dataframe tbody tr th {\n",
       "        vertical-align: top;\n",
       "    }\n",
       "\n",
       "    .dataframe thead th {\n",
       "        text-align: right;\n",
       "    }\n",
       "</style>\n",
       "<table border=\"1\" class=\"dataframe\">\n",
       "  <thead>\n",
       "    <tr style=\"text-align: right;\">\n",
       "      <th></th>\n",
       "      <th></th>\n",
       "      <th></th>\n",
       "      <th>today</th>\n",
       "      <th>tomorrow</th>\n",
       "    </tr>\n",
       "  </thead>\n",
       "  <tbody>\n",
       "    <tr>\n",
       "      <th rowspan=\"9\" valign=\"top\">a</th>\n",
       "      <th rowspan=\"3\" valign=\"top\">i</th>\n",
       "      <th>x</th>\n",
       "      <td>14</td>\n",
       "      <td>4</td>\n",
       "    </tr>\n",
       "    <tr>\n",
       "      <th>y</th>\n",
       "      <td>7</td>\n",
       "      <td>2</td>\n",
       "    </tr>\n",
       "    <tr>\n",
       "      <th>z</th>\n",
       "      <td>5</td>\n",
       "      <td>2</td>\n",
       "    </tr>\n",
       "    <tr>\n",
       "      <th rowspan=\"3\" valign=\"top\">ii</th>\n",
       "      <th>x</th>\n",
       "      <td>11</td>\n",
       "      <td>15</td>\n",
       "    </tr>\n",
       "    <tr>\n",
       "      <th>y</th>\n",
       "      <td>17</td>\n",
       "      <td>11</td>\n",
       "    </tr>\n",
       "    <tr>\n",
       "      <th>z</th>\n",
       "      <td>14</td>\n",
       "      <td>1</td>\n",
       "    </tr>\n",
       "    <tr>\n",
       "      <th rowspan=\"3\" valign=\"top\">iii</th>\n",
       "      <th>x</th>\n",
       "      <td>17</td>\n",
       "      <td>7</td>\n",
       "    </tr>\n",
       "    <tr>\n",
       "      <th>y</th>\n",
       "      <td>10</td>\n",
       "      <td>0</td>\n",
       "    </tr>\n",
       "    <tr>\n",
       "      <th>z</th>\n",
       "      <td>8</td>\n",
       "      <td>14</td>\n",
       "    </tr>\n",
       "    <tr>\n",
       "      <th rowspan=\"9\" valign=\"top\">b</th>\n",
       "      <th rowspan=\"3\" valign=\"top\">i</th>\n",
       "      <th>x</th>\n",
       "      <td>19</td>\n",
       "      <td>15</td>\n",
       "    </tr>\n",
       "    <tr>\n",
       "      <th>y</th>\n",
       "      <td>15</td>\n",
       "      <td>18</td>\n",
       "    </tr>\n",
       "    <tr>\n",
       "      <th>z</th>\n",
       "      <td>15</td>\n",
       "      <td>5</td>\n",
       "    </tr>\n",
       "    <tr>\n",
       "      <th rowspan=\"3\" valign=\"top\">ii</th>\n",
       "      <th>x</th>\n",
       "      <td>4</td>\n",
       "      <td>0</td>\n",
       "    </tr>\n",
       "    <tr>\n",
       "      <th>y</th>\n",
       "      <td>9</td>\n",
       "      <td>5</td>\n",
       "    </tr>\n",
       "    <tr>\n",
       "      <th>z</th>\n",
       "      <td>10</td>\n",
       "      <td>17</td>\n",
       "    </tr>\n",
       "    <tr>\n",
       "      <th rowspan=\"3\" valign=\"top\">iii</th>\n",
       "      <th>x</th>\n",
       "      <td>3</td>\n",
       "      <td>17</td>\n",
       "    </tr>\n",
       "    <tr>\n",
       "      <th>y</th>\n",
       "      <td>7</td>\n",
       "      <td>16</td>\n",
       "    </tr>\n",
       "    <tr>\n",
       "      <th>z</th>\n",
       "      <td>3</td>\n",
       "      <td>4</td>\n",
       "    </tr>\n",
       "    <tr>\n",
       "      <th rowspan=\"9\" valign=\"top\">c</th>\n",
       "      <th rowspan=\"3\" valign=\"top\">i</th>\n",
       "      <th>x</th>\n",
       "      <td>16</td>\n",
       "      <td>10</td>\n",
       "    </tr>\n",
       "    <tr>\n",
       "      <th>y</th>\n",
       "      <td>13</td>\n",
       "      <td>13</td>\n",
       "    </tr>\n",
       "    <tr>\n",
       "      <th>z</th>\n",
       "      <td>8</td>\n",
       "      <td>18</td>\n",
       "    </tr>\n",
       "    <tr>\n",
       "      <th rowspan=\"3\" valign=\"top\">ii</th>\n",
       "      <th>x</th>\n",
       "      <td>17</td>\n",
       "      <td>6</td>\n",
       "    </tr>\n",
       "    <tr>\n",
       "      <th>y</th>\n",
       "      <td>7</td>\n",
       "      <td>8</td>\n",
       "    </tr>\n",
       "    <tr>\n",
       "      <th>z</th>\n",
       "      <td>11</td>\n",
       "      <td>6</td>\n",
       "    </tr>\n",
       "    <tr>\n",
       "      <th rowspan=\"3\" valign=\"top\">iii</th>\n",
       "      <th>x</th>\n",
       "      <td>7</td>\n",
       "      <td>19</td>\n",
       "    </tr>\n",
       "    <tr>\n",
       "      <th>y</th>\n",
       "      <td>5</td>\n",
       "      <td>19</td>\n",
       "    </tr>\n",
       "    <tr>\n",
       "      <th>z</th>\n",
       "      <td>4</td>\n",
       "      <td>10</td>\n",
       "    </tr>\n",
       "    <tr>\n",
       "      <th rowspan=\"9\" valign=\"top\">d</th>\n",
       "      <th rowspan=\"3\" valign=\"top\">i</th>\n",
       "      <th>x</th>\n",
       "      <td>3</td>\n",
       "      <td>16</td>\n",
       "    </tr>\n",
       "    <tr>\n",
       "      <th>y</th>\n",
       "      <td>19</td>\n",
       "      <td>2</td>\n",
       "    </tr>\n",
       "    <tr>\n",
       "      <th>z</th>\n",
       "      <td>3</td>\n",
       "      <td>0</td>\n",
       "    </tr>\n",
       "    <tr>\n",
       "      <th rowspan=\"3\" valign=\"top\">ii</th>\n",
       "      <th>x</th>\n",
       "      <td>2</td>\n",
       "      <td>8</td>\n",
       "    </tr>\n",
       "    <tr>\n",
       "      <th>y</th>\n",
       "      <td>1</td>\n",
       "      <td>7</td>\n",
       "    </tr>\n",
       "    <tr>\n",
       "      <th>z</th>\n",
       "      <td>8</td>\n",
       "      <td>14</td>\n",
       "    </tr>\n",
       "    <tr>\n",
       "      <th rowspan=\"3\" valign=\"top\">iii</th>\n",
       "      <th>x</th>\n",
       "      <td>0</td>\n",
       "      <td>15</td>\n",
       "    </tr>\n",
       "    <tr>\n",
       "      <th>y</th>\n",
       "      <td>11</td>\n",
       "      <td>11</td>\n",
       "    </tr>\n",
       "    <tr>\n",
       "      <th>z</th>\n",
       "      <td>4</td>\n",
       "      <td>6</td>\n",
       "    </tr>\n",
       "  </tbody>\n",
       "</table>\n",
       "</div>"
      ],
      "text/plain": [
       "         today  tomorrow\n",
       "a i   x     14         4\n",
       "      y      7         2\n",
       "      z      5         2\n",
       "  ii  x     11        15\n",
       "      y     17        11\n",
       "      z     14         1\n",
       "  iii x     17         7\n",
       "      y     10         0\n",
       "      z      8        14\n",
       "b i   x     19        15\n",
       "      y     15        18\n",
       "      z     15         5\n",
       "  ii  x      4         0\n",
       "      y      9         5\n",
       "      z     10        17\n",
       "  iii x      3        17\n",
       "      y      7        16\n",
       "      z      3         4\n",
       "c i   x     16        10\n",
       "      y     13        13\n",
       "      z      8        18\n",
       "  ii  x     17         6\n",
       "      y      7         8\n",
       "      z     11         6\n",
       "  iii x      7        19\n",
       "      y      5        19\n",
       "      z      4        10\n",
       "d i   x      3        16\n",
       "      y     19         2\n",
       "      z      3         0\n",
       "  ii  x      2         8\n",
       "      y      1         7\n",
       "      z      8        14\n",
       "  iii x      0        15\n",
       "      y     11        11\n",
       "      z      4         6"
      ]
     },
     "execution_count": 87,
     "metadata": {},
     "output_type": "execute_result"
    }
   ],
   "source": [
    "letters = ['a', 'b', 'c', 'd']\n",
    "roman = ['i', 'ii', 'iii']\n",
    "coor = ['x', 'y', 'z']\n",
    "index = pd.MultiIndex.from_product((letters, roman, coor))\n",
    "data = np.random.randint(20, size=(len(letters) * len(roman) * len(coor), 2))\n",
    "df = pd.DataFrame(data, columns=['today', 'tomorrow'], index=index)\n",
    "df"
   ]
  },
  {
   "cell_type": "code",
   "execution_count": 88,
   "metadata": {},
   "outputs": [
    {
     "data": {
      "text/plain": [
       "today       14\n",
       "tomorrow     1\n",
       "Name: (a, ii, z), dtype: int32"
      ]
     },
     "execution_count": 88,
     "metadata": {},
     "output_type": "execute_result"
    }
   ],
   "source": [
    "# Extract specific values - 1\n",
    "df.loc['a', 'ii', 'z']"
   ]
  },
  {
   "cell_type": "code",
   "execution_count": 89,
   "metadata": {},
   "outputs": [
    {
     "data": {
      "text/plain": [
       "today       14\n",
       "tomorrow     1\n",
       "Name: (a, ii, z), dtype: int32"
      ]
     },
     "execution_count": 89,
     "metadata": {},
     "output_type": "execute_result"
    }
   ],
   "source": [
    "# Extract specific values - 2\n",
    "df.xs(key=('a', 'ii', 'z'))"
   ]
  },
  {
   "cell_type": "code",
   "execution_count": 90,
   "metadata": {},
   "outputs": [
    {
     "data": {
      "text/plain": [
       "today       14\n",
       "tomorrow     1\n",
       "Name: (a, ii, z), dtype: int32"
      ]
     },
     "execution_count": 90,
     "metadata": {},
     "output_type": "execute_result"
    }
   ],
   "source": [
    "# Extract specific values - 2\n",
    "idx = pd.IndexSlice\n",
    "df.loc[idx['a', 'ii', 'z'], :]"
   ]
  },
  {
   "cell_type": "code",
   "execution_count": 91,
   "metadata": {},
   "outputs": [
    {
     "data": {
      "text/html": [
       "<div>\n",
       "<style scoped>\n",
       "    .dataframe tbody tr th:only-of-type {\n",
       "        vertical-align: middle;\n",
       "    }\n",
       "\n",
       "    .dataframe tbody tr th {\n",
       "        vertical-align: top;\n",
       "    }\n",
       "\n",
       "    .dataframe thead th {\n",
       "        text-align: right;\n",
       "    }\n",
       "</style>\n",
       "<table border=\"1\" class=\"dataframe\">\n",
       "  <thead>\n",
       "    <tr style=\"text-align: right;\">\n",
       "      <th></th>\n",
       "      <th></th>\n",
       "      <th></th>\n",
       "      <th>today</th>\n",
       "      <th>tomorrow</th>\n",
       "    </tr>\n",
       "  </thead>\n",
       "  <tbody>\n",
       "    <tr>\n",
       "      <th rowspan=\"3\" valign=\"top\">a</th>\n",
       "      <th>i</th>\n",
       "      <th>x</th>\n",
       "      <td>14</td>\n",
       "      <td>4</td>\n",
       "    </tr>\n",
       "    <tr>\n",
       "      <th>ii</th>\n",
       "      <th>x</th>\n",
       "      <td>11</td>\n",
       "      <td>15</td>\n",
       "    </tr>\n",
       "    <tr>\n",
       "      <th>iii</th>\n",
       "      <th>x</th>\n",
       "      <td>17</td>\n",
       "      <td>7</td>\n",
       "    </tr>\n",
       "    <tr>\n",
       "      <th rowspan=\"3\" valign=\"top\">b</th>\n",
       "      <th>i</th>\n",
       "      <th>x</th>\n",
       "      <td>19</td>\n",
       "      <td>15</td>\n",
       "    </tr>\n",
       "    <tr>\n",
       "      <th>ii</th>\n",
       "      <th>x</th>\n",
       "      <td>4</td>\n",
       "      <td>0</td>\n",
       "    </tr>\n",
       "    <tr>\n",
       "      <th>iii</th>\n",
       "      <th>x</th>\n",
       "      <td>3</td>\n",
       "      <td>17</td>\n",
       "    </tr>\n",
       "    <tr>\n",
       "      <th rowspan=\"3\" valign=\"top\">c</th>\n",
       "      <th>i</th>\n",
       "      <th>x</th>\n",
       "      <td>16</td>\n",
       "      <td>10</td>\n",
       "    </tr>\n",
       "    <tr>\n",
       "      <th>ii</th>\n",
       "      <th>x</th>\n",
       "      <td>17</td>\n",
       "      <td>6</td>\n",
       "    </tr>\n",
       "    <tr>\n",
       "      <th>iii</th>\n",
       "      <th>x</th>\n",
       "      <td>7</td>\n",
       "      <td>19</td>\n",
       "    </tr>\n",
       "    <tr>\n",
       "      <th rowspan=\"3\" valign=\"top\">d</th>\n",
       "      <th>i</th>\n",
       "      <th>x</th>\n",
       "      <td>3</td>\n",
       "      <td>16</td>\n",
       "    </tr>\n",
       "    <tr>\n",
       "      <th>ii</th>\n",
       "      <th>x</th>\n",
       "      <td>2</td>\n",
       "      <td>8</td>\n",
       "    </tr>\n",
       "    <tr>\n",
       "      <th>iii</th>\n",
       "      <th>x</th>\n",
       "      <td>0</td>\n",
       "      <td>15</td>\n",
       "    </tr>\n",
       "  </tbody>\n",
       "</table>\n",
       "</div>"
      ],
      "text/plain": [
       "         today  tomorrow\n",
       "a i   x     14         4\n",
       "  ii  x     11        15\n",
       "  iii x     17         7\n",
       "b i   x     19        15\n",
       "  ii  x      4         0\n",
       "  iii x      3        17\n",
       "c i   x     16        10\n",
       "  ii  x     17         6\n",
       "  iii x      7        19\n",
       "d i   x      3        16\n",
       "  ii  x      2         8\n",
       "  iii x      0        15"
      ]
     },
     "execution_count": 91,
     "metadata": {},
     "output_type": "execute_result"
    }
   ],
   "source": [
    "# Extract slice - 1\n",
    "idx = pd.IndexSlice\n",
    "df.loc[idx[:, :, 'x'], :]"
   ]
  },
  {
   "cell_type": "code",
   "execution_count": 92,
   "metadata": {
    "scrolled": true
   },
   "outputs": [
    {
     "data": {
      "text/html": [
       "<div>\n",
       "<style scoped>\n",
       "    .dataframe tbody tr th:only-of-type {\n",
       "        vertical-align: middle;\n",
       "    }\n",
       "\n",
       "    .dataframe tbody tr th {\n",
       "        vertical-align: top;\n",
       "    }\n",
       "\n",
       "    .dataframe thead th {\n",
       "        text-align: right;\n",
       "    }\n",
       "</style>\n",
       "<table border=\"1\" class=\"dataframe\">\n",
       "  <thead>\n",
       "    <tr style=\"text-align: right;\">\n",
       "      <th></th>\n",
       "      <th></th>\n",
       "      <th>today</th>\n",
       "      <th>tomorrow</th>\n",
       "    </tr>\n",
       "  </thead>\n",
       "  <tbody>\n",
       "    <tr>\n",
       "      <th rowspan=\"3\" valign=\"top\">a</th>\n",
       "      <th>i</th>\n",
       "      <td>14</td>\n",
       "      <td>4</td>\n",
       "    </tr>\n",
       "    <tr>\n",
       "      <th>ii</th>\n",
       "      <td>11</td>\n",
       "      <td>15</td>\n",
       "    </tr>\n",
       "    <tr>\n",
       "      <th>iii</th>\n",
       "      <td>17</td>\n",
       "      <td>7</td>\n",
       "    </tr>\n",
       "    <tr>\n",
       "      <th rowspan=\"3\" valign=\"top\">b</th>\n",
       "      <th>i</th>\n",
       "      <td>19</td>\n",
       "      <td>15</td>\n",
       "    </tr>\n",
       "    <tr>\n",
       "      <th>ii</th>\n",
       "      <td>4</td>\n",
       "      <td>0</td>\n",
       "    </tr>\n",
       "    <tr>\n",
       "      <th>iii</th>\n",
       "      <td>3</td>\n",
       "      <td>17</td>\n",
       "    </tr>\n",
       "    <tr>\n",
       "      <th rowspan=\"3\" valign=\"top\">c</th>\n",
       "      <th>i</th>\n",
       "      <td>16</td>\n",
       "      <td>10</td>\n",
       "    </tr>\n",
       "    <tr>\n",
       "      <th>ii</th>\n",
       "      <td>17</td>\n",
       "      <td>6</td>\n",
       "    </tr>\n",
       "    <tr>\n",
       "      <th>iii</th>\n",
       "      <td>7</td>\n",
       "      <td>19</td>\n",
       "    </tr>\n",
       "    <tr>\n",
       "      <th rowspan=\"3\" valign=\"top\">d</th>\n",
       "      <th>i</th>\n",
       "      <td>3</td>\n",
       "      <td>16</td>\n",
       "    </tr>\n",
       "    <tr>\n",
       "      <th>ii</th>\n",
       "      <td>2</td>\n",
       "      <td>8</td>\n",
       "    </tr>\n",
       "    <tr>\n",
       "      <th>iii</th>\n",
       "      <td>0</td>\n",
       "      <td>15</td>\n",
       "    </tr>\n",
       "  </tbody>\n",
       "</table>\n",
       "</div>"
      ],
      "text/plain": [
       "       today  tomorrow\n",
       "a i       14         4\n",
       "  ii      11        15\n",
       "  iii     17         7\n",
       "b i       19        15\n",
       "  ii       4         0\n",
       "  iii      3        17\n",
       "c i       16        10\n",
       "  ii      17         6\n",
       "  iii      7        19\n",
       "d i        3        16\n",
       "  ii       2         8\n",
       "  iii      0        15"
      ]
     },
     "execution_count": 92,
     "metadata": {},
     "output_type": "execute_result"
    }
   ],
   "source": [
    "# Extract slice - 2\n",
    "df.xs(key='x', level=2)"
   ]
  },
  {
   "cell_type": "markdown",
   "metadata": {},
   "source": [
    "### 4"
   ]
  },
  {
   "cell_type": "code",
   "execution_count": 93,
   "metadata": {
    "scrolled": true
   },
   "outputs": [
    {
     "name": "stderr",
     "output_type": "stream",
     "text": [
      "C:\\Users\\Hagai\\Miniconda3\\envs\\general\\lib\\site-packages\\IPython\\core\\interactiveshell.py:2728: DtypeWarning: Columns (9,40,41,42,43,48,49) have mixed types. Specify dtype option on import or set low_memory=False.\n",
      "  interactivity=interactivity, compiler=compiler, result=result)\n"
     ]
    },
    {
     "data": {
      "text/html": [
       "<div>\n",
       "<style scoped>\n",
       "    .dataframe tbody tr th:only-of-type {\n",
       "        vertical-align: middle;\n",
       "    }\n",
       "\n",
       "    .dataframe tbody tr th {\n",
       "        vertical-align: top;\n",
       "    }\n",
       "\n",
       "    .dataframe thead th {\n",
       "        text-align: right;\n",
       "    }\n",
       "</style>\n",
       "<table border=\"1\" class=\"dataframe\">\n",
       "  <thead>\n",
       "    <tr style=\"text-align: right;\">\n",
       "      <th></th>\n",
       "      <th>Unnamed: 0</th>\n",
       "      <th>Unique Key</th>\n",
       "      <th>Created Date</th>\n",
       "      <th>Closed Date</th>\n",
       "      <th>Agency</th>\n",
       "      <th>Agency Name</th>\n",
       "      <th>Complaint Type</th>\n",
       "      <th>Descriptor</th>\n",
       "      <th>Location Type</th>\n",
       "      <th>Incident Zip</th>\n",
       "      <th>...</th>\n",
       "      <th>Bridge Highway Name</th>\n",
       "      <th>Bridge Highway Direction</th>\n",
       "      <th>Road Ramp</th>\n",
       "      <th>Bridge Highway Segment</th>\n",
       "      <th>Garage Lot Name</th>\n",
       "      <th>Ferry Direction</th>\n",
       "      <th>Ferry Terminal Name</th>\n",
       "      <th>Latitude</th>\n",
       "      <th>Longitude</th>\n",
       "      <th>Location</th>\n",
       "    </tr>\n",
       "  </thead>\n",
       "  <tbody>\n",
       "    <tr>\n",
       "      <th>0</th>\n",
       "      <td>0</td>\n",
       "      <td>19574549</td>\n",
       "      <td>01/11/2011 03:47:18 PM</td>\n",
       "      <td>07/05/2011 04:08:01 PM</td>\n",
       "      <td>TLC</td>\n",
       "      <td>Correspondence - Taxi and Limousine Commission</td>\n",
       "      <td>Taxi Compliment</td>\n",
       "      <td>Driver Compliment</td>\n",
       "      <td>NaN</td>\n",
       "      <td>NaN</td>\n",
       "      <td>...</td>\n",
       "      <td>NaN</td>\n",
       "      <td>NaN</td>\n",
       "      <td>NaN</td>\n",
       "      <td>NaN</td>\n",
       "      <td>NaN</td>\n",
       "      <td>NaN</td>\n",
       "      <td>NaN</td>\n",
       "      <td>NaN</td>\n",
       "      <td>NaN</td>\n",
       "      <td>NaN</td>\n",
       "    </tr>\n",
       "    <tr>\n",
       "      <th>1</th>\n",
       "      <td>1</td>\n",
       "      <td>19579718</td>\n",
       "      <td>01/11/2011 03:00:00 AM</td>\n",
       "      <td>NaN</td>\n",
       "      <td>DEP</td>\n",
       "      <td>Department of Environmental Protection</td>\n",
       "      <td>Lead</td>\n",
       "      <td>Lead Kit Request (Residential) (L10)</td>\n",
       "      <td>NaN</td>\n",
       "      <td>10011</td>\n",
       "      <td>...</td>\n",
       "      <td>NaN</td>\n",
       "      <td>NaN</td>\n",
       "      <td>NaN</td>\n",
       "      <td>NaN</td>\n",
       "      <td>NaN</td>\n",
       "      <td>NaN</td>\n",
       "      <td>NaN</td>\n",
       "      <td>40.742622</td>\n",
       "      <td>-73.997968</td>\n",
       "      <td>(40.74262244714865, -73.99796826857371)</td>\n",
       "    </tr>\n",
       "    <tr>\n",
       "      <th>2</th>\n",
       "      <td>2</td>\n",
       "      <td>19573881</td>\n",
       "      <td>01/11/2011 11:31:02 AM</td>\n",
       "      <td>07/05/2011 04:07:58 PM</td>\n",
       "      <td>TLC</td>\n",
       "      <td>Correspondence - Taxi and Limousine Commission</td>\n",
       "      <td>Taxi Compliment</td>\n",
       "      <td>Driver Compliment</td>\n",
       "      <td>NaN</td>\n",
       "      <td>NaN</td>\n",
       "      <td>...</td>\n",
       "      <td>NaN</td>\n",
       "      <td>NaN</td>\n",
       "      <td>NaN</td>\n",
       "      <td>NaN</td>\n",
       "      <td>NaN</td>\n",
       "      <td>NaN</td>\n",
       "      <td>NaN</td>\n",
       "      <td>NaN</td>\n",
       "      <td>NaN</td>\n",
       "      <td>NaN</td>\n",
       "    </tr>\n",
       "    <tr>\n",
       "      <th>3</th>\n",
       "      <td>3</td>\n",
       "      <td>19579917</td>\n",
       "      <td>01/11/2011 12:46:00 PM</td>\n",
       "      <td>NaN</td>\n",
       "      <td>DEP</td>\n",
       "      <td>Department of Environmental Protection</td>\n",
       "      <td>Lead</td>\n",
       "      <td>Lead Kit Request (Non-Residential) (L11)</td>\n",
       "      <td>NaN</td>\n",
       "      <td>10128</td>\n",
       "      <td>...</td>\n",
       "      <td>NaN</td>\n",
       "      <td>NaN</td>\n",
       "      <td>NaN</td>\n",
       "      <td>NaN</td>\n",
       "      <td>NaN</td>\n",
       "      <td>NaN</td>\n",
       "      <td>NaN</td>\n",
       "      <td>40.787046</td>\n",
       "      <td>-73.955817</td>\n",
       "      <td>(40.78704587425496, -73.95581736959971)</td>\n",
       "    </tr>\n",
       "    <tr>\n",
       "      <th>4</th>\n",
       "      <td>4</td>\n",
       "      <td>19580080</td>\n",
       "      <td>01/11/2011 05:03:00 PM</td>\n",
       "      <td>NaN</td>\n",
       "      <td>DEP</td>\n",
       "      <td>Department of Environmental Protection</td>\n",
       "      <td>Lead</td>\n",
       "      <td>Lead Kit Request (Residential) (L10)</td>\n",
       "      <td>NaN</td>\n",
       "      <td>11208</td>\n",
       "      <td>...</td>\n",
       "      <td>NaN</td>\n",
       "      <td>NaN</td>\n",
       "      <td>NaN</td>\n",
       "      <td>NaN</td>\n",
       "      <td>NaN</td>\n",
       "      <td>NaN</td>\n",
       "      <td>NaN</td>\n",
       "      <td>40.662730</td>\n",
       "      <td>-73.868878</td>\n",
       "      <td>(40.66272996328775, -73.8688777423775)</td>\n",
       "    </tr>\n",
       "  </tbody>\n",
       "</table>\n",
       "<p>5 rows × 54 columns</p>\n",
       "</div>"
      ],
      "text/plain": [
       "   Unnamed: 0  Unique Key            Created Date             Closed Date  \\\n",
       "0           0    19574549  01/11/2011 03:47:18 PM  07/05/2011 04:08:01 PM   \n",
       "1           1    19579718  01/11/2011 03:00:00 AM                     NaN   \n",
       "2           2    19573881  01/11/2011 11:31:02 AM  07/05/2011 04:07:58 PM   \n",
       "3           3    19579917  01/11/2011 12:46:00 PM                     NaN   \n",
       "4           4    19580080  01/11/2011 05:03:00 PM                     NaN   \n",
       "\n",
       "  Agency                                     Agency Name   Complaint Type  \\\n",
       "0    TLC  Correspondence - Taxi and Limousine Commission  Taxi Compliment   \n",
       "1    DEP          Department of Environmental Protection             Lead   \n",
       "2    TLC  Correspondence - Taxi and Limousine Commission  Taxi Compliment   \n",
       "3    DEP          Department of Environmental Protection             Lead   \n",
       "4    DEP          Department of Environmental Protection             Lead   \n",
       "\n",
       "                                 Descriptor Location Type Incident Zip  \\\n",
       "0                         Driver Compliment           NaN          NaN   \n",
       "1      Lead Kit Request (Residential) (L10)           NaN        10011   \n",
       "2                         Driver Compliment           NaN          NaN   \n",
       "3  Lead Kit Request (Non-Residential) (L11)           NaN        10128   \n",
       "4      Lead Kit Request (Residential) (L10)           NaN        11208   \n",
       "\n",
       "                    ...                    Bridge Highway Name  \\\n",
       "0                   ...                                    NaN   \n",
       "1                   ...                                    NaN   \n",
       "2                   ...                                    NaN   \n",
       "3                   ...                                    NaN   \n",
       "4                   ...                                    NaN   \n",
       "\n",
       "  Bridge Highway Direction Road Ramp Bridge Highway Segment Garage Lot Name  \\\n",
       "0                      NaN       NaN                    NaN             NaN   \n",
       "1                      NaN       NaN                    NaN             NaN   \n",
       "2                      NaN       NaN                    NaN             NaN   \n",
       "3                      NaN       NaN                    NaN             NaN   \n",
       "4                      NaN       NaN                    NaN             NaN   \n",
       "\n",
       "  Ferry Direction Ferry Terminal Name   Latitude  Longitude  \\\n",
       "0             NaN                 NaN        NaN        NaN   \n",
       "1             NaN                 NaN  40.742622 -73.997968   \n",
       "2             NaN                 NaN        NaN        NaN   \n",
       "3             NaN                 NaN  40.787046 -73.955817   \n",
       "4             NaN                 NaN  40.662730 -73.868878   \n",
       "\n",
       "                                  Location  \n",
       "0                                      NaN  \n",
       "1  (40.74262244714865, -73.99796826857371)  \n",
       "2                                      NaN  \n",
       "3  (40.78704587425496, -73.95581736959971)  \n",
       "4   (40.66272996328775, -73.8688777423775)  \n",
       "\n",
       "[5 rows x 54 columns]"
      ]
     },
     "execution_count": 93,
     "metadata": {},
     "output_type": "execute_result"
    }
   ],
   "source": [
    "import zipfile\n",
    "\n",
    "with zipfile.ZipFile(r'311_service_requests.zip') as zip:\n",
    "    zip.extractall(path=r'.')\n",
    "\n",
    "reqs = pd.read_csv(r'311_service_requests.csv')\n",
    "reqs.head()"
   ]
  },
  {
   "cell_type": "code",
   "execution_count": 94,
   "metadata": {
    "scrolled": true
   },
   "outputs": [
    {
     "data": {
      "text/html": [
       "<div>\n",
       "<style scoped>\n",
       "    .dataframe tbody tr th:only-of-type {\n",
       "        vertical-align: middle;\n",
       "    }\n",
       "\n",
       "    .dataframe tbody tr th {\n",
       "        vertical-align: top;\n",
       "    }\n",
       "\n",
       "    .dataframe thead th {\n",
       "        text-align: right;\n",
       "    }\n",
       "</style>\n",
       "<table border=\"1\" class=\"dataframe\">\n",
       "  <thead>\n",
       "    <tr style=\"text-align: right;\">\n",
       "      <th></th>\n",
       "      <th></th>\n",
       "      <th></th>\n",
       "      <th></th>\n",
       "      <th></th>\n",
       "      <th></th>\n",
       "      <th>Unique Key</th>\n",
       "      <th>Created Date</th>\n",
       "      <th>Closed Date</th>\n",
       "      <th>Agency Name</th>\n",
       "      <th>Incident Zip</th>\n",
       "      <th>Incident Address</th>\n",
       "      <th>Street Name</th>\n",
       "      <th>Cross Street 1</th>\n",
       "      <th>Cross Street 2</th>\n",
       "      <th>Intersection Street 1</th>\n",
       "      <th>...</th>\n",
       "      <th>Taxi Pick Up Location</th>\n",
       "      <th>Bridge Highway Name</th>\n",
       "      <th>Road Ramp</th>\n",
       "      <th>Bridge Highway Segment</th>\n",
       "      <th>Garage Lot Name</th>\n",
       "      <th>Ferry Direction</th>\n",
       "      <th>Ferry Terminal Name</th>\n",
       "      <th>Latitude</th>\n",
       "      <th>Longitude</th>\n",
       "      <th>Location</th>\n",
       "    </tr>\n",
       "    <tr>\n",
       "      <th>Unnamed: 0</th>\n",
       "      <th>Agency</th>\n",
       "      <th>Complaint Type</th>\n",
       "      <th>Descriptor</th>\n",
       "      <th>Location Type</th>\n",
       "      <th>Bridge Highway Direction</th>\n",
       "      <th></th>\n",
       "      <th></th>\n",
       "      <th></th>\n",
       "      <th></th>\n",
       "      <th></th>\n",
       "      <th></th>\n",
       "      <th></th>\n",
       "      <th></th>\n",
       "      <th></th>\n",
       "      <th></th>\n",
       "      <th></th>\n",
       "      <th></th>\n",
       "      <th></th>\n",
       "      <th></th>\n",
       "      <th></th>\n",
       "      <th></th>\n",
       "      <th></th>\n",
       "      <th></th>\n",
       "      <th></th>\n",
       "      <th></th>\n",
       "      <th></th>\n",
       "    </tr>\n",
       "  </thead>\n",
       "  <tbody>\n",
       "    <tr>\n",
       "      <th>0</th>\n",
       "      <th>TLC</th>\n",
       "      <th>Taxi Compliment</th>\n",
       "      <th>Driver Compliment</th>\n",
       "      <th>NaN</th>\n",
       "      <th>NaN</th>\n",
       "      <td>19574549</td>\n",
       "      <td>01/11/2011 03:47:18 PM</td>\n",
       "      <td>07/05/2011 04:08:01 PM</td>\n",
       "      <td>Correspondence - Taxi and Limousine Commission</td>\n",
       "      <td>NaN</td>\n",
       "      <td>NaN</td>\n",
       "      <td>NaN</td>\n",
       "      <td>NaN</td>\n",
       "      <td>NaN</td>\n",
       "      <td>NaN</td>\n",
       "      <td>...</td>\n",
       "      <td>NaN</td>\n",
       "      <td>NaN</td>\n",
       "      <td>NaN</td>\n",
       "      <td>NaN</td>\n",
       "      <td>NaN</td>\n",
       "      <td>NaN</td>\n",
       "      <td>NaN</td>\n",
       "      <td>NaN</td>\n",
       "      <td>NaN</td>\n",
       "      <td>NaN</td>\n",
       "    </tr>\n",
       "    <tr>\n",
       "      <th>1</th>\n",
       "      <th>DEP</th>\n",
       "      <th>Lead</th>\n",
       "      <th>Lead Kit Request (Residential) (L10)</th>\n",
       "      <th>NaN</th>\n",
       "      <th>NaN</th>\n",
       "      <td>19579718</td>\n",
       "      <td>01/11/2011 03:00:00 AM</td>\n",
       "      <td>NaN</td>\n",
       "      <td>Department of Environmental Protection</td>\n",
       "      <td>10011</td>\n",
       "      <td>226 WEST 20 STREET</td>\n",
       "      <td>WEST 20 STREET</td>\n",
       "      <td>7 AVENUE</td>\n",
       "      <td>8 AVENUE</td>\n",
       "      <td>NaN</td>\n",
       "      <td>...</td>\n",
       "      <td>NaN</td>\n",
       "      <td>NaN</td>\n",
       "      <td>NaN</td>\n",
       "      <td>NaN</td>\n",
       "      <td>NaN</td>\n",
       "      <td>NaN</td>\n",
       "      <td>NaN</td>\n",
       "      <td>40.742622</td>\n",
       "      <td>-73.997968</td>\n",
       "      <td>(40.74262244714865, -73.99796826857371)</td>\n",
       "    </tr>\n",
       "    <tr>\n",
       "      <th>2</th>\n",
       "      <th>TLC</th>\n",
       "      <th>Taxi Compliment</th>\n",
       "      <th>Driver Compliment</th>\n",
       "      <th>NaN</th>\n",
       "      <th>NaN</th>\n",
       "      <td>19573881</td>\n",
       "      <td>01/11/2011 11:31:02 AM</td>\n",
       "      <td>07/05/2011 04:07:58 PM</td>\n",
       "      <td>Correspondence - Taxi and Limousine Commission</td>\n",
       "      <td>NaN</td>\n",
       "      <td>NaN</td>\n",
       "      <td>NaN</td>\n",
       "      <td>NaN</td>\n",
       "      <td>NaN</td>\n",
       "      <td>NaN</td>\n",
       "      <td>...</td>\n",
       "      <td>NaN</td>\n",
       "      <td>NaN</td>\n",
       "      <td>NaN</td>\n",
       "      <td>NaN</td>\n",
       "      <td>NaN</td>\n",
       "      <td>NaN</td>\n",
       "      <td>NaN</td>\n",
       "      <td>NaN</td>\n",
       "      <td>NaN</td>\n",
       "      <td>NaN</td>\n",
       "    </tr>\n",
       "    <tr>\n",
       "      <th>3</th>\n",
       "      <th>DEP</th>\n",
       "      <th>Lead</th>\n",
       "      <th>Lead Kit Request (Non-Residential) (L11)</th>\n",
       "      <th>NaN</th>\n",
       "      <th>NaN</th>\n",
       "      <td>19579917</td>\n",
       "      <td>01/11/2011 12:46:00 PM</td>\n",
       "      <td>NaN</td>\n",
       "      <td>Department of Environmental Protection</td>\n",
       "      <td>10128</td>\n",
       "      <td>7 EAST 95 STREET</td>\n",
       "      <td>EAST 95 STREET</td>\n",
       "      <td>5 AVENUE</td>\n",
       "      <td>MADISON AVENUE</td>\n",
       "      <td>NaN</td>\n",
       "      <td>...</td>\n",
       "      <td>NaN</td>\n",
       "      <td>NaN</td>\n",
       "      <td>NaN</td>\n",
       "      <td>NaN</td>\n",
       "      <td>NaN</td>\n",
       "      <td>NaN</td>\n",
       "      <td>NaN</td>\n",
       "      <td>40.787046</td>\n",
       "      <td>-73.955817</td>\n",
       "      <td>(40.78704587425496, -73.95581736959971)</td>\n",
       "    </tr>\n",
       "    <tr>\n",
       "      <th>4</th>\n",
       "      <th>DEP</th>\n",
       "      <th>Lead</th>\n",
       "      <th>Lead Kit Request (Residential) (L10)</th>\n",
       "      <th>NaN</th>\n",
       "      <th>NaN</th>\n",
       "      <td>19580080</td>\n",
       "      <td>01/11/2011 05:03:00 PM</td>\n",
       "      <td>NaN</td>\n",
       "      <td>Department of Environmental Protection</td>\n",
       "      <td>11208</td>\n",
       "      <td>721 FOUNTAIN AVENUE</td>\n",
       "      <td>FOUNTAIN AVENUE</td>\n",
       "      <td>WORTMAN AVENUE</td>\n",
       "      <td>COZINE AVENUE</td>\n",
       "      <td>NaN</td>\n",
       "      <td>...</td>\n",
       "      <td>NaN</td>\n",
       "      <td>NaN</td>\n",
       "      <td>NaN</td>\n",
       "      <td>NaN</td>\n",
       "      <td>NaN</td>\n",
       "      <td>NaN</td>\n",
       "      <td>NaN</td>\n",
       "      <td>40.662730</td>\n",
       "      <td>-73.868878</td>\n",
       "      <td>(40.66272996328775, -73.8688777423775)</td>\n",
       "    </tr>\n",
       "  </tbody>\n",
       "</table>\n",
       "<p>5 rows × 48 columns</p>\n",
       "</div>"
      ],
      "text/plain": [
       "                                                                                                                   Unique Key  \\\n",
       "Unnamed: 0 Agency Complaint Type  Descriptor                               Location Type Bridge Highway Direction               \n",
       "0          TLC    Taxi Compliment Driver Compliment                        NaN           NaN                         19574549   \n",
       "1          DEP    Lead            Lead Kit Request (Residential) (L10)     NaN           NaN                         19579718   \n",
       "2          TLC    Taxi Compliment Driver Compliment                        NaN           NaN                         19573881   \n",
       "3          DEP    Lead            Lead Kit Request (Non-Residential) (L11) NaN           NaN                         19579917   \n",
       "4          DEP    Lead            Lead Kit Request (Residential) (L10)     NaN           NaN                         19580080   \n",
       "\n",
       "                                                                                                                             Created Date  \\\n",
       "Unnamed: 0 Agency Complaint Type  Descriptor                               Location Type Bridge Highway Direction                           \n",
       "0          TLC    Taxi Compliment Driver Compliment                        NaN           NaN                       01/11/2011 03:47:18 PM   \n",
       "1          DEP    Lead            Lead Kit Request (Residential) (L10)     NaN           NaN                       01/11/2011 03:00:00 AM   \n",
       "2          TLC    Taxi Compliment Driver Compliment                        NaN           NaN                       01/11/2011 11:31:02 AM   \n",
       "3          DEP    Lead            Lead Kit Request (Non-Residential) (L11) NaN           NaN                       01/11/2011 12:46:00 PM   \n",
       "4          DEP    Lead            Lead Kit Request (Residential) (L10)     NaN           NaN                       01/11/2011 05:03:00 PM   \n",
       "\n",
       "                                                                                                                              Closed Date  \\\n",
       "Unnamed: 0 Agency Complaint Type  Descriptor                               Location Type Bridge Highway Direction                           \n",
       "0          TLC    Taxi Compliment Driver Compliment                        NaN           NaN                       07/05/2011 04:08:01 PM   \n",
       "1          DEP    Lead            Lead Kit Request (Residential) (L10)     NaN           NaN                                          NaN   \n",
       "2          TLC    Taxi Compliment Driver Compliment                        NaN           NaN                       07/05/2011 04:07:58 PM   \n",
       "3          DEP    Lead            Lead Kit Request (Non-Residential) (L11) NaN           NaN                                          NaN   \n",
       "4          DEP    Lead            Lead Kit Request (Residential) (L10)     NaN           NaN                                          NaN   \n",
       "\n",
       "                                                                                                                                                      Agency Name  \\\n",
       "Unnamed: 0 Agency Complaint Type  Descriptor                               Location Type Bridge Highway Direction                                                   \n",
       "0          TLC    Taxi Compliment Driver Compliment                        NaN           NaN                       Correspondence - Taxi and Limousine Commission   \n",
       "1          DEP    Lead            Lead Kit Request (Residential) (L10)     NaN           NaN                               Department of Environmental Protection   \n",
       "2          TLC    Taxi Compliment Driver Compliment                        NaN           NaN                       Correspondence - Taxi and Limousine Commission   \n",
       "3          DEP    Lead            Lead Kit Request (Non-Residential) (L11) NaN           NaN                               Department of Environmental Protection   \n",
       "4          DEP    Lead            Lead Kit Request (Residential) (L10)     NaN           NaN                               Department of Environmental Protection   \n",
       "\n",
       "                                                                                                                  Incident Zip  \\\n",
       "Unnamed: 0 Agency Complaint Type  Descriptor                               Location Type Bridge Highway Direction                \n",
       "0          TLC    Taxi Compliment Driver Compliment                        NaN           NaN                               NaN   \n",
       "1          DEP    Lead            Lead Kit Request (Residential) (L10)     NaN           NaN                             10011   \n",
       "2          TLC    Taxi Compliment Driver Compliment                        NaN           NaN                               NaN   \n",
       "3          DEP    Lead            Lead Kit Request (Non-Residential) (L11) NaN           NaN                             10128   \n",
       "4          DEP    Lead            Lead Kit Request (Residential) (L10)     NaN           NaN                             11208   \n",
       "\n",
       "                                                                                                                      Incident Address  \\\n",
       "Unnamed: 0 Agency Complaint Type  Descriptor                               Location Type Bridge Highway Direction                        \n",
       "0          TLC    Taxi Compliment Driver Compliment                        NaN           NaN                                       NaN   \n",
       "1          DEP    Lead            Lead Kit Request (Residential) (L10)     NaN           NaN                        226 WEST 20 STREET   \n",
       "2          TLC    Taxi Compliment Driver Compliment                        NaN           NaN                                       NaN   \n",
       "3          DEP    Lead            Lead Kit Request (Non-Residential) (L11) NaN           NaN                          7 EAST 95 STREET   \n",
       "4          DEP    Lead            Lead Kit Request (Residential) (L10)     NaN           NaN                       721 FOUNTAIN AVENUE   \n",
       "\n",
       "                                                                                                                       Street Name  \\\n",
       "Unnamed: 0 Agency Complaint Type  Descriptor                               Location Type Bridge Highway Direction                    \n",
       "0          TLC    Taxi Compliment Driver Compliment                        NaN           NaN                                   NaN   \n",
       "1          DEP    Lead            Lead Kit Request (Residential) (L10)     NaN           NaN                        WEST 20 STREET   \n",
       "2          TLC    Taxi Compliment Driver Compliment                        NaN           NaN                                   NaN   \n",
       "3          DEP    Lead            Lead Kit Request (Non-Residential) (L11) NaN           NaN                        EAST 95 STREET   \n",
       "4          DEP    Lead            Lead Kit Request (Residential) (L10)     NaN           NaN                       FOUNTAIN AVENUE   \n",
       "\n",
       "                                                                                                                   Cross Street 1  \\\n",
       "Unnamed: 0 Agency Complaint Type  Descriptor                               Location Type Bridge Highway Direction                   \n",
       "0          TLC    Taxi Compliment Driver Compliment                        NaN           NaN                                  NaN   \n",
       "1          DEP    Lead            Lead Kit Request (Residential) (L10)     NaN           NaN                             7 AVENUE   \n",
       "2          TLC    Taxi Compliment Driver Compliment                        NaN           NaN                                  NaN   \n",
       "3          DEP    Lead            Lead Kit Request (Non-Residential) (L11) NaN           NaN                             5 AVENUE   \n",
       "4          DEP    Lead            Lead Kit Request (Residential) (L10)     NaN           NaN                       WORTMAN AVENUE   \n",
       "\n",
       "                                                                                                                   Cross Street 2  \\\n",
       "Unnamed: 0 Agency Complaint Type  Descriptor                               Location Type Bridge Highway Direction                   \n",
       "0          TLC    Taxi Compliment Driver Compliment                        NaN           NaN                                  NaN   \n",
       "1          DEP    Lead            Lead Kit Request (Residential) (L10)     NaN           NaN                             8 AVENUE   \n",
       "2          TLC    Taxi Compliment Driver Compliment                        NaN           NaN                                  NaN   \n",
       "3          DEP    Lead            Lead Kit Request (Non-Residential) (L11) NaN           NaN                       MADISON AVENUE   \n",
       "4          DEP    Lead            Lead Kit Request (Residential) (L10)     NaN           NaN                        COZINE AVENUE   \n",
       "\n",
       "                                                                                                                  Intersection Street 1  \\\n",
       "Unnamed: 0 Agency Complaint Type  Descriptor                               Location Type Bridge Highway Direction                         \n",
       "0          TLC    Taxi Compliment Driver Compliment                        NaN           NaN                                        NaN   \n",
       "1          DEP    Lead            Lead Kit Request (Residential) (L10)     NaN           NaN                                        NaN   \n",
       "2          TLC    Taxi Compliment Driver Compliment                        NaN           NaN                                        NaN   \n",
       "3          DEP    Lead            Lead Kit Request (Non-Residential) (L11) NaN           NaN                                        NaN   \n",
       "4          DEP    Lead            Lead Kit Request (Residential) (L10)     NaN           NaN                                        NaN   \n",
       "\n",
       "                                                                                                                                    ...                     \\\n",
       "Unnamed: 0 Agency Complaint Type  Descriptor                               Location Type Bridge Highway Direction                   ...                      \n",
       "0          TLC    Taxi Compliment Driver Compliment                        NaN           NaN                                        ...                      \n",
       "1          DEP    Lead            Lead Kit Request (Residential) (L10)     NaN           NaN                                        ...                      \n",
       "2          TLC    Taxi Compliment Driver Compliment                        NaN           NaN                                        ...                      \n",
       "3          DEP    Lead            Lead Kit Request (Non-Residential) (L11) NaN           NaN                                        ...                      \n",
       "4          DEP    Lead            Lead Kit Request (Residential) (L10)     NaN           NaN                                        ...                      \n",
       "\n",
       "                                                                                                                  Taxi Pick Up Location  \\\n",
       "Unnamed: 0 Agency Complaint Type  Descriptor                               Location Type Bridge Highway Direction                         \n",
       "0          TLC    Taxi Compliment Driver Compliment                        NaN           NaN                                        NaN   \n",
       "1          DEP    Lead            Lead Kit Request (Residential) (L10)     NaN           NaN                                        NaN   \n",
       "2          TLC    Taxi Compliment Driver Compliment                        NaN           NaN                                        NaN   \n",
       "3          DEP    Lead            Lead Kit Request (Non-Residential) (L11) NaN           NaN                                        NaN   \n",
       "4          DEP    Lead            Lead Kit Request (Residential) (L10)     NaN           NaN                                        NaN   \n",
       "\n",
       "                                                                                                                  Bridge Highway Name  \\\n",
       "Unnamed: 0 Agency Complaint Type  Descriptor                               Location Type Bridge Highway Direction                       \n",
       "0          TLC    Taxi Compliment Driver Compliment                        NaN           NaN                                      NaN   \n",
       "1          DEP    Lead            Lead Kit Request (Residential) (L10)     NaN           NaN                                      NaN   \n",
       "2          TLC    Taxi Compliment Driver Compliment                        NaN           NaN                                      NaN   \n",
       "3          DEP    Lead            Lead Kit Request (Non-Residential) (L11) NaN           NaN                                      NaN   \n",
       "4          DEP    Lead            Lead Kit Request (Residential) (L10)     NaN           NaN                                      NaN   \n",
       "\n",
       "                                                                                                                  Road Ramp  \\\n",
       "Unnamed: 0 Agency Complaint Type  Descriptor                               Location Type Bridge Highway Direction             \n",
       "0          TLC    Taxi Compliment Driver Compliment                        NaN           NaN                            NaN   \n",
       "1          DEP    Lead            Lead Kit Request (Residential) (L10)     NaN           NaN                            NaN   \n",
       "2          TLC    Taxi Compliment Driver Compliment                        NaN           NaN                            NaN   \n",
       "3          DEP    Lead            Lead Kit Request (Non-Residential) (L11) NaN           NaN                            NaN   \n",
       "4          DEP    Lead            Lead Kit Request (Residential) (L10)     NaN           NaN                            NaN   \n",
       "\n",
       "                                                                                                                  Bridge Highway Segment  \\\n",
       "Unnamed: 0 Agency Complaint Type  Descriptor                               Location Type Bridge Highway Direction                          \n",
       "0          TLC    Taxi Compliment Driver Compliment                        NaN           NaN                                         NaN   \n",
       "1          DEP    Lead            Lead Kit Request (Residential) (L10)     NaN           NaN                                         NaN   \n",
       "2          TLC    Taxi Compliment Driver Compliment                        NaN           NaN                                         NaN   \n",
       "3          DEP    Lead            Lead Kit Request (Non-Residential) (L11) NaN           NaN                                         NaN   \n",
       "4          DEP    Lead            Lead Kit Request (Residential) (L10)     NaN           NaN                                         NaN   \n",
       "\n",
       "                                                                                                                  Garage Lot Name  \\\n",
       "Unnamed: 0 Agency Complaint Type  Descriptor                               Location Type Bridge Highway Direction                   \n",
       "0          TLC    Taxi Compliment Driver Compliment                        NaN           NaN                                  NaN   \n",
       "1          DEP    Lead            Lead Kit Request (Residential) (L10)     NaN           NaN                                  NaN   \n",
       "2          TLC    Taxi Compliment Driver Compliment                        NaN           NaN                                  NaN   \n",
       "3          DEP    Lead            Lead Kit Request (Non-Residential) (L11) NaN           NaN                                  NaN   \n",
       "4          DEP    Lead            Lead Kit Request (Residential) (L10)     NaN           NaN                                  NaN   \n",
       "\n",
       "                                                                                                                  Ferry Direction  \\\n",
       "Unnamed: 0 Agency Complaint Type  Descriptor                               Location Type Bridge Highway Direction                   \n",
       "0          TLC    Taxi Compliment Driver Compliment                        NaN           NaN                                  NaN   \n",
       "1          DEP    Lead            Lead Kit Request (Residential) (L10)     NaN           NaN                                  NaN   \n",
       "2          TLC    Taxi Compliment Driver Compliment                        NaN           NaN                                  NaN   \n",
       "3          DEP    Lead            Lead Kit Request (Non-Residential) (L11) NaN           NaN                                  NaN   \n",
       "4          DEP    Lead            Lead Kit Request (Residential) (L10)     NaN           NaN                                  NaN   \n",
       "\n",
       "                                                                                                                  Ferry Terminal Name  \\\n",
       "Unnamed: 0 Agency Complaint Type  Descriptor                               Location Type Bridge Highway Direction                       \n",
       "0          TLC    Taxi Compliment Driver Compliment                        NaN           NaN                                      NaN   \n",
       "1          DEP    Lead            Lead Kit Request (Residential) (L10)     NaN           NaN                                      NaN   \n",
       "2          TLC    Taxi Compliment Driver Compliment                        NaN           NaN                                      NaN   \n",
       "3          DEP    Lead            Lead Kit Request (Non-Residential) (L11) NaN           NaN                                      NaN   \n",
       "4          DEP    Lead            Lead Kit Request (Residential) (L10)     NaN           NaN                                      NaN   \n",
       "\n",
       "                                                                                                                    Latitude  \\\n",
       "Unnamed: 0 Agency Complaint Type  Descriptor                               Location Type Bridge Highway Direction              \n",
       "0          TLC    Taxi Compliment Driver Compliment                        NaN           NaN                             NaN   \n",
       "1          DEP    Lead            Lead Kit Request (Residential) (L10)     NaN           NaN                       40.742622   \n",
       "2          TLC    Taxi Compliment Driver Compliment                        NaN           NaN                             NaN   \n",
       "3          DEP    Lead            Lead Kit Request (Non-Residential) (L11) NaN           NaN                       40.787046   \n",
       "4          DEP    Lead            Lead Kit Request (Residential) (L10)     NaN           NaN                       40.662730   \n",
       "\n",
       "                                                                                                                   Longitude  \\\n",
       "Unnamed: 0 Agency Complaint Type  Descriptor                               Location Type Bridge Highway Direction              \n",
       "0          TLC    Taxi Compliment Driver Compliment                        NaN           NaN                             NaN   \n",
       "1          DEP    Lead            Lead Kit Request (Residential) (L10)     NaN           NaN                      -73.997968   \n",
       "2          TLC    Taxi Compliment Driver Compliment                        NaN           NaN                             NaN   \n",
       "3          DEP    Lead            Lead Kit Request (Non-Residential) (L11) NaN           NaN                      -73.955817   \n",
       "4          DEP    Lead            Lead Kit Request (Residential) (L10)     NaN           NaN                      -73.868878   \n",
       "\n",
       "                                                                                                                                                  Location  \n",
       "Unnamed: 0 Agency Complaint Type  Descriptor                               Location Type Bridge Highway Direction                                           \n",
       "0          TLC    Taxi Compliment Driver Compliment                        NaN           NaN                                                           NaN  \n",
       "1          DEP    Lead            Lead Kit Request (Residential) (L10)     NaN           NaN                       (40.74262244714865, -73.99796826857371)  \n",
       "2          TLC    Taxi Compliment Driver Compliment                        NaN           NaN                                                           NaN  \n",
       "3          DEP    Lead            Lead Kit Request (Non-Residential) (L11) NaN           NaN                       (40.78704587425496, -73.95581736959971)  \n",
       "4          DEP    Lead            Lead Kit Request (Residential) (L10)     NaN           NaN                        (40.66272996328775, -73.8688777423775)  \n",
       "\n",
       "[5 rows x 48 columns]"
      ]
     },
     "execution_count": 94,
     "metadata": {},
     "output_type": "execute_result"
    }
   ],
   "source": [
    "reqs.set_index(['Unnamed: 0', 'Agency', 'Complaint Type', 'Descriptor', 'Location Type', 'Bridge Highway Direction'], inplace=True)\n",
    "reqs.head()"
   ]
  },
  {
   "cell_type": "code",
   "execution_count": 95,
   "metadata": {},
   "outputs": [
    {
     "data": {
      "text/html": [
       "<div>\n",
       "<style scoped>\n",
       "    .dataframe tbody tr th:only-of-type {\n",
       "        vertical-align: middle;\n",
       "    }\n",
       "\n",
       "    .dataframe tbody tr th {\n",
       "        vertical-align: top;\n",
       "    }\n",
       "\n",
       "    .dataframe thead th {\n",
       "        text-align: right;\n",
       "    }\n",
       "</style>\n",
       "<table border=\"1\" class=\"dataframe\">\n",
       "  <thead>\n",
       "    <tr style=\"text-align: right;\">\n",
       "      <th></th>\n",
       "      <th></th>\n",
       "      <th></th>\n",
       "      <th></th>\n",
       "      <th></th>\n",
       "      <th></th>\n",
       "      <th>Unique Key</th>\n",
       "      <th>Created Date</th>\n",
       "      <th>Closed Date</th>\n",
       "      <th>Agency Name</th>\n",
       "      <th>Incident Zip</th>\n",
       "      <th>Incident Address</th>\n",
       "      <th>Street Name</th>\n",
       "      <th>Cross Street 1</th>\n",
       "      <th>Cross Street 2</th>\n",
       "      <th>Intersection Street 1</th>\n",
       "      <th>...</th>\n",
       "      <th>Taxi Pick Up Location</th>\n",
       "      <th>Bridge Highway Name</th>\n",
       "      <th>Road Ramp</th>\n",
       "      <th>Bridge Highway Segment</th>\n",
       "      <th>Garage Lot Name</th>\n",
       "      <th>Ferry Direction</th>\n",
       "      <th>Ferry Terminal Name</th>\n",
       "      <th>Latitude</th>\n",
       "      <th>Longitude</th>\n",
       "      <th>Location</th>\n",
       "    </tr>\n",
       "    <tr>\n",
       "      <th>num</th>\n",
       "      <th>Agency</th>\n",
       "      <th>Complaint Type</th>\n",
       "      <th>Descriptor</th>\n",
       "      <th>Location Type</th>\n",
       "      <th>Bridge Highway Direction</th>\n",
       "      <th></th>\n",
       "      <th></th>\n",
       "      <th></th>\n",
       "      <th></th>\n",
       "      <th></th>\n",
       "      <th></th>\n",
       "      <th></th>\n",
       "      <th></th>\n",
       "      <th></th>\n",
       "      <th></th>\n",
       "      <th></th>\n",
       "      <th></th>\n",
       "      <th></th>\n",
       "      <th></th>\n",
       "      <th></th>\n",
       "      <th></th>\n",
       "      <th></th>\n",
       "      <th></th>\n",
       "      <th></th>\n",
       "      <th></th>\n",
       "      <th></th>\n",
       "    </tr>\n",
       "  </thead>\n",
       "  <tbody>\n",
       "    <tr>\n",
       "      <th>0</th>\n",
       "      <th>TLC</th>\n",
       "      <th>Taxi Compliment</th>\n",
       "      <th>Driver Compliment</th>\n",
       "      <th>NaN</th>\n",
       "      <th>NaN</th>\n",
       "      <td>19574549</td>\n",
       "      <td>01/11/2011 03:47:18 PM</td>\n",
       "      <td>07/05/2011 04:08:01 PM</td>\n",
       "      <td>Correspondence - Taxi and Limousine Commission</td>\n",
       "      <td>NaN</td>\n",
       "      <td>NaN</td>\n",
       "      <td>NaN</td>\n",
       "      <td>NaN</td>\n",
       "      <td>NaN</td>\n",
       "      <td>NaN</td>\n",
       "      <td>...</td>\n",
       "      <td>NaN</td>\n",
       "      <td>NaN</td>\n",
       "      <td>NaN</td>\n",
       "      <td>NaN</td>\n",
       "      <td>NaN</td>\n",
       "      <td>NaN</td>\n",
       "      <td>NaN</td>\n",
       "      <td>NaN</td>\n",
       "      <td>NaN</td>\n",
       "      <td>NaN</td>\n",
       "    </tr>\n",
       "    <tr>\n",
       "      <th>1</th>\n",
       "      <th>DEP</th>\n",
       "      <th>Lead</th>\n",
       "      <th>Lead Kit Request (Residential) (L10)</th>\n",
       "      <th>NaN</th>\n",
       "      <th>NaN</th>\n",
       "      <td>19579718</td>\n",
       "      <td>01/11/2011 03:00:00 AM</td>\n",
       "      <td>NaN</td>\n",
       "      <td>Department of Environmental Protection</td>\n",
       "      <td>10011</td>\n",
       "      <td>226 WEST 20 STREET</td>\n",
       "      <td>WEST 20 STREET</td>\n",
       "      <td>7 AVENUE</td>\n",
       "      <td>8 AVENUE</td>\n",
       "      <td>NaN</td>\n",
       "      <td>...</td>\n",
       "      <td>NaN</td>\n",
       "      <td>NaN</td>\n",
       "      <td>NaN</td>\n",
       "      <td>NaN</td>\n",
       "      <td>NaN</td>\n",
       "      <td>NaN</td>\n",
       "      <td>NaN</td>\n",
       "      <td>40.742622</td>\n",
       "      <td>-73.997968</td>\n",
       "      <td>(40.74262244714865, -73.99796826857371)</td>\n",
       "    </tr>\n",
       "    <tr>\n",
       "      <th>2</th>\n",
       "      <th>TLC</th>\n",
       "      <th>Taxi Compliment</th>\n",
       "      <th>Driver Compliment</th>\n",
       "      <th>NaN</th>\n",
       "      <th>NaN</th>\n",
       "      <td>19573881</td>\n",
       "      <td>01/11/2011 11:31:02 AM</td>\n",
       "      <td>07/05/2011 04:07:58 PM</td>\n",
       "      <td>Correspondence - Taxi and Limousine Commission</td>\n",
       "      <td>NaN</td>\n",
       "      <td>NaN</td>\n",
       "      <td>NaN</td>\n",
       "      <td>NaN</td>\n",
       "      <td>NaN</td>\n",
       "      <td>NaN</td>\n",
       "      <td>...</td>\n",
       "      <td>NaN</td>\n",
       "      <td>NaN</td>\n",
       "      <td>NaN</td>\n",
       "      <td>NaN</td>\n",
       "      <td>NaN</td>\n",
       "      <td>NaN</td>\n",
       "      <td>NaN</td>\n",
       "      <td>NaN</td>\n",
       "      <td>NaN</td>\n",
       "      <td>NaN</td>\n",
       "    </tr>\n",
       "    <tr>\n",
       "      <th>3</th>\n",
       "      <th>DEP</th>\n",
       "      <th>Lead</th>\n",
       "      <th>Lead Kit Request (Non-Residential) (L11)</th>\n",
       "      <th>NaN</th>\n",
       "      <th>NaN</th>\n",
       "      <td>19579917</td>\n",
       "      <td>01/11/2011 12:46:00 PM</td>\n",
       "      <td>NaN</td>\n",
       "      <td>Department of Environmental Protection</td>\n",
       "      <td>10128</td>\n",
       "      <td>7 EAST 95 STREET</td>\n",
       "      <td>EAST 95 STREET</td>\n",
       "      <td>5 AVENUE</td>\n",
       "      <td>MADISON AVENUE</td>\n",
       "      <td>NaN</td>\n",
       "      <td>...</td>\n",
       "      <td>NaN</td>\n",
       "      <td>NaN</td>\n",
       "      <td>NaN</td>\n",
       "      <td>NaN</td>\n",
       "      <td>NaN</td>\n",
       "      <td>NaN</td>\n",
       "      <td>NaN</td>\n",
       "      <td>40.787046</td>\n",
       "      <td>-73.955817</td>\n",
       "      <td>(40.78704587425496, -73.95581736959971)</td>\n",
       "    </tr>\n",
       "    <tr>\n",
       "      <th>4</th>\n",
       "      <th>DEP</th>\n",
       "      <th>Lead</th>\n",
       "      <th>Lead Kit Request (Residential) (L10)</th>\n",
       "      <th>NaN</th>\n",
       "      <th>NaN</th>\n",
       "      <td>19580080</td>\n",
       "      <td>01/11/2011 05:03:00 PM</td>\n",
       "      <td>NaN</td>\n",
       "      <td>Department of Environmental Protection</td>\n",
       "      <td>11208</td>\n",
       "      <td>721 FOUNTAIN AVENUE</td>\n",
       "      <td>FOUNTAIN AVENUE</td>\n",
       "      <td>WORTMAN AVENUE</td>\n",
       "      <td>COZINE AVENUE</td>\n",
       "      <td>NaN</td>\n",
       "      <td>...</td>\n",
       "      <td>NaN</td>\n",
       "      <td>NaN</td>\n",
       "      <td>NaN</td>\n",
       "      <td>NaN</td>\n",
       "      <td>NaN</td>\n",
       "      <td>NaN</td>\n",
       "      <td>NaN</td>\n",
       "      <td>40.662730</td>\n",
       "      <td>-73.868878</td>\n",
       "      <td>(40.66272996328775, -73.8688777423775)</td>\n",
       "    </tr>\n",
       "  </tbody>\n",
       "</table>\n",
       "<p>5 rows × 48 columns</p>\n",
       "</div>"
      ],
      "text/plain": [
       "                                                                                                            Unique Key  \\\n",
       "num Agency Complaint Type  Descriptor                               Location Type Bridge Highway Direction               \n",
       "0   TLC    Taxi Compliment Driver Compliment                        NaN           NaN                         19574549   \n",
       "1   DEP    Lead            Lead Kit Request (Residential) (L10)     NaN           NaN                         19579718   \n",
       "2   TLC    Taxi Compliment Driver Compliment                        NaN           NaN                         19573881   \n",
       "3   DEP    Lead            Lead Kit Request (Non-Residential) (L11) NaN           NaN                         19579917   \n",
       "4   DEP    Lead            Lead Kit Request (Residential) (L10)     NaN           NaN                         19580080   \n",
       "\n",
       "                                                                                                                      Created Date  \\\n",
       "num Agency Complaint Type  Descriptor                               Location Type Bridge Highway Direction                           \n",
       "0   TLC    Taxi Compliment Driver Compliment                        NaN           NaN                       01/11/2011 03:47:18 PM   \n",
       "1   DEP    Lead            Lead Kit Request (Residential) (L10)     NaN           NaN                       01/11/2011 03:00:00 AM   \n",
       "2   TLC    Taxi Compliment Driver Compliment                        NaN           NaN                       01/11/2011 11:31:02 AM   \n",
       "3   DEP    Lead            Lead Kit Request (Non-Residential) (L11) NaN           NaN                       01/11/2011 12:46:00 PM   \n",
       "4   DEP    Lead            Lead Kit Request (Residential) (L10)     NaN           NaN                       01/11/2011 05:03:00 PM   \n",
       "\n",
       "                                                                                                                       Closed Date  \\\n",
       "num Agency Complaint Type  Descriptor                               Location Type Bridge Highway Direction                           \n",
       "0   TLC    Taxi Compliment Driver Compliment                        NaN           NaN                       07/05/2011 04:08:01 PM   \n",
       "1   DEP    Lead            Lead Kit Request (Residential) (L10)     NaN           NaN                                          NaN   \n",
       "2   TLC    Taxi Compliment Driver Compliment                        NaN           NaN                       07/05/2011 04:07:58 PM   \n",
       "3   DEP    Lead            Lead Kit Request (Non-Residential) (L11) NaN           NaN                                          NaN   \n",
       "4   DEP    Lead            Lead Kit Request (Residential) (L10)     NaN           NaN                                          NaN   \n",
       "\n",
       "                                                                                                                                               Agency Name  \\\n",
       "num Agency Complaint Type  Descriptor                               Location Type Bridge Highway Direction                                                   \n",
       "0   TLC    Taxi Compliment Driver Compliment                        NaN           NaN                       Correspondence - Taxi and Limousine Commission   \n",
       "1   DEP    Lead            Lead Kit Request (Residential) (L10)     NaN           NaN                               Department of Environmental Protection   \n",
       "2   TLC    Taxi Compliment Driver Compliment                        NaN           NaN                       Correspondence - Taxi and Limousine Commission   \n",
       "3   DEP    Lead            Lead Kit Request (Non-Residential) (L11) NaN           NaN                               Department of Environmental Protection   \n",
       "4   DEP    Lead            Lead Kit Request (Residential) (L10)     NaN           NaN                               Department of Environmental Protection   \n",
       "\n",
       "                                                                                                           Incident Zip  \\\n",
       "num Agency Complaint Type  Descriptor                               Location Type Bridge Highway Direction                \n",
       "0   TLC    Taxi Compliment Driver Compliment                        NaN           NaN                               NaN   \n",
       "1   DEP    Lead            Lead Kit Request (Residential) (L10)     NaN           NaN                             10011   \n",
       "2   TLC    Taxi Compliment Driver Compliment                        NaN           NaN                               NaN   \n",
       "3   DEP    Lead            Lead Kit Request (Non-Residential) (L11) NaN           NaN                             10128   \n",
       "4   DEP    Lead            Lead Kit Request (Residential) (L10)     NaN           NaN                             11208   \n",
       "\n",
       "                                                                                                               Incident Address  \\\n",
       "num Agency Complaint Type  Descriptor                               Location Type Bridge Highway Direction                        \n",
       "0   TLC    Taxi Compliment Driver Compliment                        NaN           NaN                                       NaN   \n",
       "1   DEP    Lead            Lead Kit Request (Residential) (L10)     NaN           NaN                        226 WEST 20 STREET   \n",
       "2   TLC    Taxi Compliment Driver Compliment                        NaN           NaN                                       NaN   \n",
       "3   DEP    Lead            Lead Kit Request (Non-Residential) (L11) NaN           NaN                          7 EAST 95 STREET   \n",
       "4   DEP    Lead            Lead Kit Request (Residential) (L10)     NaN           NaN                       721 FOUNTAIN AVENUE   \n",
       "\n",
       "                                                                                                                Street Name  \\\n",
       "num Agency Complaint Type  Descriptor                               Location Type Bridge Highway Direction                    \n",
       "0   TLC    Taxi Compliment Driver Compliment                        NaN           NaN                                   NaN   \n",
       "1   DEP    Lead            Lead Kit Request (Residential) (L10)     NaN           NaN                        WEST 20 STREET   \n",
       "2   TLC    Taxi Compliment Driver Compliment                        NaN           NaN                                   NaN   \n",
       "3   DEP    Lead            Lead Kit Request (Non-Residential) (L11) NaN           NaN                        EAST 95 STREET   \n",
       "4   DEP    Lead            Lead Kit Request (Residential) (L10)     NaN           NaN                       FOUNTAIN AVENUE   \n",
       "\n",
       "                                                                                                            Cross Street 1  \\\n",
       "num Agency Complaint Type  Descriptor                               Location Type Bridge Highway Direction                   \n",
       "0   TLC    Taxi Compliment Driver Compliment                        NaN           NaN                                  NaN   \n",
       "1   DEP    Lead            Lead Kit Request (Residential) (L10)     NaN           NaN                             7 AVENUE   \n",
       "2   TLC    Taxi Compliment Driver Compliment                        NaN           NaN                                  NaN   \n",
       "3   DEP    Lead            Lead Kit Request (Non-Residential) (L11) NaN           NaN                             5 AVENUE   \n",
       "4   DEP    Lead            Lead Kit Request (Residential) (L10)     NaN           NaN                       WORTMAN AVENUE   \n",
       "\n",
       "                                                                                                            Cross Street 2  \\\n",
       "num Agency Complaint Type  Descriptor                               Location Type Bridge Highway Direction                   \n",
       "0   TLC    Taxi Compliment Driver Compliment                        NaN           NaN                                  NaN   \n",
       "1   DEP    Lead            Lead Kit Request (Residential) (L10)     NaN           NaN                             8 AVENUE   \n",
       "2   TLC    Taxi Compliment Driver Compliment                        NaN           NaN                                  NaN   \n",
       "3   DEP    Lead            Lead Kit Request (Non-Residential) (L11) NaN           NaN                       MADISON AVENUE   \n",
       "4   DEP    Lead            Lead Kit Request (Residential) (L10)     NaN           NaN                        COZINE AVENUE   \n",
       "\n",
       "                                                                                                           Intersection Street 1  \\\n",
       "num Agency Complaint Type  Descriptor                               Location Type Bridge Highway Direction                         \n",
       "0   TLC    Taxi Compliment Driver Compliment                        NaN           NaN                                        NaN   \n",
       "1   DEP    Lead            Lead Kit Request (Residential) (L10)     NaN           NaN                                        NaN   \n",
       "2   TLC    Taxi Compliment Driver Compliment                        NaN           NaN                                        NaN   \n",
       "3   DEP    Lead            Lead Kit Request (Non-Residential) (L11) NaN           NaN                                        NaN   \n",
       "4   DEP    Lead            Lead Kit Request (Residential) (L10)     NaN           NaN                                        NaN   \n",
       "\n",
       "                                                                                                                             ...                     \\\n",
       "num Agency Complaint Type  Descriptor                               Location Type Bridge Highway Direction                   ...                      \n",
       "0   TLC    Taxi Compliment Driver Compliment                        NaN           NaN                                        ...                      \n",
       "1   DEP    Lead            Lead Kit Request (Residential) (L10)     NaN           NaN                                        ...                      \n",
       "2   TLC    Taxi Compliment Driver Compliment                        NaN           NaN                                        ...                      \n",
       "3   DEP    Lead            Lead Kit Request (Non-Residential) (L11) NaN           NaN                                        ...                      \n",
       "4   DEP    Lead            Lead Kit Request (Residential) (L10)     NaN           NaN                                        ...                      \n",
       "\n",
       "                                                                                                           Taxi Pick Up Location  \\\n",
       "num Agency Complaint Type  Descriptor                               Location Type Bridge Highway Direction                         \n",
       "0   TLC    Taxi Compliment Driver Compliment                        NaN           NaN                                        NaN   \n",
       "1   DEP    Lead            Lead Kit Request (Residential) (L10)     NaN           NaN                                        NaN   \n",
       "2   TLC    Taxi Compliment Driver Compliment                        NaN           NaN                                        NaN   \n",
       "3   DEP    Lead            Lead Kit Request (Non-Residential) (L11) NaN           NaN                                        NaN   \n",
       "4   DEP    Lead            Lead Kit Request (Residential) (L10)     NaN           NaN                                        NaN   \n",
       "\n",
       "                                                                                                           Bridge Highway Name  \\\n",
       "num Agency Complaint Type  Descriptor                               Location Type Bridge Highway Direction                       \n",
       "0   TLC    Taxi Compliment Driver Compliment                        NaN           NaN                                      NaN   \n",
       "1   DEP    Lead            Lead Kit Request (Residential) (L10)     NaN           NaN                                      NaN   \n",
       "2   TLC    Taxi Compliment Driver Compliment                        NaN           NaN                                      NaN   \n",
       "3   DEP    Lead            Lead Kit Request (Non-Residential) (L11) NaN           NaN                                      NaN   \n",
       "4   DEP    Lead            Lead Kit Request (Residential) (L10)     NaN           NaN                                      NaN   \n",
       "\n",
       "                                                                                                           Road Ramp  \\\n",
       "num Agency Complaint Type  Descriptor                               Location Type Bridge Highway Direction             \n",
       "0   TLC    Taxi Compliment Driver Compliment                        NaN           NaN                            NaN   \n",
       "1   DEP    Lead            Lead Kit Request (Residential) (L10)     NaN           NaN                            NaN   \n",
       "2   TLC    Taxi Compliment Driver Compliment                        NaN           NaN                            NaN   \n",
       "3   DEP    Lead            Lead Kit Request (Non-Residential) (L11) NaN           NaN                            NaN   \n",
       "4   DEP    Lead            Lead Kit Request (Residential) (L10)     NaN           NaN                            NaN   \n",
       "\n",
       "                                                                                                           Bridge Highway Segment  \\\n",
       "num Agency Complaint Type  Descriptor                               Location Type Bridge Highway Direction                          \n",
       "0   TLC    Taxi Compliment Driver Compliment                        NaN           NaN                                         NaN   \n",
       "1   DEP    Lead            Lead Kit Request (Residential) (L10)     NaN           NaN                                         NaN   \n",
       "2   TLC    Taxi Compliment Driver Compliment                        NaN           NaN                                         NaN   \n",
       "3   DEP    Lead            Lead Kit Request (Non-Residential) (L11) NaN           NaN                                         NaN   \n",
       "4   DEP    Lead            Lead Kit Request (Residential) (L10)     NaN           NaN                                         NaN   \n",
       "\n",
       "                                                                                                           Garage Lot Name  \\\n",
       "num Agency Complaint Type  Descriptor                               Location Type Bridge Highway Direction                   \n",
       "0   TLC    Taxi Compliment Driver Compliment                        NaN           NaN                                  NaN   \n",
       "1   DEP    Lead            Lead Kit Request (Residential) (L10)     NaN           NaN                                  NaN   \n",
       "2   TLC    Taxi Compliment Driver Compliment                        NaN           NaN                                  NaN   \n",
       "3   DEP    Lead            Lead Kit Request (Non-Residential) (L11) NaN           NaN                                  NaN   \n",
       "4   DEP    Lead            Lead Kit Request (Residential) (L10)     NaN           NaN                                  NaN   \n",
       "\n",
       "                                                                                                           Ferry Direction  \\\n",
       "num Agency Complaint Type  Descriptor                               Location Type Bridge Highway Direction                   \n",
       "0   TLC    Taxi Compliment Driver Compliment                        NaN           NaN                                  NaN   \n",
       "1   DEP    Lead            Lead Kit Request (Residential) (L10)     NaN           NaN                                  NaN   \n",
       "2   TLC    Taxi Compliment Driver Compliment                        NaN           NaN                                  NaN   \n",
       "3   DEP    Lead            Lead Kit Request (Non-Residential) (L11) NaN           NaN                                  NaN   \n",
       "4   DEP    Lead            Lead Kit Request (Residential) (L10)     NaN           NaN                                  NaN   \n",
       "\n",
       "                                                                                                           Ferry Terminal Name  \\\n",
       "num Agency Complaint Type  Descriptor                               Location Type Bridge Highway Direction                       \n",
       "0   TLC    Taxi Compliment Driver Compliment                        NaN           NaN                                      NaN   \n",
       "1   DEP    Lead            Lead Kit Request (Residential) (L10)     NaN           NaN                                      NaN   \n",
       "2   TLC    Taxi Compliment Driver Compliment                        NaN           NaN                                      NaN   \n",
       "3   DEP    Lead            Lead Kit Request (Non-Residential) (L11) NaN           NaN                                      NaN   \n",
       "4   DEP    Lead            Lead Kit Request (Residential) (L10)     NaN           NaN                                      NaN   \n",
       "\n",
       "                                                                                                             Latitude  \\\n",
       "num Agency Complaint Type  Descriptor                               Location Type Bridge Highway Direction              \n",
       "0   TLC    Taxi Compliment Driver Compliment                        NaN           NaN                             NaN   \n",
       "1   DEP    Lead            Lead Kit Request (Residential) (L10)     NaN           NaN                       40.742622   \n",
       "2   TLC    Taxi Compliment Driver Compliment                        NaN           NaN                             NaN   \n",
       "3   DEP    Lead            Lead Kit Request (Non-Residential) (L11) NaN           NaN                       40.787046   \n",
       "4   DEP    Lead            Lead Kit Request (Residential) (L10)     NaN           NaN                       40.662730   \n",
       "\n",
       "                                                                                                            Longitude  \\\n",
       "num Agency Complaint Type  Descriptor                               Location Type Bridge Highway Direction              \n",
       "0   TLC    Taxi Compliment Driver Compliment                        NaN           NaN                             NaN   \n",
       "1   DEP    Lead            Lead Kit Request (Residential) (L10)     NaN           NaN                      -73.997968   \n",
       "2   TLC    Taxi Compliment Driver Compliment                        NaN           NaN                             NaN   \n",
       "3   DEP    Lead            Lead Kit Request (Non-Residential) (L11) NaN           NaN                      -73.955817   \n",
       "4   DEP    Lead            Lead Kit Request (Residential) (L10)     NaN           NaN                      -73.868878   \n",
       "\n",
       "                                                                                                                                           Location  \n",
       "num Agency Complaint Type  Descriptor                               Location Type Bridge Highway Direction                                           \n",
       "0   TLC    Taxi Compliment Driver Compliment                        NaN           NaN                                                           NaN  \n",
       "1   DEP    Lead            Lead Kit Request (Residential) (L10)     NaN           NaN                       (40.74262244714865, -73.99796826857371)  \n",
       "2   TLC    Taxi Compliment Driver Compliment                        NaN           NaN                                                           NaN  \n",
       "3   DEP    Lead            Lead Kit Request (Non-Residential) (L11) NaN           NaN                       (40.78704587425496, -73.95581736959971)  \n",
       "4   DEP    Lead            Lead Kit Request (Residential) (L10)     NaN           NaN                        (40.66272996328775, -73.8688777423775)  \n",
       "\n",
       "[5 rows x 48 columns]"
      ]
     },
     "execution_count": 95,
     "metadata": {},
     "output_type": "execute_result"
    }
   ],
   "source": [
    "reqs.index.set_names('num', level=0, inplace=True)\n",
    "reqs.head()"
   ]
  },
  {
   "cell_type": "code",
   "execution_count": 96,
   "metadata": {},
   "outputs": [
    {
     "data": {
      "text/plain": [
       "Unique Key                        300000\n",
       "Created Date                      300000\n",
       "Closed Date                       258815\n",
       "Agency Name                       300000\n",
       "Incident Zip                      292510\n",
       "Incident Address                  247648\n",
       "Street Name                       247620\n",
       "Cross Street 1                    247870\n",
       "Cross Street 2                    247755\n",
       "Intersection Street 1              27723\n",
       "Intersection Street 2              27725\n",
       "Address Type                      289396\n",
       "City                              292703\n",
       "Landmark                             287\n",
       "Facility Type                      40574\n",
       "Status                            299999\n",
       "Due Date                          107631\n",
       "Resolution Description            270293\n",
       "Resolution Action Updated Date    286853\n",
       "Community Board                   300000\n",
       "Borough                           300000\n",
       "X Coordinate (State Plane)        275201\n",
       "Y Coordinate (State Plane)        275201\n",
       "Park Facility Name                300000\n",
       "Park Borough                      300000\n",
       "School Name                       300000\n",
       "School Number                     299949\n",
       "School Region                     298485\n",
       "School Code                       298485\n",
       "School Phone Number               300000\n",
       "School Address                    300000\n",
       "School City                       300000\n",
       "School State                      300000\n",
       "School Zip                        300000\n",
       "School Not Found                  108868\n",
       "School or Citywide Complaint         325\n",
       "Vehicle Type                         436\n",
       "Taxi Company Borough                 416\n",
       "Taxi Pick Up Location               3733\n",
       "Bridge Highway Name                 2507\n",
       "Road Ramp                           2495\n",
       "Bridge Highway Segment              2491\n",
       "Garage Lot Name                      228\n",
       "Ferry Direction                      104\n",
       "Ferry Terminal Name                  208\n",
       "Latitude                          275201\n",
       "Longitude                         275201\n",
       "Location                          275201\n",
       "dtype: int64"
      ]
     },
     "execution_count": 96,
     "metadata": {},
     "output_type": "execute_result"
    }
   ],
   "source": [
    "# Different entries for each index\n",
    "reqs.count()"
   ]
  },
  {
   "cell_type": "markdown",
   "metadata": {},
   "source": [
    "## _n_-Dimensional Containers"
   ]
  },
  {
   "cell_type": "markdown",
   "metadata": {},
   "source": [
    "While technically a DataFrame is a two-dimensional container, in the next lesson we'll see why it can perform quite efficienty as a pseudo n-dimensional container. \n",
    "\n",
    "If you wish to have _true_ n-dimensional DataFrame-like data structures, you should use the `xarray` package and its `xr.DataArray` and `xr.Dataset` objects, which we'll discuss in the next lessons."
   ]
  },
  {
   "cell_type": "markdown",
   "metadata": {},
   "source": [
    "## String DataFrames"
   ]
  },
  {
   "cell_type": "markdown",
   "metadata": {},
   "source": [
    "The raw data we have can sometimes come in the form of strings. Pandas support string DataFrames and allows for manipulation of these objects.\n",
    "\n",
    "Note: I'm currently not discussing \"bioinformatic sequences\" of `ATGC` - these have a special `Seq` class in the Biopython package, which we'll mention later."
   ]
  },
  {
   "cell_type": "code",
   "execution_count": 97,
   "metadata": {},
   "outputs": [
    {
     "data": {
      "text/html": [
       "<div>\n",
       "<style scoped>\n",
       "    .dataframe tbody tr th:only-of-type {\n",
       "        vertical-align: middle;\n",
       "    }\n",
       "\n",
       "    .dataframe tbody tr th {\n",
       "        vertical-align: top;\n",
       "    }\n",
       "\n",
       "    .dataframe thead th {\n",
       "        text-align: right;\n",
       "    }\n",
       "</style>\n",
       "<table border=\"1\" class=\"dataframe\">\n",
       "  <thead>\n",
       "    <tr style=\"text-align: right;\">\n",
       "      <th></th>\n",
       "      <th>alpha</th>\n",
       "    </tr>\n",
       "  </thead>\n",
       "  <tbody>\n",
       "    <tr>\n",
       "      <th>0</th>\n",
       "      <td>a</td>\n",
       "    </tr>\n",
       "    <tr>\n",
       "      <th>1</th>\n",
       "      <td>b</td>\n",
       "    </tr>\n",
       "    <tr>\n",
       "      <th>2</th>\n",
       "      <td>c</td>\n",
       "    </tr>\n",
       "    <tr>\n",
       "      <th>3</th>\n",
       "      <td>D</td>\n",
       "    </tr>\n",
       "    <tr>\n",
       "      <th>4</th>\n",
       "      <td>EFG</td>\n",
       "    </tr>\n",
       "    <tr>\n",
       "      <th>5</th>\n",
       "      <td>hij</td>\n",
       "    </tr>\n",
       "    <tr>\n",
       "      <th>6</th>\n",
       "      <td>k</td>\n",
       "    </tr>\n",
       "    <tr>\n",
       "      <th>7</th>\n",
       "      <td></td>\n",
       "    </tr>\n",
       "    <tr>\n",
       "      <th>8</th>\n",
       "      <td>LMNOP</td>\n",
       "    </tr>\n",
       "    <tr>\n",
       "      <th>9</th>\n",
       "      <td>QRST</td>\n",
       "    </tr>\n",
       "    <tr>\n",
       "      <th>10</th>\n",
       "      <td>UV</td>\n",
       "    </tr>\n",
       "    <tr>\n",
       "      <th>11</th>\n",
       "      <td>wxy</td>\n",
       "    </tr>\n",
       "    <tr>\n",
       "      <th>12</th>\n",
       "      <td>z</td>\n",
       "    </tr>\n",
       "  </tbody>\n",
       "</table>\n",
       "</div>"
      ],
      "text/plain": [
       "     alpha\n",
       "0        a\n",
       "1        b\n",
       "2        c\n",
       "3      D  \n",
       "4      EFG\n",
       "5      hij\n",
       "6        k\n",
       "7         \n",
       "8    LMNOP\n",
       "9     QRST\n",
       "10      UV\n",
       "11     wxy\n",
       "12       z"
      ]
     },
     "execution_count": 97,
     "metadata": {},
     "output_type": "execute_result"
    }
   ],
   "source": [
    "import pandas as pd\n",
    "import numpy as np\n",
    "import matplotlib.pyplot as plt\n",
    "%matplotlib inline\n",
    "\n",
    "df_str = pd.DataFrame(['a', 'b', 'c', 'D  ', 'EFG', 'hij', 'k', '', ' LMNOP', 'QRST', 'UV', ' wxy', 'z'],\n",
    "                      columns=['alpha'])\n",
    "df_str"
   ]
  },
  {
   "cell_type": "markdown",
   "metadata": {},
   "source": [
    "To access the varienty of string methods in pandas, use the `.str` attribute of a Series."
   ]
  },
  {
   "cell_type": "code",
   "execution_count": 98,
   "metadata": {},
   "outputs": [
    {
     "data": {
      "text/plain": [
       "0          a\n",
       "1          b\n",
       "2          c\n",
       "3        d  \n",
       "4        efg\n",
       "5        hij\n",
       "6          k\n",
       "7           \n",
       "8      lmnop\n",
       "9       qrst\n",
       "10        uv\n",
       "11       wxy\n",
       "12         z\n",
       "Name: alpha, dtype: object"
      ]
     },
     "execution_count": 98,
     "metadata": {},
     "output_type": "execute_result"
    }
   ],
   "source": [
    "df_str.alpha.str.lower()"
   ]
  },
  {
   "cell_type": "code",
   "execution_count": 99,
   "metadata": {},
   "outputs": [
    {
     "data": {
      "text/plain": [
       "0         a\n",
       "1         b\n",
       "2         c\n",
       "3         D\n",
       "4       EFG\n",
       "5       hij\n",
       "6         k\n",
       "7          \n",
       "8     LMNOP\n",
       "9      QRST\n",
       "10       UV\n",
       "11      wxy\n",
       "12        z\n",
       "Name: alpha, dtype: object"
      ]
     },
     "execution_count": 99,
     "metadata": {},
     "output_type": "execute_result"
    }
   ],
   "source": [
    "df_str.alpha.str.strip()  # remove whitespaces"
   ]
  },
  {
   "cell_type": "markdown",
   "metadata": {},
   "source": [
    "When parsing `.csv` data, the column names can sometimes be unorderly, having whitespaces and different capitalization conventions. Here's an example of how to make them look alike:"
   ]
  },
  {
   "cell_type": "code",
   "execution_count": 100,
   "metadata": {},
   "outputs": [
    {
     "data": {
      "text/html": [
       "<div>\n",
       "<style scoped>\n",
       "    .dataframe tbody tr th:only-of-type {\n",
       "        vertical-align: middle;\n",
       "    }\n",
       "\n",
       "    .dataframe tbody tr th {\n",
       "        vertical-align: top;\n",
       "    }\n",
       "\n",
       "    .dataframe thead th {\n",
       "        text-align: right;\n",
       "    }\n",
       "</style>\n",
       "<table border=\"1\" class=\"dataframe\">\n",
       "  <thead>\n",
       "    <tr style=\"text-align: right;\">\n",
       "      <th></th>\n",
       "      <th>Name</th>\n",
       "      <th>Age</th>\n",
       "      <th>Gender</th>\n",
       "      <th>Is single</th>\n",
       "      <th>Has children</th>\n",
       "      <th>Num of Children</th>\n",
       "    </tr>\n",
       "  </thead>\n",
       "  <tbody>\n",
       "  </tbody>\n",
       "</table>\n",
       "</div>"
      ],
      "text/plain": [
       "Empty DataFrame\n",
       "Columns: [ Name, Age ,  Gender , Is single, Has children, Num of Children]\n",
       "Index: []"
      ]
     },
     "execution_count": 100,
     "metadata": {},
     "output_type": "execute_result"
    }
   ],
   "source": [
    "# Assume we parsed this DataFrame from some third-party source\n",
    "csv_df = pd.DataFrame([], columns=[' Name', 'Age ', ' Gender ', 'Is single', 'Has children', 'Num of Children'])\n",
    "csv_df"
   ]
  },
  {
   "cell_type": "markdown",
   "metadata": {},
   "source": [
    "Due to the fact that a column of a DataFrame is a regular Index object, we can use our string methods to make it look better:"
   ]
  },
  {
   "cell_type": "code",
   "execution_count": 101,
   "metadata": {},
   "outputs": [
    {
     "data": {
      "text/html": [
       "<div>\n",
       "<style scoped>\n",
       "    .dataframe tbody tr th:only-of-type {\n",
       "        vertical-align: middle;\n",
       "    }\n",
       "\n",
       "    .dataframe tbody tr th {\n",
       "        vertical-align: top;\n",
       "    }\n",
       "\n",
       "    .dataframe thead th {\n",
       "        text-align: right;\n",
       "    }\n",
       "</style>\n",
       "<table border=\"1\" class=\"dataframe\">\n",
       "  <thead>\n",
       "    <tr style=\"text-align: right;\">\n",
       "      <th></th>\n",
       "      <th>name</th>\n",
       "      <th>age</th>\n",
       "      <th>gender</th>\n",
       "      <th>is_single</th>\n",
       "      <th>has_children</th>\n",
       "      <th>num_of_children</th>\n",
       "    </tr>\n",
       "  </thead>\n",
       "  <tbody>\n",
       "  </tbody>\n",
       "</table>\n",
       "</div>"
      ],
      "text/plain": [
       "Empty DataFrame\n",
       "Columns: [name, age, gender, is_single, has_children, num_of_children]\n",
       "Index: []"
      ]
     },
     "execution_count": 101,
     "metadata": {},
     "output_type": "execute_result"
    }
   ],
   "source": [
    "csv_df.columns = csv_df.columns.str.strip()\\\n",
    "                               .str.lower()\\\n",
    "                               .str.replace(' ', '_')\n",
    "csv_df  # stripped of leading and trailing whitespaces, \n",
    "        # removed capital letters\n",
    "        # and replaced spaces with underscores"
   ]
  },
  {
   "cell_type": "markdown",
   "metadata": {},
   "source": [
    "We can get the first letter in each entry:"
   ]
  },
  {
   "cell_type": "code",
   "execution_count": 102,
   "metadata": {},
   "outputs": [
    {
     "data": {
      "text/plain": [
       "0       a\n",
       "1       b\n",
       "2       c\n",
       "3       D\n",
       "4       E\n",
       "5       h\n",
       "6       k\n",
       "7     NaN\n",
       "8        \n",
       "9       Q\n",
       "10      U\n",
       "11       \n",
       "12      z\n",
       "Name: alpha, dtype: object"
      ]
     },
     "execution_count": 102,
     "metadata": {},
     "output_type": "execute_result"
    }
   ],
   "source": [
    "df_str.alpha.str.get(0)"
   ]
  },
  {
   "cell_type": "markdown",
   "metadata": {},
   "source": [
    "You can also use regular expressions to extract patterns from each row of the Series.\n",
    "\n",
    "In the mean time, a summary of all the string-related methods in pandas can be found [here](http://pandas.pydata.org/pandas-docs/stable/text.html). They contain most of the Pythonic string-related operations.\n",
    "\n",
    "Note: String operations aren't as fast as numerical computations since they're currently implemented mostly with Python in the backend, and not C."
   ]
  },
  {
   "cell_type": "markdown",
   "metadata": {},
   "source": [
    "## Pandas Concatenation"
   ]
  },
  {
   "cell_type": "markdown",
   "metadata": {},
   "source": [
    "Similar to numpy arrays, Series and DataFrame objects can be concatenated as well. The indexes of the pandas objects is what usually makes this operation non-trivial.\n",
    "\n",
    "While this discussion might not seem to you super important, it's actually more useful than you'd think. Thinking of our different sets of data in terms of a large database can sometimes be a good analogy.\n",
    "\n",
    "A full tutorial on this manner can be found in the official pandas tutorial, right [here](https://pandas.pydata.org/pandas-docs/stable/merging.html)."
   ]
  },
  {
   "cell_type": "code",
   "execution_count": 103,
   "metadata": {},
   "outputs": [
    {
     "data": {
      "text/plain": [
       "1    a\n",
       "2    b\n",
       "3    c\n",
       "4    d\n",
       "5    e\n",
       "6    f\n",
       "dtype: object"
      ]
     },
     "execution_count": 103,
     "metadata": {},
     "output_type": "execute_result"
    }
   ],
   "source": [
    "ser1 = pd.Series(['a', 'b', 'c'], index=[1, 2, 3])\n",
    "ser2 = pd.Series(['d', 'e', 'f'], index=[4, 5, 6])\n",
    "pd.concat([ser1, ser2])  # row-wise (axis=0) by default"
   ]
  },
  {
   "cell_type": "code",
   "execution_count": 104,
   "metadata": {},
   "outputs": [
    {
     "data": {
      "text/plain": [
       "1    a\n",
       "2    b\n",
       "3    c\n",
       "4    d\n",
       "5    e\n",
       "6    f\n",
       "dtype: object"
      ]
     },
     "execution_count": 104,
     "metadata": {},
     "output_type": "execute_result"
    }
   ],
   "source": [
    "# This simple behavior can be achieved using the append method\n",
    "ser1.append(ser2)"
   ]
  },
  {
   "cell_type": "code",
   "execution_count": 105,
   "metadata": {},
   "outputs": [
    {
     "data": {
      "text/html": [
       "<div>\n",
       "<style scoped>\n",
       "    .dataframe tbody tr th:only-of-type {\n",
       "        vertical-align: middle;\n",
       "    }\n",
       "\n",
       "    .dataframe tbody tr th {\n",
       "        vertical-align: top;\n",
       "    }\n",
       "\n",
       "    .dataframe thead th {\n",
       "        text-align: right;\n",
       "    }\n",
       "</style>\n",
       "<table border=\"1\" class=\"dataframe\">\n",
       "  <thead>\n",
       "    <tr style=\"text-align: right;\">\n",
       "      <th></th>\n",
       "      <th>let</th>\n",
       "      <th>LET</th>\n",
       "    </tr>\n",
       "  </thead>\n",
       "  <tbody>\n",
       "    <tr>\n",
       "      <th>0</th>\n",
       "      <td>a</td>\n",
       "      <td>A</td>\n",
       "    </tr>\n",
       "    <tr>\n",
       "      <th>1</th>\n",
       "      <td>b</td>\n",
       "      <td>B</td>\n",
       "    </tr>\n",
       "    <tr>\n",
       "      <th>2</th>\n",
       "      <td>c</td>\n",
       "      <td>C</td>\n",
       "    </tr>\n",
       "    <tr>\n",
       "      <th>3</th>\n",
       "      <td>d</td>\n",
       "      <td>D</td>\n",
       "    </tr>\n",
       "  </tbody>\n",
       "</table>\n",
       "</div>"
      ],
      "text/plain": [
       "  let LET\n",
       "0   a   A\n",
       "1   b   B\n",
       "2   c   C\n",
       "3   d   D"
      ]
     },
     "execution_count": 105,
     "metadata": {},
     "output_type": "execute_result"
    }
   ],
   "source": [
    "df1 = pd.DataFrame([['a', 'A'], ['b', 'B']], columns=['let', 'LET'], index=[0, 1])\n",
    "df2 = pd.DataFrame([['c', 'C'], ['d', 'D']], columns=['let', 'LET'], index=[2, 3])\n",
    "pd.concat([df1, df2])  # again, along the first axis"
   ]
  },
  {
   "cell_type": "code",
   "execution_count": 106,
   "metadata": {},
   "outputs": [
    {
     "data": {
      "text/html": [
       "<div>\n",
       "<style scoped>\n",
       "    .dataframe tbody tr th:only-of-type {\n",
       "        vertical-align: middle;\n",
       "    }\n",
       "\n",
       "    .dataframe tbody tr th {\n",
       "        vertical-align: top;\n",
       "    }\n",
       "\n",
       "    .dataframe thead th {\n",
       "        text-align: right;\n",
       "    }\n",
       "</style>\n",
       "<table border=\"1\" class=\"dataframe\">\n",
       "  <thead>\n",
       "    <tr style=\"text-align: right;\">\n",
       "      <th></th>\n",
       "      <th>LET1</th>\n",
       "      <th>LET2</th>\n",
       "      <th>let1</th>\n",
       "      <th>let2</th>\n",
       "    </tr>\n",
       "  </thead>\n",
       "  <tbody>\n",
       "    <tr>\n",
       "      <th>0</th>\n",
       "      <td>A</td>\n",
       "      <td>NaN</td>\n",
       "      <td>a</td>\n",
       "      <td>NaN</td>\n",
       "    </tr>\n",
       "    <tr>\n",
       "      <th>1</th>\n",
       "      <td>B</td>\n",
       "      <td>NaN</td>\n",
       "      <td>b</td>\n",
       "      <td>NaN</td>\n",
       "    </tr>\n",
       "    <tr>\n",
       "      <th>2</th>\n",
       "      <td>NaN</td>\n",
       "      <td>C</td>\n",
       "      <td>NaN</td>\n",
       "      <td>c</td>\n",
       "    </tr>\n",
       "    <tr>\n",
       "      <th>3</th>\n",
       "      <td>NaN</td>\n",
       "      <td>D</td>\n",
       "      <td>NaN</td>\n",
       "      <td>d</td>\n",
       "    </tr>\n",
       "  </tbody>\n",
       "</table>\n",
       "</div>"
      ],
      "text/plain": [
       "  LET1 LET2 let1 let2\n",
       "0    A  NaN    a  NaN\n",
       "1    B  NaN    b  NaN\n",
       "2  NaN    C  NaN    c\n",
       "3  NaN    D  NaN    d"
      ]
     },
     "execution_count": 106,
     "metadata": {},
     "output_type": "execute_result"
    }
   ],
   "source": [
    "df1 = pd.DataFrame([['a', 'A'], ['b', 'B']], columns=['let1', 'LET1'], index=[0, 1])\n",
    "df2 = pd.DataFrame([['c', 'C'], ['d', 'D']], columns=['let2', 'LET2'], index=[2, 3])\n",
    "pd.concat([df1, df2])  # pandas can't make the column index compatible, so it resorts to columnar concat\n",
    "# the same result is achieved by pd.concat([df1, df2], axis=1)"
   ]
  },
  {
   "cell_type": "markdown",
   "metadata": {},
   "source": [
    "If we wish to keep the integrity of the indices, we can use the `verify_integrity` keyword:"
   ]
  },
  {
   "cell_type": "code",
   "execution_count": 107,
   "metadata": {},
   "outputs": [
    {
     "ename": "ValueError",
     "evalue": "Indexes have overlapping values: [0]",
     "output_type": "error",
     "traceback": [
      "\u001b[1;31m---------------------------------------------------------------------------\u001b[0m",
      "\u001b[1;31mValueError\u001b[0m                                Traceback (most recent call last)",
      "\u001b[1;32m<ipython-input-107-6e1ecfdd699c>\u001b[0m in \u001b[0;36m<module>\u001b[1;34m()\u001b[0m\n\u001b[0;32m      1\u001b[0m \u001b[0mdf1\u001b[0m \u001b[1;33m=\u001b[0m \u001b[0mpd\u001b[0m\u001b[1;33m.\u001b[0m\u001b[0mDataFrame\u001b[0m\u001b[1;33m(\u001b[0m\u001b[1;33m[\u001b[0m\u001b[1;33m[\u001b[0m\u001b[1;34m'a'\u001b[0m\u001b[1;33m,\u001b[0m \u001b[1;34m'A'\u001b[0m\u001b[1;33m]\u001b[0m\u001b[1;33m,\u001b[0m \u001b[1;33m[\u001b[0m\u001b[1;34m'b'\u001b[0m\u001b[1;33m,\u001b[0m \u001b[1;34m'B'\u001b[0m\u001b[1;33m]\u001b[0m\u001b[1;33m]\u001b[0m\u001b[1;33m,\u001b[0m \u001b[0mcolumns\u001b[0m\u001b[1;33m=\u001b[0m\u001b[1;33m[\u001b[0m\u001b[1;34m'let'\u001b[0m\u001b[1;33m,\u001b[0m \u001b[1;34m'LET'\u001b[0m\u001b[1;33m]\u001b[0m\u001b[1;33m,\u001b[0m \u001b[0mindex\u001b[0m\u001b[1;33m=\u001b[0m\u001b[1;33m[\u001b[0m\u001b[1;36m0\u001b[0m\u001b[1;33m,\u001b[0m \u001b[1;36m1\u001b[0m\u001b[1;33m]\u001b[0m\u001b[1;33m)\u001b[0m\u001b[1;33m\u001b[0m\u001b[0m\n\u001b[0;32m      2\u001b[0m \u001b[0mdf2\u001b[0m \u001b[1;33m=\u001b[0m \u001b[0mpd\u001b[0m\u001b[1;33m.\u001b[0m\u001b[0mDataFrame\u001b[0m\u001b[1;33m(\u001b[0m\u001b[1;33m[\u001b[0m\u001b[1;33m[\u001b[0m\u001b[1;34m'c'\u001b[0m\u001b[1;33m,\u001b[0m \u001b[1;34m'C'\u001b[0m\u001b[1;33m]\u001b[0m\u001b[1;33m,\u001b[0m \u001b[1;33m[\u001b[0m\u001b[1;34m'd'\u001b[0m\u001b[1;33m,\u001b[0m \u001b[1;34m'D'\u001b[0m\u001b[1;33m]\u001b[0m\u001b[1;33m]\u001b[0m\u001b[1;33m,\u001b[0m \u001b[0mcolumns\u001b[0m\u001b[1;33m=\u001b[0m\u001b[1;33m[\u001b[0m\u001b[1;34m'let'\u001b[0m\u001b[1;33m,\u001b[0m \u001b[1;34m'LET'\u001b[0m\u001b[1;33m]\u001b[0m\u001b[1;33m,\u001b[0m \u001b[0mindex\u001b[0m\u001b[1;33m=\u001b[0m\u001b[1;33m[\u001b[0m\u001b[1;36m0\u001b[0m\u001b[1;33m,\u001b[0m \u001b[1;36m2\u001b[0m\u001b[1;33m]\u001b[0m\u001b[1;33m)\u001b[0m\u001b[1;33m\u001b[0m\u001b[0m\n\u001b[1;32m----> 3\u001b[1;33m \u001b[0mpd\u001b[0m\u001b[1;33m.\u001b[0m\u001b[0mconcat\u001b[0m\u001b[1;33m(\u001b[0m\u001b[1;33m[\u001b[0m\u001b[0mdf1\u001b[0m\u001b[1;33m,\u001b[0m \u001b[0mdf2\u001b[0m\u001b[1;33m]\u001b[0m\u001b[1;33m,\u001b[0m \u001b[0mverify_integrity\u001b[0m\u001b[1;33m=\u001b[0m\u001b[1;32mTrue\u001b[0m\u001b[1;33m)\u001b[0m\u001b[1;33m\u001b[0m\u001b[0m\n\u001b[0m",
      "\u001b[1;32m~\\Miniconda3\\envs\\general\\lib\\site-packages\\pandas\\core\\reshape\\concat.py\u001b[0m in \u001b[0;36mconcat\u001b[1;34m(objs, axis, join, join_axes, ignore_index, keys, levels, names, verify_integrity, copy)\u001b[0m\n\u001b[0;32m    210\u001b[0m                        \u001b[0mkeys\u001b[0m\u001b[1;33m=\u001b[0m\u001b[0mkeys\u001b[0m\u001b[1;33m,\u001b[0m \u001b[0mlevels\u001b[0m\u001b[1;33m=\u001b[0m\u001b[0mlevels\u001b[0m\u001b[1;33m,\u001b[0m \u001b[0mnames\u001b[0m\u001b[1;33m=\u001b[0m\u001b[0mnames\u001b[0m\u001b[1;33m,\u001b[0m\u001b[1;33m\u001b[0m\u001b[0m\n\u001b[0;32m    211\u001b[0m                        \u001b[0mverify_integrity\u001b[0m\u001b[1;33m=\u001b[0m\u001b[0mverify_integrity\u001b[0m\u001b[1;33m,\u001b[0m\u001b[1;33m\u001b[0m\u001b[0m\n\u001b[1;32m--> 212\u001b[1;33m                        copy=copy)\n\u001b[0m\u001b[0;32m    213\u001b[0m     \u001b[1;32mreturn\u001b[0m \u001b[0mop\u001b[0m\u001b[1;33m.\u001b[0m\u001b[0mget_result\u001b[0m\u001b[1;33m(\u001b[0m\u001b[1;33m)\u001b[0m\u001b[1;33m\u001b[0m\u001b[0m\n\u001b[0;32m    214\u001b[0m \u001b[1;33m\u001b[0m\u001b[0m\n",
      "\u001b[1;32m~\\Miniconda3\\envs\\general\\lib\\site-packages\\pandas\\core\\reshape\\concat.py\u001b[0m in \u001b[0;36m__init__\u001b[1;34m(self, objs, axis, join, join_axes, keys, levels, names, ignore_index, verify_integrity, copy)\u001b[0m\n\u001b[0;32m    361\u001b[0m         \u001b[0mself\u001b[0m\u001b[1;33m.\u001b[0m\u001b[0mcopy\u001b[0m \u001b[1;33m=\u001b[0m \u001b[0mcopy\u001b[0m\u001b[1;33m\u001b[0m\u001b[0m\n\u001b[0;32m    362\u001b[0m \u001b[1;33m\u001b[0m\u001b[0m\n\u001b[1;32m--> 363\u001b[1;33m         \u001b[0mself\u001b[0m\u001b[1;33m.\u001b[0m\u001b[0mnew_axes\u001b[0m \u001b[1;33m=\u001b[0m \u001b[0mself\u001b[0m\u001b[1;33m.\u001b[0m\u001b[0m_get_new_axes\u001b[0m\u001b[1;33m(\u001b[0m\u001b[1;33m)\u001b[0m\u001b[1;33m\u001b[0m\u001b[0m\n\u001b[0m\u001b[0;32m    364\u001b[0m \u001b[1;33m\u001b[0m\u001b[0m\n\u001b[0;32m    365\u001b[0m     \u001b[1;32mdef\u001b[0m \u001b[0mget_result\u001b[0m\u001b[1;33m(\u001b[0m\u001b[0mself\u001b[0m\u001b[1;33m)\u001b[0m\u001b[1;33m:\u001b[0m\u001b[1;33m\u001b[0m\u001b[0m\n",
      "\u001b[1;32m~\\Miniconda3\\envs\\general\\lib\\site-packages\\pandas\\core\\reshape\\concat.py\u001b[0m in \u001b[0;36m_get_new_axes\u001b[1;34m(self)\u001b[0m\n\u001b[0;32m    441\u001b[0m                 \u001b[0mnew_axes\u001b[0m\u001b[1;33m[\u001b[0m\u001b[0mi\u001b[0m\u001b[1;33m]\u001b[0m \u001b[1;33m=\u001b[0m \u001b[0max\u001b[0m\u001b[1;33m\u001b[0m\u001b[0m\n\u001b[0;32m    442\u001b[0m \u001b[1;33m\u001b[0m\u001b[0m\n\u001b[1;32m--> 443\u001b[1;33m         \u001b[0mnew_axes\u001b[0m\u001b[1;33m[\u001b[0m\u001b[0mself\u001b[0m\u001b[1;33m.\u001b[0m\u001b[0maxis\u001b[0m\u001b[1;33m]\u001b[0m \u001b[1;33m=\u001b[0m \u001b[0mself\u001b[0m\u001b[1;33m.\u001b[0m\u001b[0m_get_concat_axis\u001b[0m\u001b[1;33m(\u001b[0m\u001b[1;33m)\u001b[0m\u001b[1;33m\u001b[0m\u001b[0m\n\u001b[0m\u001b[0;32m    444\u001b[0m         \u001b[1;32mreturn\u001b[0m \u001b[0mnew_axes\u001b[0m\u001b[1;33m\u001b[0m\u001b[0m\n\u001b[0;32m    445\u001b[0m \u001b[1;33m\u001b[0m\u001b[0m\n",
      "\u001b[1;32m~\\Miniconda3\\envs\\general\\lib\\site-packages\\pandas\\core\\reshape\\concat.py\u001b[0m in \u001b[0;36m_get_concat_axis\u001b[1;34m(self)\u001b[0m\n\u001b[0;32m    498\u001b[0m                                                   self.levels, self.names)\n\u001b[0;32m    499\u001b[0m \u001b[1;33m\u001b[0m\u001b[0m\n\u001b[1;32m--> 500\u001b[1;33m         \u001b[0mself\u001b[0m\u001b[1;33m.\u001b[0m\u001b[0m_maybe_check_integrity\u001b[0m\u001b[1;33m(\u001b[0m\u001b[0mconcat_axis\u001b[0m\u001b[1;33m)\u001b[0m\u001b[1;33m\u001b[0m\u001b[0m\n\u001b[0m\u001b[0;32m    501\u001b[0m \u001b[1;33m\u001b[0m\u001b[0m\n\u001b[0;32m    502\u001b[0m         \u001b[1;32mreturn\u001b[0m \u001b[0mconcat_axis\u001b[0m\u001b[1;33m\u001b[0m\u001b[0m\n",
      "\u001b[1;32m~\\Miniconda3\\envs\\general\\lib\\site-packages\\pandas\\core\\reshape\\concat.py\u001b[0m in \u001b[0;36m_maybe_check_integrity\u001b[1;34m(self, concat_index)\u001b[0m\n\u001b[0;32m    507\u001b[0m                 \u001b[0moverlap\u001b[0m \u001b[1;33m=\u001b[0m \u001b[0mconcat_index\u001b[0m\u001b[1;33m.\u001b[0m\u001b[0mget_duplicates\u001b[0m\u001b[1;33m(\u001b[0m\u001b[1;33m)\u001b[0m\u001b[1;33m\u001b[0m\u001b[0m\n\u001b[0;32m    508\u001b[0m                 raise ValueError('Indexes have overlapping values: '\n\u001b[1;32m--> 509\u001b[1;33m                                  '{overlap!s}'.format(overlap=overlap))\n\u001b[0m\u001b[0;32m    510\u001b[0m \u001b[1;33m\u001b[0m\u001b[0m\n\u001b[0;32m    511\u001b[0m \u001b[1;33m\u001b[0m\u001b[0m\n",
      "\u001b[1;31mValueError\u001b[0m: Indexes have overlapping values: [0]"
     ]
    }
   ],
   "source": [
    "df1 = pd.DataFrame([['a', 'A'], ['b', 'B']], columns=['let', 'LET'], index=[0, 1])\n",
    "df2 = pd.DataFrame([['c', 'C'], ['d', 'D']], columns=['let', 'LET'], index=[0, 2])\n",
    "pd.concat([df1, df2], verify_integrity=True)"
   ]
  },
  {
   "cell_type": "markdown",
   "metadata": {},
   "source": [
    "If we don't care about the indices, we can just ignore them:"
   ]
  },
  {
   "cell_type": "code",
   "execution_count": 108,
   "metadata": {},
   "outputs": [
    {
     "data": {
      "text/html": [
       "<div>\n",
       "<style scoped>\n",
       "    .dataframe tbody tr th:only-of-type {\n",
       "        vertical-align: middle;\n",
       "    }\n",
       "\n",
       "    .dataframe tbody tr th {\n",
       "        vertical-align: top;\n",
       "    }\n",
       "\n",
       "    .dataframe thead th {\n",
       "        text-align: right;\n",
       "    }\n",
       "</style>\n",
       "<table border=\"1\" class=\"dataframe\">\n",
       "  <thead>\n",
       "    <tr style=\"text-align: right;\">\n",
       "      <th></th>\n",
       "      <th>let</th>\n",
       "      <th>LET</th>\n",
       "    </tr>\n",
       "  </thead>\n",
       "  <tbody>\n",
       "    <tr>\n",
       "      <th>0</th>\n",
       "      <td>a</td>\n",
       "      <td>A</td>\n",
       "    </tr>\n",
       "    <tr>\n",
       "      <th>1</th>\n",
       "      <td>b</td>\n",
       "      <td>B</td>\n",
       "    </tr>\n",
       "    <tr>\n",
       "      <th>2</th>\n",
       "      <td>c</td>\n",
       "      <td>C</td>\n",
       "    </tr>\n",
       "    <tr>\n",
       "      <th>3</th>\n",
       "      <td>d</td>\n",
       "      <td>D</td>\n",
       "    </tr>\n",
       "  </tbody>\n",
       "</table>\n",
       "</div>"
      ],
      "text/plain": [
       "  let LET\n",
       "0   a   A\n",
       "1   b   B\n",
       "2   c   C\n",
       "3   d   D"
      ]
     },
     "execution_count": 108,
     "metadata": {},
     "output_type": "execute_result"
    }
   ],
   "source": [
    "pd.concat([df1, df2], ignore_index=True)  # creates a new index"
   ]
  },
  {
   "cell_type": "markdown",
   "metadata": {},
   "source": [
    "We can also create a new MultiIndex if it makes more sense:"
   ]
  },
  {
   "cell_type": "code",
   "execution_count": 109,
   "metadata": {},
   "outputs": [
    {
     "data": {
      "text/html": [
       "<div>\n",
       "<style scoped>\n",
       "    .dataframe tbody tr th:only-of-type {\n",
       "        vertical-align: middle;\n",
       "    }\n",
       "\n",
       "    .dataframe tbody tr th {\n",
       "        vertical-align: top;\n",
       "    }\n",
       "\n",
       "    .dataframe thead th {\n",
       "        text-align: right;\n",
       "    }\n",
       "</style>\n",
       "<table border=\"1\" class=\"dataframe\">\n",
       "  <thead>\n",
       "    <tr style=\"text-align: right;\">\n",
       "      <th></th>\n",
       "      <th></th>\n",
       "      <th>let</th>\n",
       "      <th>LET</th>\n",
       "    </tr>\n",
       "  </thead>\n",
       "  <tbody>\n",
       "    <tr>\n",
       "      <th rowspan=\"2\" valign=\"top\">df1</th>\n",
       "      <th>0</th>\n",
       "      <td>a</td>\n",
       "      <td>A</td>\n",
       "    </tr>\n",
       "    <tr>\n",
       "      <th>1</th>\n",
       "      <td>b</td>\n",
       "      <td>B</td>\n",
       "    </tr>\n",
       "    <tr>\n",
       "      <th rowspan=\"2\" valign=\"top\">df2</th>\n",
       "      <th>0</th>\n",
       "      <td>c</td>\n",
       "      <td>C</td>\n",
       "    </tr>\n",
       "    <tr>\n",
       "      <th>2</th>\n",
       "      <td>d</td>\n",
       "      <td>D</td>\n",
       "    </tr>\n",
       "  </tbody>\n",
       "</table>\n",
       "</div>"
      ],
      "text/plain": [
       "      let LET\n",
       "df1 0   a   A\n",
       "    1   b   B\n",
       "df2 0   c   C\n",
       "    2   d   D"
      ]
     },
     "execution_count": 109,
     "metadata": {},
     "output_type": "execute_result"
    }
   ],
   "source": [
    "pd.concat([df1, df2], keys=['df1', 'df2'])  # \"remembers\" the origin of the data, super useful!"
   ]
  },
  {
   "cell_type": "markdown",
   "metadata": {},
   "source": [
    "A real world example of concatenation is when we wish to join two datasets taken at different times. For example, if we conducted in day 1 measurements at times 8:00, 10:00, 14:00 and 16:00, but during day 2 we were a bit dizzy, and conducted the measurements at 8:00, 10:00, 13:00 and 16:30. On top of that, we recorded another parameter that we forget to measure at day 1.\n",
    "\n",
    "The default concatenation behavior of pandas keeps all the data. In database terms (SQL people rejoice!) it's called an \"outer join\":"
   ]
  },
  {
   "cell_type": "code",
   "execution_count": 147,
   "metadata": {},
   "outputs": [
    {
     "data": {
      "text/html": [
       "<div>\n",
       "<style scoped>\n",
       "    .dataframe tbody tr th:only-of-type {\n",
       "        vertical-align: middle;\n",
       "    }\n",
       "\n",
       "    .dataframe tbody tr th {\n",
       "        vertical-align: top;\n",
       "    }\n",
       "\n",
       "    .dataframe thead th {\n",
       "        text-align: right;\n",
       "    }\n",
       "</style>\n",
       "<table border=\"1\" class=\"dataframe\">\n",
       "  <thead>\n",
       "    <tr style=\"text-align: right;\">\n",
       "      <th></th>\n",
       "      <th>humid</th>\n",
       "      <th>temp</th>\n",
       "    </tr>\n",
       "  </thead>\n",
       "  <tbody>\n",
       "    <tr>\n",
       "      <th>1900-01-01 08:00:00</th>\n",
       "      <td>30.0</td>\n",
       "      <td>36.6</td>\n",
       "    </tr>\n",
       "    <tr>\n",
       "      <th>1900-01-01 10:00:00</th>\n",
       "      <td>31.0</td>\n",
       "      <td>36.7</td>\n",
       "    </tr>\n",
       "    <tr>\n",
       "      <th>1900-01-01 14:00:00</th>\n",
       "      <td>30.4</td>\n",
       "      <td>37.0</td>\n",
       "    </tr>\n",
       "    <tr>\n",
       "      <th>1900-01-01 16:00:00</th>\n",
       "      <td>30.4</td>\n",
       "      <td>36.8</td>\n",
       "    </tr>\n",
       "  </tbody>\n",
       "</table>\n",
       "</div>"
      ],
      "text/plain": [
       "                     humid  temp\n",
       "1900-01-01 08:00:00   30.0  36.6\n",
       "1900-01-01 10:00:00   31.0  36.7\n",
       "1900-01-01 14:00:00   30.4  37.0\n",
       "1900-01-01 16:00:00   30.4  36.8"
      ]
     },
     "execution_count": 147,
     "metadata": {},
     "output_type": "execute_result"
    }
   ],
   "source": [
    "# Prepare mock data\n",
    "times_day1 = pd.to_datetime(['08:00', '10:00', '14:00', '16:00'], format='%H:%M')\n",
    "times_day2 = pd.to_datetime(['08:00', '10:00', '13:00', '16:30'], format='%H:%M')\n",
    "\n",
    "temp_day1 = [36.6, 36.7, 37.0, 36.8]\n",
    "temp_day2 = [35.9, 36.1, 36.5, 36.2]\n",
    "\n",
    "humid_day1 = [30., 31., 30.4, 30.4]\n",
    "humid_day2 = [32.2, 34.2, 30.9, 32.6]\n",
    "\n",
    "light_day2 = [200, 130, 240, 210]\n",
    "\n",
    "data_day1 = pd.DataFrame({'temp': temp_day1, 'humid': humid_day1}, index=times_day1)\n",
    "data_day2 = pd.DataFrame({'temp': temp_day2, 'humid': humid_day2,\n",
    "                          'light': light_day2}, index=times_day2)\n",
    "data_day1"
   ]
  },
  {
   "cell_type": "code",
   "execution_count": 148,
   "metadata": {},
   "outputs": [
    {
     "data": {
      "text/html": [
       "<div>\n",
       "<style scoped>\n",
       "    .dataframe tbody tr th:only-of-type {\n",
       "        vertical-align: middle;\n",
       "    }\n",
       "\n",
       "    .dataframe tbody tr th {\n",
       "        vertical-align: top;\n",
       "    }\n",
       "\n",
       "    .dataframe thead th {\n",
       "        text-align: right;\n",
       "    }\n",
       "</style>\n",
       "<table border=\"1\" class=\"dataframe\">\n",
       "  <thead>\n",
       "    <tr style=\"text-align: right;\">\n",
       "      <th></th>\n",
       "      <th>humid</th>\n",
       "      <th>light</th>\n",
       "      <th>temp</th>\n",
       "    </tr>\n",
       "  </thead>\n",
       "  <tbody>\n",
       "    <tr>\n",
       "      <th>1900-01-01 08:00:00</th>\n",
       "      <td>32.2</td>\n",
       "      <td>200</td>\n",
       "      <td>35.9</td>\n",
       "    </tr>\n",
       "    <tr>\n",
       "      <th>1900-01-01 10:00:00</th>\n",
       "      <td>34.2</td>\n",
       "      <td>130</td>\n",
       "      <td>36.1</td>\n",
       "    </tr>\n",
       "    <tr>\n",
       "      <th>1900-01-01 13:00:00</th>\n",
       "      <td>30.9</td>\n",
       "      <td>240</td>\n",
       "      <td>36.5</td>\n",
       "    </tr>\n",
       "    <tr>\n",
       "      <th>1900-01-01 16:30:00</th>\n",
       "      <td>32.6</td>\n",
       "      <td>210</td>\n",
       "      <td>36.2</td>\n",
       "    </tr>\n",
       "  </tbody>\n",
       "</table>\n",
       "</div>"
      ],
      "text/plain": [
       "                     humid  light  temp\n",
       "1900-01-01 08:00:00   32.2    200  35.9\n",
       "1900-01-01 10:00:00   34.2    130  36.1\n",
       "1900-01-01 13:00:00   30.9    240  36.5\n",
       "1900-01-01 16:30:00   32.6    210  36.2"
      ]
     },
     "execution_count": 148,
     "metadata": {},
     "output_type": "execute_result"
    }
   ],
   "source": [
    "data_day2"
   ]
  },
  {
   "cell_type": "code",
   "execution_count": 111,
   "metadata": {},
   "outputs": [
    {
     "data": {
      "text/html": [
       "<div>\n",
       "<style scoped>\n",
       "    .dataframe tbody tr th:only-of-type {\n",
       "        vertical-align: middle;\n",
       "    }\n",
       "\n",
       "    .dataframe tbody tr th {\n",
       "        vertical-align: top;\n",
       "    }\n",
       "\n",
       "    .dataframe thead th {\n",
       "        text-align: right;\n",
       "    }\n",
       "</style>\n",
       "<table border=\"1\" class=\"dataframe\">\n",
       "  <thead>\n",
       "    <tr style=\"text-align: right;\">\n",
       "      <th></th>\n",
       "      <th>humid</th>\n",
       "      <th>light</th>\n",
       "      <th>temp</th>\n",
       "    </tr>\n",
       "  </thead>\n",
       "  <tbody>\n",
       "    <tr>\n",
       "      <th>1900-01-01 08:00:00</th>\n",
       "      <td>30.0</td>\n",
       "      <td>NaN</td>\n",
       "      <td>36.6</td>\n",
       "    </tr>\n",
       "    <tr>\n",
       "      <th>1900-01-01 10:00:00</th>\n",
       "      <td>31.0</td>\n",
       "      <td>NaN</td>\n",
       "      <td>36.7</td>\n",
       "    </tr>\n",
       "    <tr>\n",
       "      <th>1900-01-01 14:00:00</th>\n",
       "      <td>30.4</td>\n",
       "      <td>NaN</td>\n",
       "      <td>37.0</td>\n",
       "    </tr>\n",
       "    <tr>\n",
       "      <th>1900-01-01 16:00:00</th>\n",
       "      <td>30.4</td>\n",
       "      <td>NaN</td>\n",
       "      <td>36.8</td>\n",
       "    </tr>\n",
       "    <tr>\n",
       "      <th>1900-01-01 08:00:00</th>\n",
       "      <td>32.2</td>\n",
       "      <td>200.0</td>\n",
       "      <td>35.9</td>\n",
       "    </tr>\n",
       "    <tr>\n",
       "      <th>1900-01-01 10:00:00</th>\n",
       "      <td>34.2</td>\n",
       "      <td>130.0</td>\n",
       "      <td>36.1</td>\n",
       "    </tr>\n",
       "    <tr>\n",
       "      <th>1900-01-01 13:00:00</th>\n",
       "      <td>30.9</td>\n",
       "      <td>240.0</td>\n",
       "      <td>36.5</td>\n",
       "    </tr>\n",
       "    <tr>\n",
       "      <th>1900-01-01 16:30:00</th>\n",
       "      <td>32.6</td>\n",
       "      <td>210.0</td>\n",
       "      <td>36.2</td>\n",
       "    </tr>\n",
       "  </tbody>\n",
       "</table>\n",
       "</div>"
      ],
      "text/plain": [
       "                     humid  light  temp\n",
       "1900-01-01 08:00:00   30.0    NaN  36.6\n",
       "1900-01-01 10:00:00   31.0    NaN  36.7\n",
       "1900-01-01 14:00:00   30.4    NaN  37.0\n",
       "1900-01-01 16:00:00   30.4    NaN  36.8\n",
       "1900-01-01 08:00:00   32.2  200.0  35.9\n",
       "1900-01-01 10:00:00   34.2  130.0  36.1\n",
       "1900-01-01 13:00:00   30.9  240.0  36.5\n",
       "1900-01-01 16:30:00   32.6  210.0  36.2"
      ]
     },
     "execution_count": 111,
     "metadata": {},
     "output_type": "execute_result"
    }
   ],
   "source": [
    "# Outer join\n",
    "pd.concat([data_day1, data_day2], join='outer')  # outer join is the default behavior  "
   ]
  },
  {
   "cell_type": "markdown",
   "metadata": {},
   "source": [
    "To take the intersection of the columns we have to use inner join. The intersection is all the columns that are common in all datasets."
   ]
  },
  {
   "cell_type": "code",
   "execution_count": 112,
   "metadata": {},
   "outputs": [
    {
     "data": {
      "text/html": [
       "<div>\n",
       "<style scoped>\n",
       "    .dataframe tbody tr th:only-of-type {\n",
       "        vertical-align: middle;\n",
       "    }\n",
       "\n",
       "    .dataframe tbody tr th {\n",
       "        vertical-align: top;\n",
       "    }\n",
       "\n",
       "    .dataframe thead th {\n",
       "        text-align: right;\n",
       "    }\n",
       "</style>\n",
       "<table border=\"1\" class=\"dataframe\">\n",
       "  <thead>\n",
       "    <tr style=\"text-align: right;\">\n",
       "      <th></th>\n",
       "      <th>humid</th>\n",
       "      <th>temp</th>\n",
       "    </tr>\n",
       "  </thead>\n",
       "  <tbody>\n",
       "    <tr>\n",
       "      <th>1900-01-01 08:00:00</th>\n",
       "      <td>30.0</td>\n",
       "      <td>36.6</td>\n",
       "    </tr>\n",
       "    <tr>\n",
       "      <th>1900-01-01 10:00:00</th>\n",
       "      <td>31.0</td>\n",
       "      <td>36.7</td>\n",
       "    </tr>\n",
       "    <tr>\n",
       "      <th>1900-01-01 14:00:00</th>\n",
       "      <td>30.4</td>\n",
       "      <td>37.0</td>\n",
       "    </tr>\n",
       "    <tr>\n",
       "      <th>1900-01-01 16:00:00</th>\n",
       "      <td>30.4</td>\n",
       "      <td>36.8</td>\n",
       "    </tr>\n",
       "    <tr>\n",
       "      <th>1900-01-01 08:00:00</th>\n",
       "      <td>32.2</td>\n",
       "      <td>35.9</td>\n",
       "    </tr>\n",
       "    <tr>\n",
       "      <th>1900-01-01 10:00:00</th>\n",
       "      <td>34.2</td>\n",
       "      <td>36.1</td>\n",
       "    </tr>\n",
       "    <tr>\n",
       "      <th>1900-01-01 13:00:00</th>\n",
       "      <td>30.9</td>\n",
       "      <td>36.5</td>\n",
       "    </tr>\n",
       "    <tr>\n",
       "      <th>1900-01-01 16:30:00</th>\n",
       "      <td>32.6</td>\n",
       "      <td>36.2</td>\n",
       "    </tr>\n",
       "  </tbody>\n",
       "</table>\n",
       "</div>"
      ],
      "text/plain": [
       "                     humid  temp\n",
       "1900-01-01 08:00:00   30.0  36.6\n",
       "1900-01-01 10:00:00   31.0  36.7\n",
       "1900-01-01 14:00:00   30.4  37.0\n",
       "1900-01-01 16:00:00   30.4  36.8\n",
       "1900-01-01 08:00:00   32.2  35.9\n",
       "1900-01-01 10:00:00   34.2  36.1\n",
       "1900-01-01 13:00:00   30.9  36.5\n",
       "1900-01-01 16:30:00   32.6  36.2"
      ]
     },
     "execution_count": 112,
     "metadata": {},
     "output_type": "execute_result"
    }
   ],
   "source": [
    "# Inner join - the excess data column was dropped (index is still not unique)\n",
    "pd.concat([data_day1, data_day2], join='inner')"
   ]
  },
  {
   "cell_type": "markdown",
   "metadata": {},
   "source": [
    "One can also specify the exact columns that should be the result of the join operation using the `columns` keyword. All in all, this basic functionality is easy to understand and allows for high flexibility. If you wish to conduct a more sophisticated join operation, you should use `pd.merge()`, as we'll show below."
   ]
  },
  {
   "cell_type": "markdown",
   "metadata": {},
   "source": [
    "Finally, joining on the columns will require the indices to be unique:"
   ]
  },
  {
   "cell_type": "code",
   "execution_count": 113,
   "metadata": {},
   "outputs": [
    {
     "data": {
      "text/html": [
       "<div>\n",
       "<style scoped>\n",
       "    .dataframe tbody tr th:only-of-type {\n",
       "        vertical-align: middle;\n",
       "    }\n",
       "\n",
       "    .dataframe tbody tr th {\n",
       "        vertical-align: top;\n",
       "    }\n",
       "\n",
       "    .dataframe thead th {\n",
       "        text-align: right;\n",
       "    }\n",
       "</style>\n",
       "<table border=\"1\" class=\"dataframe\">\n",
       "  <thead>\n",
       "    <tr style=\"text-align: right;\">\n",
       "      <th></th>\n",
       "      <th>humid</th>\n",
       "      <th>temp</th>\n",
       "      <th>humid</th>\n",
       "      <th>light</th>\n",
       "      <th>temp</th>\n",
       "    </tr>\n",
       "  </thead>\n",
       "  <tbody>\n",
       "    <tr>\n",
       "      <th>1900-01-01 08:00:00</th>\n",
       "      <td>30.0</td>\n",
       "      <td>36.6</td>\n",
       "      <td>32.2</td>\n",
       "      <td>200</td>\n",
       "      <td>35.9</td>\n",
       "    </tr>\n",
       "    <tr>\n",
       "      <th>1900-01-01 10:00:00</th>\n",
       "      <td>31.0</td>\n",
       "      <td>36.7</td>\n",
       "      <td>34.2</td>\n",
       "      <td>130</td>\n",
       "      <td>36.1</td>\n",
       "    </tr>\n",
       "  </tbody>\n",
       "</table>\n",
       "</div>"
      ],
      "text/plain": [
       "                     humid  temp  humid  light  temp\n",
       "1900-01-01 08:00:00   30.0  36.6   32.2    200  35.9\n",
       "1900-01-01 10:00:00   31.0  36.7   34.2    130  36.1"
      ]
     },
     "execution_count": 113,
     "metadata": {},
     "output_type": "execute_result"
    }
   ],
   "source": [
    "pd.concat([data_day1, data_day2], join='inner', axis='columns')"
   ]
  },
  {
   "cell_type": "markdown",
   "metadata": {},
   "source": [
    "This doesn't look so good. The columns are a mess and we're barely left with any data. The right operation for this job is a `pd.merge`.\n",
    "\n",
    "Merging two DataFrames into one is done in the following manner:"
   ]
  },
  {
   "cell_type": "code",
   "execution_count": 114,
   "metadata": {},
   "outputs": [
    {
     "data": {
      "text/html": [
       "<div>\n",
       "<style scoped>\n",
       "    .dataframe tbody tr th:only-of-type {\n",
       "        vertical-align: middle;\n",
       "    }\n",
       "\n",
       "    .dataframe tbody tr th {\n",
       "        vertical-align: top;\n",
       "    }\n",
       "\n",
       "    .dataframe thead th {\n",
       "        text-align: right;\n",
       "    }\n",
       "</style>\n",
       "<table border=\"1\" class=\"dataframe\">\n",
       "  <thead>\n",
       "    <tr style=\"text-align: right;\">\n",
       "      <th></th>\n",
       "      <th>temp</th>\n",
       "      <th>humid</th>\n",
       "    </tr>\n",
       "  </thead>\n",
       "  <tbody>\n",
       "    <tr>\n",
       "      <th>1900-01-01 08:00:00</th>\n",
       "      <td>36.6</td>\n",
       "      <td>30.0</td>\n",
       "    </tr>\n",
       "    <tr>\n",
       "      <th>1900-01-01 10:00:00</th>\n",
       "      <td>36.7</td>\n",
       "      <td>31.0</td>\n",
       "    </tr>\n",
       "    <tr>\n",
       "      <th>1900-01-01 14:00:00</th>\n",
       "      <td>37.0</td>\n",
       "      <td>30.4</td>\n",
       "    </tr>\n",
       "    <tr>\n",
       "      <th>1900-01-01 16:00:00</th>\n",
       "      <td>36.8</td>\n",
       "      <td>30.4</td>\n",
       "    </tr>\n",
       "  </tbody>\n",
       "</table>\n",
       "</div>"
      ],
      "text/plain": [
       "                     temp  humid\n",
       "1900-01-01 08:00:00  36.6   30.0\n",
       "1900-01-01 10:00:00  36.7   31.0\n",
       "1900-01-01 14:00:00  37.0   30.4\n",
       "1900-01-01 16:00:00  36.8   30.4"
      ]
     },
     "execution_count": 114,
     "metadata": {},
     "output_type": "execute_result"
    }
   ],
   "source": [
    "times = pd.to_datetime(['08:00', '10:00', '14:00', '16:00'], format='%H:%M')\n",
    "\n",
    "temp_day1 = [36.6, 36.7, 37.0, 36.8]\n",
    "humid_day1 = [30., 31., 30.4, 30.4]\n",
    "\n",
    "df_temp = pd.DataFrame({'temp': temp_day1}, index=times)\n",
    "df_humid = pd.DataFrame({'humid': humid_day1}, index=times)\n",
    "\n",
    "pd.merge(df_temp, df_humid, right_index=True, left_index=True)  # merge with indices"
   ]
  },
  {
   "cell_type": "code",
   "execution_count": 115,
   "metadata": {},
   "outputs": [
    {
     "data": {
      "text/html": [
       "<div>\n",
       "<style scoped>\n",
       "    .dataframe tbody tr th:only-of-type {\n",
       "        vertical-align: middle;\n",
       "    }\n",
       "\n",
       "    .dataframe tbody tr th {\n",
       "        vertical-align: top;\n",
       "    }\n",
       "\n",
       "    .dataframe thead th {\n",
       "        text-align: right;\n",
       "    }\n",
       "</style>\n",
       "<table border=\"1\" class=\"dataframe\">\n",
       "  <thead>\n",
       "    <tr style=\"text-align: right;\">\n",
       "      <th></th>\n",
       "      <th>humid</th>\n",
       "      <th>temp</th>\n",
       "    </tr>\n",
       "  </thead>\n",
       "  <tbody>\n",
       "    <tr>\n",
       "      <th>1900-01-01 08:00:00</th>\n",
       "      <td>30.0</td>\n",
       "      <td>36.6</td>\n",
       "    </tr>\n",
       "    <tr>\n",
       "      <th>1900-01-01 10:00:00</th>\n",
       "      <td>31.0</td>\n",
       "      <td>36.7</td>\n",
       "    </tr>\n",
       "    <tr>\n",
       "      <th>1900-01-01 14:00:00</th>\n",
       "      <td>30.4</td>\n",
       "      <td>37.0</td>\n",
       "    </tr>\n",
       "    <tr>\n",
       "      <th>1900-01-01 16:00:00</th>\n",
       "      <td>30.4</td>\n",
       "      <td>36.8</td>\n",
       "    </tr>\n",
       "  </tbody>\n",
       "</table>\n",
       "</div>"
      ],
      "text/plain": [
       "                     humid  temp\n",
       "1900-01-01 08:00:00   30.0  36.6\n",
       "1900-01-01 10:00:00   31.0  36.7\n",
       "1900-01-01 14:00:00   30.4  37.0\n",
       "1900-01-01 16:00:00   30.4  36.8"
      ]
     },
     "execution_count": 115,
     "metadata": {},
     "output_type": "execute_result"
    }
   ],
   "source": [
    "# Slightly different data example\n",
    "temp_day1 = [36.6, 36.7, 37.0, 36.8]\n",
    "humid_day1 = [30., 31., 30.4, 30.4]\n",
    "\n",
    "temp_day2 = [37.1, 36.6, 36.6, 36.7]\n",
    "\n",
    "df_day1 = pd.DataFrame({'temp': temp_day1, 'humid': humid_day1}, index=times)\n",
    "df_day2 = pd.DataFrame({'temp': temp_day2}, index=times)\n",
    "\n",
    "df_day1"
   ]
  },
  {
   "cell_type": "code",
   "execution_count": 116,
   "metadata": {},
   "outputs": [
    {
     "data": {
      "text/html": [
       "<div>\n",
       "<style scoped>\n",
       "    .dataframe tbody tr th:only-of-type {\n",
       "        vertical-align: middle;\n",
       "    }\n",
       "\n",
       "    .dataframe tbody tr th {\n",
       "        vertical-align: top;\n",
       "    }\n",
       "\n",
       "    .dataframe thead th {\n",
       "        text-align: right;\n",
       "    }\n",
       "</style>\n",
       "<table border=\"1\" class=\"dataframe\">\n",
       "  <thead>\n",
       "    <tr style=\"text-align: right;\">\n",
       "      <th></th>\n",
       "      <th>humid</th>\n",
       "      <th>temp_x</th>\n",
       "      <th>temp_y</th>\n",
       "    </tr>\n",
       "  </thead>\n",
       "  <tbody>\n",
       "    <tr>\n",
       "      <th>1900-01-01 08:00:00</th>\n",
       "      <td>30.0</td>\n",
       "      <td>36.6</td>\n",
       "      <td>37.1</td>\n",
       "    </tr>\n",
       "    <tr>\n",
       "      <th>1900-01-01 10:00:00</th>\n",
       "      <td>31.0</td>\n",
       "      <td>36.7</td>\n",
       "      <td>36.6</td>\n",
       "    </tr>\n",
       "    <tr>\n",
       "      <th>1900-01-01 14:00:00</th>\n",
       "      <td>30.4</td>\n",
       "      <td>37.0</td>\n",
       "      <td>36.6</td>\n",
       "    </tr>\n",
       "    <tr>\n",
       "      <th>1900-01-01 16:00:00</th>\n",
       "      <td>30.4</td>\n",
       "      <td>36.8</td>\n",
       "      <td>36.7</td>\n",
       "    </tr>\n",
       "  </tbody>\n",
       "</table>\n",
       "</div>"
      ],
      "text/plain": [
       "                     humid  temp_x  temp_y\n",
       "1900-01-01 08:00:00   30.0    36.6    37.1\n",
       "1900-01-01 10:00:00   31.0    36.7    36.6\n",
       "1900-01-01 14:00:00   30.4    37.0    36.6\n",
       "1900-01-01 16:00:00   30.4    36.8    36.7"
      ]
     },
     "execution_count": 116,
     "metadata": {},
     "output_type": "execute_result"
    }
   ],
   "source": [
    "# Merging (as a method, not a procedure)\n",
    "df_day1.merge(df_day2, left_index=True, right_index=True)\n",
    "# This merge \"remembers\" the origin of the data, the \"suffixes\" keyword allows us to determine the new suffix"
   ]
  },
  {
   "cell_type": "code",
   "execution_count": 117,
   "metadata": {},
   "outputs": [
    {
     "data": {
      "text/html": [
       "<div>\n",
       "<style scoped>\n",
       "    .dataframe tbody tr th:only-of-type {\n",
       "        vertical-align: middle;\n",
       "    }\n",
       "\n",
       "    .dataframe tbody tr th {\n",
       "        vertical-align: top;\n",
       "    }\n",
       "\n",
       "    .dataframe thead th {\n",
       "        text-align: right;\n",
       "    }\n",
       "</style>\n",
       "<table border=\"1\" class=\"dataframe\">\n",
       "  <thead>\n",
       "    <tr style=\"text-align: right;\">\n",
       "      <th></th>\n",
       "      <th>blood_vol</th>\n",
       "      <th>id</th>\n",
       "    </tr>\n",
       "  </thead>\n",
       "  <tbody>\n",
       "    <tr>\n",
       "      <th>0</th>\n",
       "      <td>67</td>\n",
       "      <td>511</td>\n",
       "    </tr>\n",
       "    <tr>\n",
       "      <th>1</th>\n",
       "      <td>66</td>\n",
       "      <td>512</td>\n",
       "    </tr>\n",
       "    <tr>\n",
       "      <th>2</th>\n",
       "      <td>89</td>\n",
       "      <td>513</td>\n",
       "    </tr>\n",
       "    <tr>\n",
       "      <th>3</th>\n",
       "      <td>92</td>\n",
       "      <td>514</td>\n",
       "    </tr>\n",
       "  </tbody>\n",
       "</table>\n",
       "</div>"
      ],
      "text/plain": [
       "   blood_vol   id\n",
       "0         67  511\n",
       "1         66  512\n",
       "2         89  513\n",
       "3         92  514"
      ]
     },
     "execution_count": 117,
     "metadata": {},
     "output_type": "execute_result"
    }
   ],
   "source": [
    "# One more example, more similar to traditional databases\n",
    "mouse_id = [511, 512, 513, 514]\n",
    "meas1 = [67, 66, 89, 92]\n",
    "meas2 = [45, 45, 65, 61]\n",
    "\n",
    "data1 = pd.DataFrame({'id': mouse_id, 'blood_vol': meas1})\n",
    "data2 = pd.DataFrame({'id': mouse_id, 'monocytes': meas2})\n",
    "data1"
   ]
  },
  {
   "cell_type": "code",
   "execution_count": 118,
   "metadata": {},
   "outputs": [
    {
     "data": {
      "text/html": [
       "<div>\n",
       "<style scoped>\n",
       "    .dataframe tbody tr th:only-of-type {\n",
       "        vertical-align: middle;\n",
       "    }\n",
       "\n",
       "    .dataframe tbody tr th {\n",
       "        vertical-align: top;\n",
       "    }\n",
       "\n",
       "    .dataframe thead th {\n",
       "        text-align: right;\n",
       "    }\n",
       "</style>\n",
       "<table border=\"1\" class=\"dataframe\">\n",
       "  <thead>\n",
       "    <tr style=\"text-align: right;\">\n",
       "      <th></th>\n",
       "      <th>blood_vol</th>\n",
       "      <th>id</th>\n",
       "      <th>monocytes</th>\n",
       "    </tr>\n",
       "  </thead>\n",
       "  <tbody>\n",
       "    <tr>\n",
       "      <th>0</th>\n",
       "      <td>67</td>\n",
       "      <td>511</td>\n",
       "      <td>45</td>\n",
       "    </tr>\n",
       "    <tr>\n",
       "      <th>1</th>\n",
       "      <td>66</td>\n",
       "      <td>512</td>\n",
       "      <td>45</td>\n",
       "    </tr>\n",
       "    <tr>\n",
       "      <th>2</th>\n",
       "      <td>89</td>\n",
       "      <td>513</td>\n",
       "      <td>65</td>\n",
       "    </tr>\n",
       "    <tr>\n",
       "      <th>3</th>\n",
       "      <td>92</td>\n",
       "      <td>514</td>\n",
       "      <td>61</td>\n",
       "    </tr>\n",
       "  </tbody>\n",
       "</table>\n",
       "</div>"
      ],
      "text/plain": [
       "   blood_vol   id  monocytes\n",
       "0         67  511         45\n",
       "1         66  512         45\n",
       "2         89  513         65\n",
       "3         92  514         61"
      ]
     },
     "execution_count": 118,
     "metadata": {},
     "output_type": "execute_result"
    }
   ],
   "source": [
    "data1.merge(data2)  # merge identified that the only \"key\" connecting the two tables was the 'id' key"
   ]
  },
  {
   "cell_type": "markdown",
   "metadata": {},
   "source": [
    "Database-like operation is a very broad topic in pandas, and it's another great example of why should you keep your data in a DataFrame.\n",
    "\n",
    "If you feel like this join and merge operation might help you, don't hesitate to consult the official documents on this topic, linked [here](https://pandas.pydata.org/pandas-docs/stable/merging.html) (again)."
   ]
  },
  {
   "cell_type": "markdown",
   "metadata": {},
   "source": [
    "## GroupBy"
   ]
  },
  {
   "cell_type": "markdown",
   "metadata": {},
   "source": [
    "Yet another SQL-like feature that pandas posses is the group-by operation, sometimes known as \"split-apply-combine\"."
   ]
  },
  {
   "cell_type": "code",
   "execution_count": 119,
   "metadata": {},
   "outputs": [
    {
     "data": {
      "text/html": [
       "<div>\n",
       "<style scoped>\n",
       "    .dataframe tbody tr th:only-of-type {\n",
       "        vertical-align: middle;\n",
       "    }\n",
       "\n",
       "    .dataframe tbody tr th {\n",
       "        vertical-align: top;\n",
       "    }\n",
       "\n",
       "    .dataframe thead th {\n",
       "        text-align: right;\n",
       "    }\n",
       "</style>\n",
       "<table border=\"1\" class=\"dataframe\">\n",
       "  <thead>\n",
       "    <tr style=\"text-align: right;\">\n",
       "      <th></th>\n",
       "      <th>dead</th>\n",
       "      <th>took_med</th>\n",
       "      <th>val1</th>\n",
       "      <th>val2</th>\n",
       "    </tr>\n",
       "  </thead>\n",
       "  <tbody>\n",
       "    <tr>\n",
       "      <th>100</th>\n",
       "      <td>True</td>\n",
       "      <td>False</td>\n",
       "      <td>0.007231</td>\n",
       "      <td>0.252171</td>\n",
       "    </tr>\n",
       "    <tr>\n",
       "      <th>101</th>\n",
       "      <td>True</td>\n",
       "      <td>True</td>\n",
       "      <td>0.247039</td>\n",
       "      <td>0.596894</td>\n",
       "    </tr>\n",
       "    <tr>\n",
       "      <th>102</th>\n",
       "      <td>False</td>\n",
       "      <td>True</td>\n",
       "      <td>0.183879</td>\n",
       "      <td>0.569348</td>\n",
       "    </tr>\n",
       "    <tr>\n",
       "      <th>106</th>\n",
       "      <td>True</td>\n",
       "      <td>False</td>\n",
       "      <td>0.972117</td>\n",
       "      <td>0.635961</td>\n",
       "    </tr>\n",
       "    <tr>\n",
       "      <th>108</th>\n",
       "      <td>False</td>\n",
       "      <td>False</td>\n",
       "      <td>0.511810</td>\n",
       "      <td>0.300644</td>\n",
       "    </tr>\n",
       "    <tr>\n",
       "      <th>109</th>\n",
       "      <td>False</td>\n",
       "      <td>True</td>\n",
       "      <td>0.137553</td>\n",
       "      <td>0.688335</td>\n",
       "    </tr>\n",
       "  </tbody>\n",
       "</table>\n",
       "</div>"
      ],
      "text/plain": [
       "      dead  took_med      val1      val2\n",
       "100   True     False  0.007231  0.252171\n",
       "101   True      True  0.247039  0.596894\n",
       "102  False      True  0.183879  0.569348\n",
       "106   True     False  0.972117  0.635961\n",
       "108  False     False  0.511810  0.300644\n",
       "109  False      True  0.137553  0.688335"
      ]
     },
     "execution_count": 119,
     "metadata": {},
     "output_type": "execute_result"
    }
   ],
   "source": [
    "# Mock data\n",
    "subject = [100, 101, 102, 106, 108, 109]\n",
    "dead = [True, True, False, True, False, False]\n",
    "took_med = [False, True, True, False, False, True]\n",
    "val1 = np.random.random(6)\n",
    "val2 = np.random.random(6)\n",
    "df = pd.DataFrame({'dead': dead, 'took_med': took_med,\n",
    "                   'val1': val1, 'val2': val2}, index=subject)\n",
    "df"
   ]
  },
  {
   "cell_type": "markdown",
   "metadata": {},
   "source": [
    "The most sensible thing to do is to group by either the \"dead\" or the \"took_med\" column (or both). This is the \"split\" part."
   ]
  },
  {
   "cell_type": "code",
   "execution_count": 120,
   "metadata": {},
   "outputs": [
    {
     "data": {
      "text/plain": [
       "<pandas.core.groupby.DataFrameGroupBy object at 0x0000018E111B6E10>"
      ]
     },
     "execution_count": 120,
     "metadata": {},
     "output_type": "execute_result"
    }
   ],
   "source": [
    "grouped = df.groupby('dead')\n",
    "grouped  # DataFrameGroupBy object - intermediate object ready to be evaluated"
   ]
  },
  {
   "cell_type": "markdown",
   "metadata": {},
   "source": [
    "This intermediate object is an internal pandas representation which should allow it to run very fast computation the moment we want to actually _know_ something about these groups. Assuming we want the mean of `val1`, as long as we won't specifically write `grouped.mean()` pandas will do very little in terms of actual computation. It's called \"lazy evaluation\".\n",
    "\n",
    "The intermediate object has some useful attributes:"
   ]
  },
  {
   "cell_type": "code",
   "execution_count": 121,
   "metadata": {},
   "outputs": [
    {
     "data": {
      "text/plain": [
       "{False: Int64Index([102, 108, 109], dtype='int64'),\n",
       " True: Int64Index([100, 101, 106], dtype='int64')}"
      ]
     },
     "execution_count": 121,
     "metadata": {},
     "output_type": "execute_result"
    }
   ],
   "source": [
    "grouped.groups"
   ]
  },
  {
   "cell_type": "code",
   "execution_count": 122,
   "metadata": {},
   "outputs": [
    {
     "data": {
      "text/plain": [
       "2"
      ]
     },
     "execution_count": 122,
     "metadata": {},
     "output_type": "execute_result"
    }
   ],
   "source": [
    "len(grouped)  # True and False"
   ]
  },
  {
   "cell_type": "markdown",
   "metadata": {},
   "source": [
    "If we wish to run some actual processing, we have to use an aggregation function:"
   ]
  },
  {
   "cell_type": "code",
   "execution_count": 123,
   "metadata": {},
   "outputs": [
    {
     "data": {
      "text/html": [
       "<div>\n",
       "<style scoped>\n",
       "    .dataframe tbody tr th:only-of-type {\n",
       "        vertical-align: middle;\n",
       "    }\n",
       "\n",
       "    .dataframe tbody tr th {\n",
       "        vertical-align: top;\n",
       "    }\n",
       "\n",
       "    .dataframe thead th {\n",
       "        text-align: right;\n",
       "    }\n",
       "</style>\n",
       "<table border=\"1\" class=\"dataframe\">\n",
       "  <thead>\n",
       "    <tr style=\"text-align: right;\">\n",
       "      <th></th>\n",
       "      <th>took_med</th>\n",
       "      <th>val1</th>\n",
       "      <th>val2</th>\n",
       "    </tr>\n",
       "    <tr>\n",
       "      <th>dead</th>\n",
       "      <th></th>\n",
       "      <th></th>\n",
       "      <th></th>\n",
       "    </tr>\n",
       "  </thead>\n",
       "  <tbody>\n",
       "    <tr>\n",
       "      <th>False</th>\n",
       "      <td>2.0</td>\n",
       "      <td>0.833242</td>\n",
       "      <td>1.558326</td>\n",
       "    </tr>\n",
       "    <tr>\n",
       "      <th>True</th>\n",
       "      <td>1.0</td>\n",
       "      <td>1.226386</td>\n",
       "      <td>1.485026</td>\n",
       "    </tr>\n",
       "  </tbody>\n",
       "</table>\n",
       "</div>"
      ],
      "text/plain": [
       "       took_med      val1      val2\n",
       "dead                               \n",
       "False       2.0  0.833242  1.558326\n",
       "True        1.0  1.226386  1.485026"
      ]
     },
     "execution_count": 123,
     "metadata": {},
     "output_type": "execute_result"
    }
   ],
   "source": [
    "grouped.sum()"
   ]
  },
  {
   "cell_type": "code",
   "execution_count": 124,
   "metadata": {
    "scrolled": true
   },
   "outputs": [
    {
     "data": {
      "text/html": [
       "<div>\n",
       "<style scoped>\n",
       "    .dataframe tbody tr th:only-of-type {\n",
       "        vertical-align: middle;\n",
       "    }\n",
       "\n",
       "    .dataframe tbody tr th {\n",
       "        vertical-align: top;\n",
       "    }\n",
       "\n",
       "    .dataframe thead th {\n",
       "        text-align: right;\n",
       "    }\n",
       "</style>\n",
       "<table border=\"1\" class=\"dataframe\">\n",
       "  <thead>\n",
       "    <tr style=\"text-align: right;\">\n",
       "      <th></th>\n",
       "      <th>took_med</th>\n",
       "      <th>val1</th>\n",
       "      <th>val2</th>\n",
       "    </tr>\n",
       "    <tr>\n",
       "      <th>dead</th>\n",
       "      <th></th>\n",
       "      <th></th>\n",
       "      <th></th>\n",
       "    </tr>\n",
       "  </thead>\n",
       "  <tbody>\n",
       "    <tr>\n",
       "      <th>False</th>\n",
       "      <td>0.666667</td>\n",
       "      <td>0.277747</td>\n",
       "      <td>0.519442</td>\n",
       "    </tr>\n",
       "    <tr>\n",
       "      <th>True</th>\n",
       "      <td>0.333333</td>\n",
       "      <td>0.408795</td>\n",
       "      <td>0.495009</td>\n",
       "    </tr>\n",
       "  </tbody>\n",
       "</table>\n",
       "</div>"
      ],
      "text/plain": [
       "       took_med      val1      val2\n",
       "dead                               \n",
       "False  0.666667  0.277747  0.519442\n",
       "True   0.333333  0.408795  0.495009"
      ]
     },
     "execution_count": 124,
     "metadata": {},
     "output_type": "execute_result"
    }
   ],
   "source": [
    "grouped.mean()"
   ]
  },
  {
   "cell_type": "code",
   "execution_count": 125,
   "metadata": {},
   "outputs": [
    {
     "data": {
      "text/plain": [
       "dead\n",
       "False    3\n",
       "True     3\n",
       "dtype: int64"
      ]
     },
     "execution_count": 125,
     "metadata": {},
     "output_type": "execute_result"
    }
   ],
   "source": [
    "grouped.size()"
   ]
  },
  {
   "cell_type": "markdown",
   "metadata": {},
   "source": [
    "If we just wish to see one of the groups, we can use `get_group()`:"
   ]
  },
  {
   "cell_type": "code",
   "execution_count": 126,
   "metadata": {},
   "outputs": [
    {
     "data": {
      "text/html": [
       "<div>\n",
       "<style scoped>\n",
       "    .dataframe tbody tr th:only-of-type {\n",
       "        vertical-align: middle;\n",
       "    }\n",
       "\n",
       "    .dataframe tbody tr th {\n",
       "        vertical-align: top;\n",
       "    }\n",
       "\n",
       "    .dataframe thead th {\n",
       "        text-align: right;\n",
       "    }\n",
       "</style>\n",
       "<table border=\"1\" class=\"dataframe\">\n",
       "  <thead>\n",
       "    <tr style=\"text-align: right;\">\n",
       "      <th></th>\n",
       "      <th>took_med</th>\n",
       "      <th>val1</th>\n",
       "      <th>val2</th>\n",
       "    </tr>\n",
       "  </thead>\n",
       "  <tbody>\n",
       "    <tr>\n",
       "      <th>100</th>\n",
       "      <td>False</td>\n",
       "      <td>0.007231</td>\n",
       "      <td>0.252171</td>\n",
       "    </tr>\n",
       "    <tr>\n",
       "      <th>101</th>\n",
       "      <td>True</td>\n",
       "      <td>0.247039</td>\n",
       "      <td>0.596894</td>\n",
       "    </tr>\n",
       "    <tr>\n",
       "      <th>106</th>\n",
       "      <td>False</td>\n",
       "      <td>0.972117</td>\n",
       "      <td>0.635961</td>\n",
       "    </tr>\n",
       "  </tbody>\n",
       "</table>\n",
       "</div>"
      ],
      "text/plain": [
       "     took_med      val1      val2\n",
       "100     False  0.007231  0.252171\n",
       "101      True  0.247039  0.596894\n",
       "106     False  0.972117  0.635961"
      ]
     },
     "execution_count": 126,
     "metadata": {},
     "output_type": "execute_result"
    }
   ],
   "source": [
    "grouped.get_group(True)"
   ]
  },
  {
   "cell_type": "markdown",
   "metadata": {},
   "source": [
    "We can also call several functions at once using the `.agg` attribute:"
   ]
  },
  {
   "cell_type": "code",
   "execution_count": 127,
   "metadata": {},
   "outputs": [
    {
     "data": {
      "text/html": [
       "<div>\n",
       "<style scoped>\n",
       "    .dataframe tbody tr th:only-of-type {\n",
       "        vertical-align: middle;\n",
       "    }\n",
       "\n",
       "    .dataframe tbody tr th {\n",
       "        vertical-align: top;\n",
       "    }\n",
       "\n",
       "    .dataframe thead tr th {\n",
       "        text-align: left;\n",
       "    }\n",
       "\n",
       "    .dataframe thead tr:last-of-type th {\n",
       "        text-align: right;\n",
       "    }\n",
       "</style>\n",
       "<table border=\"1\" class=\"dataframe\">\n",
       "  <thead>\n",
       "    <tr>\n",
       "      <th></th>\n",
       "      <th colspan=\"2\" halign=\"left\">took_med</th>\n",
       "      <th colspan=\"2\" halign=\"left\">val1</th>\n",
       "      <th colspan=\"2\" halign=\"left\">val2</th>\n",
       "    </tr>\n",
       "    <tr>\n",
       "      <th></th>\n",
       "      <th>sum</th>\n",
       "      <th>var</th>\n",
       "      <th>sum</th>\n",
       "      <th>var</th>\n",
       "      <th>sum</th>\n",
       "      <th>var</th>\n",
       "    </tr>\n",
       "    <tr>\n",
       "      <th>dead</th>\n",
       "      <th></th>\n",
       "      <th></th>\n",
       "      <th></th>\n",
       "      <th></th>\n",
       "      <th></th>\n",
       "      <th></th>\n",
       "    </tr>\n",
       "  </thead>\n",
       "  <tbody>\n",
       "    <tr>\n",
       "      <th>False</th>\n",
       "      <td>2.0</td>\n",
       "      <td>0.333333</td>\n",
       "      <td>0.833242</td>\n",
       "      <td>0.041625</td>\n",
       "      <td>1.558326</td>\n",
       "      <td>0.039444</td>\n",
       "    </tr>\n",
       "    <tr>\n",
       "      <th>True</th>\n",
       "      <td>1.0</td>\n",
       "      <td>0.333333</td>\n",
       "      <td>1.226386</td>\n",
       "      <td>0.252375</td>\n",
       "      <td>1.485026</td>\n",
       "      <td>0.044609</td>\n",
       "    </tr>\n",
       "  </tbody>\n",
       "</table>\n",
       "</div>"
      ],
      "text/plain": [
       "      took_med                val1                val2          \n",
       "           sum       var       sum       var       sum       var\n",
       "dead                                                            \n",
       "False      2.0  0.333333  0.833242  0.041625  1.558326  0.039444\n",
       "True       1.0  0.333333  1.226386  0.252375  1.485026  0.044609"
      ]
     },
     "execution_count": 127,
     "metadata": {},
     "output_type": "execute_result"
    }
   ],
   "source": [
    "grouped.agg([np.sum, np.var])"
   ]
  },
  {
   "cell_type": "markdown",
   "metadata": {},
   "source": [
    "GroupBy offers many more features, documented [online](http://pandas.pydata.org/pandas-docs/stable/groupby.html)."
   ]
  },
  {
   "cell_type": "markdown",
   "metadata": {},
   "source": [
    "## Exercise"
   ]
  },
  {
   "cell_type": "markdown",
   "metadata": {},
   "source": [
    "1. _Strings in pandas:_ \n",
    "    - Generate a 1000-length `pd.DataFrame` filled with 3-letter strings. Use the `string` module, and others, to generate it quickly.\n",
    "    - Add a column indicating if the string in this row has a `z` in its 2nd character.\n",
    "    - Add a third column swapping the case of the 3-letter string in these specific lines (`azI` to `AZi`). In the other lines it should remain uncapitalized.\n",
    "\n",
    "2. _Concatenation:_\n",
    "    - Create three DataFrames with random values and shapes of (10x2), (10x1), (15x3). Their index should be simple ordinal integers, and their column names should differ.\n",
    "    - Concatenate these DFs over the second axis using pd.concat.\n",
    "    - Concatenate these DFs over the second axis using pd.merge.\n",
    "\n",
    "3. _GroupBy:_\n",
    "    - Create a DataFrame with two columns, 10k entries in length. The first should be a \"flag\" column, having a value of either 0 or 1, randomly. The second should be A sine wave from 0 to 20pi, length of 10k. This simulates measuring a parameter from two distinct groups.\n",
    "    - GroupBy the DataFrame, creating a GroupBy object.\n",
    "    - Plot and overlay the two traces (of the two flags).\n",
    "    - Use the `.rolling()` method to create a rolling average window of length 5 and overlay the result.\n"
   ]
  },
  {
   "cell_type": "markdown",
   "metadata": {},
   "source": [
    "## Exercise solutions below..."
   ]
  },
  {
   "cell_type": "code",
   "execution_count": 128,
   "metadata": {},
   "outputs": [
    {
     "data": {
      "text/html": [
       "<div>\n",
       "<style scoped>\n",
       "    .dataframe tbody tr th:only-of-type {\n",
       "        vertical-align: middle;\n",
       "    }\n",
       "\n",
       "    .dataframe tbody tr th {\n",
       "        vertical-align: top;\n",
       "    }\n",
       "\n",
       "    .dataframe thead th {\n",
       "        text-align: right;\n",
       "    }\n",
       "</style>\n",
       "<table border=\"1\" class=\"dataframe\">\n",
       "  <thead>\n",
       "    <tr style=\"text-align: right;\">\n",
       "      <th></th>\n",
       "      <th>a</th>\n",
       "      <th>b</th>\n",
       "      <th>c</th>\n",
       "      <th>letters</th>\n",
       "      <th>no_z</th>\n",
       "      <th>swap</th>\n",
       "    </tr>\n",
       "  </thead>\n",
       "  <tbody>\n",
       "    <tr>\n",
       "      <th>0</th>\n",
       "      <td>c</td>\n",
       "      <td>p</td>\n",
       "      <td>a</td>\n",
       "      <td>cpa</td>\n",
       "      <td>True</td>\n",
       "      <td>cpa</td>\n",
       "    </tr>\n",
       "    <tr>\n",
       "      <th>1</th>\n",
       "      <td>n</td>\n",
       "      <td>h</td>\n",
       "      <td>d</td>\n",
       "      <td>nhd</td>\n",
       "      <td>True</td>\n",
       "      <td>nhd</td>\n",
       "    </tr>\n",
       "    <tr>\n",
       "      <th>2</th>\n",
       "      <td>s</td>\n",
       "      <td>m</td>\n",
       "      <td>h</td>\n",
       "      <td>smh</td>\n",
       "      <td>True</td>\n",
       "      <td>smh</td>\n",
       "    </tr>\n",
       "    <tr>\n",
       "      <th>3</th>\n",
       "      <td>v</td>\n",
       "      <td>w</td>\n",
       "      <td>k</td>\n",
       "      <td>vwk</td>\n",
       "      <td>True</td>\n",
       "      <td>vwk</td>\n",
       "    </tr>\n",
       "    <tr>\n",
       "      <th>4</th>\n",
       "      <td>f</td>\n",
       "      <td>z</td>\n",
       "      <td>o</td>\n",
       "      <td>fzo</td>\n",
       "      <td>False</td>\n",
       "      <td>FZO</td>\n",
       "    </tr>\n",
       "    <tr>\n",
       "      <th>5</th>\n",
       "      <td>p</td>\n",
       "      <td>d</td>\n",
       "      <td>v</td>\n",
       "      <td>pdv</td>\n",
       "      <td>True</td>\n",
       "      <td>pdv</td>\n",
       "    </tr>\n",
       "    <tr>\n",
       "      <th>6</th>\n",
       "      <td>p</td>\n",
       "      <td>m</td>\n",
       "      <td>f</td>\n",
       "      <td>pmf</td>\n",
       "      <td>True</td>\n",
       "      <td>pmf</td>\n",
       "    </tr>\n",
       "    <tr>\n",
       "      <th>7</th>\n",
       "      <td>d</td>\n",
       "      <td>j</td>\n",
       "      <td>y</td>\n",
       "      <td>djy</td>\n",
       "      <td>True</td>\n",
       "      <td>djy</td>\n",
       "    </tr>\n",
       "    <tr>\n",
       "      <th>8</th>\n",
       "      <td>w</td>\n",
       "      <td>u</td>\n",
       "      <td>r</td>\n",
       "      <td>wur</td>\n",
       "      <td>True</td>\n",
       "      <td>wur</td>\n",
       "    </tr>\n",
       "    <tr>\n",
       "      <th>9</th>\n",
       "      <td>j</td>\n",
       "      <td>u</td>\n",
       "      <td>i</td>\n",
       "      <td>jui</td>\n",
       "      <td>True</td>\n",
       "      <td>jui</td>\n",
       "    </tr>\n",
       "    <tr>\n",
       "      <th>10</th>\n",
       "      <td>t</td>\n",
       "      <td>n</td>\n",
       "      <td>p</td>\n",
       "      <td>tnp</td>\n",
       "      <td>True</td>\n",
       "      <td>tnp</td>\n",
       "    </tr>\n",
       "    <tr>\n",
       "      <th>11</th>\n",
       "      <td>y</td>\n",
       "      <td>v</td>\n",
       "      <td>p</td>\n",
       "      <td>yvp</td>\n",
       "      <td>True</td>\n",
       "      <td>yvp</td>\n",
       "    </tr>\n",
       "    <tr>\n",
       "      <th>12</th>\n",
       "      <td>x</td>\n",
       "      <td>m</td>\n",
       "      <td>e</td>\n",
       "      <td>xme</td>\n",
       "      <td>True</td>\n",
       "      <td>xme</td>\n",
       "    </tr>\n",
       "    <tr>\n",
       "      <th>13</th>\n",
       "      <td>x</td>\n",
       "      <td>b</td>\n",
       "      <td>s</td>\n",
       "      <td>xbs</td>\n",
       "      <td>True</td>\n",
       "      <td>xbs</td>\n",
       "    </tr>\n",
       "    <tr>\n",
       "      <th>14</th>\n",
       "      <td>r</td>\n",
       "      <td>y</td>\n",
       "      <td>s</td>\n",
       "      <td>rys</td>\n",
       "      <td>True</td>\n",
       "      <td>rys</td>\n",
       "    </tr>\n",
       "    <tr>\n",
       "      <th>15</th>\n",
       "      <td>c</td>\n",
       "      <td>a</td>\n",
       "      <td>z</td>\n",
       "      <td>caz</td>\n",
       "      <td>True</td>\n",
       "      <td>caz</td>\n",
       "    </tr>\n",
       "    <tr>\n",
       "      <th>16</th>\n",
       "      <td>b</td>\n",
       "      <td>b</td>\n",
       "      <td>e</td>\n",
       "      <td>bbe</td>\n",
       "      <td>True</td>\n",
       "      <td>bbe</td>\n",
       "    </tr>\n",
       "    <tr>\n",
       "      <th>17</th>\n",
       "      <td>h</td>\n",
       "      <td>g</td>\n",
       "      <td>g</td>\n",
       "      <td>hgg</td>\n",
       "      <td>True</td>\n",
       "      <td>hgg</td>\n",
       "    </tr>\n",
       "    <tr>\n",
       "      <th>18</th>\n",
       "      <td>e</td>\n",
       "      <td>i</td>\n",
       "      <td>o</td>\n",
       "      <td>eio</td>\n",
       "      <td>True</td>\n",
       "      <td>eio</td>\n",
       "    </tr>\n",
       "    <tr>\n",
       "      <th>19</th>\n",
       "      <td>m</td>\n",
       "      <td>h</td>\n",
       "      <td>b</td>\n",
       "      <td>mhb</td>\n",
       "      <td>True</td>\n",
       "      <td>mhb</td>\n",
       "    </tr>\n",
       "  </tbody>\n",
       "</table>\n",
       "</div>"
      ],
      "text/plain": [
       "    a  b  c letters   no_z swap\n",
       "0   c  p  a     cpa   True  cpa\n",
       "1   n  h  d     nhd   True  nhd\n",
       "2   s  m  h     smh   True  smh\n",
       "3   v  w  k     vwk   True  vwk\n",
       "4   f  z  o     fzo  False  FZO\n",
       "5   p  d  v     pdv   True  pdv\n",
       "6   p  m  f     pmf   True  pmf\n",
       "7   d  j  y     djy   True  djy\n",
       "8   w  u  r     wur   True  wur\n",
       "9   j  u  i     jui   True  jui\n",
       "10  t  n  p     tnp   True  tnp\n",
       "11  y  v  p     yvp   True  yvp\n",
       "12  x  m  e     xme   True  xme\n",
       "13  x  b  s     xbs   True  xbs\n",
       "14  r  y  s     rys   True  rys\n",
       "15  c  a  z     caz   True  caz\n",
       "16  b  b  e     bbe   True  bbe\n",
       "17  h  g  g     hgg   True  hgg\n",
       "18  e  i  o     eio   True  eio\n",
       "19  m  h  b     mhb   True  mhb"
      ]
     },
     "execution_count": 128,
     "metadata": {},
     "output_type": "execute_result"
    }
   ],
   "source": [
    "# 1\n",
    "import string\n",
    "import numpy as np\n",
    "import pandas as pd\n",
    "\n",
    "# Generate the array\n",
    "letters = list(string.ascii_lowercase)\n",
    "size = 1000\n",
    "num_of_letters = 3 \n",
    "chosen = np.random.choice(letters, size*num_of_letters)\n",
    "chosen = chosen.reshape((size, num_of_letters))\n",
    "df = pd.DataFrame(chosen, columns=['a', 'b', 'c'])\n",
    "df['letters'] = df.a.str.cat(df.b.str.cat(df.c))\n",
    "\n",
    "# Filter\n",
    "char = 'z'\n",
    "df['no_z'] = df['letters'].str.find(char) != 1\n",
    "df['swap'] = df['letters'].where(df['no_z'], other=df['letters'].str.upper())\n",
    "df.head(20)"
   ]
  },
  {
   "cell_type": "code",
   "execution_count": 129,
   "metadata": {},
   "outputs": [
    {
     "name": "stdout",
     "output_type": "stream",
     "text": [
      "           a         b         c         d         e         f\n",
      "0   0.349624  0.269398  0.477850  0.265687  0.980785  0.622909\n",
      "1   0.800253  0.263543  0.323243  0.083888  0.061572  0.174753\n",
      "2   0.941782  0.940802  0.717295  0.703108  0.947156  0.725701\n",
      "3   0.655069  0.943061  0.207954  0.888553  0.917295  0.203775\n",
      "4   0.627884  0.736225  0.064790  0.343544  0.341469  0.770286\n",
      "5   0.368908  0.700174  0.077782  0.787526  0.704624  0.288207\n",
      "6   0.053423  0.990958  0.639241  0.229594  0.680680  0.364691\n",
      "7   0.354847  0.086351  0.867840  0.132796  0.298006  0.261598\n",
      "8   0.964953  0.341480  0.627140  0.659175  0.938538  0.838967\n",
      "9   0.058933  0.471934  0.913096  0.338938  0.328129  0.515228\n",
      "10       NaN       NaN       NaN  0.433531  0.158955  0.288865\n",
      "11       NaN       NaN       NaN  0.580949  0.461617  0.260185\n",
      "12       NaN       NaN       NaN  0.241378  0.622326  0.751322\n",
      "13       NaN       NaN       NaN  0.680173  0.482160  0.913625\n",
      "14       NaN       NaN       NaN  0.855149  0.458661  0.959972\n"
     ]
    },
    {
     "data": {
      "text/html": [
       "<div>\n",
       "<style scoped>\n",
       "    .dataframe tbody tr th:only-of-type {\n",
       "        vertical-align: middle;\n",
       "    }\n",
       "\n",
       "    .dataframe tbody tr th {\n",
       "        vertical-align: top;\n",
       "    }\n",
       "\n",
       "    .dataframe thead th {\n",
       "        text-align: right;\n",
       "    }\n",
       "</style>\n",
       "<table border=\"1\" class=\"dataframe\">\n",
       "  <thead>\n",
       "    <tr style=\"text-align: right;\">\n",
       "      <th></th>\n",
       "      <th>a</th>\n",
       "      <th>b</th>\n",
       "      <th>c</th>\n",
       "      <th>d</th>\n",
       "      <th>e</th>\n",
       "      <th>f</th>\n",
       "    </tr>\n",
       "  </thead>\n",
       "  <tbody>\n",
       "    <tr>\n",
       "      <th>0</th>\n",
       "      <td>0.349624</td>\n",
       "      <td>0.269398</td>\n",
       "      <td>0.477850</td>\n",
       "      <td>0.265687</td>\n",
       "      <td>0.980785</td>\n",
       "      <td>0.622909</td>\n",
       "    </tr>\n",
       "    <tr>\n",
       "      <th>1</th>\n",
       "      <td>0.800253</td>\n",
       "      <td>0.263543</td>\n",
       "      <td>0.323243</td>\n",
       "      <td>0.083888</td>\n",
       "      <td>0.061572</td>\n",
       "      <td>0.174753</td>\n",
       "    </tr>\n",
       "    <tr>\n",
       "      <th>2</th>\n",
       "      <td>0.941782</td>\n",
       "      <td>0.940802</td>\n",
       "      <td>0.717295</td>\n",
       "      <td>0.703108</td>\n",
       "      <td>0.947156</td>\n",
       "      <td>0.725701</td>\n",
       "    </tr>\n",
       "    <tr>\n",
       "      <th>3</th>\n",
       "      <td>0.655069</td>\n",
       "      <td>0.943061</td>\n",
       "      <td>0.207954</td>\n",
       "      <td>0.888553</td>\n",
       "      <td>0.917295</td>\n",
       "      <td>0.203775</td>\n",
       "    </tr>\n",
       "    <tr>\n",
       "      <th>4</th>\n",
       "      <td>0.627884</td>\n",
       "      <td>0.736225</td>\n",
       "      <td>0.064790</td>\n",
       "      <td>0.343544</td>\n",
       "      <td>0.341469</td>\n",
       "      <td>0.770286</td>\n",
       "    </tr>\n",
       "    <tr>\n",
       "      <th>5</th>\n",
       "      <td>0.368908</td>\n",
       "      <td>0.700174</td>\n",
       "      <td>0.077782</td>\n",
       "      <td>0.787526</td>\n",
       "      <td>0.704624</td>\n",
       "      <td>0.288207</td>\n",
       "    </tr>\n",
       "    <tr>\n",
       "      <th>6</th>\n",
       "      <td>0.053423</td>\n",
       "      <td>0.990958</td>\n",
       "      <td>0.639241</td>\n",
       "      <td>0.229594</td>\n",
       "      <td>0.680680</td>\n",
       "      <td>0.364691</td>\n",
       "    </tr>\n",
       "    <tr>\n",
       "      <th>7</th>\n",
       "      <td>0.354847</td>\n",
       "      <td>0.086351</td>\n",
       "      <td>0.867840</td>\n",
       "      <td>0.132796</td>\n",
       "      <td>0.298006</td>\n",
       "      <td>0.261598</td>\n",
       "    </tr>\n",
       "    <tr>\n",
       "      <th>8</th>\n",
       "      <td>0.964953</td>\n",
       "      <td>0.341480</td>\n",
       "      <td>0.627140</td>\n",
       "      <td>0.659175</td>\n",
       "      <td>0.938538</td>\n",
       "      <td>0.838967</td>\n",
       "    </tr>\n",
       "    <tr>\n",
       "      <th>9</th>\n",
       "      <td>0.058933</td>\n",
       "      <td>0.471934</td>\n",
       "      <td>0.913096</td>\n",
       "      <td>0.338938</td>\n",
       "      <td>0.328129</td>\n",
       "      <td>0.515228</td>\n",
       "    </tr>\n",
       "    <tr>\n",
       "      <th>10</th>\n",
       "      <td>NaN</td>\n",
       "      <td>NaN</td>\n",
       "      <td>NaN</td>\n",
       "      <td>0.433531</td>\n",
       "      <td>0.158955</td>\n",
       "      <td>0.288865</td>\n",
       "    </tr>\n",
       "    <tr>\n",
       "      <th>11</th>\n",
       "      <td>NaN</td>\n",
       "      <td>NaN</td>\n",
       "      <td>NaN</td>\n",
       "      <td>0.580949</td>\n",
       "      <td>0.461617</td>\n",
       "      <td>0.260185</td>\n",
       "    </tr>\n",
       "    <tr>\n",
       "      <th>12</th>\n",
       "      <td>NaN</td>\n",
       "      <td>NaN</td>\n",
       "      <td>NaN</td>\n",
       "      <td>0.241378</td>\n",
       "      <td>0.622326</td>\n",
       "      <td>0.751322</td>\n",
       "    </tr>\n",
       "    <tr>\n",
       "      <th>13</th>\n",
       "      <td>NaN</td>\n",
       "      <td>NaN</td>\n",
       "      <td>NaN</td>\n",
       "      <td>0.680173</td>\n",
       "      <td>0.482160</td>\n",
       "      <td>0.913625</td>\n",
       "    </tr>\n",
       "    <tr>\n",
       "      <th>14</th>\n",
       "      <td>NaN</td>\n",
       "      <td>NaN</td>\n",
       "      <td>NaN</td>\n",
       "      <td>0.855149</td>\n",
       "      <td>0.458661</td>\n",
       "      <td>0.959972</td>\n",
       "    </tr>\n",
       "  </tbody>\n",
       "</table>\n",
       "</div>"
      ],
      "text/plain": [
       "           a         b         c         d         e         f\n",
       "0   0.349624  0.269398  0.477850  0.265687  0.980785  0.622909\n",
       "1   0.800253  0.263543  0.323243  0.083888  0.061572  0.174753\n",
       "2   0.941782  0.940802  0.717295  0.703108  0.947156  0.725701\n",
       "3   0.655069  0.943061  0.207954  0.888553  0.917295  0.203775\n",
       "4   0.627884  0.736225  0.064790  0.343544  0.341469  0.770286\n",
       "5   0.368908  0.700174  0.077782  0.787526  0.704624  0.288207\n",
       "6   0.053423  0.990958  0.639241  0.229594  0.680680  0.364691\n",
       "7   0.354847  0.086351  0.867840  0.132796  0.298006  0.261598\n",
       "8   0.964953  0.341480  0.627140  0.659175  0.938538  0.838967\n",
       "9   0.058933  0.471934  0.913096  0.338938  0.328129  0.515228\n",
       "10       NaN       NaN       NaN  0.433531  0.158955  0.288865\n",
       "11       NaN       NaN       NaN  0.580949  0.461617  0.260185\n",
       "12       NaN       NaN       NaN  0.241378  0.622326  0.751322\n",
       "13       NaN       NaN       NaN  0.680173  0.482160  0.913625\n",
       "14       NaN       NaN       NaN  0.855149  0.458661  0.959972"
      ]
     },
     "execution_count": 129,
     "metadata": {},
     "output_type": "execute_result"
    }
   ],
   "source": [
    "# 2\n",
    "dfa = pd.DataFrame(np.random.random((10, 2)), columns=['a', 'b'])\n",
    "dfb = pd.DataFrame(np.random.random((10, 1)), columns=['c'])\n",
    "dfc = pd.DataFrame(np.random.random((15, 3)), columns=['d', 'e', 'f'])\n",
    "\n",
    "# Using concat\n",
    "print(pd.concat([dfa, dfb, dfc], axis=1))\n",
    "# Using merge\n",
    "pd.merge(pd.merge(dfa, dfb, how='outer', left_index=True, right_index=True), \n",
    "         dfc, how='outer', left_index=True, right_index=True)"
   ]
  },
  {
   "cell_type": "code",
   "execution_count": 130,
   "metadata": {},
   "outputs": [
    {
     "data": {
      "text/plain": [
       "<matplotlib.axes._subplots.AxesSubplot at 0x18e111eefd0>"
      ]
     },
     "execution_count": 130,
     "metadata": {},
     "output_type": "execute_result"
    },
    {
     "data": {
      "image/png": "[encoded data removed]",
      "text/plain": [
       "<matplotlib.figure.Figure at 0x18e111eec18>"
      ]
     },
     "metadata": {},
     "output_type": "display_data"
    }
   ],
   "source": [
    "# 3\n",
    "vals = np.array([0, 1])\n",
    "needed = 100\n",
    "stop = 20 * np.pi\n",
    "chosen = np.random.choice(vals, needed)\n",
    "df = pd.DataFrame({'flag': chosen, 'val': np.sin(np.linspace(start=0, stop=stop, num=needed))})\n",
    "\n",
    "window_size = 5\n",
    "grouped = df.groupby('flag')\n",
    "grouped.val.plot()\n",
    "\n",
    "df.val.rolling(window=window_size).mean().plot()"
   ]
  },
  {
   "cell_type": "markdown",
   "metadata": {},
   "source": [
    "## IntervalIndex"
   ]
  },
  {
   "cell_type": "markdown",
   "metadata": {},
   "source": [
    "Pandas has a __TON__ of features and small implementation details that are there to make your life simpler. A small example, just to make you look for these deep in the documentation, is an `IntervalIndex`.\n",
    "\n",
    "`IntervalIndex` is a type of index, just like a `DatetimeIndex` that we've seen many times, or a simple integer index. This index is special because it contain a start and a stop \"time\", and values can be included or excluded in this range."
   ]
  },
  {
   "cell_type": "code",
   "execution_count": 131,
   "metadata": {},
   "outputs": [
    {
     "data": {
      "text/html": [
       "<div>\n",
       "<style scoped>\n",
       "    .dataframe tbody tr th:only-of-type {\n",
       "        vertical-align: middle;\n",
       "    }\n",
       "\n",
       "    .dataframe tbody tr th {\n",
       "        vertical-align: top;\n",
       "    }\n",
       "\n",
       "    .dataframe thead th {\n",
       "        text-align: right;\n",
       "    }\n",
       "</style>\n",
       "<table border=\"1\" class=\"dataframe\">\n",
       "  <thead>\n",
       "    <tr style=\"text-align: right;\">\n",
       "      <th></th>\n",
       "      <th>data</th>\n",
       "    </tr>\n",
       "  </thead>\n",
       "  <tbody>\n",
       "    <tr>\n",
       "      <th>(0, 1]</th>\n",
       "      <td>0</td>\n",
       "    </tr>\n",
       "    <tr>\n",
       "      <th>(1, 2]</th>\n",
       "      <td>1</td>\n",
       "    </tr>\n",
       "    <tr>\n",
       "      <th>(2, 3]</th>\n",
       "      <td>2</td>\n",
       "    </tr>\n",
       "    <tr>\n",
       "      <th>(3, 4]</th>\n",
       "      <td>3</td>\n",
       "    </tr>\n",
       "  </tbody>\n",
       "</table>\n",
       "</div>"
      ],
      "text/plain": [
       "        data\n",
       "(0, 1]     0\n",
       "(1, 2]     1\n",
       "(2, 3]     2\n",
       "(3, 4]     3"
      ]
     },
     "execution_count": 131,
     "metadata": {},
     "output_type": "execute_result"
    }
   ],
   "source": [
    "df = pd.DataFrame([0, 1, 2, 3], index=pd.IntervalIndex.from_breaks((0, 1, 2, 3, 4)),\n",
    "                  columns=['data'])\n",
    "df  # notice the index"
   ]
  },
  {
   "cell_type": "code",
   "execution_count": 132,
   "metadata": {},
   "outputs": [
    {
     "data": {
      "text/plain": [
       "data    1\n",
       "Name: (1, 2], dtype: int64"
      ]
     },
     "execution_count": 132,
     "metadata": {},
     "output_type": "execute_result"
    }
   ],
   "source": [
    "# Select a label on the edge of the index\n",
    "df.loc[2]  # label-based, i.e. index-based and not value-based"
   ]
  },
  {
   "cell_type": "code",
   "execution_count": 133,
   "metadata": {},
   "outputs": [
    {
     "data": {
      "text/html": [
       "<div>\n",
       "<style scoped>\n",
       "    .dataframe tbody tr th:only-of-type {\n",
       "        vertical-align: middle;\n",
       "    }\n",
       "\n",
       "    .dataframe tbody tr th {\n",
       "        vertical-align: top;\n",
       "    }\n",
       "\n",
       "    .dataframe thead th {\n",
       "        text-align: right;\n",
       "    }\n",
       "</style>\n",
       "<table border=\"1\" class=\"dataframe\">\n",
       "  <thead>\n",
       "    <tr style=\"text-align: right;\">\n",
       "      <th></th>\n",
       "      <th>data</th>\n",
       "    </tr>\n",
       "  </thead>\n",
       "  <tbody>\n",
       "    <tr>\n",
       "      <th>(0, 1]</th>\n",
       "      <td>0</td>\n",
       "    </tr>\n",
       "    <tr>\n",
       "      <th>(1, 2]</th>\n",
       "      <td>1</td>\n",
       "    </tr>\n",
       "  </tbody>\n",
       "</table>\n",
       "</div>"
      ],
      "text/plain": [
       "        data\n",
       "(0, 1]     0\n",
       "(1, 2]     1"
      ]
     },
     "execution_count": 133,
     "metadata": {},
     "output_type": "execute_result"
    }
   ],
   "source": [
    "df.loc[[1, 2]]"
   ]
  },
  {
   "cell_type": "code",
   "execution_count": 134,
   "metadata": {},
   "outputs": [
    {
     "data": {
      "text/plain": [
       "data    1\n",
       "Name: (1, 2], dtype: int64"
      ]
     },
     "execution_count": 134,
     "metadata": {},
     "output_type": "execute_result"
    }
   ],
   "source": [
    "# Select a label contained in the index\n",
    "df.loc[1.5]"
   ]
  },
  {
   "cell_type": "markdown",
   "metadata": {},
   "source": [
    "There are types of datasets that \"demand\" an `IntervalIndex`, \n",
    "in the sense that it's very natural to use them to represent the data. \n",
    "For example, if you sample data from an electrode every microsecond, \n",
    "then the measurement at time `t` represents the values in times `(t-us, t]`."
   ]
  },
  {
   "cell_type": "markdown",
   "metadata": {},
   "source": [
    "# Higher Dimensionality - `xarray`"
   ]
  },
  {
   "cell_type": "markdown",
   "metadata": {},
   "source": [
    "Pandas is amazing, but has its limits. A `DataFrame` can be a multi-dimensional container when using a `MultiIndex`, but it's limited to a subset of uses in which another layer of indexing makes sense.\n",
    "\n",
    "In many occasions, however, our data is truly high-dimensional. A simple case could be electrophysiological recordings, or calcium traces. In these cases we have several indices (some can be categorical), like \"Sex\", \"AnimalID\", \"Date\", \"TypeOfExperiment\" and perhaps a few more. But the data itself is a vector of numbers representing voltage or fluorescence. Having this data in a DataFrame seems a bit \"off\" - what are the columns on this DF? Is each column a voltage measurement? Or if each column is a measurement, how do you deal with the indices? We can use nested columns (`MultiIndex` the columns), but it's not a very modular approach.\n",
    "\n",
    "This is a classic example where pandas DF \"fail\", and indeed pandas used to have a higher-dimensionality container named `Panel`. However, late 2016 pandas devs deprecated it, publicly announcing that they intend to drop support for `Panel`s sometime in the future, and whoever needs a higher-dimensionality container should use `xarray`."
   ]
  },
  {
   "cell_type": "markdown",
   "metadata": {},
   "source": [
    "Thus, in essence `xarray` is a labeled n-dimensional array. Just like a DataFrame is a labeled 2D array, i.e. with names to its axes rather than numbers, in `xarray` each dimension has a name (`time`, `temp`, `voltage`) and its indices (\"coordinates\") can also have labels (like a timestamp, for example). In addition, each `xarray` object also has metadata attached to it, in which we can write details that do not fit a columnar structure (experimenter name, hardware and software used for acquisition, etc.)."
   ]
  },
  {
   "cell_type": "markdown",
   "metadata": {},
   "source": [
    "## DataArray"
   ]
  },
  {
   "cell_type": "code",
   "execution_count": 135,
   "metadata": {},
   "outputs": [
    {
     "data": {
      "text/plain": [
       "<xarray.DataArray (dim_0: 10, dim_1: 2)>\n",
       "array([[0.99815 , 0.225516],\n",
       "       [0.257611, 0.732839],\n",
       "       [0.013789, 0.434512],\n",
       "       [0.975364, 0.609881],\n",
       "       [0.894204, 0.956585],\n",
       "       [0.458869, 0.671449],\n",
       "       [0.842401, 0.107756],\n",
       "       [0.672228, 0.574922],\n",
       "       [0.438588, 0.034807],\n",
       "       [0.673891, 0.486532]])\n",
       "Dimensions without coordinates: dim_0, dim_1"
      ]
     },
     "execution_count": 135,
     "metadata": {},
     "output_type": "execute_result"
    }
   ],
   "source": [
    "import numpy as np\n",
    "import xarray as xr\n",
    "\n",
    "\n",
    "da = xr.DataArray(np.random.random((10, 2)))\n",
    "da"
   ]
  },
  {
   "cell_type": "markdown",
   "metadata": {},
   "source": [
    "The basic building block of `xarray` is a DataArray, an n-dimensional counter part of a pandas' Series. It has two dimensions, just like the numpy array that its based upon. We didn't specify names for these dimensions, so currently they're called `dim_0` and `dim_1`. We also didn't specify coordinates (indices), so the printout doesn't report of any coordinates for the data."
   ]
  },
  {
   "cell_type": "code",
   "execution_count": 136,
   "metadata": {},
   "outputs": [
    {
     "data": {
      "text/plain": [
       "array([[0.9981495 , 0.22551613],\n",
       "       [0.25761121, 0.73283896],\n",
       "       [0.01378905, 0.43451176],\n",
       "       [0.97536359, 0.60988095],\n",
       "       [0.89420382, 0.95658538],\n",
       "       [0.45886879, 0.67144942],\n",
       "       [0.84240108, 0.10775601],\n",
       "       [0.67222774, 0.5749221 ],\n",
       "       [0.43858753, 0.0348068 ],\n",
       "       [0.67389093, 0.48653172]])"
      ]
     },
     "execution_count": 136,
     "metadata": {},
     "output_type": "execute_result"
    }
   ],
   "source": [
    "da.values  # just like pandas"
   ]
  },
  {
   "cell_type": "code",
   "execution_count": 137,
   "metadata": {},
   "outputs": [
    {
     "data": {
      "text/plain": [
       "Coordinates:\n",
       "    *empty*"
      ]
     },
     "execution_count": 137,
     "metadata": {},
     "output_type": "execute_result"
    }
   ],
   "source": [
    "da.coords"
   ]
  },
  {
   "cell_type": "code",
   "execution_count": 138,
   "metadata": {},
   "outputs": [
    {
     "data": {
      "text/plain": [
       "('dim_0', 'dim_1')"
      ]
     },
     "execution_count": 138,
     "metadata": {},
     "output_type": "execute_result"
    }
   ],
   "source": [
    "da.dims"
   ]
  },
  {
   "cell_type": "code",
   "execution_count": 139,
   "metadata": {},
   "outputs": [
    {
     "data": {
      "text/plain": [
       "OrderedDict()"
      ]
     },
     "execution_count": 139,
     "metadata": {},
     "output_type": "execute_result"
    }
   ],
   "source": [
    "da.attrs"
   ]
  },
  {
   "cell_type": "markdown",
   "metadata": {},
   "source": [
    "We'll add coordinates and dimension names and see how indexing works:"
   ]
  },
  {
   "cell_type": "code",
   "execution_count": 140,
   "metadata": {},
   "outputs": [
    {
     "data": {
      "text/plain": [
       "<xarray.DataArray (time: 10, repetition: 2)>\n",
       "array([[0.560328, 0.560105],\n",
       "       [0.273628, 0.140648],\n",
       "       [0.706109, 0.99334 ],\n",
       "       [0.026524, 0.372204],\n",
       "       [0.888712, 0.047509],\n",
       "       [0.943865, 0.414324],\n",
       "       [0.745662, 0.86082 ],\n",
       "       [0.361959, 0.490984],\n",
       "       [0.905453, 0.163708],\n",
       "       [0.906842, 0.538219]])\n",
       "Coordinates:\n",
       "  * time        (time) float64 0.0 0.1111 0.2222 0.3333 0.4444 0.5556 0.6667 ...\n",
       "  * repetition  (repetition) int32 0 1"
      ]
     },
     "execution_count": 140,
     "metadata": {},
     "output_type": "execute_result"
    }
   ],
   "source": [
    "dims = ('time', 'repetition')\n",
    "coords = {'time': np.linspace(0, 1, num=10),\n",
    "          'repetition': np.arange(2)}\n",
    "da2 = xr.DataArray(np.random.random((10, 2)), dims=dims, coords=coords)\n",
    "da2"
   ]
  },
  {
   "cell_type": "code",
   "execution_count": 141,
   "metadata": {},
   "outputs": [
    {
     "data": {
      "text/plain": [
       "<xarray.DataArray (time: 2)>\n",
       "array([0.140648, 0.99334 ])\n",
       "Coordinates:\n",
       "  * time        (time) float64 0.1111 0.2222\n",
       "    repetition  int32 1"
      ]
     },
     "execution_count": 141,
     "metadata": {},
     "output_type": "execute_result"
    }
   ],
   "source": [
    "da2[[0, 1]]  # positional\n",
    "da2.loc[0.1:0.3, 1]  # rows 1-2 in the second column"
   ]
  },
  {
   "cell_type": "code",
   "execution_count": 142,
   "metadata": {},
   "outputs": [
    {
     "data": {
      "text/plain": [
       "<xarray.DataArray (time: 4, repetition: 2)>\n",
       "array([[0.026524, 0.372204],\n",
       "       [0.888712, 0.047509],\n",
       "       [0.943865, 0.414324],\n",
       "       [0.745662, 0.86082 ]])\n",
       "Coordinates:\n",
       "  * time        (time) float64 0.3333 0.4444 0.5556 0.6667\n",
       "  * repetition  (repetition) int32 0 1"
      ]
     },
     "execution_count": 142,
     "metadata": {},
     "output_type": "execute_result"
    }
   ],
   "source": [
    "da2.isel(time=slice(3, 7))  # dimension name and integer label (sel = select)"
   ]
  },
  {
   "cell_type": "code",
   "execution_count": 143,
   "metadata": {},
   "outputs": [
    {
     "data": {
      "text/plain": [
       "<xarray.DataArray (time: 10, repetition: 1)>\n",
       "array([[0.560328],\n",
       "       [0.273628],\n",
       "       [0.706109],\n",
       "       [0.026524],\n",
       "       [0.888712],\n",
       "       [0.943865],\n",
       "       [0.745662],\n",
       "       [0.361959],\n",
       "       [0.905453],\n",
       "       [0.906842]])\n",
       "Coordinates:\n",
       "  * time        (time) float64 0.0 0.1111 0.2222 0.3333 0.4444 0.5556 0.6667 ...\n",
       "  * repetition  (repetition) int32 0"
      ]
     },
     "execution_count": 143,
     "metadata": {},
     "output_type": "execute_result"
    }
   ],
   "source": [
    "da2.sel(repetition=[0])  # dimension name and coordinate label"
   ]
  },
  {
   "cell_type": "markdown",
   "metadata": {},
   "source": [
    "Other operations on DataArrays, such as computations, grouping and such, are done very similarly to DataFrames and numpy arrays."
   ]
  },
  {
   "cell_type": "markdown",
   "metadata": {},
   "source": [
    "## Dataset"
   ]
  },
  {
   "cell_type": "markdown",
   "metadata": {},
   "source": [
    "A Dataset is to a DataArray what a DataFrame is to a Series. In other words, it's a collection of DataArrays that share coordinates."
   ]
  },
  {
   "cell_type": "code",
   "execution_count": 144,
   "metadata": {},
   "outputs": [
    {
     "data": {
      "text/plain": [
       "<xarray.DataArray (time: 10, repetition: 2)>\n",
       "array([[0.560328, 0.560105],\n",
       "       [0.273628, 0.140648],\n",
       "       [0.706109, 0.99334 ],\n",
       "       [0.026524, 0.372204],\n",
       "       [0.888712, 0.047509],\n",
       "       [0.943865, 0.414324],\n",
       "       [0.745662, 0.86082 ],\n",
       "       [0.361959, 0.490984],\n",
       "       [0.905453, 0.163708],\n",
       "       [0.906842, 0.538219]])\n",
       "Coordinates:\n",
       "  * time        (time) float64 0.0 0.1111 0.2222 0.3333 0.4444 0.5556 0.6667 ...\n",
       "  * repetition  (repetition) int32 0 1"
      ]
     },
     "execution_count": 144,
     "metadata": {},
     "output_type": "execute_result"
    }
   ],
   "source": [
    "da2  # a reminder. We notice that this could've been a DataFrame as well"
   ]
  },
  {
   "cell_type": "code",
   "execution_count": 145,
   "metadata": {},
   "outputs": [
    {
     "data": {
      "text/plain": [
       "<xarray.Dataset>\n",
       "Dimensions:     (repetition: 2, time: 10)\n",
       "Coordinates:\n",
       "  * time        (time) float64 0.0 0.1111 0.2222 0.3333 0.4444 0.5556 0.6667 ...\n",
       "  * repetition  (repetition) int32 0 1\n",
       "Data variables:\n",
       "    ephys       (time, repetition) float64 0.5603 0.5601 0.2736 0.1406 ...\n",
       "    calcium     (time) float64 0.2044 0.6332 0.7782 0.404 0.2638 0.4243 ...\n",
       "Attributes:\n",
       "    AnimalD:         701\n",
       "    ExperimentType:  double\n",
       "    Sex:             Male"
      ]
     },
     "execution_count": 145,
     "metadata": {},
     "output_type": "execute_result"
    }
   ],
   "source": [
    "ds = xr.Dataset({'ephys': da2,\n",
    "                 'calcium': ('time', np.random.random(10))},\n",
    "                attrs={'AnimalD': 701,\n",
    "                       'ExperimentType': 'double',\n",
    "                       'Sex': 'Male'})\n",
    "ds"
   ]
  },
  {
   "cell_type": "code",
   "execution_count": 146,
   "metadata": {},
   "outputs": [
    {
     "ename": "KeyError",
     "evalue": "'num_of_trials'",
     "output_type": "error",
     "traceback": [
      "\u001b[1;31m---------------------------------------------------------------------------\u001b[0m",
      "\u001b[1;31mKeyError\u001b[0m                                  Traceback (most recent call last)",
      "\u001b[1;32m~\\Miniconda3\\envs\\general\\lib\\site-packages\\xarray\\core\\dataset.py\u001b[0m in \u001b[0;36m_construct_dataarray\u001b[1;34m(self, name)\u001b[0m\n\u001b[0;32m    780\u001b[0m         \u001b[1;32mtry\u001b[0m\u001b[1;33m:\u001b[0m\u001b[1;33m\u001b[0m\u001b[0m\n\u001b[1;32m--> 781\u001b[1;33m             \u001b[0mvariable\u001b[0m \u001b[1;33m=\u001b[0m \u001b[0mself\u001b[0m\u001b[1;33m.\u001b[0m\u001b[0m_variables\u001b[0m\u001b[1;33m[\u001b[0m\u001b[0mname\u001b[0m\u001b[1;33m]\u001b[0m\u001b[1;33m\u001b[0m\u001b[0m\n\u001b[0m\u001b[0;32m    782\u001b[0m         \u001b[1;32mexcept\u001b[0m \u001b[0mKeyError\u001b[0m\u001b[1;33m:\u001b[0m\u001b[1;33m\u001b[0m\u001b[0m\n",
      "\u001b[1;31mKeyError\u001b[0m: 'num_of_trials'",
      "\nDuring handling of the above exception, another exception occurred:\n",
      "\u001b[1;31mKeyError\u001b[0m                                  Traceback (most recent call last)",
      "\u001b[1;32m<ipython-input-146-6f9247ff7a85>\u001b[0m in \u001b[0;36m<module>\u001b[1;34m()\u001b[0m\n\u001b[1;32m----> 1\u001b[1;33m \u001b[0mds\u001b[0m\u001b[1;33m[\u001b[0m\u001b[1;34m'num_of_trials'\u001b[0m\u001b[1;33m]\u001b[0m  \u001b[1;31m# individual DataArrays can be dissimilar in shape\u001b[0m\u001b[1;33m\u001b[0m\u001b[0m\n\u001b[0m",
      "\u001b[1;32m~\\Miniconda3\\envs\\general\\lib\\site-packages\\xarray\\core\\dataset.py\u001b[0m in \u001b[0;36m__getitem__\u001b[1;34m(self, key)\u001b[0m\n\u001b[0;32m    873\u001b[0m \u001b[1;33m\u001b[0m\u001b[0m\n\u001b[0;32m    874\u001b[0m         \u001b[1;32mif\u001b[0m \u001b[0mhashable\u001b[0m\u001b[1;33m(\u001b[0m\u001b[0mkey\u001b[0m\u001b[1;33m)\u001b[0m\u001b[1;33m:\u001b[0m\u001b[1;33m\u001b[0m\u001b[0m\n\u001b[1;32m--> 875\u001b[1;33m             \u001b[1;32mreturn\u001b[0m \u001b[0mself\u001b[0m\u001b[1;33m.\u001b[0m\u001b[0m_construct_dataarray\u001b[0m\u001b[1;33m(\u001b[0m\u001b[0mkey\u001b[0m\u001b[1;33m)\u001b[0m\u001b[1;33m\u001b[0m\u001b[0m\n\u001b[0m\u001b[0;32m    876\u001b[0m         \u001b[1;32melse\u001b[0m\u001b[1;33m:\u001b[0m\u001b[1;33m\u001b[0m\u001b[0m\n\u001b[0;32m    877\u001b[0m             \u001b[1;32mreturn\u001b[0m \u001b[0mself\u001b[0m\u001b[1;33m.\u001b[0m\u001b[0m_copy_listed\u001b[0m\u001b[1;33m(\u001b[0m\u001b[0mnp\u001b[0m\u001b[1;33m.\u001b[0m\u001b[0masarray\u001b[0m\u001b[1;33m(\u001b[0m\u001b[0mkey\u001b[0m\u001b[1;33m)\u001b[0m\u001b[1;33m)\u001b[0m\u001b[1;33m\u001b[0m\u001b[0m\n",
      "\u001b[1;32m~\\Miniconda3\\envs\\general\\lib\\site-packages\\xarray\\core\\dataset.py\u001b[0m in \u001b[0;36m_construct_dataarray\u001b[1;34m(self, name)\u001b[0m\n\u001b[0;32m    782\u001b[0m         \u001b[1;32mexcept\u001b[0m \u001b[0mKeyError\u001b[0m\u001b[1;33m:\u001b[0m\u001b[1;33m\u001b[0m\u001b[0m\n\u001b[0;32m    783\u001b[0m             _, name, variable = _get_virtual_variable(\n\u001b[1;32m--> 784\u001b[1;33m                 self._variables, name, self._level_coords, self.dims)\n\u001b[0m\u001b[0;32m    785\u001b[0m \u001b[1;33m\u001b[0m\u001b[0m\n\u001b[0;32m    786\u001b[0m         \u001b[0mcoords\u001b[0m \u001b[1;33m=\u001b[0m \u001b[0mOrderedDict\u001b[0m\u001b[1;33m(\u001b[0m\u001b[1;33m)\u001b[0m\u001b[1;33m\u001b[0m\u001b[0m\n",
      "\u001b[1;32m~\\Miniconda3\\envs\\general\\lib\\site-packages\\xarray\\core\\dataset.py\u001b[0m in \u001b[0;36m_get_virtual_variable\u001b[1;34m(variables, key, level_vars, dim_sizes)\u001b[0m\n\u001b[0;32m     76\u001b[0m         \u001b[0mref_var\u001b[0m \u001b[1;33m=\u001b[0m \u001b[0mdim_var\u001b[0m\u001b[1;33m.\u001b[0m\u001b[0mto_index_variable\u001b[0m\u001b[1;33m(\u001b[0m\u001b[1;33m)\u001b[0m\u001b[1;33m.\u001b[0m\u001b[0mget_level_variable\u001b[0m\u001b[1;33m(\u001b[0m\u001b[0mref_name\u001b[0m\u001b[1;33m)\u001b[0m\u001b[1;33m\u001b[0m\u001b[0m\n\u001b[0;32m     77\u001b[0m     \u001b[1;32melse\u001b[0m\u001b[1;33m:\u001b[0m\u001b[1;33m\u001b[0m\u001b[0m\n\u001b[1;32m---> 78\u001b[1;33m         \u001b[0mref_var\u001b[0m \u001b[1;33m=\u001b[0m \u001b[0mvariables\u001b[0m\u001b[1;33m[\u001b[0m\u001b[0mref_name\u001b[0m\u001b[1;33m]\u001b[0m\u001b[1;33m\u001b[0m\u001b[0m\n\u001b[0m\u001b[0;32m     79\u001b[0m \u001b[1;33m\u001b[0m\u001b[0m\n\u001b[0;32m     80\u001b[0m     \u001b[1;32mif\u001b[0m \u001b[0mvar_name\u001b[0m \u001b[1;32mis\u001b[0m \u001b[1;32mNone\u001b[0m\u001b[1;33m:\u001b[0m\u001b[1;33m\u001b[0m\u001b[0m\n",
      "\u001b[1;31mKeyError\u001b[0m: 'num_of_trials'"
     ]
    }
   ],
   "source": [
    "ds['num_of_trials']  # individual DataArrays can be dissimilar in shape"
   ]
  },
  {
   "cell_type": "markdown",
   "metadata": {},
   "source": [
    "## Exercise"
   ]
  },
  {
   "cell_type": "markdown",
   "metadata": {},
   "source": [
    "You're measuring the potential of neurons in a rat's brain over time using a multi-electrode array surgically inserted into the rat's skull. The experiment is 5 seconds long, and after 2 seconds a short bright light is flashed at the animal. After 30 seconds the experiment is replicated, for a total of 10 repetitions. The relevant parameters are the following:\n",
    "- Rat ID.\n",
    "- Room temp.\n",
    "- Room humidity.\n",
    "- Experimenter name.\n",
    "- Rat gender.\n",
    "- Measured voltage (64 electrode, 50k samples representing 5 seconds).\n",
    "- Stimulus index (1 when the flash of light occurred).\n",
    "- Repetition number.\n",
    "\n",
    "Mock data and model it. You'll use this model for your homework as well, where we will expand and work with it further, so try to build good foundations."
   ]
  },
  {
   "cell_type": "markdown",
   "metadata": {},
   "source": [
    "### No exercise solution due to HW assignment"
   ]
  }
 ],
 "metadata": {
  "anaconda-cloud": {},
  "kernelspec": {
   "display_name": "Python [conda env:general]",
   "language": "python",
   "name": "conda-env-general-py"
  },
  "language_info": {
   "codemirror_mode": {
    "name": "ipython",
    "version": 3
   },
   "file_extension": ".py",
   "mimetype": "text/x-python",
   "name": "python",
   "nbconvert_exporter": "python",
   "pygments_lexer": "ipython3",
   "version": "3.6.4"
  }
 },
 "nbformat": 4,
 "nbformat_minor": 2
}
