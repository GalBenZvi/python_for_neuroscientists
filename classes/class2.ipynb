{
 "cells": [
  {
   "cell_type": "markdown",
   "metadata": {
    "slideshow": {
     "slide_type": "slide"
    }
   },
   "source": [
    "# Class 2 - 11.3.18\n"
   ]
  },
  {
   "cell_type": "markdown",
   "metadata": {
    "slideshow": {
     "slide_type": "subslide"
    }
   },
   "source": [
    "## Conditionals and Iteration"
   ]
  },
  {
   "cell_type": "markdown",
   "metadata": {
    "slideshow": {
     "slide_type": "subslide"
    }
   },
   "source": [
    "Even though you've learned it by yourself in the first class and while doing homework, we'll go through these subjects (quickly) one more time, for the sake of completeness."
   ]
  },
  {
   "cell_type": "markdown",
   "metadata": {
    "slideshow": {
     "slide_type": "subslide"
    }
   },
   "source": [
    "### The `if` Statement"
   ]
  },
  {
   "cell_type": "code",
   "execution_count": 1,
   "metadata": {
    "slideshow": {
     "slide_type": "subslide"
    }
   },
   "outputs": [],
   "source": [
    "# Notice the indentation and colon\n",
    "x = 10\n",
    "if x > 10:\n",
    "    print(\"x is bigger than 10\")"
   ]
  },
  {
   "cell_type": "code",
   "execution_count": 2,
   "metadata": {
    "slideshow": {
     "slide_type": "subslide"
    }
   },
   "outputs": [
    {
     "name": "stdout",
     "output_type": "stream",
     "text": [
      "y\n"
     ]
    }
   ],
   "source": [
    "y = 11\n",
    "if x > y:\n",
    "    print(\"x\")\n",
    "else:\n",
    "    print(\"y\")"
   ]
  },
  {
   "cell_type": "code",
   "execution_count": 3,
   "metadata": {
    "slideshow": {
     "slide_type": "subslide"
    }
   },
   "outputs": [],
   "source": [
    "# Chained conditionals\n",
    "z = 12\n",
    "if x > y:\n",
    "    print(\"x\")\n",
    "elif x > z:\n",
    "    print(\"x > z\")\n",
    "elif z < y:\n",
    "    print(\"z is small\")\n",
    "    if z < x:\n",
    "        print(\"wow, z IS small\")\n",
    "# No need for else"
   ]
  },
  {
   "cell_type": "markdown",
   "metadata": {
    "slideshow": {
     "slide_type": "subslide"
    }
   },
   "source": [
    "### Iteration\n",
    "One of Python's strongest features."
   ]
  },
  {
   "cell_type": "markdown",
   "metadata": {
    "slideshow": {
     "slide_type": "subslide"
    }
   },
   "source": [
    "#### How would one loop in other programming languages? Let's examine MATLAB:\n",
    "\n",
    "\n",
    "```matlab\n",
    "% Sum all items in array\n",
    "data = [10, 20, 30];\n",
    "result = 0;\n",
    "for idx = 1:size(data, 1)\n",
    "    result = result + data;\n",
    "end\n",
    "```\n",
    "    \n"
   ]
  },
  {
   "cell_type": "code",
   "execution_count": 4,
   "metadata": {
    "slideshow": {
     "slide_type": "subslide"
    }
   },
   "outputs": [
    {
     "name": "stdout",
     "output_type": "stream",
     "text": [
      "10\n",
      "20\n",
      "30\n",
      "The result is: 60\n"
     ]
    }
   ],
   "source": [
    "# In Python we can iterate over the values themselves\n",
    "data = [10, 20, 30]\n",
    "result = 0\n",
    "for value in data:\n",
    "    print(value)\n",
    "    result += value\n",
    "\n",
    "print(\"The result is:\", result)\n",
    "\n",
    "# We iterate over the values with the \"in\" operator."
   ]
  },
  {
   "cell_type": "code",
   "execution_count": 5,
   "metadata": {
    "slideshow": {
     "slide_type": "subslide"
    }
   },
   "outputs": [
    {
     "name": "stdout",
     "output_type": "stream",
     "text": [
      "60\n"
     ]
    }
   ],
   "source": [
    "# Of course we can iterate over indices\n",
    "indices = [0, 1, 2]  # 0-based indexing\n",
    "data = [10, 20, 30]\n",
    "result = 0\n",
    "for idx in indices:\n",
    "    result += data[idx]\n",
    "print(result)"
   ]
  },
  {
   "cell_type": "code",
   "execution_count": 6,
   "metadata": {
    "slideshow": {
     "slide_type": "subslide"
    }
   },
   "outputs": [
    {
     "name": "stdout",
     "output_type": "stream",
     "text": [
      "0\n",
      "1\n",
      "2\n",
      "3\n",
      "4\n",
      "5\n",
      "6\n",
      "7\n",
      "8\n",
      "9\n"
     ]
    },
    {
     "data": {
      "text/plain": [
       "range(0, 10000000)"
      ]
     },
     "execution_count": 6,
     "metadata": {},
     "output_type": "execute_result"
    }
   ],
   "source": [
    "# In some cases you really do need to use indices. In these cases, the range() function is your friend.\n",
    "for i in range(10):\n",
    "    print(i)\n",
    "\n",
    "# Range is a \"generator\" (well, kinda), which means that it doesn't create the actual \n",
    "# list of items when it's called - only when iterated over.\n",
    "# We'll discuss generators at a later stage of our course.\n",
    "range(10000000)  # requires nearly 0 memory"
   ]
  },
  {
   "cell_type": "code",
   "execution_count": 7,
   "metadata": {
    "slideshow": {
     "slide_type": "subslide"
    }
   },
   "outputs": [
    {
     "data": {
      "text/plain": [
       "[1, 3, 5, 7, 9]"
      ]
     },
     "execution_count": 7,
     "metadata": {},
     "output_type": "execute_result"
    }
   ],
   "source": [
    "# Range has a start, stop and step arguments\n",
    "list(range(1, 10, 2))"
   ]
  },
  {
   "cell_type": "code",
   "execution_count": 8,
   "metadata": {
    "slideshow": {
     "slide_type": "subslide"
    }
   },
   "outputs": [
    {
     "name": "stdout",
     "output_type": "stream",
     "text": [
      "1\n",
      "2\n",
      "True\n",
      "3.0\n",
      "four\n",
      "--------\n",
      "a\n",
      "b\n",
      "c\n",
      "d\n",
      "e\n",
      "f\n"
     ]
    }
   ],
   "source": [
    "# We can iterate over nearly anything - two examples follow:\n",
    "tup = (1, 2, True, 3.0, 'four')\n",
    "for item in tup:\n",
    "    print(item)\n",
    "\n",
    "print('--------')\n",
    "string = \"abcdef\"\n",
    "for letter in string:\n",
    "    print(letter)"
   ]
  },
  {
   "cell_type": "code",
   "execution_count": 9,
   "metadata": {
    "slideshow": {
     "slide_type": "subslide"
    }
   },
   "outputs": [
    {
     "name": "stdout",
     "output_type": "stream",
     "text": [
      "The index of the item 1 is 0\n",
      "The index of the item 2 is 1\n",
      "The index of the item True is 2\n",
      "The index of the item 3.0 is 3\n",
      "The index of the item four is 4\n"
     ]
    }
   ],
   "source": [
    "# Getting both the index and the value of some sequence is done using the \"enumerate\" keyword:\n",
    "tup = (1, 2, True, 3.0, 'four')\n",
    "for index, item in enumerate(tup):\n",
    "    print(\"The index of the item %s is %d\" %(item, index))\n",
    "    "
   ]
  },
  {
   "cell_type": "code",
   "execution_count": 10,
   "metadata": {
    "slideshow": {
     "slide_type": "subslide"
    }
   },
   "outputs": [
    {
     "name": "stdout",
     "output_type": "stream",
     "text": [
      "a\n",
      "e\n",
      "ed\n"
     ]
    }
   ],
   "source": [
    "# By the way, it means that strings are also sliceable\n",
    "string = 'abcde'\n",
    "print(string[0])\n",
    "print(string[-1])\n",
    "print(string[-1:-3:-1])"
   ]
  },
  {
   "cell_type": "code",
   "execution_count": 11,
   "metadata": {
    "slideshow": {
     "slide_type": "subslide"
    }
   },
   "outputs": [
    {
     "name": "stdout",
     "output_type": "stream",
     "text": [
      "Key iteration:\n",
      "a\n",
      "b\n",
      "c\n",
      "-----\n",
      "Value iteration:\n",
      "1\n",
      "2\n",
      "3\n",
      "-----\n",
      "Pairs iteration:\n",
      "a 1\n",
      "b 2\n",
      "c 3\n"
     ]
    }
   ],
   "source": [
    "# Dictionary iteration - the default is over the keys\n",
    "print('Key iteration:')\n",
    "dict1 = {'a': 1, 'b': 2, 'c': 3}\n",
    "for key in dict1:\n",
    "    print(key)\n",
    "    \n",
    "print('-----')\n",
    "print('Value iteration:')\n",
    "# If you wish to iterate over the values you have to be explicit:\n",
    "for val in dict1.values():\n",
    "    print(val)\n",
    "\n",
    "print('-----')\n",
    "print('Pairs iteration:')\n",
    "# Iterating over the pair is also easy:\n",
    "for key, val in dict1.items():\n",
    "    print(key, val)"
   ]
  },
  {
   "cell_type": "markdown",
   "metadata": {
    "slideshow": {
     "slide_type": "subslide"
    }
   },
   "source": [
    "### While Loop"
   ]
  },
  {
   "cell_type": "code",
   "execution_count": 12,
   "metadata": {
    "slideshow": {
     "slide_type": "subslide"
    }
   },
   "outputs": [],
   "source": [
    "def countdown(n):\n",
    "    \"\"\" Explodes a bomb when n is zero. \"\"\"\n",
    "    while n > 0:\n",
    "        print(\"{}...\".format(n))\n",
    "        n = n - 1\n",
    "    print(\"BOOM!\")\n",
    "    return True"
   ]
  },
  {
   "cell_type": "code",
   "execution_count": 13,
   "metadata": {
    "slideshow": {
     "slide_type": "subslide"
    }
   },
   "outputs": [
    {
     "name": "stdout",
     "output_type": "stream",
     "text": [
      "10...\n",
      "9...\n",
      "8...\n",
      "7...\n",
      "6...\n",
      "5...\n",
      "4...\n",
      "3...\n",
      "2...\n",
      "1...\n",
      "BOOM!\n",
      "True\n"
     ]
    }
   ],
   "source": [
    "n = 10\n",
    "val = countdown(n)\n",
    "\n",
    "print(val)"
   ]
  },
  {
   "cell_type": "code",
   "execution_count": 14,
   "metadata": {
    "slideshow": {
     "slide_type": "subslide"
    }
   },
   "outputs": [
    {
     "name": "stdout",
     "output_type": "stream",
     "text": [
      "Still 1...\n",
      "Still 1...\n",
      "Still 1...\n",
      "4.0\n"
     ]
    }
   ],
   "source": [
    "# Stopping a loop is done with break\n",
    "data = [1., 1., 1., 4.,]\n",
    "for datum in data:\n",
    "    if datum != 1.:\n",
    "        print(datum)\n",
    "        break\n",
    "    print(\"Still 1...\")"
   ]
  },
  {
   "cell_type": "markdown",
   "metadata": {
    "slideshow": {
     "slide_type": "slide"
    }
   },
   "source": [
    "## Formatting\n",
    "\n",
    "We can print together variables and text in several different manners:"
   ]
  },
  {
   "cell_type": "code",
   "execution_count": 15,
   "metadata": {
    "slideshow": {
     "slide_type": "subslide"
    }
   },
   "outputs": [
    {
     "name": "stdout",
     "output_type": "stream",
     "text": [
      "The value of a is 42\n"
     ]
    }
   ],
   "source": [
    "# Not recommended as it doesn't allow for customizations\n",
    "a = 42\n",
    "print(\"The value of a is\", a)"
   ]
  },
  {
   "cell_type": "code",
   "execution_count": 16,
   "metadata": {
    "slideshow": {
     "slide_type": "subslide"
    }
   },
   "outputs": [
    {
     "name": "stdout",
     "output_type": "stream",
     "text": [
      "The value of a is 42, while the value of b is 32\n"
     ]
    }
   ],
   "source": [
    "# Older version, similar to other languages\n",
    "a = 42\n",
    "b = 32\n",
    "print(\"The value of a is %d, while the value of b is %d\" % (a, b))"
   ]
  },
  {
   "cell_type": "code",
   "execution_count": 17,
   "metadata": {
    "slideshow": {
     "slide_type": "subslide"
    }
   },
   "outputs": [
    {
     "name": "stdout",
     "output_type": "stream",
     "text": [
      "The value of a is 42, while the value of b is 32\n"
     ]
    }
   ],
   "source": [
    "# A decent option\n",
    "a = 42\n",
    "b = 32\n",
    "print(\"The value of a is {}, while the value of b is {}\".format(a, b))"
   ]
  },
  {
   "cell_type": "code",
   "execution_count": 18,
   "metadata": {
    "slideshow": {
     "slide_type": "subslide"
    }
   },
   "outputs": [
    {
     "name": "stdout",
     "output_type": "stream",
     "text": [
      "The value of a is 42, while the value of b is not 33.\n"
     ]
    }
   ],
   "source": [
    "# Only for Python 3.6+ - but it's pretty cool. It's called f-strings\n",
    "a = 42\n",
    "b = 32\n",
    "print(f\"The value of a is {a}, while the value of b is not {b + 1}.\")\n",
    "# You can write any expression you'd like inside the curly brackets."
   ]
  },
  {
   "cell_type": "markdown",
   "metadata": {
    "slideshow": {
     "slide_type": "subslide"
    }
   },
   "source": [
    "Throughout the course you'll see me using mostly the f-string option, which is the most readable assuming you only work on Python 3.6+."
   ]
  },
  {
   "cell_type": "markdown",
   "metadata": {
    "slideshow": {
     "slide_type": "slide"
    }
   },
   "source": [
    "## Comprehensions"
   ]
  },
  {
   "cell_type": "markdown",
   "metadata": {
    "slideshow": {
     "slide_type": "subslide"
    }
   },
   "source": [
    "If you're still not convinced on this whole Python business, comprehensions might be the thing that will flip you to the good side. Comprehensions are a different way to create lists and other iterables. It's usually faster and more readable than the alternatives.\n",
    "\n",
    "Let's observe the different implementation options we have:"
   ]
  },
  {
   "cell_type": "code",
   "execution_count": 19,
   "metadata": {
    "slideshow": {
     "slide_type": "subslide"
    }
   },
   "outputs": [
    {
     "name": "stdout",
     "output_type": "stream",
     "text": [
      "[0, 1, 4, 9, 16, 25, 36, 49, 64, 81]\n"
     ]
    }
   ],
   "source": [
    "# Populate the list the usual way\n",
    "squares = []\n",
    "for item in range(10):\n",
    "    squares.append(item ** 2)\n",
    "    \n",
    "print(squares)"
   ]
  },
  {
   "cell_type": "code",
   "execution_count": 20,
   "metadata": {
    "slideshow": {
     "slide_type": "subslide"
    }
   },
   "outputs": [
    {
     "name": "stdout",
     "output_type": "stream",
     "text": [
      "[0, 1, 4, 9, 16, 25, 36, 49, 64, 81]\n"
     ]
    }
   ],
   "source": [
    "# A classic Python one-liner - list comprehension\n",
    "squares = [x ** 2 for x in range(10)]\n",
    "\n",
    "print(squares)"
   ]
  },
  {
   "cell_type": "markdown",
   "metadata": {
    "slideshow": {
     "slide_type": "subslide"
    }
   },
   "source": [
    "This amazing piece of software iterates of the range with the variable `x`, and places its square inside a list, which is then allocated to the `squares` variable.\n",
    "\n",
    "What other goodies do comprehensions allow? Filtering."
   ]
  },
  {
   "cell_type": "code",
   "execution_count": 21,
   "metadata": {
    "slideshow": {
     "slide_type": "subslide"
    }
   },
   "outputs": [
    {
     "name": "stdout",
     "output_type": "stream",
     "text": [
      "[0, 1, 4, 9, 16, 25, 36, 49, 81]\n"
     ]
    }
   ],
   "source": [
    "squares = [x ** 2 for x in range(10) if x != 8]\n",
    "\n",
    "print(squares)"
   ]
  },
  {
   "cell_type": "markdown",
   "metadata": {
    "slideshow": {
     "slide_type": "subslide"
    }
   },
   "source": [
    "The `if` statement is evaluated on each iteration of `x`. Notice how similar to English this expression is?\n",
    "\n",
    "Funnily enough, performance isn't hindered:"
   ]
  },
  {
   "cell_type": "code",
   "execution_count": 22,
   "metadata": {
    "slideshow": {
     "slide_type": "subslide"
    }
   },
   "outputs": [
    {
     "name": "stdout",
     "output_type": "stream",
     "text": [
      "55.6 µs ± 6.63 µs per loop (mean ± std. dev. of 7 runs, 10000 loops each)\n"
     ]
    }
   ],
   "source": [
    "%timeit squares = [x ** 2 for x in range(100) if x != 8]"
   ]
  },
  {
   "cell_type": "code",
   "execution_count": 23,
   "metadata": {
    "slideshow": {
     "slide_type": "subslide"
    }
   },
   "outputs": [
    {
     "name": "stdout",
     "output_type": "stream",
     "text": [
      "60.4 µs ± 4.02 µs per loop (mean ± std. dev. of 7 runs, 10000 loops each)\n"
     ]
    }
   ],
   "source": [
    "%%timeit\n",
    "squares = []\n",
    "for item in range(100):\n",
    "    if item != 8:\n",
    "        squares.append(item ** 2)"
   ]
  },
  {
   "cell_type": "code",
   "execution_count": 24,
   "metadata": {
    "slideshow": {
     "slide_type": "subslide"
    }
   },
   "outputs": [
    {
     "name": "stdout",
     "output_type": "stream",
     "text": [
      "['B', 'C', 'D', 'F', 'G', 'H', 'J']\n"
     ]
    }
   ],
   "source": [
    "# Another example\n",
    "strings = [cons.upper() for cons in 'abcdefghij' if cons not in 'aeiou']\n",
    "\n",
    "print(strings)"
   ]
  },
  {
   "cell_type": "markdown",
   "metadata": {
    "slideshow": {
     "slide_type": "subslide"
    }
   },
   "source": [
    "Happily enough, comprehensions aren't limited to lists. You can also comprehend dictionaries:"
   ]
  },
  {
   "cell_type": "code",
   "execution_count": 25,
   "metadata": {
    "slideshow": {
     "slide_type": "subslide"
    }
   },
   "outputs": [
    {
     "name": "stdout",
     "output_type": "stream",
     "text": [
      "{'a': 1, 'b': 2, 'd': 4, 'e': 5}\n"
     ]
    }
   ],
   "source": [
    "keys = 'abcde'\n",
    "vals = [1, 2, 3, 4, 5]\n",
    "dic = {key: val for key, val in zip(keys, vals) if key is not 'c'}\n",
    "\n",
    "print(dic)"
   ]
  },
  {
   "cell_type": "code",
   "execution_count": 26,
   "metadata": {
    "slideshow": {
     "slide_type": "subslide"
    }
   },
   "outputs": [
    {
     "name": "stdout",
     "output_type": "stream",
     "text": [
      "{1, 5, 6, 7}\n"
     ]
    }
   ],
   "source": [
    "# And sets\n",
    "se = {item for item in [1, 1, 1, 5, 6, 7, 7]}\n",
    "\n",
    "print(se)"
   ]
  },
  {
   "cell_type": "markdown",
   "metadata": {
    "slideshow": {
     "slide_type": "subslide"
    }
   },
   "source": [
    "Lastly, list comprehensions can iterate over more than one iterable:"
   ]
  },
  {
   "cell_type": "code",
   "execution_count": 27,
   "metadata": {
    "slideshow": {
     "slide_type": "subslide"
    }
   },
   "outputs": [
    {
     "name": "stdout",
     "output_type": "stream",
     "text": [
      "[10, 11, 12, 13, 14, 15, 16, 17, 18, 19, 11, 12, 13, 14, 15, 16, 17, 18, 19, 20, 12, 13, 14, 15, 16, 17, 18, 19, 20, 21, 13, 14, 15, 16, 17, 18, 19, 20, 21, 22, 14, 15, 16, 17, 18, 19, 20, 21, 22, 23, 15, 16, 17, 18, 19, 20, 21, 22, 23, 24, 16, 17, 18, 19, 20, 21, 22, 23, 24, 25, 17, 18, 19, 20, 21, 22, 23, 24, 25, 26, 18, 19, 20, 21, 22, 23, 24, 25, 26, 27, 19, 20, 21, 22, 23, 24, 25, 26, 27, 28]\n"
     ]
    }
   ],
   "source": [
    "summed_list = [a + b for a in range(10) for b in range(10, 20)]\n",
    "\n",
    "# Identical to:\n",
    "\"\"\"\n",
    "summed_list = []\n",
    "for a in range(10):\n",
    "    for b in range(10, 20):\n",
    "        summed_list.append(a + b)\n",
    "\"\"\"\n",
    "print(summed_list)"
   ]
  },
  {
   "cell_type": "markdown",
   "metadata": {
    "slideshow": {
     "slide_type": "subslide"
    }
   },
   "source": [
    "Once your eyes and brains are used to looking at comprehensions, they're the most \"natural\" way to iterate over iterables. Their brevity on the one hand, and readability on the other, are their most important features. That's why comprehension are very encouraged when writing true \"Pythonic\" code."
   ]
  },
  {
   "cell_type": "markdown",
   "metadata": {
    "slideshow": {
     "slide_type": "slide"
    }
   },
   "source": [
    "# Version Control"
   ]
  },
  {
   "cell_type": "markdown",
   "metadata": {
    "slideshow": {
     "slide_type": "slide"
    }
   },
   "source": [
    "## Introduction"
   ]
  },
  {
   "cell_type": "markdown",
   "metadata": {
    "slideshow": {
     "slide_type": "subslide"
    }
   },
   "source": [
    "Version control is the active management of the history of your source code. It is an essential part of every developers' work cycle, for both small and large projects.\n",
    "\n",
    "With version control, in any point in time during the work on your code you can decide to \"commit\" the change. Committing your code means that the system will remember the current state of your work (all files in a folder), and will allow you to return to this exact state of your codebase whenever you wish."
   ]
  },
  {
   "cell_type": "markdown",
   "metadata": {
    "slideshow": {
     "slide_type": "subslide"
    }
   },
   "source": [
    "Using version control is orthogonal to the traditional save operation. Saving records the current state of your codebase, but usually doesn't allow you to \"go back in time\" to previous versions.\n",
    "\n",
    "This property is useful in many occasions. For example, if you have a working version of some function, but you wish to make it better - add a feature, or change its internal structure (refactoring). Version control allows you to record this point in time - when you have a good, functioning function - and change the working copy of the function however you'd like. If you fail to refactor the function you can simply jump back to the latest working version."
   ]
  },
  {
   "cell_type": "markdown",
   "metadata": {
    "slideshow": {
     "slide_type": "subslide"
    }
   },
   "source": [
    "There are many version control applications, but the most popular one is Git, developed by Linus Torvald (the Linux guy) in the early 2000's. In this course we'll be using Git with GitHub.com - an online backup site for your code.\n",
    "\n",
    "There are numerous great Git and GitHub tutorials ([here's one](https://github.com/pluralsight/git-internals-pdf)), but for our course we'll be using only the most basic features of Git and GitHub, so going through all features and intricacies of the software is unnecessary. `PythonSetup.md` contains instructions on how to setup Git and GitHub, which should be enough for homework submission."
   ]
  },
  {
   "cell_type": "markdown",
   "metadata": {
    "slideshow": {
     "slide_type": "slide"
    }
   },
   "source": [
    "## A Simple Walkthrough"
   ]
  },
  {
   "cell_type": "markdown",
   "metadata": {
    "slideshow": {
     "slide_type": "subslide"
    }
   },
   "source": [
    "Assume I have a directory that I wish to track with Git:\n",
    "- /home/\n",
    "    - my_proj/\n",
    "        - src/\n",
    "            - `__init__.py`\n",
    "            - `class1.py`\n",
    "            - `class2.py`\n",
    "        - README.md\n",
    "    - etc/\n",
    "    - etc2/\n",
    "\n",
    "Git is run to the command line. Navigate (in the command line) to the `my_proj` folder (using `cd`) and write `git init`. This signifies that the current folder should be tracked by Git."
   ]
  },
  {
   "cell_type": "markdown",
   "metadata": {
    "slideshow": {
     "slide_type": "subslide"
    }
   },
   "source": [
    "Next I wish to tell Git which files to track, which is called \"adding the files\". I can either name all specific files inside `my_proj`, or just write `git add .`. The dot means \"the entire folder\".\n",
    "\n",
    "Now git remembers that inside the `my_proj` folder, all files should be tracked."
   ]
  },
  {
   "cell_type": "markdown",
   "metadata": {
    "slideshow": {
     "slide_type": "subslide"
    }
   },
   "source": [
    "Finally I wish to commit the initial state of my repository (repo). To do so I write `git commit -m \"Initial commit\"`.\n",
    "\n",
    "The flag `-m` is the commit message - it should signify what has changed in this commit since the last one."
   ]
  },
  {
   "cell_type": "markdown",
   "metadata": {
    "slideshow": {
     "slide_type": "subslide"
    }
   },
   "source": [
    "If you create new files, you have to remember to add the with `git add new_file.py`, otherwise they won't be tracked and committed. \n",
    "\n",
    "This created a local repo in our computer. If the whole folder is erased our backups and commit history go away with it as well. \n",
    "\n",
    "To make an online backup for a repository you use `git push`. I won't go over it right now, but `HW1.md` has instructions about it, and you can also ask me if there's anything unclear. Since GitHub is the only available way to submit homework in this course, learning how to push commits is essentially mandatory :)"
   ]
  },
  {
   "cell_type": "markdown",
   "metadata": {
    "slideshow": {
     "slide_type": "slide"
    }
   },
   "source": [
    "# The Python Stack"
   ]
  },
  {
   "cell_type": "markdown",
   "metadata": {
    "slideshow": {
     "slide_type": "slide"
    }
   },
   "source": [
    "## How to Run Python?"
   ]
  },
  {
   "cell_type": "markdown",
   "metadata": {
    "slideshow": {
     "slide_type": "subslide"
    }
   },
   "source": [
    "### How does Matlab do it?\n",
    "\n",
    "MATLAB has its excellent application GUI which essentially everyone uses all the time.\n",
    "\n",
    "But all interpreted programming languages, including Python and MATLAB, can be run from the command line. \n",
    "\n",
    "In the case of MATLAB, though, rarely do you see people running it from the command line:\n",
    "\n",
    "![MATLAB from the CL](matlab_cl.png)"
   ]
  },
  {
   "cell_type": "markdown",
   "metadata": {
    "slideshow": {
     "slide_type": "subslide"
    }
   },
   "source": [
    "It's obviously possible, but less comfortable than the standard GUI we all know.\n",
    "\n",
    "If all you wish to do is run a MATLAB `.m` file, you can also do it from the command line by simply writing `matlab -r myfile.m`. "
   ]
  },
  {
   "cell_type": "markdown",
   "metadata": {
    "slideshow": {
     "slide_type": "subslide"
    }
   },
   "source": [
    "### Python is very similar\n",
    "Just like MATLAB, the quickest option to run Python is from the command line, by simply writing `python`:\n",
    "\n",
    "![Python CL](python_cl.png)\n",
    "\n",
    "Running Python scripts, like `myfile.py`, is as easy as `python myfile.py`."
   ]
  },
  {
   "cell_type": "markdown",
   "metadata": {
    "slideshow": {
     "slide_type": "subslide"
    }
   },
   "source": [
    "### Python \"GUI\"\n",
    "\n",
    "However, more often than not we wish to both write a script, experiment with it a little, and then run it, just as some of us are used to do from the MATLAB environment. Python, being non-propietary, has several similar solutions that go by the general name IDE - integrated development enviornment."
   ]
  },
  {
   "cell_type": "markdown",
   "metadata": {
    "slideshow": {
     "slide_type": "subslide"
    }
   },
   "source": [
    "### Spyder\n",
    "Spyder is an open-source science-oriented IDE that was designed with MATLAB's GUI in mind. It contains many similar functions and might look very similar in a short glance:\n",
    "\n",
    "![Spyder IDE](spyder.png)\n",
    "\n",
    "Unfortunately, Spyder's main financial support was cut off in November 2017. It's still in active development, but on a much slower pace, and its future is unclear at the moment."
   ]
  },
  {
   "cell_type": "markdown",
   "metadata": {
    "slideshow": {
     "slide_type": "subslide"
    }
   },
   "source": [
    "### PyCharm\n",
    "PyCharm is a full-blown IDE which contains many advanced features that any modern IDE has, like refactoring capabilities, testing suites and more. It has a free community edition, and a paid proffessional edition - which is actually free for poor students like us:\n",
    "\n",
    "![PyCharm IDE](pycharm.jpg)"
   ]
  },
  {
   "cell_type": "markdown",
   "metadata": {
    "slideshow": {
     "slide_type": "subslide"
    }
   },
   "source": [
    "### Visual Studio Code\n",
    "VSCode is a free, open-source editor for nearly all existing programming languages. It doesn't have all features that PyCharm has, but it's great nonetheless. The fact that it's a light-weight editor is an advantage for some.\n",
    "\n",
    "![VS Code](vs_code.jpg)"
   ]
  },
  {
   "cell_type": "markdown",
   "metadata": {
    "slideshow": {
     "slide_type": "subslide"
    }
   },
   "source": [
    "### Jupyter Notebook\n",
    "While not technically an IDE, Jupyter is designed with data exploration in mind. It's less suited for writing long, complex application, but great when it comes for a quick \"plot-n-go\" on some data you recently acquired."
   ]
  },
  {
   "cell_type": "markdown",
   "metadata": {
    "slideshow": {
     "slide_type": "subslide"
    }
   },
   "source": [
    "### What's Best?\n",
    "There's no __best__ option, but in broad strokes:\n",
    "* When you wish to do something \"quick-and-dirty\", you should probably use Jupyter. This can be thought of as the stand-in replacement for \"smart\" Excel spreadsheets.\n",
    "* For more complicated analysis scripts I prefer PyCharm, which grants you with handier tools than either Spyder or VS Code. But if you can't resist the urge to use something MATLAB-like, go for Spyder, it's a great piece of software."
   ]
  },
  {
   "cell_type": "markdown",
   "metadata": {
    "slideshow": {
     "slide_type": "slide"
    }
   },
   "source": [
    "## Environments"
   ]
  },
  {
   "cell_type": "markdown",
   "metadata": {
    "slideshow": {
     "slide_type": "subslide"
    }
   },
   "source": [
    "Environments are the Pythonian solution to the \"path\" problem of MATLAB and other languages.\n",
    "\n",
    "The basic idea is that every Python project you have has an isolated environment, in which it resides. This environment contains a Python interpreter and libraries that are needed for that specific project, but aren't necessarily required by other projects. "
   ]
  },
  {
   "cell_type": "markdown",
   "metadata": {
    "slideshow": {
     "slide_type": "subslide"
    }
   },
   "source": [
    "While it might not seem _that_ important at first, when your project has multiple dependencies on other libraries, asserting compatibility between all components become tricky. This point will be much clearer as the course progresses, so in the mean time just stick with me."
   ]
  },
  {
   "cell_type": "markdown",
   "metadata": {
    "slideshow": {
     "slide_type": "subslide"
    }
   },
   "source": [
    "Your different Python environments are managed by a package manager, and the best one (as of early 2018) is `conda`, by Anaconda Inc. (previously Continuum Analytics). conda has two versions, and we'll be working with the slimmer Miniconda distribution (for Python 3.6), as explained in `PythonSetup.md`."
   ]
  },
  {
   "cell_type": "markdown",
   "metadata": {
    "slideshow": {
     "slide_type": "subslide"
    }
   },
   "source": [
    "### How to create an environment?\n",
    "\n",
    "After you've installed Miniconda and added it to your path, write in the command-line `conda create --name my_env python=3.6`. This creates a new Python interpreter named `my_env`. To make sure we're working with this specific interpreter, we have to activate the environment:\n",
    "`activate my_env`. In Mac\\Linux, we write `source activate my_env`.\n",
    "\n",
    "From now on, until we write `deactivate` (or `source deactivate`), all Python-related operations will be performed with the `my_env` interpreter in mind. If we have other environments they will not be affected by any change made as long as `my_env` is active. We can also define environment variables which will obviously be specific to this environment alone."
   ]
  },
  {
   "cell_type": "markdown",
   "metadata": {
    "slideshow": {
     "slide_type": "subslide"
    }
   },
   "source": [
    "For our class you should probably create one environment for the entire semester. While I can't really verify that you're indeed working with environments, I promise you that it's a very useful habit that will save you a great amount of trouble later on, probably without you even noticing it."
   ]
  },
  {
   "cell_type": "markdown",
   "metadata": {
    "slideshow": {
     "slide_type": "subslide"
    }
   },
   "source": [
    "### Exercise\n",
    "\n",
    "- Create a new environment in your computer.\n",
    "- Create a new folder that will contain a mock Python project, and make this folder a version-controlled one.\n",
    "- Add a couple of `.py` files and add to them to the list of tracked files.\n",
    "- In one of these `.py` files we'll try out list comprehensions:\n",
    "    - A Cartesian product is the list of all combinations of two, or more, sequences. For example, the product of `AB` and `abc` is `Aa, Ab, Ac, Ba, Bb, Bc`. \n",
    "    - Using a nested for loop, print out a list of tuples of the Cartesian product of `ABC` and `abcd`. \n",
    "    - Using list comprehension print out the exact same output.\n",
    "    \n",
    "- Assuming this project will contain raw `.tif` data, add a `.gitignore` file that disregards the raw data.\n",
    "- Add an MIT license to the repo, and a basic `README.md`.\n",
    "- Publish this project to your GitHub account.\n",
    "- If you already have VS Code or PyCharm on your computer, make sure you know how to link these programs to this specific environment."
   ]
  },
  {
   "cell_type": "markdown",
   "metadata": {
    "slideshow": {
     "slide_type": "subslide"
    }
   },
   "source": [
    "### Exercise solution below..."
   ]
  },
  {
   "cell_type": "code",
   "execution_count": 28,
   "metadata": {
    "slideshow": {
     "slide_type": "subslide"
    }
   },
   "outputs": [
    {
     "name": "stdout",
     "output_type": "stream",
     "text": [
      "For loop solution: [('A', 'a'), ('A', 'b'), ('A', 'c'), ('A', 'd'), ('B', 'a'), ('B', 'b'), ('B', 'c'), ('B', 'd'), ('C', 'a'), ('C', 'b'), ('C', 'c'), ('C', 'd')]\n",
      "Listcomp solution: [('A', 'a'), ('A', 'b'), ('A', 'c'), ('A', 'd'), ('B', 'a'), ('B', 'b'), ('B', 'c'), ('B', 'd'), ('C', 'a'), ('C', 'b'), ('C', 'c'), ('C', 'd')]\n"
     ]
    }
   ],
   "source": [
    "seq1 = 'ABC'\n",
    "seq2 = 'abcd'\n",
    "\n",
    "# For loops\n",
    "result = []\n",
    "for char1 in seq1:\n",
    "    for char2 in seq2:\n",
    "        result.append((char1, char2))\n",
    "        \n",
    "print(f\"For loop solution: {result}\")\n",
    "\n",
    "# List comprehension\n",
    "result2 = [(char1, char2) for char1 in seq1 for char2 in seq2]\n",
    "print(f\"Listcomp solution: {result2}\")"
   ]
  },
  {
   "cell_type": "markdown",
   "metadata": {
    "slideshow": {
     "slide_type": "slide"
    }
   },
   "source": [
    "# The Module System and Its Uses"
   ]
  },
  {
   "cell_type": "markdown",
   "metadata": {
    "slideshow": {
     "slide_type": "slide"
    }
   },
   "source": [
    "## Namespaces"
   ]
  },
  {
   "cell_type": "markdown",
   "metadata": {
    "slideshow": {
     "slide_type": "subslide"
    }
   },
   "source": [
    "One of the largest differences between Python and MATLAB is the concept of namespaces. At first it's also one of the most aggrevating differences. But I promise that sooner than later you'll understand its importance, and start disliking MATLAB's approach."
   ]
  },
  {
   "cell_type": "markdown",
   "metadata": {
    "slideshow": {
     "slide_type": "subslide"
    }
   },
   "source": [
    "Namespaces is a system set to avoid ambiguity. We have many Hagai's, but much less Hagai Har-Gil's. In computers, we can have many files with the name `test1.py` saved in _different folders_ of our harddrive. In contrast - we can only have one `test1.py` per folder, since the file system dislikes these collisions."
   ]
  },
  {
   "cell_type": "markdown",
   "metadata": {
    "slideshow": {
     "slide_type": "subslide"
    }
   },
   "source": [
    "Similarly, In Python we have to declare which namespace does our function belong to. Usually functions aren't included in the scope of the program until we `import` them. After importing we can use the function with its \"pathname\", i.e. the module it belongs to. This way, the same identifier (function name, class name, etc.) can be used multiple times in different modules."
   ]
  },
  {
   "cell_type": "markdown",
   "metadata": {
    "slideshow": {
     "slide_type": "subslide"
    }
   },
   "source": [
    "You might have realised that you're already familiar with this topic from your previous usage of functions. The following example should be clear:"
   ]
  },
  {
   "cell_type": "code",
   "execution_count": 29,
   "metadata": {
    "slideshow": {
     "slide_type": "subslide"
    }
   },
   "outputs": [
    {
     "name": "stdout",
     "output_type": "stream",
     "text": [
      "Inside the function, a=2\n",
      "But outside of it, a=1\n"
     ]
    }
   ],
   "source": [
    "# Namespaces are defined inside functions\n",
    "a = 1\n",
    "def f(a):\n",
    "    \"\"\"Scopes and namespaces exemplified\"\"\"\n",
    "    a = 2\n",
    "    print(f\"Inside the function, a={a}\")  # Python 3.6 f-strings are kinda awesome...\n",
    "f(a)\n",
    "print(f\"But outside of it, a={a}\")"
   ]
  },
  {
   "cell_type": "markdown",
   "metadata": {
    "slideshow": {
     "slide_type": "subslide"
    }
   },
   "source": [
    "Namespaces for modules are the same. Python modules are an object with variables, classes and functions in it. A module can be a single class, a file or a folder containing files and other sub-folders. As we've said, a module is brought into scope (into our namespace) with the import statement:"
   ]
  },
  {
   "cell_type": "code",
   "execution_count": 30,
   "metadata": {
    "slideshow": {
     "slide_type": "subslide"
    }
   },
   "outputs": [
    {
     "data": {
      "text/plain": [
       "3.141592653589793"
      ]
     },
     "execution_count": 30,
     "metadata": {},
     "output_type": "execute_result"
    }
   ],
   "source": [
    "# The objects \"math\" or \"pi\" do not exist here yet.\n",
    "import math\n",
    "math.pi"
   ]
  },
  {
   "cell_type": "markdown",
   "metadata": {
    "slideshow": {
     "slide_type": "subslide"
    }
   },
   "source": [
    "`pi` is only defined in the context of the `math` module. Without the import statement there's no special meaning attached to neither `math` nor `pi`, and they can be used as normal variables."
   ]
  },
  {
   "cell_type": "code",
   "execution_count": 31,
   "metadata": {
    "slideshow": {
     "slide_type": "subslide"
    }
   },
   "outputs": [
    {
     "ename": "NameError",
     "evalue": "name 'os' is not defined",
     "output_type": "error",
     "traceback": [
      "\u001b[1;31m---------------------------------------------------------------------------\u001b[0m",
      "\u001b[1;31mNameError\u001b[0m                                 Traceback (most recent call last)",
      "\u001b[1;32m<ipython-input-31-8caccea59ce2>\u001b[0m in \u001b[0;36m<module>\u001b[1;34m()\u001b[0m\n\u001b[1;32m----> 1\u001b[1;33m \u001b[0mos\u001b[0m\u001b[1;33m.\u001b[0m\u001b[0mfilesep\u001b[0m\u001b[1;33m\u001b[0m\u001b[0m\n\u001b[0m",
      "\u001b[1;31mNameError\u001b[0m: name 'os' is not defined"
     ]
    }
   ],
   "source": [
    "os.filesep"
   ]
  },
  {
   "cell_type": "markdown",
   "metadata": {
    "slideshow": {
     "slide_type": "subslide"
    }
   },
   "source": [
    "When we try to use a function, class or constant from a package (module) we didn't import, we'll receive a `NameError`. That's also the exception raised when we try to use a variable that didn't exist beforehand."
   ]
  },
  {
   "cell_type": "markdown",
   "metadata": {
    "slideshow": {
     "slide_type": "slide"
    }
   },
   "source": [
    "## The Default Python Namespace"
   ]
  },
  {
   "cell_type": "markdown",
   "metadata": {
    "slideshow": {
     "slide_type": "subslide"
    }
   },
   "source": [
    "Python comes with many functions already defined, which we've obviously met:\n",
    "```python\n",
    "list(), dict(), set(), int(), float()\n",
    "```\n",
    "and it also has many keywords, some reserved and some are not:\n",
    "```python\n",
    "int, class, def, return\n",
    "```"
   ]
  },
  {
   "cell_type": "markdown",
   "metadata": {
    "slideshow": {
     "slide_type": "subslide"
    }
   },
   "source": [
    "The true power of Python comes from its ecosystem. Its one of the largest and most comprehensive around, certainly for a scripting language, and allows you to do basically whatever you want with minimum effort."
   ]
  },
  {
   "cell_type": "code",
   "execution_count": 32,
   "metadata": {
    "slideshow": {
     "slide_type": "subslide"
    }
   },
   "outputs": [],
   "source": [
    "import antigravity  # try this at home!"
   ]
  },
  {
   "cell_type": "markdown",
   "metadata": {
    "slideshow": {
     "slide_type": "subslide"
    }
   },
   "source": [
    "![Antigravity XKCD](./antigravity.png)"
   ]
  },
  {
   "cell_type": "markdown",
   "metadata": {
    "slideshow": {
     "slide_type": "subslide"
    }
   },
   "source": [
    "The standard library of Python includes the packages that come with every installation of Python. I didn't have to do anything special to import the `math` module - it was just there, \"waiting\" for me to import it. \n",
    "\n",
    "Most of the functions you'd expect a programming language to have are indeed included in the standard library, available automatically to everyone who downloaded Python. Other modules, including many popular ones, are available online. We'll discuss later how to import them."
   ]
  },
  {
   "cell_type": "markdown",
   "metadata": {
    "slideshow": {
     "slide_type": "subslide"
    }
   },
   "source": [
    "I'll let you discover yourself what is included in the standard library, but some of the highlights include:"
   ]
  },
  {
   "cell_type": "code",
   "execution_count": 33,
   "metadata": {
    "slideshow": {
     "slide_type": "subslide"
    }
   },
   "outputs": [
    {
     "name": "stdout",
     "output_type": "stream",
     "text": [
      "C:\\Users\\Hagai\\Documents\\Classes\\python-course-dev\\Classes\n"
     ]
    }
   ],
   "source": [
    "import pathlib\n",
    "p = pathlib.Path(\".\")\n",
    "print(p.absolute())"
   ]
  },
  {
   "cell_type": "code",
   "execution_count": 34,
   "metadata": {
    "slideshow": {
     "slide_type": "subslide"
    }
   },
   "outputs": [
    {
     "name": "stdout",
     "output_type": "stream",
     "text": [
      "b'<!doctype html><html dir=\"rtl\" itemscope=\"\" itemtype=\"http://schema.org/WebPage\" lang=\"iw\"><head><meta content=\"text/html; charset=UTF-8\" http-equiv=\"Content-Type\"><meta content=\"/images/branding/googleg/1x/googleg_standard_color_128dp.png\" itemprop=\"image\"><title>Google</title><script nonce=\"Lrk35DeFWrUZGQ0MDnBiUg==\">(function(){window.google={kEI:\\'kGeWWtSBLIOSmgWmi6roCg\\',kEXPI:\\'201822,1353809,1354277,1354916,1355218,1355675,1355762,1356040,1356179,1356690,1356779,1356854,1357034,1357219,1357326,1357555,1357718,3700322,3700521,4029815,4031109,4043492,4045841,4048347,4081038,4097153,4097922,4097929,4098721,4098728,4103845,4104658,4106085,4109316,4109490,4116279,4116731,4116926,4116935,4118798,4120660,4122511,4124850,4125837,4126205,4126754,4127086,4127418,4127744,4128586,4129001,4129520,4129633,4130362,4130783,4131247,4131834,4132041,4132125,4133755,4135025,4136073,4137467,4137597,4137646,4138836,4142071,4142328,4142834,4143278,4143676,4143817,4144233,4144442,4144803,4145088,4145108,4145461,4145485,4145727,4145772,4145836,4146146,4146260,4146874,4147189,4147442,4147900,4147943,4148061,4148268,4148280,4148304,4148399,4148571,4148608,4149017,4149271,4149304,4149336,4150005,4150017,4150429,4151012,4151015,4151047,4151263,4151296,4151368,4151389,4151699,4151767,4151919,4151944,4152218,4152888,4153062,4153222,4153366,4153499,4153545,4153952,4154020,4154081,4154187,4154497,4154506,4155119,4155249,4155568,4155624,4155632,4155684,4156008,4156142,4156175,4156634,4157380,4157382,4157625,10200083,10202524,10202621,16200184,19000288,19000423,19000427,19001999,19002548,19002880,19003321,19003323,19003325,19003326,19003328,19003329,19003330,19003407,19003408,19003409,19004309,19004516,19004517,19004518,19004519,19004520,19004521,19004892,19004901,19005009,19005010,19005032,19005036,19005038,19005054,19005098\\',authuser:0,kscs:\\'c9c918f0_kGeWWtSBLIOSmgWmi6roCg\\',u:\\'c9c918f0\\',kGL:\\'IL\\'};google.kHL=\\'iw\\';})();(function(){google.lc=[];google.li=0;google.getEI=function(a){for(var b;a&&(!a.getAttribute||!(b=a.getAttribute(\"eid\")));)a=a.parentNode;return b||google.kEI};google.getLEI=function(a){for(var b=null;a&&(!a.getAttribute||!(b=a.getAttribute(\"leid\")));)a=a.parentNode;return b};google.https=function(){return\"https:\"==window.location.protocol};google.ml=function(){return null};google.wl=function(a,b){try{google.ml(Error(a),!1,b)}catch(d){}};google.time=function(){return(new Date).getTime()};google.log=function(a,b,d,c,g){if(a=google.logUrl(a,b,d,c,g)){b=new Image;var e=google.lc,f=google.li;e[f]=b;b.onerror=b.onload=b.onabort=function(){delete e[f]};google.vel&&google.vel.lu&&google.vel.lu(a);b.src=a;google.li=f+1}};google.logUrl=function(a,b,d,c,g){var e=\"\",f=google.ls||\"\";d||-1!=b.search(\"&ei=\")||(e=\"&ei=\"+google.getEI(c),-1==b.search(\"&lei=\")&&(c=google.getLEI(c))&&(e+=\"&lei=\"+c));c=\"\";!d&&google.cshid&&-1==b.search(\"&cshid=\")&&(c=\"&cshid=\"+google.cshid);a=d||\"/\"+(g||\"gen_204\")+\"?atyp=i&ct=\"+a+\"&cad=\"+b+e+f+\"&zx=\"+google.time()+c;/^http:/i.test(a)&&google.https()&&(google.ml(Error(\"a\"),!1,{src:a,glmm:1}),a=\"\");return a};}).call(this);(function(){google.y={};google.x=function(a,b){if(a)var c=a.id;else{do c=Math.random();while(google.y[c])}google.y[c]=[a,b];return!1};google.lm=[];google.plm=function(a){google.lm.push.apply(google.lm,a)};google.lq=[];google.load=function(a,b,c){google.lq.push([[a],b,c])};google.loadAll=function(a,b){google.lq.push([a,b])};}).call(this);google.f={};var a=window.location,b=a.href.indexOf(\"#\");if(0<=b){var c=a.href.substring(b+1);/(^|&)q=/.test(c)&&-1==c.indexOf(\"#\")&&a.replace(\"/search?\"+c.replace(/(^|&)fp=[^&]*/g,\"\")+\"&cad=h\")};</script><style>#gbar,#guser{font-size:13px;padding-top:1px !important;}#gbar{height:22px}#guser{padding-bottom:7px !important;text-align:left}.gbh,.gbd{border-top:1px solid #c9d7f1;font-size:1px}.gbh{height:0;position:absolute;top:24px;width:100%}@media all{.gb1{height:22px;margin-left:.5em;vertical-align:top}#gbar{float:right}}a.gb1,a.gb4{text-decoration:underline !important}a.gb1,a.gb4{color:#00c !important}.gbi .gb4{color:#dd8e27 !important}.gbf .gb4{color:#900 !important}\\n</style><style>body,td,a,p,.h{font-family:arial,sans-serif}body{margin:0;overflow-y:scroll}#gog{padding:3px 8px 0}td{line-height:.8em}.gac_m td{line-height:17px}form{margin-bottom:20px}.h{color:#36c}.q{color:#00c}.ts td{padding:0}.ts{border-collapse:collapse}em{font-weight:bold;font-style:normal}.lst{height:25px;width:496px}.gsfi,.lst{font:18px arial,sans-serif}.gsfs{font:17px arial,sans-serif}.ds{display:inline-box;display:inline-block;margin:3px 0 4px;margin-right:4px}input{font-family:inherit}a.gb1,a.gb2,a.gb3,a.gb4{color:#11c !important}body{background:#fff;color:black}a{color:#11c;text-decoration:none}a:hover,a:active{text-decoration:underline}.fl a{color:#36c}a:visited{color:#551a8b}a.gb1,a.gb4{text-decoration:underline}a.gb3:hover{text-decoration:none}#ghead a.gb2:hover{color:#fff !important}.sblc{padding-top:5px}.sblc a{display:block;margin:2px 0;margin-right:13px;font-size:11px}.lsbb{background:#eee;border:solid 1px;border-color:#ccc #ccc #999 #999;height:30px}.lsbb{display:block}.ftl,#fll a{display:inline-block;margin:0 12px}.lsb{background:url(/images/nav_logo229.png) 0 -261px repeat-x;border:none;color:#000;cursor:pointer;height:30px;margin:0;outline:0;font:15px arial,sans-serif;vertical-align:top}.lsb:active{background:#ccc}.lst:focus{outline:none}.tiah{width:458px}</style><script nonce=\"Lrk35DeFWrUZGQ0MDnBiUg==\"></script><link href=\"/images/branding/product/ico/googleg_lodp.ico\" rel=\"shortcut icon\"></head><body bgcolor=\"#fff\"><script nonce=\"Lrk35DeFWrUZGQ0MDnBiUg==\">(function(){var src=\\'/images/nav_logo229.png\\';var iesg=false;document.body.onload = function(){window.n && window.n();if (document.images){new Image().src=src;}\\nif (!iesg){document.f&&document.f.q.focus();document.gbqf&&document.gbqf.q.focus();}\\n}\\n})();</script><div id=\"mngb\"> <div id=gbar><nobr><b class=gb1>\\xe7\\xe9\\xf4\\xe5\\xf9</b> <a class=gb1 href=\"https://www.google.co.il/imghp?hl=iw&tab=wi\">\\xfa\\xee\\xe5\\xf0\\xe5\\xfa</a> <a class=gb1 href=\"https://maps.google.co.il/maps?hl=iw&tab=wl\">\\xee\\xf4\\xe5\\xfa</a> <a class=gb1 href=\"https://www.youtube.com/?gl=IL&tab=w1\">YouTube</a> <a class=gb1 href=\"https://news.google.co.il/nwshp?hl=iw&tab=wn\">\\xe7\\xe3\\xf9\\xe5\\xfa</a> <a class=gb1 href=\"https://mail.google.com/mail/?tab=wm\">Gmail</a> <a class=gb1 href=\"https://drive.google.com/?tab=wo\">Drive</a> <a class=gb1 href=\"https://www.google.com/calendar?tab=wc\">\\xe9\\xe5\\xee\\xef</a> <a class=gb1 style=\"text-decoration:none\" href=\"https://www.google.co.il/intl/iw/options/\"><u>\\xf2\\xe5\\xe3</u> &raquo;</a></nobr></div><div id=guser width=100%><nobr><span id=gbn class=gbi></span><span id=gbf class=gbf></span><span id=gbe></span><a href=\"http://www.google.co.il/history/optout?hl=iw\" class=gb4>\\xe4\\xe9\\xf1\\xe8\\xe5\\xf8\\xe9\\xe9\\xfa \\xe0\\xfa\\xf8\\xe9\\xed</a> | <a  href=\"/preferences?hl=iw\" class=gb4>\\xe4\\xe2\\xe3\\xf8\\xe5\\xfa</a> | <a target=_top id=gb_70 href=\"https://accounts.google.com/ServiceLogin?hl=iw&passive=true&continue=https://www.google.co.il/%3Fgfe_rd%3Dcr%26dcr%3D0%26ei%3DkGeWWqn3FMvPXpO_paAB\" class=gb4>\\xe4\\xe9\\xeb\\xf0\\xf1</a></nobr></div><div class=gbh style=left:0></div><div class=gbh style=right:0></div> </div><center><br clear=\"all\" id=\"lgpd\"><div id=\"lga\"><div style=\"padding:28px 0 3px\"><div style=\"height:110px;width:276px;background:url(/images/branding/googlelogo/1x/googlelogo_white_background_color_272x92dp.png) no-repeat\" title=\"Google\" align=\"left\" id=\"hplogo\" onload=\"window.lol&&lol()\"><div style=\"color:#777;font-size:16px;font-weight:bold;position:relative;top:70px;left:218px\" nowrap=\"\">\\xe9\\xf9\\xf8\\xe0\\xec</div></div></div><br></div><form action=\"/search\" name=\"f\"><table cellpadding=\"0\" cellspacing=\"0\"><tr valign=\"top\"><td width=\"25%\">&nbsp;</td><td align=\"center\" nowrap=\"\"><input name=\"ie\" value=\"windows-1255\" type=\"hidden\"><input value=\"iw\" name=\"hl\" type=\"hidden\"><input name=\"source\" type=\"hidden\" value=\"hp\"><input name=\"biw\" type=\"hidden\"><input name=\"bih\" type=\"hidden\"><div class=\"ds\" style=\"height:32px;margin:4px 0\"><div style=\"position:relative;zoom:1\"><input style=\"color:#000;margin:0;padding:5px 6px 0 8px;vertical-align:top;padding-left:38px\" autocomplete=\"off\" class=\"lst tiah\" value=\"\" title=\"\\xe7\\xe9\\xf4\\xe5\\xf9 \\xe1-Google\" maxlength=\"2048\" name=\"q\" size=\"57\"><img src=\"/textinputassistant/tia.png\" style=\"position:absolute;cursor:pointer;left:5px;top:4px;z-index:300\" onclick=\"(function(){var src=\\'/textinputassistant/11/iw_tia.js\\';var s=document.createElement(\\'script\\');s.src=src;(document.getElementById(\\'xjsc\\')||document.body).appendChild(s);})();\" alt=\"\" height=\"23\" width=\"27\"></div></div><br style=\"line-height:0\"><span class=\"ds\"><span class=\"lsbb\"><input class=\"lsb\" value=\"\\xe7\\xe9\\xf4\\xe5\\xf9 \\xe1-Google\" name=\"btnG\" type=\"submit\"></span></span><span class=\"ds\"><span class=\"lsbb\"><input class=\"lsb\" value=\"\\xe9\\xe5\\xfa\\xf8 \\xee\\xe6\\xec \\xee\\xf9\\xeb\\xec\" name=\"btnI\" onclick=\"if(this.form.q.value)this.checked=1; else top.location=\\'/doodles/\\'\" type=\"submit\"></span></span></td><td class=\"fl sblc\" align=\"right\" nowrap=\"\" width=\"25%\"><a href=\"/advanced_search?hl=iw&amp;authuser=0\">\\xe7\\xe9\\xf4\\xe5\\xf9 \\xee\\xfa\\xf7\\xe3\\xed</a><a href=\"/language_tools?hl=iw&amp;authuser=0\">\\xeb\\xec\\xe9 \\xf9\\xf4\\xe4</a></td></tr></table><input id=\"gbv\" name=\"gbv\" type=\"hidden\" value=\"1\"></form><div id=\"gac_scont\"></div><div style=\"font-size:83%;min-height:3.5em\"><br><div id=\"als\"><style>#als{font-size:small;margin-bottom:24px}#_eEe{display:inline-block;line-height:28px;}#_eEe a{padding:0 3px;}._lEe{display:inline-block;margin:0 2px;white-space:nowrap}._PEe{display:inline-block;margin:0 2px}</style><div id=\"_eEe\">Google \\xe6\\xee\\xe9\\xf0\\xe4 \\xe1: <a href=\"https://www.google.co.il/setprefs?sig=0_mutckQCtBqjR8TTPL3HxnKizB5s%3D&amp;hl=ar&amp;source=homepage&amp;sa=X&amp;ved=0ahUKEwjUiaDul8jZAhUDiaYKHaaFCq0Q2ZgBCAU\">&#1575;&#1604;&#1593;&#1585;&#1576;&#1610;&#1577;</a>  <a dir=\"ltr\" href=\"https://www.google.co.il/setprefs?sig=0_mutckQCtBqjR8TTPL3HxnKizB5s%3D&amp;hl=en&amp;source=homepage&amp;sa=X&amp;ved=0ahUKEwjUiaDul8jZAhUDiaYKHaaFCq0Q2ZgBCAY\">English</a> </div></div></div><span id=\"footer\"><div style=\"font-size:10pt\"><div style=\"margin:19px auto;text-align:center\" id=\"fll\"><a href=\"/intl/iw/ads/\"> \\xf4\\xf8\\xf1\\xe5\\xed \\xe1-Google</a><a href=\"http://www.google.co.il/intl/iw/services/\">\\xf4\\xfa\\xf8\\xe5\\xf0\\xe5\\xfa \\xf2\\xf1\\xf7\\xe9\\xe9\\xed</a><a href=\"/intl/iw/about.html\">\\xe4\\xeb\\xec \\xf2\\xec Google</a><a dir=\"ltr\" href=\"https://www.google.co.il/setprefdomain?prefdom=US&amp;sig=__sIhu8bPdnidpLs8eoJZD0nChk7I%3D\" id=\"fehl\">Google.com</a></div></div><p style=\"color:#767676;font-size:8pt\">&copy; 2018 - <a href=\"/intl/iw/policies/privacy/\">\\xf4\\xf8\\xe8\\xe9\\xe5\\xfa</a> - <a href=\"/intl/iw/policies/terms/\">\\xfa\\xf0\\xe0\\xe9\\xed</a></p></span></center><script nonce=\"Lrk35DeFWrUZGQ0MDnBiUg==\">(function(){window.google.cdo={height:0,width:0};(function(){var a=window.innerWidth,b=window.innerHeight;if(!a||!b){var c=window.document,d=\"CSS1Compat\"==c.compatMode?c.documentElement:c.body;a=d.clientWidth;b=d.clientHeight}a&&b&&(a!=google.cdo.width||b!=google.cdo.height)&&google.log(\"\",\"\",\"/client_204?&atyp=i&biw=\"+a+\"&bih=\"+b+\"&ei=\"+google.kEI);}).call(this);})();</script><div id=\"xjsd\"></div><div id=\"xjsi\"><script nonce=\"Lrk35DeFWrUZGQ0MDnBiUg==\">(function(){function c(b){window.setTimeout(function(){var a=document.createElement(\"script\");a.src=b;google.timers&&google.timers.load.t&&google.tick(\"load\",{gen204:\"xjsls\",clearcut:31});document.getElementById(\"xjsd\").appendChild(a)},0)}google.dljp=function(b,a){google.xjsu=b;c(a)};google.dlj=c;}).call(this);if(!google.xjs){window._=window._||{};window._DumpException=window._._DumpException=function(e){throw e};google.dljp(\\'/xjs/_/js/k\\\\x3dxjs.hp.en.eb99e60ridk.O/m\\\\x3dsb_he,d/am\\\\x3dKEA/rt\\\\x3dj/d\\\\x3d1/t\\\\x3dzcms/rs\\\\x3dACT90oHqgp_iVHVOHGCGjHHKjwiSC2jWzw\\',\\'/xjs/_/js/k\\\\x3dxjs.hp.en.eb99e60ridk.O/m\\\\x3dsb_he,d/am\\\\x3dKEA/rt\\\\x3dj/d\\\\x3d1/t\\\\x3dzcms/rs\\\\x3dACT90oHqgp_iVHVOHGCGjHHKjwiSC2jWzw\\');google.xjs=1;}google.pmc={\"sb_he\":{\"agen\":true,\"cgen\":true,\"client\":\"heirloom-hp\",\"dh\":true,\"dhqt\":true,\"ds\":\"\",\"fl\":true,\"host\":\"google.co.il\",\"isbh\":28,\"jsonp\":true,\"msgs\":{\"cibl\":\"\\xf0\\xf7\\xe4 \\xe7\\xe9\\xf4\\xe5\\xf9\",\"dym\":\"\\xe4\\xe0\\xed \\xe4\\xfa\\xeb\\xe5\\xe5\\xf0\\xfa \\xec:\",\"lcky\":\"\\xe9\\xe5\\xfa\\xf8 \\xee\\xe6\\xec \\xee\\xf9\\xeb\\xec\",\"lml\":\"\\xec\\xee\\xe9\\xe3\\xf2 \\xf0\\xe5\\xf1\\xf3\",\"oskt\":\"\\xeb\\xec\\xe9 \\xe4\\xe6\\xf0\\xe4\",\"psrc\":\"\\xe7\\xe9\\xf4\\xe5\\xf9 \\xe6\\xe4 \\xe4\\xe5\\xf1\\xf8 \\xee\\\\u003Ca href=\\\\\"/history\\\\\"\\\\u003E\\xe4\\xe9\\xf1\\xe8\\xe5\\xf8\\xe9\\xe9\\xfa \\xe4\\xe0\\xe9\\xf0\\xe8\\xf8\\xf0\\xe8\\\\u003C/a\\\\u003E \\xf9\\xec\\xea\",\"psrl\":\"\\xe4\\xf1\\xf8\",\"sbit\":\"\\xe7\\xe9\\xf4\\xe5\\xf9 \\xec\\xf4\\xe9 \\xfa\\xee\\xe5\\xf0\\xe4\",\"srch\":\"\\xe7\\xe9\\xf4\\xe5\\xf9 \\xe1-Google\"},\"nds\":true,\"ovr\":{},\"pq\":\"\",\"refpd\":true,\"rfs\":[],\"sbpl\":24,\"sbpr\":24,\"scd\":10,\"sce\":5,\"stok\":\"yGx5l60YeeC-tKxiXc9OS0Y5L0s\"},\"d\":{},\"ZI/YVQ\":{},\"YFCs/g\":{}};google.x(null,function(){});(function(){var r=[];google.plm(r);})();(function(){var ctx=[]\\n;google.jsc && google.jsc.x(ctx);})();</script></div></body></html>'\n"
     ]
    }
   ],
   "source": [
    "import urllib.request\n",
    "url = urllib.request.urlopen(\"https://www.google.com\")\n",
    "print(url.read())"
   ]
  },
  {
   "cell_type": "markdown",
   "metadata": {},
   "source": [
    "It can be quite irritating to write the full namespace address of all functions. To this end we have the `from` and `as` keywords:"
   ]
  },
  {
   "cell_type": "code",
   "execution_count": 5,
   "metadata": {
    "slideshow": {
     "slide_type": "subslide"
    }
   },
   "outputs": [],
   "source": [
    "from pprint import pprint as pp"
   ]
  },
  {
   "cell_type": "code",
   "execution_count": 36,
   "metadata": {
    "slideshow": {
     "slide_type": "subslide"
    }
   },
   "outputs": [
    {
     "name": "stdout",
     "output_type": "stream",
     "text": [
      "(b'<!doctype html><html dir=\"rtl\" itemscope=\"\" itemtype=\"http://schema.org/WebP'\n",
      " b'age\" lang=\"iw\"><head><meta content=\"text/html; charset=UTF-8\" http-equiv=\"Co'\n",
      " b'ntent-Type\"><meta content=\"/images/branding/googleg/1x/googleg_standard_colo'\n",
      " b'r_128dp.png\" itemprop=\"image\"><title>Google</title><script nonce=\"uZWgEkfGUf'\n",
      " b'dsn+jFwyt9aQ==\">(function(){window.google={kEI:\\'kWeWWuLCH8ynsAH0i4nADw\\','\n",
      " b\"kEXPI:'18168,1353809,1354276,1354915,1355219,1355675,1355761,1356040,1356179\"\n",
      " b',1356690,1356779,1356854,1357034,1357219,1357403,1357718,3700333,3700521,402'\n",
      " b'9815,4031109,4043492,4045841,4048347,4081038,4096834,4097153,4097922,4097929'\n",
      " b',4098721,4098728,4103845,4104658,4109316,4109490,4116279,4116731,4117539,411'\n",
      " b'8798,4119811,4119820,4120660,4122511,4124850,4125837,4126206,4126754,4126869'\n",
      " b',4127086,4127418,4127744,4128586,4129001,4129520,4129633,4130782,4131247,413'\n",
      " b'1834,4133755,4135025,4135677,4136073,4137461,4137597,4137646,4141049,4141241'\n",
      " b',4141682,4142071,4142328,4142834,4143278,4143677,4143816,4144233,4144442,414'\n",
      " b'4544,4144735,4144759,4144803,4145088,4145109,4145461,4145485,4145772,4145836'\n",
      " b',4146147,4147026,4147031,4147900,4147943,4148061,4148268,4148279,4148304,414'\n",
      " b'8399,4148608,4149017,4149271,4149304,4149336,4149803,4150005,4150017,4150429'\n",
      " b',4151013,4151016,4151048,4151263,4151295,4151389,4151703,4151768,4153062,415'\n",
      " b'3222,4153324,4153366,4153545,4153952,4154017,4154072,4154081,4154187,4154507'\n",
      " b',4155445,4155569,4155659,4155684,4156009,4156470,4156475,4156634,4156635,415'\n",
      " b'6657,4157381,4157492,4157599,10200084,10200095,10202524,10202622,16200183,19'\n",
      " b'000288,19000423,19000427,19001999,19002548,19002880,19003321,19003323,190033'\n",
      " b'25,19003326,19003328,19003329,19003330,19003407,19003408,19003409,19004309,1'\n",
      " b'9004516,19004517,19004518,19004519,19004520,19004521,19004885,19004901,19005'\n",
      " b\"009,19005010,19005032,19005036,19005038,19005054,19005098',authuser:0,kscs:'\"\n",
      " b\"c9c918f0_kWeWWuLCH8ynsAH0i4nADw',u:'c9c918f0',kGL:'IL'};google.kHL='iw';})()\"\n",
      " b';(function(){google.lc=[];google.li=0;google.getEI=function(a){for(var b;a&&'\n",
      " b'(!a.getAttribute||!(b=a.getAttribute(\"eid\")));)a=a.parentNode;return b||goog'\n",
      " b'le.kEI};google.getLEI=function(a){for(var b=null;a&&(!a.getAttribute||!(b=a.'\n",
      " b'getAttribute(\"leid\")));)a=a.parentNode;return b};google.https=function(){ret'\n",
      " b'urn\"https:\"==window.location.protocol};google.ml=function(){return null};goo'\n",
      " b'gle.wl=function(a,b){try{google.ml(Error(a),!1,b)}catch(d){}};google.time=fu'\n",
      " b'nction(){return(new Date).getTime()};google.log=function(a,b,d,c,g){if(a=goo'\n",
      " b'gle.logUrl(a,b,d,c,g)){b=new Image;var e=google.lc,f=google.li;e[f]=b;b.oner'\n",
      " b'ror=b.onload=b.onabort=function(){delete e[f]};google.vel&&google.vel.lu&&go'\n",
      " b'ogle.vel.lu(a);b.src=a;google.li=f+1}};google.logUrl=function(a,b,d,c,g){var'\n",
      " b' e=\"\",f=google.ls||\"\";d||-1!=b.search(\"&ei=\")||(e=\"&ei=\"+google.getEI(c),-1='\n",
      " b'=b.search(\"&lei=\")&&(c=google.getLEI(c))&&(e+=\"&lei=\"+c));c=\"\";!d&&google.cs'\n",
      " b'hid&&-1==b.search(\"&cshid=\")&&(c=\"&cshid=\"+google.cshid);a=d||\"/\"+(g||\"gen_2'\n",
      " b'04\")+\"?atyp=i&ct=\"+a+\"&cad=\"+b+e+f+\"&zx=\"+google.time()+c;/^http:/i.test(a)&'\n",
      " b'&google.https()&&(google.ml(Error(\"a\"),!1,{src:a,glmm:1}),a=\"\");return a};})'\n",
      " b'.call(this);(function(){google.y={};google.x=function(a,b){if(a)var c=a.id;e'\n",
      " b'lse{do c=Math.random();while(google.y[c])}google.y[c]=[a,b];return!1};google'\n",
      " b'.lm=[];google.plm=function(a){google.lm.push.apply(google.lm,a)};google.lq=['\n",
      " b'];google.load=function(a,b,c){google.lq.push([[a],b,c])};google.loadAll=func'\n",
      " b'tion(a,b){google.lq.push([a,b])};}).call(this);google.f={};var a=window.loca'\n",
      " b'tion,b=a.href.indexOf(\"#\");if(0<=b){var c=a.href.substring(b+1);/(^|&)q=/.te'\n",
      " b'st(c)&&-1==c.indexOf(\"#\")&&a.replace(\"/search?\"+c.replace(/(^|&)fp=[^&]*/g,\"'\n",
      " b'\")+\"&cad=h\")};</script><style>#gbar,#guser{font-size:13px;padding-top:1px !i'\n",
      " b'mportant;}#gbar{height:22px}#guser{padding-bottom:7px !important;text-align:'\n",
      " b'left}.gbh,.gbd{border-top:1px solid #c9d7f1;font-size:1px}.gbh{height:0;posi'\n",
      " b'tion:absolute;top:24px;width:100%}@media all{.gb1{height:22px;margin-left:.5'\n",
      " b'em;vertical-align:top}#gbar{float:right}}a.gb1,a.gb4{text-decoration:underli'\n",
      " b'ne !important}a.gb1,a.gb4{color:#00c !important}.gbi .gb4{color:#dd8e27 !imp'\n",
      " b'ortant}.gbf .gb4{color:#900 !important}\\n</style><style>body,td,a,p,.h{fo'\n",
      " b'nt-family:arial,sans-serif}body{margin:0;overflow-y:scroll}#gog{padding:3px '\n",
      " b'8px 0}td{line-height:.8em}.gac_m td{line-height:17px}form{margin-bottom:20px'\n",
      " b'}.h{color:#36c}.q{color:#00c}.ts td{padding:0}.ts{border-collapse:collapse}e'\n",
      " b'm{font-weight:bold;font-style:normal}.lst{height:25px;width:496px}.gsfi,.lst'\n",
      " b'{font:18px arial,sans-serif}.gsfs{font:17px arial,sans-serif}.ds{display:inl'\n",
      " b'ine-box;display:inline-block;margin:3px 0 4px;margin-right:4px}input{font-fa'\n",
      " b'mily:inherit}a.gb1,a.gb2,a.gb3,a.gb4{color:#11c !important}body{background:#'\n",
      " b'fff;color:black}a{color:#11c;text-decoration:none}a:hover,a:active{text-deco'\n",
      " b'ration:underline}.fl a{color:#36c}a:visited{color:#551a8b}a.gb1,a.gb4{text-d'\n",
      " b'ecoration:underline}a.gb3:hover{text-decoration:none}#ghead a.gb2:hover{colo'\n",
      " b'r:#fff !important}.sblc{padding-top:5px}.sblc a{display:block;margin:2px 0;m'\n",
      " b'argin-right:13px;font-size:11px}.lsbb{background:#eee;border:solid 1px;borde'\n",
      " b'r-color:#ccc #ccc #999 #999;height:30px}.lsbb{display:block}.ftl,#fll a{disp'\n",
      " b'lay:inline-block;margin:0 12px}.lsb{background:url(/images/nav_logo229.png) '\n",
      " b'0 -261px repeat-x;border:none;color:#000;cursor:pointer;height:30px;margin:0'\n",
      " b';outline:0;font:15px arial,sans-serif;vertical-align:top}.lsb:active{backgro'\n",
      " b'und:#ccc}.lst:focus{outline:none}.tiah{width:458px}</style><script nonce=\"uZ'\n",
      " b'WgEkfGUfdsn+jFwyt9aQ==\"></script><link href=\"/images/branding/product/ico/go'\n",
      " b'ogleg_lodp.ico\" rel=\"shortcut icon\"></head><body bgcolor=\"#fff\"><script nonc'\n",
      " b'e=\"uZWgEkfGUfdsn+jFwyt9aQ==\">(function(){var src=\\'/images/nav_logo229.pn'\n",
      " b\"g';var iesg=false;document.body.onload = function(){window.n && window.n();i\"\n",
      " b'f (document.images){new Image().src=src;}\\nif (!iesg){document.f&&documen'\n",
      " b't.f.q.focus();document.gbqf&&document.gbqf.q.focus();}\\n}\\n})();</script><'\n",
      " b'div id=\"mngb\"> <div id=gbar><nobr><b class=gb1>\\xe7\\xe9\\xf4\\xe5\\xf9</b> <a '\n",
      " b'class=gb1 href=\"https://www.google.co.il/imghp?hl=iw&tab=wi\">\\xfa\\xee\\xe5'\n",
      " b'\\xf0\\xe5\\xfa</a> <a class=gb1 href=\"https://maps.google.co.il/maps?hl=iw&'\n",
      " b'tab=wl\">\\xee\\xf4\\xe5\\xfa</a> <a class=gb1 href=\"https://www.youtube.com/?gl='\n",
      " b'IL&tab=w1\">YouTube</a> <a class=gb1 href=\"https://news.google.co.il/nwshp?hl'\n",
      " b'=iw&tab=wn\">\\xe7\\xe3\\xf9\\xe5\\xfa</a> <a class=gb1 href=\"https://mail.google'\n",
      " b'.com/mail/?tab=wm\">Gmail</a> <a class=gb1 href=\"https://drive.google.com/?ta'\n",
      " b'b=wo\">Drive</a> <a class=gb1 href=\"https://www.google.com/calendar?tab=w'\n",
      " b'c\">\\xe9\\xe5\\xee\\xef</a> <a class=gb1 style=\"text-decoration:none\" href=\"http'\n",
      " b's://www.google.co.il/intl/iw/options/\"><u>\\xf2\\xe5\\xe3</u> &raquo;</a></n'\n",
      " b'obr></div><div id=guser width=100%><nobr><span id=gbn class=gbi></span><span'\n",
      " b' id=gbf class=gbf></span><span id=gbe></span><a href=\"http://www.google.co.i'\n",
      " b'l/history/optout?hl=iw\" class=gb4>\\xe4\\xe9\\xf1\\xe8\\xe5\\xf8\\xe9\\xe9\\xfa '\n",
      " b'\\xe0\\xfa\\xf8\\xe9\\xed</a> | <a  href=\"/preferences?hl=iw\" class=gb4>'\n",
      " b'\\xe4\\xe2\\xe3\\xf8\\xe5\\xfa</a> | <a target=_top id=gb_70 href=\"https://accou'\n",
      " b'nts.google.com/ServiceLogin?hl=iw&passive=true&continue=https://www.google.c'\n",
      " b'o.il/%3Fgfe_rd%3Dcr%26dcr%3D0%26ei%3DkWeWWvnoCcHPXoKUnGA\" class=gb4>'\n",
      " b'\\xe4\\xe9\\xeb\\xf0\\xf1</a></nobr></div><div class=gbh style=left:0></div><div'\n",
      " b' class=gbh style=right:0></div> </div><center><br clear=\"all\" id=\"lgpd\"><div'\n",
      " b' id=\"lga\"><div style=\"padding:28px 0 3px\"><div style=\"height:110px;width:276'\n",
      " b'px;background:url(/images/branding/googlelogo/1x/googlelogo_white_background'\n",
      " b'_color_272x92dp.png) no-repeat\" title=\"Google\" align=\"left\" id=\"hplogo\" onlo'\n",
      " b'ad=\"window.lol&&lol()\"><div style=\"color:#777;font-size:16px;font-weight:bol'\n",
      " b'd;position:relative;top:70px;left:218px\" nowrap=\"\">\\xe9\\xf9\\xf8\\xe0\\xec</di'\n",
      " b'v></div></div><br></div><form action=\"/search\" name=\"f\"><table cellpadding=\"'\n",
      " b'0\" cellspacing=\"0\"><tr valign=\"top\"><td width=\"25%\">&nbsp;</td><td align=\"ce'\n",
      " b'nter\" nowrap=\"\"><input name=\"ie\" value=\"windows-1255\" type=\"hidden\"><input v'\n",
      " b'alue=\"iw\" name=\"hl\" type=\"hidden\"><input name=\"source\" type=\"hidden\" value=\"'\n",
      " b'hp\"><input name=\"biw\" type=\"hidden\"><input name=\"bih\" type=\"hidden\"><div cla'\n",
      " b'ss=\"ds\" style=\"height:32px;margin:4px 0\"><div style=\"position:relative;zoom:'\n",
      " b'1\"><input style=\"color:#000;margin:0;padding:5px 6px 0 8px;vertical-align:to'\n",
      " b'p;padding-left:38px\" autocomplete=\"off\" class=\"lst tiah\" value=\"\" title='\n",
      " b'\"\\xe7\\xe9\\xf4\\xe5\\xf9 \\xe1-Google\" maxlength=\"2048\" name=\"q\" size=\"57\"><im'\n",
      " b'g src=\"/textinputassistant/tia.png\" style=\"position:absolute;cursor:pointer;'\n",
      " b'left:5px;top:4px;z-index:300\" onclick=\"(function(){var src=\\'/textinputas'\n",
      " b\"sistant/11/iw_tia.js';var s=document.createElement('script');s.src=src;(docu\"\n",
      " b'ment.getElementById(\\'xjsc\\')||document.body).appendChild(s);})();\" alt=\"\"'\n",
      " b' height=\"23\" width=\"27\"></div></div><br style=\"line-height:0\"><span class=\"d'\n",
      " b's\"><span class=\"lsbb\"><input class=\"lsb\" value=\"\\xe7\\xe9\\xf4\\xe5\\xf9 \\xe1-'\n",
      " b'Google\" name=\"btnG\" type=\"submit\"></span></span><span class=\"ds\"><span class'\n",
      " b'=\"lsbb\"><input class=\"lsb\" value=\"\\xe9\\xe5\\xfa\\xf8 \\xee\\xe6\\xec \\xee'\n",
      " b'\\xf9\\xeb\\xec\" name=\"btnI\" onclick=\"if(this.form.q.value)this.checked=1; e'\n",
      " b'lse top.location=\\'/doodles/\\'\" type=\"submit\"></span></span></td><td class'\n",
      " b'=\"fl sblc\" align=\"right\" nowrap=\"\" width=\"25%\"><a href=\"/advanced_search?hl='\n",
      " b'iw&amp;authuser=0\">\\xe7\\xe9\\xf4\\xe5\\xf9 \\xee\\xfa\\xf7\\xe3\\xed</a><a href=\"/'\n",
      " b'language_tools?hl=iw&amp;authuser=0\">\\xeb\\xec\\xe9 \\xf9\\xf4\\xe4</a></td></t'\n",
      " b'r></table><input id=\"gbv\" name=\"gbv\" type=\"hidden\" value=\"1\"></form><div id='\n",
      " b'\"gac_scont\"></div><div style=\"font-size:83%;min-height:3.5em\"><br><div id=\"a'\n",
      " b'ls\"><style>#als{font-size:small;margin-bottom:24px}#_eEe{display:inline-bloc'\n",
      " b'k;line-height:28px;}#_eEe a{padding:0 3px;}._lEe{display:inline-block;margin'\n",
      " b':0 2px;white-space:nowrap}._PEe{display:inline-block;margin:0 2px}</style><d'\n",
      " b'iv id=\"_eEe\">Google \\xe6\\xee\\xe9\\xf0\\xe4 \\xe1: <a href=\"https://www.google'\n",
      " b'.co.il/setprefs?sig=0_Siv1Ruetjr4wgviy2JQVUhtaT4E%3D&amp;hl=ar&amp;source=ho'\n",
      " b'mepage&amp;sa=X&amp;ved=0ahUKEwiiz9Dul8jZAhXMEywKHfRFAvgQ2ZgBCAU\">&#1575;&#1'\n",
      " b'604;&#1593;&#1585;&#1576;&#1610;&#1577;</a>  <a dir=\"ltr\" href=\"https://www.'\n",
      " b'google.co.il/setprefs?sig=0_Siv1Ruetjr4wgviy2JQVUhtaT4E%3D&amp;hl=en&amp;sou'\n",
      " b'rce=homepage&amp;sa=X&amp;ved=0ahUKEwiiz9Dul8jZAhXMEywKHfRFAvgQ2ZgBCAY\">Engl'\n",
      " b'ish</a> </div></div></div><span id=\"footer\"><div style=\"font-size:10pt\"><div'\n",
      " b' style=\"margin:19px auto;text-align:center\" id=\"fll\"><a href=\"/intl/iw/ads/\"'\n",
      " b'> \\xf4\\xf8\\xf1\\xe5\\xed \\xe1-Google</a><a href=\"http://www.google.co.il/int'\n",
      " b'l/iw/services/\">\\xf4\\xfa\\xf8\\xe5\\xf0\\xe5\\xfa \\xf2\\xf1\\xf7\\xe9\\xe9\\xed</a><a'\n",
      " b' href=\"/intl/iw/about.html\">\\xe4\\xeb\\xec \\xf2\\xec Google</a><a dir=\"ltr\" hr'\n",
      " b'ef=\"https://www.google.co.il/setprefdomain?prefdom=US&amp;sig=__WkQ1dSWRVSJD'\n",
      " b'gPXbFDQ8fyBRy60%3D\" id=\"fehl\">Google.com</a></div></div><p style=\"color:#767'\n",
      " b'676;font-size:8pt\">&copy; 2018 - <a href=\"/intl/iw/policies/privacy/'\n",
      " b'\">\\xf4\\xf8\\xe8\\xe9\\xe5\\xfa</a> - <a href=\"/intl/iw/policies/terms/\">\\xfa\\xf0'\n",
      " b'\\xe0\\xe9\\xed</a></p></span></center><script nonce=\"uZWgEkfGUfdsn+jFwyt9aQ'\n",
      " b'==\">(function(){window.google.cdo={height:0,width:0};(function(){var a=windo'\n",
      " b'w.innerWidth,b=window.innerHeight;if(!a||!b){var c=window.document,d=\"CSS1Co'\n",
      " b'mpat\"==c.compatMode?c.documentElement:c.body;a=d.clientWidth;b=d.clientHeigh'\n",
      " b't}a&&b&&(a!=google.cdo.width||b!=google.cdo.height)&&google.log(\"\",\"\",\"/clie'\n",
      " b'nt_204?&atyp=i&biw=\"+a+\"&bih=\"+b+\"&ei=\"+google.kEI);}).call(this);})();</scr'\n",
      " b'ipt><div id=\"xjsd\"></div><div id=\"xjsi\"><script nonce=\"uZWgEkfGUfdsn+jFwyt9a'\n",
      " b'Q==\">(function(){function c(b){window.setTimeout(function(){var a=document.c'\n",
      " b'reateElement(\"script\");a.src=b;google.timers&&google.timers.load.t&&google.t'\n",
      " b'ick(\"load\",{gen204:\"xjsls\",clearcut:31});document.getElementById(\"xjsd\").app'\n",
      " b'endChild(a)},0)}google.dljp=function(b,a){google.xjsu=b;c(a)};google.dlj=c;}'\n",
      " b').call(this);if(!google.xjs){window._=window._||{};window._DumpException=win'\n",
      " b\"dow._._DumpException=function(e){throw e};google.dljp('/xjs/_/js/k\\\\x3dxj\"\n",
      " b's.hp.en.eb99e60ridk.O/m\\\\x3dsb_he,d/am\\\\x3dKEA/rt\\\\x3dj/d\\\\x3d1/t\\\\x3dzcm'\n",
      " b\"s/rs\\\\x3dACT90oHqgp_iVHVOHGCGjHHKjwiSC2jWzw','/xjs/_/js/k\\\\x3dxjs.hp.en.eb\"\n",
      " b'99e60ridk.O/m\\\\x3dsb_he,d/am\\\\x3dKEA/rt\\\\x3dj/d\\\\x3d1/t\\\\x3dzcms/rs\\\\x3dAC'\n",
      " b'T90oHqgp_iVHVOHGCGjHHKjwiSC2jWzw\\');google.xjs=1;}google.pmc={\"sb_he\":{\"a'\n",
      " b'gen\":true,\"cgen\":true,\"client\":\"heirloom-hp\",\"dh\":true,\"dhqt\":true,\"ds\":\"\",\"'\n",
      " b'fl\":true,\"host\":\"google.co.il\",\"isbh\":28,\"jsonp\":true,\"msgs\":{\"cibl\"'\n",
      " b':\"\\xf0\\xf7\\xe4 \\xe7\\xe9\\xf4\\xe5\\xf9\",\"dym\":\"\\xe4\\xe0\\xed \\xe4\\xfa\\xeb\\xe5'\n",
      " b'\\xe5\\xf0\\xfa \\xec:\",\"lcky\":\"\\xe9\\xe5\\xfa\\xf8 \\xee\\xe6\\xec \\xee\\xf9\\xeb'\n",
      " b'\\xec\",\"lml\":\"\\xec\\xee\\xe9\\xe3\\xf2 \\xf0\\xe5\\xf1\\xf3\",\"oskt\":\"\\xeb\\xec'\n",
      " b'\\xe9 \\xe4\\xe6\\xf0\\xe4\",\"psrc\":\"\\xe7\\xe9\\xf4\\xe5\\xf9 \\xe6\\xe4 \\xe4\\xe5\\xf1'\n",
      " b'\\xf8 \\xee\\\\u003Ca href=\\\\\"/history\\\\\"\\\\u003E\\xe4\\xe9\\xf1\\xe8\\xe5\\xf8'\n",
      " b'\\xe9\\xe9\\xfa \\xe4\\xe0\\xe9\\xf0\\xe8\\xf8\\xf0\\xe8\\\\u003C/a\\\\u003E \\xf9\\xec\\xea\",'\n",
      " b'\"psrl\":\"\\xe4\\xf1\\xf8\",\"sbit\":\"\\xe7\\xe9\\xf4\\xe5\\xf9 \\xec\\xf4\\xe9 \\xfa'\n",
      " b'\\xee\\xe5\\xf0\\xe4\",\"srch\":\"\\xe7\\xe9\\xf4\\xe5\\xf9 \\xe1-Google\"},\"nds\":true,\"o'\n",
      " b'vr\":{},\"pq\":\"\",\"refpd\":true,\"rfs\":[],\"sbpl\":24,\"sbpr\":24,\"scd\":10,\"sce\":5,\"s'\n",
      " b'tok\":\"qiZbnNmvXreJngOwSkZksG4Zjsw\"},\"d\":{},\"ZI/YVQ\":{},\"YFCs/g\":{}};google.x'\n",
      " b'(null,function(){});(function(){var r=[];google.plm(r);})();(function(){var '\n",
      " b'ctx=[]\\n;google.jsc && google.jsc.x(ctx);})();</script></div></body></html>')\n"
     ]
    }
   ],
   "source": [
    "pp(urllib.request.urlopen(\"https://www.google.com\").read())"
   ]
  },
  {
   "cell_type": "code",
   "execution_count": 6,
   "metadata": {
    "slideshow": {
     "slide_type": "subslide"
    }
   },
   "outputs": [
    {
     "name": "stdout",
     "output_type": "stream",
     "text": [
      "Day.MONDAY\n",
      "<Day.MONDAY: 2>\n"
     ]
    }
   ],
   "source": [
    "# Enumerations are great, you should familiarize yourself with them\n",
    "from enum import Enum\n",
    "class Day(Enum):\n",
    "    SUNDAY = 1\n",
    "    MONDAY = 2\n",
    "    TUESDAY = 3\n",
    "    WEDNESDAY = 4\n",
    "    THURSDAY = 5\n",
    "    FRIDAY = 6\n",
    "    SATURDAY = 7\n",
    "\n",
    "d = Day.MONDAY\n",
    "print(d)\n",
    "pp(d)"
   ]
  },
  {
   "cell_type": "code",
   "execution_count": 38,
   "metadata": {
    "slideshow": {
     "slide_type": "subslide"
    }
   },
   "outputs": [],
   "source": [
    "from random import randint, randrange"
   ]
  },
  {
   "cell_type": "code",
   "execution_count": 2,
   "metadata": {
    "slideshow": {
     "slide_type": "subslide"
    }
   },
   "outputs": [],
   "source": [
    "# Instead (or on top) of from:\n",
    "import multiprocessing.pool as mpool"
   ]
  },
  {
   "cell_type": "code",
   "execution_count": 8,
   "metadata": {
    "slideshow": {
     "slide_type": "subslide"
    }
   },
   "outputs": [
    {
     "name": "stdout",
     "output_type": "stream",
     "text": [
      "3.141592653589793\n",
      "2.718281828459045\n",
      "-1.0\n"
     ]
    }
   ],
   "source": [
    "# A non-recommended version of importing is the star import\n",
    "from math import *\n",
    "print(pi)\n",
    "print(e)\n",
    "print(cos(pi))"
   ]
  },
  {
   "cell_type": "markdown",
   "metadata": {
    "slideshow": {
     "slide_type": "subslide"
    }
   },
   "source": [
    "The list of all standard library modules in Python 3 is [here](https://docs.python.org/3/library/index.html). However, it's just a drop in the ocean that is the Python ecosystem. "
   ]
  },
  {
   "cell_type": "markdown",
   "metadata": {
    "slideshow": {
     "slide_type": "slide"
    }
   },
   "source": [
    "## `pip` and External Modules"
   ]
  },
  {
   "cell_type": "markdown",
   "metadata": {
    "slideshow": {
     "slide_type": "subslide"
    }
   },
   "source": [
    "As noted before, Python's gigantic ecosystem is one of its biggest strengths. And the fact that you can easily install many of these package with a simple command-line instruction is even more important. The standard tool to do that is `pip`, a recursive acronym that stands for \"`pip` installs Python\"."
   ]
  },
  {
   "cell_type": "markdown",
   "metadata": {
    "slideshow": {
     "slide_type": "subslide"
    }
   },
   "source": [
    "`pip` itself is a Python program, __but its not run from inside the Python interpreter.__ Instead its run from a shell - the Windows command line (or PowerShell), for example, or the Mac's terminal - making it an external application to Python. Happily enough, basically all Python distributions come with `pip` pre-installed, so you don't have to install it yourself."
   ]
  },
  {
   "cell_type": "markdown",
   "metadata": {
    "slideshow": {
     "slide_type": "subslide"
    }
   },
   "source": [
    "`pip`, like any package manager, has two main jobs. The first is to provide a convenient API to a package repository. In essence, it's a download manager for a single site - the [Python Package Index](https://pypi.python.org/pypi) (PyPI, pronounced _pai-pee-eye_), the official Python repository for packages.\n",
    "\n",
    "PyPI holds installation files for the packages hosted in it, alongside with some metadata, like version number and dependencies. `pip` (and other tools we'll discuss soon) downloads the wanted package from PyPI, together with its dependencies, and installs them in a pre-defined location in our personal computer."
   ]
  },
  {
   "cell_type": "markdown",
   "metadata": {
    "slideshow": {
     "slide_type": "subslide"
    }
   },
   "source": [
    "`pip`'s second important job is handling dependencies. Many packages rely on other packages, which in turn rely on other, more basic packages, finally leading to the basic Python interpreter. `pip` has to make sure to install all dependencies of the package you're currently after, and to avoid any collisions with other installed packages. For example, a common problem in the Python world is the Python 2-3 schism, which means that packages written for Python 2 can't run on a Python 3 interpreter, and vice versa. The package manger's job is to grant you the right version of the package you're looking for."
   ]
  },
  {
   "cell_type": "markdown",
   "metadata": {
    "slideshow": {
     "slide_type": "subslide"
    }
   },
   "source": [
    "### Environments and Usage"
   ]
  },
  {
   "cell_type": "markdown",
   "metadata": {
    "slideshow": {
     "slide_type": "subslide"
    }
   },
   "source": [
    "Using a package manager like `pip` is super easy: In the command line, you write:\n",
    "`pip install package-name`\n",
    "\n",
    "That being said, as you may have noticed I like to complicate these things a little, and instead I enforce the use of _environments_. As stated, environments are isolated project areas that have a specific software ecosystem attached to them. First and foremost, they have a specific Python version attached to them. So a single computer can have multiple environments, with some running Python 2 code, and others running Python 3. An environment is usually attached to a project. I have an environment for this class, for a previous class I taught, for some toy projects I wrote, and so on. "
   ]
  },
  {
   "cell_type": "markdown",
   "metadata": {
    "slideshow": {
     "slide_type": "subslide"
    }
   },
   "source": [
    "The environment manager we use is called Miniconda, and while Python comes with an environment manager of its own (`virtualenv`), `conda` is the more popular option, especially for scientific Python. `conda` manages dependencies in a more strict fashion than `pip`, and can be used to manage the dependencies of other applications. Miniconda is a \"bare-bones\" installation, so it doesn't bloat your computer with unneeded packages, allowing for manual control of each package and environment. It also serves for a better learning experience than Anaconda."
   ]
  },
  {
   "cell_type": "markdown",
   "metadata": {
    "slideshow": {
     "slide_type": "slide"
    }
   },
   "source": [
    "## File Structure"
   ]
  },
  {
   "cell_type": "markdown",
   "metadata": {
    "slideshow": {
     "slide_type": "subslide"
    }
   },
   "source": [
    "`import` statements are useful for more than just importing code - they're also our way of arranging our project's files. Here's the standard arrangement of files I'd like you to use throughout the course:"
   ]
  },
  {
   "cell_type": "markdown",
   "metadata": {
    "slideshow": {
     "slide_type": "subslide"
    }
   },
   "source": [
    "![Folder Structure](./folder_structure.png)"
   ]
  },
  {
   "cell_type": "markdown",
   "metadata": {
    "slideshow": {
     "slide_type": "subslide"
    }
   },
   "source": [
    "The base folder can contain many other files, including sample data, for example. The point here is that your actual code in confined to the `src` folder, which has an empty `__init__.py`. This file allows Python to import user-defined objects from that folder.\n",
    "\n",
    "Thus, if you wish to use a function you defined in `class_1.py` in `class_2.py`, you should write inside `class_2.py` the following statement: `from class_1.py import my_func`."
   ]
  },
  {
   "cell_type": "markdown",
   "metadata": {
    "slideshow": {
     "slide_type": "subslide"
    }
   },
   "source": [
    "![Summary of environments and namespaces](envs.png)"
   ]
  },
  {
   "cell_type": "markdown",
   "metadata": {
    "slideshow": {
     "slide_type": "slide"
    }
   },
   "source": [
    "## Scripts and Functions \n",
    "#### (Code examples in `import_demonstration` folder)"
   ]
  },
  {
   "cell_type": "markdown",
   "metadata": {
    "slideshow": {
     "slide_type": "subslide"
    }
   },
   "source": [
    "If you're familiar with MATLAB there's a good chance that you've written a script before. A script is a file which is run sequentially, while using other functions and definitions. Python supports scripts as well, as can be seen in `main.py`."
   ]
  },
  {
   "cell_type": "markdown",
   "metadata": {
    "slideshow": {
     "slide_type": "subslide"
    }
   },
   "source": [
    "However, in the Python world people usually prefer to stay away from scripts. This is due to a number of reasons, the most important one being that running a `main()` function as it is easy as running a `main.py` script. You can see examples of a procedural and script-like approach in the `main.py` file, but keep in mind the the script version is discouraged."
   ]
  },
  {
   "cell_type": "markdown",
   "metadata": {
    "slideshow": {
     "slide_type": "subslide"
    }
   },
   "source": [
    "If you wish to run a file full with functions from the command line, or from your IDE, you should include the following lines:\n",
    "```python\n",
    "if __name__ == '__main__':\n",
    "    run_main()\n",
    "```"
   ]
  },
  {
   "cell_type": "markdown",
   "metadata": {
    "slideshow": {
     "slide_type": "subslide"
    }
   },
   "source": [
    "Every Python file which is being run has a caller. If this file was run directly from the Python interpreter its `__name__` will be `'__main__'`. This `if` statement basically tells the Python interpreter \"Start from here\", and is the conventional way to run Python procedures."
   ]
  },
  {
   "cell_type": "markdown",
   "metadata": {
    "slideshow": {
     "slide_type": "subslide"
    }
   },
   "source": [
    "In this course you're highly encouraged to divide your code into many small functions and methods in well-defined compact classes. Each method should have a single purpose, documented in its docstring. Each class should have a logical structure that envelopes its methods and attributes in a sensible way.\n",
    "\n",
    "Beware of God classes, or God scripts and functions. These are monolithic objects that encompass the entirety of your application, and are very hard to reason about.\n",
    "\n",
    "Another important reason to partition our code into many small bits is _unit testing_, which we'll cover later on in the course."
   ]
  },
  {
   "cell_type": "markdown",
   "metadata": {
    "slideshow": {
     "slide_type": "slide"
    }
   },
   "source": [
    "## Exercise"
   ]
  },
  {
   "cell_type": "markdown",
   "metadata": {
    "slideshow": {
     "slide_type": "subslide"
    }
   },
   "source": [
    "Create this folder structure with a couple of mock functions that only print their name. Use the `import` statement in the native Python interpreter to demonstrate your ability to execute imported code. \n",
    "\n",
    "In addition, install the package `pytz` using `pip` and make sure you're able to `import` it. Don't forget to activate your environment!\n",
    "\n",
    "Finally, track the folder using git and upload it to the same repository to which you uploaded your HW to."
   ]
  }
 ],
 "metadata": {
  "anaconda-cloud": {},
  "celltoolbar": "Slideshow",
  "kernelspec": {
   "display_name": "Python [default]",
   "language": "python",
   "name": "python3"
  },
  "language_info": {
   "codemirror_mode": {
    "name": "ipython",
    "version": 3
   },
   "file_extension": ".py",
   "mimetype": "text/x-python",
   "name": "python",
   "nbconvert_exporter": "python",
   "pygments_lexer": "ipython3",
   "version": "3.6.4"
  }
 },
 "nbformat": 4,
 "nbformat_minor": 2
}
