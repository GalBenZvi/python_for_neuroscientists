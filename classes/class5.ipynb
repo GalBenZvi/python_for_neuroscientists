{
 "cells": [
  {
   "cell_type": "markdown",
   "metadata": {},
   "source": [
    "# Class 5 - 20.4.20"
   ]
  },
  {
   "cell_type": "markdown",
   "metadata": {},
   "source": [
    "# Assignment 3 Comments"
   ]
  },
  {
   "cell_type": "markdown",
   "metadata": {},
   "source": [
    "## Short and Precise Functions"
   ]
  },
  {
   "cell_type": "markdown",
   "metadata": {},
   "source": [
    "As we said earlier this year, our goal in this course is not only to learn Python, it's also to learn how to write better code. As you all know, one of best methods to solve problems is \"divide and conquer\". By this I mean that as a first step when encountering a new problem - a HW assignment or a scientific question - is to divide it into smaller parts and solve each part separately. This method works in our day to day research, and it's also extremely important when writing code.\n",
    "\n",
    "In code, these \"smaller parts\" are obviously functions or class methods. In MATLAB this wasn't encouraged too much, since until very recently you were unable to create a file containing more than one function, or a function and a script. This meant that if you wanted to \"divide and conquer\" your algorithm, by the time you're done you'd end up with hundreds of files, some of them only containing a few lines of code. In Python this technical difficulty doesn't exist - you may write as many functions as you'd like in a single file, and `import` some (or all) of them to other files and modules.\n",
    "\n",
    "Since the technical difficulties aren't really an issue, let's drill down by looking at a slightly more concrete example. Assume I need to write the pre-processing steps for some cell counting software\\algorithm that someone else wrote for me. The first thing I do when trying to solve this type of puzzle is to decompose it into its main parts. Then I'll go over each part and de-structure it further, until I'm left with small enough units of work, which will become individual functions. In principle, the thought process may follow the following mock diagram:\n",
    "\n",
    "![Examplary modular approach (made with Diagram.Codes)](extra_material/cell_counting_algo_line_of_thought.svg)\n",
    "\n",
    "Here each rectangle is a unit of work I need to do, and I sometimes add the function name that connects a rectangle to the next one, if I feel like this information is useful. The different steps show how I progressed from having a general concept of the software I'm about to write, to having a pretty concrete graph which I should \"copy-paste\" into my code, in the form of functions, of course. I.e., all that's left for me to do after writing the graph explicitly like that is to actually implement the code. This process, at the beginning, won't be too natural, but after a few times I'm sure it'll be much easier for you, perhaps to a point in which for most algorithms you don't even need to draw them out on paper.\n",
    "\n",
    "The important thing to remember here is that each component or function should do exactly one thing, and do it well. Even if that thing is very small, and\\or very simple, it should still be its own function."
   ]
  },
  {
   "cell_type": "markdown",
   "metadata": {},
   "source": [
    "Moving on to real examples, I want you to see the final product of this thought process as it manifested in the solution to HW2, question 1. As a reminder, the question was the \"Morse Code\" question, in which you were given a dictionary mapping letters to code, and were asked to translate a text to it. My final diagram for the main function (`english_to_morse`) was the following:\n",
    "\n",
    "![English to morse diagram](extra_material/english_to_morse_diagram.svg)"
   ]
  },
  {
   "cell_type": "markdown",
   "metadata": {},
   "source": [
    "And this is the code that I published as a solution (docstring removed):\n",
    "\n",
    "```python\n",
    "def english_to_morse(\n",
    "    input_file: str = \"lorem.txt\", output_file: str = \"lorem_morse.txt\"\n",
    "):\n",
    "    file = pathlib.Path(str(input_file))\n",
    "    if not file.exists():\n",
    "        raise ValueError(f\"File {file} doesn't exist.\")\n",
    "    # Generate a new dictionary with all letters, upper and lower case\n",
    "    code_ord_upper = {ord(key): val for key, val in MORSE_CODE.items()}\n",
    "    code_ord_lower = {ord(key.lower()): val for key, val in MORSE_CODE.items()}\n",
    "    new_code = {**code_ord_lower, **code_ord_upper}\n",
    "    data = convert(file, new_code)\n",
    "    to_disk(data, pathlib.Path(output_file))\n",
    "```\n",
    "\n",
    "As you can see, not all rectangles are independent functions - although they definitely could be. For one reason or the other I decided to keep some of the code inside the main function, and move some other parts to an independent function. Usually the underlying reason has to do with code reusability, or the question \"how likely it is that I'll re-use this code snippet somewhere else?\". If the answer is \"likely\" then I'd take that chunk of code and extract it to a function, since later I might have to write another piece of code that needs the exact same functionality. In our current case, I decided that writing out to disk is a \"general\" function that could be re-used elsewhere.\n",
    "\n",
    "If reusability is the guiding principle, why did I factor out `convert`? Well, because there are other considerations. In the `convert` case, I decided that the reader of `english_to_morse` needs to see the full picture of the function, and some details might be of lesser interest. The `convert` function uses very clear arguments (the data and the dictionary) and outputs a new data variable, so a naive reader can easily understand what's going on here without checking exactly how am I converting the file. Besides, the actual `convert` operation might be costly and complicated, and these details will \"bury\" the logic and flow of `english_to_morse`, decreasing readability even further.\n",
    "\n",
    "As a final comment, I wish to remind you that both the `convert` and the `to_disk` functions are extremely short. Here's `to_disk`, docstring removed:\n",
    "\n",
    "```python\n",
    "def to_disk(data: str, file: pathlib.Path):\n",
    "    try:\n",
    "        with open(file, \"w\") as f:\n",
    "            f.write(data)\n",
    "    except PermissionError as e:\n",
    "        print(f\"Error: {e}. Data is still accessible in 'data' variable.\")\n",
    "```\n",
    "\n",
    "All this function does is write something to disk, and report if it fails. These five lines of code could easily fit inside `english_to_morse`, but moving this unit of work into its own function improves readability and reusability of our code, which are two huge pluses.\n",
    "\n",
    "To summarize, I found the smallest components of `english_to_morse`, written an outline of how would my solution look like, and finally I coded it together. Later on in the course we'll see two interesting aspects in which this process could be better."
   ]
  },
  {
   "cell_type": "markdown",
   "metadata": {},
   "source": [
    "## General Comments (Assignment 2 cont'd.)"
   ]
  },
  {
   "cell_type": "markdown",
   "metadata": {},
   "source": [
    "1. Remember to use `with` blocks to open files, just as I did above.\n",
    "2. Don't define functions within functions, i.e. avoid this:\n",
    "    ```python\n",
    "def a(b):\n",
    "    c = b + 1\n",
    "    def add_one(var):\n",
    "        return var + 1\n",
    "    c = add_one(c)\n",
    "    return c\n",
    "    ```\n",
    "  It's very rare that you'll need a function inside another function - it's almost always better to define it in the outer scope, and use it inside the other function (`a` in this case).\n",
    "3. `import` statement belong to the top of the file.\n",
    "4. Don't comment each line. If you chose proper function and variable names, most of your code should be self exlplanatory. Write long docstrings, and if there's a chunk of code that needs explain, give a \"what is going on here, and why\" overview before that chunk of code, not a detailed line-by-line account. You can check the `english_to_morse` function above for an example.\n",
    "5. `return`ing from a function can be done only once! This will always return 1:\n",
    "```python\n",
    "def a():\n",
    "    return 1\n",
    "    return 2\n",
    "```\n",
    "    If you want to return both numbers, write `return (1, 2)`. Notice that i added parenthesis to make it a tuple, but if you don't want to return a tuple you don't need to wrap things in parenthesis."
   ]
  },
  {
   "cell_type": "markdown",
   "metadata": {
    "slideshow": {
     "slide_type": "slide"
    }
   },
   "source": [
    "# Scientific Python"
   ]
  },
  {
   "cell_type": "markdown",
   "metadata": {
    "slideshow": {
     "slide_type": "slide"
    }
   },
   "source": [
    "## Introduction"
   ]
  },
  {
   "cell_type": "markdown",
   "metadata": {
    "slideshow": {
     "slide_type": "subslide"
    }
   },
   "source": [
    "![The scientific Python stack](extra_material/scientific_python.jpg)"
   ]
  },
  {
   "cell_type": "markdown",
   "metadata": {
    "slideshow": {
     "slide_type": "subslide"
    }
   },
   "source": [
    "The onion-like scientific stack of Python is composed of the most important packages used in the Python scientific world. Here's a quick overview of the most important names in the stack, before we dive in deep:\n",
    "1. IPython: A REPL, much like the command window in MATLAB. Lets you write Python on the fly, debug and check the performance of your code, and much (much!) more.\n",
    "2. NumPy: Standard implementation of multi-dimensional arrays in Python. \n",
    "3. Jupyter: Notebooks aimed at data exploration. Write code and see its output immediately, with useful rich text (Markdown) annotations to accompany it - just like this notebook.\n",
    "4. SciPy: Implements advanced algorithms widely used in scientific programming. Advanced linear algebra, data structures, curve fitting, signal processing, modeling and more.\n",
    "5. Matplotlib: Visualizations of your data in Python with MATLAB-like interface.\n",
    "6. Pandas: Tabular data manipulation.\n",
    "7. Seaborn: Smart visualizations of tabular data.\n",
    "\n",
    "This scientific stack is one of the main reasons that empowered Python in recent years to the prominent spot it has today. Throughout the course you will become familiar with all ofthe mentioned tools, and more."
   ]
  },
  {
   "cell_type": "markdown",
   "metadata": {
    "slideshow": {
     "slide_type": "slide"
    }
   },
   "source": [
    "## NumPy"
   ]
  },
  {
   "cell_type": "markdown",
   "metadata": {
    "slideshow": {
     "slide_type": "subslide"
    }
   },
   "source": [
    "NumPy is the de-facto implementation of arrays in Python. They're very similar to MATLAB arrays (and to other implementations in other programming languages), which will hopefully make us feel comfortable with this module."
   ]
  },
  {
   "cell_type": "markdown",
   "metadata": {
    "slideshow": {
     "slide_type": "subslide"
    }
   },
   "source": [
    ">[This](https://docs.scipy.org/doc/numpy/user/numpy-for-matlab-users.html) page contains a thorough comparison of similar functions in MATLAB and numpy. If you want to use MATLAB's `find` function and can't seem to find a counterpart in numpy (it's `nonzero`, BTW), or if you wish to see how do different arithmetic functions compare between the two, that page can be of great assistance."
   ]
  },
  {
   "cell_type": "markdown",
   "metadata": {},
   "source": [
    "Although `numpy` is used extensively in the Python eco-system, it doesn't come with the Python standard library, which means you have to install it first. Activate your environment and run `pip install numpy` from the command line (inside VSCode, for example). Only then you can follow the rest of the class."
   ]
  },
  {
   "cell_type": "code",
   "execution_count": 1,
   "metadata": {
    "slideshow": {
     "slide_type": "subslide"
    }
   },
   "outputs": [],
   "source": [
    "import numpy as np  # standard alias for numpy"
   ]
  },
  {
   "cell_type": "code",
   "execution_count": 2,
   "metadata": {
    "slideshow": {
     "slide_type": "subslide"
    }
   },
   "outputs": [
    {
     "data": {
      "text/plain": [
       "array([1, 2, 3])"
      ]
     },
     "execution_count": 2,
     "metadata": {},
     "output_type": "execute_result"
    }
   ],
   "source": [
    "l = [1, 2, 3]\n",
    "arr = np.array(l)  # obviously equal to np.array([1, 2, 3])\n",
    "arr"
   ]
  },
  {
   "cell_type": "markdown",
   "metadata": {},
   "source": [
    "`arr` is a numpy array. Notice how `numpy` has to take existing data, in this case in the form of a list `l`, and convert it into an array. In MATLAB everything is an array all the time so we don't think of this conversion, but here the conversion happens explicitly when you call `np.array()` on some collection of data. \n",
    "\n",
    "Let's continue to examine the basic properties of this array."
   ]
  },
  {
   "cell_type": "code",
   "execution_count": 3,
   "metadata": {
    "slideshow": {
     "slide_type": "subslide"
    }
   },
   "outputs": [
    {
     "name": "stdout",
     "output_type": "stream",
     "text": [
      "Shape:  (3,)\n",
      "NDim:  1\n",
      "Wrong instantiation results:\n",
      "Shape:  ()\n",
      "NDim:  0\n"
     ]
    }
   ],
   "source": [
    "# Check the dimensionality of the array:\n",
    "print(\"Shape: \", arr.shape)\n",
    "print(\"NDim: \", arr.ndim)\n",
    "# But...\n",
    "a = np.array(1)  # wrong instatiation! Don't use it, instead write np.array([1])\n",
    "print(\"Wrong instantiation results:\")\n",
    "print(\"Shape: \", a.shape)\n",
    "print(\"NDim: \", a.ndim)"
   ]
  },
  {
   "cell_type": "markdown",
   "metadata": {
    "slideshow": {
     "slide_type": "subslide"
    }
   },
   "source": [
    "We've instantiated an array by calling the `np.array()` function on an iterable. This will create a one-dimensional numpy array, or _vector_. This is the first _important_ difference from MATLAB. In MATLAB, all arrays are by default n-dimensional. If you write:\n",
    "```matlab\n",
    "a = 1\n",
    "a(:, :, :, :, :, 1) = 2\n",
    "```\n",
    "then you just received a 6-dimensional array. Numpy doesn't allow that. The dimensions of an array are generally the dimensions it had when it was created. You can always use `reshape`, like MATLAB, to define the exact number of dimensions you wish to have. You can also use `np.newaxis` to add an axis, as we'll see below. But these options still keep the number of elements in the array the same, they just re-order them.\n",
    "\n",
    "This means that a 2x4 array can be reshaped into a 4x2 array, or a 2x2x2 one, but not 3x3x3.\n",
    "\n",
    "The second difference is the idea of vectors."
   ]
  },
  {
   "cell_type": "code",
   "execution_count": 4,
   "metadata": {
    "slideshow": {
     "slide_type": "subslide"
    }
   },
   "outputs": [
    {
     "name": "stdout",
     "output_type": "stream",
     "text": [
      "The number of dimensions is 1.\n",
      "The shape is (3,).\n"
     ]
    }
   ],
   "source": [
    "print(f\"The number of dimensions is {arr.ndim}.\")\n",
    "print(f\"The shape is {arr.shape}.\")"
   ]
  },
  {
   "cell_type": "markdown",
   "metadata": {
    "slideshow": {
     "slide_type": "subslide"
    }
   },
   "source": [
    "As you see, `ndim` returns the number of dimensions. The `shape` is returned as a tuple, the length of which is the number of dimensions, while the values represent the number of elements in each dimensions. `shape` is very similar to the `size()` function of MATLAB."
   ]
  },
  {
   "cell_type": "markdown",
   "metadata": {
    "slideshow": {
     "slide_type": "subslide"
    }
   },
   "source": [
    "Creating arrays with more than one dimension might look odd at a first glance:"
   ]
  },
  {
   "cell_type": "code",
   "execution_count": 5,
   "metadata": {
    "slideshow": {
     "slide_type": "subslide"
    }
   },
   "outputs": [
    {
     "data": {
      "text/plain": [
       "array([[1, 2, 3],\n",
       "       [4, 5, 6]])"
      ]
     },
     "execution_count": 5,
     "metadata": {},
     "output_type": "execute_result"
    }
   ],
   "source": [
    "arr_2d = np.array([[1, 2, 3], [4, 5, 6]])\n",
    "arr_2d"
   ]
  },
  {
   "cell_type": "code",
   "execution_count": 6,
   "metadata": {
    "slideshow": {
     "slide_type": "subslide"
    }
   },
   "outputs": [
    {
     "name": "stdout",
     "output_type": "stream",
     "text": [
      "The number of dimensions is 2.\n",
      "The shape is (2, 3).\n",
      "The len of the array is 2 - which corresponds to the shape of the 0th dimension.\n"
     ]
    }
   ],
   "source": [
    "print(f\"The number of dimensions is {arr_2d.ndim}.\")\n",
    "print(f\"The shape is {arr_2d.shape}.\")\n",
    "print(f\"The len of the array is {len(arr_2d)} - which corresponds to the shape of the 0th dimension.\")"
   ]
  },
  {
   "cell_type": "markdown",
   "metadata": {
    "slideshow": {
     "slide_type": "subslide"
    }
   },
   "source": [
    "As we see, each list was considered a single \"row\" (dimension number 0) in the final array, very much like MATLAB, although the syntax can be confusing at first. Here's another slightly confusing example:"
   ]
  },
  {
   "cell_type": "code",
   "execution_count": 7,
   "metadata": {
    "scrolled": true,
    "slideshow": {
     "slide_type": "subslide"
    }
   },
   "outputs": [
    {
     "data": {
      "text/plain": [
       "array([[[1],\n",
       "        [2]],\n",
       "\n",
       "       [[3],\n",
       "        [4]]])"
      ]
     },
     "execution_count": 7,
     "metadata": {},
     "output_type": "execute_result"
    }
   ],
   "source": [
    "c = np.array([[[1], [2]], [[3], [4]]])\n",
    "c"
   ]
  },
  {
   "cell_type": "code",
   "execution_count": 8,
   "metadata": {
    "slideshow": {
     "slide_type": "subslide"
    }
   },
   "outputs": [
    {
     "data": {
      "text/plain": [
       "(2, 2, 1)"
      ]
     },
     "execution_count": 8,
     "metadata": {},
     "output_type": "execute_result"
    }
   ],
   "source": [
    "c.shape"
   ]
  },
  {
   "cell_type": "code",
   "execution_count": 9,
   "metadata": {},
   "outputs": [
    {
     "data": {
      "text/plain": [
       "(2, 2, 1)"
      ]
     },
     "execution_count": 9,
     "metadata": {},
     "output_type": "execute_result"
    }
   ],
   "source": [
    "c2 = np.array([1, 2, 3, 4]).reshape((2, 2, 1))\n",
    "c2.shape"
   ]
  },
  {
   "cell_type": "markdown",
   "metadata": {
    "slideshow": {
     "slide_type": "slide"
    }
   },
   "source": [
    "### Getting help"
   ]
  },
  {
   "cell_type": "markdown",
   "metadata": {
    "slideshow": {
     "slide_type": "subslide"
    }
   },
   "source": [
    "Numpy has a ton of features, and to get around it we can use `lookfor` and the `?` sign, besides the official reference on the internet:"
   ]
  },
  {
   "cell_type": "code",
   "execution_count": 10,
   "metadata": {
    "slideshow": {
     "slide_type": "subslide"
    }
   },
   "outputs": [
    {
     "name": "stdout",
     "output_type": "stream",
     "text": [
      "Search results for 'create array'\n",
      "---------------------------------\n",
      "numpy.array\n",
      "    Create an array.\n",
      "numpy.memmap\n",
      "    Create a memory-map to an array stored in a *binary* file on disk.\n",
      "numpy.diagflat\n",
      "    Create a two-dimensional array with the flattened input as a diagonal.\n",
      "numpy.fromiter\n",
      "    Create a new 1-dimensional array from an iterable object.\n",
      "numpy.partition\n",
      "    Return a partitioned copy of an array.\n",
      "numpy.ctypeslib.as_array\n",
      "    Create a numpy array from a ctypes array or POINTER.\n",
      "numpy.ma.diagflat\n",
      "    Create a two-dimensional array with the flattened input as a diagonal.\n",
      "numpy.ma.make_mask\n",
      "    Create a boolean mask from an array.\n",
      "numpy.ctypeslib.as_ctypes\n",
      "    Create and return a ctypes object from a numpy array.  Actually\n",
      "numpy.ma.mrecords.fromarrays\n",
      "    Creates a mrecarray from a (flat) list of masked arrays.\n",
      "numpy.ma.mvoid.__new__\n",
      "    Create a new masked array from scratch.\n",
      "numpy.lib.format.open_memmap\n",
      "    Open a .npy file as a memory-mapped array.\n",
      "numpy.ma.MaskedArray.__new__\n",
      "    Create a new masked array from scratch.\n",
      "numpy.lib.arrayterator.Arrayterator\n",
      "    Buffered iterator for big arrays.\n",
      "numpy.ma.mrecords.fromtextfile\n",
      "    Creates a mrecarray from data stored in the file `filename`.\n",
      "numpy.asarray\n",
      "    Convert the input to an array.\n",
      "numpy.ndarray\n",
      "    ndarray(shape, dtype=float, buffer=None, offset=0,\n",
      "numpy.recarray\n",
      "    Construct an ndarray that allows field access using attributes.\n",
      "numpy.chararray\n",
      "    chararray(shape, itemsize=1, unicode=False, buffer=None, offset=0,\n",
      "numpy.exp\n",
      "    Calculate the exponential of all elements in the input array.\n",
      "numpy.pad\n",
      "    Pad an array.\n",
      "numpy.asanyarray\n",
      "    Convert the input to an ndarray, but pass ndarray subclasses through.\n",
      "numpy.cbrt\n",
      "    Return the cube-root of an array, element-wise.\n",
      "numpy.copy\n",
      "    Return an array copy of the given object.\n",
      "numpy.diag\n",
      "    Extract a diagonal or construct a diagonal array.\n",
      "numpy.exp2\n",
      "    Calculate `2**p` for all `p` in the input array.\n",
      "numpy.fmax\n",
      "    Element-wise maximum of array elements.\n",
      "numpy.fmin\n",
      "    Element-wise minimum of array elements.\n",
      "numpy.load\n",
      "    Load arrays or pickled objects from ``.npy``, ``.npz`` or pickled files.\n",
      "numpy.modf\n",
      "    Return the fractional and integral parts of an array, element-wise.\n",
      "numpy.rint\n",
      "    Round elements of the array to the nearest integer.\n",
      "numpy.sort\n",
      "    Return a sorted copy of an array.\n",
      "numpy.sqrt\n",
      "    Return the non-negative square-root of an array, element-wise.\n",
      "numpy.array_equiv\n",
      "    Returns True if input arrays are shape consistent and all elements equal.\n",
      "numpy.dtype\n",
      "    Create a data type object.\n",
      "numpy.expm1\n",
      "    Calculate ``exp(x) - 1`` for all elements in the array.\n",
      "numpy.isnan\n",
      "    Test element-wise for NaN and return result as a boolean array.\n",
      "numpy.isnat\n",
      "    Test element-wise for NaT (not a time) and return result as a boolean array.\n",
      "numpy.log10\n",
      "    Return the base 10 logarithm of the input array, element-wise.\n",
      "numpy.log1p\n",
      "    Return the natural logarithm of one plus the input array, element-wise.\n",
      "numpy.power\n",
      "    First array elements raised to powers from second array, element-wise.\n",
      "numpy.ufunc\n",
      "    Functions that operate element by element on whole arrays.\n",
      "numpy.choose\n",
      "    Construct an array from an index array and a set of arrays to choose from.\n",
      "numpy.nditer\n",
      "    Efficient multi-dimensional iterator object to iterate over arrays.\n",
      "numpy.maximum\n",
      "    Element-wise maximum of array elements.\n",
      "numpy.minimum\n",
      "    Element-wise minimum of array elements.\n",
      "numpy.swapaxes\n",
      "    Interchange two axes of an array.\n",
      "numpy.full_like\n",
      "    Return a full array with the same shape and type as a given array.\n",
      "numpy.ones_like\n",
      "    Return an array of ones with the same shape and type as a given array.\n",
      "numpy.bitwise_or\n",
      "    Compute the bit-wise OR of two arrays element-wise.\n",
      "numpy.empty_like\n",
      "    Return a new array with the same shape and type as a given array.\n",
      "numpy.zeros_like\n",
      "    Return an array of zeros with the same shape and type as a given array.\n",
      "numpy.asarray_chkfinite\n",
      "    Convert the input to an array, checking for NaNs or Infs.\n",
      "numpy.bitwise_and\n",
      "    Compute the bit-wise AND of two arrays element-wise.\n",
      "numpy.bitwise_xor\n",
      "    Compute the bit-wise XOR of two arrays element-wise.\n",
      "numpy.float_power\n",
      "    First array elements raised to powers from second array, element-wise.\n",
      "numpy.ma.exp\n",
      "    Calculate the exponential of all elements in the input array.\n",
      "numpy.diag_indices\n",
      "    Return the indices to access the main diagonal of an array.\n",
      "numpy.nested_iters\n",
      "    Create nditers for use in nested loops\n",
      "numpy.ma.sqrt\n",
      "    Return the non-negative square-root of an array, element-wise.\n",
      "numpy.ma.log10\n",
      "    Return the base 10 logarithm of the input array, element-wise.\n",
      "numpy.chararray.tolist\n",
      "    a.tolist()\n",
      "numpy.put_along_axis\n",
      "    Put values into the destination array by matching 1d index and data slices.\n",
      "numpy.ma.choose\n",
      "    Use an index array to construct a new array from a set of choices.\n",
      "numpy.ma.maximum\n",
      "    Element-wise maximum of array elements.\n",
      "numpy.ma.minimum\n",
      "    Element-wise minimum of array elements.\n",
      "numpy.ma.mrecords.MaskedRecords.__new__\n",
      "    Create a new masked array from scratch.\n",
      "numpy.savez_compressed\n",
      "    Save several arrays into a single file in compressed ``.npz`` format.\n",
      "numpy.matlib.rand\n",
      "    Return a matrix of random values with given shape.\n",
      "numpy.datetime_as_string\n",
      "    Convert an array of datetimes into an array of strings.\n",
      "numpy.ma.bitwise_or\n",
      "    Compute the bit-wise OR of two arrays element-wise.\n",
      "numpy.ma.bitwise_and\n",
      "    Compute the bit-wise AND of two arrays element-wise.\n",
      "numpy.ma.bitwise_xor\n",
      "    Compute the bit-wise XOR of two arrays element-wise.\n",
      "numpy.ma.make_mask_none\n",
      "    Return a boolean mask of the given shape, filled with False.\n",
      "numpy.ma.tests.test_subclassing.MSubArray.__new__\n",
      "    Create a new masked array from scratch.\n",
      "numpy.core._multiarray_umath.clip\n",
      "    Clip (limit) the values in an array.\n",
      "numpy.core.tests.test_overrides._new_duck_type_and_implements\n",
      "    Create a duck array type and implements functions.\n",
      "numpy.ma.tests.test_subclassing.SubMaskedArray.__new__\n",
      "    Create a new masked array from scratch.\n",
      "numpy.ma.mrecords.fromrecords\n",
      "    Creates a MaskedRecords from a list of records.\n",
      "numpy.core._multiarray_umath.empty_like\n",
      "    Return a new array with the same shape and type as a given array.\n",
      "numpy.f2py.tests.test_array_from_pyobj.Array.has_shared_memory\n",
      "    Check that created array shares data with input array.\n",
      "numpy.core._dtype._construction_repr\n",
      "    Creates a string repr of the dtype, excluding the 'dtype()' part\n",
      "numpy.abs\n",
      "    Calculate the absolute value element-wise.\n",
      "numpy.add\n",
      "    Add arguments element-wise.\n",
      "numpy.cos\n",
      "    Cosine element-wise.\n",
      "numpy.log\n",
      "    Natural logarithm, element-wise.\n",
      "numpy.mod\n",
      "    Return element-wise remainder of division.\n",
      "numpy.lib.recfunctions.require_fields\n",
      "    Casts a structured array to a new dtype using assignment by field-name.\n",
      "numpy.sin\n",
      "    Trigonometric sine, element-wise.\n",
      "numpy.tan\n",
      "    Compute tangent element-wise.\n",
      "numpy.ceil\n",
      "    Return the ceiling of the input, element-wise.\n",
      "numpy.conj\n",
      "    Return the complex conjugate, element-wise.\n",
      "numpy.cosh\n",
      "    Hyperbolic cosine, element-wise.\n",
      "numpy.fabs\n",
      "    Compute the absolute values element-wise.\n",
      "numpy.fmod\n",
      "    Return the element-wise remainder of division.\n",
      "numpy.less\n",
      "    Return the truth value of (x1 < x2) element-wise.\n",
      "numpy.log2\n",
      "    Base-2 logarithm of `x`.\n",
      "numpy.sign\n",
      "    Returns an element-wise indication of the sign of a number.\n",
      "numpy.sinh\n",
      "    Hyperbolic sine, element-wise.\n",
      "numpy.tanh\n",
      "    Compute hyperbolic tangent element-wise.\n",
      "numpy.equal\n",
      "    Return (x1 == x2) element-wise.\n",
      "numpy.core._multiarray_umath.datetime_as_string\n",
      "    Convert an array of datetimes into an array of strings.\n",
      "numpy.floor\n",
      "    Return the floor of the input, element-wise.\n",
      "numpy.frexp\n",
      "    Decompose the elements of x into mantissa and twos exponent.\n",
      "numpy.hypot\n",
      "    Given the \"legs\" of a right triangle, return its hypotenuse.\n",
      "numpy.isinf\n",
      "    Test element-wise for positive or negative infinity.\n",
      "numpy.ldexp\n",
      "    Returns x1 * 2**x2, element-wise.\n",
      "numpy.trunc\n",
      "    Return the truncated value of the input, element-wise.\n",
      "numpy.arccos\n",
      "    Trigonometric inverse cosine, element-wise.\n",
      "numpy.arcsin\n",
      "    Inverse sine, element-wise.\n",
      "numpy.arctan\n",
      "    Trigonometric inverse tangent, element-wise.\n",
      "numpy.around\n",
      "    Evenly round to the given number of decimals.\n",
      "numpy.divide\n",
      "    Returns a true division of the inputs, element-wise.\n",
      "numpy.divmod\n",
      "    Return element-wise quotient and remainder simultaneously.\n",
      "numpy.source\n",
      "    Print or write to a file the source code for a NumPy object.\n",
      "numpy.square\n",
      "    Return the element-wise square of the input.\n",
      "numpy.arccosh\n",
      "    Inverse hyperbolic cosine, element-wise.\n",
      "numpy.arcsinh\n",
      "    Inverse hyperbolic sine element-wise.\n",
      "numpy.arctan2\n",
      "    Element-wise arc tangent of ``x1/x2`` choosing the quadrant correctly.\n",
      "numpy.arctanh\n",
      "    Inverse hyperbolic tangent element-wise.\n",
      "numpy.deg2rad\n",
      "    Convert angles from degrees to radians.\n",
      "numpy.degrees\n",
      "    Convert angles from radians to degrees.\n",
      "numpy.greater\n",
      "    Return the truth value of (x1 > x2) element-wise.\n",
      "numpy.rad2deg\n",
      "    Convert angles from radians to degrees.\n",
      "numpy.radians\n",
      "    Convert angles from degrees to radians.\n",
      "numpy.signbit\n",
      "    Returns element-wise True where signbit is set (less than zero).\n",
      "numpy.spacing\n",
      "    Return the distance between x and the nearest adjacent number.\n",
      "numpy.copysign\n",
      "    Change the sign of x1 to that of x2, element-wise.\n",
      "numpy.diagonal\n",
      "    Return specified diagonals.\n",
      "numpy.isfinite\n",
      "    Test element-wise for finiteness (not infinity or not Not a Number).\n",
      "numpy.multiply\n",
      "    Multiply arguments element-wise.\n",
      "numpy.negative\n",
      "    Numerical negative, element-wise.\n",
      "numpy.subtract\n",
      "    Subtract arguments, element-wise.\n",
      "numpy.heaviside\n",
      "    Compute the Heaviside step function.\n",
      "numpy.logaddexp\n",
      "    Logarithm of the sum of exponentiations of the inputs.\n",
      "numpy.nextafter\n",
      "    Return the next floating-point value after x1 towards x2, element-wise.\n",
      "numpy.not_equal\n",
      "    Return (x1 != x2) element-wise.\n",
      "numpy.left_shift\n",
      "    Shift the bits of an integer to the left.\n",
      "numpy.less_equal\n",
      "    Return the truth value of (x1 =< x2) element-wise.\n",
      "numpy.logaddexp2\n",
      "    Logarithm of the sum of exponentiations of the inputs in base-2.\n",
      "numpy.logical_or\n",
      "    Compute the truth value of x1 OR x2 element-wise.\n",
      "numpy.nan_to_num\n",
      "    Replace NaN with zero and infinity with large finite numbers (default\n",
      "numpy.reciprocal\n",
      "    Return the reciprocal of the argument, element-wise.\n",
      "numpy.bitwise_not\n",
      "    Compute bit-wise inversion, or bit-wise NOT, element-wise.\n",
      "numpy.einsum_path\n",
      "    Evaluates the lowest cost contraction order for an einsum expression by\n",
      "numpy.histogram2d\n",
      "    Compute the bi-dimensional histogram of two data samples.\n",
      "numpy.logical_and\n",
      "    Compute the truth value of x1 AND x2 element-wise.\n",
      "numpy.logical_not\n",
      "    Compute the truth value of NOT x element-wise.\n",
      "numpy.logical_xor\n",
      "    Compute the truth value of x1 XOR x2, element-wise.\n",
      "numpy.right_shift\n",
      "    Shift the bits of an integer to the right.\n",
      "numpy.ma.abs\n",
      "    Calculate the absolute value element-wise.\n",
      "numpy.ma.add\n",
      "    Add arguments element-wise.\n",
      "numpy.ma.cos\n",
      "    Cosine element-wise.\n",
      "numpy.ma.log\n",
      "    Natural logarithm, element-wise.\n",
      "numpy.ma.mod\n",
      "    Return element-wise remainder of division.\n",
      "numpy.ma.sin\n",
      "    Trigonometric sine, element-wise.\n",
      "numpy.ma.tan\n",
      "    Compute tangent element-wise.\n",
      "numpy.floor_divide\n",
      "    Return the largest integer smaller or equal to the division of the inputs.\n",
      "numpy.ma.ceil\n",
      "    Return the ceiling of the input, element-wise.\n",
      "numpy.ma.cosh\n",
      "    Hyperbolic cosine, element-wise.\n",
      "numpy.fft.ifft\n",
      "    Compute the one-dimensional inverse discrete Fourier Transform.\n",
      "numpy.ma.fabs\n",
      "    Compute the absolute values element-wise.\n",
      "numpy.ma.fmod\n",
      "    Return the element-wise remainder of division.\n",
      "numpy.ma.less\n",
      "    Return the truth value of (x1 < x2) element-wise.\n",
      "numpy.ma.log2\n",
      "    Base-2 logarithm of `x`.\n",
      "numpy.ma.sinh\n",
      "    Hyperbolic sine, element-wise.\n",
      "numpy.ma.tanh\n",
      "    Compute hyperbolic tangent element-wise.\n",
      "numpy.greater_equal\n",
      "    Return the truth value of (x1 >= x2) element-wise.\n",
      "numpy.fft.ifftn\n",
      "    Compute the N-dimensional inverse discrete Fourier Transform.\n",
      "numpy.ma.equal\n",
      "    Return (x1 == x2) element-wise.\n",
      "numpy.ma.floor\n",
      "    Return the floor of the input, element-wise.\n",
      "numpy.ma.hypot\n",
      "    Given the \"legs\" of a right triangle, return its hypotenuse.\n",
      "numpy.busdaycalendar\n",
      "    A business day calendar object that efficiently stores information\n",
      "numpy.ma.arccos\n",
      "    Trigonometric inverse cosine, element-wise.\n",
      "numpy.ma.arcsin\n",
      "    Inverse sine, element-wise.\n",
      "numpy.ma.arctan\n",
      "    Trigonometric inverse tangent, element-wise.\n",
      "numpy.ma.divide\n",
      "    Returns a true division of the inputs, element-wise.\n",
      "numpy.lib.recfunctions.unstructured_to_structured\n",
      "    Converts and n-D unstructured array into an (n-1)-D structured array.\n",
      "numpy.ma.arccosh\n",
      "    Inverse hyperbolic cosine, element-wise.\n",
      "numpy.ma.arcsinh\n",
      "    Inverse hyperbolic sine element-wise.\n",
      "numpy.ma.arctan2\n",
      "    Element-wise arc tangent of ``x1/x2`` choosing the quadrant correctly.\n",
      "numpy.ma.arctanh\n",
      "    Inverse hyperbolic tangent element-wise.\n",
      "numpy.ma.greater\n",
      "    Return the truth value of (x1 > x2) element-wise.\n",
      "numpy.ma.multiply\n",
      "    Multiply arguments element-wise.\n",
      "numpy.ma.negative\n",
      "    Numerical negative, element-wise.\n",
      "numpy.ma.subtract\n",
      "    Subtract arguments, element-wise.\n",
      "numpy.ma.tests.test_subclassing.SubArray\n",
      "    ndarray(shape, dtype=float, buffer=None, offset=0,\n",
      "numpy.ma.conjugate\n",
      "    Return the complex conjugate, element-wise.\n",
      "numpy.ma.not_equal\n",
      "    Return (x1 != x2) element-wise.\n",
      "numpy.ma.remainder\n",
      "    Return element-wise remainder of division.\n",
      "numpy.ma.empty_like\n",
      "    empty_like(prototype, dtype=None, order='K', subok=True, shape=None)\n",
      "numpy.ma.less_equal\n",
      "    Return the truth value of (x1 =< x2) element-wise.\n",
      "numpy.ma.logical_or\n",
      "    Compute the truth value of x1 OR x2 element-wise.\n",
      "numpy.ma.logical_and\n",
      "    Compute the truth value of x1 AND x2 element-wise.\n",
      "numpy.ma.logical_not\n",
      "    Compute the truth value of NOT x element-wise.\n",
      "numpy.ma.logical_xor\n",
      "    Compute the truth value of x1 XOR x2, element-wise.\n",
      "numpy.ma.true_divide\n",
      "    Returns a true division of the inputs, element-wise.\n",
      "numpy.ma.floor_divide\n",
      "    Return the largest integer smaller or equal to the division of the inputs.\n",
      "numpy.ma.greater_equal\n",
      "    Return the truth value of (x1 >= x2) element-wise.\n",
      "numpy.core.tests.test_function_base.PhysicalQuantity2\n",
      "    ndarray(shape, dtype=float, buffer=None, offset=0,\n",
      "numpy.lib.tests.test_stride_tricks.SimpleSubClass\n",
      "    ndarray(shape, dtype=float, buffer=None, offset=0,\n",
      "numpy.core.tests.test_numeric.TestKeepdims.sub_array\n",
      "    ndarray(shape, dtype=float, buffer=None, offset=0,\n",
      "numpy.ma.tests.test_subclassing.ComplicatedSubArray\n",
      "    ndarray(shape, dtype=float, buffer=None, offset=0,\n",
      "numpy.lib.tests.test_stride_tricks.VerySimpleSubClass\n",
      "    ndarray(shape, dtype=float, buffer=None, offset=0,\n",
      "numpy.core.tests.test_multiarray.TestArrayPriority.Foo\n",
      "    ndarray(shape, dtype=float, buffer=None, offset=0,\n",
      "numpy.core.tests.test_multiarray.TestArrayPriority.Bar\n",
      "    ndarray(shape, dtype=float, buffer=None, offset=0,\n",
      "numpy.testing._gen_alignment_data\n",
      "    generator producing data with different alignment and offsets\n",
      "numpy.random.RandomState.rand\n",
      "    Random values in a given shape."
     ]
    }
   ],
   "source": [
    "np.lookfor(\"Create array\")"
   ]
  },
  {
   "cell_type": "code",
   "execution_count": 71,
   "metadata": {
    "slideshow": {
     "slide_type": "subslide"
    }
   },
   "outputs": [],
   "source": [
    "np.con*?"
   ]
  },
  {
   "cell_type": "markdown",
   "metadata": {
    "slideshow": {
     "slide_type": "slide"
    }
   },
   "source": [
    "### Creating arrays"
   ]
  },
  {
   "cell_type": "code",
   "execution_count": 12,
   "metadata": {
    "slideshow": {
     "slide_type": "subslide"
    }
   },
   "outputs": [
    {
     "data": {
      "text/plain": [
       "array([0, 1, 2, 3, 4, 5, 6, 7, 8, 9])"
      ]
     },
     "execution_count": 12,
     "metadata": {},
     "output_type": "execute_result"
    }
   ],
   "source": [
    "np.arange(10)  # similar to MATLAB's 0:9 (and to Python's range())"
   ]
  },
  {
   "cell_type": "code",
   "execution_count": 13,
   "metadata": {
    "slideshow": {
     "slide_type": "subslide"
    }
   },
   "outputs": [
    {
     "data": {
      "text/plain": [
       "array([1, 4, 7])"
      ]
     },
     "execution_count": 13,
     "metadata": {},
     "output_type": "execute_result"
    }
   ],
   "source": [
    "np.arange(start=1, stop=8, step=3)  # MATLAB's 1:3:8"
   ]
  },
  {
   "cell_type": "code",
   "execution_count": 14,
   "metadata": {
    "slideshow": {
     "slide_type": "subslide"
    }
   },
   "outputs": [
    {
     "data": {
      "text/plain": [
       "array([[0., 0., 0.],\n",
       "       [0., 0., 0.]])"
      ]
     },
     "execution_count": 14,
     "metadata": {},
     "output_type": "execute_result"
    }
   ],
   "source": [
    "np.zeros((2, 3))  # notice that the shape is a tuple"
   ]
  },
  {
   "cell_type": "code",
   "execution_count": 15,
   "metadata": {
    "slideshow": {
     "slide_type": "subslide"
    }
   },
   "outputs": [
    {
     "data": {
      "text/plain": [
       "array([[0, 0, 0],\n",
       "       [0, 0, 0]])"
      ]
     },
     "execution_count": 15,
     "metadata": {},
     "output_type": "execute_result"
    }
   ],
   "source": [
    "np.zeros_like(arr_2d)"
   ]
  },
  {
   "cell_type": "code",
   "execution_count": 16,
   "metadata": {
    "slideshow": {
     "slide_type": "subslide"
    }
   },
   "outputs": [
    {
     "data": {
      "text/plain": [
       "array([[1, 1, 1, 1]])"
      ]
     },
     "execution_count": 16,
     "metadata": {},
     "output_type": "execute_result"
    }
   ],
   "source": [
    "np.ones((1, 4), dtype='int64')  # 2-d array with the dtype argument"
   ]
  },
  {
   "cell_type": "code",
   "execution_count": 17,
   "metadata": {
    "slideshow": {
     "slide_type": "subslide"
    }
   },
   "outputs": [
    {
     "data": {
      "text/plain": [
       "array([[7, 7],\n",
       "       [7, 7],\n",
       "       [7, 7],\n",
       "       [7, 7]])"
      ]
     },
     "execution_count": 17,
     "metadata": {},
     "output_type": "execute_result"
    }
   ],
   "source": [
    "np.full((4, 2), 7)"
   ]
  },
  {
   "cell_type": "code",
   "execution_count": 18,
   "metadata": {
    "slideshow": {
     "slide_type": "subslide"
    }
   },
   "outputs": [
    {
     "data": {
      "text/plain": [
       "array([ 0.,  5., 10.])"
      ]
     },
     "execution_count": 18,
     "metadata": {},
     "output_type": "execute_result"
    }
   ],
   "source": [
    "np.linspace(0, 10, 3)  # start, stop, number of points (endpoint as a keyword argument)"
   ]
  },
  {
   "cell_type": "code",
   "execution_count": 19,
   "metadata": {
    "slideshow": {
     "slide_type": "subslide"
    }
   },
   "outputs": [
    {
     "data": {
      "text/plain": [
       "array([0.       , 3.3333333, 6.6666665], dtype=float32)"
      ]
     },
     "execution_count": 19,
     "metadata": {},
     "output_type": "execute_result"
    }
   ],
   "source": [
    "np.linspace(0, 10, 3, endpoint=False, dtype=np.float32)  # float32 is \"single\" in MATLAB-speak. float64, which is the default, is \"double\""
   ]
  },
  {
   "cell_type": "code",
   "execution_count": 20,
   "metadata": {
    "slideshow": {
     "slide_type": "subslide"
    }
   },
   "outputs": [
    {
     "data": {
      "text/plain": [
       "array([[1, 0, 0],\n",
       "       [0, 1, 0],\n",
       "       [0, 0, 1]], dtype=uint8)"
      ]
     },
     "execution_count": 20,
     "metadata": {},
     "output_type": "execute_result"
    }
   ],
   "source": [
    "np.eye(3, dtype='uint8')"
   ]
  },
  {
   "cell_type": "code",
   "execution_count": 21,
   "metadata": {
    "slideshow": {
     "slide_type": "subslide"
    }
   },
   "outputs": [
    {
     "data": {
      "text/plain": [
       "array([[19,  0],\n",
       "       [ 0, 20]])"
      ]
     },
     "execution_count": 21,
     "metadata": {},
     "output_type": "execute_result"
    }
   ],
   "source": [
    "np.diag([19, 20])"
   ]
  },
  {
   "cell_type": "code",
   "execution_count": 22,
   "metadata": {
    "slideshow": {
     "slide_type": "subslide"
    }
   },
   "outputs": [
    {
     "data": {
      "text/plain": [
       "array([ True, False, False])"
      ]
     },
     "execution_count": 22,
     "metadata": {},
     "output_type": "execute_result"
    }
   ],
   "source": [
    "# Some more interesting features\n",
    "np.array([True, False, False])"
   ]
  },
  {
   "cell_type": "code",
   "execution_count": 23,
   "metadata": {
    "slideshow": {
     "slide_type": "subslide"
    }
   },
   "outputs": [
    {
     "data": {
      "text/plain": [
       "dtype('complex128')"
      ]
     },
     "execution_count": 23,
     "metadata": {},
     "output_type": "execute_result"
    }
   ],
   "source": [
    "np.array([1+2j]).dtype"
   ]
  },
  {
   "cell_type": "code",
   "execution_count": 24,
   "metadata": {
    "slideshow": {
     "slide_type": "subslide"
    }
   },
   "outputs": [
    {
     "data": {
      "text/plain": [
       "array(['a', 'bc', 'd', 'e'], dtype='<U2')"
      ]
     },
     "execution_count": 24,
     "metadata": {},
     "output_type": "execute_result"
    }
   ],
   "source": [
    "np.array(['a', 'bc', 'd', 'e'])  # <U2 are strings containing maximum 2 unicode letters\n",
    "# No such thing as a cell array, arrays can contain strings."
   ]
  },
  {
   "cell_type": "code",
   "execution_count": 25,
   "metadata": {
    "scrolled": true,
    "slideshow": {
     "slide_type": "subslide"
    }
   },
   "outputs": [
    {
     "data": {
      "text/plain": [
       "array([1, 'b', True, {'b': 1}], dtype=object)"
      ]
     },
     "execution_count": 25,
     "metadata": {},
     "output_type": "execute_result"
    }
   ],
   "source": [
    "# Arrays can be heterogeneous, although usually this is discouraged. \n",
    "# To make an hetetogeneous array, you have to specify its data type as \"object\", or \"np.object\":\n",
    "np.array([1, 'b', True, {'b': 1}], dtype=object)"
   ]
  },
  {
   "cell_type": "markdown",
   "metadata": {
    "slideshow": {
     "slide_type": "subslide"
    }
   },
   "source": [
    "The last few examples showed us that numpy arrays are a superset of MATLAB's matrices, as they also contain the cell array functionality within them.\n",
    "\n",
    "When multiplying numpy arrays, multiplication is done cell-by-cell (elementwise), rather than by the rules of linear algebra. \n",
    "\n",
    "You can still multiply vectors and matrices using one of two options:\n",
    "* The `@` operator (preferred): `arr1 @ arr2`\n",
    "* `arr1.dot(arr2)`\n",
    "\n",
    "Just remember that the default behavior is different than MATLAB's.\n",
    "\n",
    "Also, numpy does contain a matrix-like array - `np.matrix('1 2; 3 4')` - which behaves like a linear algebra 2D matrix, but its use is discouraged."
   ]
  },
  {
   "cell_type": "markdown",
   "metadata": {},
   "source": [
    "### More on datatypes"
   ]
  },
  {
   "cell_type": "markdown",
   "metadata": {},
   "source": [
    "While `numpy` doesn't require you to actively think of the data type of each of your arrays, it's a useful habit to have. The existing data types in `numpy` are:"
   ]
  },
  {
   "cell_type": "code",
   "execution_count": 26,
   "metadata": {},
   "outputs": [
    {
     "data": {
      "text/plain": [
       "{'int': [numpy.int8, numpy.int16, numpy.int32, numpy.int64],\n",
       " 'uint': [numpy.uint8, numpy.uint16, numpy.uint32, numpy.uint64],\n",
       " 'float': [numpy.float16, numpy.float32, numpy.float64, numpy.float128],\n",
       " 'complex': [numpy.complex64, numpy.complex128, numpy.complex256],\n",
       " 'others': [bool, object, bytes, str, numpy.void]}"
      ]
     },
     "execution_count": 26,
     "metadata": {},
     "output_type": "execute_result"
    }
   ],
   "source": [
    "np.sctypes"
   ]
  },
  {
   "cell_type": "markdown",
   "metadata": {},
   "source": [
    "Many array creation and handling methods have a `dtype` keyword argument, that allow you to specify the required output's data type easily.\n",
    "\n",
    "Python will issue RuntimeWarnings whenever an \"unsafe\" conversion of data type will occur, for example from `np.float64` to `np.float32`."
   ]
  },
  {
   "cell_type": "markdown",
   "metadata": {
    "slideshow": {
     "slide_type": "slide"
    }
   },
   "source": [
    "### Difference between numpy arrays and lists"
   ]
  },
  {
   "cell_type": "markdown",
   "metadata": {
    "slideshow": {
     "slide_type": "subslide"
    }
   },
   "source": [
    "You might have asked yourselves by this point what's the difference between lists and numpy arrays. In other words, if Python already has an array-like data structure, why does it need another one?"
   ]
  },
  {
   "cell_type": "markdown",
   "metadata": {
    "slideshow": {
     "slide_type": "subslide"
    }
   },
   "source": [
    "Lists are truly amazing, but their flexibility comes at a cost. You won't notice it when you're writing some short script, but when you start working with real datasets you notice that their performance is _lacking_.\n",
    "\n",
    "Naive iteration over lists is good enough when the lists contain up to a few thousands of elements, but somewhere after this invisible threshold you will start to notice the runtimes of your app."
   ]
  },
  {
   "cell_type": "markdown",
   "metadata": {
    "slideshow": {
     "slide_type": "subslide"
    }
   },
   "source": [
    "#### Why are lists slower?\n",
    "\n",
    "Lists are slower due to their implementation. Because a list has to be heterogeneous, a list is actually an object containing references to other objects, which are the elements of the data contained in the list. This nesting can go on even deeper, since elements of lists can be other lists, or other complex data types.\n",
    "\n",
    "Iterating over such a complicated objects contains a lot of \"overhead\", i.e. time the interpreter tries to figure out what is it actually facing - is this current value an integer? A float? A dictionary of tuples?"
   ]
  },
  {
   "cell_type": "markdown",
   "metadata": {
    "slideshow": {
     "slide_type": "subslide"
    }
   },
   "source": [
    "![Numpy arrays versus lists](extra_material/array_vs_list.png)"
   ]
  },
  {
   "cell_type": "markdown",
   "metadata": {
    "slideshow": {
     "slide_type": "subslide"
    }
   },
   "source": [
    "This is where numpy arrays come into the picture. They require the contained data to be homogeneous (disregarding the \"object\" datatype), leading to a simpler structure of the underlying implementation: A numpy array is an object with a pointer to a contiguous block of data in the memory.\n",
    "\n",
    "Numpy forces the elements in its array to be homogeneous, by means of \"upcasting\":"
   ]
  },
  {
   "cell_type": "code",
   "execution_count": 27,
   "metadata": {
    "slideshow": {
     "slide_type": "subslide"
    }
   },
   "outputs": [
    {
     "data": {
      "text/plain": [
       "array([1.  , 2.  , 3.14, 4.  ])"
      ]
     },
     "execution_count": 27,
     "metadata": {},
     "output_type": "execute_result"
    }
   ],
   "source": [
    "arr = np.array([1, 2, 3.14, 4])\n",
    "arr  # upcasted to float, not \"object\", since it's much slower"
   ]
  },
  {
   "cell_type": "markdown",
   "metadata": {
    "slideshow": {
     "slide_type": "subslide"
    }
   },
   "source": [
    "This homogeneity and contiguity allows numpy to use \"vectorized\" functions, which are simply functions that can iterate in C code (and SIMD) over the array, as opposed to regular functions which have to use the Python iteration rules."
   ]
  },
  {
   "cell_type": "markdown",
   "metadata": {
    "slideshow": {
     "slide_type": "subslide"
    }
   },
   "source": [
    "This means that while in essence the following two pieces of code are identical, the performance gain is due to the loop being done in C rather than in Python (this is the case in MATLAB as well):"
   ]
  },
  {
   "cell_type": "code",
   "execution_count": 28,
   "metadata": {
    "slideshow": {
     "slide_type": "subslide"
    }
   },
   "outputs": [
    {
     "name": "stdout",
     "output_type": "stream",
     "text": [
      "95 ms ± 10.7 ms per loop (mean ± std. dev. of 7 runs, 10 loops each)\n"
     ]
    }
   ],
   "source": [
    "%%timeit\n",
    "python_array = list(range(1_000_000))\n",
    "for item in python_array:\n",
    "    item += 1"
   ]
  },
  {
   "cell_type": "code",
   "execution_count": 29,
   "metadata": {
    "slideshow": {
     "slide_type": "subslide"
    }
   },
   "outputs": [
    {
     "name": "stdout",
     "output_type": "stream",
     "text": [
      "2.93 ms ± 644 µs per loop (mean ± std. dev. of 7 runs, 100 loops each)\n"
     ]
    }
   ],
   "source": [
    "%%timeit \n",
    "numpy_array = np.arange(1_000_000)\n",
    "numpy_array += 1  # inside, a C loop is adding 1 to each item.\n",
    "\n",
    "# Two orders of magnitude improvement for a pretty small (1M elements) array. \n",
    "# This is approximately the size of a 1024x1024 pixel image."
   ]
  },
  {
   "cell_type": "markdown",
   "metadata": {
    "slideshow": {
     "slide_type": "subslide"
    }
   },
   "source": [
    "If you recall the first class, you'll remember that we mentioned how Python code has to be transpiled into C code, which is then compiled to machine code. Numpy arrays take a \"shortcut\" here, are are quickly compiled to efficient C code without the Python overhead. When using vectorized numpy operations, the loop Python does in the backstage is very similar to a loop that a C programmer would have written by hand."
   ]
  },
  {
   "cell_type": "markdown",
   "metadata": {
    "slideshow": {
     "slide_type": "subslide"
    }
   },
   "source": [
    "Another small but significant benefit of numpy arrays is smaller memory footprint:"
   ]
  },
  {
   "cell_type": "code",
   "execution_count": 30,
   "metadata": {
    "scrolled": true,
    "slideshow": {
     "slide_type": "subslide"
    }
   },
   "outputs": [
    {
     "name": "stdout",
     "output_type": "stream",
     "text": [
      "Python list size (1M elements, MB): 9.000112\n",
      "Numpy array size (1M elements, MB): 4.0\n"
     ]
    }
   ],
   "source": [
    "from sys import getsizeof\n",
    "\n",
    "python_array = list(range(1_000_000))\n",
    "list_size = getsizeof(python_array) / 1e6  # in MB\n",
    "print(f\"Python list size (1M elements, MB): {list_size}\")\n",
    "\n",
    "numpy_array = np.arange(1_000_000, dtype=np.int32)\n",
    "numpy_size = numpy_array.nbytes / 1e6\n",
    "print(f\"Numpy array size (1M elements, MB): {numpy_size}\")\n",
    "\n",
    "# Why a million elements take 4 MB? Each element has to weigh 4 bytes, or 32 bits. This means that the\n",
    "# np.arange() function generates by default int32 values."
   ]
  },
  {
   "cell_type": "markdown",
   "metadata": {},
   "source": [
    "Lower memory usage can help us pack larger array in the computer's working memory (RAM), and it will also improve the performance of the underlying code due to caching."
   ]
  },
  {
   "cell_type": "markdown",
   "metadata": {
    "slideshow": {
     "slide_type": "subslide"
    }
   },
   "source": [
    "### Indexing and slicing"
   ]
  },
  {
   "cell_type": "markdown",
   "metadata": {},
   "source": [
    "Indexing into `numpy` arrays is very much what you'd expect it to be."
   ]
  },
  {
   "cell_type": "code",
   "execution_count": 31,
   "metadata": {
    "slideshow": {
     "slide_type": "subslide"
    }
   },
   "outputs": [
    {
     "name": "stdout",
     "output_type": "stream",
     "text": [
      "a = [0 1 2 3 4 5 6 7 8 9]\n"
     ]
    },
    {
     "data": {
      "text/plain": [
       "(0, 3, 8)"
      ]
     },
     "execution_count": 31,
     "metadata": {},
     "output_type": "execute_result"
    }
   ],
   "source": [
    "a = np.arange(10)\n",
    "print(f\"a = {a}\")\n",
    "a[0], a[3], a[-2]  # Python indexing is always done with square brackets"
   ]
  },
  {
   "cell_type": "code",
   "execution_count": 32,
   "metadata": {
    "slideshow": {
     "slide_type": "subslide"
    }
   },
   "outputs": [
    {
     "data": {
      "text/plain": [
       "array([9, 8, 7, 6, 5, 4, 3, 2, 1, 0])"
      ]
     },
     "execution_count": 32,
     "metadata": {},
     "output_type": "execute_result"
    }
   ],
   "source": [
    "# The beautiful reverse slicing is here as well\n",
    "a[::-1]"
   ]
  },
  {
   "cell_type": "code",
   "execution_count": 33,
   "metadata": {
    "slideshow": {
     "slide_type": "subslide"
    }
   },
   "outputs": [
    {
     "data": {
      "text/plain": [
       "array([[1, 2, 3],\n",
       "       [4, 5, 6]])"
      ]
     },
     "execution_count": 33,
     "metadata": {},
     "output_type": "execute_result"
    }
   ],
   "source": [
    "arr_2d"
   ]
  },
  {
   "cell_type": "code",
   "execution_count": 34,
   "metadata": {
    "slideshow": {
     "slide_type": "subslide"
    }
   },
   "outputs": [
    {
     "data": {
      "text/plain": [
       "3"
      ]
     },
     "execution_count": 34,
     "metadata": {},
     "output_type": "execute_result"
    }
   ],
   "source": [
    "arr_2d[0, 2]  # first row, third column"
   ]
  },
  {
   "cell_type": "code",
   "execution_count": 35,
   "metadata": {
    "slideshow": {
     "slide_type": "subslide"
    }
   },
   "outputs": [
    {
     "data": {
      "text/plain": [
       "array([1, 2, 3])"
      ]
     },
     "execution_count": 35,
     "metadata": {},
     "output_type": "execute_result"
    }
   ],
   "source": [
    "arr_2d[0, :]  # first row, all columns"
   ]
  },
  {
   "cell_type": "code",
   "execution_count": 36,
   "metadata": {
    "slideshow": {
     "slide_type": "subslide"
    }
   },
   "outputs": [
    {
     "data": {
      "text/plain": [
       "array([1, 2, 3])"
      ]
     },
     "execution_count": 36,
     "metadata": {},
     "output_type": "execute_result"
    }
   ],
   "source": [
    "arr_2d[0]  # first item in the first dimension, and all of its corresponding elemets\n",
    "# Similar to arr_2d[0, :]"
   ]
  },
  {
   "cell_type": "code",
   "execution_count": 37,
   "metadata": {
    "slideshow": {
     "slide_type": "subslide"
    }
   },
   "outputs": [
    {
     "data": {
      "text/plain": [
       "array([1, 3, 5, 7, 9])"
      ]
     },
     "execution_count": 37,
     "metadata": {},
     "output_type": "execute_result"
    }
   ],
   "source": [
    "a[1::2]"
   ]
  },
  {
   "cell_type": "code",
   "execution_count": 38,
   "metadata": {
    "slideshow": {
     "slide_type": "subslide"
    }
   },
   "outputs": [
    {
     "data": {
      "text/plain": [
       "array([0, 1])"
      ]
     },
     "execution_count": 38,
     "metadata": {},
     "output_type": "execute_result"
    }
   ],
   "source": [
    "a[:2]  # last index isn't included"
   ]
  },
  {
   "cell_type": "code",
   "execution_count": 39,
   "metadata": {
    "slideshow": {
     "slide_type": "subslide"
    }
   },
   "outputs": [
    {
     "data": {
      "text/plain": [
       "array([0, 2, 4, 6, 8])"
      ]
     },
     "execution_count": 39,
     "metadata": {},
     "output_type": "execute_result"
    }
   ],
   "source": [
    "# In Python, slicing creates a view of an object, not a copy:\n",
    "b = a[::2]\n",
    "b"
   ]
  },
  {
   "cell_type": "code",
   "execution_count": 40,
   "metadata": {
    "slideshow": {
     "slide_type": "subslide"
    }
   },
   "outputs": [
    {
     "data": {
      "text/plain": [
       "array([100,   2,   4,   6,   8])"
      ]
     },
     "execution_count": 40,
     "metadata": {},
     "output_type": "execute_result"
    }
   ],
   "source": [
    "b[0] = 100\n",
    "b"
   ]
  },
  {
   "cell_type": "code",
   "execution_count": 41,
   "metadata": {
    "slideshow": {
     "slide_type": "subslide"
    }
   },
   "outputs": [
    {
     "data": {
      "text/plain": [
       "array([100,   1,   2,   3,   4,   5,   6,   7,   8,   9])"
      ]
     },
     "execution_count": 41,
     "metadata": {},
     "output_type": "execute_result"
    }
   ],
   "source": [
    "a  # a is also changed!"
   ]
  },
  {
   "cell_type": "code",
   "execution_count": 42,
   "metadata": {
    "slideshow": {
     "slide_type": "subslide"
    }
   },
   "outputs": [
    {
     "data": {
      "text/plain": [
       "array([  9,   8,   7,   6,   5,   4,   3,   2,   1, 100])"
      ]
     },
     "execution_count": 42,
     "metadata": {},
     "output_type": "execute_result"
    }
   ],
   "source": [
    "# Copying is done with .copy()\n",
    "a_copy = a[::-1].copy()\n",
    "a_copy"
   ]
  },
  {
   "cell_type": "code",
   "execution_count": 43,
   "metadata": {
    "slideshow": {
     "slide_type": "subslide"
    }
   },
   "outputs": [
    {
     "data": {
      "text/plain": [
       "array([  9, 200,   7,   6,   5,   4,   3,   2,   1, 100])"
      ]
     },
     "execution_count": 43,
     "metadata": {},
     "output_type": "execute_result"
    }
   ],
   "source": [
    "a_copy[1] = 200\n",
    "a_copy"
   ]
  },
  {
   "cell_type": "code",
   "execution_count": 44,
   "metadata": {
    "slideshow": {
     "slide_type": "subslide"
    }
   },
   "outputs": [
    {
     "data": {
      "text/plain": [
       "array([100,   1,   2,   3,   4,   5,   6,   7,   8,   9])"
      ]
     },
     "execution_count": 44,
     "metadata": {},
     "output_type": "execute_result"
    }
   ],
   "source": [
    "a  # unchanged"
   ]
  },
  {
   "cell_type": "markdown",
   "metadata": {
    "slideshow": {
     "slide_type": "subslide"
    }
   },
   "source": [
    "This behavior allows Numpy to save time and memory. It will usually go unnoticed during day-to-day use. Occasionally, however, it can result in ugly bugs which are hard to locate.\n",
    "\n",
    "Let's look at a summary of 2D indexing:"
   ]
  },
  {
   "cell_type": "markdown",
   "metadata": {
    "slideshow": {
     "slide_type": "subslide"
    }
   },
   "source": [
    "![Numpy indexing](extra_material/numpy_indexing.png)"
   ]
  },
  {
   "cell_type": "markdown",
   "metadata": {
    "slideshow": {
     "slide_type": "subslide"
    }
   },
   "source": [
    "### Aggregation"
   ]
  },
  {
   "cell_type": "code",
   "execution_count": 45,
   "metadata": {
    "slideshow": {
     "slide_type": "subslide"
    }
   },
   "outputs": [
    {
     "data": {
      "text/plain": [
       "492.6043817490305"
      ]
     },
     "execution_count": 45,
     "metadata": {},
     "output_type": "execute_result"
    }
   ],
   "source": [
    "arr = np.random.random(1_000)\n",
    "sum(arr)  # The native Python sum works on numpy arrays, but its use is discouraged in this context"
   ]
  },
  {
   "cell_type": "markdown",
   "metadata": {
    "slideshow": {
     "slide_type": "subslide"
    }
   },
   "source": [
    "`sum()` is a built in Python function, capable of working on lists and other native Python data structures. Numpy has its own sum functions: You can either write `np.sum(arr)`, or use `arr.sum()`:"
   ]
  },
  {
   "cell_type": "code",
   "execution_count": 46,
   "metadata": {
    "slideshow": {
     "slide_type": "subslide"
    }
   },
   "outputs": [
    {
     "name": "stdout",
     "output_type": "stream",
     "text": [
      "300 µs ± 31.6 µs per loop (mean ± std. dev. of 7 runs, 1000 loops each)\n",
      "6.45 µs ± 745 ns per loop (mean ± std. dev. of 7 runs, 100000 loops each)\n",
      "4.9 µs ± 568 ns per loop (mean ± std. dev. of 7 runs, 100000 loops each)\n"
     ]
    }
   ],
   "source": [
    "%timeit sum(arr)\n",
    "%timeit np.sum(arr)\n",
    "%timeit arr.sum()"
   ]
  },
  {
   "cell_type": "markdown",
   "metadata": {
    "slideshow": {
     "slide_type": "subslide"
    }
   },
   "source": [
    "Keep in mind that the built-in `sum()` and numpy's `np.sum()` aren't identical. `np.sum()` by default calculates the sum of _all axes_, returning a single number for multi-dimensional arrays.\n",
    "\n",
    "In MATLAB, this behavior is replicated with `sum(arr(:))`."
   ]
  },
  {
   "cell_type": "markdown",
   "metadata": {
    "slideshow": {
     "slide_type": "subslide"
    }
   },
   "source": [
    "Likewise, `min()` and `max()` also have two \"competing\" versions:"
   ]
  },
  {
   "cell_type": "code",
   "execution_count": 47,
   "metadata": {
    "slideshow": {
     "slide_type": "subslide"
    }
   },
   "outputs": [
    {
     "name": "stdout",
     "output_type": "stream",
     "text": [
      "161 µs ± 9.63 µs per loop (mean ± std. dev. of 7 runs, 1000 loops each)\n",
      "5.73 µs ± 451 ns per loop (mean ± std. dev. of 7 runs, 100000 loops each)\n",
      "3.63 µs ± 299 ns per loop (mean ± std. dev. of 7 runs, 100000 loops each)\n"
     ]
    }
   ],
   "source": [
    "%timeit min(arr)  # Native Python\n",
    "%timeit np.min(arr)\n",
    "%timeit arr.min()"
   ]
  },
  {
   "cell_type": "markdown",
   "metadata": {
    "slideshow": {
     "slide_type": "subslide"
    }
   },
   "source": [
    "Calculating the `min` of an array will, again, result in a single number:"
   ]
  },
  {
   "cell_type": "code",
   "execution_count": 48,
   "metadata": {
    "slideshow": {
     "slide_type": "subslide"
    }
   },
   "outputs": [
    {
     "data": {
      "text/plain": [
       "5.823232201995765e-07"
      ]
     },
     "execution_count": 48,
     "metadata": {},
     "output_type": "execute_result"
    }
   ],
   "source": [
    "arr2 = np.random.random((100, 100, 100))\n",
    "arr2.min()"
   ]
  },
  {
   "cell_type": "markdown",
   "metadata": {
    "slideshow": {
     "slide_type": "subslide"
    }
   },
   "source": [
    "If you wish to calculate it across an axis, use the `axis` keyword:"
   ]
  },
  {
   "cell_type": "code",
   "execution_count": 49,
   "metadata": {
    "scrolled": true,
    "slideshow": {
     "slide_type": "subslide"
    }
   },
   "outputs": [
    {
     "name": "stdout",
     "output_type": "stream",
     "text": [
      "[[1.30105370e-04 1.85247986e-02 5.76981265e-04 ... 2.17054628e-03\n",
      "  1.74017353e-03 1.71648417e-02]\n",
      " [9.74708434e-04 1.42110375e-02 2.27249914e-04 ... 1.84564336e-04\n",
      "  9.91460849e-03 5.03250994e-04]\n",
      " [2.10501609e-03 3.11640007e-03 9.31462323e-03 ... 4.80578692e-03\n",
      "  2.53371128e-03 1.15754554e-02]\n",
      " ...\n",
      " [2.64927481e-03 2.05463086e-03 2.03506809e-02 ... 1.71246031e-03\n",
      "  1.22983732e-02 1.23869152e-02]\n",
      " [6.90173657e-04 3.43165101e-03 8.55869758e-03 ... 7.83710115e-04\n",
      "  1.33042948e-02 7.60761611e-03]\n",
      " [3.24140890e-03 7.34097009e-03 9.79868560e-03 ... 3.08316230e-02\n",
      "  6.87046457e-03 2.45869442e-06]]\n",
      "------\n",
      "[0.99996561 0.99998143 0.99979485 0.99995817 0.99992053 0.99996168\n",
      " 0.9997315  0.99988793 0.99991571 0.9999547  0.99999641 0.99999241\n",
      " 0.99995579 0.99997798 0.99991344 0.99989906 0.9997946  0.9999751\n",
      " 0.99997769 0.99986947 0.99986118 0.99993987 0.99994818 0.99999912\n",
      " 0.99978118 0.999931   0.99992138 0.9997643  0.99999697 0.99999074\n",
      " 0.99997707 0.9998866  0.99990193 0.99990738 0.99998946 0.99989151\n",
      " 0.9997099  0.99959016 0.99997593 0.99997737 0.99988775 0.99961308\n",
      " 0.99993094 0.99979866 0.99995253 0.99961581 0.99987174 0.99998452\n",
      " 0.99999329 0.99997286 0.99988013 0.9999925  0.99986677 0.99941302\n",
      " 0.99993073 0.99992371 0.99984225 0.99993421 0.99991963 0.999891\n",
      " 0.99998051 0.99998862 0.9998364  0.99990511 0.99997079 0.99989711\n",
      " 0.99993595 0.99992156 0.99999846 0.99996437 0.99998124 0.99998357\n",
      " 0.99999904 0.99994938 0.99984871 0.99998585 0.99997514 0.99974715\n",
      " 0.9998266  0.99993263 0.99980709 0.99985129 0.99988653 0.99998284\n",
      " 0.99998748 0.99960565 0.99960208 0.99996221 0.99990834 0.99984928\n",
      " 0.99968836 0.99995474 0.99990516 0.9999885  0.9999369  0.99995389\n",
      " 0.99970489 0.99996686 0.9998634  0.99998103]\n"
     ]
    }
   ],
   "source": [
    "# 2D output - axis number 0 was \"dropped\"\n",
    "print(arr2.min(axis=0))\n",
    "\n",
    "print('------')\n",
    "# 1D output - the two first axes were summed over\n",
    "print(arr2.max(axis=(0, 1)))"
   ]
  },
  {
   "cell_type": "markdown",
   "metadata": {
    "slideshow": {
     "slide_type": "subslide"
    }
   },
   "source": [
    "Many other aggregation functions exist, including:\n",
    "```\n",
    "- np.var\n",
    "- np.std\n",
    "- np.argmin\\argmax\n",
    "- np.median\n",
    "- ...\n",
    "```\n",
    "Most of them have an object-oriented version, i.e. `arr.var()`, and a procedural version, i.e. `np.var(arr)`."
   ]
  },
  {
   "cell_type": "markdown",
   "metadata": {
    "slideshow": {
     "slide_type": "subslide"
    }
   },
   "source": [
    "### Fancy indexing"
   ]
  },
  {
   "cell_type": "markdown",
   "metadata": {
    "slideshow": {
     "slide_type": "subslide"
    }
   },
   "source": [
    "In Numpy, indexing an array with a different array is called \"fancy\" indexing. Perhaps confusingly, it creates a copy, not a view."
   ]
  },
  {
   "cell_type": "code",
   "execution_count": 50,
   "metadata": {
    "slideshow": {
     "slide_type": "subslide"
    }
   },
   "outputs": [
    {
     "data": {
      "text/plain": [
       "array([0, 1, 2, 3, 4, 5, 6, 7, 8, 9])"
      ]
     },
     "execution_count": 50,
     "metadata": {},
     "output_type": "execute_result"
    }
   ],
   "source": [
    "basic_array = np.arange(10)\n",
    "basic_array"
   ]
  },
  {
   "cell_type": "code",
   "execution_count": 51,
   "metadata": {
    "slideshow": {
     "slide_type": "subslide"
    }
   },
   "outputs": [
    {
     "data": {
      "text/plain": [
       "array([ True, False,  True, False,  True, False,  True, False,  True,\n",
       "       False])"
      ]
     },
     "execution_count": 51,
     "metadata": {},
     "output_type": "execute_result"
    }
   ],
   "source": [
    "mask = (basic_array % 2 == 0)\n",
    "mask"
   ]
  },
  {
   "cell_type": "code",
   "execution_count": 52,
   "metadata": {
    "slideshow": {
     "slide_type": "subslide"
    }
   },
   "outputs": [
    {
     "data": {
      "text/plain": [
       "array([0, 2, 4, 6, 8])"
      ]
     },
     "execution_count": 52,
     "metadata": {},
     "output_type": "execute_result"
    }
   ],
   "source": [
    "b = basic_array[mask]  # also basic_array[basic_array % 2 == 0]\n",
    "b"
   ]
  },
  {
   "cell_type": "markdown",
   "metadata": {
    "slideshow": {
     "slide_type": "subslide"
    }
   },
   "source": [
    "MATLAB veterans shouldn't be surprised from this feature, but if you haven't seen it before make sure to have a firm grasp on it, as it's a very powerful technique."
   ]
  },
  {
   "cell_type": "code",
   "execution_count": 53,
   "metadata": {
    "slideshow": {
     "slide_type": "subslide"
    }
   },
   "outputs": [
    {
     "name": "stdout",
     "output_type": "stream",
     "text": [
      "basic array: [0 1 2 3 4 5 6 7 8 9]\n",
      "b: [999 999 999 999 999]\n"
     ]
    }
   ],
   "source": [
    "b[:] = 999\n",
    "print(f\"basic array: {basic_array}\")\n",
    "print(f\"b: {b}\")"
   ]
  },
  {
   "cell_type": "code",
   "execution_count": 54,
   "metadata": {
    "slideshow": {
     "slide_type": "subslide"
    }
   },
   "outputs": [
    {
     "data": {
      "text/plain": [
       "array([ 0. ,  1.5,  3. ,  4.5,  6. ,  7.5,  9. , 10.5, 12. , 13.5, 15. ,\n",
       "       16.5, 18. , 19.5])"
      ]
     },
     "execution_count": 54,
     "metadata": {},
     "output_type": "execute_result"
    }
   ],
   "source": [
    "float_array = np.arange(start=0, stop=20, step=1.5)\n",
    "float_array"
   ]
  },
  {
   "cell_type": "code",
   "execution_count": 55,
   "metadata": {
    "slideshow": {
     "slide_type": "subslide"
    }
   },
   "outputs": [
    {
     "data": {
      "text/plain": [
       "array([ 1.5,  3. ,  7.5,  7.5, 15. ])"
      ]
     },
     "execution_count": 55,
     "metadata": {},
     "output_type": "execute_result"
    }
   ],
   "source": [
    "float_array[[1, 2, 5, 5, 10]]  # copy, not a view. Meaning that the resulting array is a new\n",
    "# instance of the original array, independent of it, in a different location in memory."
   ]
  },
  {
   "cell_type": "markdown",
   "metadata": {
    "slideshow": {
     "slide_type": "subslide"
    }
   },
   "source": [
    "Counting the amount of values that fit our condition can be done as follows:"
   ]
  },
  {
   "cell_type": "code",
   "execution_count": 56,
   "metadata": {
    "slideshow": {
     "slide_type": "subslide"
    }
   },
   "outputs": [
    {
     "name": "stdout",
     "output_type": "stream",
     "text": [
      "np.count_nonzero result: 5\n",
      "np.sum result: 5\n"
     ]
    }
   ],
   "source": [
    "basic_array = np.arange(10)\n",
    "count_nonzero_result = np.count_nonzero(basic_array % 2 == 0)\n",
    "sum_result = np.sum(basic_array % 2 == 0)\n",
    "\n",
    "print(f\"np.count_nonzero result: {count_nonzero_result}\")\n",
    "print(f\"np.sum result: {sum_result}\")\n",
    "# In the latter case, True is 1 and False is 0"
   ]
  },
  {
   "cell_type": "markdown",
   "metadata": {
    "slideshow": {
     "slide_type": "subslide"
    }
   },
   "source": [
    "If we wish to add more conditions in to the mix, we can use the `&, |, ~, ^` operators (and, or, not, xor):"
   ]
  },
  {
   "cell_type": "code",
   "execution_count": 57,
   "metadata": {
    "slideshow": {
     "slide_type": "subslide"
    }
   },
   "outputs": [
    {
     "data": {
      "text/plain": [
       "4"
      ]
     },
     "execution_count": 57,
     "metadata": {},
     "output_type": "execute_result"
    }
   ],
   "source": [
    "((basic_array % 2 == 1) & (basic_array != 3)).sum()  # uneven values that are different from 3"
   ]
  },
  {
   "cell_type": "markdown",
   "metadata": {
    "slideshow": {
     "slide_type": "subslide"
    }
   },
   "source": [
    "Note that numpy uses the `&, |, ~, ^` operators for element-by-element comparison, while the reserved `and` and `or` keywords evaluate the entire object:"
   ]
  },
  {
   "cell_type": "code",
   "execution_count": 58,
   "metadata": {
    "slideshow": {
     "slide_type": "subslide"
    }
   },
   "outputs": [
    {
     "ename": "ValueError",
     "evalue": "The truth value of an array with more than one element is ambiguous. Use a.any() or a.all()",
     "output_type": "error",
     "traceback": [
      "\u001b[0;31m---------------------------------------------------------------------------\u001b[0m",
      "\u001b[0;31mValueError\u001b[0m                                Traceback (most recent call last)",
      "\u001b[0;32m<ipython-input-58-e462a6643cbd>\u001b[0m in \u001b[0;36m<module>\u001b[0;34m\u001b[0m\n\u001b[0;32m----> 1\u001b[0;31m \u001b[0mnp\u001b[0m\u001b[0;34m.\u001b[0m\u001b[0msum\u001b[0m\u001b[0;34m(\u001b[0m\u001b[0;34m(\u001b[0m\u001b[0mbasic_array\u001b[0m \u001b[0;34m%\u001b[0m \u001b[0;36m2\u001b[0m \u001b[0;34m==\u001b[0m \u001b[0;36m1\u001b[0m\u001b[0;34m)\u001b[0m \u001b[0;32mand\u001b[0m \u001b[0;34m(\u001b[0m\u001b[0mbasic_array\u001b[0m \u001b[0;34m!=\u001b[0m \u001b[0;36m3\u001b[0m\u001b[0;34m)\u001b[0m\u001b[0;34m)\u001b[0m   \u001b[0;31m# doesn't work, \"and\" isn't used this way here\u001b[0m\u001b[0;34m\u001b[0m\u001b[0;34m\u001b[0m\u001b[0m\n\u001b[0m",
      "\u001b[0;31mValueError\u001b[0m: The truth value of an array with more than one element is ambiguous. Use a.any() or a.all()"
     ]
    }
   ],
   "source": [
    "np.sum((basic_array % 2 == 1) and (basic_array != 3))   # doesn't work, \"and\" isn't used this way here"
   ]
  },
  {
   "cell_type": "markdown",
   "metadata": {
    "slideshow": {
     "slide_type": "subslide"
    }
   },
   "source": [
    "### Sorting"
   ]
  },
  {
   "cell_type": "markdown",
   "metadata": {
    "slideshow": {
     "slide_type": "subslide"
    }
   },
   "source": [
    "Again we face a condition in which Python has its own `sort` functions, but numpy's `np.sort()` are much better suited for arrays. We can either sort in-place, or have a new object back:"
   ]
  },
  {
   "cell_type": "code",
   "execution_count": 59,
   "metadata": {
    "slideshow": {
     "slide_type": "subslide"
    }
   },
   "outputs": [
    {
     "name": "stdout",
     "output_type": "stream",
     "text": [
      "[ 1  2  3  4  4  8 10]\n",
      "[ 1  2  3  4  4  8 10]\n"
     ]
    }
   ],
   "source": [
    "# Return a new object:\n",
    "arr = np.array([ 3, 4, 1, 8, 10, 2, 4])\n",
    "print(np.sort(arr))\n",
    "\n",
    "# Sort in-place:\n",
    "arr.sort()\n",
    "print(arr)"
   ]
  },
  {
   "cell_type": "markdown",
   "metadata": {
    "slideshow": {
     "slide_type": "subslide"
    }
   },
   "source": [
    "The default implementation is a _quicksort_ but other sorting algorithms can be found as well."
   ]
  },
  {
   "cell_type": "code",
   "execution_count": 60,
   "metadata": {
    "slideshow": {
     "slide_type": "subslide"
    }
   },
   "outputs": [
    {
     "name": "stdout",
     "output_type": "stream",
     "text": [
      "Sorted indices: [2 5 0 1 6 3 4]\n"
     ]
    },
    {
     "data": {
      "text/plain": [
       "array([ 1,  2,  3,  4,  4,  8, 10])"
      ]
     },
     "execution_count": 60,
     "metadata": {},
     "output_type": "execute_result"
    }
   ],
   "source": [
    "# np.argsort will return the indices of the sorted array:\n",
    "arr = np.array([ 3, 4, 1, 8, 10, 2, 4])\n",
    "print(\"Sorted indices: {}\".format(np.argsort(arr)))\n",
    "\n",
    "# Usage is as follows:\n",
    "arr[np.argsort(arr)]"
   ]
  },
  {
   "cell_type": "markdown",
   "metadata": {
    "slideshow": {
     "slide_type": "subslide"
    }
   },
   "source": [
    "### Concatenation\n",
    "\n",
    "Concatenation (and splitting) in numpy works as follows:"
   ]
  },
  {
   "cell_type": "code",
   "execution_count": 61,
   "metadata": {
    "slideshow": {
     "slide_type": "subslide"
    }
   },
   "outputs": [
    {
     "data": {
      "text/plain": [
       "array([1, 2, 3, 3, 2, 1])"
      ]
     },
     "execution_count": 61,
     "metadata": {},
     "output_type": "execute_result"
    }
   ],
   "source": [
    "x = np.array([1, 2, 3])\n",
    "y = np.array([3, 2, 1])\n",
    "np.concatenate([x, y])  # concatenates along the first axis"
   ]
  },
  {
   "cell_type": "code",
   "execution_count": 62,
   "metadata": {
    "slideshow": {
     "slide_type": "subslide"
    }
   },
   "outputs": [
    {
     "data": {
      "text/plain": [
       "array([ 1,  2,  3,  3,  2,  1, 99, 99, 99])"
      ]
     },
     "execution_count": 62,
     "metadata": {},
     "output_type": "execute_result"
    }
   ],
   "source": [
    "# Concatenate more than two arrays\n",
    "z = [99, 99, 99]\n",
    "np.concatenate([x, y, z])  # notice how the function argument is an iterable!"
   ]
  },
  {
   "cell_type": "code",
   "execution_count": 63,
   "metadata": {
    "slideshow": {
     "slide_type": "subslide"
    }
   },
   "outputs": [
    {
     "data": {
      "text/plain": [
       "array([[ 0,  1,  2,  6,  7,  8],\n",
       "       [ 3,  4,  5,  9, 10, 11]])"
      ]
     },
     "execution_count": 63,
     "metadata": {},
     "output_type": "execute_result"
    }
   ],
   "source": [
    "# 2D - along the last axis\n",
    "twod_1 = np.array([[0, 1, 2],\n",
    "                   [3, 4, 5]])\n",
    "twod_2 = np.array([[6, 7, 8],\n",
    "                   [9, 10, 11]])\n",
    "np.concatenate((twod_1, twod_2), axis=-1)"
   ]
  },
  {
   "cell_type": "code",
   "execution_count": 64,
   "metadata": {
    "slideshow": {
     "slide_type": "subslide"
    }
   },
   "outputs": [
    {
     "data": {
      "text/plain": [
       "array([[ 0,  1,  2],\n",
       "       [30, 40, 50],\n",
       "       [60, 70, 80]])"
      ]
     },
     "execution_count": 64,
     "metadata": {},
     "output_type": "execute_result"
    }
   ],
   "source": [
    "# np.vstack and np.hstack are also an option\n",
    "sim1 = np.array([0, 1, 2])\n",
    "sim2 = np.array([[30, 40, 50],\n",
    "                 [60, 70, 80]])\n",
    "np.vstack((sim1, sim2))"
   ]
  },
  {
   "cell_type": "markdown",
   "metadata": {
    "slideshow": {
     "slide_type": "subslide"
    }
   },
   "source": [
    "Splitting up arrays is also quite easy:"
   ]
  },
  {
   "cell_type": "code",
   "execution_count": 65,
   "metadata": {
    "slideshow": {
     "slide_type": "subslide"
    }
   },
   "outputs": [
    {
     "data": {
      "text/plain": [
       "array([[ 0,  1,  2,  3],\n",
       "       [ 4,  5,  6,  7],\n",
       "       [ 8,  9, 10, 11],\n",
       "       [12, 13, 14, 15]])"
      ]
     },
     "execution_count": 65,
     "metadata": {},
     "output_type": "execute_result"
    }
   ],
   "source": [
    "arr = np.arange(16).reshape((4, 4))  # see the tuple? Shapes of arrays always come in tuples\n",
    "arr"
   ]
  },
  {
   "cell_type": "code",
   "execution_count": 66,
   "metadata": {
    "scrolled": true,
    "slideshow": {
     "slide_type": "subslide"
    }
   },
   "outputs": [
    {
     "name": "stdout",
     "output_type": "stream",
     "text": [
      "[[ 0  1  2  3]\n",
      " [ 4  5  6  7]\n",
      " [ 8  9 10 11]]\n",
      "---\n",
      "[[12 13 14 15]]\n"
     ]
    }
   ],
   "source": [
    "upper, lower = np.split(arr, [3])  # splits at the fourth line (of the first axis, by default)\n",
    "print(upper)\n",
    "print('---')\n",
    "print(lower)"
   ]
  },
  {
   "cell_type": "markdown",
   "metadata": {
    "slideshow": {
     "slide_type": "slide"
    }
   },
   "source": [
    "### Exercise"
   ]
  },
  {
   "cell_type": "markdown",
   "metadata": {
    "slideshow": {
     "slide_type": "subslide"
    }
   },
   "source": [
    "#### a. Familiarization:\n",
    "\n",
    "Create two random 3D arrays, at least 3x3x3 in size. The first should have random integers between 0 and 100, while the second should contain floating points numbers drawn from the normal distribution, with mean -1 and standard deviation of 2 \n",
    "\n",
    "1. What are the default datatypes of integer and floating-point arrays in numpy?\n",
    "\n",
    "2. Center the distribution of the first integer array around 0, with values between -1 and 1.\n",
    "\n",
    "3. Caclulate their mean, standard deviation along the last axis, and sum along the second axis. Remember that arrays are, like everything in Python, objects.\n",
    "\n",
    "\n",
    "#### b. _Iteration over an array:_ \n",
    "\n",
    "Find and return the indices of the two random arrays only where _both elements_ comply with -0.5 <= X <= 0.5. Do so in at least two distinct ways. These can include elementwise iteration, masked-arrays, and more.\n",
    "\n",
    "Time the execution of the script using the IPython `%%timeit` magic if you have this tool near at hand.\n",
    "\n",
    "#### c. _Broadcasting:_\n",
    "1. Create a vector with length 100, filled with ones, and a 2D zero-filled array with its last dimension with size of 100. \n",
    "2. Using `np.tile`, add the vector and the array.\n",
    "3. Did you have to use `np.tile` in this case? What feature of numpy allows this?\n",
    "4. What happens to the non-tiled addition when the first dimension of the matrix is 100? Why?\n",
    "5. Bonus: How can one add the matrix (in its new shape) and vector without np.tile()?"
   ]
  },
  {
   "cell_type": "markdown",
   "metadata": {
    "slideshow": {
     "slide_type": "subslide"
    }
   },
   "source": [
    "### Exercise solutions below..."
   ]
  },
  {
   "cell_type": "code",
   "execution_count": 67,
   "metadata": {
    "slideshow": {
     "slide_type": "subslide"
    }
   },
   "outputs": [
    {
     "name": "stdout",
     "output_type": "stream",
     "text": [
      "arr1 (integers) stats:\n",
      "Mean: -0.022420000000000002,\n",
      "STD: [[0.46527841 0.58366086 0.4970674  0.52520472 0.60564346 0.63283805\n",
      "  0.46085139 0.4209513  0.4701872  0.38631076]\n",
      " [0.43277708 0.36011665 0.54919578 0.53052427 0.56936807 0.59547964\n",
      "  0.67530438 0.49422262 0.59702261 0.50169712]\n",
      " [0.61430937 0.63617608 0.50404762 0.29719354 0.52853004 0.59573148\n",
      "  0.35097578 0.55072679 0.4445942  0.70312446]\n",
      " [0.50732238 0.60033657 0.59707621 0.61442656 0.5200923  0.54035544\n",
      "  0.6159513  0.34816663 0.44210406 0.44297178]\n",
      " [0.6061155  0.57822141 0.44680645 0.45090576 0.41950447 0.66157388\n",
      "  0.56838367 0.47866899 0.43709953 0.30857738]\n",
      " [0.46726866 0.58472558 0.5181853  0.65363292 0.62387178 0.45847137\n",
      "  0.62560371 0.5420738  0.63403785 0.4835866 ]\n",
      " [0.63245869 0.63586477 0.44535379 0.4886553  0.67346566 0.59189188\n",
      "  0.65740399 0.67680426 0.63917447 0.49990399]\n",
      " [0.62806369 0.47633602 0.54065146 0.47453556 0.56703086 0.64226163\n",
      "  0.37139736 0.57250677 0.46189176 0.5343744 ]\n",
      " [0.51646878 0.36351616 0.54053677 0.58681854 0.49071377 0.54706855\n",
      "  0.70132446 0.52029223 0.47739292 0.5563596 ]\n",
      " [0.52271981 0.474      0.4664933  0.66573568 0.65834945 0.48056633\n",
      "  0.62273269 0.46043892 0.52809469 0.55872712]],\n",
      "Sum: [[ 0.26  1.36  0.54 -0.26 -2.1   0.78 -2.    0.66 -1.24 -1.78]\n",
      " [ 2.58  0.42 -0.4  -0.98 -0.74 -0.12 -0.18 -0.94 -3.36  0.76]\n",
      " [ 0.16 -2.62 -2.34  3.32  1.52 -0.12  1.22 -0.3   3.12 -1.08]\n",
      " [-1.6  -0.1   0.44 -0.18 -0.7  -1.    2.8  -2.78 -2.96  1.76]\n",
      " [ 1.62 -1.84 -2.82 -1.74 -0.12  0.86 -0.64  1.4  -2.32  0.76]\n",
      " [-0.56 -0.02  2.7   2.3  -1.14 -0.96  2.2  -2.34 -0.94 -1.7 ]\n",
      " [ 0.4  -1.52  0.12 -0.1  -0.34 -2.38 -0.84 -1.78  2.54 -2.08]\n",
      " [ 1.92  0.08  3.42  3.06 -3.8   2.84  1.28 -1.66 -1.26 -2.96]\n",
      " [-1.06  0.14 -1.66 -0.66 -1.42 -2.1  -0.02  1.42  0.42 -1.74]\n",
      " [ 0.82 -2.34 -0.88 -2.16  3.02 -1.44  2.3   3.34 -1.12 -0.74]]\n",
      "arr2 (normal distribution) stats:\n",
      "Mean: -1.0882027335889095,\n",
      "STD: [[2.21565067 2.49452695 2.07324576 1.03103957 1.0388686  1.62374656\n",
      "  1.7605375  2.35392214 1.2750444  1.55810811]\n",
      " [1.17831188 1.54698375 1.75715879 1.49320411 1.29275007 1.72105677\n",
      "  2.69963349 1.91044088 1.86023665 1.64320783]\n",
      " [2.32646158 1.5284286  2.14694399 1.40981158 1.37668895 1.70591018\n",
      "  2.83064511 1.52470253 1.96954572 1.29597312]\n",
      " [2.0805572  2.23713615 1.39682497 2.02233764 1.52866717 2.60371979\n",
      "  0.77798776 1.78924809 1.239713   1.25850413]\n",
      " [1.26670337 2.67066345 1.84835027 1.93557715 1.76580454 1.91269507\n",
      "  1.34059328 1.99205171 1.88802529 1.56869176]\n",
      " [1.66063955 1.76633308 1.05175326 2.22502407 1.09105739 1.97309094\n",
      "  2.01549436 1.24310449 2.51093412 2.4472772 ]\n",
      " [1.79037662 1.89067587 2.23783125 1.33163085 1.93083924 1.4248491\n",
      "  1.88385429 1.62951946 1.34929991 1.68506298]\n",
      " [2.96006885 2.03438614 2.14450392 2.90038574 1.48185514 2.57443914\n",
      "  2.36109799 1.28811263 1.35747438 2.13653132]\n",
      " [2.27825004 2.61914705 2.19387573 1.15683317 2.29828793 1.72639181\n",
      "  1.53529441 2.14212448 2.66974263 1.57339664]\n",
      " [1.86869599 2.0324797  1.40258023 1.56869069 1.86818663 2.25553418\n",
      "  1.3593189  1.91885625 1.56001323 2.27109774]],\n",
      "Sum: [[-1.51919645e+01 -1.13709583e+01 -1.06477555e+01 -2.13574217e+01\n",
      "  -1.26744658e+01 -1.36795211e+01 -2.00889262e+01 -1.13754135e+01\n",
      "  -1.87602347e+01 -1.66473928e+01]\n",
      " [-4.96941363e+00 -1.66254151e+01 -9.87124800e+00 -1.37296011e+01\n",
      "  -8.06451011e+00 -1.30771440e+01 -1.66571861e+01 -7.85521527e+00\n",
      "  -1.09401199e+01  5.40709241e+00]\n",
      " [-1.52144199e+01 -1.09757254e+01 -7.42750612e-01 -1.01064334e+01\n",
      "  -1.54271429e+01 -9.64349632e+00 -2.08353553e+01 -5.76480108e+00\n",
      "  -1.58550839e+01  6.55863255e+00]\n",
      " [-1.08148038e+01 -5.93579811e+00 -1.48963097e+01 -1.16019225e+01\n",
      "  -4.56120288e+00 -7.58198795e+00 -1.36017864e+01 -8.62110350e+00\n",
      "  -1.17310296e+01 -1.32959422e+01]\n",
      " [-9.60770051e+00 -7.74760682e+00 -5.88589012e+00 -2.31569524e+01\n",
      "  -8.28320963e+00 -2.24939602e+01 -8.02588239e+00 -7.04973822e+00\n",
      "  -5.24336725e+00 -1.32664344e+01]\n",
      " [-1.62936605e+01 -6.21744213e+00 -1.05651383e+01 -1.23395608e+01\n",
      "  -7.81330773e-01 -2.10330644e+01 -1.97820095e+01 -5.60761997e+00\n",
      "  -9.75398053e+00 -2.63382753e+01]\n",
      " [-8.71423629e-03 -1.31736964e+01 -6.73738677e+00 -6.68087090e+00\n",
      "  -1.19497640e+01 -7.04729375e+00 -7.43647409e+00 -5.58199783e+00\n",
      "  -9.74432590e+00 -4.62358747e+00]\n",
      " [-5.38800488e+00 -1.63054856e+01 -7.62595398e+00 -8.24874089e+00\n",
      "  -2.70150213e+01 -1.12823456e+01 -1.29050650e+01 -1.42602418e+01\n",
      "  -5.53234837e+00 -1.50825457e+01]\n",
      " [-2.04014579e+01 -3.28002437e+00 -1.44583437e+01 -1.15950011e+01\n",
      "  -1.12349401e+01 -6.54605505e+00 -7.17747105e+00 -4.80683784e+00\n",
      "  -1.01526996e+01 -2.13465598e+01]\n",
      " [-1.12620680e+01 -5.81167764e+00 -8.80122408e+00  1.43719797e-01\n",
      "  -1.24661055e+01 -5.97222934e+00 -1.20165165e+01 -6.47330390e+00\n",
      "  -1.34434209e+01 -1.61725506e+01]]\n"
     ]
    }
   ],
   "source": [
    "# a\n",
    "# 1\n",
    "low = 0\n",
    "high = 100\n",
    "arr1 = np.random.randint(low=low, high=high, size=(10, 10, 10))  # dtype is np.int32\n",
    "arr2 = np.random.randn(10, 10, 10) * 2 - 1  # dtype is np.float64\n",
    "\n",
    "# 2\n",
    "middle = (high - low) / 2\n",
    "arr1 = (arr1 - middle) / middle\n",
    "\n",
    "# 3\n",
    "print(\"arr1 (integers) stats:\")\n",
    "print(f\"Mean: {arr1.mean()},\\nSTD: {arr1.std(axis=-1)},\\nSum: {arr1.sum(axis=1)}\")\n",
    "print(\"arr2 (normal distribution) stats:\")\n",
    "print(f\"Mean: {arr2.mean()},\\nSTD: {arr2.std(axis=-1)},\\nSum: {arr2.sum(axis=1)}\")"
   ]
  },
  {
   "cell_type": "code",
   "execution_count": 68,
   "metadata": {
    "slideshow": {
     "slide_type": "subslide"
    }
   },
   "outputs": [
    {
     "name": "stdout",
     "output_type": "stream",
     "text": [
      "670 µs ± 92.1 µs per loop (mean ± std. dev. of 7 runs, 1000 loops each)\n"
     ]
    }
   ],
   "source": [
    "%%timeit\n",
    "# b\n",
    "# 1 - elementwise\n",
    "result = []\n",
    "for idx, (item1, item2) in enumerate(zip(arr1.flat, arr2.flat)):\n",
    "    if (-0.5 <= item1 <= 0.5) and (-0.5 <= item2 <= 0.5):\n",
    "        result.append(idx)\n",
    "result"
   ]
  },
  {
   "cell_type": "code",
   "execution_count": 69,
   "metadata": {
    "slideshow": {
     "slide_type": "subslide"
    }
   },
   "outputs": [
    {
     "name": "stdout",
     "output_type": "stream",
     "text": [
      "17.8 µs ± 3.26 µs per loop (mean ± std. dev. of 7 runs, 100000 loops each)\n"
     ]
    }
   ],
   "source": [
    "%%timeit\n",
    "# b\n",
    "# 2 - masked arrays createed by np.ravel(), np.where()\n",
    "mask1 = ((-0.5 <= arr1.ravel()) & (arr1.ravel() <= 0.5))\n",
    "mask2 = ((-0.5 <= arr2.ravel()) & (arr2.ravel() <= 0.5))\n",
    "both_positive = np.logical_and(mask1, mask2)\n",
    "result = np.where(both_positive)\n",
    "result"
   ]
  },
  {
   "cell_type": "markdown",
   "metadata": {
    "slideshow": {
     "slide_type": "subslide"
    }
   },
   "source": [
    "As you can tell, the second solution is far more efficient than the first, and after a few read code blocks, the syntax presented there can be at least as clear as the one in the first solution."
   ]
  },
  {
   "cell_type": "code",
   "execution_count": 70,
   "metadata": {
    "slideshow": {
     "slide_type": "subslide"
    }
   },
   "outputs": [
    {
     "name": "stdout",
     "output_type": "stream",
     "text": [
      "(100, 10)\n"
     ]
    }
   ],
   "source": [
    "# c\n",
    "# 1\n",
    "vec = np.ones(100)\n",
    "mat = np.zeros((10, 100))\n",
    "\n",
    "# 2\n",
    "tiled_vec = np.tile(vec, (10, 1))  # transpose is necessary\n",
    "ans_tiled = mat + tiled_vec\n",
    "\n",
    "# 3\n",
    "ans_simple = mat + vec  # It's called array broadcasting\n",
    "\n",
    "# 4\n",
    "mat_transposed = mat.T\n",
    "print(mat_transposed.shape)\n",
    "# ans_trans = mat_transposed + vec  # fails because broadcasting is done over the last dimension\n",
    "\n",
    "# 5 - np.newaxis is the answer - very perfomant\n",
    "ans_newaxis = mat_transposed + vec[:, np.newaxis]"
   ]
  }
 ],
 "metadata": {
  "anaconda-cloud": {},
  "kernelspec": {
   "display_name": "Python 3",
   "language": "python",
   "name": "python3"
  },
  "language_info": {
   "codemirror_mode": {
    "name": "ipython",
    "version": 3
   },
   "file_extension": ".py",
   "mimetype": "text/x-python",
   "name": "python",
   "nbconvert_exporter": "python",
   "pygments_lexer": "ipython3",
   "version": "3.7.3"
  }
 },
 "nbformat": 4,
 "nbformat_minor": 2
}
