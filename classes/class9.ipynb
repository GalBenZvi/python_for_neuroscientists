{
 "cells": [
  {
   "cell_type": "markdown",
   "metadata": {},
   "source": [
    "# Class 9 - 1.6.18"
   ]
  },
  {
   "cell_type": "markdown",
   "metadata": {},
   "source": [
    "# Software Design Principles"
   ]
  },
  {
   "cell_type": "markdown",
   "metadata": {},
   "source": [
    "The previous class discussed one of the most important aspects of writing software - testing. But testing is a \"mechanism\" used when writing code, it's not some high-level principle. This class will deal with a few important principles that should be kept in the back of your minds whenever you write a program."
   ]
  },
  {
   "cell_type": "markdown",
   "metadata": {},
   "source": [
    "Most of the ideas presented below are from Robert Martin's, AKA Uncle Bob, lectures and textbooks. He's one of the founding fathers of object-oriented design."
   ]
  },
  {
   "cell_type": "markdown",
   "metadata": {},
   "source": [
    "## Object Orthogonality"
   ]
  },
  {
   "cell_type": "markdown",
   "metadata": {},
   "source": [
    "In many cases objects interact with one another. In the case of some `ProcessData` class, which might process some instances of a `Data` class, that can contain a couple of `Series` and metadata, for example, we can see how `ProcessData` communicates with the data inside the `Data` class, modifying it further. \n",
    "\n",
    "A preliminary design might look like the following:"
   ]
  },
  {
   "cell_type": "code",
   "execution_count": 1,
   "metadata": {},
   "outputs": [],
   "source": [
    "import numpy as np\n",
    "import pandas as pd\n",
    "\n",
    "\n",
    "class Data:\n",
    "    \"\"\" Simple container for DataFrames and their metadata \"\"\"\n",
    "    def __init__(self, arr1: np.ndarray, arr2: np.ndarray, date: float):\n",
    "            self.ser1 = pd.Series(arr1, dtype=np.uint8)\n",
    "            self.ser22 = pd.Series(arr2, dtype=np.int16)\n",
    "            self.metadata = dict(shape1=self.df1.shape,\n",
    "                                 shape2=self.df2.shape,\n",
    "                                 total=self.df1.shape[0] + self.df2.shape[0],\n",
    "                                 date=date)\n",
    "            \n",
    "class ProcessData:\n",
    "    \"\"\" Pipeline to process twin Data instances \"\"\"\n",
    "    def __init__(self, data1: Data, data2: Data):\n",
    "        self.data1 = data1\n",
    "        self.data2 = data2\n",
    "        self.result = []\n",
    "        self.metadata = dict(columns1=data1.columns,\n",
    "                             columns2=data2.columns,\n",
    "                             metadata=data1.metadata)\n",
    "        \n",
    "    def process(self):\n",
    "        self.result.extend([data1.x.sum(), data2.x.sum()])\n",
    "        self.result.append([data1.x.mean() + data2.y.mean()])\n",
    "        return result"
   ]
  },
  {
   "cell_type": "markdown",
   "metadata": {},
   "source": [
    "We have here a `Data` class which serves as a container for two DataFrames that are logically connected. It also simplifies the access to some of the metadata contained with theses DataFrames.\n",
    "\n",
    "We also have a `ProcessData` class that uses the `Data` instances to calculate some statistical properties and keep them for later use.\n",
    "\n",
    "While this design works (which is important), it's flawed in the sense that the `ProcessData` object is very reliant on the implementation details of the `Data` class. When higher-level objects are dependent on specific attributes of some lower-level module, we need to perform Dependency Inversion. This decoupling process can also be called \"object orthogonality\"."
   ]
  },
  {
   "cell_type": "markdown",
   "metadata": {},
   "source": [
    "We'll do a couple of major changes to our design which will solve, step by step, the design issues we encoutered.\n",
    "\n",
    "First we'll create a new `DataContainer` class that holds `Data` instances, and redefine the `Data` class more appropriately:"
   ]
  },
  {
   "cell_type": "code",
   "execution_count": 2,
   "metadata": {},
   "outputs": [],
   "source": [
    "class Data:\n",
    "    \"\"\" Simple container for DataFrames and their metadata \"\"\"\n",
    "    def __init__(self, arr1: np.ndarray, arr2: np.ndarray, date: float):\n",
    "            self._ser1 = pd.Series(arr1, dtype=np.uint8)\n",
    "            self._ser2 = pd.Series(arr2, dtype=np.int16)\n",
    "            self._metadata = dict(shape1=self.df1.shape,\n",
    "                                 shape2=self.df2.shape,\n",
    "                                 total=self.df1.shape[0] + self.df2.shape[0],\n",
    "                                 date=date)\n",
    "    @property\n",
    "    def data(self):\n",
    "        \"\"\" Returns the actual data variables as an iterable\"\"\"\n",
    "        result = [self._ser1, self._ser2]\n",
    "        return result\n",
    "    \n",
    "    @property\n",
    "    def metadata(self):\n",
    "        return self._metadata\n",
    "    \n",
    "    def sum(self):\n",
    "        return [x.sum() for x in self.data]\n",
    "    \n",
    "    \n",
    "class DataContainer:\n",
    "    \"\"\" Holds, in order, instances of Data \"\"\"\n",
    "    def __init__(self, datas):\n",
    "        self._data = []\n",
    "        self._metadata = {}\n",
    "        try:\n",
    "            for idx, data in enumerate(datas):\n",
    "                if isinstance(data, Data):\n",
    "                    self._data.append(data)\n",
    "                    self._metadata[idx] = data.metadata\n",
    "                else:\n",
    "                    raise TypeError(f\"TypeError: Data {data} isn't a 'Data' type.\")\n",
    "        except TypeError as e:\n",
    "            print(e)\n",
    "    \n",
    "    @property\n",
    "    def data(self):\n",
    "        return self._data\n",
    "    \n",
    "    @property\n",
    "    def metadata(self):\n",
    "        return self._metadata\n",
    "    \n",
    "    def sum(self):\n",
    "        result = []\n",
    "        for data in self._data:\n",
    "            result.append(data.sum())\n",
    "        return result"
   ]
  },
  {
   "cell_type": "markdown",
   "metadata": {},
   "source": [
    "First note the \"new technical term\": We introduce here the `@property` decorators. We'll discuss Python's decorators in the next class, but for now we only care about their practical aspect: If we define some method as a property, that keyword can be used like a regular attribute, except for the fact that it's immutable:"
   ]
  },
  {
   "cell_type": "code",
   "execution_count": 3,
   "metadata": {},
   "outputs": [
    {
     "name": "stdout",
     "output_type": "stream",
     "text": [
      "The original attribute: 2\n",
      "Attributes can be changed: 3\n",
      "------\n",
      "Using the method: 2\n",
      "And of course, it can't be changed (immutable).\n",
      "------\n",
      "As a property: 2\n",
      "AttributeError: can't set attribute - properties can't be changed.\n"
     ]
    }
   ],
   "source": [
    "class Trial:\n",
    "    def __init__(self):\n",
    "        self.two_as_attr = 2\n",
    "    \n",
    "    def two_as_method(self):\n",
    "        return 2\n",
    "    \n",
    "    @property\n",
    "    def two_as_prop(self):\n",
    "        return 2\n",
    "\n",
    "tr = Trial()\n",
    "\n",
    "# Changing attributes is possible:\n",
    "print(f\"The original attribute: {tr.two_as_attr}\")\n",
    "tr.two_as_attr = 3\n",
    "print(f\"Attributes can be changed: {tr.two_as_attr}\")\n",
    "print(\"------\")\n",
    "\n",
    "# Using the regular method requires brackets\n",
    "print(f\"Using the method: {tr.two_as_method()}\")\n",
    "print(\"And of course, it can't be changed (immutable).\")\n",
    "print(\"------\")\n",
    "\n",
    "# Using a property \"feels\" like using an attributes:\n",
    "print(f\"As a property: {tr.two_as_prop}\")  # no brackets\n",
    "try:\n",
    "    tr.two_as_prop = 3  # AttributeError\n",
    "except AttributeError as e:\n",
    "    print(f\"AttributeError: {e} - properties can't be changed.\")"
   ]
  },
  {
   "cell_type": "markdown",
   "metadata": {},
   "source": [
    "Properties are useful for one more reason (setters), which we'll examine in the next class.\n",
    "\n",
    "But besides this new, exciting feature of Python, what else has changed with the implementation?"
   ]
  },
  {
   "cell_type": "markdown",
   "metadata": {},
   "source": [
    "#### `Data`:\n",
    "1. We redefined `Data`. The new object doesn't allow anyone from the outside to change the data it holds, it only allows for a \"view\" of the data. The use of properties ensure that once the object was created, the internal structure of the instance remains intact. The single underscore before the variable names also prevents direct access to the attribute.\n",
    "\n",
    "2. Furthermore, if we examine the `sum()` method, we see that it's now bound to the `Data` object itself. If we write it explicitly it makes senes: _The sum of the data is a bound method to our data - an intrinsic property of it._ If we every decide to change how our data is stored, the `sum()` method should change accordingly, but no other object will be affected.\n",
    "\n",
    "\n",
    "#### `DataContainer`:\n",
    "1. The new `DataContainer` class _doesn't really know_ what it's holding. All it cares is that they're `Data` instances. It doesn't peek inside the methods of the different `Data` instances.\n",
    "\n",
    "2. It doesn't allow access to the list of `Data` instances itself. It exposes a `data` property which returns the list. If we decide to change the internal implementation of `DataContainer`, users of this class wouldn't care as long as we keep the output of the `data` property similar. Even if the list is empty - it will always return something.\n",
    "\n",
    "Let's see the redefined implementation of the `ProcessData` class:"
   ]
  },
  {
   "cell_type": "code",
   "execution_count": 4,
   "metadata": {},
   "outputs": [],
   "source": [
    "class ProcessData:\n",
    "    \"\"\" Pipeline to process twin Data instances \"\"\"\n",
    "    def __init__(self, datacont: DataContainer):\n",
    "        self.datacont = datacont\n",
    "        self.result = {}\n",
    "        self.metadata = datacont.metadata\n",
    "        \n",
    "    def process(self):\n",
    "        \"\"\" Mock processing pipeline \"\"\"\n",
    "        self.result['sum'] = self.datacont.sum()\n",
    "        means = [x.mean() for x in self.datacont.data]\n",
    "        self.result['mean'] = means\n",
    "        return self.result"
   ]
  },
  {
   "cell_type": "markdown",
   "metadata": {},
   "source": [
    "The code snippet above is now much cleaner than the one we had beforehand. It uses the \"API\" of the `DataContainer` in two ways - either using a fully-featured `sum()` function, or by (securely) accessing the data using the `data` property and running non-standard processing on it - mean calculation in our case.}"
   ]
  },
  {
   "cell_type": "markdown",
   "metadata": {},
   "source": [
    "The downside is the added class - more code to write, more tests, more imports at the top. But the added value is tremendous. Think how easy it is to add new functionality into the pipeline. Everything is flexible, allowing to create a new `median()` function in the `DataContainer` class, for example. We can even change the internal structure of the `Data` class and still use the downstream class effectively."
   ]
  },
  {
   "cell_type": "markdown",
   "metadata": {},
   "source": [
    "## Liskov Subtitution Principle"
   ]
  },
  {
   "cell_type": "markdown",
   "metadata": {},
   "source": [
    "The LSP can be presented in several ways, and we'll choose the more straight-forward approach of just showing an example of when the principle is violated."
   ]
  },
  {
   "cell_type": "markdown",
   "metadata": {},
   "source": [
    "Say I wish to model a rectangle, just as we did in the first class:"
   ]
  },
  {
   "cell_type": "code",
   "execution_count": 14,
   "metadata": {},
   "outputs": [],
   "source": [
    "class Rectangle:\n",
    "    \"\"\" A very simple implementation just to prove a point \"\"\"\n",
    "    def __init__(self, point, x, y):\n",
    "        self.corner = point[0], point[1]\n",
    "        self.x = x\n",
    "        self.y = y\n",
    "    \n",
    "    def move(self, point):\n",
    "        \"\"\" Move the object to the point \"\"\"\n",
    "        self.corner = point\n",
    "        \n",
    "    def set_width(self, dx):\n",
    "        \"\"\" Change width to dx \"\"\"\n",
    "        self.x = dx\n",
    "    \n",
    "    def set_height(self, dy):\n",
    "        \"\"\" Change height to dy \"\"\"\n",
    "        self.y = dy        "
   ]
  },
  {
   "cell_type": "markdown",
   "metadata": {},
   "source": [
    "As the docstring says, above is a super-basic implementation of such a Rectangle. Take note of the two mutating functions that present a way to change the shape of the rectangle _independently._ This seems very logical when only dealing with a rectangle - each side truly is independent of the other.\n",
    "\n",
    "However, if we wish to reuse this class when modeling a Square via inheritance, we'll be facing quite a pickle:"
   ]
  },
  {
   "cell_type": "code",
   "execution_count": 8,
   "metadata": {},
   "outputs": [],
   "source": [
    "class Square(Rectangle):\n",
    "    \"\"\" Simple circle, inheriting from Rectangle \"\"\"\n",
    "    def __init__(self, point, x):\n",
    "        super().__init__(point, x, x)"
   ]
  },
  {
   "cell_type": "code",
   "execution_count": 13,
   "metadata": {},
   "outputs": [
    {
     "name": "stdout",
     "output_type": "stream",
     "text": [
      "Square size: (10, 10)\n",
      "Square corner: (0, 0)\n"
     ]
    }
   ],
   "source": [
    "sq = Square((0, 0), 10)\n",
    "print(f\"Square size: {sq.x, sq.y}\")\n",
    "print(f\"Square corner: {sq.corner}\")"
   ]
  },
  {
   "cell_type": "markdown",
   "metadata": {},
   "source": [
    "Initially this seems OK. We only require a single `x` input for a square, and we just pass it twice to the `Rectangle` constructor to create a squared rectangle.\n",
    "\n",
    "Even the `move()` method of the rectangle is helpful - we can move our square around without the need to redefine it.\n",
    "\n",
    "But the `set_X()` methods are an issue. We can't allow for users of our `Square` to modify the height and width of the square independently. If someone would only change the square's height, keeping its current width unchanged, it would make our `Square` not a true square."
   ]
  },
  {
   "cell_type": "code",
   "execution_count": 16,
   "metadata": {},
   "outputs": [
    {
     "name": "stdout",
     "output_type": "stream",
     "text": [
      "New dimensions: (10, 20) - not a square.\n"
     ]
    }
   ],
   "source": [
    "sq.set_height(20)\n",
    "print(f\"New dimensions: {sq.x, sq.y} - not a square.\")"
   ]
  },
  {
   "cell_type": "markdown",
   "metadata": {},
   "source": [
    "Logically, and mathematically, a square _should_ inherit from a Rectangle. The simple mental model of the problem at hand is very clear with this inheritance relationship in mind. However, our implementation reaches a set back with might have not been able to predict in advance."
   ]
  },
  {
   "cell_type": "markdown",
   "metadata": {},
   "source": [
    "LSP claims that we should be able to replace instances of `Rectangle` with instances of `Square` without changing the correctness of the application. In this case we see that this substitution isn't possible, and so the principle breaks."
   ]
  },
  {
   "cell_type": "markdown",
   "metadata": {},
   "source": [
    "### What do we do?"
   ]
  },
  {
   "cell_type": "markdown",
   "metadata": {},
   "source": [
    "#### 1. Limit the use of inheritance\n",
    "Only when we're completely positive that the use of inheritance will contribute to our application - by improving readability or reducing code repetitions - only then should we use it. It's an important tool to have as an object-oriented programmer, but one which should be used carefully."
   ]
  },
  {
   "cell_type": "markdown",
   "metadata": {},
   "source": [
    "#### 2. Define a higher-level abstraction\n",
    "We could define a more abstract base class for both the rectangle and square, such as a `2DShape`. This class can have a `corner` attribute, and a few very basic methods like `move()`. This will change the definition of `Rectangle` to \n",
    "\n",
    "```python\n",
    "class Rectangle(TwoDShape):\n",
    "     # ...\n",
    "``` \n",
    "and `Square` to \n",
    "```python\n",
    "class Square(TwoDShape):\n",
    "     # ...\n",
    "```"
   ]
  },
  {
   "cell_type": "markdown",
   "metadata": {},
   "source": [
    "#### 3. Override methods of the base class\n",
    "We may simply override the implementation of one (or both) of the `set_X()` methods. The new implementation may raise a warning when trying to use it, pointing the user to the appropriate method, or it may raise a simple exception."
   ]
  },
  {
   "cell_type": "markdown",
   "metadata": {},
   "source": [
    "#### 4. Addition of a precondition\n",
    "We can add to the `Rectangle` class a flag (=boolean attribute) called `stretchable`. Each `set_X()` methods then checks this flag, to see if the operation is allowed, before changing the width and height."
   ]
  },
  {
   "cell_type": "markdown",
   "metadata": {},
   "source": [
    "## Typestates"
   ]
  },
  {
   "cell_type": "markdown",
   "metadata": {},
   "source": [
    "Typestates are a way to enforce the state of our data\\application with strict types.\n",
    "\n",
    "\n",
    "Let's assume I have 24 human volunteers in combined a fMRI + questionnaire study. I keep them all in a single DataFrame for brevity and ease-of-use, but in effect they're in different stages of my experiment. A few were just recruited last week, and I haven't even set a date for our first meeting. A few others were already scanned in the magnet once, but still have to go through my second questionnaire session. \n",
    "\n",
    "My application monitors these students, alerts me of incoming meeting dates, and (of course) analyzes the results of the questionnaires and scans.\n",
    "\n",
    "The __correctness__ of this application can be enforced in many ways - tests, mock data, daily use - but here I choose to show another mechanism - typestates. The fact that the current status of each volunteer isn't specified with a simple string in a table, but is actually a different class altogether, is another way to make sure that I always receive the expected output from each method call."
   ]
  },
  {
   "cell_type": "code",
   "execution_count": 26,
   "metadata": {},
   "outputs": [],
   "source": [
    "import datetime\n",
    "import pandas as pd\n",
    "\n",
    "\n",
    "# Helper types\n",
    "class Name:\n",
    "    \"\"\" First and last name \"\"\"\n",
    "    # Implementation omitted\n",
    "\n",
    "\n",
    "class Age:\n",
    "    \"\"\" Special age type \"\"\"\n",
    "    # Implementation omitted\n",
    "\n",
    "\n",
    "class FmriResult:\n",
    "    \"\"\" Results from an fMRI scan \"\"\"\n",
    "    # Implementation omitted\n",
    "\n",
    "\n",
    "# Volunteer types    \n",
    "class Volunteer:\n",
    "    \"\"\" Base class for all volunteers in my project \"\"\"\n",
    "    def __init__(self, name: Name, age: Age, call_date: datetime.time, vol_id: int):\n",
    "        self.name = name\n",
    "        self.age = age\n",
    "        self.call_date = call_date\n",
    "        self.id = vol_id\n",
    "        \n",
    "    def __str__(self):\n",
    "        return f\"{self.name}, age {self.age}, first called at {self.call_date}.\"\n",
    "        \n",
    "    def update_df(self, records: pd.DataFrame):\n",
    "        \"\"\" Add the instance to the dataframe containing the rest of the data \"\"\"\n",
    "        record = pd.DataFrame([self.name, self.age, self.call_date, \n",
    "                               self.id, self.metadata, type(self), copy.copy(self)])\n",
    "        records.append(record)\n",
    "        return records\n",
    "    \n",
    "    def remove_from_df(self, records: pd.DataFrame):\n",
    "        \"\"\" Remove the instance from the student records \"\"\"\n",
    "        idx = records.id == self.id\n",
    "        records.drop(idx, inplace=True)\n",
    "        return records\n",
    "\n",
    "    \n",
    "class PreScanOne(Volunteer):\n",
    "    \"\"\" Volunteer before the first session \"\"\"\n",
    "    loc = 0  # ordinal place in hierarchy\n",
    "    \n",
    "    def __init__(self, name: Name, age: Age, call_date: datetime.time, vol_id: int, \n",
    "                 scan_one_date: datetime.time):\n",
    "        super().__init__(name, age, call_date, vol_id)\n",
    "        self.metadata = dict(scan_one_date=scan_one_date)\n",
    "        \n",
    "    def advance(self, result: FmriResult, next_date: datetime.time):\n",
    "        \"\"\" Advance a PreScanOne to a PostScanOne \"\"\"\n",
    "        new = PostScanOne(self, result, next_date)\n",
    "        return new\n",
    "    \n",
    "\n",
    "class PostScanOne(Volunteer):\n",
    "    \"\"\" Volunteer after the first session \"\"\"\n",
    "    loc = 1\n",
    "    \n",
    "    def __init__(self, pre_volunteer: PreScanOne, scan_one_data: FmriResult, \n",
    "                 scan_two_date: datetime.time):\n",
    "        super().__init__(pre_volunteer.name, pre_volunteer.age, pre_volunteer.call_date, pre_volunteer.id)\n",
    "        self.metadata = pre_volunteer.metadata\n",
    "        self.metadata['scan_one_data'] = scan_one_data\n",
    "        self.metadata['scan_to_date'] = scan_two_date\n",
    "    \n",
    "    def advance(self, result: FmriResult, next_date: datetime.time):\n",
    "        \"\"\" Advance a PostScanOne to a PreScanTwo \"\"\"\n",
    "        new = PreScanTwo(self, result, next_date)\n",
    "        return new\n",
    "    \n",
    "    \n",
    "# Examples of generic methods that use this interface\n",
    "def advance_volunteer(old_vol, results: FmriResult, records: pd.DataFrame):\n",
    "    \"\"\" \n",
    "    Move volunteer to next step in the experiment, returning the new \n",
    "    instance and records.\n",
    "    \"\"\"\n",
    "    old_vol.remove_from_df(records)\n",
    "    new_vol = old_vol.advance(results, records)\n",
    "    new_vol.update_df(records)\n",
    "    return new_vol, records\n",
    "\n",
    "\n",
    "def process_data(records):\n",
    "    \"\"\" Run the same processing function over all fMRI data \"\"\"\n",
    "    results = []\n",
    "    for vol in records:\n",
    "        try:\n",
    "            results.append(vol.process_data)\n",
    "        except AttributeError:  # instance doesn't have data\n",
    "            pass\n",
    "    return results"
   ]
  },
  {
   "cell_type": "markdown",
   "metadata": {},
   "source": [
    "This is long, but interesting, so let's try to break it down.\n",
    "\n",
    "At the beginning we have a few help classes which I merely defined, but not implemented. These shouldn't look strange to you. We talked during class of how an `Age` type is an important example of defining our own types in a program, since it's neither an integer nor a floating point number.\n",
    "\n",
    "The second part is the most interesting. We have a base class called `Volunteer` which contains basic information which is common to all experiment volunteers. But it's actually more than that - it also defines the _interfaces_ between the classes, it forces the classes to have specific attributes that will comply to this protocol, linking their behavior together.\n",
    "\n",
    "The other two classes inherit from `Volunteer` and represent the first two steps in the \"Volunteer path\". The `loc` class variable signifies that. From phase one (`PreScanOne`( a volunteer can only advance forward (or drop out from the experiment) to step 2. And likewise from step 2 to 3 - you'll always find the same `.advance()` method that takes you to the next step, even though the implementation is slightly different. To handle the variability in the held data, we have the `metadata` attribute which can hold different parameters and datapoints.\n",
    "\n",
    "The last part shows how to use such an interface. We have a function that advances an instance of a class \"one step\" to the next phase. We have a function that runs some processing on the data held inside the instances, and we can have as many functions (and classes as we wish). It's completely extensible since the API is well-defined."
   ]
  },
  {
   "cell_type": "markdown",
   "metadata": {},
   "source": [
    "## Design vs. Productivity"
   ]
  },
  {
   "cell_type": "markdown",
   "metadata": {},
   "source": [
    "Before we start exercising, one important note to remember: There's a thin line between under- and over-engineering. Very small scripting projects require almost no engineering at all. This might mean that after you gain a few extra months of experience in Python, the structure of code for a small scripting job in Python might be obvious for you right from the get-go. You'll know which data structures you'll have, whether or not you'll need a class or two, and how the user interface might go.\n",
    "\n",
    "On the other hand, large applications which span at least a few thousands lines of code will always need _some_ form of pre-planning. It would be senseless not to write out a diagram of the main modules in your code and their interfaces. One can consider this to be common knowledge, or a simple programmer's instinct. Just like architects sit down and plan for months in advance the construct they're about to create, programmers should spell out the architecture of their own programs. In no way will this guarantee you'll get the architecture right in the first time, but the design might serve as good building blocks when you start the refactoring process."
   ]
  },
  {
   "cell_type": "markdown",
   "metadata": {},
   "source": [
    "Problems mostly occur when you write medium-sized scripts, up to a couple thousand lines. These scripts usually start out small - a few functions that deal with file I/O and display of data - but can grow quite quickly once you start adding functionality. When the script was short you probably didn't even write tests, since you were sure you're handling some insignificant piece of code, and now it starts biting back at you.\n",
    "\n",
    "It's hard to write rules for these occasions. When someone asks me for improved functionality on some short script I wrote, I sometimes tell them it will take more time than I think it should, since I want to devote time for refactoring of the code, to make the new functionality feel more natural inside it.\n",
    "\n",
    "It's also good practice to write use classes to bind data and methods, even when you think they might be overkill. It's much easier to expand the functionality of classes than of an assortment of functions."
   ]
  }
 ],
 "metadata": {
  "anaconda-cloud": {},
  "kernelspec": {
   "display_name": "Python [conda env:general]",
   "language": "python",
   "name": "conda-env-general-py"
  },
  "language_info": {
   "codemirror_mode": {
    "name": "ipython",
    "version": 3
   },
   "file_extension": ".py",
   "mimetype": "text/x-python",
   "name": "python",
   "nbconvert_exporter": "python",
   "pygments_lexer": "ipython3",
   "version": "3.6.4"
  }
 },
 "nbformat": 4,
 "nbformat_minor": 2
}
