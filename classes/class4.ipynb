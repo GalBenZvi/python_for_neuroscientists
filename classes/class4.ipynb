{
 "cells": [
  {
   "cell_type": "markdown",
   "metadata": {
    "slideshow": {
     "slide_type": "slide"
    }
   },
   "source": [
    "# Class 4 - 25.3.18"
   ]
  },
  {
   "cell_type": "markdown",
   "metadata": {
    "slideshow": {
     "slide_type": "slide"
    }
   },
   "source": [
    " # Errors and Exceptions"
   ]
  },
  {
   "cell_type": "markdown",
   "metadata": {
    "slideshow": {
     "slide_type": "subslide"
    }
   },
   "source": [
    "A very debated feature of Python (and other scripting languages) is its fear of failing. Python tries to coerce unknown commands into something familiar that it can work with. For example, addition of `bool`s and other types is fully supported, since `bool` types are treated as 0 (for `False`) and 1 (for `True`)."
   ]
  },
  {
   "cell_type": "code",
   "execution_count": 1,
   "metadata": {
    "slideshow": {
     "slide_type": "subslide"
    }
   },
   "outputs": [
    {
     "data": {
      "text/plain": [
       "0.0"
      ]
     },
     "execution_count": 1,
     "metadata": {},
     "output_type": "execute_result"
    }
   ],
   "source": [
    "True - 1.0"
   ]
  },
  {
   "cell_type": "code",
   "execution_count": 2,
   "metadata": {
    "slideshow": {
     "slide_type": "subslide"
    }
   },
   "outputs": [
    {
     "data": {
      "text/plain": [
       "10"
      ]
     },
     "execution_count": 2,
     "metadata": {},
     "output_type": "execute_result"
    }
   ],
   "source": [
    "False + 10"
   ]
  },
  {
   "cell_type": "markdown",
   "metadata": {
    "slideshow": {
     "slide_type": "subslide"
    }
   },
   "source": [
    "However, many other statements will result in an error, or _Exception_ in Python's terms:"
   ]
  },
  {
   "cell_type": "code",
   "execution_count": 3,
   "metadata": {
    "slideshow": {
     "slide_type": "subslide"
    }
   },
   "outputs": [
    {
     "ename": "TypeError",
     "evalue": "must be str, not int",
     "output_type": "error",
     "traceback": [
      "\u001b[1;31m---------------------------------------------------------------------------\u001b[0m",
      "\u001b[1;31mTypeError\u001b[0m                                 Traceback (most recent call last)",
      "\u001b[1;32m<ipython-input-3-977675d93a78>\u001b[0m in \u001b[0;36m<module>\u001b[1;34m()\u001b[0m\n\u001b[1;32m----> 1\u001b[1;33m \u001b[1;34m'3'\u001b[0m \u001b[1;33m+\u001b[0m \u001b[1;36m3\u001b[0m  \u001b[1;31m# TypeError\u001b[0m\u001b[1;33m\u001b[0m\u001b[0m\n\u001b[0m",
      "\u001b[1;31mTypeError\u001b[0m: must be str, not int"
     ]
    }
   ],
   "source": [
    "'3' + 3  # TypeError"
   ]
  },
  {
   "cell_type": "code",
   "execution_count": 4,
   "metadata": {
    "slideshow": {
     "slide_type": "subslide"
    }
   },
   "outputs": [
    {
     "ename": "IndexError",
     "evalue": "list index out of range",
     "output_type": "error",
     "traceback": [
      "\u001b[1;31m---------------------------------------------------------------------------\u001b[0m",
      "\u001b[1;31mIndexError\u001b[0m                                Traceback (most recent call last)",
      "\u001b[1;32m<ipython-input-4-4076b5525985>\u001b[0m in \u001b[0;36m<module>\u001b[1;34m()\u001b[0m\n\u001b[0;32m      1\u001b[0m \u001b[0ma\u001b[0m \u001b[1;33m=\u001b[0m \u001b[1;33m[\u001b[0m\u001b[1;36m0\u001b[0m\u001b[1;33m,\u001b[0m \u001b[1;36m1\u001b[0m\u001b[1;33m,\u001b[0m \u001b[1;36m2\u001b[0m\u001b[1;33m]\u001b[0m\u001b[1;33m\u001b[0m\u001b[0m\n\u001b[1;32m----> 2\u001b[1;33m \u001b[0ma\u001b[0m\u001b[1;33m[\u001b[0m\u001b[1;36m3\u001b[0m\u001b[1;33m]\u001b[0m  \u001b[1;31m# IndexError\u001b[0m\u001b[1;33m\u001b[0m\u001b[0m\n\u001b[0m",
      "\u001b[1;31mIndexError\u001b[0m: list index out of range"
     ]
    }
   ],
   "source": [
    "a = [0, 1, 2]\n",
    "a[3]  # IndexError"
   ]
  },
  {
   "cell_type": "code",
   "execution_count": 5,
   "metadata": {
    "slideshow": {
     "slide_type": "subslide"
    }
   },
   "outputs": [
    {
     "ename": "NameError",
     "evalue": "name 'camel' is not defined",
     "output_type": "error",
     "traceback": [
      "\u001b[1;31m---------------------------------------------------------------------------\u001b[0m",
      "\u001b[1;31mNameError\u001b[0m                                 Traceback (most recent call last)",
      "\u001b[1;32m<ipython-input-5-30dc50b6b31d>\u001b[0m in \u001b[0;36m<module>\u001b[1;34m()\u001b[0m\n\u001b[1;32m----> 1\u001b[1;33m \u001b[0mcamel\u001b[0m  \u001b[1;31m# NameError\u001b[0m\u001b[1;33m\u001b[0m\u001b[0m\n\u001b[0m",
      "\u001b[1;31mNameError\u001b[0m: name 'camel' is not defined"
     ]
    }
   ],
   "source": [
    "camel  # NameError"
   ]
  },
  {
   "cell_type": "markdown",
   "metadata": {
    "slideshow": {
     "slide_type": "subslide"
    }
   },
   "source": [
    "There are countless exceptions in Python, and most modules you'll use created their designated exceptions. Modules and packages do this because the exception is _meaningful_ - each exception conveys information about what went wrong during the runtime. Since it's not a simple error, we can use this information by predetermining the course of action when an excpetion occurs. This is called _catching_ an exception."
   ]
  },
  {
   "cell_type": "markdown",
   "metadata": {
    "slideshow": {
     "slide_type": "subslide"
    }
   },
   "source": [
    "The keywords involved are: `try`, `except`, `else` and `finally`:\n",
    "\n",
    "```python\n",
    "try:\n",
    "    # Do something that might fail\n",
    "except PermissionError:\n",
    "    # If we don't have permission to do the operation (e.g. write to protected disk), do the following\n",
    "except IsADirectoryError:\n",
    "    # Trying to do a file operation on a directory - so do the following\n",
    "except (NameError, TypeError):\n",
    "    # If we encouter either a non-existent variable or operation on variables, do the following\n",
    "except Exception:\n",
    "    # General error, not caught by previous exceptions\n",
    "else:\n",
    "    # If the operation under \"try\" succeeded, do the following\n",
    "finally:\n",
    "    # Regardless of the result - success or failure - do this.\n",
    "```"
   ]
  },
  {
   "cell_type": "markdown",
   "metadata": {
    "slideshow": {
     "slide_type": "subslide"
    }
   },
   "source": [
    "Let's break it down:"
   ]
  },
  {
   "cell_type": "code",
   "execution_count": 6,
   "metadata": {
    "slideshow": {
     "slide_type": "subslide"
    }
   },
   "outputs": [
    {
     "ename": "TypeError",
     "evalue": "can only concatenate list (not \"int\") to list",
     "output_type": "error",
     "traceback": [
      "\u001b[1;31m---------------------------------------------------------------------------\u001b[0m",
      "\u001b[1;31mTypeError\u001b[0m                                 Traceback (most recent call last)",
      "\u001b[1;32m<ipython-input-6-cd24c6c5376b>\u001b[0m in \u001b[0;36m<module>\u001b[1;34m()\u001b[0m\n\u001b[0;32m      2\u001b[0m \u001b[1;31m# a = 2\u001b[0m\u001b[1;33m\u001b[0m\u001b[1;33m\u001b[0m\u001b[0m\n\u001b[0;32m      3\u001b[0m \u001b[1;32mtry\u001b[0m\u001b[1;33m:\u001b[0m\u001b[1;33m\u001b[0m\u001b[0m\n\u001b[1;32m----> 4\u001b[1;33m     \u001b[0mb\u001b[0m \u001b[1;33m=\u001b[0m \u001b[0ma\u001b[0m \u001b[1;33m+\u001b[0m \u001b[1;36m1\u001b[0m\u001b[1;33m\u001b[0m\u001b[0m\n\u001b[0m\u001b[0;32m      5\u001b[0m \u001b[1;32mexcept\u001b[0m \u001b[0mNameError\u001b[0m\u001b[1;33m:\u001b[0m  \u001b[1;31m# a or b isn't defined\u001b[0m\u001b[1;33m\u001b[0m\u001b[0m\n\u001b[0;32m      6\u001b[0m     \u001b[0ma\u001b[0m \u001b[1;33m=\u001b[0m \u001b[1;36m1\u001b[0m\u001b[1;33m\u001b[0m\u001b[0m\n",
      "\u001b[1;31mTypeError\u001b[0m: can only concatenate list (not \"int\") to list"
     ]
    }
   ],
   "source": [
    "# Simplest form of exception handling:\n",
    "# a = 2\n",
    "try:\n",
    "    b = a + 1\n",
    "except NameError:  # a or b isn't defined\n",
    "    a = 1\n",
    "    b = 2\n",
    "\n",
    "# We could catch other exceptions\n",
    "try:\n",
    "    b = a + 1\n",
    "except TypeError:  # a isn't a float\\int\n",
    "    b = 2\n"
   ]
  },
  {
   "cell_type": "code",
   "execution_count": 7,
   "metadata": {
    "slideshow": {
     "slide_type": "subslide"
    }
   },
   "outputs": [
    {
     "name": "stdout",
     "output_type": "stream",
     "text": [
      "1 remaing key(s) in the dictionary\n"
     ]
    }
   ],
   "source": [
    "# With the else clause\n",
    "current_key = 'John'\n",
    "default_val = 'Cohen'\n",
    "dict_1 = {'John': 'Doe', 'Jane': 'Doe'}\n",
    "try:\n",
    "    johns = dict_1.pop(current_key)\n",
    "except KeyError:  # Non-existent key\n",
    "    dict_1[current_key] = default_val\n",
    "else:\n",
    "    print(f\"{len(dict_1)} remaing key(s) in the dictionary\")\n",
    "    "
   ]
  },
  {
   "cell_type": "code",
   "execution_count": 8,
   "metadata": {
    "slideshow": {
     "slide_type": "subslide"
    }
   },
   "outputs": [
    {
     "name": "stdout",
     "output_type": "stream",
     "text": [
      "IndexError\n",
      "Exception: tuple index out of range; tup: (1,)\n"
     ]
    }
   ],
   "source": [
    "# Another else example\n",
    "tup = (1,)\n",
    "try:\n",
    "    a, b = tup[0], tup[1]\n",
    "except IndexError as e:\n",
    "    print(\"IndexError\")\n",
    "    print(f\"Exception: {e}; tup: {tup}\")\n",
    "else:\n",
    "    # process_data(a, b)\n",
    "    print(a, b)"
   ]
  },
  {
   "cell_type": "code",
   "execution_count": 9,
   "metadata": {
    "slideshow": {
     "slide_type": "subslide"
    }
   },
   "outputs": [],
   "source": [
    "# With the finally clause\n",
    "def divisor(a, b):\n",
    "    \"\"\"\n",
    "    Divides two numbers.\n",
    "    a, b - numbers (int, float)\n",
    "    returns a tuple of the result and a possible error.\n",
    "    \"\"\"\n",
    "    try:\n",
    "        ans = a / b\n",
    "    except ZeroDivisionError as e:\n",
    "        ans = None\n",
    "        err = e\n",
    "    except TypeError as e:\n",
    "        ans = None\n",
    "        err = e\n",
    "    else:\n",
    "        err = None\n",
    "    finally:\n",
    "        return ans, err\n"
   ]
  },
  {
   "cell_type": "code",
   "execution_count": 10,
   "metadata": {
    "slideshow": {
     "slide_type": "subslide"
    }
   },
   "outputs": [
    {
     "name": "stdout",
     "output_type": "stream",
     "text": [
      "0.5  ---- None\n",
      "None ---- division by zero\n",
      "None ---- unsupported operand type(s) for /: 'int' and 'str'\n"
     ]
    }
   ],
   "source": [
    "# Should work:\n",
    "ans, err = divisor(1, 2)\n",
    "print(ans, \" ----\", err)\n",
    "\n",
    "# ZeroDivisionError:\n",
    "ans, err = divisor(1, 0)\n",
    "print(ans, \"----\", err)\n",
    "\n",
    "# TypeError\n",
    "ans, err = divisor(1, 'a')\n",
    "print(ans, \"----\", err)"
   ]
  },
  {
   "cell_type": "markdown",
   "metadata": {
    "slideshow": {
     "slide_type": "subslide"
    }
   },
   "source": [
    "Exception handling is used almost everywhere in the Python world. We always expect our operations to fail, and catch the errors as our backup plan. This is considered more Pythonic than other options. Here's a \"real-world\" example:"
   ]
  },
  {
   "cell_type": "code",
   "execution_count": 21,
   "metadata": {
    "slideshow": {
     "slide_type": "subslide"
    }
   },
   "outputs": [],
   "source": [
    "# Integre conversion. We check before doing it to make sure it won't raise errors\n",
    "def int_conversion(s):\n",
    "    \"\"\" Convert a string to int \"\"\"\n",
    "    if not isinstance(s, str) or not s.isdigit:\n",
    "        return None\n",
    "    elif len(s) > 10:    #too many digits for int conversion\n",
    "        return None\n",
    "    else:\n",
    "        return int(str)"
   ]
  },
  {
   "cell_type": "code",
   "execution_count": 22,
   "metadata": {
    "slideshow": {
     "slide_type": "subslide"
    }
   },
   "outputs": [],
   "source": [
    "# Same purpose - more Pythonic\n",
    "def pythonic_int_conversion(s):\n",
    "    \"\"\" Convert a string to int \"\"\"\n",
    "    try:\n",
    "        return int(s)\n",
    "    except (TypeError, ValueError, OverflowError):\n",
    "        return None\n",
    "# This is also sometimes phrased as \"easier to ask for forgiveness than permission\""
   ]
  },
  {
   "cell_type": "markdown",
   "metadata": {
    "slideshow": {
     "slide_type": "slide"
    }
   },
   "source": [
    "## Exercise - User Input Verification"
   ]
  },
  {
   "cell_type": "markdown",
   "metadata": {
    "slideshow": {
     "slide_type": "subslide"
    }
   },
   "source": [
    "The user's input is always a very error-prone area in an application. A famous joke describes this situation in the following manner: \n",
    "\n",
    "> A Quality Assurance (QA) Engineer walks into a bar. Orders a beer. Orders 0 beers. Orders 999999999 beers. Orders a lizard. Orders -1 beers. Orders a sfdeljknesv.\n",
    "\n",
    "\n",
    "A decent application should not only handle all possible incoming inputs, but should also convey back to the user the information of what went wrong. In this exercise you'll write a `verify_input` function that handles file and folder names."
   ]
  },
  {
   "cell_type": "markdown",
   "metadata": {
    "slideshow": {
     "slide_type": "slide"
    }
   },
   "source": [
    "### Short Intro - `pathlib`"
   ]
  },
  {
   "cell_type": "markdown",
   "metadata": {
    "slideshow": {
     "slide_type": "subslide"
    }
   },
   "source": [
    "For file I/O and other disk operations, some of which are required in this exercise, Pythonistas use `pathlib`, a module in the Python standard library designated to work with files and folders (`pathlib2` in Python 2). Its basic premise is that files and folders are objects themselves, and certain operations are allowed between these objects."
   ]
  },
  {
   "cell_type": "code",
   "execution_count": 11,
   "metadata": {
    "slideshow": {
     "slide_type": "subslide"
    }
   },
   "outputs": [],
   "source": [
    "from pathlib import Path"
   ]
  },
  {
   "cell_type": "code",
   "execution_count": 23,
   "metadata": {
    "slideshow": {
     "slide_type": "subslide"
    }
   },
   "outputs": [],
   "source": [
    "p1 = Path(r'C:\\Users\\Hagai\\Documents\\Classes\\python-course-for-students')  # notice the \"raw\" string r'',\n",
    "# it forces Python to not duplicate backslashes"
   ]
  },
  {
   "cell_type": "code",
   "execution_count": 24,
   "metadata": {
    "slideshow": {
     "slide_type": "subslide"
    }
   },
   "outputs": [
    {
     "data": {
      "text/plain": [
       "WindowsPath('C:/Users/Hagai/Documents/Classes/python-course-for-students')"
      ]
     },
     "execution_count": 24,
     "metadata": {},
     "output_type": "execute_result"
    }
   ],
   "source": [
    "p1"
   ]
  },
  {
   "cell_type": "code",
   "execution_count": 25,
   "metadata": {
    "slideshow": {
     "slide_type": "subslide"
    }
   },
   "outputs": [
    {
     "data": {
      "text/plain": [
       "WindowsPath('C:/Users/Hagai/Documents/Classes')"
      ]
     },
     "execution_count": 25,
     "metadata": {},
     "output_type": "execute_result"
    }
   ],
   "source": [
    "p1.parent"
   ]
  },
  {
   "cell_type": "code",
   "execution_count": 26,
   "metadata": {
    "slideshow": {
     "slide_type": "subslide"
    }
   },
   "outputs": [
    {
     "data": {
      "text/plain": [
       "[WindowsPath('C:/Users/Hagai/Documents/Classes'),\n",
       " WindowsPath('C:/Users/Hagai/Documents'),\n",
       " WindowsPath('C:/Users/Hagai'),\n",
       " WindowsPath('C:/Users'),\n",
       " WindowsPath('C:/')]"
      ]
     },
     "execution_count": 26,
     "metadata": {},
     "output_type": "execute_result"
    }
   ],
   "source": [
    "list(p1.parents)"
   ]
  },
  {
   "cell_type": "code",
   "execution_count": 27,
   "metadata": {
    "slideshow": {
     "slide_type": "subslide"
    }
   },
   "outputs": [
    {
     "data": {
      "text/plain": [
       "True"
      ]
     },
     "execution_count": 27,
     "metadata": {},
     "output_type": "execute_result"
    }
   ],
   "source": [
    "p1.exists()  # is it actually a folder\\file?"
   ]
  },
  {
   "cell_type": "code",
   "execution_count": 28,
   "metadata": {
    "slideshow": {
     "slide_type": "subslide"
    }
   },
   "outputs": [
    {
     "data": {
      "text/plain": [
       "('C:\\\\',\n",
       " 'Users',\n",
       " 'Hagai',\n",
       " 'Documents',\n",
       " 'Classes',\n",
       " 'python-course-for-students')"
      ]
     },
     "execution_count": 28,
     "metadata": {},
     "output_type": "execute_result"
    }
   ],
   "source": [
    "p1.parts"
   ]
  },
  {
   "cell_type": "code",
   "execution_count": 29,
   "metadata": {
    "slideshow": {
     "slide_type": "subslide"
    }
   },
   "outputs": [
    {
     "data": {
      "text/plain": [
       "'python-course-for-students'"
      ]
     },
     "execution_count": 29,
     "metadata": {},
     "output_type": "execute_result"
    }
   ],
   "source": [
    "p1.name"
   ]
  },
  {
   "cell_type": "code",
   "execution_count": 30,
   "metadata": {
    "slideshow": {
     "slide_type": "subslide"
    }
   },
   "outputs": [
    {
     "name": "stdout",
     "output_type": "stream",
     "text": [
      "C:\\Users\\Hagai\\Documents\\Classes\\python-course-for-students\\general\n",
      "C:\\Users\\Hagai\\Documents\\Classes\\python-course-for-students\\hw1\n",
      "C:\\Users\\Hagai\\Documents\\Classes\\python-course-for-students\\hw2\n"
     ]
    }
   ],
   "source": [
    "for file in p1.iterdir():\n",
    "    print(file)"
   ]
  },
  {
   "cell_type": "code",
   "execution_count": 32,
   "metadata": {
    "slideshow": {
     "slide_type": "subslide"
    }
   },
   "outputs": [
    {
     "data": {
      "text/plain": [
       "WindowsPath('C:/Users/Hagai/Documents/Classes/python-course-for-students')"
      ]
     },
     "execution_count": 32,
     "metadata": {},
     "output_type": "execute_result"
    }
   ],
   "source": [
    "# Traversing the file system\n",
    "p2 = Path('C:/Users/Hagai/Documents')\n",
    "p2 / 'Classes' / 'python-course-for-students'\n",
    "# Operator overloading"
   ]
  },
  {
   "cell_type": "markdown",
   "metadata": {
    "slideshow": {
     "slide_type": "subslide"
    }
   },
   "source": [
    "#### The exercise:"
   ]
  },
  {
   "cell_type": "code",
   "execution_count": 33,
   "metadata": {
    "slideshow": {
     "slide_type": "subslide"
    }
   },
   "outputs": [],
   "source": [
    "class UserInputVerifier:\n",
    "    \"\"\"\n",
    "    Assert that the input from a user is a valid folder name. A valid folder is a folder\n",
    "    containing the following files: \"a.py\", \"b.py\", \"c.py\", and the data file \"data.txt\". However, the class\n",
    "    should be able to deal with any arbitrary filename, or an iterable of which.\n",
    "    If the given folder doesn't contain it, it's possible the user gave us a parent folder of the \n",
    "    folder that contains these Python files. Look into any sub-folders for these files, and return the\n",
    "    \"actual\" true folder, i.e. the top-most folder containing all the files.\n",
    "    Input - Foldername, string\n",
    "    Output - A pathlib object. If the input isn't valid, i.e. the files weren't found, \n",
    "    the class should raise an exception.\n",
    "    \"\"\""
   ]
  },
  {
   "cell_type": "markdown",
   "metadata": {
    "slideshow": {
     "slide_type": "subslide"
    }
   },
   "source": [
    "### Exercise solution below..."
   ]
  },
  {
   "cell_type": "code",
   "execution_count": 34,
   "metadata": {
    "slideshow": {
     "slide_type": "subslide"
    }
   },
   "outputs": [],
   "source": [
    "class UserInputVerifier:\n",
    "    \"\"\"\n",
    "    Assert that the given foldername contains files in \"filenames\".\n",
    "    \"\"\"\n",
    "    def __init__(self, foldername, filenames=['a.py', 'b.py', 'c.py', 'data.txt']):    \n",
    "        self.raw_folder = Path(str(foldername))  # first possible error\n",
    "        self.filenames = self._verify_filenames(filenames)\n",
    "    \n",
    "    def _verify_filenames(self, filenames):\n",
    "        \"\"\" Verify the input filenames, and return it as an iterable. \"\"\"\n",
    "        \n",
    "        typ = type(filenames)\n",
    "        if typ not in (str, Path, list, tuple, set):\n",
    "            raise TypeError(\"Filenames should be an iterable, a Path object or a string.\")\n",
    "        if typ in (str, Path):\n",
    "            return [filenames]\n",
    "        return filenames\n",
    "        \n",
    "    def check_folder(self):\n",
    "        \"\"\" Assert that the files are indeed in the folder or in one of its subfolders \"\"\"\n",
    "        \n",
    "        existing_files = []\n",
    "        missing_files = []\n",
    "        if not self.raw_folder.exists():\n",
    "            raise UserWarning(f\"Folder {self.raw_folder} doesn't exist.\")\n",
    "            \n",
    "        # Make sure that each file we're looking for doesn't \n",
    "        for file_to_look in self.filenames:\n",
    "            found_files = [str(file) for file in self.raw_folder.rglob(file_to_look)]\n",
    "            if len(found_files) == 0:\n",
    "                raise UserWarning(f\"File '{file_to_look}' was missing from folder '{self.raw_folder}'.\")\n",
    "            if len(found_files) > 1:\n",
    "                raise UserWarning(f\"More than one file named '{file_to_look}' was found in '{self.raw_folder}'.\")\n",
    "        return True"
   ]
  },
  {
   "cell_type": "code",
   "execution_count": 35,
   "metadata": {
    "slideshow": {
     "slide_type": "subslide"
    }
   },
   "outputs": [
    {
     "data": {
      "text/plain": [
       "True"
      ]
     },
     "execution_count": 35,
     "metadata": {},
     "output_type": "execute_result"
    }
   ],
   "source": [
    "foldername = r'./mock'\n",
    "verifier = UserInputVerifier(foldername)\n",
    "verifier.check_folder()"
   ]
  },
  {
   "cell_type": "markdown",
   "metadata": {
    "slideshow": {
     "slide_type": "slide"
    }
   },
   "source": [
    "## File Input/Output"
   ]
  },
  {
   "cell_type": "markdown",
   "metadata": {
    "slideshow": {
     "slide_type": "subslide"
    }
   },
   "source": [
    "Yet another error-prone area in applications is their I/O (input-output) module. Interfacing with objects outside the scope of your own project should always be handled carefully. You never know what's really out there.\n",
    "\n",
    "The class we created in the previous exercise should help with the first step of file I/O, but that's not all of it."
   ]
  },
  {
   "cell_type": "markdown",
   "metadata": {
    "slideshow": {
     "slide_type": "subslide"
    }
   },
   "source": [
    "Assume we wish to write some data to a file - a list filled with counts of some sort, for example.\n",
    "\n",
    "To write (and read) from a file, you have to do several operations:\n",
    "1. Define the file path and name.\n",
    "2. Open the file with the appropriate mode - read, write, etc.\n",
    "3. Flush out the data.\n",
    "4. Close the file.\n",
    "\n",
    "Here's a mediocre example of how it's done:"
   ]
  },
  {
   "cell_type": "code",
   "execution_count": 36,
   "metadata": {
    "slideshow": {
     "slide_type": "subslide"
    }
   },
   "outputs": [],
   "source": [
    "data_to_write = 'A B C D E F'\n",
    "filename = 'data.txt'\n",
    "file = open(filename, 'w')  # w is write\n",
    "file.write(data_to_write)\n",
    "file.close()"
   ]
  },
  {
   "cell_type": "markdown",
   "metadata": {
    "slideshow": {
     "slide_type": "subslide"
    }
   },
   "source": [
    "The real issue stems from the fact that these steps are very error prone. For example, you can open a file to write something to it, but while the file is opened someone else (or some other Python process) can close and even delete the file.\n",
    "\n",
    "Another example - some connection error might occur after you've flushed the data into the file, but before you managed to close it, leading to a file that can't be accessed by the operating system."
   ]
  },
  {
   "cell_type": "markdown",
   "metadata": {
    "slideshow": {
     "slide_type": "subslide"
    }
   },
   "source": [
    "Gladly, Python is here to help, and its main method of doing so is context managers, called upon with the `with` keyword. Context managers are awesome, and I'll only briefly describe their capabilities. That being said, they shine the most when doing I/O, like in the following example:"
   ]
  },
  {
   "cell_type": "code",
   "execution_count": 37,
   "metadata": {
    "slideshow": {
     "slide_type": "subslide"
    }
   },
   "outputs": [],
   "source": [
    "data_to_write = 'A B C D E F'\n",
    "filename = 'data.txt'\n",
    "with open(filename, 'w') as file:\n",
    "    file.write(data_to_write)"
   ]
  },
  {
   "cell_type": "markdown",
   "metadata": {
    "slideshow": {
     "slide_type": "subslide"
    }
   },
   "source": [
    "The unique thing here is that once we've opened the file, the `with` block guarantees that the file will be closed, regardless of what code is executed. \n",
    "\n",
    "Even if an error occurs while the file is open - the context manager will ensure proper handling of the file and prevent our data from disappearing into the void of the file system."
   ]
  },
  {
   "cell_type": "markdown",
   "metadata": {
    "slideshow": {
     "slide_type": "subslide"
    }
   },
   "source": [
    "### How do they work (advanced)?\n",
    "\n",
    "Like everything in Python, a context manager is a class. Moreover, each class can become a context manager by simply defining two methods:"
   ]
  },
  {
   "cell_type": "code",
   "execution_count": 38,
   "metadata": {
    "slideshow": {
     "slide_type": "subslide"
    }
   },
   "outputs": [],
   "source": [
    "class MyFile(object):\n",
    "    def __init__(self, file_name, method):\n",
    "        self.file_obj = open(file_name, method)\n",
    "        \n",
    "    def __enter__(self):\n",
    "        return self.file_obj\n",
    "    def __exit__(self, error_type, value, traceback):\n",
    "        self.file_obj.close()\n",
    "\n",
    "# Usage\n",
    "with MyFile('demo.txt', 'w') as opened_file:\n",
    "    opened_file.write('Hola!')"
   ]
  },
  {
   "cell_type": "markdown",
   "metadata": {
    "slideshow": {
     "slide_type": "subslide"
    }
   },
   "source": [
    "The `__enter__` method defines the object after the `as` keyword (in this case - a file object). The `__exit__` method defines what happens when we leave the context manager's context. As you can see, `__exit__` has three extra keywords that are used for error handling.\n",
    "\n",
    "There's an even more advanced way to create context managers, using decorators, which we'll discuss later in the course."
   ]
  },
  {
   "cell_type": "markdown",
   "metadata": {
    "slideshow": {
     "slide_type": "slide"
    }
   },
   "source": [
    "# Scientific Python"
   ]
  },
  {
   "cell_type": "markdown",
   "metadata": {
    "slideshow": {
     "slide_type": "slide"
    }
   },
   "source": [
    "## Introduction"
   ]
  },
  {
   "cell_type": "markdown",
   "metadata": {
    "slideshow": {
     "slide_type": "subslide"
    }
   },
   "source": [
    "![The scientific Python stack](scientific_python.jpg)"
   ]
  },
  {
   "cell_type": "markdown",
   "metadata": {
    "slideshow": {
     "slide_type": "subslide"
    }
   },
   "source": [
    "The onion-like scientific stack of Python is composed of the most important packages used in the Python scientific world. Here's a quick overview of the most important names in the stack, before we dive in deep:\n",
    "1. IPython: A REPL, much like the command window in MATLAB. Lets you write Python on the fly, debug and check the performance of your code, and much (much!) more.\n",
    "2. NumPy: Standard implementation of multi-dimensional arrays in Python. \n",
    "3. Jupyter: Notebooks aimed at data exploration. Write code and see its output immediately, with useful Markdown annotations to accompany it - just like this notebook!\n",
    "4. SciPy: Implements advanced algorithms widely used in scientific programming. Advanced linear algebra, data structures, curve fitting, signal processing, modeling and more.\n",
    "5. Matplotlib: Visualizations of your data in Python with MATLAB-like interface.\n",
    "6. Pandas: Tabular data manipulation.\n",
    "\n",
    "This scientific stack is one of the main reasons that empowered Python in recent years to the prominent spot it has today."
   ]
  },
  {
   "cell_type": "markdown",
   "metadata": {
    "slideshow": {
     "slide_type": "subslide"
    }
   },
   "source": [
    "Throughout the course you will become familiar with all of the mentioned tools, and more."
   ]
  },
  {
   "cell_type": "markdown",
   "metadata": {
    "slideshow": {
     "slide_type": "slide"
    }
   },
   "source": [
    "## NumPy"
   ]
  },
  {
   "cell_type": "markdown",
   "metadata": {
    "slideshow": {
     "slide_type": "subslide"
    }
   },
   "source": [
    "NumPy is the de-facto implementation of arrays in Python. They're very similar to MATLAB arrays (and to other implementations in other programming languages), which will hopefully make us feel comfortable with this module."
   ]
  },
  {
   "cell_type": "markdown",
   "metadata": {
    "slideshow": {
     "slide_type": "subslide"
    }
   },
   "source": [
    ">[This](https://docs.scipy.org/doc/numpy-dev/user/numpy-for-matlab-users.html) page contains a thorough comparison of similar functions in MATLAB and numpy. If you want to use MATLAB's `find` function and can't seem to find a counterpart in numpy (it's `nonzero`, BTW), or if you wish to see how do different arithmetic functions compare between the two, that page can be of great assistance."
   ]
  },
  {
   "cell_type": "code",
   "execution_count": 39,
   "metadata": {
    "slideshow": {
     "slide_type": "subslide"
    }
   },
   "outputs": [],
   "source": [
    "import numpy as np  # standard alias for numpy"
   ]
  },
  {
   "cell_type": "code",
   "execution_count": 40,
   "metadata": {
    "slideshow": {
     "slide_type": "subslide"
    }
   },
   "outputs": [
    {
     "data": {
      "text/plain": [
       "array([1, 2, 3])"
      ]
     },
     "execution_count": 40,
     "metadata": {},
     "output_type": "execute_result"
    }
   ],
   "source": [
    "l = [1, 2, 3]\n",
    "arr = np.array(l)  # obviously equal to np.array([1, 2, 3])\n",
    "arr"
   ]
  },
  {
   "cell_type": "code",
   "execution_count": 41,
   "metadata": {
    "slideshow": {
     "slide_type": "subslide"
    }
   },
   "outputs": [
    {
     "name": "stdout",
     "output_type": "stream",
     "text": [
      "Shape:  (3,)\n",
      "NDim:  1\n",
      "Shape:  ()\n",
      "NDim:  0\n"
     ]
    }
   ],
   "source": [
    "# Check the dimensionality of the array:\n",
    "print(\"Shape: \", arr.shape)\n",
    "print(\"NDim: \", arr.ndim)\n",
    "# But...\n",
    "a = np.array(1)  # wrong instatiation! Don't use it, instead write np.array([1])\n",
    "print(\"Shape: \", a.shape)\n",
    "print(\"NDim: \", a.ndim)\n"
   ]
  },
  {
   "cell_type": "markdown",
   "metadata": {
    "slideshow": {
     "slide_type": "subslide"
    }
   },
   "source": [
    "We've instantiated an array by calling the `np.array()` function on an iterable. This will create a one-dimensional numpy array, or _vector_. This is the first _important_ difference from MATLAB. In MATLAB, all arrays are by default n-dimensional. If you write:\n",
    "```matlab\n",
    "a = 1\n",
    "a(:, :, :, :, :, 1) = 2\n",
    "```\n",
    "then you just received a 6-dimensional array. Numpy doesn't allow that. The dimensions of an array are generally the dimensions it had when it was created. You can always use `reshape`, like MATLAB, to define the exact number of dimensions you wish to have.\n",
    "\n",
    "The second difference is the idea of vectors."
   ]
  },
  {
   "cell_type": "code",
   "execution_count": 42,
   "metadata": {
    "slideshow": {
     "slide_type": "subslide"
    }
   },
   "outputs": [
    {
     "name": "stdout",
     "output_type": "stream",
     "text": [
      "The number of dimensions is 1.\n",
      "The shape is (3,).\n"
     ]
    }
   ],
   "source": [
    "print(f\"The number of dimensions is {arr.ndim}.\")\n",
    "print(f\"The shape is {arr.shape}.\")"
   ]
  },
  {
   "cell_type": "markdown",
   "metadata": {
    "slideshow": {
     "slide_type": "subslide"
    }
   },
   "source": [
    "As you see, `ndim` returns the number of dimensions. The `shape` is returned as a tuple, the length of which is the number of dimensions, while the values represent the number of elements in each dimensions. `shape` is very similar to the `size()` function of MATLAB."
   ]
  },
  {
   "cell_type": "markdown",
   "metadata": {
    "slideshow": {
     "slide_type": "subslide"
    }
   },
   "source": [
    "Creating arrays with more than one dimension might look odd at a first glance:"
   ]
  },
  {
   "cell_type": "code",
   "execution_count": 43,
   "metadata": {
    "slideshow": {
     "slide_type": "subslide"
    }
   },
   "outputs": [
    {
     "data": {
      "text/plain": [
       "array([[1, 2, 3],\n",
       "       [4, 5, 6]])"
      ]
     },
     "execution_count": 43,
     "metadata": {},
     "output_type": "execute_result"
    }
   ],
   "source": [
    "arr_2d = np.array([[1, 2, 3], [4, 5, 6]])\n",
    "arr_2d"
   ]
  },
  {
   "cell_type": "code",
   "execution_count": 44,
   "metadata": {
    "slideshow": {
     "slide_type": "subslide"
    }
   },
   "outputs": [
    {
     "name": "stdout",
     "output_type": "stream",
     "text": [
      "The number of dimensions is 2.\n",
      "The shape is (2, 3).\n",
      "The len of the array is 2 - which corresponds to the value of the 0th dimension.\n"
     ]
    }
   ],
   "source": [
    "print(f\"The number of dimensions is {arr_2d.ndim}.\")\n",
    "print(f\"The shape is {arr_2d.shape}.\")\n",
    "print(f\"The len of the array is {len(arr_2d)} - which corresponds to the value of the 0th dimension.\")"
   ]
  },
  {
   "cell_type": "markdown",
   "metadata": {
    "slideshow": {
     "slide_type": "subslide"
    }
   },
   "source": [
    "As we see, each list was considered a single \"row\" (dimension number 0) in the final array, very much like MATLAB, although the syntax can be confusing at first. Here's another slightly confusing example:"
   ]
  },
  {
   "cell_type": "code",
   "execution_count": 45,
   "metadata": {
    "scrolled": true,
    "slideshow": {
     "slide_type": "subslide"
    }
   },
   "outputs": [
    {
     "data": {
      "text/plain": [
       "array([[[1],\n",
       "        [2]],\n",
       "\n",
       "       [[3],\n",
       "        [4]]])"
      ]
     },
     "execution_count": 45,
     "metadata": {},
     "output_type": "execute_result"
    }
   ],
   "source": [
    "c = np.array([[[1], [2]], [[3], [4]]])\n",
    "c"
   ]
  },
  {
   "cell_type": "code",
   "execution_count": 46,
   "metadata": {
    "slideshow": {
     "slide_type": "subslide"
    }
   },
   "outputs": [
    {
     "data": {
      "text/plain": [
       "(2, 2, 1)"
      ]
     },
     "execution_count": 46,
     "metadata": {},
     "output_type": "execute_result"
    }
   ],
   "source": [
    "c.shape"
   ]
  },
  {
   "cell_type": "markdown",
   "metadata": {
    "slideshow": {
     "slide_type": "slide"
    }
   },
   "source": [
    "### Getting help"
   ]
  },
  {
   "cell_type": "markdown",
   "metadata": {
    "slideshow": {
     "slide_type": "subslide"
    }
   },
   "source": [
    "Numpy has a ton of features, and to get around it we can use `lookfor` and the `?` sign, besides the official reference on the internet:"
   ]
  },
  {
   "cell_type": "code",
   "execution_count": 47,
   "metadata": {
    "slideshow": {
     "slide_type": "subslide"
    }
   },
   "outputs": [
    {
     "name": "stdout",
     "output_type": "stream",
     "text": [
      "Search results for 'create array'\n",
      "---------------------------------\n",
      "numpy.array\n",
      "    Create an array.\n",
      "numpy.memmap\n",
      "    Create a memory-map to an array stored in a *binary* file on disk.\n",
      "numpy.diagflat\n",
      "    Create a two-dimensional array with the flattened input as a diagonal.\n",
      "numpy.fromiter\n",
      "    Create a new 1-dimensional array from an iterable object.\n",
      "numpy.partition\n",
      "    Return a partitioned copy of an array.\n",
      "numpy.ctypeslib.as_array\n",
      "    Create a numpy array from a ctypes array or a ctypes POINTER.\n",
      "numpy.ma.diagflat\n",
      "    Create a two-dimensional array with the flattened input as a diagonal.\n",
      "numpy.ma.make_mask\n",
      "    Create a boolean mask from an array.\n",
      "numpy.ctypeslib.as_ctypes\n",
      "    Create and return a ctypes object from a numpy array.  Actually\n",
      "numpy.ma.mrecords.fromarrays\n",
      "    Creates a mrecarray from a (flat) list of masked arrays.\n",
      "numpy.ma.mvoid.__new__\n",
      "    Create a new masked array from scratch.\n",
      "numpy.lib.format.open_memmap\n",
      "    Open a .npy file as a memory-mapped array.\n",
      "numpy.ma.MaskedArray.__new__\n",
      "    Create a new masked array from scratch.\n",
      "numpy.lib.arrayterator.Arrayterator\n",
      "    Buffered iterator for big arrays.\n",
      "numpy.ma.mrecords.fromtextfile\n",
      "    Creates a mrecarray from data stored in the file `filename`.\n",
      "numpy.asarray\n",
      "    Convert the input to an array.\n",
      "numpy.ndarray\n",
      "    ndarray(shape, dtype=float, buffer=None, offset=0,\n",
      "numpy.recarray\n",
      "    Construct an ndarray that allows field access using attributes.\n",
      "numpy.chararray\n",
      "    chararray(shape, itemsize=1, unicode=False, buffer=None, offset=0,\n",
      "numpy.pad\n",
      "    Pads an array.\n",
      "numpy.asanyarray\n",
      "    Convert the input to an ndarray, but pass ndarray subclasses through.\n",
      "numpy.copy\n",
      "    Return an array copy of the given object.\n",
      "numpy.diag\n",
      "    Extract a diagonal or construct a diagonal array.\n",
      "numpy.load\n",
      "    Load arrays or pickled objects from ``.npy``, ``.npz`` or pickled files.\n",
      "numpy.sort\n",
      "    Return a sorted copy of an array.\n",
      "numpy.array_equiv\n",
      "    Returns True if input arrays are shape consistent and all elements equal.\n",
      "numpy.dtype\n",
      "    Create a data type object.\n",
      "numpy.choose\n",
      "    Construct an array from an index array and a set of arrays to choose from.\n",
      "numpy.nditer\n",
      "    Efficient multi-dimensional iterator object to iterate over arrays.\n",
      "numpy.swapaxes\n",
      "    Interchange two axes of an array.\n",
      "numpy.full_like\n",
      "    Return a full array with the same shape and type as a given array.\n",
      "numpy.ones_like\n",
      "    Return an array of ones with the same shape and type as a given array.\n",
      "numpy.empty_like\n",
      "    Return a new array with the same shape and type as a given array.\n",
      "numpy.zeros_like\n",
      "    Return an array of zeros with the same shape and type as a given array.\n",
      "numpy.asarray_chkfinite\n",
      "    Convert the input to an array, checking for NaNs or Infs.\n",
      "numpy.diag_indices\n",
      "    Return the indices to access the main diagonal of an array.\n",
      "numpy.chararray.tolist\n",
      "    a.tolist()\n",
      "numpy.ma.mrecords.MaskedRecords.__new__\n",
      "    Create a new masked array from scratch.\n",
      "numpy.ma.choose\n",
      "    Use an index array to construct a new array from a set of choices.\n",
      "numpy.savez_compressed\n",
      "    Save several arrays into a single file in compressed ``.npz`` format.\n",
      "numpy.matlib.rand\n",
      "    Return a matrix of random values with given shape.\n",
      "numpy.datetime_as_string\n",
      "    Convert an array of datetimes into an array of strings.\n",
      "numpy.ma.empty_like\n",
      "    Return a new array with the same shape and type as a given array.\n",
      "numpy.ma.make_mask_none\n",
      "    Return a boolean mask of the given shape, filled with False.\n",
      "numpy.ma.tests.test_subclassing.MMatrix.__new__\n",
      "    Create a new masked array from scratch.\n",
      "numpy.ma.tests.test_subclassing.MSubArray.__new__\n",
      "    Create a new masked array from scratch.\n",
      "numpy.ma.mrecords.fromrecords\n",
      "    Creates a MaskedRecords from a list of records.\n",
      "numpy.ma.tests.test_subclassing.SubMaskedArray.__new__\n",
      "    Create a new masked array from scratch.\n",
      "numpy.f2py.tests.test_array_from_pyobj.Array.has_shared_memory\n",
      "    Check that created array shares data with input array.\n",
      "numpy.around\n",
      "    Evenly round to the given number of decimals.\n",
      "numpy.source\n",
      "    Print or write to a file the source code for a NumPy object.\n",
      "numpy.diagonal\n",
      "    Return specified diagonals.\n",
      "numpy.nan_to_num\n",
      "    Replace nan with zero and inf with large finite numbers.\n",
      "numpy.einsum_path\n",
      "    Evaluates the lowest cost contraction order for an einsum expression by\n",
      "numpy.histogram2d\n",
      "    Compute the bi-dimensional histogram of two data samples.\n",
      "numpy.fft.ifft\n",
      "    Compute the one-dimensional inverse discrete Fourier Transform.\n",
      "numpy.fft.ifftn\n",
      "    Compute the N-dimensional inverse discrete Fourier Transform.\n",
      "numpy.busdaycalendar\n",
      "    A business day calendar object that efficiently stores information\n",
      "numpy.ma.tests.test_subclassing.SubArray\n",
      "    ndarray(shape, dtype=float, buffer=None, offset=0,\n",
      "numpy.core.tests.test_function_base.PhysicalQuantity2\n",
      "    ndarray(shape, dtype=float, buffer=None, offset=0,\n",
      "numpy.lib.tests.test_stride_tricks.SimpleSubClass\n",
      "    ndarray(shape, dtype=float, buffer=None, offset=0,\n",
      "numpy.ma.tests.test_subclassing.ComplicatedSubArray\n",
      "    ndarray(shape, dtype=float, buffer=None, offset=0,\n",
      "numpy.core.tests.test_numeric.TestKeepdims.sub_array\n",
      "    ndarray(shape, dtype=float, buffer=None, offset=0,\n",
      "numpy.lib.tests.test_stride_tricks.VerySimpleSubClass\n",
      "    ndarray(shape, dtype=float, buffer=None, offset=0,\n",
      "numpy.core.tests.test_multiarray.TestArrayPriority.Bar\n",
      "    ndarray(shape, dtype=float, buffer=None, offset=0,\n",
      "numpy.core.tests.test_multiarray.TestArrayPriority.Foo\n",
      "    ndarray(shape, dtype=float, buffer=None, offset=0,\n",
      "numpy.testing._gen_alignment_data\n",
      "    generator producing data with different alignment and offsets"
     ]
    }
   ],
   "source": [
    "np.lookfor(\"Create array\")"
   ]
  },
  {
   "cell_type": "code",
   "execution_count": 48,
   "metadata": {
    "slideshow": {
     "slide_type": "subslide"
    }
   },
   "outputs": [],
   "source": [
    "np.con*?"
   ]
  },
  {
   "cell_type": "markdown",
   "metadata": {
    "slideshow": {
     "slide_type": "slide"
    }
   },
   "source": [
    "### Creating arrays"
   ]
  },
  {
   "cell_type": "code",
   "execution_count": 49,
   "metadata": {
    "slideshow": {
     "slide_type": "subslide"
    }
   },
   "outputs": [
    {
     "data": {
      "text/plain": [
       "array([0, 1, 2, 3, 4, 5, 6, 7, 8, 9])"
      ]
     },
     "execution_count": 49,
     "metadata": {},
     "output_type": "execute_result"
    }
   ],
   "source": [
    "np.arange(10)  # similar to MATLAB's 0:9 (and to Python's range())"
   ]
  },
  {
   "cell_type": "code",
   "execution_count": 50,
   "metadata": {
    "slideshow": {
     "slide_type": "subslide"
    }
   },
   "outputs": [
    {
     "data": {
      "text/plain": [
       "array([1, 4, 7])"
      ]
     },
     "execution_count": 50,
     "metadata": {},
     "output_type": "execute_result"
    }
   ],
   "source": [
    "np.arange(start=1, stop=8, step=3)  # MATLAB's 1:3:8"
   ]
  },
  {
   "cell_type": "code",
   "execution_count": 51,
   "metadata": {
    "slideshow": {
     "slide_type": "subslide"
    }
   },
   "outputs": [
    {
     "data": {
      "text/plain": [
       "array([[0., 0., 0.],\n",
       "       [0., 0., 0.]])"
      ]
     },
     "execution_count": 51,
     "metadata": {},
     "output_type": "execute_result"
    }
   ],
   "source": [
    "np.zeros((2, 3))  # notice that the shape is a tuple"
   ]
  },
  {
   "cell_type": "code",
   "execution_count": 52,
   "metadata": {
    "slideshow": {
     "slide_type": "subslide"
    }
   },
   "outputs": [
    {
     "data": {
      "text/plain": [
       "array([[0, 0, 0],\n",
       "       [0, 0, 0]])"
      ]
     },
     "execution_count": 52,
     "metadata": {},
     "output_type": "execute_result"
    }
   ],
   "source": [
    "np.zeros_like(arr_2d)"
   ]
  },
  {
   "cell_type": "code",
   "execution_count": 53,
   "metadata": {
    "slideshow": {
     "slide_type": "subslide"
    }
   },
   "outputs": [
    {
     "data": {
      "text/plain": [
       "array([[1, 1, 1, 1]], dtype=int64)"
      ]
     },
     "execution_count": 53,
     "metadata": {},
     "output_type": "execute_result"
    }
   ],
   "source": [
    "np.ones((1, 4), dtype='int64')  # 2-d array with the dtype argument"
   ]
  },
  {
   "cell_type": "code",
   "execution_count": 54,
   "metadata": {
    "slideshow": {
     "slide_type": "subslide"
    }
   },
   "outputs": [
    {
     "data": {
      "text/plain": [
       "array([[1000000., 1000000.],\n",
       "       [1000000., 1000000.],\n",
       "       [1000000., 1000000.],\n",
       "       [1000000., 1000000.]])"
      ]
     },
     "execution_count": 54,
     "metadata": {},
     "output_type": "execute_result"
    }
   ],
   "source": [
    "np.full((4, 2), 1e6)"
   ]
  },
  {
   "cell_type": "code",
   "execution_count": 55,
   "metadata": {
    "slideshow": {
     "slide_type": "subslide"
    }
   },
   "outputs": [
    {
     "data": {
      "text/plain": [
       "array([ 0.,  5., 10.])"
      ]
     },
     "execution_count": 55,
     "metadata": {},
     "output_type": "execute_result"
    }
   ],
   "source": [
    "np.linspace(0, 10, 3)  # start, stop, number of points (endpoint as a keyword argument)"
   ]
  },
  {
   "cell_type": "code",
   "execution_count": 56,
   "metadata": {
    "slideshow": {
     "slide_type": "subslide"
    }
   },
   "outputs": [
    {
     "data": {
      "text/plain": [
       "array([0.       , 3.3333333, 6.6666665], dtype=float32)"
      ]
     },
     "execution_count": 56,
     "metadata": {},
     "output_type": "execute_result"
    }
   ],
   "source": [
    "np.linspace(0, 10, 3, endpoint=False, dtype=np.float32)"
   ]
  },
  {
   "cell_type": "code",
   "execution_count": 57,
   "metadata": {
    "slideshow": {
     "slide_type": "subslide"
    }
   },
   "outputs": [
    {
     "data": {
      "text/plain": [
       "array([[1, 0, 0],\n",
       "       [0, 1, 0],\n",
       "       [0, 0, 1]], dtype=uint8)"
      ]
     },
     "execution_count": 57,
     "metadata": {},
     "output_type": "execute_result"
    }
   ],
   "source": [
    "np.eye(3, dtype='uint8')"
   ]
  },
  {
   "cell_type": "code",
   "execution_count": 58,
   "metadata": {
    "slideshow": {
     "slide_type": "subslide"
    }
   },
   "outputs": [
    {
     "data": {
      "text/plain": [
       "array([[19,  0],\n",
       "       [ 0, 20]])"
      ]
     },
     "execution_count": 58,
     "metadata": {},
     "output_type": "execute_result"
    }
   ],
   "source": [
    "np.diag([19, 20])"
   ]
  },
  {
   "cell_type": "code",
   "execution_count": 59,
   "metadata": {
    "slideshow": {
     "slide_type": "subslide"
    }
   },
   "outputs": [
    {
     "data": {
      "text/plain": [
       "array([ True, False, False])"
      ]
     },
     "execution_count": 59,
     "metadata": {},
     "output_type": "execute_result"
    }
   ],
   "source": [
    "# Some more interesting features\n",
    "np.array([True, False, False])"
   ]
  },
  {
   "cell_type": "code",
   "execution_count": 60,
   "metadata": {
    "slideshow": {
     "slide_type": "subslide"
    }
   },
   "outputs": [
    {
     "data": {
      "text/plain": [
       "dtype('complex128')"
      ]
     },
     "execution_count": 60,
     "metadata": {},
     "output_type": "execute_result"
    }
   ],
   "source": [
    "np.array([1+2j]).dtype"
   ]
  },
  {
   "cell_type": "code",
   "execution_count": 61,
   "metadata": {
    "slideshow": {
     "slide_type": "subslide"
    }
   },
   "outputs": [
    {
     "data": {
      "text/plain": [
       "array(['a', 'bc', 'd', 'e'], dtype='<U2')"
      ]
     },
     "execution_count": 61,
     "metadata": {},
     "output_type": "execute_result"
    }
   ],
   "source": [
    "np.array(['a', 'bc', 'd', 'e'])  # <U2 are strings containing maximum 2 unicode letters\n",
    "# No such thing as a cell array, arrays can contain strings."
   ]
  },
  {
   "cell_type": "code",
   "execution_count": 98,
   "metadata": {
    "slideshow": {
     "slide_type": "subslide"
    }
   },
   "outputs": [
    {
     "data": {
      "text/plain": [
       "array([1, 'b', True, {'b': 1}], dtype=object)"
      ]
     },
     "execution_count": 98,
     "metadata": {},
     "output_type": "execute_result"
    }
   ],
   "source": [
    "# Arrays can be heterogeneous, although usually this is discouraged. \n",
    "# To make an hetetogeneous array, you have to specify its data type as \"object\":\n",
    "np.array([1, 'b', True, {'b': 1}], dtype=object)"
   ]
  },
  {
   "cell_type": "markdown",
   "metadata": {
    "slideshow": {
     "slide_type": "subslide"
    }
   },
   "source": [
    "The last few examples showed us that numpy arrays are a superset of MATLAB's matrices, as they also contain the cell array functionality within them.\n",
    "\n",
    "When multiplying numpy arrays, multiplication is done cell-by-cell (elementwise), rather than by the rules of linear algebra. \n",
    "\n",
    "You can still multiply vectors and matrices using one of two options:\n",
    "* The `@` operator (preferred): `arr1 @ arr2`\n",
    "* `arr1.dot(arr2)`\n",
    "\n",
    "Just remember that the default behavior is different than MATLAB's.\n",
    "\n",
    "Also, numpy does contain a matrix-like array - `np.matrix('1 2; 3 4')` - which behaves like a linear algebra 2D matrix, but its use is discouraged."
   ]
  },
  {
   "cell_type": "markdown",
   "metadata": {
    "slideshow": {
     "slide_type": "slide"
    }
   },
   "source": [
    "### Difference between numpy arrays and lists"
   ]
  },
  {
   "cell_type": "markdown",
   "metadata": {
    "slideshow": {
     "slide_type": "subslide"
    }
   },
   "source": [
    "You might have asked yourselves by this point what's the difference between lists and numpy arrays. In other words, if Python already has an array-like data structure, why does it need another one?"
   ]
  },
  {
   "cell_type": "markdown",
   "metadata": {
    "slideshow": {
     "slide_type": "subslide"
    }
   },
   "source": [
    "Lists are truly amazing, but their flexibility comes at a cost. You won't notice it when you're writing some short script, but when you start working with real datasets you notice that their performance is _lacking_.\n",
    "\n",
    "Naive iteration over lists is good enough when the lists contain up to a few thousands of elements, but somewhere after this invisible threshold you will start to notice the runtimes of your app."
   ]
  },
  {
   "cell_type": "markdown",
   "metadata": {
    "slideshow": {
     "slide_type": "subslide"
    }
   },
   "source": [
    "#### Why are lists slower?\n",
    "\n",
    "Lists are slower due to their implementation. Because a list has to be heterogeneous, a list is actually an object containing references to other objects, which are the elements of the data contained in the list. This nesting can go on even deeper, since elements of lists can be other lists, or other complex data types.\n",
    "\n",
    "Iterating over such a complicated objects contains a lot of \"overhead\", i.e. time the interpreter tries to figure out what is it actually facing - is this current value an integer? A float? A dictionary of tuples?"
   ]
  },
  {
   "cell_type": "markdown",
   "metadata": {
    "slideshow": {
     "slide_type": "subslide"
    }
   },
   "source": [
    "![Numpy arrays versus lists](array_vs_list.png)"
   ]
  },
  {
   "cell_type": "markdown",
   "metadata": {
    "slideshow": {
     "slide_type": "subslide"
    }
   },
   "source": [
    "This is where numpy arrays come into the picture. They require the contained data to be homogeneous (disregarding the \"object\" datatype), leading to a simpler structure of the underlying implementation: A numpy array is an object with a pointer to a contiguous block of data in the memory.\n",
    "\n",
    "Numpy forces the elements in its array to be homogeneous, by means of \"upcasting\":"
   ]
  },
  {
   "cell_type": "code",
   "execution_count": 99,
   "metadata": {
    "slideshow": {
     "slide_type": "subslide"
    }
   },
   "outputs": [
    {
     "data": {
      "text/plain": [
       "array([1.  , 2.  , 3.14, 4.  ])"
      ]
     },
     "execution_count": 99,
     "metadata": {},
     "output_type": "execute_result"
    }
   ],
   "source": [
    "arr = np.array([1, 2, 3.14, 4])\n",
    "arr  # upcasted to float, not \"object\", since it's much slower"
   ]
  },
  {
   "cell_type": "markdown",
   "metadata": {
    "slideshow": {
     "slide_type": "subslide"
    }
   },
   "source": [
    "This homogeneity and contiguity allows numpy to use \"vectorized\" functions, which are simply functions that can iterate in C code over the array, as opposed to regular functions which have to use the Python iteration rules."
   ]
  },
  {
   "cell_type": "markdown",
   "metadata": {
    "slideshow": {
     "slide_type": "subslide"
    }
   },
   "source": [
    "This means that while in essence the following two pieces of code are identical, the performance gain is due to the loop being done in C rather than in Python (this is the case in MATLAB as well):"
   ]
  },
  {
   "cell_type": "code",
   "execution_count": 63,
   "metadata": {
    "slideshow": {
     "slide_type": "subslide"
    }
   },
   "outputs": [
    {
     "name": "stdout",
     "output_type": "stream",
     "text": [
      "103 ms ± 4.01 ms per loop (mean ± std. dev. of 7 runs, 10 loops each)\n"
     ]
    }
   ],
   "source": [
    "%%timeit\n",
    "python_array = list(range(1000000))\n",
    "for item in python_array:\n",
    "    item += 1"
   ]
  },
  {
   "cell_type": "code",
   "execution_count": 64,
   "metadata": {
    "slideshow": {
     "slide_type": "subslide"
    }
   },
   "outputs": [
    {
     "name": "stdout",
     "output_type": "stream",
     "text": [
      "3.59 ms ± 166 µs per loop (mean ± std. dev. of 7 runs, 100 loops each)\n"
     ]
    }
   ],
   "source": [
    "%%timeit \n",
    "numpy_array = np.arange(1000000)\n",
    "numpy_array += 1  # inside, a C loop is adding 1 to each item.\n",
    "\n",
    "# Two orders of magnitude improvement for a pretty small (1M elements) array. \n",
    "# This is approximately the size of a 1024x1024 pixel image."
   ]
  },
  {
   "cell_type": "markdown",
   "metadata": {
    "slideshow": {
     "slide_type": "subslide"
    }
   },
   "source": [
    "If you recall the first class, you'll remember that we mentioned how Python code has to be transpiled into C code, which is then compiled to machine code. Numpy arrays take a \"shortcut\" here, are are quickly compiled to efficient C code without the Python overhead. When using vectorized numpy operations, the loop Python does in the backstage is very similar to a loop that a C programmer would have written by hand."
   ]
  },
  {
   "cell_type": "markdown",
   "metadata": {
    "slideshow": {
     "slide_type": "subslide"
    }
   },
   "source": [
    "Another small but significant benefit of numpy arrays is smaller memory footprint:"
   ]
  },
  {
   "cell_type": "code",
   "execution_count": 100,
   "metadata": {
    "slideshow": {
     "slide_type": "subslide"
    }
   },
   "outputs": [
    {
     "name": "stdout",
     "output_type": "stream",
     "text": [
      "Python list size (1M elements, MB): 9.000112\n",
      "Numpy array size (1M elements, MB): 4.0\n"
     ]
    }
   ],
   "source": [
    "from sys import getsizeof\n",
    "\n",
    "python_array = list(range(1000000))\n",
    "list_size = getsizeof(python_array) / 1e6  # in MB\n",
    "print(f\"Python list size (1M elements, MB): {list_size}\")\n",
    "\n",
    "numpy_array = np.arange(1000000)\n",
    "numpy_size = numpy_array.nbytes / 1e6\n",
    "print(f\"Numpy array size (1M elements, MB): {numpy_size}\")\n",
    "\n",
    "# Why a million elements take 4 MB? Each element has to weigh 4 bytes, or 32 bits. This means that the\n",
    "# np.arange() function generates by default int32 values."
   ]
  },
  {
   "cell_type": "markdown",
   "metadata": {
    "slideshow": {
     "slide_type": "subslide"
    }
   },
   "source": [
    "### Indexing and slicing"
   ]
  },
  {
   "cell_type": "code",
   "execution_count": 102,
   "metadata": {
    "slideshow": {
     "slide_type": "subslide"
    }
   },
   "outputs": [
    {
     "name": "stdout",
     "output_type": "stream",
     "text": [
      "a = [0 1 2 3 4 5 6 7 8 9]\n"
     ]
    },
    {
     "data": {
      "text/plain": [
       "(0, 3, 8)"
      ]
     },
     "execution_count": 102,
     "metadata": {},
     "output_type": "execute_result"
    }
   ],
   "source": [
    "a = np.arange(10)\n",
    "print(f\"a = {a}\")\n",
    "a[0], a[3], a[-2]  # Python indexing is always done with square brackets"
   ]
  },
  {
   "cell_type": "code",
   "execution_count": 67,
   "metadata": {
    "slideshow": {
     "slide_type": "subslide"
    }
   },
   "outputs": [
    {
     "data": {
      "text/plain": [
       "array([9, 8, 7, 6, 5, 4, 3, 2, 1, 0])"
      ]
     },
     "execution_count": 67,
     "metadata": {},
     "output_type": "execute_result"
    }
   ],
   "source": [
    "# The beautiful reverse slicing is here as well\n",
    "a[::-1]"
   ]
  },
  {
   "cell_type": "code",
   "execution_count": 68,
   "metadata": {
    "slideshow": {
     "slide_type": "subslide"
    }
   },
   "outputs": [
    {
     "data": {
      "text/plain": [
       "array([[1, 2, 3],\n",
       "       [4, 5, 6]])"
      ]
     },
     "execution_count": 68,
     "metadata": {},
     "output_type": "execute_result"
    }
   ],
   "source": [
    "arr_2d"
   ]
  },
  {
   "cell_type": "code",
   "execution_count": 69,
   "metadata": {
    "slideshow": {
     "slide_type": "subslide"
    }
   },
   "outputs": [
    {
     "data": {
      "text/plain": [
       "3"
      ]
     },
     "execution_count": 69,
     "metadata": {},
     "output_type": "execute_result"
    }
   ],
   "source": [
    "arr_2d[0, 2]  # first row, third column"
   ]
  },
  {
   "cell_type": "code",
   "execution_count": 70,
   "metadata": {
    "slideshow": {
     "slide_type": "subslide"
    }
   },
   "outputs": [
    {
     "data": {
      "text/plain": [
       "array([1, 2, 3])"
      ]
     },
     "execution_count": 70,
     "metadata": {},
     "output_type": "execute_result"
    }
   ],
   "source": [
    "arr_2d[0, :]  # first row, all columns"
   ]
  },
  {
   "cell_type": "code",
   "execution_count": 71,
   "metadata": {
    "slideshow": {
     "slide_type": "subslide"
    }
   },
   "outputs": [
    {
     "data": {
      "text/plain": [
       "array([1, 2, 3])"
      ]
     },
     "execution_count": 71,
     "metadata": {},
     "output_type": "execute_result"
    }
   ],
   "source": [
    "arr_2d[0]  # first item in the first dimension, and all of its corresponding elemets\n",
    "# Similar to arr_2d[0, :]"
   ]
  },
  {
   "cell_type": "code",
   "execution_count": 72,
   "metadata": {
    "slideshow": {
     "slide_type": "subslide"
    }
   },
   "outputs": [
    {
     "data": {
      "text/plain": [
       "array([1, 3, 5, 7, 9])"
      ]
     },
     "execution_count": 72,
     "metadata": {},
     "output_type": "execute_result"
    }
   ],
   "source": [
    "a[1::2]"
   ]
  },
  {
   "cell_type": "code",
   "execution_count": 73,
   "metadata": {
    "slideshow": {
     "slide_type": "subslide"
    }
   },
   "outputs": [
    {
     "data": {
      "text/plain": [
       "array([0, 1])"
      ]
     },
     "execution_count": 73,
     "metadata": {},
     "output_type": "execute_result"
    }
   ],
   "source": [
    "a[:2]  # last index isn't included"
   ]
  },
  {
   "cell_type": "code",
   "execution_count": 74,
   "metadata": {
    "slideshow": {
     "slide_type": "subslide"
    }
   },
   "outputs": [
    {
     "data": {
      "text/plain": [
       "array([0, 2, 4, 6, 8])"
      ]
     },
     "execution_count": 74,
     "metadata": {},
     "output_type": "execute_result"
    }
   ],
   "source": [
    "# In Python, slicing creates a view of an object, not a copy:\n",
    "b = a[::2]\n",
    "b"
   ]
  },
  {
   "cell_type": "code",
   "execution_count": 75,
   "metadata": {
    "slideshow": {
     "slide_type": "subslide"
    }
   },
   "outputs": [
    {
     "data": {
      "text/plain": [
       "array([100,   2,   4,   6,   8])"
      ]
     },
     "execution_count": 75,
     "metadata": {},
     "output_type": "execute_result"
    }
   ],
   "source": [
    "b[0] = 100\n",
    "b"
   ]
  },
  {
   "cell_type": "code",
   "execution_count": 76,
   "metadata": {
    "slideshow": {
     "slide_type": "subslide"
    }
   },
   "outputs": [
    {
     "data": {
      "text/plain": [
       "array([100,   1,   2,   3,   4,   5,   6,   7,   8,   9])"
      ]
     },
     "execution_count": 76,
     "metadata": {},
     "output_type": "execute_result"
    }
   ],
   "source": [
    "a  # a is also changed!"
   ]
  },
  {
   "cell_type": "code",
   "execution_count": 103,
   "metadata": {
    "slideshow": {
     "slide_type": "subslide"
    }
   },
   "outputs": [
    {
     "data": {
      "text/plain": [
       "array([9, 8, 7, 6, 5, 4, 3, 2, 1, 0])"
      ]
     },
     "execution_count": 103,
     "metadata": {},
     "output_type": "execute_result"
    }
   ],
   "source": [
    "# Copying is done with .copy()\n",
    "a_copy = a[::-1].copy()\n",
    "a_copy"
   ]
  },
  {
   "cell_type": "code",
   "execution_count": 104,
   "metadata": {
    "slideshow": {
     "slide_type": "subslide"
    }
   },
   "outputs": [
    {
     "data": {
      "text/plain": [
       "array([  9, 200,   7,   6,   5,   4,   3,   2,   1,   0])"
      ]
     },
     "execution_count": 104,
     "metadata": {},
     "output_type": "execute_result"
    }
   ],
   "source": [
    "a_copy[1] = 200\n",
    "a_copy"
   ]
  },
  {
   "cell_type": "code",
   "execution_count": 105,
   "metadata": {
    "slideshow": {
     "slide_type": "subslide"
    }
   },
   "outputs": [
    {
     "data": {
      "text/plain": [
       "array([  9, 200,   7,   6,   5,   4,   3,   2,   1,   0])"
      ]
     },
     "execution_count": 105,
     "metadata": {},
     "output_type": "execute_result"
    }
   ],
   "source": [
    "a_copy  # unchanged"
   ]
  },
  {
   "cell_type": "markdown",
   "metadata": {
    "slideshow": {
     "slide_type": "subslide"
    }
   },
   "source": [
    "This behavior allows Numpy to save time and memory. It will usually go unnoticed during day-to-day use. Occasionally, however, it can result in ugly bugs which are hard to locate."
   ]
  },
  {
   "cell_type": "code",
   "execution_count": 80,
   "metadata": {
    "slideshow": {
     "slide_type": "subslide"
    }
   },
   "outputs": [
    {
     "data": {
      "text/plain": [
       "array([100,   1,   2])"
      ]
     },
     "execution_count": 80,
     "metadata": {},
     "output_type": "execute_result"
    }
   ],
   "source": [
    "a[:3]"
   ]
  },
  {
   "cell_type": "code",
   "execution_count": 81,
   "metadata": {
    "slideshow": {
     "slide_type": "subslide"
    }
   },
   "outputs": [
    {
     "data": {
      "text/plain": [
       "array([3, 4, 5, 6, 7, 8, 9])"
      ]
     },
     "execution_count": 81,
     "metadata": {},
     "output_type": "execute_result"
    }
   ],
   "source": [
    "a[3:]"
   ]
  },
  {
   "cell_type": "markdown",
   "metadata": {
    "slideshow": {
     "slide_type": "subslide"
    }
   },
   "source": [
    "![Numpy indexing](numpy_indexing.png)"
   ]
  },
  {
   "cell_type": "markdown",
   "metadata": {
    "slideshow": {
     "slide_type": "subslide"
    }
   },
   "source": [
    "### Aggregation"
   ]
  },
  {
   "cell_type": "code",
   "execution_count": 82,
   "metadata": {
    "slideshow": {
     "slide_type": "subslide"
    }
   },
   "outputs": [
    {
     "data": {
      "text/plain": [
       "492.6043817490305"
      ]
     },
     "execution_count": 82,
     "metadata": {},
     "output_type": "execute_result"
    }
   ],
   "source": [
    "arr = np.random.random(1000)\n",
    "sum(arr)  # The native Python sum works on numpy array, but its use is discouraged in this context"
   ]
  },
  {
   "cell_type": "markdown",
   "metadata": {
    "slideshow": {
     "slide_type": "subslide"
    }
   },
   "source": [
    "`sum()` is a built in Python function, capable of working on lists and other native Python data structures. Numpy has its own sum functions: You can either write `np.sum(arr)`, or use `arr.sum()`:"
   ]
  },
  {
   "cell_type": "code",
   "execution_count": 83,
   "metadata": {
    "slideshow": {
     "slide_type": "subslide"
    }
   },
   "outputs": [
    {
     "name": "stdout",
     "output_type": "stream",
     "text": [
      "215 µs ± 24.8 µs per loop (mean ± std. dev. of 7 runs, 1000 loops each)\n",
      "5.15 µs ± 583 ns per loop (mean ± std. dev. of 7 runs, 100000 loops each)\n",
      "3.44 µs ± 265 ns per loop (mean ± std. dev. of 7 runs, 100000 loops each)\n"
     ]
    }
   ],
   "source": [
    "%timeit sum(arr)\n",
    "%timeit np.sum(arr)\n",
    "%timeit arr.sum()"
   ]
  },
  {
   "cell_type": "markdown",
   "metadata": {
    "slideshow": {
     "slide_type": "subslide"
    }
   },
   "source": [
    "Keep in mind that the built-in `sum()` and numpy's `np.sum()` aren't identical. `np.sum()` by default calculates the sum of _all axes_, returning a single number for multi-dimensional arrays.\n",
    "\n",
    "In MATLAB, this behavior is replicated with `sum(arr(:))`."
   ]
  },
  {
   "cell_type": "markdown",
   "metadata": {
    "slideshow": {
     "slide_type": "subslide"
    }
   },
   "source": [
    "Likewise, `min()` and `max()` also have two \"competing\" versions:"
   ]
  },
  {
   "cell_type": "code",
   "execution_count": 84,
   "metadata": {
    "slideshow": {
     "slide_type": "subslide"
    }
   },
   "outputs": [
    {
     "name": "stdout",
     "output_type": "stream",
     "text": [
      "82.8 µs ± 3.87 µs per loop (mean ± std. dev. of 7 runs, 10000 loops each)\n",
      "4.36 µs ± 662 ns per loop (mean ± std. dev. of 7 runs, 100000 loops each)\n",
      "3.33 µs ± 442 ns per loop (mean ± std. dev. of 7 runs, 100000 loops each)\n"
     ]
    }
   ],
   "source": [
    "%timeit min(arr)  # Native Python\n",
    "%timeit np.min(arr)\n",
    "%timeit arr.min()"
   ]
  },
  {
   "cell_type": "markdown",
   "metadata": {
    "slideshow": {
     "slide_type": "subslide"
    }
   },
   "source": [
    "Calculating the `min` of an array will, again, result in a single number:"
   ]
  },
  {
   "cell_type": "code",
   "execution_count": 85,
   "metadata": {
    "slideshow": {
     "slide_type": "subslide"
    }
   },
   "outputs": [
    {
     "data": {
      "text/plain": [
       "5.823232201995765e-07"
      ]
     },
     "execution_count": 85,
     "metadata": {},
     "output_type": "execute_result"
    }
   ],
   "source": [
    "arr2 = np.random.random((100, 100, 100))\n",
    "arr2.min()"
   ]
  },
  {
   "cell_type": "markdown",
   "metadata": {
    "slideshow": {
     "slide_type": "subslide"
    }
   },
   "source": [
    "If you wish to calculate it across an axis, use the `axis` keyword:"
   ]
  },
  {
   "cell_type": "code",
   "execution_count": 86,
   "metadata": {
    "slideshow": {
     "slide_type": "subslide"
    }
   },
   "outputs": [
    {
     "name": "stdout",
     "output_type": "stream",
     "text": [
      "[[1.30105370e-04 1.85247986e-02 5.76981265e-04 ... 2.17054628e-03\n",
      "  1.74017353e-03 1.71648417e-02]\n",
      " [9.74708434e-04 1.42110375e-02 2.27249914e-04 ... 1.84564336e-04\n",
      "  9.91460849e-03 5.03250994e-04]\n",
      " [2.10501609e-03 3.11640007e-03 9.31462323e-03 ... 4.80578692e-03\n",
      "  2.53371128e-03 1.15754554e-02]\n",
      " ...\n",
      " [2.64927481e-03 2.05463086e-03 2.03506809e-02 ... 1.71246031e-03\n",
      "  1.22983732e-02 1.23869152e-02]\n",
      " [6.90173657e-04 3.43165101e-03 8.55869758e-03 ... 7.83710115e-04\n",
      "  1.33042948e-02 7.60761611e-03]\n",
      " [3.24140890e-03 7.34097009e-03 9.79868560e-03 ... 3.08316230e-02\n",
      "  6.87046457e-03 2.45869442e-06]]\n",
      "------\n",
      "[0.99996561 0.99998143 0.99979485 0.99995817 0.99992053 0.99996168\n",
      " 0.9997315  0.99988793 0.99991571 0.9999547  0.99999641 0.99999241\n",
      " 0.99995579 0.99997798 0.99991344 0.99989906 0.9997946  0.9999751\n",
      " 0.99997769 0.99986947 0.99986118 0.99993987 0.99994818 0.99999912\n",
      " 0.99978118 0.999931   0.99992138 0.9997643  0.99999697 0.99999074\n",
      " 0.99997707 0.9998866  0.99990193 0.99990738 0.99998946 0.99989151\n",
      " 0.9997099  0.99959016 0.99997593 0.99997737 0.99988775 0.99961308\n",
      " 0.99993094 0.99979866 0.99995253 0.99961581 0.99987174 0.99998452\n",
      " 0.99999329 0.99997286 0.99988013 0.9999925  0.99986677 0.99941302\n",
      " 0.99993073 0.99992371 0.99984225 0.99993421 0.99991963 0.999891\n",
      " 0.99998051 0.99998862 0.9998364  0.99990511 0.99997079 0.99989711\n",
      " 0.99993595 0.99992156 0.99999846 0.99996437 0.99998124 0.99998357\n",
      " 0.99999904 0.99994938 0.99984871 0.99998585 0.99997514 0.99974715\n",
      " 0.9998266  0.99993263 0.99980709 0.99985129 0.99988653 0.99998284\n",
      " 0.99998748 0.99960565 0.99960208 0.99996221 0.99990834 0.99984928\n",
      " 0.99968836 0.99995474 0.99990516 0.9999885  0.9999369  0.99995389\n",
      " 0.99970489 0.99996686 0.9998634  0.99998103]\n"
     ]
    }
   ],
   "source": [
    "# 2D output - axis number 0 was \"dropped\"\n",
    "print(arr2.min(axis=0))\n",
    "\n",
    "print('------')\n",
    "# 1D output - the two first axes were summed over\n",
    "print(arr2.max(axis=(0, 1)))"
   ]
  },
  {
   "cell_type": "markdown",
   "metadata": {
    "slideshow": {
     "slide_type": "subslide"
    }
   },
   "source": [
    "Many other aggregation functions exist, including:\n",
    "```\n",
    "- np.var\n",
    "- np.std\n",
    "- np.argmin\\argmax\n",
    "- np.median\n",
    "- ...\n",
    "```\n",
    "Most of them have an object-oriented version, i.e. `arr.var()`, and a procedural version, i.e. `np.var(arr)`."
   ]
  },
  {
   "cell_type": "markdown",
   "metadata": {
    "slideshow": {
     "slide_type": "subslide"
    }
   },
   "source": [
    "### Fancy indexing"
   ]
  },
  {
   "cell_type": "markdown",
   "metadata": {
    "slideshow": {
     "slide_type": "subslide"
    }
   },
   "source": [
    "In Numpy, indexing an array with a different array is called \"fancy\" indexing. Perhaps confusingly, it creates a copy, not a view."
   ]
  },
  {
   "cell_type": "code",
   "execution_count": 106,
   "metadata": {
    "slideshow": {
     "slide_type": "subslide"
    }
   },
   "outputs": [
    {
     "data": {
      "text/plain": [
       "array([0, 1, 2, 3, 4, 5, 6, 7, 8, 9])"
      ]
     },
     "execution_count": 106,
     "metadata": {},
     "output_type": "execute_result"
    }
   ],
   "source": [
    "basic_array = np.arange(10)\n",
    "basic_array"
   ]
  },
  {
   "cell_type": "code",
   "execution_count": 107,
   "metadata": {
    "slideshow": {
     "slide_type": "subslide"
    }
   },
   "outputs": [
    {
     "data": {
      "text/plain": [
       "array([ True, False,  True, False,  True, False,  True, False,  True,\n",
       "       False])"
      ]
     },
     "execution_count": 107,
     "metadata": {},
     "output_type": "execute_result"
    }
   ],
   "source": [
    "mask = (basic_array % 2 == 0)\n",
    "mask"
   ]
  },
  {
   "cell_type": "code",
   "execution_count": 108,
   "metadata": {
    "slideshow": {
     "slide_type": "subslide"
    }
   },
   "outputs": [
    {
     "data": {
      "text/plain": [
       "array([0, 2, 4, 6, 8])"
      ]
     },
     "execution_count": 108,
     "metadata": {},
     "output_type": "execute_result"
    }
   ],
   "source": [
    "basic_array[mask]  # also basic_array[basic_array % 2 == 0]"
   ]
  },
  {
   "cell_type": "markdown",
   "metadata": {
    "slideshow": {
     "slide_type": "subslide"
    }
   },
   "source": [
    "MATLAB veterans shouldn't be surprised from this feature, but if you haven't seen it before make sure to have a firm grasp on it, as it's a very powerful technique."
   ]
  },
  {
   "cell_type": "code",
   "execution_count": 90,
   "metadata": {
    "slideshow": {
     "slide_type": "subslide"
    }
   },
   "outputs": [
    {
     "data": {
      "text/plain": [
       "array(['a', 1, 'a', 3, 'a', 5, 'a', 7, 'a', 9], dtype=object)"
      ]
     },
     "execution_count": 90,
     "metadata": {},
     "output_type": "execute_result"
    }
   ],
   "source": [
    "basic_array[mask] = 'a'\n",
    "basic_array"
   ]
  },
  {
   "cell_type": "code",
   "execution_count": 91,
   "metadata": {
    "slideshow": {
     "slide_type": "subslide"
    }
   },
   "outputs": [
    {
     "data": {
      "text/plain": [
       "array([ 0. ,  1.5,  3. ,  4.5,  6. ,  7.5,  9. , 10.5, 12. , 13.5, 15. ,\n",
       "       16.5, 18. , 19.5])"
      ]
     },
     "execution_count": 91,
     "metadata": {},
     "output_type": "execute_result"
    }
   ],
   "source": [
    "float_array = np.arange(start=0, stop=20, step=1.5)\n",
    "float_array"
   ]
  },
  {
   "cell_type": "code",
   "execution_count": 92,
   "metadata": {
    "slideshow": {
     "slide_type": "subslide"
    }
   },
   "outputs": [
    {
     "data": {
      "text/plain": [
       "array([ 1.5,  3. ,  7.5,  7.5, 15. ])"
      ]
     },
     "execution_count": 92,
     "metadata": {},
     "output_type": "execute_result"
    }
   ],
   "source": [
    "float_array[[1, 2, 5, 5, 10]]  # copy, not a view. Meaning that the resulting array is a new\n",
    "# instance of the original array, independent of it, in a different location in memory."
   ]
  },
  {
   "cell_type": "markdown",
   "metadata": {
    "slideshow": {
     "slide_type": "subslide"
    }
   },
   "source": [
    "Counting the amount of values that fit our condition can be done as follows:"
   ]
  },
  {
   "cell_type": "code",
   "execution_count": 109,
   "metadata": {
    "slideshow": {
     "slide_type": "subslide"
    }
   },
   "outputs": [
    {
     "name": "stdout",
     "output_type": "stream",
     "text": [
      "np.count_nonzero result: 5\n",
      "np.sum result: 5\n"
     ]
    }
   ],
   "source": [
    "basic_array = np.arange(10)\n",
    "count_nonzero_result = np.count_nonzero(basic_array % 2 == 0)\n",
    "sum_result = np.sum(basic_array % 2 == 0)\n",
    "\n",
    "print(f\"np.count_nonzero result: {count_nonzero_result}\")\n",
    "print(f\"np.sum result: {sum_result}\")\n",
    "# In the latter case, True is 1 and False is 0"
   ]
  },
  {
   "cell_type": "markdown",
   "metadata": {
    "slideshow": {
     "slide_type": "subslide"
    }
   },
   "source": [
    "If we wish to add more conditions in to the mix, we can use the `&, |, ~, ^` operators (and, or, not, xor):"
   ]
  },
  {
   "cell_type": "code",
   "execution_count": 94,
   "metadata": {
    "slideshow": {
     "slide_type": "subslide"
    }
   },
   "outputs": [
    {
     "data": {
      "text/plain": [
       "4"
      ]
     },
     "execution_count": 94,
     "metadata": {},
     "output_type": "execute_result"
    }
   ],
   "source": [
    "np.sum((basic_array % 2 == 1) & (basic_array != 3))  # uneven values that are different from 3"
   ]
  },
  {
   "cell_type": "markdown",
   "metadata": {
    "slideshow": {
     "slide_type": "subslide"
    }
   },
   "source": [
    "Note that numpy uses the `&, |, ~, ^` operators for element-by-element comparison, while the reserved `and` and `or` keywords evaluate the entire object:"
   ]
  },
  {
   "cell_type": "code",
   "execution_count": 110,
   "metadata": {
    "slideshow": {
     "slide_type": "subslide"
    }
   },
   "outputs": [
    {
     "ename": "ValueError",
     "evalue": "The truth value of an array with more than one element is ambiguous. Use a.any() or a.all()",
     "output_type": "error",
     "traceback": [
      "\u001b[1;31m---------------------------------------------------------------------------\u001b[0m",
      "\u001b[1;31mValueError\u001b[0m                                Traceback (most recent call last)",
      "\u001b[1;32m<ipython-input-110-e462a6643cbd>\u001b[0m in \u001b[0;36m<module>\u001b[1;34m()\u001b[0m\n\u001b[1;32m----> 1\u001b[1;33m \u001b[0mnp\u001b[0m\u001b[1;33m.\u001b[0m\u001b[0msum\u001b[0m\u001b[1;33m(\u001b[0m\u001b[1;33m(\u001b[0m\u001b[0mbasic_array\u001b[0m \u001b[1;33m%\u001b[0m \u001b[1;36m2\u001b[0m \u001b[1;33m==\u001b[0m \u001b[1;36m1\u001b[0m\u001b[1;33m)\u001b[0m \u001b[1;32mand\u001b[0m \u001b[1;33m(\u001b[0m\u001b[0mbasic_array\u001b[0m \u001b[1;33m!=\u001b[0m \u001b[1;36m3\u001b[0m\u001b[1;33m)\u001b[0m\u001b[1;33m)\u001b[0m   \u001b[1;31m# doesn't work, \"and\" isn't used this way here\u001b[0m\u001b[1;33m\u001b[0m\u001b[0m\n\u001b[0m",
      "\u001b[1;31mValueError\u001b[0m: The truth value of an array with more than one element is ambiguous. Use a.any() or a.all()"
     ]
    }
   ],
   "source": [
    "np.sum((basic_array % 2 == 1) and (basic_array != 3))   # doesn't work, \"and\" isn't used this way here"
   ]
  },
  {
   "cell_type": "markdown",
   "metadata": {
    "slideshow": {
     "slide_type": "subslide"
    }
   },
   "source": [
    "### Sorting"
   ]
  },
  {
   "cell_type": "markdown",
   "metadata": {
    "slideshow": {
     "slide_type": "subslide"
    }
   },
   "source": [
    "Again we face a condition in which Python has its own `sort` functions, but numpy's `np.sort()` are much better suited for arrays. We can either sort in-place, or have a new object back:"
   ]
  },
  {
   "cell_type": "code",
   "execution_count": 111,
   "metadata": {
    "slideshow": {
     "slide_type": "subslide"
    }
   },
   "outputs": [
    {
     "name": "stdout",
     "output_type": "stream",
     "text": [
      "[ 1  2  3  4  4  8 10]\n",
      "[ 1  2  3  4  4  8 10]\n"
     ]
    }
   ],
   "source": [
    "# Return a new object:\n",
    "arr = np.array([ 3, 4, 1, 8, 10, 2, 4])\n",
    "print(np.sort(arr))\n",
    "\n",
    "# Sort in-place:\n",
    "arr.sort()\n",
    "print(arr)"
   ]
  },
  {
   "cell_type": "markdown",
   "metadata": {
    "slideshow": {
     "slide_type": "subslide"
    }
   },
   "source": [
    "The default implementation is a _quicksort_, but other sorting algorithms can be found as well."
   ]
  },
  {
   "cell_type": "code",
   "execution_count": 112,
   "metadata": {
    "slideshow": {
     "slide_type": "subslide"
    }
   },
   "outputs": [
    {
     "name": "stdout",
     "output_type": "stream",
     "text": [
      "Sorted indices: [2 5 0 1 6 3 4]\n"
     ]
    },
    {
     "data": {
      "text/plain": [
       "array([ 1,  2,  3,  4,  4,  8, 10])"
      ]
     },
     "execution_count": 112,
     "metadata": {},
     "output_type": "execute_result"
    }
   ],
   "source": [
    "# np.argsort will return the indices of the sorted array:\n",
    "arr = np.array([ 3, 4, 1, 8, 10, 2, 4])\n",
    "print(\"Sorted indices: {}\".format(np.argsort(arr)))\n",
    "\n",
    "# Usage is as follows:\n",
    "arr[np.argsort(arr)]"
   ]
  },
  {
   "cell_type": "markdown",
   "metadata": {
    "slideshow": {
     "slide_type": "subslide"
    }
   },
   "source": [
    "### Concatenation\n",
    "\n",
    "Concatenation (and splitting) in numpy works as follows:"
   ]
  },
  {
   "cell_type": "code",
   "execution_count": 113,
   "metadata": {
    "slideshow": {
     "slide_type": "subslide"
    }
   },
   "outputs": [
    {
     "data": {
      "text/plain": [
       "array([1, 2, 3, 3, 2, 1])"
      ]
     },
     "execution_count": 113,
     "metadata": {},
     "output_type": "execute_result"
    }
   ],
   "source": [
    "x = np.array([1, 2, 3])\n",
    "y = np.array([3, 2, 1])\n",
    "np.concatenate([x, y])  # concatenates along the first axis"
   ]
  },
  {
   "cell_type": "code",
   "execution_count": 114,
   "metadata": {
    "slideshow": {
     "slide_type": "subslide"
    }
   },
   "outputs": [
    {
     "data": {
      "text/plain": [
       "array([ 1,  2,  3,  3,  2,  1, 99, 99, 99])"
      ]
     },
     "execution_count": 114,
     "metadata": {},
     "output_type": "execute_result"
    }
   ],
   "source": [
    "# Concatenate more than two arrays\n",
    "z = [99, 99, 99]\n",
    "np.concatenate([x, y, z])  # notice how the function argument is an iterable!"
   ]
  },
  {
   "cell_type": "code",
   "execution_count": 115,
   "metadata": {
    "slideshow": {
     "slide_type": "subslide"
    }
   },
   "outputs": [
    {
     "data": {
      "text/plain": [
       "array([[ 0,  1,  2,  6,  7,  8],\n",
       "       [ 3,  4,  5,  9, 10, 11]])"
      ]
     },
     "execution_count": 115,
     "metadata": {},
     "output_type": "execute_result"
    }
   ],
   "source": [
    "# 2D - along the last axis\n",
    "twod_1 = np.array([[0, 1, 2],\n",
    "                   [3, 4, 5]])\n",
    "twod_2 = np.array([[6, 7, 8],\n",
    "                   [9, 10, 11]])\n",
    "np.concatenate((twod_1, twod_2), axis=-1)"
   ]
  },
  {
   "cell_type": "code",
   "execution_count": 116,
   "metadata": {
    "slideshow": {
     "slide_type": "subslide"
    }
   },
   "outputs": [
    {
     "data": {
      "text/plain": [
       "array([[ 0,  1,  2],\n",
       "       [30, 40, 50],\n",
       "       [60, 70, 80]])"
      ]
     },
     "execution_count": 116,
     "metadata": {},
     "output_type": "execute_result"
    }
   ],
   "source": [
    "# np.vstack and np.hstack are also an option\n",
    "sim1 = np.array([0, 1, 2])\n",
    "sim2 = np.array([[30, 40, 50],\n",
    "                 [60, 70, 80]])\n",
    "np.vstack((sim1, sim2))"
   ]
  },
  {
   "cell_type": "markdown",
   "metadata": {
    "slideshow": {
     "slide_type": "subslide"
    }
   },
   "source": [
    "Splitting up arrays is also quite easy:"
   ]
  },
  {
   "cell_type": "code",
   "execution_count": 144,
   "metadata": {
    "slideshow": {
     "slide_type": "subslide"
    }
   },
   "outputs": [
    {
     "data": {
      "text/plain": [
       "array([[ 0,  1,  2,  3],\n",
       "       [ 4,  5,  6,  7],\n",
       "       [ 8,  9, 10, 11],\n",
       "       [12, 13, 14, 15]])"
      ]
     },
     "execution_count": 144,
     "metadata": {},
     "output_type": "execute_result"
    }
   ],
   "source": [
    "arr = np.arange(16).reshape((4, 4))  # see the tuple? Shapes of arrays always come in tuples\n",
    "arr"
   ]
  },
  {
   "cell_type": "code",
   "execution_count": 151,
   "metadata": {
    "slideshow": {
     "slide_type": "subslide"
    }
   },
   "outputs": [
    {
     "name": "stdout",
     "output_type": "stream",
     "text": [
      "[[ 0  1  2  3]\n",
      " [ 4  5  6  7]\n",
      " [ 8  9 10 11]]\n",
      "---\n",
      "[[12 13 14 15]]\n"
     ]
    }
   ],
   "source": [
    "upper, lower = np.split(arr, [3])  # splits at the third line (of the first axis, by default)\n",
    "print(upper)\n",
    "print('---')\n",
    "print(lower)"
   ]
  },
  {
   "cell_type": "markdown",
   "metadata": {
    "slideshow": {
     "slide_type": "slide"
    }
   },
   "source": [
    "### Exercise"
   ]
  },
  {
   "cell_type": "markdown",
   "metadata": {
    "slideshow": {
     "slide_type": "subslide"
    }
   },
   "source": [
    "#### a. Familiarization:\n",
    "\n",
    "Create two random 3D arrays, at least 3x3x3 in size. The first should have random integers between 0 and 100, while the second should contain floating points numbers drawn from the normal distribution, with mean -1 and standard deviation of 2 \n",
    "\n",
    "1. What are the default datatypes of integer and floating-point arrays in numpy?\n",
    "\n",
    "2. Center the distribution of the first integer array around 0, with values between -1 and 1.\n",
    "\n",
    "3. Caclulate their mean, standard deviation along the last axis, and sum along the second axis. Remember that arrays are, like everything in Python, objects.\n",
    "\n",
    "\n",
    "#### b. _Iteration over an array:_ \n",
    "\n",
    "Find and return the indices of the two random arrays only where _both elements_ comply with -0.5 <= X <= 0.5. Do so in at least two distinct ways. These can include elementwise iteration, masked-arrays, and more.\n",
    "\n",
    "Time the execution of the script using the iPython `%%timeit` magic if you have this tool near at hand.\n",
    "\n",
    "#### c. _Broadcasting:_\n",
    "1. Create a vector with length 100, filled with ones, and a 2D zero-filled array with a its last dimension with size of 100. \n",
    "2. Using `np.tile`, add the vector and the array.\n",
    "3. Did you have to use `np.tile` in this case? What feature of numpy allows this?\n",
    "4. What happens to the non-tiled addition when the first dimension of the matrix is 100? Why?\n",
    "5. Bonus: How can one add the matrix (in its new shape) and vector without np.tile()?"
   ]
  },
  {
   "cell_type": "markdown",
   "metadata": {
    "slideshow": {
     "slide_type": "subslide"
    }
   },
   "source": [
    "### Exercise solutions below..."
   ]
  },
  {
   "cell_type": "code",
   "execution_count": 232,
   "metadata": {
    "slideshow": {
     "slide_type": "subslide"
    }
   },
   "outputs": [
    {
     "name": "stdout",
     "output_type": "stream",
     "text": [
      "arr1 (integers) stats:\n",
      "Mean: -0.020619999999999996,\n",
      "STD: [[0.5359291  0.61333514 0.50833454 0.33021205 0.66885275 0.61260428\n",
      "  0.44156087 0.50123448 0.4065907  0.3777883 ]\n",
      " [0.46545032 0.58760871 0.52640669 0.61347861 0.46119844 0.58208247\n",
      "  0.58282416 0.40878356 0.57019646 0.55656446]\n",
      " [0.37253725 0.43644473 0.42942287 0.61514226 0.48916255 0.63286333\n",
      "  0.46882406 0.61070779 0.53604477 0.51823161]\n",
      " [0.52177006 0.47644097 0.53019242 0.39339039 0.72874961 0.44749972\n",
      "  0.4968863  0.38956899 0.51682105 0.57946527]\n",
      " [0.36334557 0.63012697 0.63956548 0.59572141 0.55644946 0.45217696\n",
      "  0.42390565 0.58275552 0.27791366 0.67945861]\n",
      " [0.47340891 0.51949591 0.46296436 0.65697489 0.42663333 0.5181853\n",
      "  0.67374773 0.54335624 0.51433841 0.5383679 ]\n",
      " [0.45888561 0.67546725 0.62923446 0.51753261 0.50825191 0.49243883\n",
      "  0.38665747 0.56633559 0.42068991 0.37653154]\n",
      " [0.63020314 0.51550364 0.46206493 0.53044887 0.53194361 0.31815091\n",
      "  0.42720019 0.47252936 0.56773233 0.4936436 ]\n",
      " [0.72770598 0.55211955 0.57560056 0.50819288 0.48764331 0.32555184\n",
      "  0.79509496 0.50288766 0.60133518 0.49903908]\n",
      " [0.66278503 0.59102961 0.52421751 0.65071038 0.32885255 0.42749971\n",
      "  0.63752333 0.41287286 0.48368998 0.56449624]],\n",
      "Sum: [[-1.26 -0.34  0.1  -1.32 -0.86  1.1  -1.88 -0.54 -2.48 -0.44]\n",
      " [-0.8   0.56 -0.74 -0.58  2.96  1.76 -0.18  2.94  3.82 -2.4 ]\n",
      " [-0.88 -0.98 -1.94  0.9  -1.56  0.38 -0.34  0.92  2.38 -0.8 ]\n",
      " [-0.62 -1.7  -1.1   0.02 -1.36  1.6  -1.92 -1.8  -0.68 -0.76]\n",
      " [ 3.6   2.4  -0.16 -2.36 -2.82  2.74 -0.68 -1.68 -0.6  -0.14]\n",
      " [-0.36  1.06 -0.24 -0.02 -0.44 -1.12 -3.32  2.7   0.46  1.28]\n",
      " [ 1.48 -1.9   4.32 -0.02 -0.14 -0.16 -1.92  1.26 -2.64 -0.98]\n",
      " [-2.38 -2.26  0.82  0.3  -0.14 -0.9   2.26  1.18  2.4  -2.  ]\n",
      " [ 0.6   1.28  0.7  -1.64  0.72 -4.06  1.48 -2.5  -0.68  1.78]\n",
      " [ 1.1  -3.5  -2.58 -3.02  3.   -0.74 -1.06  1.26  1.6  -2.42]]\n",
      "arr2 (normal distribution) stats:\n",
      "Mean: -1.0537387189932983,\n",
      "STD: [[1.8235299  1.49951406 2.02964504 1.0124982  1.70371445 1.83363388\n",
      "  1.52009858 1.94930635 1.65175659 1.64043404]\n",
      " [1.94813892 1.44304928 1.45425585 2.4364322  1.87849886 1.15474454\n",
      "  1.69181093 2.35035801 1.54362568 1.98059916]\n",
      " [1.72450224 2.1183352  1.34508832 1.5149043  0.7803823  1.18646767\n",
      "  1.99630231 2.01206165 0.78771367 2.36516487]\n",
      " [1.4896381  2.02149683 2.43725716 1.87687434 1.87427168 1.40167907\n",
      "  1.20836643 1.63596823 2.00209691 1.8548158 ]\n",
      " [1.33150047 2.02057586 1.93694552 2.46840946 1.66414758 1.96784994\n",
      "  1.59079248 1.54718136 2.02770251 1.80612859]\n",
      " [2.12217037 1.51246252 2.12746816 1.76777479 2.20751122 1.40674561\n",
      "  1.64056376 1.02651028 1.60137261 2.23798668]\n",
      " [3.00197086 2.26958334 0.98458959 1.70660136 1.33776573 1.22999886\n",
      "  1.18559173 2.12964643 1.74785629 1.96489604]\n",
      " [1.81252505 1.90704313 2.57445691 1.66240983 2.40688536 1.6968607\n",
      "  2.08617768 1.30611217 2.33332177 1.79368874]\n",
      " [1.56555454 2.07545652 1.48026487 1.50009383 1.94704257 1.85054401\n",
      "  1.13672287 1.95997894 2.00011546 1.84687468]\n",
      " [2.71654256 2.14168442 1.32348865 2.20135645 1.4296792  2.01482279\n",
      "  1.60278147 1.90434068 1.62978371 0.80712526]],\n",
      "Sum: [[-10.08490863  -1.89121013  -9.71112764  -9.83093984  -1.33351894\n",
      "   -8.16782247 -21.3657103  -17.40548178 -17.09774705  -9.76909025]\n",
      " [-10.69532266   7.52859565 -11.99086434  -0.23115905 -10.3264756\n",
      "  -16.02344519  -5.99472983 -19.2725516   -6.13718788 -16.34961055]\n",
      " [-16.31237827 -19.88152084  -8.13893088  -8.05300815 -10.68210682\n",
      "   -8.06761497 -16.3744156   -2.94307899  -6.31766278 -11.39017569]\n",
      " [ -8.84333324 -13.56791228  -3.43181233  -4.83855319 -14.39507984\n",
      "  -14.82541183 -12.21519363 -18.61041367  -3.51371353  -2.68857457]\n",
      " [-20.0871559  -15.80278934  -9.50694483  -4.83899665  -9.40792758\n",
      "   -7.23230373  -6.98512076 -21.96838501 -21.4567751   -9.47350388]\n",
      " [-10.13149401  -6.49732777  -6.66072382 -16.01168245  -6.08461628\n",
      "  -15.9710261    2.39166363  -9.15790644  -5.16719043 -23.54458246]\n",
      " [ -6.07911245  -5.87323477 -14.35819276 -11.58141293  -1.51345846\n",
      "  -14.71657541 -16.36949838 -15.63625104  -2.70860496  -6.41337521]\n",
      " [ -9.6160938    0.68607263 -13.07431654 -11.26653649  -8.20810214\n",
      "  -20.44042874 -16.06586455 -10.36990267 -12.25743053 -13.83428727]\n",
      " [ -5.86146807 -14.14554243   1.56273735 -10.10054248 -10.66956215\n",
      "  -20.00631588 -14.57279314 -10.58964389 -12.56799703 -18.38409127]\n",
      " [-12.88055487  -8.85390007 -10.4575636   -9.98748942  -4.83346741\n",
      "   -3.29031905 -12.36287405 -17.08848209  -9.729148   -14.38710691]]\n"
     ]
    }
   ],
   "source": [
    "# a\n",
    "# 1\n",
    "low = 0\n",
    "high = 100\n",
    "arr1 = np.random.randint(low=low, high=high, size=(10, 10, 10))  # dtype is np.int32\n",
    "arr2 = np.random.randn(10, 10, 10) * 2 - 1  # dtype is np.float64\n",
    "\n",
    "# 2\n",
    "middle = (high - low) / 2\n",
    "arr1 = (arr1 - middle) / middle\n",
    "\n",
    "# 3\n",
    "print(\"arr1 (integers) stats:\")\n",
    "print(f\"Mean: {arr1.mean()},\\nSTD: {arr1.std(axis=-1)},\\nSum: {arr1.sum(axis=1)}\")\n",
    "print(\"arr2 (normal distribution) stats:\")\n",
    "print(f\"Mean: {arr2.mean()},\\nSTD: {arr2.std(axis=-1)},\\nSum: {arr2.sum(axis=1)}\")"
   ]
  },
  {
   "cell_type": "code",
   "execution_count": 233,
   "metadata": {
    "slideshow": {
     "slide_type": "subslide"
    }
   },
   "outputs": [
    {
     "name": "stdout",
     "output_type": "stream",
     "text": [
      "554 µs ± 36.9 µs per loop (mean ± std. dev. of 7 runs, 1000 loops each)\n"
     ]
    }
   ],
   "source": [
    "# %%timeit\n",
    "# b\n",
    "# 1 - elementwise\n",
    "result = []\n",
    "for idx, (item1, item2) in enumerate(zip(arr1.flat, arr2.flat)):\n",
    "    if (-0.5 <= item1 <= 0.5) and (-0.5 <= item2 <= 0.5):\n",
    "        result.append(idx)\n",
    "result"
   ]
  },
  {
   "cell_type": "code",
   "execution_count": 234,
   "metadata": {
    "slideshow": {
     "slide_type": "subslide"
    }
   },
   "outputs": [
    {
     "name": "stdout",
     "output_type": "stream",
     "text": [
      "15.5 µs ± 649 ns per loop (mean ± std. dev. of 7 runs, 100000 loops each)\n"
     ]
    }
   ],
   "source": [
    "# %%timeit\n",
    "# b\n",
    "# 2 - masked arrays createed by np.ravel(), np.where()\n",
    "mask1 = ((-0.5 <= arr1.ravel()) & (arr1.ravel() <= 0.5))\n",
    "mask2 = ((-0.5 <= arr2.ravel()) & (arr2.ravel() <= 0.5))\n",
    "both_positive = np.logical_and(mask1, mask2)\n",
    "result = np.where(both_positive)\n",
    "result"
   ]
  },
  {
   "cell_type": "markdown",
   "metadata": {
    "slideshow": {
     "slide_type": "subslide"
    }
   },
   "source": [
    "As you can tell, the second solution is far more efficient than the first, and after a few read code blocks, the syntax presented there can be at least as clear as the one in the first solution."
   ]
  },
  {
   "cell_type": "code",
   "execution_count": 250,
   "metadata": {
    "slideshow": {
     "slide_type": "subslide"
    }
   },
   "outputs": [
    {
     "name": "stdout",
     "output_type": "stream",
     "text": [
      "(100, 10)\n"
     ]
    }
   ],
   "source": [
    "# c\n",
    "# 1\n",
    "vec = np.ones(100)\n",
    "mat = np.zeros((10, 100))\n",
    "\n",
    "# 2\n",
    "tiled_vec = np.tile(vec, (10, 1))  # transpose is necessary\n",
    "ans_tiled = mat + tiled_vec\n",
    "\n",
    "# 3\n",
    "ans_simple = mat + vec  # It's called array broadcasting\n",
    "\n",
    "# 4\n",
    "mat_transposed = mat.T\n",
    "print(mat_transposed.shape)\n",
    "# ans_trans = mat_transposed + vec  # fails because broadcasting is done over the last dimension\n",
    "\n",
    "# 5 - np.newaxis is the answer - very perfomant\n",
    "ans_newaxis = mat_transposed + vec[:, np.newaxis]"
   ]
  }
 ],
 "metadata": {
  "anaconda-cloud": {},
  "celltoolbar": "Slideshow",
  "kernelspec": {
   "display_name": "Python [default]",
   "language": "python",
   "name": "python3"
  },
  "language_info": {
   "codemirror_mode": {
    "name": "ipython",
    "version": 3
   },
   "file_extension": ".py",
   "mimetype": "text/x-python",
   "name": "python",
   "nbconvert_exporter": "python",
   "pygments_lexer": "ipython3",
   "version": "3.6.4"
  }
 },
 "nbformat": 4,
 "nbformat_minor": 2
}
