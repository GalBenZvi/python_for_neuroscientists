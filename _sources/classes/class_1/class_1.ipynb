{
 "cells": [
  {
   "cell_type": "markdown",
   "metadata": {
    "slideshow": {
     "slide_type": "slide"
    }
   },
   "source": [
    "# Class 1\n"
   ]
  },
  {
   "cell_type": "markdown",
   "metadata": {
    "slideshow": {
     "slide_type": "subslide"
    }
   },
   "source": [
    "## Conditionals and Iteration\n",
    "\n",
    "Even though you've learned it by yourself in the first class and while doing homework, we'll go through these subjects (quickly) one more time, for the sake of completeness."
   ]
  },
  {
   "cell_type": "markdown",
   "metadata": {
    "slideshow": {
     "slide_type": "subslide"
    }
   },
   "source": [
    "### The `if` Statement"
   ]
  },
  {
   "cell_type": "code",
   "execution_count": 1,
   "metadata": {
    "slideshow": {
     "slide_type": "subslide"
    }
   },
   "outputs": [],
   "source": [
    "# Notice the indentation and colon\n",
    "x = 10\n",
    "if x > 10:\n",
    "    print(\"x is bigger than 10\")"
   ]
  },
  {
   "cell_type": "code",
   "execution_count": 2,
   "metadata": {
    "slideshow": {
     "slide_type": "subslide"
    }
   },
   "outputs": [
    {
     "name": "stdout",
     "output_type": "stream",
     "text": [
      "y\n"
     ]
    }
   ],
   "source": [
    "y = 11\n",
    "if x > y:\n",
    "    print(\"x\")\n",
    "else:\n",
    "    print(\"y\")"
   ]
  },
  {
   "cell_type": "code",
   "execution_count": 3,
   "metadata": {
    "slideshow": {
     "slide_type": "subslide"
    }
   },
   "outputs": [],
   "source": [
    "# Chained conditionals\n",
    "z = 12\n",
    "if x > y:\n",
    "    print(\"x\")\n",
    "elif x > z:\n",
    "    print(\"x > z\")\n",
    "elif z < y:\n",
    "    print(\"z is small\")\n",
    "    if z < x:\n",
    "        print(\"wow, z IS small\")\n",
    "# No need for else"
   ]
  },
  {
   "cell_type": "markdown",
   "metadata": {
    "slideshow": {
     "slide_type": "subslide"
    }
   },
   "source": [
    "### Iteration\n",
    "\n",
    "One of Python's strongest features.\n",
    "\n",
    "#### How would one loop in other programming languages? Let's examine MATLAB:\n",
    "\n",
    "```matlab\n",
    "% Sum all items in array\n",
    "data = [10, 20, 30];\n",
    "result = 0;\n",
    "for idx = 1:size(data, 1)\n",
    "    result = result + data(idx);\n",
    "end\n",
    "```\n",
    "    "
   ]
  },
  {
   "cell_type": "code",
   "execution_count": 4,
   "metadata": {
    "slideshow": {
     "slide_type": "subslide"
    }
   },
   "outputs": [
    {
     "name": "stdout",
     "output_type": "stream",
     "text": [
      "10\n",
      "20\n",
      "30\n",
      "The result is: 60\n"
     ]
    }
   ],
   "source": [
    "# In Python we can iterate over the values themselves\n",
    "data = [10, 20, 30]\n",
    "result = 0\n",
    "for value in data:\n",
    "    print(value)\n",
    "    result += value\n",
    "\n",
    "print(\"The result is:\", result)\n",
    "\n",
    "# We iterate over the values with the \"in\" operator."
   ]
  },
  {
   "cell_type": "markdown",
   "metadata": {
    "slideshow": {
     "slide_type": "subslide"
    }
   },
   "source": [
    "Note: I know that technically you can iterate over values in newer versions of MATLAB, but it's very clunky (row vs. column vectors) and doesn't work in some important cases (e.g. ``parfor``)."
   ]
  },
  {
   "cell_type": "code",
   "execution_count": 5,
   "metadata": {
    "slideshow": {
     "slide_type": "subslide"
    }
   },
   "outputs": [
    {
     "name": "stdout",
     "output_type": "stream",
     "text": [
      "60\n"
     ]
    }
   ],
   "source": [
    "# Of course we can iterate over indices\n",
    "indices = [0, 1, 2]  # 0-based indexing\n",
    "data = [10, 20, 30]\n",
    "result = 0\n",
    "for idx in indices:\n",
    "    result += data[idx]\n",
    "print(result)"
   ]
  },
  {
   "cell_type": "code",
   "execution_count": 6,
   "metadata": {
    "slideshow": {
     "slide_type": "subslide"
    }
   },
   "outputs": [
    {
     "name": "stdout",
     "output_type": "stream",
     "text": [
      "0\n",
      "1\n",
      "2\n",
      "3\n",
      "4\n",
      "5\n",
      "6\n",
      "7\n",
      "8\n",
      "9\n"
     ]
    },
    {
     "data": {
      "text/plain": [
       "range(0, 10000000000)"
      ]
     },
     "execution_count": 6,
     "metadata": {},
     "output_type": "execute_result"
    }
   ],
   "source": [
    "# In some cases you really do need to use indices. In these cases, the range() function is your friend.\n",
    "for i in range(10):\n",
    "    print(i)\n",
    "\n",
    "# Range is a \"generator\" (well, kinda), which means that it doesn't create the actual \n",
    "# list of items when it's called - only when iterated over.\n",
    "# We'll discuss generators at a later stage of our course.\n",
    "range(10_000_000_000)  # requires nearly 0 memory"
   ]
  },
  {
   "cell_type": "code",
   "execution_count": 7,
   "metadata": {
    "slideshow": {
     "slide_type": "subslide"
    }
   },
   "outputs": [
    {
     "data": {
      "text/plain": [
       "[1, 3, 5, 7, 9]"
      ]
     },
     "execution_count": 7,
     "metadata": {},
     "output_type": "execute_result"
    }
   ],
   "source": [
    "# Range has a start, stop and step arguments\n",
    "list(range(1, 10, 2))"
   ]
  },
  {
   "cell_type": "markdown",
   "metadata": {},
   "source": [
    "We can iterate over nearly anything - two examples follow:\n"
   ]
  },
  {
   "cell_type": "code",
   "execution_count": 8,
   "metadata": {},
   "outputs": [
    {
     "name": "stdout",
     "output_type": "stream",
     "text": [
      "1\n",
      "2\n",
      "True\n",
      "3.0\n",
      "four\n"
     ]
    }
   ],
   "source": [
    "tup = (1, 2, True, 3.0, 'four')\n",
    "for item in tup:\n",
    "    print(item)"
   ]
  },
  {
   "cell_type": "code",
   "execution_count": 9,
   "metadata": {
    "slideshow": {
     "slide_type": "subslide"
    }
   },
   "outputs": [
    {
     "name": "stdout",
     "output_type": "stream",
     "text": [
      "a\n",
      "b\n",
      "c\n",
      "d\n",
      "e\n",
      "f\n"
     ]
    }
   ],
   "source": [
    "string = \"abcdef\"\n",
    "for letter in string:\n",
    "    print(letter)"
   ]
  },
  {
   "cell_type": "code",
   "execution_count": 10,
   "metadata": {
    "slideshow": {
     "slide_type": "subslide"
    }
   },
   "outputs": [
    {
     "name": "stdout",
     "output_type": "stream",
     "text": [
      "The index of the item 1 is 0\n",
      "The index of the item 2 is 1\n",
      "The index of the item True is 2\n",
      "The index of the item 3.0 is 3\n",
      "The index of the item four is 4\n"
     ]
    }
   ],
   "source": [
    "# Getting both the index and the value of some sequence is done using the \"enumerate\" keyword:\n",
    "tup = (1, 2, True, 3.0, 'four')\n",
    "for index, item in enumerate(tup):\n",
    "    print(\"The index of the item %s is %d\" %(item, index))\n",
    "    "
   ]
  },
  {
   "cell_type": "code",
   "execution_count": 11,
   "metadata": {
    "slideshow": {
     "slide_type": "subslide"
    }
   },
   "outputs": [
    {
     "name": "stdout",
     "output_type": "stream",
     "text": [
      "a\n",
      "e\n",
      "ed\n"
     ]
    }
   ],
   "source": [
    "# By the way, it means that strings are also sliceable\n",
    "string = 'abcde'\n",
    "print(string[0])\n",
    "print(string[-1])\n",
    "print(string[-1:-3:-1])"
   ]
  },
  {
   "cell_type": "code",
   "execution_count": 12,
   "metadata": {
    "slideshow": {
     "slide_type": "subslide"
    }
   },
   "outputs": [
    {
     "name": "stdout",
     "output_type": "stream",
     "text": [
      "Key iteration:\n",
      "a\n",
      "b\n",
      "c\n",
      "-----\n",
      "Value iteration:\n",
      "1\n",
      "2\n",
      "3\n",
      "-----\n",
      "Pairs iteration:\n",
      "a 1\n",
      "b 2\n",
      "c 3\n"
     ]
    }
   ],
   "source": [
    "# Dictionary iteration - the default is over the keys\n",
    "print('Key iteration:')\n",
    "dict1 = {'a': 1, 'b': 2, 'c': 3}\n",
    "for key in dict1:\n",
    "    print(key)\n",
    "    \n",
    "print('-----')\n",
    "print('Value iteration:')\n",
    "# If you wish to iterate over the values you have to be explicit:\n",
    "for val in dict1.values():\n",
    "    print(val)\n",
    "\n",
    "print('-----')\n",
    "print('Pairs iteration:')\n",
    "# Iterating over the pair is also easy:\n",
    "for key, val in dict1.items():\n",
    "    print(key, val)"
   ]
  },
  {
   "cell_type": "markdown",
   "metadata": {
    "slideshow": {
     "slide_type": "subslide"
    }
   },
   "source": [
    "### While Loop"
   ]
  },
  {
   "cell_type": "code",
   "execution_count": 13,
   "metadata": {
    "slideshow": {
     "slide_type": "subslide"
    }
   },
   "outputs": [],
   "source": [
    "def countdown(n):\n",
    "    \"\"\" Explodes a bomb when n is zero. \"\"\"\n",
    "    while n > 0:\n",
    "        print(\"{}...\".format(n))\n",
    "        n = n - 1\n",
    "    print(\"BOOM!\")\n",
    "    return True"
   ]
  },
  {
   "cell_type": "code",
   "execution_count": 14,
   "metadata": {
    "slideshow": {
     "slide_type": "subslide"
    }
   },
   "outputs": [
    {
     "name": "stdout",
     "output_type": "stream",
     "text": [
      "10...\n",
      "9...\n",
      "8...\n",
      "7...\n",
      "6...\n",
      "5...\n",
      "4...\n",
      "3...\n",
      "2...\n",
      "1...\n",
      "BOOM!\n",
      "True\n"
     ]
    }
   ],
   "source": [
    "n = 10\n",
    "val = countdown(n)\n",
    "\n",
    "print(val)"
   ]
  },
  {
   "cell_type": "code",
   "execution_count": 15,
   "metadata": {
    "slideshow": {
     "slide_type": "subslide"
    }
   },
   "outputs": [
    {
     "name": "stdout",
     "output_type": "stream",
     "text": [
      "Still 1...\n",
      "Still 1...\n",
      "Still 1...\n",
      "4.0\n"
     ]
    }
   ],
   "source": [
    "# Stopping a loop is done with break, and in order to continue execution from the start of the loop we use 'continue'\n",
    "data = [1., 2., 1., 1., 4., 1.]\n",
    "for datum in data:\n",
    "    if datum == 2.:\n",
    "        continue\n",
    "    if datum != 1.:\n",
    "        print(datum)\n",
    "        break\n",
    "    print(\"Still 1...\")"
   ]
  },
  {
   "cell_type": "markdown",
   "metadata": {
    "slideshow": {
     "slide_type": "slide"
    }
   },
   "source": [
    "## Formatting\n",
    "\n",
    "We can print together variables and text in several different manners:"
   ]
  },
  {
   "cell_type": "code",
   "execution_count": 16,
   "metadata": {
    "slideshow": {
     "slide_type": "subslide"
    }
   },
   "outputs": [
    {
     "name": "stdout",
     "output_type": "stream",
     "text": [
      "The value of a is 42\n"
     ]
    }
   ],
   "source": [
    "# Not recommended as it doesn't allow for customizations\n",
    "a = 42\n",
    "print(\"The value of a is\", a)"
   ]
  },
  {
   "cell_type": "code",
   "execution_count": 17,
   "metadata": {
    "slideshow": {
     "slide_type": "subslide"
    }
   },
   "outputs": [
    {
     "name": "stdout",
     "output_type": "stream",
     "text": [
      "The value of a is 42, while the value of b is 32\n"
     ]
    }
   ],
   "source": [
    "# Older version, similar to other languages\n",
    "a = 42\n",
    "b = 32\n",
    "print(\"The value of a is %d, while the value of b is %d\" % (a, b))"
   ]
  },
  {
   "cell_type": "code",
   "execution_count": 18,
   "metadata": {
    "slideshow": {
     "slide_type": "subslide"
    }
   },
   "outputs": [
    {
     "name": "stdout",
     "output_type": "stream",
     "text": [
      "The value of a is 42, while the value of b is 32\n"
     ]
    }
   ],
   "source": [
    "# A decent option\n",
    "a = 42\n",
    "b = 32\n",
    "print(\"The value of a is {}, while the value of b is {}\".format(a, b))"
   ]
  },
  {
   "cell_type": "code",
   "execution_count": 19,
   "metadata": {},
   "outputs": [
    {
     "name": "stdout",
     "output_type": "stream",
     "text": [
      "The value of a is 42, while the value of b is 32\n"
     ]
    }
   ],
   "source": [
    "# Only for Python 3.6+ - but it's pretty cool. It's called f-strings\n",
    "a = 42\n",
    "b = 32\n",
    "print(f\"The value of a is {a}, while the value of b is {b}\")"
   ]
  },
  {
   "cell_type": "code",
   "execution_count": 20,
   "metadata": {
    "slideshow": {
     "slide_type": "subslide"
    }
   },
   "outputs": [
    {
     "name": "stdout",
     "output_type": "stream",
     "text": [
      "The value of a is 42.00, while the value of b is not 33.\n"
     ]
    }
   ],
   "source": [
    "# Another example\n",
    "a = 42\n",
    "b = 32\n",
    "print(f\"The value of a is {a:.2f}, while the value of b is not {b + 1}.\")\n",
    "# You can write any expression you'd like inside the curly brackets."
   ]
  },
  {
   "cell_type": "markdown",
   "metadata": {
    "slideshow": {
     "slide_type": "subslide"
    }
   },
   "source": [
    "Throughout the course you'll see me using mostly the f-string option, which is the most readable assuming you only work on Python 3.6+."
   ]
  },
  {
   "cell_type": "markdown",
   "metadata": {
    "slideshow": {
     "slide_type": "slide"
    }
   },
   "source": [
    "## Comprehensions\n",
    "\n",
    "If you're still not convinced on this whole Python business, comprehensions might be the thing that will flip you to the good side. Comprehensions are a different way to create lists and other iterables. It's usually faster and more readable than the alternatives.\n",
    "\n",
    "Assume we wish to create a list with the squared values of the numbers in the range [0, 10). Let's observe the different implementation options we have:"
   ]
  },
  {
   "cell_type": "code",
   "execution_count": 21,
   "metadata": {
    "slideshow": {
     "slide_type": "subslide"
    }
   },
   "outputs": [
    {
     "name": "stdout",
     "output_type": "stream",
     "text": [
      "[0, 1, 4, 9, 16, 25, 36, 49, 64, 81]\n"
     ]
    }
   ],
   "source": [
    "# Populate the list the usual way\n",
    "squares = []\n",
    "for item in range(10):\n",
    "    squares.append(item ** 2)\n",
    "    \n",
    "print(squares)"
   ]
  },
  {
   "cell_type": "code",
   "execution_count": 22,
   "metadata": {
    "slideshow": {
     "slide_type": "subslide"
    }
   },
   "outputs": [
    {
     "name": "stdout",
     "output_type": "stream",
     "text": [
      "[0, 1, 4, 9, 16, 25, 36, 49, 64, 81]\n"
     ]
    }
   ],
   "source": [
    "# A classic Python one-liner - list comprehension\n",
    "squares = [x ** 2 for x in range(10)]\n",
    "\n",
    "print(squares)"
   ]
  },
  {
   "cell_type": "markdown",
   "metadata": {
    "slideshow": {
     "slide_type": "subslide"
    }
   },
   "source": [
    "This amazing piece of software iterates of the range with the variable `x`, and places its square inside a list, which is then allocated to the `squares` variable.\n",
    "\n",
    "What other goodies do comprehensions allow? Filtering."
   ]
  },
  {
   "cell_type": "code",
   "execution_count": 23,
   "metadata": {
    "slideshow": {
     "slide_type": "subslide"
    }
   },
   "outputs": [
    {
     "name": "stdout",
     "output_type": "stream",
     "text": [
      "[0, 1, 4, 9, 16, 25, 36, 49, 81]\n"
     ]
    }
   ],
   "source": [
    "squares = [\n",
    "    x ** 2 \n",
    "    for x in range(10) \n",
    "    if x != 8\n",
    "]\n",
    "\n",
    "print(squares)"
   ]
  },
  {
   "cell_type": "markdown",
   "metadata": {
    "slideshow": {
     "slide_type": "subslide"
    }
   },
   "source": [
    "The `if` statement is evaluated on each iteration of `x`. Notice how similar to English this expression is?\n",
    "\n",
    "Funnily enough, performance isn't hindered:"
   ]
  },
  {
   "cell_type": "code",
   "execution_count": 24,
   "metadata": {
    "slideshow": {
     "slide_type": "subslide"
    }
   },
   "outputs": [
    {
     "name": "stdout",
     "output_type": "stream",
     "text": [
      "22.9 µs ± 198 ns per loop (mean ± std. dev. of 7 runs, 10000 loops each)\n"
     ]
    }
   ],
   "source": [
    "%timeit squares = [x ** 2 for x in range(100) if x != 8]"
   ]
  },
  {
   "cell_type": "code",
   "execution_count": 25,
   "metadata": {
    "slideshow": {
     "slide_type": "subslide"
    }
   },
   "outputs": [
    {
     "name": "stdout",
     "output_type": "stream",
     "text": [
      "28.4 µs ± 132 ns per loop (mean ± std. dev. of 7 runs, 10000 loops each)\n"
     ]
    }
   ],
   "source": [
    "%%timeit\n",
    "squares = []\n",
    "for item in range(100):\n",
    "    if item != 8:\n",
    "        squares.append(item ** 2)"
   ]
  },
  {
   "cell_type": "code",
   "execution_count": 26,
   "metadata": {
    "slideshow": {
     "slide_type": "subslide"
    }
   },
   "outputs": [
    {
     "name": "stdout",
     "output_type": "stream",
     "text": [
      "['B', 'C', 'D', 'F', 'G', 'H', 'J']\n"
     ]
    }
   ],
   "source": [
    "# Another example\n",
    "strings = [cons.upper()\n",
    "           for cons in 'abcdefghij' \n",
    "           if cons not in 'aeiou']\n",
    "\n",
    "print(strings)"
   ]
  },
  {
   "cell_type": "markdown",
   "metadata": {
    "slideshow": {
     "slide_type": "subslide"
    }
   },
   "source": [
    "Happily enough, comprehensions aren't limited to lists. You can also comprehend dictionaries, but for that you'll need the built-in `zip` function:"
   ]
  },
  {
   "cell_type": "code",
   "execution_count": 27,
   "metadata": {
    "slideshow": {
     "slide_type": "subslide"
    }
   },
   "outputs": [
    {
     "name": "stdout",
     "output_type": "stream",
     "text": [
      "a 1 True\n",
      "b 2 True\n",
      "c 3 False\n"
     ]
    }
   ],
   "source": [
    "keys = 'abcde'\n",
    "vals = [1, 2, 3, 4, 5]\n",
    "bools = [True, True, False]\n",
    "# Zip bundles up these iterables together, allowing iteration\n",
    "for a, b, c in zip(keys, vals, bools):\n",
    "    print(a, b, c)"
   ]
  },
  {
   "cell_type": "code",
   "execution_count": 42,
   "metadata": {
    "slideshow": {
     "slide_type": "subslide"
    }
   },
   "outputs": [
    {
     "name": "stdout",
     "output_type": "stream",
     "text": [
      "{'a': 1, 'b': 2, 'd': 4, 'e': 5}\n",
      "{'a': 1, 'b': 2, 'c': 3, 'd': 4, 'e': 5}\n"
     ]
    }
   ],
   "source": [
    "# With zip we can bundle up the pairs of key-value\n",
    "keys = 'abcde'\n",
    "vals = [1, 2, 3, 4, 5]\n",
    "dic = {aaa: lll \n",
    "       for aaa, lll in zip(keys, vals) \n",
    "       if aaa != 'c'}\n",
    "\n",
    "{'a': 1, 'b': 2}\n",
    "print(dic)\n",
    "\n",
    "# If we didn't want to use the \"if\" part of the comprehension - this is easier:    \n",
    "dict3 = dict(zip(keys, vals))\n",
    "print(dict3)"
   ]
  },
  {
   "cell_type": "code",
   "execution_count": 29,
   "metadata": {
    "slideshow": {
     "slide_type": "subslide"
    }
   },
   "outputs": [
    {
     "name": "stdout",
     "output_type": "stream",
     "text": [
      "{1, 5, 6, 7}\n"
     ]
    }
   ],
   "source": [
    "# And set comprehension\n",
    "se = {item for item in [1, 1, 1, 5, 6, 7, 7]}\n",
    "\n",
    "print(se)"
   ]
  },
  {
   "cell_type": "markdown",
   "metadata": {
    "slideshow": {
     "slide_type": "subslide"
    }
   },
   "source": [
    "Lastly, list comprehensions can iterate over more than one iterable:"
   ]
  },
  {
   "cell_type": "code",
   "execution_count": 30,
   "metadata": {
    "slideshow": {
     "slide_type": "subslide"
    }
   },
   "outputs": [
    {
     "name": "stdout",
     "output_type": "stream",
     "text": [
      "[10, 11, 12, 13, 14, 15, 16, 17, 18, 19, 11, 12, 13, 14, 15, 16, 17, 18, 19, 20, 12, 13, 14, 15, 16, 17, 18, 19, 20, 21, 13, 14, 15, 16, 17, 18, 19, 20, 21, 22, 14, 15, 16, 17, 18, 19, 20, 21, 22, 23, 15, 16, 17, 18, 19, 20, 21, 22, 23, 24, 16, 17, 18, 19, 20, 21, 22, 23, 24, 25, 17, 18, 19, 20, 21, 22, 23, 24, 25, 26, 18, 19, 20, 21, 22, 23, 24, 25, 26, 27, 19, 20, 21, 22, 23, 24, 25, 26, 27, 28]\n"
     ]
    }
   ],
   "source": [
    "summed_list = [outer + inner \n",
    "               for outer in range(10) \n",
    "               for inner in range(10, 20)]\n",
    "\n",
    "# Identical to:\n",
    "\"\"\"\n",
    "summed_list = []\n",
    "for outer in range(10):\n",
    "    for inner in range(10, 20):\n",
    "        summed_list.append(outer + inner)\n",
    "\"\"\"\n",
    "print(summed_list)"
   ]
  },
  {
   "cell_type": "markdown",
   "metadata": {
    "slideshow": {
     "slide_type": "subslide"
    }
   },
   "source": [
    "Once your eyes and brains are used to looking at comprehensions, they're the most \"natural\" way to iterate over iterables. Their brevity on the one hand, and readability on the other, are their most important features. That's why comprehension are very encouraged when writing true \"Pythonic\" code."
   ]
  },
  {
   "cell_type": "markdown",
   "metadata": {
    "slideshow": {
     "slide_type": "slide"
    }
   },
   "source": [
    "## Function Default Arguments and Types\n",
    "\n",
    "One thing we didn't show when introducing function was the default argument feature of function definitions, as well as the optional typing syntax. We'll start with showing what are default arguments.\n",
    "\n",
    "Say you have a function which calculates the nth-power of any number its given. It obviously has to be given two inputs - the number and the power by which it will be multiplied. Here's such a function:"
   ]
  },
  {
   "cell_type": "code",
   "execution_count": 31,
   "metadata": {
    "slideshow": {
     "slide_type": "subslide"
    }
   },
   "outputs": [],
   "source": [
    "def power_of(x, power):\n",
    "    \"\"\" Raises x to the power of power \"\"\"\n",
    "    return x ** power"
   ]
  },
  {
   "cell_type": "markdown",
   "metadata": {
    "slideshow": {
     "slide_type": "subslide"
    }
   },
   "source": [
    "This function works wonderfully, but we're assuming that most of the times users will raise `x` to the power of two. If we want to save the hassle for the caller, we can use default arguments when defining the function:"
   ]
  },
  {
   "cell_type": "code",
   "execution_count": 32,
   "metadata": {
    "slideshow": {
     "slide_type": "subslide"
    }
   },
   "outputs": [],
   "source": [
    "def power_of(x, power=2):\n",
    "    \"\"\" Raises x to the power of power \"\"\"\n",
    "    return x ** power"
   ]
  },
  {
   "cell_type": "markdown",
   "metadata": {
    "slideshow": {
     "slide_type": "subslide"
    }
   },
   "source": [
    "We can now call this function either with the power argument or without it, which will default it to 2:"
   ]
  },
  {
   "cell_type": "code",
   "execution_count": 33,
   "metadata": {
    "slideshow": {
     "slide_type": "subslide"
    }
   },
   "outputs": [
    {
     "name": "stdout",
     "output_type": "stream",
     "text": [
      "1000\n",
      "100\n"
     ]
    }
   ],
   "source": [
    "print(power_of(10, 3))\n",
    "\n",
    "print(power_of(10))"
   ]
  },
  {
   "cell_type": "markdown",
   "metadata": {},
   "source": [
    "### Type hinting"
   ]
  },
  {
   "cell_type": "markdown",
   "metadata": {},
   "source": [
    "Another interesting feature of Python (3.6+) is its optional typing capabilities. These allow us coders to 'hint' at the wanted types of certain variables. We say 'hint' since these annotations have no effect during runtime, i.e. a variable can be marked as a string but later receive an integer value without the Python interpreter caring. For functions, Python added a special \"arrow\" -> sign that marks the output type of it. Let's see how it works:"
   ]
  },
  {
   "cell_type": "code",
   "execution_count": 34,
   "metadata": {},
   "outputs": [],
   "source": [
    "def typed_add(a: int, b: int = 0) -> int:  # combination of type hinting and default arguments\n",
    "    \"\"\"Adds the two inputs together\"\"\"\n",
    "    return a + b"
   ]
  },
  {
   "cell_type": "code",
   "execution_count": 35,
   "metadata": {},
   "outputs": [],
   "source": [
    "a: float = 0.25\n",
    "b: str = 'a'\n",
    "\n",
    "a = True  # Python doesn't care that we've overriden the type hint"
   ]
  },
  {
   "cell_type": "markdown",
   "metadata": {},
   "source": [
    "Type hinting is used for documentation purposes mostly. Later in the course we'll discuss its more advanced features by utilizing the `mypy` package."
   ]
  },
  {
   "cell_type": "markdown",
   "metadata": {
    "slideshow": {
     "slide_type": "slide"
    }
   },
   "source": [
    "## File Input/Output"
   ]
  },
  {
   "cell_type": "markdown",
   "metadata": {
    "slideshow": {
     "slide_type": "subslide"
    }
   },
   "source": [
    "Yet another error-prone area in applications is their I/O (input-output) module. Interfacing with objects outside the scope of your own project should always be handled carefully. You never know what's really out there."
   ]
  },
  {
   "cell_type": "markdown",
   "metadata": {
    "slideshow": {
     "slide_type": "subslide"
    }
   },
   "source": [
    "Assume we wish to write some data to a file - a list filled with counts of some sort, for example.\n",
    "\n",
    "To write (and read) from a file, you have to do several operations:\n",
    "1. Define the file path and name.\n",
    "2. Open the file with the appropriate mode - read, write, etc.\n",
    "3. Flush out the data.\n",
    "4. Close the file.\n",
    "\n",
    "Here's a mediocre example of how it's done:"
   ]
  },
  {
   "cell_type": "code",
   "execution_count": 36,
   "metadata": {
    "slideshow": {
     "slide_type": "subslide"
    }
   },
   "outputs": [],
   "source": [
    "data_to_write = 'A B C D E F'\n",
    "filename = 'data.txt'\n",
    "file = open(filename, 'w')  # w is write, 'open' is a built-in function\n",
    "file.write(data_to_write)\n",
    "file.close()"
   ]
  },
  {
   "cell_type": "markdown",
   "metadata": {
    "slideshow": {
     "slide_type": "subslide"
    }
   },
   "source": [
    "The variable `file` is a file object, and it has many useful methods, such as:\n",
    "* `.read()` - reads the entire file.\n",
    "* `.readline()` - reads a single line.\n",
    "* `.readlines()` - read the entire file as strings into a list.\n",
    "* `.seek(offset)` - go the `offset` position in the file.\n",
    "\n",
    "File objects in Python can be opened as string files (the default) or as binary files (`open(filename, 'b')`), in which case their content will be interpreted as bytes rather than text."
   ]
  },
  {
   "cell_type": "markdown",
   "metadata": {
    "slideshow": {
     "slide_type": "subslide"
    }
   },
   "source": [
    "When dealing with files, we generally first `open()` them, `read()` \\ `write()` something, and `close()` them. The real issue stems from the fact that these steps are very error prone. For example, you can open a file to write something to it, but while the file is opened someone else (or some other Python process) can close and even delete the file.\n",
    "\n",
    "Another example - some connection error might occur after you've flushed the data into the file, but before you managed to close it, leading to a file that can't be accessed by the operating system."
   ]
  },
  {
   "cell_type": "markdown",
   "metadata": {
    "slideshow": {
     "slide_type": "subslide"
    }
   },
   "source": [
    "Gladly, Python is here to help, and its main method of doing so is context managers, called upon with the `with` keyword. Context managers are awesome, and I'll only briefly describe their capabilities. That being said, they shine the most when doing I/O, like in the following example:"
   ]
  },
  {
   "cell_type": "code",
   "execution_count": 37,
   "metadata": {
    "slideshow": {
     "slide_type": "subslide"
    }
   },
   "outputs": [],
   "source": [
    "data_to_write = 'A B C D E F'\n",
    "filename = 'data.txt'\n",
    "with open(filename, 'w') as file:\n",
    "    file.write(data_to_write)\n",
    "    file.write('abc')\n",
    "    a = 1 + 2\n",
    "a = 1"
   ]
  },
  {
   "cell_type": "markdown",
   "metadata": {
    "slideshow": {
     "slide_type": "subslide"
    }
   },
   "source": [
    "The unique thing here is that once we've opened the file, the `with` block guarantees that the file will be closed, regardless of what code is executed. \n",
    "\n",
    "Even if an error occurs while the file is open - the context manager will ensure proper handling of the file and prevent our data from disappearing into the void of the file system."
   ]
  },
  {
   "cell_type": "markdown",
   "metadata": {
    "slideshow": {
     "slide_type": "slide"
    }
   },
   "source": [
    "## The Python Stack"
   ]
  },
  {
   "cell_type": "markdown",
   "metadata": {
    "slideshow": {
     "slide_type": "slide"
    }
   },
   "source": [
    "### How to Run Python?"
   ]
  },
  {
   "cell_type": "markdown",
   "metadata": {
    "slideshow": {
     "slide_type": "subslide"
    }
   },
   "source": [
    "#### How does Matlab do it?\n",
    "\n",
    "MATLAB has its excellent application GUI which essentially everyone uses all the time.\n",
    "\n",
    "But all interpreted programming languages, including Python and MATLAB, can be run from the command line. \n",
    "\n",
    "In the case of MATLAB, though, rarely do you see people running it from the command line:\n",
    "\n",
    "![MATLAB from the CL](matlab_cl.png)"
   ]
  },
  {
   "cell_type": "markdown",
   "metadata": {
    "slideshow": {
     "slide_type": "subslide"
    }
   },
   "source": [
    "It's obviously possible, but less comfortable than the standard GUI we all know. If all you wish to do is run a MATLAB `.m` file, you can also do it from the command line by simply writing `matlab -r myfile.m`. \n",
    "\n",
    "Thinking about it further, the MATLAB application we're familiar with combines a few sub-applications:\n",
    "1. Text editor\n",
    "2. Debugger and variable explorer\n",
    "3. Command prompt (REPL, a place to write and immediately evaluate MATLAB expressions)\n",
    "4. MATLAB's engine or interpreter - the program that actually does the job of reading the source files and 'computing' them\n",
    "\n",
    "Unfortunately in the Python world we don't have an application as comprehensive as MATLAB (the app) is. VSCode comes very close with some of its features, and its many other features are actually _more_ advanced than MATLAB's, but it will probably feel a bit clunky at the start."
   ]
  },
  {
   "cell_type": "markdown",
   "metadata": {
    "slideshow": {
     "slide_type": "subslide"
    }
   },
   "source": [
    "#### Python is very similar\n",
    "Just like MATLAB, the quickest option to run Python is from the command line, by simply writing `python`:\n",
    "\n",
    "![Python CL](python_cl.png)\n",
    "\n",
    "Running Python scripts, like `myfile.py`, is as easy as `python myfile.py`."
   ]
  },
  {
   "cell_type": "markdown",
   "metadata": {
    "slideshow": {
     "slide_type": "subslide"
    }
   },
   "source": [
    "### Python \"GUI\"\n",
    "\n",
    "However, more often than not we wish to both write a script, experiment with it a little, and then run it, just as some of us are used to do from the MATLAB environment. Python, being non-propietary, has several similar solutions that go by the general name IDE - integrated development enviornment."
   ]
  },
  {
   "cell_type": "markdown",
   "metadata": {
    "slideshow": {
     "slide_type": "subslide"
    }
   },
   "source": [
    "#### Spyder\n",
    "Spyder is an open-source science-oriented IDE that was designed with MATLAB's GUI in mind. It contains many similar functions and might look very similar in a short glance:\n",
    "\n",
    "![Spyder IDE](spyder.png)\n",
    "\n",
    "Unfortunately, Spyder's main financial support was cut off in November 2017. It's still in active development, but on a much slower pace, and its future is unclear at the moment."
   ]
  },
  {
   "cell_type": "markdown",
   "metadata": {
    "slideshow": {
     "slide_type": "subslide"
    }
   },
   "source": [
    "#### PyCharm\n",
    "PyCharm is a full-blown IDE which contains many advanced features that any modern IDE has, like refactoring capabilities, testing suites and more. It has a free community edition, and a paid proffessional edition - which is actually free for poor students like us:\n",
    "\n",
    "![PyCharm IDE](pycharm.jpg)"
   ]
  },
  {
   "cell_type": "markdown",
   "metadata": {
    "slideshow": {
     "slide_type": "subslide"
    }
   },
   "source": [
    "#### Visual Studio Code\n",
    "VSCode is a free, open-source editor for nearly all existing programming languages. It doesn't have all features that PyCharm has, but it's great nonetheless. The fact that it's a light-weight editor is an advantage for some.\n",
    "\n",
    "![VS Code](vs_code.jpg)"
   ]
  },
  {
   "cell_type": "markdown",
   "metadata": {
    "slideshow": {
     "slide_type": "subslide"
    }
   },
   "source": [
    "### Jupyter Notebook\n",
    "While not technically an IDE, Jupyter is designed with data exploration in mind. It's less suited for writing long, complex application, but great when it comes for a quick \"plot-n-go\" on some data you recently acquired."
   ]
  },
  {
   "cell_type": "markdown",
   "metadata": {
    "slideshow": {
     "slide_type": "subslide"
    }
   },
   "source": [
    "#### What's Best?\n",
    "There's no __best__ option, but a couple of useful guidelines are:\n",
    "* When you wish to do something \"quick-and-dirty\", you should probably use either VSCode or Jupyter. This can be thought of as the stand-in replacement for \"smart\" Excel spreadsheets.\n",
    "* For more complicated analysis scripts I prefer VSCode, which grants you with enough power in your fingertips without being too complicated. "
   ]
  },
  {
   "cell_type": "markdown",
   "metadata": {},
   "source": [
    "[In class we show a quick tour of VSCode here]"
   ]
  },
  {
   "cell_type": "markdown",
   "metadata": {
    "slideshow": {
     "slide_type": "slide"
    }
   },
   "source": [
    "## Version Control"
   ]
  },
  {
   "cell_type": "markdown",
   "metadata": {
    "slideshow": {
     "slide_type": "slide"
    }
   },
   "source": [
    "### Introduction"
   ]
  },
  {
   "cell_type": "markdown",
   "metadata": {
    "slideshow": {
     "slide_type": "subslide"
    }
   },
   "source": [
    "Version control is the active management of the history of your source code. It is an essential part of every developers' work cycle, for both small and large projects.\n",
    "\n",
    "With version control, in any point in time during the work on your code you can decide to \"commit\" the change. Committing your code means that the system will remember the current state of your work (all files in a folder), and will allow you to return to this exact state of your codebase whenever you wish."
   ]
  },
  {
   "cell_type": "markdown",
   "metadata": {},
   "source": [
    "![Final.doc, from PhD Comics](vcs_final.png)"
   ]
  },
  {
   "cell_type": "markdown",
   "metadata": {
    "slideshow": {
     "slide_type": "subslide"
    }
   },
   "source": [
    "Using version control is orthogonal to the traditional save operation. Saving records the current state of your codebase, but usually doesn't allow you to \"go back in time\" to previous versions.\n",
    "\n",
    "This property is useful in many occasions. For example, if you have a working version of some function, but you wish to make it better - add a feature, or change its internal structure (refactoring). Version control allows you to record this point in time - when you have a good, functioning function - and change the working copy of the function however you'd like. If you fail to refactor the function you can simply jump back to the latest working version.\n",
    "\n",
    "Another important version control use case is collaborative work. Version control systems (VCS) can help you communicate changes in code base between developers, without having to somehow transfer updated versions of files from one person to the other."
   ]
  },
  {
   "cell_type": "markdown",
   "metadata": {
    "slideshow": {
     "slide_type": "subslide"
    }
   },
   "source": [
    "There are many version control applications, but the most popular one is Git, developed by Linus Torvald (the Linux guy) in the early 2000's. In this course we'll be using Git with GitHub.com - an online backup site for your code.\n",
    "\n",
    "There are numerous great Git and GitHub tutorials ([here's one](https://github.com/pluralsight/git-internals-pdf)), but for our course we'll be using only the most basic features of Git and GitHub, so going through all features and intricacies of the software is unnecessary. `PythonSetup.md` and `CreateGitRepo.md` contain instructions on how to setup Git and GitHub, which should be enough for homework submission."
   ]
  },
  {
   "cell_type": "markdown",
   "metadata": {
    "slideshow": {
     "slide_type": "slide"
    }
   },
   "source": [
    "### A Simple Walkthrough (Using VSCode)"
   ]
  },
  {
   "cell_type": "markdown",
   "metadata": {
    "slideshow": {
     "slide_type": "subslide"
    }
   },
   "source": [
    "Assume I have a directory that I wish to track with Git:\n",
    "- /home/\n",
    "    - my_proj/\n",
    "        - `__init__.py`\n",
    "        - `class1.py`\n",
    "        - `class2.py`\n",
    "        - `README.md`\n",
    "    - etc/\n",
    "    - etc2/\n",
    "\n",
    "Git can be run from the command line, but in this quick tutorial we'll be using the built-in Git interface in VSCode, which should be good enough for 99% of your Git needs. \n",
    "\n",
    "Open VSCode, click 'Open Folder...' and point it to the `my_proj` directory. Click the 'fork' icon to the right which symbols version control, you should see a message saying **\"No source control providers registered\"**, which makes sense. Click the \"+\" icon and choose the current folder. This process is called \"initialization\", and now the folder is tracked by Git."
   ]
  },
  {
   "cell_type": "markdown",
   "metadata": {
    "slideshow": {
     "slide_type": "subslide"
    }
   },
   "source": [
    "Next we wish to tell Git which files to track, which is called \"adding\" or \"staging\" the files. The \"stage\" is a metaphor to us putting these files on the stage - and from there we'll decide what to do with them. We see our files and folders under the \"Changes\" headline, which means that git detected changes in these files since its previous snapshot of our repository (which was really a 'clean slate' without any files). There's a green _U_ next to each file signifying that it's \"Untracked\", i.e. git doesn't yet acknowledge the existence of this file. To start tracking the files, we should click the \"+\" button next to the _U_ when we hover with our mouse next to the names of these files. Alternatively, if we just want to add all files to the git archive, we can click the \"+\" on the \"Changes\" line (again, visible when we hover with the mouse on it).\n",
    "\n",
    "Stage all files by clicking the \"+\". You should see them under a new headline - \"Staged Changes\". They have an _A_ for \"Added\".\n",
    "\n",
    "Now git knows that inside the `my_proj` folder, all files should be tracked but it hasn't captured a snapshot of the repository status quite yet."
   ]
  },
  {
   "cell_type": "markdown",
   "metadata": {
    "slideshow": {
     "slide_type": "subslide"
    }
   },
   "source": [
    "To do that, we'll need to \"commit\" the current state of the repository (repo). Committing is the name given in the git lingo to the act of setting some version of our codebase as an improtant one, which we can name, label, describe what has happened and go back to if we need it. We almost always commit files right after we add, or stage them.\n",
    "\n",
    "Before committing it's recommended to write a one-liner describing what this commit contains, in terms of changes to the codebase. The message goes in the line above \"Staged Changes\"; write \"Initial commit\" there - it's good enough for this tutorial. Now we can commit by clicking the \"V\" checkmark in the line above.\n",
    "\n",
    "Congratulations! You've made your first git commit, you're now a real programmer."
   ]
  },
  {
   "cell_type": "markdown",
   "metadata": {
    "slideshow": {
     "slide_type": "subslide"
    }
   },
   "source": [
    "If you create new files, you have to remember to add the with `git add new_file.py`, otherwise they won't be tracked and committed. You'll see a green _U_ that should remind you of that.\n",
    "\n",
    "If you remember, earlier I described how git can also be used as a backup service to our code by publishing it online to the cloud, to a potentially private repository which is a clone of our local repository. However, our actions so far merely created a local repo in our computer. If the whole folder is erased our backups and commit history go away with it as well. \n",
    "\n",
    "To make an online backup for a repository we use a command called \"Push\", found when clicking the \"...\" icon to the right of the \"Commit\" checkmark. I won't go over it right now since these are included in the second homework assignment, and you can also ask me if there's anything unclear. Since GitHub is the only available way to submit homework in this course, learning how to push commits is essentially mandatory :)"
   ]
  },
  {
   "cell_type": "markdown",
   "metadata": {
    "slideshow": {
     "slide_type": "slide"
    }
   },
   "source": [
    "## The Module System and Its Uses"
   ]
  },
  {
   "cell_type": "markdown",
   "metadata": {
    "slideshow": {
     "slide_type": "slide"
    }
   },
   "source": [
    "### Namespaces"
   ]
  },
  {
   "cell_type": "markdown",
   "metadata": {
    "slideshow": {
     "slide_type": "subslide"
    }
   },
   "source": [
    "One of the largest differences between Python and MATLAB is the concept of namespaces. At first it's also one of the most aggrevating differences. But I promise that sooner than later you'll understand its importance, and start disliking MATLAB's approach."
   ]
  },
  {
   "cell_type": "markdown",
   "metadata": {
    "slideshow": {
     "slide_type": "subslide"
    }
   },
   "source": [
    "Namespaces is a system set to avoid ambiguity. We have many Hagai's, but much less Hagai Har-Gil's. In computers, we can have many files with the name `test1.py` saved in _different folders_ of our harddrive. In contrast - we can only have one `test1.py` per folder, since the file system dislikes these collisions."
   ]
  },
  {
   "cell_type": "markdown",
   "metadata": {
    "slideshow": {
     "slide_type": "subslide"
    }
   },
   "source": [
    "Similarly, In Python we have to declare which namespace does our function belong to. Usually functions aren't included in the scope of the program until we `import` them. After importing we can use the function with its \"pathname\", i.e. the module it belongs to. This way, the same identifier (function name, class name, etc.) can be used multiple times in different modules."
   ]
  },
  {
   "cell_type": "markdown",
   "metadata": {
    "slideshow": {
     "slide_type": "subslide"
    }
   },
   "source": [
    "You might have realised that you're already familiar with this topic from your previous usage of functions. The following example should be clear:"
   ]
  },
  {
   "cell_type": "code",
   "execution_count": 38,
   "metadata": {
    "slideshow": {
     "slide_type": "subslide"
    }
   },
   "outputs": [
    {
     "name": "stdout",
     "output_type": "stream",
     "text": [
      "Inside the function, a=2\n",
      "But outside of it, a=1\n"
     ]
    }
   ],
   "source": [
    "# Namespaces are different inside functions\n",
    "a = 1\n",
    "def f(a):\n",
    "    \"\"\" Scopes and namespaces exemplified \"\"\"\n",
    "    a = 2\n",
    "    print(f\"Inside the function, a={a}\")\n",
    "f(a)\n",
    "print(f\"But outside of it, a={a}\")"
   ]
  },
  {
   "cell_type": "markdown",
   "metadata": {
    "slideshow": {
     "slide_type": "subslide"
    }
   },
   "source": [
    "Namespaces for modules are the same. Python modules are an object with variables, classes and functions in it. A module can be a single class, a file or a folder containing files and other sub-folders. As we've said, a module is brought into scope (into our namespace) with the import statement:"
   ]
  },
  {
   "cell_type": "code",
   "execution_count": 39,
   "metadata": {
    "slideshow": {
     "slide_type": "subslide"
    }
   },
   "outputs": [
    {
     "data": {
      "text/plain": [
       "3.141592653589793"
      ]
     },
     "execution_count": 39,
     "metadata": {},
     "output_type": "execute_result"
    }
   ],
   "source": [
    "# The objects \"math\" or \"pi\" do not exist here yet.\n",
    "import math\n",
    "math.pi"
   ]
  },
  {
   "cell_type": "markdown",
   "metadata": {
    "slideshow": {
     "slide_type": "subslide"
    }
   },
   "source": [
    "`pi` is only defined in the context of the `math` module. Without the import statement there's no special meaning attached to neither `math` nor `pi`, and they can be used as normal variables."
   ]
  },
  {
   "cell_type": "code",
   "execution_count": 40,
   "metadata": {
    "slideshow": {
     "slide_type": "subslide"
    }
   },
   "outputs": [
    {
     "data": {
      "text/plain": [
       "'/'"
      ]
     },
     "execution_count": 40,
     "metadata": {},
     "output_type": "execute_result"
    }
   ],
   "source": [
    "import os\n",
    "os.sep"
   ]
  },
  {
   "cell_type": "markdown",
   "metadata": {
    "slideshow": {
     "slide_type": "subslide"
    }
   },
   "source": [
    "When we try to use a function, class or constant from a package (module) we didn't import, we'll receive a `NameError`. That's also the exception raised when we try to use a variable that didn't exist beforehand. This is one of the reasons we always keep our imports at the top of the file."
   ]
  },
  {
   "cell_type": "code",
   "execution_count": 41,
   "metadata": {
    "slideshow": {
     "slide_type": "subslide"
    }
   },
   "outputs": [
    {
     "ename": "NameError",
     "evalue": "name 'cos' is not defined",
     "output_type": "error",
     "traceback": [
      "\u001b[0;31m---------------------------------------------------------------------------\u001b[0m",
      "\u001b[0;31mNameError\u001b[0m                                 Traceback (most recent call last)",
      "\u001b[0;32m<ipython-input-41-e6e58a90c3f4>\u001b[0m in \u001b[0;36m<module>\u001b[0;34m\u001b[0m\n\u001b[1;32m      1\u001b[0m \u001b[0;31m# An exception is raised\u001b[0m\u001b[0;34m\u001b[0m\u001b[0;34m\u001b[0m\u001b[0;34m\u001b[0m\u001b[0m\n\u001b[0;32m----> 2\u001b[0;31m \u001b[0mcos\u001b[0m  \u001b[0;31m# we probably want math.cos, but we didn't import it, so we got a NameError\u001b[0m\u001b[0;34m\u001b[0m\u001b[0;34m\u001b[0m\u001b[0m\n\u001b[0m",
      "\u001b[0;31mNameError\u001b[0m: name 'cos' is not defined"
     ]
    }
   ],
   "source": [
    "# An exception is raised\n",
    "cos  # we probably want math.cos, but we didn't import it, so we got a NameError"
   ]
  },
  {
   "cell_type": "markdown",
   "metadata": {
    "slideshow": {
     "slide_type": "slide"
    }
   },
   "source": [
    "### The Default Python Namespace"
   ]
  },
  {
   "cell_type": "markdown",
   "metadata": {
    "slideshow": {
     "slide_type": "subslide"
    }
   },
   "source": [
    "Python comes with many functions already defined, which we've obviously met:\n",
    "```python\n",
    "list(), dict(), set(), int(), float()\n",
    "```\n",
    "and it also has several keywords, some reserved and some are not:\n",
    "```python\n",
    "int, class, def, return\n",
    "```\n",
    "\n",
    "However, the number of functions and symbols inside the default Python namespace is extremely limited on purpose, definitely in comparison to MATLAB's vast array of default functions."
   ]
  },
  {
   "cell_type": "markdown",
   "metadata": {
    "slideshow": {
     "slide_type": "subslide"
    }
   },
   "source": [
    "The true power of Python comes from its ecosystem. Its one of the largest and most comprehensive around, certainly for a scripting language, and allows you to do basically whatever you want with minimum effort."
   ]
  },
  {
   "cell_type": "markdown",
   "metadata": {
    "slideshow": {
     "slide_type": "subslide"
    }
   },
   "source": [
    "The standard library of Python includes the packages that come with every installation of Python. I didn't have to do anything special to import the `math` module - it was just there, \"waiting\" for me to import it. \n",
    "\n",
    "Most of the functions you'd expect a programming language to have are indeed included in the standard library, available automatically to everyone who downloaded Python. Other modules, including many popular ones, are available online. We'll discuss later how to import them."
   ]
  },
  {
   "cell_type": "markdown",
   "metadata": {
    "slideshow": {
     "slide_type": "subslide"
    }
   },
   "source": [
    "I'll let you discover yourself what is included in the standard library, but some of the highlights include:"
   ]
  },
  {
   "cell_type": "code",
   "execution_count": null,
   "metadata": {
    "scrolled": true,
    "slideshow": {
     "slide_type": "subslide"
    }
   },
   "outputs": [],
   "source": [
    "import pathlib\n",
    "p = pathlib.Path(\".\")\n",
    "print(p.absolute())"
   ]
  },
  {
   "cell_type": "code",
   "execution_count": null,
   "metadata": {
    "slideshow": {
     "slide_type": "subslide"
    }
   },
   "outputs": [],
   "source": [
    "import urllib.request\n",
    "url = urllib.request.urlopen(\"https://www.google.com\")\n",
    "print(url.read())"
   ]
  },
  {
   "cell_type": "markdown",
   "metadata": {
    "slideshow": {
     "slide_type": "subslide"
    }
   },
   "source": [
    "It can be quite irritating to write the full namespace address of all functions. To this end we have the `from` and `as` keywords:"
   ]
  },
  {
   "cell_type": "code",
   "execution_count": null,
   "metadata": {
    "slideshow": {
     "slide_type": "subslide"
    }
   },
   "outputs": [],
   "source": [
    "from math import cos as cosine\n",
    "cosine(1.)"
   ]
  },
  {
   "cell_type": "code",
   "execution_count": null,
   "metadata": {
    "slideshow": {
     "slide_type": "subslide"
    }
   },
   "outputs": [],
   "source": [
    "# Enumerations are great, you should familiarize yourself with them\n",
    "from enum import Enum\n",
    "class Day(Enum):\n",
    "    SUNDAY = 1\n",
    "    MONDAY = 2\n",
    "    TUESDAY = 3\n",
    "    WEDNESDAY = 4\n",
    "    THURSDAY = 5\n",
    "    FRIDAY = 6\n",
    "    SATURDAY = 7\n",
    "\n",
    "d = Day.MONDAY\n",
    "print(d)\n",
    "pp(d)"
   ]
  },
  {
   "cell_type": "code",
   "execution_count": null,
   "metadata": {
    "slideshow": {
     "slide_type": "subslide"
    }
   },
   "outputs": [],
   "source": [
    "from random import randint, randrange"
   ]
  },
  {
   "cell_type": "code",
   "execution_count": null,
   "metadata": {
    "slideshow": {
     "slide_type": "subslide"
    }
   },
   "outputs": [],
   "source": [
    "# Instead (or on top) of from:\n",
    "import multiprocessing.pool as mpool"
   ]
  },
  {
   "cell_type": "code",
   "execution_count": null,
   "metadata": {
    "slideshow": {
     "slide_type": "subslide"
    }
   },
   "outputs": [],
   "source": [
    "# A non-recommended version of importing is the star import\n",
    "from math import *\n",
    "print(pi)\n",
    "print(e)\n",
    "print(cos(pi))"
   ]
  },
  {
   "cell_type": "markdown",
   "metadata": {
    "slideshow": {
     "slide_type": "subslide"
    }
   },
   "source": [
    "The list of all standard library modules in Python 3 is [here](https://docs.python.org/3/library/index.html). However, it's just a drop in the ocean that is the Python ecosystem. "
   ]
  },
  {
   "cell_type": "markdown",
   "metadata": {
    "slideshow": {
     "slide_type": "slide"
    }
   },
   "source": [
    "## `pip` and External Modules"
   ]
  },
  {
   "cell_type": "markdown",
   "metadata": {
    "slideshow": {
     "slide_type": "subslide"
    }
   },
   "source": [
    "As noted before, Python's gigantic ecosystem is one of its biggest strengths. And the fact that you can easily install many of these package with a simple command-line instruction is even more important. The standard tool to do that is `pip`, a recursive acronym that stands for \"`pip` installs Python\"."
   ]
  },
  {
   "cell_type": "markdown",
   "metadata": {
    "slideshow": {
     "slide_type": "subslide"
    }
   },
   "source": [
    "`pip` itself is a Python program, __but its not run from inside the Python interpreter.__ Instead its run from a shell - the Windows command line (or PowerShell), for example, or the Mac's terminal - making it an external application to Python. Happily enough, basically all Python distributions come with `pip` pre-installed, so you don't have to install it yourself.\n",
    "\n",
    "To install a library with pip, open a command line (in VSCode you can simply press Ctrl + ~) and type `pip install package_name`. "
   ]
  },
  {
   "cell_type": "markdown",
   "metadata": {
    "slideshow": {
     "slide_type": "subslide"
    }
   },
   "source": [
    "`pip`, like any package manager, has two main jobs. The first is to provide a convenient API to a package repository. In essence, it's a download manager for a single site - the [Python Package Index](https://pypi.python.org/pypi) (PyPI, pronounced **pai-pee-eye**), the official Python repository for packages.\n",
    "\n",
    "PyPI holds installation files for the packages hosted in it, alongside with some metadata, like version number and dependencies. `pip` (and other tools we'll discuss soon) downloads the wanted package from PyPI, together with its dependencies, and installs them in a pre-defined location in our personal computer."
   ]
  },
  {
   "cell_type": "markdown",
   "metadata": {
    "slideshow": {
     "slide_type": "subslide"
    }
   },
   "source": [
    "`pip`'s second important job is handling dependencies. Many packages rely on other packages, which in turn rely on other, more basic packages, finally leading to the basic Python interpreter. `pip` has to make sure to install all dependencies of the package you're currently after, and to avoid any collisions with other installed packages. For example, a common problem in the Python world is the Python 2-3 schism, which means that packages written for Python 2 can't run on a Python 3 interpreter, and vice versa. The package manger's job is to grant you the right version of the package you're looking for."
   ]
  },
  {
   "cell_type": "markdown",
   "metadata": {},
   "source": [
    "### Comparison with MATLAB's approach\n",
    "\n",
    "We should take a minute here to contrast Python's approach with that of MATLAB. In MATLAB, once we added a directory to the path using `pathtool`, each file in that file is now directly in the MATLAB namespace. This means that we don't have to `import` anything - adding something to `pathtool` is essentially `import`ing the entire folder into the general namespace, which is the only namespace in MATLAB world. This is a pretty straight-forward approach, but it's also one that no other programming language, especially a modern one, uses. This is because cluttering the one and only namespace is a bad idea, since you can quite easily overwrite names of functions from files with names of variables you use, and you won't even know it. Moreover, you don't need **all** functions around **all** the time. Each file and project will usually need a few different functions from a couple of toolboxes, and that's it. \n",
    "\n",
    "In Python we have another layer between our code and the `import`-able functions. Inside our code we can only use built-in functions (`list()`, `int()`, `print()`, etc.) and functions that we explicitly imported, which will vary between files and project. In addition, we can only call `import` on files and packages which are in our Python's path. We'll discuss Python's equivilant of `pathtool` in the next class, but for now you should see the separation Python forces on us between the specific file's namespace and the general Python namespace (what packages can we even import)."
   ]
  },
  {
   "cell_type": "markdown",
   "metadata": {
    "slideshow": {
     "slide_type": "slide"
    }
   },
   "source": [
    "## File Structure"
   ]
  },
  {
   "cell_type": "markdown",
   "metadata": {
    "slideshow": {
     "slide_type": "subslide"
    }
   },
   "source": [
    "`import` statements are useful for more than just importing code - they're also our way of arranging our project's files. Here's the standard arrangement of files I'd like you to use throughout the course:"
   ]
  },
  {
   "cell_type": "raw",
   "metadata": {
    "slideshow": {
     "slide_type": "subslide"
    }
   },
   "source": [
    "- /home/\n",
    "    - my_proj/\n",
    "        - project_name/\n",
    "            - `__init__.py`\n",
    "            - `class1.py\n",
    "            - `class2.py`\n",
    "        - setup.py\n",
    "        - README.md\n",
    "        - config.cfg\n",
    "        - data/\n",
    "            - data.tif\n",
    "            - recordings.csv\n",
    "        - .git\n",
    "        \n",
    "    - other_proj/\n",
    "    - yet_another/"
   ]
  },
  {
   "cell_type": "markdown",
   "metadata": {
    "slideshow": {
     "slide_type": "subslide"
    }
   },
   "source": [
    "The base folder can contain many other files, including sample data, for example. The point here is that your actual code in confined to the `project_name` folder, which has an empty `__init__.py`. This file allows Python to import user-defined objects from that folder.\n",
    "\n",
    "Thus, if you wish to use a function you defined in `class_1.py` in `class_2.py`, you should write inside `class_2.py` the following statement: `from class_1.py import my_func`."
   ]
  },
  {
   "cell_type": "markdown",
   "metadata": {
    "slideshow": {
     "slide_type": "slide"
    }
   },
   "source": [
    "## Scripts and Functions \n",
    "*Code examples in `import_demonstration` folder*"
   ]
  },
  {
   "cell_type": "markdown",
   "metadata": {
    "slideshow": {
     "slide_type": "subslide"
    }
   },
   "source": [
    "If you're familiar with MATLAB there's a good chance that you've written a script before. A script is a file which is run sequentially, while using other functions and definitions. Python supports scripts as well, as can be seen in `main.py`."
   ]
  },
  {
   "cell_type": "markdown",
   "metadata": {
    "slideshow": {
     "slide_type": "subslide"
    }
   },
   "source": [
    "However, in the Python world people usually prefer to stay away from scripts. This is due to a number of reasons, the most important one being that running a `main()` function as it is easy as running a `main.py` script. You can see examples of a procedural and script-like approach in the `main.py` file, but keep in mind the the script version is discouraged."
   ]
  },
  {
   "cell_type": "markdown",
   "metadata": {
    "slideshow": {
     "slide_type": "subslide"
    }
   },
   "source": [
    "If you wish to run a file full with functions from the command line or from your IDE, you should include the following lines:\n",
    "```python\n",
    "if __name__ == '__main__':\n",
    "    run_main()\n",
    "```"
   ]
  },
  {
   "cell_type": "markdown",
   "metadata": {
    "slideshow": {
     "slide_type": "subslide"
    }
   },
   "source": [
    "Every Python file which is being run has a caller. If this file was run directly from the Python interpreter its `__name__` will be `'__main__'`. This `if` statement basically tells the Python interpreter \"Start from here\", and is the conventional way to run Python procedures."
   ]
  },
  {
   "cell_type": "markdown",
   "metadata": {
    "slideshow": {
     "slide_type": "subslide"
    }
   },
   "source": [
    "In this course you're highly encouraged to divide your code into many small functions and methods in well-defined compact classes. Each method should have a single purpose, documented in its docstring. Each class should have a logical structure that envelopes its methods and attributes in a sensible way.\n",
    "\n",
    "Beware of God classes, or God scripts and functions. These are monolithic objects that encompass the entirety of your application, and are very hard to reason about. Simply create more files, each with a descriptive name and a bunch of related functions, and import this file into the other folders and main file.\n",
    "\n",
    "Another important reason to partition our code into many small bits is *unit testing* which we'll cover later on in the course."
   ]
  },
  {
   "cell_type": "markdown",
   "metadata": {
    "slideshow": {
     "slide_type": "subslide"
    }
   },
   "source": [
    "Importing code from one file to the other isn't as easy as you'd like it to be, especially since each language deals with this issue in a different way. It's completely expected that you won't be able to 'nail' the first couple of import statements you write. Keep trying, verify that your code is in the right directory structure, and don't be afraid to ask friends, Google or me."
   ]
  }
 ],
 "metadata": {
  "anaconda-cloud": {},
  "celltoolbar": "Slideshow",
  "kernelspec": {
   "display_name": "Python 3",
   "language": "python",
   "name": "python3"
  },
  "language_info": {
   "codemirror_mode": {
    "name": "ipython",
    "version": 3
   },
   "file_extension": ".py",
   "mimetype": "text/x-python",
   "name": "python",
   "nbconvert_exporter": "python",
   "pygments_lexer": "ipython3",
   "version": "3.8.0"
  }
 },
 "nbformat": 4,
 "nbformat_minor": 2
}
